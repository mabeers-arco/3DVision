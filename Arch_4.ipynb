{
  "nbformat": 4,
  "nbformat_minor": 0,
  "metadata": {
    "colab": {
      "name": "Arch_4.ipynb",
      "provenance": [],
      "collapsed_sections": [],
      "toc_visible": true,
      "authorship_tag": "ABX9TyNNPp+lDNiQ8jWHEkZO5zUs",
      "include_colab_link": true
    },
    "kernelspec": {
      "name": "python3",
      "display_name": "Python 3"
    }
  },
  "cells": [
    {
      "cell_type": "markdown",
      "metadata": {
        "id": "view-in-github",
        "colab_type": "text"
      },
      "source": [
        "<a href=\"https://colab.research.google.com/github/mabeers-arco/3DVision/blob/main/Arch_4.ipynb\" target=\"_parent\"><img src=\"https://colab.research.google.com/assets/colab-badge.svg\" alt=\"Open In Colab\"/></a>"
      ]
    },
    {
      "cell_type": "markdown",
      "metadata": {
        "id": "6UjXvAKmN-1y"
      },
      "source": [
        "## Network Architecture 4\n",
        "Changes from Arch 3\n",
        "*   Additional planarity constraint implemented - if face is [1,2,3] then there are 3 angles of interest, [1,2,3], [2,3,1] and [3,1,2]. So pad [1,2,3] to [1,2,3,1,2] and window along with window size 3 until encounter -1 which is the padded value.\n",
        "*  Added animated plots\n",
        "*  Added numerical summary of shape\n",
        "*  Based on a slightly larger version of LeNet.\n",
        "\n",
        "Results\n",
        "*   Much better reconstructions than before. \n",
        "*   Neural network written in such a way that the GPU is actually slower. So that's something to look in to. \n",
        "*   Need over 100 epochs to limit to the maximum performance of the network, which takes about 20 minutes. \n",
        "\n",
        "\n",
        "To Do\n",
        "* Write conn2conn transformation function\n",
        "* If results look ok with objects all with center at origin, then create new dataset such that the objects are no longer centered at the origin. Alternatively, consider training on something more interesting than cuboid objects. \n"
      ]
    },
    {
      "cell_type": "markdown",
      "metadata": {
        "id": "b3NqGiHHzUf8"
      },
      "source": [
        "## Initialize Google Drive"
      ]
    },
    {
      "cell_type": "code",
      "metadata": {
        "id": "TI87gcuGzTUX",
        "colab": {
          "base_uri": "https://localhost:8080/"
        },
        "outputId": "b67ef10c-fd3b-46c6-fa1e-2a59fb4e580e"
      },
      "source": [
        "from google.colab import drive\n",
        "drive.mount('/content/drive')"
      ],
      "execution_count": 1,
      "outputs": [
        {
          "output_type": "stream",
          "text": [
            "Drive already mounted at /content/drive; to attempt to forcibly remount, call drive.mount(\"/content/drive\", force_remount=True).\n"
          ],
          "name": "stdout"
        }
      ]
    },
    {
      "cell_type": "markdown",
      "metadata": {
        "id": "wq27gHTnzC34"
      },
      "source": [
        "## Imports"
      ]
    },
    {
      "cell_type": "code",
      "metadata": {
        "id": "kUdyEwtIzA4s"
      },
      "source": [
        "import matplotlib\n",
        "import torch\n",
        "import torch.nn as nn\n",
        "import numpy as np\n",
        "import pickle\n",
        "import pandas as pd\n",
        "import matplotlib.pyplot as plt\n",
        "import sys\n",
        "import collections\n",
        "import math\n",
        "import sys\n",
        "sys.path.append('/content/drive/MyDrive/239 Project ')\n",
        "from data_functions import *\n",
        "from itertools import combinations\n",
        "import time\n",
        "import datetime"
      ],
      "execution_count": 2,
      "outputs": []
    },
    {
      "cell_type": "code",
      "metadata": {
        "id": "90Nw5De4-tDz"
      },
      "source": [
        ""
      ],
      "execution_count": 2,
      "outputs": []
    },
    {
      "cell_type": "markdown",
      "metadata": {
        "id": "kROV2OwL1Oks"
      },
      "source": [
        "## Load Data "
      ]
    },
    {
      "cell_type": "markdown",
      "metadata": {
        "id": "5HdUNb78nd9x"
      },
      "source": [
        "### Define Object Class and function to read in pickle data"
      ]
    },
    {
      "cell_type": "code",
      "metadata": {
        "id": "LxxWhZN3hYdX"
      },
      "source": [
        "class object_data():\n",
        "    def __init__(self, label, xyz, xyz_proj, vis_faces, conn, deg, angs, sda, device):\n",
        "        self.label = label\n",
        "        self.xyz = torch.tensor(xyz, dtype=torch.float32).to(device).transpose(0,1)\n",
        "        self.conn = torch.tensor(conn, dtype=torch.float32).unsqueeze(0).to(device) \n",
        "        self.deg = torch.tensor(deg, dtype=torch.float32).to(device) \n",
        "        self.angs = torch.tensor(angs, dtype=torch.float32).unsqueeze(0).to(device) \n",
        "        self.sda = torch.tensor(sda, dtype=torch.float32).unsqueeze(0).to(device) \n",
        "        self.xyz_proj = torch.tensor(xyz_proj, dtype=torch.float32).to(device).transpose(0,1)\n",
        "        self.vis_faces = vis_faces\n",
        "        self.device = device\n",
        "\n",
        "    def show(self, projected = False):\n",
        "        #credit: https://stackoverflow.com/questions/42301481/adding-specific-lines-to-a-plotly-scatter3d-plot\n",
        "        pairs = get_edge_vert_pairs_from(self.conn)\n",
        "        if projected:\n",
        "            X = self.xyz_proj[0]\n",
        "            Y = self.xyz_proj[1]\n",
        "            Z = self.xyz_proj[2]\n",
        "            print(\"Vertices = \\n\", self.xyz_proj)\n",
        "        else:\n",
        "            X = self.xyz[0]\n",
        "            Y = self.xyz[1]\n",
        "            Z = self.xyz[2]\n",
        "            print(\"Vertices = \\n\", self.xyz)\n",
        "\n",
        "        print(\"Faces = \", self.vis_faces)\n",
        "\n",
        "            \n",
        "        trace1 = go.Scatter3d(\n",
        "            x=X,\n",
        "            y=Y,\n",
        "            z=Z,\n",
        "            text = [str(i) for i in range(len(X))],\n",
        "            mode='markers+text',\n",
        "            name='Vertices'\n",
        "        )\n",
        "\n",
        "        x_lines = list()\n",
        "        y_lines = list()\n",
        "        z_lines = list()\n",
        "\n",
        "        #create the coordinate list for the lines\n",
        "        for p in pairs:\n",
        "            for i in range(2):\n",
        "                x_lines.append(X[p[i]])\n",
        "                y_lines.append(Y[p[i]])\n",
        "                z_lines.append(Z[p[i]])\n",
        "            x_lines.append(None)\n",
        "            y_lines.append(None)\n",
        "            z_lines.append(None)\n",
        "\n",
        "        trace2 = go.Scatter3d(\n",
        "            x=x_lines,\n",
        "            y=y_lines,\n",
        "            z=z_lines,\n",
        "            mode='lines',\n",
        "            name='Edges'\n",
        "        )\n",
        "\n",
        "        fig = go.Figure(data=[trace1, trace2])\n",
        "        fig.show()\n",
        "\n",
        "    #     plotly.offline.iplot(fig, filename='simple-3d-scatter')\n",
        "    #     print(self.xyz.transpose(0,1))\n",
        "    #     fig = go.Figure(data=go.Scatter3d(x=self.xyz[0], y=self.xyz[1], z=self.xyz[2], mode='markers'))\n",
        "    #     fig.show()\n",
        "    \n",
        "    def show2d(self):\n",
        "        pairs = get_edge_vert_pairs_from(self.conn)\n",
        "        lines = []\n",
        "        for p in pairs:\n",
        "            x0 = self.xyz_proj[0, p[0]]\n",
        "            y0 = self.xyz_proj[1, p[0]]\n",
        "            x1 = self.xyz_proj[0, p[1]]\n",
        "            y1 = self.xyz_proj[1, p[1]]\n",
        "            lines.append([(x0,y0), (x1, y1)])\n",
        "\n",
        "        lc = matplotlib.collections.LineCollection(lines, color = \"orange\", linewidths=1)\n",
        "        fig, ax = pylab.subplots(figsize = (8, 4.5))\n",
        "        ax.add_collection(lc)\n",
        "        ax.scatter(self.xyz_proj[0,:], self.xyz_proj[1,:])\n",
        "        matplotlib.pyplot.xlim(0,1)\n",
        "        matplotlib.pyplot.ylim(0,1)\n",
        "        plt.show()\n",
        "\n",
        "\n",
        "def read_in_object_data(fpath, device):\n",
        "    with open(fpath, 'rb') as f:\n",
        "        data = pickle.load(f)\n",
        "        print(len(data)/8)\n",
        "        object_list = []\n",
        "        for i in range(len(data)):\n",
        "            if(i%8 > 0): # why do we take every fifth object? \n",
        "                continue\n",
        "            object_summary = object_data(label = data[i],\n",
        "                                         xyz = data[i+1],\n",
        "                                         vis_faces = data[i+2],\n",
        "                                         xyz_proj = data[i+3],\n",
        "                                         conn = data[i+4], \n",
        "                                         deg = data[i+5], \n",
        "                                         angs = data[i+6],\n",
        "                                         sda = data[i+7], \n",
        "                                         device = device)\n",
        "            object_list.append(object_summary)\n",
        "\n",
        "    return object_list\n",
        "\n",
        "\n",
        "def get_angle(p1, p2, p3):\n",
        "  \"\"\"\n",
        "  Given 3 (x,y,z) 3x1 tensors p1, p2, p3, computes angle between p1 - p2 and p3 - p2\n",
        "  using the dot product cosine rule. \n",
        "  \"\"\"\n",
        "  e1 = p1 - p2\n",
        "  e2 = p3 - p2\n",
        "  x = torch.dot(e1, e2)/(torch.norm(e1) * torch.norm(e2))\n",
        "  return torch.rad2deg(torch.acos(x))\n",
        "\n",
        "\n",
        "def show_list_of_objects2d(object_list):\n",
        "    n = math.ceil(math.sqrt(len(object_list)))\n",
        "    fig, axs = plt.subplots(n, n, figsize = (14, 9))\n",
        "    counter = 0\n",
        "    for i in range(n):\n",
        "        for j in range(n):\n",
        "            if counter == len(object_list):\n",
        "                break\n",
        "            ob = object_list[counter]\n",
        "            pairs = get_edge_vert_pairs_from(ob.conn)\n",
        "            lines = []\n",
        "            for p in pairs:\n",
        "                x0 = ob.xyz_proj[0, p[0]]\n",
        "                y0 = ob.xyz_proj[1, p[0]]\n",
        "                x1 = ob.xyz_proj[0, p[1]]\n",
        "                y1 = ob.xyz_proj[1, p[1]]\n",
        "                lines.append([(x0,y0), (x1, y1)])\n",
        "\n",
        "            lc = matplotlib.collections.LineCollection(lines, color = \"orange\", linewidths=1)\n",
        "            axs[i, j].add_collection(lc)\n",
        "            axs[i, j].scatter(ob.xyz_proj[0,:], ob.xyz_proj[1,:])\n",
        "            axs[i, j].set_xlim(-2,2)\n",
        "            axs[i, j].set_ylim(-2,2)\n",
        "            counter += 1"
      ],
      "execution_count": 3,
      "outputs": []
    },
    {
      "cell_type": "markdown",
      "metadata": {
        "id": "7Rr22ejvnpfs"
      },
      "source": [
        "### Load Data and Visualize"
      ]
    },
    {
      "cell_type": "code",
      "metadata": {
        "id": "2SRLVMa2zMqN",
        "colab": {
          "base_uri": "https://localhost:8080/"
        },
        "outputId": "5f8d6b49-e21c-4a2e-a968-b18c33d2ced6"
      },
      "source": [
        "device = \"cpu\"\n",
        "train_path = '/content/drive/MyDrive/239 Project /dataARCO5.pickle'\n",
        "objects = read_in_object_data(train_path, device=device)"
      ],
      "execution_count": 4,
      "outputs": [
        {
          "output_type": "stream",
          "text": [
            "3500.0\n"
          ],
          "name": "stdout"
        }
      ]
    },
    {
      "cell_type": "code",
      "metadata": {
        "colab": {
          "base_uri": "https://localhost:8080/",
          "height": 644
        },
        "id": "5nm6MeeQPnK6",
        "outputId": "21d09dad-e656-4efb-e3f8-4e06908a6c3a"
      },
      "source": [
        "k = np.random.choice(len(objects), 1)[0]\n",
        "print(\"k = \", k)\n",
        "objects[k].show(projected=True)"
      ],
      "execution_count": 5,
      "outputs": [
        {
          "output_type": "stream",
          "text": [
            "k =  774\n",
            "Vertices = \n",
            " tensor([[ -0.9607,  -0.5135,   0.8935,  -0.7537,  -0.3064,   1.1005,   0.1158],\n",
            "        [  0.3052,  -0.0172,  -0.0438,   1.2612,   0.9389,   0.9122,   1.2448],\n",
            "        [-11.4351, -10.3968, -11.6767, -11.2274, -10.1892, -11.4690, -12.0184]])\n",
            "Faces =  [[3, 4, 5, 6], [1, 2, 5, 4], [0, 1, 4, 3]]\n"
          ],
          "name": "stdout"
        },
        {
          "output_type": "display_data",
          "data": {
            "text/html": [
              "<html>\n",
              "<head><meta charset=\"utf-8\" /></head>\n",
              "<body>\n",
              "    <div>            <script src=\"https://cdnjs.cloudflare.com/ajax/libs/mathjax/2.7.5/MathJax.js?config=TeX-AMS-MML_SVG\"></script><script type=\"text/javascript\">if (window.MathJax) {MathJax.Hub.Config({SVG: {font: \"STIX-Web\"}});}</script>                <script type=\"text/javascript\">window.PlotlyConfig = {MathJaxConfig: 'local'};</script>\n",
              "        <script src=\"https://cdn.plot.ly/plotly-latest.min.js\"></script>                <div id=\"4ff04c5f-9274-42b9-8f5d-451955998bf1\" class=\"plotly-graph-div\" style=\"height:525px; width:100%;\"></div>            <script type=\"text/javascript\">                                    window.PLOTLYENV=window.PLOTLYENV || {};                                    if (document.getElementById(\"4ff04c5f-9274-42b9-8f5d-451955998bf1\")) {                    Plotly.newPlot(                        \"4ff04c5f-9274-42b9-8f5d-451955998bf1\",                        [{\"mode\": \"markers+text\", \"name\": \"Vertices\", \"text\": [\"0\", \"1\", \"2\", \"3\", \"4\", \"5\", \"6\"], \"type\": \"scatter3d\", \"x\": [-0.9607005715370178, -0.5134535431861877, 0.8934540152549744, -0.7536945939064026, -0.3064480423927307, 1.1004599332809448, 0.11582225561141968], \"y\": [0.3051919937133789, -0.017184853553771973, -0.043805599212646484, 1.2612357139587402, 0.9388586282730103, 0.9122376441955566, 1.2447831630706787], \"z\": [-11.435104370117188, -10.396832466125488, -11.676651000976562, -11.227428436279297, -10.189156532287598, -11.468975067138672, -12.018400192260742]}, {\"mode\": \"lines\", \"name\": \"Edges\", \"type\": \"scatter3d\", \"x\": [-0.9607005715370178, -0.5134535431861877, null, -0.5134535431861877, 0.8934540152549744, null, -0.7536945939064026, -0.3064480423927307, null, -0.3064480423927307, 1.1004599332809448, null, 1.1004599332809448, 0.11582225561141968, null, -0.9607005715370178, -0.7536945939064026, null, -0.5134535431861877, -0.3064480423927307, null, 0.8934540152549744, 1.1004599332809448, null, -0.7536945939064026, 0.11582225561141968, null], \"y\": [0.3051919937133789, -0.017184853553771973, null, -0.017184853553771973, -0.043805599212646484, null, 1.2612357139587402, 0.9388586282730103, null, 0.9388586282730103, 0.9122376441955566, null, 0.9122376441955566, 1.2447831630706787, null, 0.3051919937133789, 1.2612357139587402, null, -0.017184853553771973, 0.9388586282730103, null, -0.043805599212646484, 0.9122376441955566, null, 1.2612357139587402, 1.2447831630706787, null], \"z\": [-11.435104370117188, -10.396832466125488, null, -10.396832466125488, -11.676651000976562, null, -11.227428436279297, -10.189156532287598, null, -10.189156532287598, -11.468975067138672, null, -11.468975067138672, -12.018400192260742, null, -11.435104370117188, -11.227428436279297, null, -10.396832466125488, -10.189156532287598, null, -11.676651000976562, -11.468975067138672, null, -11.227428436279297, -12.018400192260742, null]}],                        {\"template\": {\"data\": {\"bar\": [{\"error_x\": {\"color\": \"#2a3f5f\"}, \"error_y\": {\"color\": \"#2a3f5f\"}, \"marker\": {\"line\": {\"color\": \"#E5ECF6\", \"width\": 0.5}}, \"type\": \"bar\"}], \"barpolar\": [{\"marker\": {\"line\": {\"color\": \"#E5ECF6\", \"width\": 0.5}}, \"type\": \"barpolar\"}], \"carpet\": [{\"aaxis\": {\"endlinecolor\": \"#2a3f5f\", \"gridcolor\": \"white\", \"linecolor\": \"white\", \"minorgridcolor\": \"white\", \"startlinecolor\": \"#2a3f5f\"}, \"baxis\": {\"endlinecolor\": \"#2a3f5f\", \"gridcolor\": \"white\", \"linecolor\": \"white\", \"minorgridcolor\": \"white\", \"startlinecolor\": \"#2a3f5f\"}, \"type\": \"carpet\"}], \"choropleth\": [{\"colorbar\": {\"outlinewidth\": 0, \"ticks\": \"\"}, \"type\": \"choropleth\"}], \"contour\": [{\"colorbar\": {\"outlinewidth\": 0, \"ticks\": \"\"}, \"colorscale\": [[0.0, \"#0d0887\"], [0.1111111111111111, \"#46039f\"], [0.2222222222222222, \"#7201a8\"], [0.3333333333333333, \"#9c179e\"], [0.4444444444444444, \"#bd3786\"], [0.5555555555555556, \"#d8576b\"], [0.6666666666666666, \"#ed7953\"], [0.7777777777777778, \"#fb9f3a\"], [0.8888888888888888, \"#fdca26\"], [1.0, \"#f0f921\"]], \"type\": \"contour\"}], \"contourcarpet\": [{\"colorbar\": {\"outlinewidth\": 0, \"ticks\": \"\"}, \"type\": \"contourcarpet\"}], \"heatmap\": [{\"colorbar\": {\"outlinewidth\": 0, \"ticks\": \"\"}, \"colorscale\": [[0.0, \"#0d0887\"], [0.1111111111111111, \"#46039f\"], [0.2222222222222222, \"#7201a8\"], [0.3333333333333333, \"#9c179e\"], [0.4444444444444444, \"#bd3786\"], [0.5555555555555556, \"#d8576b\"], [0.6666666666666666, \"#ed7953\"], [0.7777777777777778, \"#fb9f3a\"], [0.8888888888888888, \"#fdca26\"], [1.0, \"#f0f921\"]], \"type\": \"heatmap\"}], \"heatmapgl\": [{\"colorbar\": {\"outlinewidth\": 0, \"ticks\": \"\"}, \"colorscale\": [[0.0, \"#0d0887\"], [0.1111111111111111, \"#46039f\"], [0.2222222222222222, \"#7201a8\"], [0.3333333333333333, \"#9c179e\"], [0.4444444444444444, \"#bd3786\"], [0.5555555555555556, \"#d8576b\"], [0.6666666666666666, \"#ed7953\"], [0.7777777777777778, \"#fb9f3a\"], [0.8888888888888888, \"#fdca26\"], [1.0, \"#f0f921\"]], \"type\": \"heatmapgl\"}], \"histogram\": [{\"marker\": {\"colorbar\": {\"outlinewidth\": 0, \"ticks\": \"\"}}, \"type\": \"histogram\"}], \"histogram2d\": [{\"colorbar\": {\"outlinewidth\": 0, \"ticks\": \"\"}, \"colorscale\": [[0.0, \"#0d0887\"], [0.1111111111111111, \"#46039f\"], [0.2222222222222222, \"#7201a8\"], [0.3333333333333333, \"#9c179e\"], [0.4444444444444444, \"#bd3786\"], [0.5555555555555556, \"#d8576b\"], [0.6666666666666666, \"#ed7953\"], [0.7777777777777778, \"#fb9f3a\"], [0.8888888888888888, \"#fdca26\"], [1.0, \"#f0f921\"]], \"type\": \"histogram2d\"}], \"histogram2dcontour\": [{\"colorbar\": {\"outlinewidth\": 0, \"ticks\": \"\"}, \"colorscale\": [[0.0, \"#0d0887\"], [0.1111111111111111, \"#46039f\"], [0.2222222222222222, \"#7201a8\"], [0.3333333333333333, \"#9c179e\"], [0.4444444444444444, \"#bd3786\"], [0.5555555555555556, \"#d8576b\"], [0.6666666666666666, \"#ed7953\"], [0.7777777777777778, \"#fb9f3a\"], [0.8888888888888888, \"#fdca26\"], [1.0, \"#f0f921\"]], \"type\": \"histogram2dcontour\"}], \"mesh3d\": [{\"colorbar\": {\"outlinewidth\": 0, \"ticks\": \"\"}, \"type\": \"mesh3d\"}], \"parcoords\": [{\"line\": {\"colorbar\": {\"outlinewidth\": 0, \"ticks\": \"\"}}, \"type\": \"parcoords\"}], \"pie\": [{\"automargin\": true, \"type\": \"pie\"}], \"scatter\": [{\"marker\": {\"colorbar\": {\"outlinewidth\": 0, \"ticks\": \"\"}}, \"type\": \"scatter\"}], \"scatter3d\": [{\"line\": {\"colorbar\": {\"outlinewidth\": 0, \"ticks\": \"\"}}, \"marker\": {\"colorbar\": {\"outlinewidth\": 0, \"ticks\": \"\"}}, \"type\": \"scatter3d\"}], \"scattercarpet\": [{\"marker\": {\"colorbar\": {\"outlinewidth\": 0, \"ticks\": \"\"}}, \"type\": \"scattercarpet\"}], \"scattergeo\": [{\"marker\": {\"colorbar\": {\"outlinewidth\": 0, \"ticks\": \"\"}}, \"type\": \"scattergeo\"}], \"scattergl\": [{\"marker\": {\"colorbar\": {\"outlinewidth\": 0, \"ticks\": \"\"}}, \"type\": \"scattergl\"}], \"scattermapbox\": [{\"marker\": {\"colorbar\": {\"outlinewidth\": 0, \"ticks\": \"\"}}, \"type\": \"scattermapbox\"}], \"scatterpolar\": [{\"marker\": {\"colorbar\": {\"outlinewidth\": 0, \"ticks\": \"\"}}, \"type\": \"scatterpolar\"}], \"scatterpolargl\": [{\"marker\": {\"colorbar\": {\"outlinewidth\": 0, \"ticks\": \"\"}}, \"type\": \"scatterpolargl\"}], \"scatterternary\": [{\"marker\": {\"colorbar\": {\"outlinewidth\": 0, \"ticks\": \"\"}}, \"type\": \"scatterternary\"}], \"surface\": [{\"colorbar\": {\"outlinewidth\": 0, \"ticks\": \"\"}, \"colorscale\": [[0.0, \"#0d0887\"], [0.1111111111111111, \"#46039f\"], [0.2222222222222222, \"#7201a8\"], [0.3333333333333333, \"#9c179e\"], [0.4444444444444444, \"#bd3786\"], [0.5555555555555556, \"#d8576b\"], [0.6666666666666666, \"#ed7953\"], [0.7777777777777778, \"#fb9f3a\"], [0.8888888888888888, \"#fdca26\"], [1.0, \"#f0f921\"]], \"type\": \"surface\"}], \"table\": [{\"cells\": {\"fill\": {\"color\": \"#EBF0F8\"}, \"line\": {\"color\": \"white\"}}, \"header\": {\"fill\": {\"color\": \"#C8D4E3\"}, \"line\": {\"color\": \"white\"}}, \"type\": \"table\"}]}, \"layout\": {\"annotationdefaults\": {\"arrowcolor\": \"#2a3f5f\", \"arrowhead\": 0, \"arrowwidth\": 1}, \"autotypenumbers\": \"strict\", \"coloraxis\": {\"colorbar\": {\"outlinewidth\": 0, \"ticks\": \"\"}}, \"colorscale\": {\"diverging\": [[0, \"#8e0152\"], [0.1, \"#c51b7d\"], [0.2, \"#de77ae\"], [0.3, \"#f1b6da\"], [0.4, \"#fde0ef\"], [0.5, \"#f7f7f7\"], [0.6, \"#e6f5d0\"], [0.7, \"#b8e186\"], [0.8, \"#7fbc41\"], [0.9, \"#4d9221\"], [1, \"#276419\"]], \"sequential\": [[0.0, \"#0d0887\"], [0.1111111111111111, \"#46039f\"], [0.2222222222222222, \"#7201a8\"], [0.3333333333333333, \"#9c179e\"], [0.4444444444444444, \"#bd3786\"], [0.5555555555555556, \"#d8576b\"], [0.6666666666666666, \"#ed7953\"], [0.7777777777777778, \"#fb9f3a\"], [0.8888888888888888, \"#fdca26\"], [1.0, \"#f0f921\"]], \"sequentialminus\": [[0.0, \"#0d0887\"], [0.1111111111111111, \"#46039f\"], [0.2222222222222222, \"#7201a8\"], [0.3333333333333333, \"#9c179e\"], [0.4444444444444444, \"#bd3786\"], [0.5555555555555556, \"#d8576b\"], [0.6666666666666666, \"#ed7953\"], [0.7777777777777778, \"#fb9f3a\"], [0.8888888888888888, \"#fdca26\"], [1.0, \"#f0f921\"]]}, \"colorway\": [\"#636efa\", \"#EF553B\", \"#00cc96\", \"#ab63fa\", \"#FFA15A\", \"#19d3f3\", \"#FF6692\", \"#B6E880\", \"#FF97FF\", \"#FECB52\"], \"font\": {\"color\": \"#2a3f5f\"}, \"geo\": {\"bgcolor\": \"white\", \"lakecolor\": \"white\", \"landcolor\": \"#E5ECF6\", \"showlakes\": true, \"showland\": true, \"subunitcolor\": \"white\"}, \"hoverlabel\": {\"align\": \"left\"}, \"hovermode\": \"closest\", \"mapbox\": {\"style\": \"light\"}, \"paper_bgcolor\": \"white\", \"plot_bgcolor\": \"#E5ECF6\", \"polar\": {\"angularaxis\": {\"gridcolor\": \"white\", \"linecolor\": \"white\", \"ticks\": \"\"}, \"bgcolor\": \"#E5ECF6\", \"radialaxis\": {\"gridcolor\": \"white\", \"linecolor\": \"white\", \"ticks\": \"\"}}, \"scene\": {\"xaxis\": {\"backgroundcolor\": \"#E5ECF6\", \"gridcolor\": \"white\", \"gridwidth\": 2, \"linecolor\": \"white\", \"showbackground\": true, \"ticks\": \"\", \"zerolinecolor\": \"white\"}, \"yaxis\": {\"backgroundcolor\": \"#E5ECF6\", \"gridcolor\": \"white\", \"gridwidth\": 2, \"linecolor\": \"white\", \"showbackground\": true, \"ticks\": \"\", \"zerolinecolor\": \"white\"}, \"zaxis\": {\"backgroundcolor\": \"#E5ECF6\", \"gridcolor\": \"white\", \"gridwidth\": 2, \"linecolor\": \"white\", \"showbackground\": true, \"ticks\": \"\", \"zerolinecolor\": \"white\"}}, \"shapedefaults\": {\"line\": {\"color\": \"#2a3f5f\"}}, \"ternary\": {\"aaxis\": {\"gridcolor\": \"white\", \"linecolor\": \"white\", \"ticks\": \"\"}, \"baxis\": {\"gridcolor\": \"white\", \"linecolor\": \"white\", \"ticks\": \"\"}, \"bgcolor\": \"#E5ECF6\", \"caxis\": {\"gridcolor\": \"white\", \"linecolor\": \"white\", \"ticks\": \"\"}}, \"title\": {\"x\": 0.05}, \"xaxis\": {\"automargin\": true, \"gridcolor\": \"white\", \"linecolor\": \"white\", \"ticks\": \"\", \"title\": {\"standoff\": 15}, \"zerolinecolor\": \"white\", \"zerolinewidth\": 2}, \"yaxis\": {\"automargin\": true, \"gridcolor\": \"white\", \"linecolor\": \"white\", \"ticks\": \"\", \"title\": {\"standoff\": 15}, \"zerolinecolor\": \"white\", \"zerolinewidth\": 2}}}},                        {\"responsive\": true}                    ).then(function(){\n",
              "                            \n",
              "var gd = document.getElementById('4ff04c5f-9274-42b9-8f5d-451955998bf1');\n",
              "var x = new MutationObserver(function (mutations, observer) {{\n",
              "        var display = window.getComputedStyle(gd).display;\n",
              "        if (!display || display === 'none') {{\n",
              "            console.log([gd, 'removed!']);\n",
              "            Plotly.purge(gd);\n",
              "            observer.disconnect();\n",
              "        }}\n",
              "}});\n",
              "\n",
              "// Listen for the removal of the full notebook cells\n",
              "var notebookContainer = gd.closest('#notebook-container');\n",
              "if (notebookContainer) {{\n",
              "    x.observe(notebookContainer, {childList: true});\n",
              "}}\n",
              "\n",
              "// Listen for the clearing of the current output cell\n",
              "var outputEl = gd.closest('.output');\n",
              "if (outputEl) {{\n",
              "    x.observe(outputEl, {childList: true});\n",
              "}}\n",
              "\n",
              "                        })                };                            </script>        </div>\n",
              "</body>\n",
              "</html>"
            ]
          },
          "metadata": {
            "tags": []
          }
        }
      ]
    },
    {
      "cell_type": "code",
      "metadata": {
        "colab": {
          "base_uri": "https://localhost:8080/",
          "height": 541
        },
        "id": "TbqVAP5nqow4",
        "outputId": "33a433dc-88d9-4956-a281-a35b894d620c"
      },
      "source": [
        "def show_list_of_objects2d(object_list, save=False):\n",
        "    n = math.ceil(math.sqrt(len(object_list)))\n",
        "    fig, axs = plt.subplots(n, n, figsize = (14, 9))\n",
        "    counter = 0\n",
        "    for i in range(n):\n",
        "        for j in range(n):\n",
        "            if counter == len(object_list):\n",
        "                break\n",
        "            ob = object_list[counter]\n",
        "            pairs = get_edge_vert_pairs_from(ob.conn)\n",
        "            lines = []\n",
        "            for p in pairs:\n",
        "                x0 = ob.xyz_proj[0, p[0]]\n",
        "                y0 = ob.xyz_proj[1, p[0]]\n",
        "                x1 = ob.xyz_proj[0, p[1]]\n",
        "                y1 = ob.xyz_proj[1, p[1]]\n",
        "                lines.append([(x0,y0), (x1, y1)])\n",
        "\n",
        "            lc = matplotlib.collections.LineCollection(lines, color = \"orange\", linewidths=1)\n",
        "            axs[i, j].add_collection(lc)\n",
        "            axs[i, j].scatter(ob.xyz_proj[0,:], ob.xyz_proj[1,:])\n",
        "            axs[i, j].set_xlim(-2,2)\n",
        "            axs[i, j].set_ylim(-2,2)\n",
        "            counter += 1\n",
        "\n",
        "    if save:\n",
        "        fig.savefig(\"/content/drive/MyDrive/239 Project /object_list.png\")\n",
        "\n",
        "show_list_of_objects2d([objects[k] for k in np.random.choice(len(objects), 3**2)], save = True)"
      ],
      "execution_count": 6,
      "outputs": [
        {
          "output_type": "display_data",
          "data": {
            "image/png": "[encoded data removed]",
            "text/plain": [
              "<Figure size 1008x648 with 9 Axes>"
            ]
          },
          "metadata": {
            "tags": [],
            "needs_background": "light"
          }
        }
      ]
    },
    {
      "cell_type": "markdown",
      "metadata": {
        "id": "N3EpGjd6Oqj0"
      },
      "source": [
        "### Functions to go from list of objects to network inputs"
      ]
    },
    {
      "cell_type": "code",
      "metadata": {
        "id": "XC1G99UHN4_j"
      },
      "source": [
        "def get_xyz_Arch2(obj, layer, network_size):\n",
        "  n = len(obj.xyz_proj[layer])\n",
        "  pad = network_size - n\n",
        "  coord_mat = obj.xyz_proj[layer].unsqueeze(0).repeat(n,1) \n",
        "  M = nn.ZeroPad2d((0, pad, 0, pad))\n",
        "  return M(coord_mat)\n",
        "\n",
        "def get_conn_mat_Arch2(obj, network_size):\n",
        "  pairs = get_edge_vert_pairs_from(obj.conn)\n",
        "  n = len(obj.xyz_proj[0])\n",
        "  pad = network_size - n\n",
        "  conn_mat = torch.zeros(network_size,network_size)\n",
        "  for i in range(network_size):\n",
        "    for j in range(network_size):\n",
        "      if (i,j) in pairs or (j,i) in pairs:\n",
        "        conn_mat[i,j] = torch.tensor(1.)\n",
        "  return conn_mat\n",
        "\n",
        "\n",
        "def expand(triple, network_size):\n",
        "  mat = torch.zeros((network_size, 3))\n",
        "  mat[triple[0], 0] = 1. \n",
        "  mat[triple[1], 1] = 1.\n",
        "  mat[triple[2], 2] = 1.\n",
        "  return mat\n",
        "\n",
        "def format_faces(obj, max_face_size, max_faces):\n",
        "  faces = -1 * torch.ones((max_faces, max_face_size), dtype = torch.int8)\n",
        "  for i in range(len(obj.vis_faces)):\n",
        "    N = len(obj.vis_faces[i])\n",
        "    assert N+2 <= max_face_size, \"provided face too large!\"\n",
        "    face = obj.vis_faces[i] + obj.vis_faces[i][:2]\n",
        "    faces[i, :N+2] = torch.tensor(face, dtype=torch.int8)\n",
        "  return faces\n",
        "\n",
        "def get_triples(conn, max_angles):\n",
        "  triples = []\n",
        "  pairs = get_edge_vert_pairs_from(conn)\n",
        "  M = max([max(p) for p in pairs])\n",
        "\n",
        "  shared = {}\n",
        "  for shared_index in range(M+1):\n",
        "      we_share_a_vertex = []\n",
        "      for pair in pairs:\n",
        "          if shared_index == pair[0]:\n",
        "            we_share_a_vertex.append(pair[1])\n",
        "          elif shared_index == pair[1]:\n",
        "            we_share_a_vertex.append(pair[0])\n",
        "\n",
        "      shared[shared_index] = we_share_a_vertex\n",
        "\n",
        "  for key in shared.keys():\n",
        "    for ends in combinations(shared[key], 2):\n",
        "      triples.append([ends[0], key, ends[1]])\n",
        "      #triples.append(expand([ends[0], key, ends[1]], network_size))\n",
        "  #print(shared)\n",
        "  pad = max_angles - len(triples)\n",
        "  triples2 = torch.cat([torch.tensor(triples), torch.zeros(pad,3)], dim = 0)\n",
        "  return triples2\n",
        "  \n",
        "\n",
        "def get_sda(obj, max_angles):\n",
        "  x = get_triples(obj.conn, max_angles).int().tolist()\n",
        "  batch_angles = []\n",
        "  i = 0\n",
        "  while x[i] != [0,0,0]:\n",
        "    #print(\"verts = \", x[i])\n",
        "    v1 = obj.xyz[:, x[i][0]]\n",
        "    v2 = obj.xyz[:, x[i][1]]\n",
        "    v3 = obj.xyz[:, x[i][2]]\n",
        "    A = get_angle(v1,v2,v3)\n",
        "    #print(\"Angle = \", A)\n",
        "    batch_angles.append(A)\n",
        "    i += 1\n",
        "  return torch.std(torch.stack(batch_angles))\n",
        "\n",
        "\n",
        "def get_data_set_Arch_4(object_list, network_size, max_angles, train_test_sizes = None):\n",
        "  n = len(object_list)\n",
        "  if not train_test_sizes:\n",
        "    train_size = math.ceil(n*0.8)\n",
        "    inds = np.random.choice(range(n), n, replace = False)\n",
        "    train_inds = inds[:train_size]\n",
        "    test_inds = inds[train_size:]\n",
        "    train_objects = [object_list[k] for k in range(n) if k in train_inds]\n",
        "    test_objects = [object_list[k] for k in range(n) if k in test_inds]\n",
        "  else:\n",
        "    inds = np.random.choice(range(n), sum(train_test_sizes), replace = False)\n",
        "    train_inds = inds[:train_test_sizes[0]]\n",
        "    test_inds = inds[train_test_sizes[0]:]\n",
        "    train_objects = [object_list[k] for k in range(n) if k in train_inds]\n",
        "    test_objects = [object_list[k] for k in range(n) if k in test_inds]\n",
        "\n",
        "\n",
        "  train_dataset = torch.utils.data.TensorDataset(torch.stack([get_xyz_Arch2(obj, 0, network_size) for obj in train_objects]), #X\n",
        "                                                 torch.stack([get_xyz_Arch2(obj, 1, network_size) for obj in train_objects]), #Y\n",
        "                                                 torch.stack([get_xyz_Arch2(obj, 2, network_size) for obj in train_objects]), #Z\n",
        "                                                 torch.stack([get_conn_mat_Arch2(obj, network_size) for obj in train_objects]), #conn\n",
        "                                                 torch.tensor([obj.label for obj in train_objects]), # label\n",
        "                                                 torch.tensor([get_sda(obj , max_angles) for obj in train_objects]), #sda\n",
        "                                                 torch.tensor([number_of_visible_verts(obj) for obj in train_objects]), #num_vv\n",
        "                                                 torch.stack([get_triples(obj.conn, max_angles) for obj in train_objects]),\n",
        "                                                 torch.stack([format_faces(obj, 8,8) for obj in train_objects])) #triples\n",
        "\n",
        "  test_dataset = torch.utils.data.TensorDataset(torch.stack([get_xyz_Arch2(obj, 0, network_size) for obj in test_objects]), #X\n",
        "                                                torch.stack([get_xyz_Arch2(obj, 1, network_size) for obj in test_objects]), #Y\n",
        "                                                torch.stack([get_xyz_Arch2(obj, 2, network_size) for obj in test_objects]), #Z\n",
        "                                                torch.stack([get_conn_mat_Arch2(obj, network_size) for obj in test_objects]), #conn\n",
        "                                                torch.tensor([obj.label for obj in test_objects]), # label\n",
        "                                                torch.tensor([get_sda(obj , max_angles) for obj in test_objects]), #sda\n",
        "                                                torch.tensor([number_of_visible_verts(obj) for obj in test_objects]), #num_vv\n",
        "                                                torch.stack([get_triples(obj.conn, max_angles) for obj in test_objects]),\n",
        "                                                torch.stack([format_faces(obj, 8,8) for obj in test_objects])) #filter_mat\n",
        "\n",
        "\n",
        "  return train_dataset, test_dataset\n"
      ],
      "execution_count": 7,
      "outputs": []
    },
    {
      "cell_type": "code",
      "metadata": {
        "id": "N43YglIfNXs_"
      },
      "source": [
        ""
      ],
      "execution_count": 7,
      "outputs": []
    },
    {
      "cell_type": "markdown",
      "metadata": {
        "id": "0ekQ0l42YNN5"
      },
      "source": [
        "### Test Above Functions"
      ]
    },
    {
      "cell_type": "code",
      "metadata": {
        "id": "ZP3AAKAwdhqY"
      },
      "source": [
        "#tts = (1000, 100)\n",
        "tts = (30, 4)\n",
        "train_data, test_data = get_data_set_Arch_4(objects, network_size = 20, max_angles = 50, train_test_sizes=tts)"
      ],
      "execution_count": 8,
      "outputs": []
    },
    {
      "cell_type": "code",
      "metadata": {
        "id": "7ff49xhpj3S6"
      },
      "source": [
        "train_loader = torch.utils.data.DataLoader(train_data, batch_size=5, shuffle=True)\n",
        "test_loader = torch.utils.data.DataLoader(test_data, batch_size=1, shuffle=True)"
      ],
      "execution_count": 9,
      "outputs": []
    },
    {
      "cell_type": "code",
      "metadata": {
        "colab": {
          "base_uri": "https://localhost:8080/"
        },
        "id": "FIrJLl9Lk-oJ",
        "outputId": "be1a9425-c10f-4a6f-bba6-a4abc45617ab"
      },
      "source": [
        "batch = next(iter(train_loader))\n",
        "for b in batch:\n",
        "  print(b.shape)\n"
      ],
      "execution_count": 10,
      "outputs": [
        {
          "output_type": "stream",
          "text": [
            "torch.Size([5, 20, 20])\n",
            "torch.Size([5, 20, 20])\n",
            "torch.Size([5, 20, 20])\n",
            "torch.Size([5, 20, 20])\n",
            "torch.Size([5])\n",
            "torch.Size([5])\n",
            "torch.Size([5])\n",
            "torch.Size([5, 50, 3])\n",
            "torch.Size([5, 8, 8])\n"
          ],
          "name": "stdout"
        }
      ]
    },
    {
      "cell_type": "code",
      "metadata": {
        "id": "n0jmIspI7bDq",
        "colab": {
          "base_uri": "https://localhost:8080/"
        },
        "outputId": "c0b9afc7-cdbd-4811-9753-d322ca9f0944"
      },
      "source": [
        "print(objects[4].vis_faces)\n",
        "ff = format_faces(objects[4], 8, 8)\n",
        "ff"
      ],
      "execution_count": 11,
      "outputs": [
        {
          "output_type": "stream",
          "text": [
            "[[0, 3, 2, 1], [1, 2, 6, 5], [0, 1, 5, 4]]\n"
          ],
          "name": "stdout"
        },
        {
          "output_type": "execute_result",
          "data": {
            "text/plain": [
              "tensor([[ 0,  3,  2,  1,  0,  3, -1, -1],\n",
              "        [ 1,  2,  6,  5,  1,  2, -1, -1],\n",
              "        [ 0,  1,  5,  4,  0,  1, -1, -1],\n",
              "        [-1, -1, -1, -1, -1, -1, -1, -1],\n",
              "        [-1, -1, -1, -1, -1, -1, -1, -1],\n",
              "        [-1, -1, -1, -1, -1, -1, -1, -1],\n",
              "        [-1, -1, -1, -1, -1, -1, -1, -1],\n",
              "        [-1, -1, -1, -1, -1, -1, -1, -1]], dtype=torch.int8)"
            ]
          },
          "metadata": {
            "tags": []
          },
          "execution_count": 11
        }
      ]
    },
    {
      "cell_type": "code",
      "metadata": {
        "id": "hcgMYomONcYI",
        "colab": {
          "base_uri": "https://localhost:8080/"
        },
        "outputId": "4114b7f9-6a45-440f-a46f-01cd7a015380"
      },
      "source": [
        "x = get_triples(objects[k].conn, 20).int().tolist()\n",
        "batch_angles = []\n",
        "i = 0\n",
        "while x[i] != [0,0,0]:\n",
        "  v1 = objects[k].xyz[:, x[i][0]]\n",
        "  v2 = objects[k].xyz[:, x[i][1]]\n",
        "  v3 = objects[k].xyz[:, x[i][2]]\n",
        "  A = get_angle(v1,v2,v3)\n",
        "  #print(x[i], A)\n",
        "  batch_angles.append(A)\n",
        "  i += 1\n",
        "\n",
        "torch.std(torch.stack(batch_angles))"
      ],
      "execution_count": 12,
      "outputs": [
        {
          "output_type": "execute_result",
          "data": {
            "text/plain": [
              "tensor(10.6851)"
            ]
          },
          "metadata": {
            "tags": []
          },
          "execution_count": 12
        }
      ]
    },
    {
      "cell_type": "code",
      "metadata": {
        "id": "HqnQx5WFP51J"
      },
      "source": [
        ""
      ],
      "execution_count": 12,
      "outputs": []
    },
    {
      "cell_type": "markdown",
      "metadata": {
        "id": "hnqh3sioYX0L"
      },
      "source": [
        "### Plotting Functions"
      ]
    },
    {
      "cell_type": "code",
      "metadata": {
        "id": "dOSfBODjYaWR"
      },
      "source": [
        "def pairs_from_conn(conn):\n",
        "  conn = conn.squeeze()\n",
        "  pairs = []\n",
        "  h, w = conn.shape\n",
        "  for i in range(h):\n",
        "    for j in range(w):\n",
        "      if conn[i,j] == True and (j, i) not in pairs:\n",
        "        pairs.append((i, j))\n",
        "  return pairs\n",
        "\n",
        "\n",
        "def show3D(xyz, conn, am = \"data\"):\n",
        "  #credit: https://stackoverflow.com/questions/42301481/adding-specific-lines-to-a-plotly-scatter3d-plot\n",
        "  pairs = pairs_from_conn(conn)\n",
        "  xyz = xyz.detach().numpy()\n",
        "\n",
        "  trace1 = go.Scatter3d(\n",
        "      x=xyz[0],\n",
        "      y=xyz[1],\n",
        "      z=xyz[2],\n",
        "      text = [str(i) for i in range(len(xyz[0]))],\n",
        "      mode='markers+text',\n",
        "      name='Vertices'\n",
        "  )\n",
        "\n",
        "\n",
        "  #create the coordinate list for the lines\n",
        "  x_lines = []\n",
        "  y_lines = []\n",
        "  z_lines = []\n",
        "  for p in pairs:\n",
        "      for i in range(2):\n",
        "          x_lines.append(xyz[0][p[i]])\n",
        "          y_lines.append(xyz[1][p[i]])\n",
        "          z_lines.append(xyz[2][p[i]])\n",
        "      x_lines.append(None)\n",
        "      y_lines.append(None)\n",
        "      z_lines.append(None)\n",
        "\n",
        "  trace2 = go.Scatter3d(\n",
        "      x=x_lines,\n",
        "      y=y_lines,\n",
        "      z=z_lines,\n",
        "      mode='lines',\n",
        "      name='Edges'\n",
        "  )\n",
        "  layout = go.Layout(width=600, height=600, \n",
        "                     scene=dict(aspectmode=am, aspectratio=dict(x=1, y=1, z=1)))\n",
        "\n",
        "  fig = go.Figure(data=[trace1, trace2], layout=layout)\n",
        "\n",
        "  fig.show()"
      ],
      "execution_count": 13,
      "outputs": []
    },
    {
      "cell_type": "code",
      "metadata": {
        "id": "i1CparaFsxqY",
        "colab": {
          "base_uri": "https://localhost:8080/"
        },
        "outputId": "43f23965-44de-49b0-91d8-00199b1b8d57"
      },
      "source": [
        "threes = get_triples(objects[3].conn, 20)\n",
        "threes.int().tolist()"
      ],
      "execution_count": 14,
      "outputs": [
        {
          "output_type": "execute_result",
          "data": {
            "text/plain": [
              "[[1, 0, 3],\n",
              " [0, 1, 2],\n",
              " [0, 1, 4],\n",
              " [2, 1, 4],\n",
              " [1, 2, 3],\n",
              " [1, 2, 5],\n",
              " [3, 2, 5],\n",
              " [2, 3, 0],\n",
              " [2, 3, 6],\n",
              " [0, 3, 6],\n",
              " [5, 4, 1],\n",
              " [4, 5, 6],\n",
              " [4, 5, 2],\n",
              " [6, 5, 2],\n",
              " [5, 6, 3],\n",
              " [0, 0, 0],\n",
              " [0, 0, 0],\n",
              " [0, 0, 0],\n",
              " [0, 0, 0],\n",
              " [0, 0, 0]]"
            ]
          },
          "metadata": {
            "tags": []
          },
          "execution_count": 14
        }
      ]
    },
    {
      "cell_type": "markdown",
      "metadata": {
        "id": "OB0AWWo2LE_E"
      },
      "source": [
        "## Define Architecture 4A"
      ]
    },
    {
      "cell_type": "code",
      "metadata": {
        "id": "5rkwHoBULHqz"
      },
      "source": [
        "class Arch4A(nn.Module):    \n",
        "    def __init__(self, vertices, nonlinearity = torch.tanh, device = \"cpu\"):\n",
        "        super(Arch4A, self).__init__()\n",
        "\n",
        "        self.vertices = vertices\n",
        "        self.nonlinearity = nonlinearity\n",
        "        self.device = device\n",
        "\n",
        "        self.conv1 = nn.Conv2d(in_channels = 3, out_channels = 16, kernel_size = 3, stride = 1, padding = 1)\n",
        "        self.conv2 = torch.nn.Conv2d(16, 32, 3, 1, padding = 1)\n",
        "        self.pool2 = nn.MaxPool2d(2, stride = 2)\n",
        "        self.fc0 = nn.Linear(2 * vertices * vertices, vertices*vertices) # [32*20/4*20/4] = [32/16*20*20]\n",
        "        self.fc1 = nn.Linear(self.vertices*self.vertices, self.vertices)\n",
        "        self.fc2 = nn.Linear(self.vertices, self.vertices)\n",
        "                        \n",
        "    def get_angle(self, p1, p2, p3):\n",
        "      e1 = p1 - p2\n",
        "      e2 = p3 - p2\n",
        "      x = torch.dot(e1, e2)/(torch.norm(e1) * torch.norm(e2))\n",
        "      return torch.rad2deg(torch.acos(x))\n",
        "    \n",
        "    def forward_1(self, x, y, conn):\n",
        "        batch_size = x.shape[0]\n",
        "        #suppose batch size = 10 and network size = 20, all shapes after assignment\n",
        "        z = self.conv1(torch.stack([x,y,conn], dim = 1)) #[10, 16, 20, 20]\n",
        "        z = self.pool2(z) #[10, 16, 10, 10]\n",
        "        z = self.nonlinearity(z)\n",
        "        z = self.conv2(z) #[10, 32, 10, 10]\n",
        "        z = self.pool2(z) #[10, 32, 5, 5]\n",
        "        z = self.nonlinearity(z)\n",
        "        z = z.view(batch_size, -1) #[10, 32 * 5 * 5]\n",
        "        z = self.fc0(z)\n",
        "        z = self.nonlinearity(z)\n",
        "        z = self.fc1(z)\n",
        "        zeroz = torch.zeros(batch_size, self.vertices).to(self.device)\n",
        "        new_xyz = torch.stack([x[:,0],y[:,0],zeroz], dim = 2).permute(0,2,1)\n",
        "        new_xyz[:,2,:] = z \n",
        "        return new_xyz\n",
        "\n",
        "\n",
        "    def forward(self, x, y, conn, num_vv, triples, faces, extract_xyz = False):\n",
        "        batch_size = x.shape[0]\n",
        "        # Pick XYZ estimates\n",
        "        new_xyz = self.forward_1(x,y,conn)\n",
        "\n",
        "        # compute angles by selecting 3 points \n",
        "        stop = torch.zeros(3).to(self.device)\n",
        "        max_angles = triples.shape[1]\n",
        "        sda = torch.zeros(batch_size, requires_grad=False).to(self.device)\n",
        "        planarity = torch.zeros(batch_size).to(self.device)\n",
        "        angles = []\n",
        "        for b in range(batch_size):\n",
        "          i = 0\n",
        "          #batch_angles = torch.zeros(max_angles, requires_grad=False)\n",
        "          batch_angles = {}\n",
        "          while not all(triples[b, i, :] == stop):\n",
        "            t = triples[b, i, :].int()\n",
        "            v1 = new_xyz[b, :, t[0]]\n",
        "            v2 = new_xyz[b, :, t[1]]\n",
        "            v3 = new_xyz[b, :, t[2]]\n",
        "            batch_angles[str(t.tolist())] = self.get_angle(v1, v2, v3)\n",
        "            i += 1\n",
        "          angles.append(batch_angles)\n",
        "          sda[b] = torch.std(torch.stack([*batch_angles.values()]))\n",
        "          #print(\"batch \", b, \" batch angles = \", batch_angles)\n",
        "        \n",
        "          # Planarity constraint\n",
        "          #print(faces.shape)\n",
        "          p = 0\n",
        "          for i in range(faces.shape[1]):              \n",
        "            for j in range(faces.shape[2]):\n",
        "              key1 = faces[b, i, j:j+3].tolist()\n",
        "              if -1 in key1 and j > 0:\n",
        "                p = p - 180*(j-2) \n",
        "                # print(\"i,j = \",i,j)\n",
        "                # print(\"180*j is\", 180*(j-2))\n",
        "                break\n",
        "              elif j == 0 and -1 in key1:\n",
        "                break\n",
        "              key1s = str(key1)\n",
        "              try: \n",
        "                #print(key1s, batch_angles[key1s])\n",
        "                p = p + batch_angles[key1s]\n",
        "                #print(\"key1 worked! p = {}, i = {}, j = {}, b = {}, add angle = {}\".format(p, i,j,b, batch_angles[key1s]))\n",
        "              except KeyError:\n",
        "                key2 = key1.copy()\n",
        "                key2.reverse()\n",
        "                key2s = str(key2)\n",
        "                #print(key2s, batch_angles[key2s])\n",
        "                p = p + batch_angles[key2s]\n",
        "                #print(\"key2 worked! p = {}, i = {}, j = {}, b = {}, add angle = {}\".format(p, i,j,b, batch_angles[key2s]))\n",
        "            p = abs(p)\n",
        "            #print(\"face {} p = {}\".format(i, p))\n",
        "\n",
        "          planarity[b] = abs(p)\n",
        "\n",
        "        gamma = 1.\n",
        "        loss = sda + gamma*planarity  \n",
        "            \n",
        "        #print(\"planarity = \", planarity)\n",
        "        if extract_xyz: \n",
        "          return new_xyz, sda, planarity, loss, angles \n",
        "\n",
        "        return loss"
      ],
      "execution_count": 15,
      "outputs": []
    },
    {
      "cell_type": "code",
      "metadata": {
        "id": "OT5jezTxS89p"
      },
      "source": [
        ""
      ],
      "execution_count": 15,
      "outputs": []
    },
    {
      "cell_type": "markdown",
      "metadata": {
        "id": "oslNicrUzdy9"
      },
      "source": [
        "## Define Architecture 4B"
      ]
    },
    {
      "cell_type": "code",
      "metadata": {
        "id": "aHMulwUOzhZ_"
      },
      "source": [
        "class Arch4B(nn.Module):    \n",
        "    def __init__(self, vertices, nonlinearity = torch.tanh, device = \"cpu\"):\n",
        "        super(Arch4B, self).__init__()\n",
        "\n",
        "        self.vertices = vertices\n",
        "        self.nonlinearity = nonlinearity\n",
        "        self.device = device\n",
        "\n",
        "        self.conv1 = nn.Conv2d(in_channels = 3, out_channels = 32, kernel_size = 3, stride = 1, padding = 1)\n",
        "        self.conv2 = torch.nn.Conv2d(32, 64, 3, 1, padding = 1)\n",
        "        self.pool2 = nn.MaxPool2d(2, stride = 2)\n",
        "        self.fc0 = nn.Linear(4 * vertices * vertices, 2 * vertices*vertices) # [64*20/4*20/4] = [64/16*20*20]\n",
        "        self.fc1 = nn.Linear(2 * self.vertices*self.vertices, self.vertices*self.vertices)\n",
        "        self.fc2 = nn.Linear(self.vertices*self.vertices, self.vertices)\n",
        "                        \n",
        "    def get_angle(self, p1, p2, p3):\n",
        "      e1 = p1 - p2\n",
        "      e2 = p3 - p2\n",
        "      x = torch.dot(e1, e2)/(torch.norm(e1) * torch.norm(e2))\n",
        "      return torch.rad2deg(torch.acos(x))\n",
        "    \n",
        "    def forward_1(self, x, y, conn):\n",
        "        batch_size = x.shape[0]\n",
        "        #suppose batch size = 10 and network size = 20, all shapes after assignment\n",
        "        z = self.conv1(torch.stack([x,y,conn], dim = 1)) #[10, 16, 20, 20]\n",
        "        z = self.pool2(z) #[10, 16, 10, 10]\n",
        "        z = self.nonlinearity(z)\n",
        "        z = self.conv2(z) #[10, 32, 10, 10]\n",
        "        z = self.pool2(z) #[10, 32, 5, 5]\n",
        "        z = self.nonlinearity(z)\n",
        "        z = z.view(batch_size, -1) #[10, 32 * 5 * 5]\n",
        "        z = self.fc0(z)\n",
        "        z = self.nonlinearity(z)\n",
        "        z = self.fc1(z)\n",
        "        z = self.nonlinearity(z)\n",
        "        z = self.fc2(z)\n",
        "        zeroz = torch.zeros(batch_size, self.vertices).to(self.device)\n",
        "        new_xyz = torch.stack([x[:,0],y[:,0],zeroz], dim = 2).permute(0,2,1)\n",
        "        new_xyz[:,2,:] = z \n",
        "        return new_xyz\n",
        "\n",
        "\n",
        "    def forward(self, x, y, conn, num_vv, triples, faces, extract_xyz = False):\n",
        "        batch_size = x.shape[0]\n",
        "        # Pick XYZ estimates\n",
        "        new_xyz = self.forward_1(x,y,conn)\n",
        "\n",
        "        # compute angles by selecting 3 points \n",
        "        stop = torch.zeros(3).to(self.device)\n",
        "        max_angles = triples.shape[1]\n",
        "        sda = torch.zeros(batch_size, requires_grad=False).to(self.device)\n",
        "        planarity = torch.zeros(batch_size).to(self.device)\n",
        "        angles = []\n",
        "        for b in range(batch_size):\n",
        "          i = 0\n",
        "          #batch_angles = torch.zeros(max_angles, requires_grad=False)\n",
        "          batch_angles = {}\n",
        "          while not all(triples[b, i, :] == stop):\n",
        "            t = triples[b, i, :].int()\n",
        "            v1 = new_xyz[b, :, t[0]]\n",
        "            v2 = new_xyz[b, :, t[1]]\n",
        "            v3 = new_xyz[b, :, t[2]]\n",
        "            batch_angles[str(t.tolist())] = self.get_angle(v1, v2, v3)\n",
        "            i += 1\n",
        "          angles.append(batch_angles)\n",
        "          sda[b] = torch.std(torch.stack([*batch_angles.values()]))\n",
        "          #print(\"batch \", b, \" batch angles = \", batch_angles)\n",
        "        \n",
        "          # Planarity constraint\n",
        "          #print(faces.shape)\n",
        "          p = 0\n",
        "          for i in range(faces.shape[1]):              \n",
        "            for j in range(faces.shape[2]):\n",
        "              key1 = faces[b, i, j:j+3].tolist()\n",
        "              if -1 in key1 and j > 0:\n",
        "                p = p - 180*(j-2) \n",
        "                # print(\"i,j = \",i,j)\n",
        "                # print(\"180*j is\", 180*(j-2))\n",
        "                break\n",
        "              elif j == 0 and -1 in key1:\n",
        "                break\n",
        "              key1s = str(key1)\n",
        "              try: \n",
        "                #print(key1s, batch_angles[key1s])\n",
        "                p = p + batch_angles[key1s]\n",
        "                #print(\"key1 worked! p = {}, i = {}, j = {}, b = {}, add angle = {}\".format(p, i,j,b, batch_angles[key1s]))\n",
        "              except KeyError:\n",
        "                key2 = key1.copy()\n",
        "                key2.reverse()\n",
        "                key2s = str(key2)\n",
        "                #print(key2s, batch_angles[key2s])\n",
        "                p = p + batch_angles[key2s]\n",
        "                #print(\"key2 worked! p = {}, i = {}, j = {}, b = {}, add angle = {}\".format(p, i,j,b, batch_angles[key2s]))\n",
        "            p = abs(p)\n",
        "            #print(\"face {} p = {}\".format(i, p))\n",
        "\n",
        "          planarity[b] = abs(p)\n",
        "\n",
        "        gamma = 1.\n",
        "        loss = sda + gamma*planarity  \n",
        "            \n",
        "        #print(\"planarity = \", planarity)\n",
        "        if extract_xyz: \n",
        "          return new_xyz, sda, planarity, loss, angles \n",
        "\n",
        "        return loss"
      ],
      "execution_count": 16,
      "outputs": []
    },
    {
      "cell_type": "markdown",
      "metadata": {
        "id": "6cS8KGReG8rM"
      },
      "source": [
        "### Troubleshoot network"
      ]
    },
    {
      "cell_type": "code",
      "metadata": {
        "colab": {
          "base_uri": "https://localhost:8080/"
        },
        "id": "6LSHX8EuHFi8",
        "outputId": "9d605902-c8b7-4e58-919b-582a520dbba2"
      },
      "source": [
        "L1_loss = torch.nn.L1Loss()\n",
        "net = Arch4A(20, nonlinearity=torch.sigmoid)\n",
        "x,y,z,conn,label,sda, num_vv, triples, faces = next(iter(train_loader))\n",
        "sdas = net.forward(x,y,conn, num_vv, triples, faces)\n",
        "loss = L1_loss(sdas, sda)\n",
        "loss"
      ],
      "execution_count": 17,
      "outputs": [
        {
          "output_type": "execute_result",
          "data": {
            "text/plain": [
              "tensor(75.5455, grad_fn=<L1LossBackward>)"
            ]
          },
          "metadata": {
            "tags": []
          },
          "execution_count": 17
        }
      ]
    },
    {
      "cell_type": "code",
      "metadata": {
        "id": "cv_KFz4TmyzA",
        "colab": {
          "base_uri": "https://localhost:8080/"
        },
        "outputId": "2174ca63-2617-4e5b-9098-068956b28888"
      },
      "source": [
        "L1_loss = torch.nn.L1Loss()\n",
        "net = Arch4B(20, nonlinearity=torch.sigmoid)\n",
        "x,y,z,conn,label,sda, num_vv, triples, faces = next(iter(train_loader))\n",
        "sdas = net.forward(x,y,conn, num_vv, triples, faces)\n",
        "loss = L1_loss(sdas, sda)\n",
        "loss"
      ],
      "execution_count": 18,
      "outputs": [
        {
          "output_type": "execute_result",
          "data": {
            "text/plain": [
              "tensor(42.1053, grad_fn=<L1LossBackward>)"
            ]
          },
          "metadata": {
            "tags": []
          },
          "execution_count": 18
        }
      ]
    },
    {
      "cell_type": "markdown",
      "metadata": {
        "id": "gm7i1wYCmm4f"
      },
      "source": [
        "## Train Network"
      ]
    },
    {
      "cell_type": "code",
      "metadata": {
        "id": "EJX1g5Zvuget"
      },
      "source": [
        "device = \"cpu\""
      ],
      "execution_count": 19,
      "outputs": []
    },
    {
      "cell_type": "markdown",
      "metadata": {
        "id": "8G3n3bj59D24"
      },
      "source": [
        "### Define Datasets"
      ]
    },
    {
      "cell_type": "code",
      "metadata": {
        "id": "vbAHc8t281tb"
      },
      "source": [
        "train_data, test_data = get_data_set_Arch_4(objects, network_size = 20, max_angles = 50,train_test_sizes=(1000, 100))"
      ],
      "execution_count": 20,
      "outputs": []
    },
    {
      "cell_type": "code",
      "metadata": {
        "id": "9xlZRTgT84BF"
      },
      "source": [
        "train_loader = torch.utils.data.DataLoader(train_data, batch_size=10, shuffle=True)\n",
        "test_loader = torch.utils.data.DataLoader(test_data, batch_size=1, shuffle=True)"
      ],
      "execution_count": 21,
      "outputs": []
    },
    {
      "cell_type": "markdown",
      "metadata": {
        "id": "LbFwF_-q-3y7"
      },
      "source": [
        "### Initialize Network"
      ]
    },
    {
      "cell_type": "code",
      "metadata": {
        "id": "LnAXFQoE-6um"
      },
      "source": [
        "device = \"cpu\"\n",
        "#net = Arch4A(20, nonlinearity=torch.sigmoid, device=device)\n",
        "#net_cuda = net.to(device)\n",
        "net = Arch4B(20, nonlinearity=torch.sigmoid, device=device)"
      ],
      "execution_count": 28,
      "outputs": []
    },
    {
      "cell_type": "markdown",
      "metadata": {
        "id": "cESZVYaY9PUw"
      },
      "source": [
        "### Define Loss And Optimizer"
      ]
    },
    {
      "cell_type": "code",
      "metadata": {
        "id": "0b_1XNKB0ZhH"
      },
      "source": [
        "L1_loss = torch.nn.L1Loss()\n",
        "opt = torch.optim.Adam(net.parameters(), lr=1e-3)\n",
        "#opt_cuda = torch.optim.Adam(net_cuda.parameters(), lr=1e-3)"
      ],
      "execution_count": 29,
      "outputs": []
    },
    {
      "cell_type": "markdown",
      "metadata": {
        "id": "GweoqgMS9uFa"
      },
      "source": [
        "### Define Train Step Function"
      ]
    },
    {
      "cell_type": "code",
      "metadata": {
        "id": "dR3ypMWh0PLq"
      },
      "source": [
        "def train_step(x, y, conn, num_vv, triples, faces, sda, net, opt_fn, loss_fn):\n",
        "    sda_est = net(x, y, conn, num_vv, triples, faces)\n",
        "    loss = loss_fn(sda_est, sda)\n",
        "    loss.backward()\n",
        "    opt_fn.step()\n",
        "    opt_fn.zero_grad()\n",
        "    return loss"
      ],
      "execution_count": 30,
      "outputs": []
    },
    {
      "cell_type": "markdown",
      "metadata": {
        "id": "zCCHjbmJ9yex"
      },
      "source": [
        "### Train Loop\n",
        "* 5 epochs takes 42 seconds, so about **8 seconds per epoch on CPU** with 1000 objects in each epoch and architecture 4A. \n",
        "* 5 epochs takes 91 seconds, so about **18 seconds per epoch on GPU** with 1000 objects in each epoch and architecture 4A. \n",
        "* 5 epochs takes 41 seconds, **8 seconds per epoch on CPU** with 1000 objects in each epoch and architecture ***4B***. \n",
        "* Loss function seems to limit at at loss of about 1 or 2 degrees after about 100 epochs. 50 epochs takes about 7 minutes so training for 150 epochs to ensure you're doing ok could take 20 minutes or so.  "
      ]
    },
    {
      "cell_type": "code",
      "metadata": {
        "colab": {
          "base_uri": "https://localhost:8080/"
        },
        "id": "_hVMQzDymJfx",
        "outputId": "386dfee6-cfd1-4ee1-9718-cb0ba2b74c2c"
      },
      "source": [
        "start_time = time.time()\n",
        "epochs = 150\n",
        "loss_hist_train = []\n",
        "counter = 0\n",
        "for epoch in range(epochs):\n",
        "    for x,y,z,conn,label,sda, num_vv, triples, faces in iter(train_loader):   \n",
        "        loss = train_step(x.to(device), y.to(device), conn.to(device), num_vv.to(device), \n",
        "                          triples.to(device), faces.to(device), sda.to(device), net, opt, L1_loss)\n",
        "        loss_hist_train.append(loss.item())\n",
        "        counter += 1\n",
        "        if counter % 50 == 0:\n",
        "          print(loss.item())\n",
        "    print(\"epoch \", epoch)\n",
        "print(\"Elapsed Time = \", datetime.timedelta(seconds=round(time.time() - start_time)))"
      ],
      "execution_count": 31,
      "outputs": [
        {
          "output_type": "stream",
          "text": [
            "22.29775619506836\n",
            "24.68415641784668\n",
            "epoch  0\n",
            "50.33765411376953\n",
            "30.694686889648438\n",
            "epoch  1\n",
            "23.630359649658203\n",
            "26.705236434936523\n",
            "epoch  2\n",
            "19.973159790039062\n",
            "25.867473602294922\n",
            "epoch  3\n",
            "24.247880935668945\n",
            "29.923351287841797\n",
            "epoch  4\n",
            "27.31166648864746\n",
            "24.695907592773438\n",
            "epoch  5\n",
            "24.385379791259766\n",
            "29.634532928466797\n",
            "epoch  6\n",
            "31.470088958740234\n",
            "34.21143341064453\n",
            "epoch  7\n",
            "20.190950393676758\n",
            "24.594480514526367\n",
            "epoch  8\n",
            "24.65791130065918\n",
            "26.625370025634766\n",
            "epoch  9\n",
            "22.55799102783203\n",
            "25.381210327148438\n",
            "epoch  10\n",
            "23.187610626220703\n",
            "26.921096801757812\n",
            "epoch  11\n",
            "22.235061645507812\n",
            "31.246623992919922\n",
            "epoch  12\n",
            "21.27517318725586\n",
            "31.562664031982422\n",
            "epoch  13\n",
            "25.651599884033203\n",
            "22.979841232299805\n",
            "epoch  14\n",
            "29.5262451171875\n",
            "26.49464988708496\n",
            "epoch  15\n",
            "23.282215118408203\n",
            "25.643142700195312\n",
            "epoch  16\n",
            "31.509170532226562\n",
            "20.867647171020508\n",
            "epoch  17\n",
            "33.58914566040039\n",
            "18.930498123168945\n",
            "epoch  18\n",
            "23.039566040039062\n",
            "20.156063079833984\n",
            "epoch  19\n",
            "24.565448760986328\n",
            "32.00028610229492\n",
            "epoch  20\n",
            "23.273170471191406\n",
            "31.88144302368164\n",
            "epoch  21\n",
            "29.708942413330078\n",
            "23.925813674926758\n",
            "epoch  22\n",
            "24.130470275878906\n",
            "29.44673728942871\n",
            "epoch  23\n",
            "21.87490463256836\n",
            "23.345327377319336\n",
            "epoch  24\n",
            "17.062273025512695\n",
            "25.764720916748047\n",
            "epoch  25\n",
            "25.915185928344727\n",
            "24.543865203857422\n",
            "epoch  26\n",
            "19.665246963500977\n",
            "30.51736068725586\n",
            "epoch  27\n",
            "26.376989364624023\n",
            "23.93444061279297\n",
            "epoch  28\n",
            "23.456470489501953\n",
            "21.24950408935547\n",
            "epoch  29\n",
            "26.783123016357422\n",
            "24.359310150146484\n",
            "epoch  30\n",
            "21.372512817382812\n",
            "24.219568252563477\n",
            "epoch  31\n",
            "23.083337783813477\n",
            "25.63204574584961\n",
            "epoch  32\n",
            "22.371685028076172\n",
            "28.25973892211914\n",
            "epoch  33\n",
            "19.277729034423828\n",
            "32.878761291503906\n",
            "epoch  34\n",
            "22.458560943603516\n",
            "25.652156829833984\n",
            "epoch  35\n",
            "25.555580139160156\n",
            "21.950572967529297\n",
            "epoch  36\n",
            "17.674646377563477\n",
            "28.83530616760254\n",
            "epoch  37\n",
            "17.42015266418457\n",
            "25.52433204650879\n",
            "epoch  38\n",
            "18.194774627685547\n",
            "17.069429397583008\n",
            "epoch  39\n",
            "12.225167274475098\n",
            "12.8609037399292\n",
            "epoch  40\n",
            "16.747241973876953\n",
            "17.129491806030273\n",
            "epoch  41\n",
            "13.991455078125\n",
            "12.023748397827148\n",
            "epoch  42\n",
            "10.782173156738281\n",
            "10.996752738952637\n",
            "epoch  43\n",
            "10.84077262878418\n",
            "15.526334762573242\n",
            "epoch  44\n",
            "13.343076705932617\n",
            "12.904747009277344\n",
            "epoch  45\n",
            "13.540046691894531\n",
            "18.551197052001953\n",
            "epoch  46\n",
            "9.134660720825195\n",
            "11.078804969787598\n",
            "epoch  47\n",
            "12.977531433105469\n",
            "7.617784023284912\n",
            "epoch  48\n",
            "7.919051170349121\n",
            "13.97502326965332\n",
            "epoch  49\n",
            "6.767415523529053\n",
            "9.895159721374512\n",
            "epoch  50\n",
            "13.50208854675293\n",
            "9.342653274536133\n",
            "epoch  51\n",
            "10.942328453063965\n",
            "11.459295272827148\n",
            "epoch  52\n",
            "8.284939765930176\n",
            "8.9717378616333\n",
            "epoch  53\n",
            "5.884632110595703\n",
            "6.061588764190674\n",
            "epoch  54\n",
            "7.321089744567871\n",
            "7.0939531326293945\n",
            "epoch  55\n",
            "5.483609199523926\n",
            "10.441227912902832\n",
            "epoch  56\n",
            "5.754576683044434\n",
            "7.142143249511719\n",
            "epoch  57\n",
            "12.667703628540039\n",
            "5.794262886047363\n",
            "epoch  58\n",
            "10.527929306030273\n",
            "10.430475234985352\n",
            "epoch  59\n",
            "11.808194160461426\n",
            "8.43498420715332\n",
            "epoch  60\n",
            "10.08564281463623\n",
            "7.5401930809021\n",
            "epoch  61\n",
            "9.026287078857422\n",
            "4.274606704711914\n",
            "epoch  62\n",
            "8.330514907836914\n",
            "7.863663673400879\n",
            "epoch  63\n",
            "7.1171417236328125\n",
            "6.9381914138793945\n",
            "epoch  64\n",
            "7.006529331207275\n",
            "5.799792289733887\n",
            "epoch  65\n",
            "7.386540412902832\n",
            "6.655004978179932\n",
            "epoch  66\n",
            "4.02142333984375\n",
            "6.878126621246338\n",
            "epoch  67\n",
            "7.38250732421875\n",
            "5.8866987228393555\n",
            "epoch  68\n",
            "3.699113130569458\n",
            "7.923732757568359\n",
            "epoch  69\n",
            "5.121573448181152\n",
            "7.724809169769287\n",
            "epoch  70\n",
            "4.899996757507324\n",
            "4.951935768127441\n",
            "epoch  71\n",
            "3.4957022666931152\n",
            "3.394313097000122\n",
            "epoch  72\n",
            "3.921354293823242\n",
            "1.9438689947128296\n",
            "epoch  73\n",
            "1.6986262798309326\n",
            "7.358570098876953\n",
            "epoch  74\n",
            "5.556387424468994\n",
            "1.4813178777694702\n",
            "epoch  75\n",
            "3.7963309288024902\n",
            "4.528403282165527\n",
            "epoch  76\n",
            "6.315711975097656\n",
            "3.345128297805786\n",
            "epoch  77\n",
            "5.565164089202881\n",
            "4.040717124938965\n",
            "epoch  78\n",
            "3.1196396350860596\n",
            "4.466243743896484\n",
            "epoch  79\n",
            "4.183810710906982\n",
            "6.059255123138428\n",
            "epoch  80\n",
            "3.974160671234131\n",
            "4.61617374420166\n",
            "epoch  81\n",
            "2.604011297225952\n",
            "3.679234743118286\n",
            "epoch  82\n",
            "5.480039596557617\n",
            "3.818530559539795\n",
            "epoch  83\n",
            "2.2372069358825684\n",
            "3.788029909133911\n",
            "epoch  84\n",
            "4.581003665924072\n",
            "3.01027250289917\n",
            "epoch  85\n",
            "3.2892799377441406\n",
            "3.293445110321045\n",
            "epoch  86\n",
            "3.8400967121124268\n",
            "1.9444984197616577\n",
            "epoch  87\n",
            "3.0118768215179443\n",
            "2.8051116466522217\n",
            "epoch  88\n",
            "2.8652591705322266\n",
            "3.436112880706787\n",
            "epoch  89\n",
            "3.325474262237549\n",
            "2.8837997913360596\n",
            "epoch  90\n",
            "2.989647150039673\n",
            "1.7551370859146118\n",
            "epoch  91\n",
            "3.1654744148254395\n",
            "4.920685768127441\n",
            "epoch  92\n",
            "2.6734070777893066\n",
            "2.7841403484344482\n",
            "epoch  93\n",
            "3.1966090202331543\n",
            "1.8945753574371338\n",
            "epoch  94\n",
            "3.554131269454956\n",
            "3.5357162952423096\n",
            "epoch  95\n",
            "4.208468914031982\n",
            "3.3709003925323486\n",
            "epoch  96\n",
            "1.6632579565048218\n",
            "2.8457767963409424\n",
            "epoch  97\n",
            "1.3085496425628662\n",
            "2.4459872245788574\n",
            "epoch  98\n",
            "1.9542957544326782\n",
            "2.675771474838257\n",
            "epoch  99\n",
            "2.847222089767456\n",
            "3.3971800804138184\n",
            "epoch  100\n",
            "2.402082681655884\n",
            "2.421389102935791\n",
            "epoch  101\n",
            "2.3209474086761475\n",
            "2.681675434112549\n",
            "epoch  102\n",
            "4.290457248687744\n",
            "1.464280128479004\n",
            "epoch  103\n",
            "2.5583369731903076\n",
            "2.5085065364837646\n",
            "epoch  104\n",
            "2.8426451683044434\n",
            "2.0717945098876953\n",
            "epoch  105\n",
            "2.611839771270752\n",
            "2.4834532737731934\n",
            "epoch  106\n",
            "2.002427339553833\n",
            "2.914907217025757\n",
            "epoch  107\n",
            "3.301887035369873\n",
            "1.607550024986267\n",
            "epoch  108\n",
            "3.2515792846679688\n",
            "3.7470250129699707\n",
            "epoch  109\n",
            "1.9489223957061768\n",
            "3.4020333290100098\n",
            "epoch  110\n",
            "1.2993600368499756\n",
            "2.1651101112365723\n",
            "epoch  111\n",
            "1.4525706768035889\n",
            "1.7458922863006592\n",
            "epoch  112\n",
            "2.1853132247924805\n",
            "5.295041561126709\n",
            "epoch  113\n",
            "1.322695255279541\n",
            "2.214573621749878\n",
            "epoch  114\n",
            "2.7686188220977783\n",
            "1.3627547025680542\n",
            "epoch  115\n",
            "1.935347318649292\n",
            "1.5924792289733887\n",
            "epoch  116\n",
            "2.3623883724212646\n",
            "2.1024136543273926\n",
            "epoch  117\n",
            "1.889081358909607\n",
            "2.412452220916748\n",
            "epoch  118\n",
            "1.5576612949371338\n",
            "1.7780414819717407\n",
            "epoch  119\n",
            "1.7281692028045654\n",
            "1.2417494058609009\n",
            "epoch  120\n",
            "1.3648910522460938\n",
            "2.132770538330078\n",
            "epoch  121\n",
            "3.038525342941284\n",
            "1.7221224308013916\n",
            "epoch  122\n",
            "1.2866908311843872\n",
            "1.1387883424758911\n",
            "epoch  123\n",
            "2.4268202781677246\n",
            "1.4532971382141113\n",
            "epoch  124\n",
            "1.731846809387207\n",
            "1.7534195184707642\n",
            "epoch  125\n",
            "1.667412519454956\n",
            "1.7880802154541016\n",
            "epoch  126\n",
            "2.0778491497039795\n",
            "1.9017105102539062\n",
            "epoch  127\n",
            "1.5173463821411133\n",
            "2.364915609359741\n",
            "epoch  128\n",
            "1.742993950843811\n",
            "1.0777349472045898\n",
            "epoch  129\n",
            "1.0946645736694336\n",
            "2.594301700592041\n",
            "epoch  130\n",
            "1.7386680841445923\n",
            "2.3717002868652344\n",
            "epoch  131\n",
            "0.9626603126525879\n",
            "1.896026611328125\n",
            "epoch  132\n",
            "1.8825569152832031\n",
            "2.5631511211395264\n",
            "epoch  133\n",
            "1.5540417432785034\n",
            "1.5398788452148438\n",
            "epoch  134\n",
            "1.2182515859603882\n",
            "1.3625173568725586\n",
            "epoch  135\n",
            "0.9575620889663696\n",
            "2.3955135345458984\n",
            "epoch  136\n",
            "1.3448820114135742\n",
            "1.5142967700958252\n",
            "epoch  137\n",
            "1.6505310535430908\n",
            "2.516507863998413\n",
            "epoch  138\n",
            "2.158021926879883\n",
            "2.381455183029175\n",
            "epoch  139\n",
            "2.1137869358062744\n",
            "1.6880325078964233\n",
            "epoch  140\n",
            "1.6435683965682983\n",
            "1.6829197406768799\n",
            "epoch  141\n",
            "1.2760876417160034\n",
            "2.195202112197876\n",
            "epoch  142\n",
            "2.127088785171509\n",
            "1.7506729364395142\n",
            "epoch  143\n",
            "1.6697700023651123\n",
            "1.5573381185531616\n",
            "epoch  144\n",
            "1.3042504787445068\n",
            "1.4337271451950073\n",
            "epoch  145\n",
            "1.269435167312622\n",
            "1.2353435754776\n",
            "epoch  146\n",
            "1.4241406917572021\n",
            "1.5134798288345337\n",
            "epoch  147\n",
            "1.0791432857513428\n",
            "1.3358142375946045\n",
            "epoch  148\n",
            "1.6024138927459717\n",
            "0.7589669227600098\n",
            "epoch  149\n",
            "Elapsed Time =  0:23:06\n"
          ],
          "name": "stdout"
        }
      ]
    },
    {
      "cell_type": "code",
      "metadata": {
        "colab": {
          "base_uri": "https://localhost:8080/",
          "height": 350
        },
        "id": "nzZB57MKAzqi",
        "outputId": "66c52f5d-1ec2-4d40-eb03-93b785118797"
      },
      "source": [
        "from google.colab import files\n",
        "# plt.plot(loss_hist_train);\n",
        "# plt.title('Network Loss');\n",
        "# plt.ylabel(\"Loss\");\n",
        "# plt.xlabel(\"Batch\");\n",
        "#matplotlib.pyplot.savefig(\"network_loss_12_16.png\")\n",
        "#files.download(\"network_loss_12_16.png\")\n",
        "\n",
        "N = len(loss_hist_train)\n",
        "f, (ax1, ax2) = plt.subplots(1, 2, figsize = (15, 5))\n",
        "ax1.plot(loss_hist_train)\n",
        "ax1.set_title('Network Loss');\n",
        "ax1.set_ylabel(\"Loss\");\n",
        "ax1.set_xlabel(\"Batch\");\n",
        "ax2.plot(range(N - 2000, N), loss_hist_train[N-2000:])\n",
        "ax2.set_title('Network Loss: Last 2000 Batches');\n",
        "ax2.set_ylabel(\"Loss\");\n",
        "ax2.set_xlabel(\"Batch\");\n",
        "# matplotlib.pyplot.savefig(\"network_loss_12_16.png\")\n",
        "# files.download(\"network_loss_12_16.png\")\n",
        "f.show()\n"
      ],
      "execution_count": 52,
      "outputs": [
        {
          "output_type": "display_data",
          "data": {
            "image/png": "[encoded data removed]",
            "text/plain": [
              "<Figure size 1080x360 with 2 Axes>"
            ]
          },
          "metadata": {
            "tags": [],
            "needs_background": "light"
          }
        }
      ]
    },
    {
      "cell_type": "code",
      "metadata": {
        "colab": {
          "base_uri": "https://localhost:8080/",
          "height": 265
        },
        "id": "LJjFSTmyA8pu",
        "outputId": "e1ae4070-9e24-4112-fa3d-62ab7df41f18"
      },
      "source": [
        "plt.scatter(np.arange(len(loss_hist_train)), loss_hist_train);"
      ],
      "execution_count": 111,
      "outputs": [
        {
          "output_type": "display_data",
          "data": {
            "image/png": "[encoded data removed]",
            "text/plain": [
              "<Figure size 432x288 with 1 Axes>"
            ]
          },
          "metadata": {
            "tags": [],
            "needs_background": "light"
          }
        }
      ]
    },
    {
      "cell_type": "markdown",
      "metadata": {
        "id": "LvIBijN6EeIG"
      },
      "source": [
        "##Load Model Instead of Training"
      ]
    },
    {
      "cell_type": "code",
      "metadata": {
        "colab": {
          "base_uri": "https://localhost:8080/"
        },
        "id": "Mc5pK-oFEk6n",
        "outputId": "0db4ab66-84f8-4172-fbfd-53ad2f98c1ce"
      },
      "source": [
        "device = \"cpu\"\n",
        "net_12_14 = Arch4B(20, nonlinearity=torch.sigmoid, device=device)\n",
        "opt_12_14 = torch.optim.Adam(net_12_14.parameters(), lr=1e-3)\n",
        "\n",
        "checkpoint = torch.load('/content/drive/MyDrive/239 Project /model_12_14_2020_Arch4B.pickle')\n",
        "net_12_14.load_state_dict(checkpoint['model_state_dict'])\n",
        "opt_12_14.load_state_dict(checkpoint['optimizer_state_dict'])\n",
        "epoch_12_14 = checkpoint['epoch']\n",
        "loss_12_14 = checkpoint['loss']\n",
        "print(\"Epoch = {}, Loss = {}\".format(epoch_12_14, loss_12_14))"
      ],
      "execution_count": 22,
      "outputs": [
        {
          "output_type": "stream",
          "text": [
            "Epoch = 150, Loss = 0.9795314073562622\n"
          ],
          "name": "stdout"
        }
      ]
    },
    {
      "cell_type": "markdown",
      "metadata": {
        "id": "ELZJ3KgzGf7s"
      },
      "source": [
        "## Reconstructions"
      ]
    },
    {
      "cell_type": "markdown",
      "metadata": {
        "id": "yUgsYdXGwA9I"
      },
      "source": [
        "### Functions for Numerical Summary of Reconstruction"
      ]
    },
    {
      "cell_type": "code",
      "metadata": {
        "id": "BRI9YegrwCwQ"
      },
      "source": [
        "def extract_xyz(x,y,z, num_vv):\n",
        "  X = x[0, 0, :num_vv]\n",
        "  Y = y[0, 0, :num_vv]\n",
        "  Z = z[0, 0, :num_vv]\n",
        "  return torch.stack([X,Y,Z])\n",
        "\n",
        "def string_to_list(s):\n",
        "  \"\"\"\n",
        "  Takes string of the form '[1,2,3]' and returns the list [1,2,3]\n",
        "  \"\"\"\n",
        "  l = list(s.replace(\"[\", \"\").replace(\"]\", \"\").split(\",\"))\n",
        "  return [int(x) for x in l]\n",
        "\n",
        "def get_pairs_from_square_conn(conn):\n",
        "  conn = conn.squeeze()\n",
        "  h,w = conn.shape\n",
        "  pairs = []\n",
        "  for i in range(h):\n",
        "    for j in range(i+1, w):\n",
        "      if conn[i,j] == 1.:\n",
        "        pairs.append((i,j))\n",
        "  return pairs\n",
        "\n",
        "\n",
        "def get_angle(p1, p2, p3):\n",
        "  \"\"\"\n",
        "  Given 3 (x,y,z) 3x1 tensors p1, p2, p3, computes angle between p1 - p2 and p3 - p2\n",
        "  using the dot product cosine rule. \n",
        "  \"\"\"\n",
        "  e1 = p1 - p2\n",
        "  e2 = p3 - p2\n",
        "  x = torch.dot(e1, e2)/(torch.norm(e1) * torch.norm(e2))\n",
        "  return torch.rad2deg(torch.acos(x))\n",
        "\n",
        "def get_xyz_df(xyz_original,num_vv, new_xyz):\n",
        "  reconstructed_z = new_xyz.squeeze()[2, :num_vv].detach().numpy()\n",
        "  xyz_df = pd.DataFrame(xyz_original).astype(\"float\").T\n",
        "  xyz_df.columns = ['X', 'Y', 'Actual Z']\n",
        "  xyz_df.insert(3, \"Estimated Z\", reconstructed_z)\n",
        "  return xyz_df\n",
        "\n",
        "def get_angle_df(angles, xyz_original):\n",
        "  angles = angles[0]\n",
        "  verts = list(angles.keys())\n",
        "  angs = [x.detach().squeeze().tolist() for x in angles.values()]\n",
        "  #print(\"actual std = \", torch.std(torch.stack(list(angles.values()))))\n",
        "  angles_df = pd.DataFrame([verts, angs]).T\n",
        "  angles_df.columns = ['Vertices', 'Estimated Angle']\n",
        "  angles_df.index = [str(i+1) for i in range(len(verts))]\n",
        "  # get actual angles\n",
        "  actual_angles = []\n",
        "  for vert in verts:\n",
        "    vert_list = string_to_list(vert)\n",
        "    v0 = xyz_original[:, vert_list[0]]\n",
        "    v1 = xyz_original[:, vert_list[1]]\n",
        "    v2 = xyz_original[:, vert_list[2]]\n",
        "    #print(vert, get_angle(v0, v1, v2))\n",
        "    actual_angles.append(get_angle(v0, v1, v2))\n",
        "  angles_df.insert(1, \"Actual Angle\", torch.stack(actual_angles).tolist())\n",
        "  return angles_df\n",
        "\n",
        "def get_loss_df(est_sda, sda, planarity):\n",
        "  loss_list = [[est_sda.squeeze().detach().tolist(), sda.squeeze().detach().tolist()],\n",
        "               [planarity.detach().tolist()[0], 0],\n",
        "               [loss.squeeze().detach().tolist(),sda.squeeze().detach().tolist()]]\n",
        "  loss_df = pd.DataFrame(loss_list, \n",
        "                         columns = [\"Estimated\", \"Actual\"], \n",
        "                         index=['SDA', 'Deviation from Planarity', 'Total Loss'])\n",
        "  return loss_df\n",
        "\n",
        "def get_face_dfs(faces, xyz_original, new_xyz):\n",
        "  faces = faces.squeeze().tolist()\n",
        "  pad_indexs = [f.index(-1) for f in faces]\n",
        "  new_faces = []\n",
        "  for i in range(len(faces)):\n",
        "    if pad_indexs[i] > 0:\n",
        "      new_faces += [faces[i][:pad_indexs[i]]]\n",
        "  \n",
        "  face_dfs = {}\n",
        "  for f in new_faces:\n",
        "    #print(\"FACE {}\".format(f[:len(f)-2]))\n",
        "    threes = [f[i:i+3] for i in range(len(f) - 2)]\n",
        "    actual_angles = []\n",
        "    reconstructed_angles = []\n",
        "    for vert in threes:\n",
        "      v0 = xyz_original[:, vert[0]]\n",
        "      v1 = xyz_original[:, vert[1]]\n",
        "      v2 = xyz_original[:, vert[2]]\n",
        "      actual_angles.append(get_angle(v0, v1, v2))\n",
        "      v3 = new_xyz.squeeze()[:, vert[0]]\n",
        "      v4 = new_xyz.squeeze()[:, vert[1]]\n",
        "      v5 = new_xyz.squeeze()[:, vert[2]]\n",
        "      reconstructed_angles.append(get_angle(v3, v4, v5))\n",
        "    face_df = pd.DataFrame([[str(t) for t in threes], \n",
        "                            [a.tolist() for a in actual_angles], \n",
        "                            [ra.detach().tolist() for ra in reconstructed_angles]]).T\n",
        "    face_df.columns = ['Vertices', 'Actual Angle','Estimated Angle']\n",
        "    face_df.loc['Total'] = pd.Series([face_df['Actual Angle'].sum(), face_df['Estimated Angle'].sum()], \n",
        "                                     index = ['Actual Angle', 'Estimated Angle'])\n",
        "    face_dfs[str(f[:len(f)-2])] = face_df\n",
        "\n",
        "  return face_dfs\n",
        "\n",
        "def get_dist_df(conn, xyz_original, new_xyz):\n",
        "  # Distances DataFrame\n",
        "  pairs = get_pairs_from_square_conn(conn) \n",
        "  actual_distances = []\n",
        "  estimated_distances = []\n",
        "  for pair in pairs:\n",
        "    i0 = pair[0]\n",
        "    i1 = pair[1]\n",
        "    d_actual = torch.linalg.norm(xyz_original[:, i0] - xyz_original[:, i1])\n",
        "    d_estimated = torch.linalg.norm(new_xyz.squeeze()[:, i0] - new_xyz.squeeze()[:, i1])\n",
        "    actual_distances.append(d_actual)\n",
        "    estimated_distances.append(d_estimated)\n",
        "  \n",
        "  dist_df = pd.DataFrame([[str(pair) for pair in pairs],\n",
        "                          [a.tolist() for a in actual_distances],\n",
        "                          [a.tolist() for a in estimated_distances]]).T\n",
        "  dist_df.columns = ['Verts in Edge', 'Actual Distance', \"Estimated Distance\"]\n",
        "  return dist_df\n",
        "\n",
        "def single_object_summary(next_iter_loader, net, return_dfs=False, print_all=True):\n",
        "  \"\"\"\n",
        "  Inputs: \n",
        "  loader = dataloader with sample size 1, probably the test loader\n",
        "  net = neural network to evaluate loader data on\n",
        "\n",
        "  Takes a single example from the loader and passes the data through the net, \n",
        "  and then provides numerical summaries of the original and reconstructed data.\n",
        "  \"\"\"\n",
        "\n",
        "  x, y, z, conn, label, sda, num_vv, triples, faces = next_iter_loader  \n",
        "  new_xyz, est_sda, planarity, loss, angles = net(x, y, conn, num_vv, triples, faces, extract_xyz = True)\n",
        "  xyz_original = extract_xyz(x,y,z, num_vv)\n",
        "\n",
        "  xyz_df = get_xyz_df(xyz_original,num_vv, new_xyz)\n",
        "  angles_df = get_angle_df(angles, xyz_original)\n",
        "  loss_df = get_loss_df(est_sda, sda, planarity)\n",
        "  face_dfs = get_face_dfs(faces, xyz_original, new_xyz)\n",
        "  dist_df = get_dist_df(conn, xyz_original, new_xyz)\n",
        "\n",
        "  if print_all:\n",
        "    print(\"------------------------------------------------------\")\n",
        "    print(\"ANGLES\")\n",
        "    print(angles_df)\n",
        "    print(\"------------------------------------------------------\")\n",
        "    print(\"SDA + PLANARITY\")\n",
        "    print(loss_df) \n",
        "    print(\"------------------------------------------------------\")\n",
        "    print(\"XYZ\")\n",
        "    print(xyz_df)\n",
        "    print(\"------------------------------------------------------\")\n",
        "    for face in face_dfs.keys():\n",
        "      print(face)\n",
        "      print(face_dfs[face])\n",
        "      print(\"------------------------------------------------------\")\n",
        "    print(\"EDGE LENGTHS\")\n",
        "    print(dist_df)\n",
        "    print(\"------------------------------------------------------\")\n",
        "\n",
        "  if not return_dfs:\n",
        "    return xyz_original, new_xyz.squeeze()[:, :num_vv], conn\n",
        "  else:\n",
        "    dfs = {}\n",
        "    dfs[\"ANGLES\"] = angles_df\n",
        "    dfs[\"SDA + PLANARITY\"] = loss_df\n",
        "    dfs[\"XYZ\"] = xyz_df\n",
        "    dfs[\"FACES\"] = face_dfs\n",
        "    dfs[\"EDGE LENGTHS\"] = dist_df \n",
        "    return xyz_original, new_xyz.squeeze()[:, :num_vv], conn, dfs\n",
        "\n",
        "def dfs_to_markdown(dfs, y_index=False):\n",
        "  for key in dfs.keys():\n",
        "    if key == \"FACES\":\n",
        "      for face_string in dfs[\"FACES\"].keys():\n",
        "        blob = tabulate(dfs[\"FACES\"][face_string], headers='keys', tablefmt='pipe')\n",
        "        blob = blob.split(\"\\n\")\n",
        "        print(\"\\n\", face_string)\n",
        "        for line in blob:\n",
        "          print(line)\n",
        "    else:\n",
        "      blob = tabulate(dfs[key], headers='keys', tablefmt='pipe')\n",
        "      blob = blob.split(\"\\n\")\n",
        "      print(\"\\n\", key)\n",
        "      for line in blob:\n",
        "        print(line)\n",
        "\n",
        "\n"
      ],
      "execution_count": 93,
      "outputs": []
    },
    {
      "cell_type": "markdown",
      "metadata": {
        "id": "FJ9zQjRssGkj"
      },
      "source": [
        "### Functions for Graphical Depiction of Reconstruction"
      ]
    },
    {
      "cell_type": "code",
      "metadata": {
        "id": "0BOcrfO1wFjx"
      },
      "source": [
        "def get_plotly_scatter3D_frame2(original, reconstructed, conn, theta):\n",
        "  \"\"\"Ok I have to decide what axis to rotate about. Viewing in XY plane, so rotate about axis\n",
        "  defined by avg(x) avg(y), then max(z), min(z). Rotating about axis parallel to x axis, \n",
        "  so x values never change, but y and z will. Adjust everything such that both objects \n",
        "  are centered at the origin. \n",
        "  xyz is going to be (3 x n), so x_rot @ z_rot @ xyz should yield the correct rotation. \n",
        "  \"\"\"\n",
        "  x_rot = np.array([[1,0,0],\n",
        "                    [0, np.cos(theta), -np.sin(theta)],\n",
        "                    [0, np.sin(theta), np.cos(theta)]])\n",
        "\n",
        "  original_new = x_rot @ original\n",
        "  reconstructed_new = x_rot @ reconstructed\n",
        "\n",
        "  #################### ORIGINAL ########################\n",
        "  # Vertices Data\n",
        "  trace1 = go.Scatter3d(\n",
        "      x=original_new[0],\n",
        "      y=original_new[1],\n",
        "      z=original_new[2],\n",
        "      mode='markers+text',\n",
        "      text = [str(i) for i in range(len(original[0]))],\n",
        "      name='Original',\n",
        "      marker=dict(color='red')\n",
        "  )\n",
        "  # Lines Data\n",
        "  pairs = pairs_from_conn(conn)\n",
        "  x_lines = list()\n",
        "  y_lines = list()\n",
        "  z_lines = list()\n",
        "\n",
        "  #create the coordinate list for the lines\n",
        "  for p in pairs:\n",
        "      for i in range(2):\n",
        "          x_lines.append(original_new[0][p[i]])\n",
        "          y_lines.append(original_new[1][p[i]])\n",
        "          z_lines.append(original_new[2][p[i]])\n",
        "      x_lines.append(None)\n",
        "      y_lines.append(None)\n",
        "      z_lines.append(None)\n",
        "\n",
        "  trace2 = go.Scatter3d(\n",
        "      x=x_lines,\n",
        "      y=y_lines,\n",
        "      z=z_lines,\n",
        "      mode='lines',\n",
        "      name='Original',\n",
        "      marker=dict(color='red')\n",
        "  )\n",
        "  ################### RECONSTRUCTED #####################\n",
        "  # Vertices Data\n",
        "  trace3 = go.Scatter3d(\n",
        "      x=reconstructed_new[0],\n",
        "      y=reconstructed_new[1],\n",
        "      z=reconstructed_new[2],\n",
        "      mode='markers+text',\n",
        "      text = [str(i) for i in range(len(original[0]))],\n",
        "      name='Reconstructed',\n",
        "      marker=dict(color='blue')\n",
        "  )\n",
        "  # Lines Data\n",
        "  x_lines2 = list()\n",
        "  y_lines2 = list()\n",
        "  z_lines2 = list()\n",
        "\n",
        "  #create the coordinate list for the lines\n",
        "  for p in pairs:\n",
        "      for i in range(2):\n",
        "          x_lines2.append(reconstructed_new[0][p[i]])\n",
        "          y_lines2.append(reconstructed_new[1][p[i]])\n",
        "          z_lines2.append(reconstructed_new[2][p[i]])\n",
        "      x_lines2.append(None)\n",
        "      y_lines2.append(None)\n",
        "      z_lines2.append(None)\n",
        "\n",
        "  trace4 = go.Scatter3d(\n",
        "      x=x_lines2,\n",
        "      y=y_lines2,\n",
        "      z=z_lines2,\n",
        "      mode='lines',\n",
        "      name='Reconstructed',\n",
        "      marker=dict(color='blue')\n",
        "  )\n",
        "\n",
        "\n",
        "  return go.Frame(data = [trace1, trace2, trace3, trace4], traces=[0,1,2,3])\n",
        "\n",
        "\n",
        "def compare3D(original, reconstructed, conn, center_at_origin=False, am=\"data\", nframes=30, tp360=2):\n",
        "  #credit: https://stackoverflow.com/questions/42301481/adding-specific-lines-to-a-plotly-scatter3d-plot\n",
        "\n",
        "  # convert from torch to numpy\n",
        "  pairs = pairs_from_conn(conn)\n",
        "  original = original.detach().numpy()\n",
        "  reconstructed = reconstructed.detach().numpy()\n",
        "\n",
        "  # center at origin, as NN reconstruction centered at zero, and actual object \n",
        "  # out in the world. \n",
        "  if center_at_origin:\n",
        "    orig_mean = np.mean(original, axis=1)\n",
        "    reconstructed_mean = np.mean(reconstructed, axis=1)\n",
        "    original = (original.T - orig_mean).T\n",
        "    reconstructed = (reconstructed.T - reconstructed_mean).T\n",
        "  \n",
        "  # set plot bounds\n",
        "  eps = 0.2\n",
        "  M = np.max(np.abs(np.concatenate((original, reconstructed), axis = 0)))\n",
        "  M += eps\n",
        "\n",
        "  #set time per frame\n",
        "  delay = int(tp360*1000/nframes)\n",
        "\n",
        "\n",
        "  # Define all the components of the plot\n",
        "  trace1 = go.Scatter3d(\n",
        "      x=original[0],\n",
        "      y=original[1],\n",
        "      z=original[2],\n",
        "      mode='markers+text',\n",
        "      text = [str(i) for i in range(len(original[0]))],\n",
        "      name='Original',\n",
        "      marker=dict(color='red')\n",
        "  )\n",
        "\n",
        "  trace2 = go.Scatter3d(\n",
        "      x=reconstructed[0],\n",
        "      y=reconstructed[1],\n",
        "      z=reconstructed[2],\n",
        "      mode='markers+text',\n",
        "      text = [str(i) for i in range(len(original[0]))],\n",
        "      name='Reconstructed',\n",
        "      marker=dict(color='blue')\n",
        "  )\n",
        "\n",
        "  x_lines = list()\n",
        "  y_lines = list()\n",
        "  z_lines = list()\n",
        "\n",
        "  #create the coordinate list for the lines\n",
        "  for p in pairs:\n",
        "      for i in range(2):\n",
        "          x_lines.append(original[0][p[i]])\n",
        "          y_lines.append(original[1][p[i]])\n",
        "          z_lines.append(original[2][p[i]])\n",
        "      x_lines.append(None)\n",
        "      y_lines.append(None)\n",
        "      z_lines.append(None)\n",
        "\n",
        "  trace3 = go.Scatter3d(\n",
        "      x=x_lines,\n",
        "      y=y_lines,\n",
        "      z=z_lines,\n",
        "      mode='lines',\n",
        "      name='Original',\n",
        "      marker=dict(color='red')\n",
        "  )\n",
        "\n",
        "  x_lines2 = list()\n",
        "  y_lines2 = list()\n",
        "  z_lines2 = list()\n",
        "\n",
        "  #create the coordinate list for the lines\n",
        "  for p in pairs:\n",
        "      for i in range(2):\n",
        "          x_lines2.append(reconstructed[0][p[i]])\n",
        "          y_lines2.append(reconstructed[1][p[i]])\n",
        "          z_lines2.append(reconstructed[2][p[i]])\n",
        "      x_lines2.append(None)\n",
        "      y_lines2.append(None)\n",
        "      z_lines2.append(None)\n",
        "\n",
        "  trace4 = go.Scatter3d(\n",
        "      x=x_lines2,\n",
        "      y=y_lines2,\n",
        "      z=z_lines2,\n",
        "      mode='lines',\n",
        "      name='Reconstructed',\n",
        "      marker=dict(color='blue')\n",
        "  )\n",
        "  # layout = go.Layout(width=600, height=600, \n",
        "  #                    scene=dict(aspectmode=am, aspectratio=dict(x=1, y=1, z=1)))\n",
        "\n",
        "  camera = dict(eye=dict(x=0., y=0, z=2.5))\n",
        "\n",
        "  #fig = go.Figure(data=[trace1, trace2, trace3, trace4], layout=layout)\n",
        "  thetas = np.linspace(0,2*np.pi, nframes)\n",
        "  fig = go.Figure(\n",
        "    data=[trace1, trace2, trace3, trace4],\n",
        "    layout=go.Layout(width=800, height=800,\n",
        "                     updatemenus=[dict(type=\"buttons\",\n",
        "                        buttons=[dict(label=\"Rotate\",\n",
        "                                        method=\"animate\",\n",
        "                                        args=[None, {\"frame\": {\"duration\": delay, \"redraw\": True},}])])]),\n",
        "    frames=[get_plotly_scatter3D_frame2(original, reconstructed, conn, theta) for theta in thetas])\n",
        "\n",
        "  fig.update_layout(scene_camera=camera,\n",
        "                    scene = dict(\n",
        "                      xaxis = dict(range=[-M,M],),\n",
        "                      yaxis = dict(range=[-M,M],),\n",
        "                      zaxis = dict(range=[-M,M],),\n",
        "                      aspectmode=am),)\n",
        "  fig.layout.scene.camera.projection.type = \"orthographic\"\n",
        "  fig.show()\n"
      ],
      "execution_count": 94,
      "outputs": []
    },
    {
      "cell_type": "markdown",
      "metadata": {
        "id": "bNebOX7RnWL8"
      },
      "source": [
        "### Numerical Summary of Reconstruction"
      ]
    },
    {
      "cell_type": "code",
      "metadata": {
        "id": "fVP1vTZHBRK0",
        "colab": {
          "base_uri": "https://localhost:8080/"
        },
        "outputId": "c8393fd9-97e0-47e3-901c-4dff9a3b58c8"
      },
      "source": [
        "next_iter_loader = next(iter(test_loader))\n",
        "xyz_original, xyz_new, conn, dfs= single_object_summary(next_iter_loader, net_12_14, print_all=False, return_dfs=True)\n",
        "dfs_to_markdown(dfs)"
      ],
      "execution_count": 109,
      "outputs": [
        {
          "output_type": "stream",
          "text": [
            "\n",
            " ANGLES\n",
            "|    | Vertices   |   Actual Angle |   Estimated Angle |\n",
            "|---:|:-----------|---------------:|------------------:|\n",
            "|  1 | [1, 0, 4]  |        90      |           88.1462 |\n",
            "|  2 | [0, 1, 2]  |        96.9231 |           93.5675 |\n",
            "|  3 | [0, 1, 5]  |        90      |           89.7126 |\n",
            "|  4 | [2, 1, 5]  |        90      |           89.0361 |\n",
            "|  5 | [1, 2, 6]  |        90      |           91.2656 |\n",
            "|  6 | [4, 3, 6]  |        83.0769 |           88.937  |\n",
            "|  7 | [3, 4, 5]  |        96.9231 |           94.2513 |\n",
            "|  8 | [3, 4, 0]  |        90.0001 |           93.8838 |\n",
            "|  9 | [5, 4, 0]  |        90      |           90.7987 |\n",
            "| 10 | [4, 5, 6]  |        96.9231 |           94.1894 |\n",
            "| 11 | [4, 5, 1]  |        90      |           91.3177 |\n",
            "| 12 | [6, 5, 1]  |        90      |           90.7192 |\n",
            "| 13 | [5, 6, 3]  |        83.0769 |           82.3388 |\n",
            "| 14 | [5, 6, 2]  |        90      |           88.9755 |\n",
            "| 15 | [3, 6, 2]  |        90      |           95.3882 |\n",
            "\n",
            " SDA + PLANARITY\n",
            "|                          |   Estimated |   Actual |\n",
            "|:-------------------------|------------:|---------:|\n",
            "| SDA                      |    3.29307  |  4.10966 |\n",
            "| Deviation from Planarity |    0.255249 |  0       |\n",
            "| Total Loss               |   42.1053   |  4.10966 |\n",
            "\n",
            " XYZ\n",
            "|    |         X |          Y |   Actual Z |   Estimated Z |\n",
            "|---:|----------:|-----------:|-----------:|--------------:|\n",
            "|  0 |  0.823482 |  0.608837  |  -11.3435  |     -0.680864 |\n",
            "|  1 | -0.140282 |  0.611278  |  -10.4324  |      0.346926 |\n",
            "|  2 | -0.871164 | -0.355916  |  -10.9702  |     -0.221901 |\n",
            "|  3 |  0.828853 | -1.03717   |  -11.5661  |     -0.782476 |\n",
            "|  4 |  1.3274   | -0.0693889 |  -10.8086  |     -0.162777 |\n",
            "|  5 |  0.363631 | -0.0669473 |   -9.89753 |      0.814419 |\n",
            "|  6 | -0.367251 | -1.03414   |  -10.4354  |      0.233913 |\n",
            "\n",
            " [3, 4, 5, 6]\n",
            "|       | Vertices   |   Actual Angle |   Estimated Angle |\n",
            "|:------|:-----------|---------------:|------------------:|\n",
            "| 0     | [3, 4, 5]  |        96.9231 |           94.2513 |\n",
            "| 1     | [4, 5, 6]  |        96.9231 |           94.1894 |\n",
            "| 2     | [5, 6, 3]  |        83.0769 |           82.3388 |\n",
            "| 3     | [6, 3, 4]  |        83.0769 |           88.937  |\n",
            "| Total | nan        |       360      |          359.716  |\n",
            "\n",
            " [0, 1, 5, 4]\n",
            "|       | Vertices   |   Actual Angle |   Estimated Angle |\n",
            "|:------|:-----------|---------------:|------------------:|\n",
            "| 0     | [0, 1, 5]  |             90 |           89.7126 |\n",
            "| 1     | [1, 5, 4]  |             90 |           91.3177 |\n",
            "| 2     | [5, 4, 0]  |             90 |           90.7987 |\n",
            "| 3     | [4, 0, 1]  |             90 |           88.1462 |\n",
            "| Total | nan        |            360 |          359.975  |\n",
            "\n",
            " [1, 2, 6, 5]\n",
            "|       | Vertices   |   Actual Angle |   Estimated Angle |\n",
            "|:------|:-----------|---------------:|------------------:|\n",
            "| 0     | [1, 2, 6]  |             90 |           91.2656 |\n",
            "| 1     | [2, 6, 5]  |             90 |           88.9755 |\n",
            "| 2     | [6, 5, 1]  |             90 |           90.7192 |\n",
            "| 3     | [5, 1, 2]  |             90 |           89.0361 |\n",
            "| Total | nan        |            360 |          359.996  |\n",
            "\n",
            " EDGE LENGTHS\n",
            "|    | Verts in Edge   |   Actual Distance |   Estimated Distance |\n",
            "|---:|:----------------|------------------:|---------------------:|\n",
            "|  0 | (0, 1)          |           1.32625 |             1.40897  |\n",
            "|  1 | (0, 4)          |           1       |             0.991127 |\n",
            "|  2 | (1, 2)          |           1.32625 |             1.33911  |\n",
            "|  3 | (1, 5)          |           1       |             0.965643 |\n",
            "|  4 | (2, 6)          |           1       |             0.960044 |\n",
            "|  5 | (3, 4)          |           1.32624 |             1.25267  |\n",
            "|  6 | (3, 6)          |           1.64597 |             1.56962  |\n",
            "|  7 | (4, 5)          |           1.32625 |             1.3725   |\n",
            "|  8 | (5, 6)          |           1.32625 |             1.34411  |\n"
          ],
          "name": "stdout"
        }
      ]
    },
    {
      "cell_type": "markdown",
      "metadata": {
        "id": "T8m0G4manYlb"
      },
      "source": [
        "### Graphical Summary of Reconstruction\n",
        "*   These functions depend on the output of single_object_summary function above. \n",
        "\n",
        "\n"
      ]
    },
    {
      "cell_type": "code",
      "metadata": {
        "colab": {
          "base_uri": "https://localhost:8080/",
          "height": 817
        },
        "id": "TlxqHGWHHSQT",
        "outputId": "734a2f87-bab2-4df0-c2f9-d4de84103420"
      },
      "source": [
        "compare3D(xyz_original, xyz_new, conn, center_at_origin=True, am='cube', nframes=60, tp360=6)"
      ],
      "execution_count": 110,
      "outputs": [
        {
          "output_type": "display_data",
          "data": {
            "text/html": [
              "<html>\n",
              "<head><meta charset=\"utf-8\" /></head>\n",
              "<body>\n",
              "    <div>            <script src=\"https://cdnjs.cloudflare.com/ajax/libs/mathjax/2.7.5/MathJax.js?config=TeX-AMS-MML_SVG\"></script><script type=\"text/javascript\">if (window.MathJax) {MathJax.Hub.Config({SVG: {font: \"STIX-Web\"}});}</script>                <script type=\"text/javascript\">window.PlotlyConfig = {MathJaxConfig: 'local'};</script>\n",
              "        <script src=\"https://cdn.plot.ly/plotly-latest.min.js\"></script>                <div id=\"ab116107-dcca-4cb5-b57e-5cb36429907b\" class=\"plotly-graph-div\" style=\"height:800px; width:800px;\"></div>            <script type=\"text/javascript\">                                    window.PLOTLYENV=window.PLOTLYENV || {};                                    if (document.getElementById(\"ab116107-dcca-4cb5-b57e-5cb36429907b\")) {                    Plotly.newPlot(                        \"ab116107-dcca-4cb5-b57e-5cb36429907b\",                        [{\"marker\": {\"color\": \"red\"}, \"mode\": \"markers+text\", \"name\": \"Original\", \"text\": [\"0\", \"1\", \"2\", \"3\", \"4\", \"5\", \"6\"], \"type\": \"scatter3d\", \"x\": [0.542816162109375, -0.42094847559928894, -1.1518301963806152, 0.5481863021850586, 1.0467290878295898, 0.0829644501209259, -0.6479172706604004], \"y\": [0.8007580637931824, 0.8031992316246033, -0.16399435698986053, -0.8452497124671936, 0.12253256142139435, 0.1249740868806839, -0.842219889163971], \"z\": [-0.5643768310546875, 0.3467092514038086, -0.19113445281982422, -0.786992073059082, -0.029510498046875, 0.8815755844116211, 0.3437318801879883]}, {\"marker\": {\"color\": \"blue\"}, \"mode\": \"markers+text\", \"name\": \"Reconstructed\", \"text\": [\"0\", \"1\", \"2\", \"3\", \"4\", \"5\", \"6\"], \"type\": \"scatter3d\", \"x\": [0.542816162109375, -0.42094847559928894, -1.1518301963806152, 0.5481863021850586, 1.0467290878295898, 0.0829644501209259, -0.6479172706604004], \"y\": [0.8007580637931824, 0.8031992316246033, -0.16399435698986053, -0.8452497124671936, 0.12253256142139435, 0.1249740868806839, -0.842219889163971], \"z\": [-0.6161841750144958, 0.4116063117980957, -0.15722066164016724, -0.717795729637146, -0.09809733182191849, 0.879098653793335, 0.2985928952693939]}, {\"marker\": {\"color\": \"red\"}, \"mode\": \"lines\", \"name\": \"Original\", \"type\": \"scatter3d\", \"x\": [0.542816162109375, -0.42094847559928894, null, 0.542816162109375, 1.0467290878295898, null, -0.42094847559928894, -1.1518301963806152, null, -0.42094847559928894, 0.0829644501209259, null, -1.1518301963806152, -0.6479172706604004, null, 0.5481863021850586, 1.0467290878295898, null, 0.5481863021850586, -0.6479172706604004, null, 1.0467290878295898, 0.0829644501209259, null, 0.0829644501209259, -0.6479172706604004, null], \"y\": [0.8007580637931824, 0.8031992316246033, null, 0.8007580637931824, 0.12253256142139435, null, 0.8031992316246033, -0.16399435698986053, null, 0.8031992316246033, 0.1249740868806839, null, -0.16399435698986053, -0.842219889163971, null, -0.8452497124671936, 0.12253256142139435, null, -0.8452497124671936, -0.842219889163971, null, 0.12253256142139435, 0.1249740868806839, null, 0.1249740868806839, -0.842219889163971, null], \"z\": [-0.5643768310546875, 0.3467092514038086, null, -0.5643768310546875, -0.029510498046875, null, 0.3467092514038086, -0.19113445281982422, null, 0.3467092514038086, 0.8815755844116211, null, -0.19113445281982422, 0.3437318801879883, null, -0.786992073059082, -0.029510498046875, null, -0.786992073059082, 0.3437318801879883, null, -0.029510498046875, 0.8815755844116211, null, 0.8815755844116211, 0.3437318801879883, null]}, {\"marker\": {\"color\": \"blue\"}, \"mode\": \"lines\", \"name\": \"Reconstructed\", \"type\": \"scatter3d\", \"x\": [0.542816162109375, -0.42094847559928894, null, 0.542816162109375, 1.0467290878295898, null, -0.42094847559928894, -1.1518301963806152, null, -0.42094847559928894, 0.0829644501209259, null, -1.1518301963806152, -0.6479172706604004, null, 0.5481863021850586, 1.0467290878295898, null, 0.5481863021850586, -0.6479172706604004, null, 1.0467290878295898, 0.0829644501209259, null, 0.0829644501209259, -0.6479172706604004, null], \"y\": [0.8007580637931824, 0.8031992316246033, null, 0.8007580637931824, 0.12253256142139435, null, 0.8031992316246033, -0.16399435698986053, null, 0.8031992316246033, 0.1249740868806839, null, -0.16399435698986053, -0.842219889163971, null, -0.8452497124671936, 0.12253256142139435, null, -0.8452497124671936, -0.842219889163971, null, 0.12253256142139435, 0.1249740868806839, null, 0.1249740868806839, -0.842219889163971, null], \"z\": [-0.6161841750144958, 0.4116063117980957, null, -0.6161841750144958, -0.09809733182191849, null, 0.4116063117980957, -0.15722066164016724, null, 0.4116063117980957, 0.879098653793335, null, -0.15722066164016724, 0.2985928952693939, null, -0.717795729637146, -0.09809733182191849, null, -0.717795729637146, 0.2985928952693939, null, -0.09809733182191849, 0.879098653793335, null, 0.879098653793335, 0.2985928952693939, null]}],                        {\"height\": 800, \"scene\": {\"aspectmode\": \"cube\", \"camera\": {\"eye\": {\"x\": 0.0, \"y\": 0, \"z\": 2.5}, \"projection\": {\"type\": \"orthographic\"}}, \"xaxis\": {\"range\": [-1.3518301963806152, 1.3518301963806152]}, \"yaxis\": {\"range\": [-1.3518301963806152, 1.3518301963806152]}, \"zaxis\": {\"range\": [-1.3518301963806152, 1.3518301963806152]}}, \"template\": {\"data\": {\"bar\": [{\"error_x\": {\"color\": \"#2a3f5f\"}, \"error_y\": {\"color\": \"#2a3f5f\"}, \"marker\": {\"line\": {\"color\": \"#E5ECF6\", \"width\": 0.5}}, \"type\": \"bar\"}], \"barpolar\": [{\"marker\": {\"line\": {\"color\": \"#E5ECF6\", \"width\": 0.5}}, \"type\": \"barpolar\"}], \"carpet\": [{\"aaxis\": {\"endlinecolor\": \"#2a3f5f\", \"gridcolor\": \"white\", \"linecolor\": \"white\", \"minorgridcolor\": \"white\", \"startlinecolor\": \"#2a3f5f\"}, \"baxis\": {\"endlinecolor\": \"#2a3f5f\", \"gridcolor\": \"white\", \"linecolor\": \"white\", \"minorgridcolor\": \"white\", \"startlinecolor\": \"#2a3f5f\"}, \"type\": \"carpet\"}], \"choropleth\": [{\"colorbar\": {\"outlinewidth\": 0, \"ticks\": \"\"}, \"type\": \"choropleth\"}], \"contour\": [{\"colorbar\": {\"outlinewidth\": 0, \"ticks\": \"\"}, \"colorscale\": [[0.0, \"#0d0887\"], [0.1111111111111111, \"#46039f\"], [0.2222222222222222, \"#7201a8\"], [0.3333333333333333, \"#9c179e\"], [0.4444444444444444, \"#bd3786\"], [0.5555555555555556, \"#d8576b\"], [0.6666666666666666, \"#ed7953\"], [0.7777777777777778, \"#fb9f3a\"], [0.8888888888888888, \"#fdca26\"], [1.0, \"#f0f921\"]], \"type\": \"contour\"}], \"contourcarpet\": [{\"colorbar\": {\"outlinewidth\": 0, \"ticks\": \"\"}, \"type\": \"contourcarpet\"}], \"heatmap\": [{\"colorbar\": {\"outlinewidth\": 0, \"ticks\": \"\"}, \"colorscale\": [[0.0, \"#0d0887\"], [0.1111111111111111, \"#46039f\"], [0.2222222222222222, \"#7201a8\"], [0.3333333333333333, \"#9c179e\"], [0.4444444444444444, \"#bd3786\"], [0.5555555555555556, \"#d8576b\"], [0.6666666666666666, \"#ed7953\"], [0.7777777777777778, \"#fb9f3a\"], [0.8888888888888888, \"#fdca26\"], [1.0, \"#f0f921\"]], \"type\": \"heatmap\"}], \"heatmapgl\": [{\"colorbar\": {\"outlinewidth\": 0, \"ticks\": \"\"}, \"colorscale\": [[0.0, \"#0d0887\"], [0.1111111111111111, \"#46039f\"], [0.2222222222222222, \"#7201a8\"], [0.3333333333333333, \"#9c179e\"], [0.4444444444444444, \"#bd3786\"], [0.5555555555555556, \"#d8576b\"], [0.6666666666666666, \"#ed7953\"], [0.7777777777777778, \"#fb9f3a\"], [0.8888888888888888, \"#fdca26\"], [1.0, \"#f0f921\"]], \"type\": \"heatmapgl\"}], \"histogram\": [{\"marker\": {\"colorbar\": {\"outlinewidth\": 0, \"ticks\": \"\"}}, \"type\": \"histogram\"}], \"histogram2d\": [{\"colorbar\": {\"outlinewidth\": 0, \"ticks\": \"\"}, \"colorscale\": [[0.0, \"#0d0887\"], [0.1111111111111111, \"#46039f\"], [0.2222222222222222, \"#7201a8\"], [0.3333333333333333, \"#9c179e\"], [0.4444444444444444, \"#bd3786\"], [0.5555555555555556, \"#d8576b\"], [0.6666666666666666, \"#ed7953\"], [0.7777777777777778, \"#fb9f3a\"], [0.8888888888888888, \"#fdca26\"], [1.0, \"#f0f921\"]], \"type\": \"histogram2d\"}], \"histogram2dcontour\": [{\"colorbar\": {\"outlinewidth\": 0, \"ticks\": \"\"}, \"colorscale\": [[0.0, \"#0d0887\"], [0.1111111111111111, \"#46039f\"], [0.2222222222222222, \"#7201a8\"], [0.3333333333333333, \"#9c179e\"], [0.4444444444444444, \"#bd3786\"], [0.5555555555555556, \"#d8576b\"], [0.6666666666666666, \"#ed7953\"], [0.7777777777777778, \"#fb9f3a\"], [0.8888888888888888, \"#fdca26\"], [1.0, \"#f0f921\"]], \"type\": \"histogram2dcontour\"}], \"mesh3d\": [{\"colorbar\": {\"outlinewidth\": 0, \"ticks\": \"\"}, \"type\": \"mesh3d\"}], \"parcoords\": [{\"line\": {\"colorbar\": {\"outlinewidth\": 0, \"ticks\": \"\"}}, \"type\": \"parcoords\"}], \"pie\": [{\"automargin\": true, \"type\": \"pie\"}], \"scatter\": [{\"marker\": {\"colorbar\": {\"outlinewidth\": 0, \"ticks\": \"\"}}, \"type\": \"scatter\"}], \"scatter3d\": [{\"line\": {\"colorbar\": {\"outlinewidth\": 0, \"ticks\": \"\"}}, \"marker\": {\"colorbar\": {\"outlinewidth\": 0, \"ticks\": \"\"}}, \"type\": \"scatter3d\"}], \"scattercarpet\": [{\"marker\": {\"colorbar\": {\"outlinewidth\": 0, \"ticks\": \"\"}}, \"type\": \"scattercarpet\"}], \"scattergeo\": [{\"marker\": {\"colorbar\": {\"outlinewidth\": 0, \"ticks\": \"\"}}, \"type\": \"scattergeo\"}], \"scattergl\": [{\"marker\": {\"colorbar\": {\"outlinewidth\": 0, \"ticks\": \"\"}}, \"type\": \"scattergl\"}], \"scattermapbox\": [{\"marker\": {\"colorbar\": {\"outlinewidth\": 0, \"ticks\": \"\"}}, \"type\": \"scattermapbox\"}], \"scatterpolar\": [{\"marker\": {\"colorbar\": {\"outlinewidth\": 0, \"ticks\": \"\"}}, \"type\": \"scatterpolar\"}], \"scatterpolargl\": [{\"marker\": {\"colorbar\": {\"outlinewidth\": 0, \"ticks\": \"\"}}, \"type\": \"scatterpolargl\"}], \"scatterternary\": [{\"marker\": {\"colorbar\": {\"outlinewidth\": 0, \"ticks\": \"\"}}, \"type\": \"scatterternary\"}], \"surface\": [{\"colorbar\": {\"outlinewidth\": 0, \"ticks\": \"\"}, \"colorscale\": [[0.0, \"#0d0887\"], [0.1111111111111111, \"#46039f\"], [0.2222222222222222, \"#7201a8\"], [0.3333333333333333, \"#9c179e\"], [0.4444444444444444, \"#bd3786\"], [0.5555555555555556, \"#d8576b\"], [0.6666666666666666, \"#ed7953\"], [0.7777777777777778, \"#fb9f3a\"], [0.8888888888888888, \"#fdca26\"], [1.0, \"#f0f921\"]], \"type\": \"surface\"}], \"table\": [{\"cells\": {\"fill\": {\"color\": \"#EBF0F8\"}, \"line\": {\"color\": \"white\"}}, \"header\": {\"fill\": {\"color\": \"#C8D4E3\"}, \"line\": {\"color\": \"white\"}}, \"type\": \"table\"}]}, \"layout\": {\"annotationdefaults\": {\"arrowcolor\": \"#2a3f5f\", \"arrowhead\": 0, \"arrowwidth\": 1}, \"autotypenumbers\": \"strict\", \"coloraxis\": {\"colorbar\": {\"outlinewidth\": 0, \"ticks\": \"\"}}, \"colorscale\": {\"diverging\": [[0, \"#8e0152\"], [0.1, \"#c51b7d\"], [0.2, \"#de77ae\"], [0.3, \"#f1b6da\"], [0.4, \"#fde0ef\"], [0.5, \"#f7f7f7\"], [0.6, \"#e6f5d0\"], [0.7, \"#b8e186\"], [0.8, \"#7fbc41\"], [0.9, \"#4d9221\"], [1, \"#276419\"]], \"sequential\": [[0.0, \"#0d0887\"], [0.1111111111111111, \"#46039f\"], [0.2222222222222222, \"#7201a8\"], [0.3333333333333333, \"#9c179e\"], [0.4444444444444444, \"#bd3786\"], [0.5555555555555556, \"#d8576b\"], [0.6666666666666666, \"#ed7953\"], [0.7777777777777778, \"#fb9f3a\"], [0.8888888888888888, \"#fdca26\"], [1.0, \"#f0f921\"]], \"sequentialminus\": [[0.0, \"#0d0887\"], [0.1111111111111111, \"#46039f\"], [0.2222222222222222, \"#7201a8\"], [0.3333333333333333, \"#9c179e\"], [0.4444444444444444, \"#bd3786\"], [0.5555555555555556, \"#d8576b\"], [0.6666666666666666, \"#ed7953\"], [0.7777777777777778, \"#fb9f3a\"], [0.8888888888888888, \"#fdca26\"], [1.0, \"#f0f921\"]]}, \"colorway\": [\"#636efa\", \"#EF553B\", \"#00cc96\", \"#ab63fa\", \"#FFA15A\", \"#19d3f3\", \"#FF6692\", \"#B6E880\", \"#FF97FF\", \"#FECB52\"], \"font\": {\"color\": \"#2a3f5f\"}, \"geo\": {\"bgcolor\": \"white\", \"lakecolor\": \"white\", \"landcolor\": \"#E5ECF6\", \"showlakes\": true, \"showland\": true, \"subunitcolor\": \"white\"}, \"hoverlabel\": {\"align\": \"left\"}, \"hovermode\": \"closest\", \"mapbox\": {\"style\": \"light\"}, \"paper_bgcolor\": \"white\", \"plot_bgcolor\": \"#E5ECF6\", \"polar\": {\"angularaxis\": {\"gridcolor\": \"white\", \"linecolor\": \"white\", \"ticks\": \"\"}, \"bgcolor\": \"#E5ECF6\", \"radialaxis\": {\"gridcolor\": \"white\", \"linecolor\": \"white\", \"ticks\": \"\"}}, \"scene\": {\"xaxis\": {\"backgroundcolor\": \"#E5ECF6\", \"gridcolor\": \"white\", \"gridwidth\": 2, \"linecolor\": \"white\", \"showbackground\": true, \"ticks\": \"\", \"zerolinecolor\": \"white\"}, \"yaxis\": {\"backgroundcolor\": \"#E5ECF6\", \"gridcolor\": \"white\", \"gridwidth\": 2, \"linecolor\": \"white\", \"showbackground\": true, \"ticks\": \"\", \"zerolinecolor\": \"white\"}, \"zaxis\": {\"backgroundcolor\": \"#E5ECF6\", \"gridcolor\": \"white\", \"gridwidth\": 2, \"linecolor\": \"white\", \"showbackground\": true, \"ticks\": \"\", \"zerolinecolor\": \"white\"}}, \"shapedefaults\": {\"line\": {\"color\": \"#2a3f5f\"}}, \"ternary\": {\"aaxis\": {\"gridcolor\": \"white\", \"linecolor\": \"white\", \"ticks\": \"\"}, \"baxis\": {\"gridcolor\": \"white\", \"linecolor\": \"white\", \"ticks\": \"\"}, \"bgcolor\": \"#E5ECF6\", \"caxis\": {\"gridcolor\": \"white\", \"linecolor\": \"white\", \"ticks\": \"\"}}, \"title\": {\"x\": 0.05}, \"xaxis\": {\"automargin\": true, \"gridcolor\": \"white\", \"linecolor\": \"white\", \"ticks\": \"\", \"title\": {\"standoff\": 15}, \"zerolinecolor\": \"white\", \"zerolinewidth\": 2}, \"yaxis\": {\"automargin\": true, \"gridcolor\": \"white\", \"linecolor\": \"white\", \"ticks\": \"\", \"title\": {\"standoff\": 15}, \"zerolinecolor\": \"white\", \"zerolinewidth\": 2}}}, \"updatemenus\": [{\"buttons\": [{\"args\": [null, {\"frame\": {\"duration\": 100, \"redraw\": true}}], \"label\": \"Rotate\", \"method\": \"animate\"}], \"type\": \"buttons\"}], \"width\": 800},                        {\"responsive\": true}                    ).then(function(){\n",
              "                            Plotly.addFrames('ab116107-dcca-4cb5-b57e-5cb36429907b', [{\"data\": [{\"marker\": {\"color\": \"red\"}, \"mode\": \"markers+text\", \"name\": \"Original\", \"text\": [\"0\", \"1\", \"2\", \"3\", \"4\", \"5\", \"6\"], \"x\": [0.542816162109375, -0.42094847559928894, -1.1518301963806152, 0.5481863021850586, 1.0467290878295898, 0.0829644501209259, -0.6479172706604004], \"y\": [0.8007580637931824, 0.8031992316246033, -0.16399435698986053, -0.8452497124671936, 0.12253256142139435, 0.1249740868806839, -0.842219889163971], \"z\": [-0.5643768310546875, 0.3467092514038086, -0.19113445281982422, -0.786992073059082, -0.029510498046875, 0.8815755844116211, 0.3437318801879883], \"type\": \"scatter3d\"}, {\"marker\": {\"color\": \"red\"}, \"mode\": \"lines\", \"name\": \"Original\", \"x\": [0.542816162109375, -0.42094847559928894, null, 0.542816162109375, 1.0467290878295898, null, -0.42094847559928894, -1.1518301963806152, null, -0.42094847559928894, 0.0829644501209259, null, -1.1518301963806152, -0.6479172706604004, null, 0.5481863021850586, 1.0467290878295898, null, 0.5481863021850586, -0.6479172706604004, null, 1.0467290878295898, 0.0829644501209259, null, 0.0829644501209259, -0.6479172706604004, null], \"y\": [0.8007580637931824, 0.8031992316246033, null, 0.8007580637931824, 0.12253256142139435, null, 0.8031992316246033, -0.16399435698986053, null, 0.8031992316246033, 0.1249740868806839, null, -0.16399435698986053, -0.842219889163971, null, -0.8452497124671936, 0.12253256142139435, null, -0.8452497124671936, -0.842219889163971, null, 0.12253256142139435, 0.1249740868806839, null, 0.1249740868806839, -0.842219889163971, null], \"z\": [-0.5643768310546875, 0.3467092514038086, null, -0.5643768310546875, -0.029510498046875, null, 0.3467092514038086, -0.19113445281982422, null, 0.3467092514038086, 0.8815755844116211, null, -0.19113445281982422, 0.3437318801879883, null, -0.786992073059082, -0.029510498046875, null, -0.786992073059082, 0.3437318801879883, null, -0.029510498046875, 0.8815755844116211, null, 0.8815755844116211, 0.3437318801879883, null], \"type\": \"scatter3d\"}, {\"marker\": {\"color\": \"blue\"}, \"mode\": \"markers+text\", \"name\": \"Reconstructed\", \"text\": [\"0\", \"1\", \"2\", \"3\", \"4\", \"5\", \"6\"], \"x\": [0.542816162109375, -0.42094847559928894, -1.1518301963806152, 0.5481863021850586, 1.0467290878295898, 0.0829644501209259, -0.6479172706604004], \"y\": [0.8007580637931824, 0.8031992316246033, -0.16399435698986053, -0.8452497124671936, 0.12253256142139435, 0.1249740868806839, -0.842219889163971], \"z\": [-0.6161841750144958, 0.4116063117980957, -0.15722066164016724, -0.717795729637146, -0.09809733182191849, 0.879098653793335, 0.2985928952693939], \"type\": \"scatter3d\"}, {\"marker\": {\"color\": \"blue\"}, \"mode\": \"lines\", \"name\": \"Reconstructed\", \"x\": [0.542816162109375, -0.42094847559928894, null, 0.542816162109375, 1.0467290878295898, null, -0.42094847559928894, -1.1518301963806152, null, -0.42094847559928894, 0.0829644501209259, null, -1.1518301963806152, -0.6479172706604004, null, 0.5481863021850586, 1.0467290878295898, null, 0.5481863021850586, -0.6479172706604004, null, 1.0467290878295898, 0.0829644501209259, null, 0.0829644501209259, -0.6479172706604004, null], \"y\": [0.8007580637931824, 0.8031992316246033, null, 0.8007580637931824, 0.12253256142139435, null, 0.8031992316246033, -0.16399435698986053, null, 0.8031992316246033, 0.1249740868806839, null, -0.16399435698986053, -0.842219889163971, null, -0.8452497124671936, 0.12253256142139435, null, -0.8452497124671936, -0.842219889163971, null, 0.12253256142139435, 0.1249740868806839, null, 0.1249740868806839, -0.842219889163971, null], \"z\": [-0.6161841750144958, 0.4116063117980957, null, -0.6161841750144958, -0.09809733182191849, null, 0.4116063117980957, -0.15722066164016724, null, 0.4116063117980957, 0.879098653793335, null, -0.15722066164016724, 0.2985928952693939, null, -0.717795729637146, -0.09809733182191849, null, -0.717795729637146, 0.2985928952693939, null, -0.09809733182191849, 0.879098653793335, null, 0.879098653793335, 0.2985928952693939, null], \"type\": \"scatter3d\"}], \"traces\": [0, 1, 2, 3]}, {\"data\": [{\"marker\": {\"color\": \"red\"}, \"mode\": \"markers+text\", \"name\": \"Original\", \"text\": [\"0\", \"1\", \"2\", \"3\", \"4\", \"5\", \"6\"], \"x\": [0.542816162109375, -0.42094847559928894, -1.1518301963806152, 0.5481863021850586, 1.0467290878295898, 0.0829644501209259, -0.6479172706604004], \"y\": [0.8562111899698672, 0.761796012668486, -0.14274894897558185, -0.7568090733514469, 0.1249751636807706, 0.030560341981224724, -0.8739850048981648], \"z\": [-0.47606415778918026, 0.4301199202242769, -0.20748316978882445, -0.8723781439127353, -0.016318902120761196, 0.8898652139062087, 0.2522620827118019], \"type\": \"scatter3d\"}, {\"marker\": {\"color\": \"red\"}, \"mode\": \"lines\", \"name\": \"Original\", \"x\": [0.542816162109375, -0.42094847559928894, null, 0.542816162109375, 1.0467290878295898, null, -0.42094847559928894, -1.1518301963806152, null, -0.42094847559928894, 0.0829644501209259, null, -1.1518301963806152, -0.6479172706604004, null, 0.5481863021850586, 1.0467290878295898, null, 0.5481863021850586, -0.6479172706604004, null, 1.0467290878295898, 0.0829644501209259, null, 0.0829644501209259, -0.6479172706604004, null], \"y\": [0.8562111899698672, 0.761796012668486, null, 0.8562111899698672, 0.1249751636807706, null, 0.761796012668486, -0.14274894897558185, null, 0.761796012668486, 0.030560341981224724, null, -0.14274894897558185, -0.8739850048981648, null, -0.7568090733514469, 0.1249751636807706, null, -0.7568090733514469, -0.8739850048981648, null, 0.1249751636807706, 0.030560341981224724, null, 0.030560341981224724, -0.8739850048981648, null], \"z\": [-0.47606415778918026, 0.4301199202242769, null, -0.47606415778918026, -0.016318902120761196, null, 0.4301199202242769, -0.20748316978882445, null, 0.4301199202242769, 0.8898652139062087, null, -0.20748316978882445, 0.2522620827118019, null, -0.8723781439127353, -0.016318902120761196, null, -0.8723781439127353, 0.2522620827118019, null, -0.016318902120761196, 0.8898652139062087, null, 0.8898652139062087, 0.2522620827118019, null], \"type\": \"scatter3d\"}, {\"marker\": {\"color\": \"blue\"}, \"mode\": \"markers+text\", \"name\": \"Reconstructed\", \"text\": [\"0\", \"1\", \"2\", \"3\", \"4\", \"5\", \"6\"], \"x\": [0.542816162109375, -0.42094847559928894, -1.1518301963806152, 0.5481863021850586, 1.0467290878295898, 0.0829644501209259, -0.6479172706604004], \"y\": [0.8617179731414872, 0.7548978779109096, -0.14635376405158446, -0.7641641938878166, 0.13226549731223644, 0.030823623570349044, -0.8691870248525835], \"z\": [-0.5275780027948741, 0.49464932580565557, -0.1737615070118319, -0.8035738116010125, -0.08451717777951494, 0.8874023155947408, 0.20737881916108297], \"type\": \"scatter3d\"}, {\"marker\": {\"color\": \"blue\"}, \"mode\": \"lines\", \"name\": \"Reconstructed\", \"x\": [0.542816162109375, -0.42094847559928894, null, 0.542816162109375, 1.0467290878295898, null, -0.42094847559928894, -1.1518301963806152, null, -0.42094847559928894, 0.0829644501209259, null, -1.1518301963806152, -0.6479172706604004, null, 0.5481863021850586, 1.0467290878295898, null, 0.5481863021850586, -0.6479172706604004, null, 1.0467290878295898, 0.0829644501209259, null, 0.0829644501209259, -0.6479172706604004, null], \"y\": [0.8617179731414872, 0.7548978779109096, null, 0.8617179731414872, 0.13226549731223644, null, 0.7548978779109096, -0.14635376405158446, null, 0.7548978779109096, 0.030823623570349044, null, -0.14635376405158446, -0.8691870248525835, null, -0.7641641938878166, 0.13226549731223644, null, -0.7641641938878166, -0.8691870248525835, null, 0.13226549731223644, 0.030823623570349044, null, 0.030823623570349044, -0.8691870248525835, null], \"z\": [-0.5275780027948741, 0.49464932580565557, null, -0.5275780027948741, -0.08451717777951494, null, 0.49464932580565557, -0.1737615070118319, null, 0.49464932580565557, 0.8874023155947408, null, -0.1737615070118319, 0.20737881916108297, null, -0.8035738116010125, -0.08451717777951494, null, -0.8035738116010125, 0.20737881916108297, null, -0.08451717777951494, 0.8874023155947408, null, 0.8874023155947408, 0.20737881916108297, null], \"type\": \"scatter3d\"}], \"traces\": [0, 1, 2, 3]}, {\"data\": [{\"marker\": {\"color\": \"red\"}, \"mode\": \"markers+text\", \"name\": \"Original\", \"text\": [\"0\", \"1\", \"2\", \"3\", \"4\", \"5\", \"6\"], \"x\": [0.542816162109375, -0.42094847559928894, -1.1518301963806152, 0.5481863021850586, 1.0467290878295898, 0.0829644501209259, -0.6479172706604004], \"y\": [0.9019631012395611, 0.711761340490593, -0.11988613832982395, -0.6597934850290664, 0.12600174739810213, -0.06419966380417479, -0.8958475213001738], \"z\": [-0.38235748739033604, 0.5086571584814045, -0.22148101953804925, -0.947879821811238, -0.002942406512916732, 0.8880723149551409, 0.15793405503967697], \"type\": \"scatter3d\"}, {\"marker\": {\"color\": \"red\"}, \"mode\": \"lines\", \"name\": \"Original\", \"x\": [0.542816162109375, -0.42094847559928894, null, 0.542816162109375, 1.0467290878295898, null, -0.42094847559928894, -1.1518301963806152, null, -0.42094847559928894, 0.0829644501209259, null, -1.1518301963806152, -0.6479172706604004, null, 0.5481863021850586, 1.0467290878295898, null, 0.5481863021850586, -0.6479172706604004, null, 1.0467290878295898, 0.0829644501209259, null, 0.0829644501209259, -0.6479172706604004, null], \"y\": [0.9019631012395611, 0.711761340490593, null, 0.9019631012395611, 0.12600174739810213, null, 0.711761340490593, -0.11988613832982395, null, 0.711761340490593, -0.06419966380417479, null, -0.11988613832982395, -0.8958475213001738, null, -0.6597934850290664, 0.12600174739810213, null, -0.6597934850290664, -0.8958475213001738, null, 0.12600174739810213, -0.06419966380417479, null, -0.06419966380417479, -0.8958475213001738, null], \"z\": [-0.38235748739033604, 0.5086571584814045, null, -0.38235748739033604, -0.002942406512916732, null, 0.5086571584814045, -0.22148101953804925, null, 0.5086571584814045, 0.8880723149551409, null, -0.22148101953804925, 0.15793405503967697, null, -0.947879821811238, -0.002942406512916732, null, -0.947879821811238, 0.15793405503967697, null, -0.002942406512916732, 0.8880723149551409, null, 0.8880723149551409, 0.15793405503967697, null], \"type\": \"scatter3d\"}, {\"marker\": {\"color\": \"blue\"}, \"mode\": \"markers+text\", \"name\": \"Reconstructed\", \"text\": [\"0\", \"1\", \"2\", \"3\", \"4\", \"5\", \"6\"], \"x\": [0.542816162109375, -0.42094847559928894, -1.1518301963806152, 0.5481863021850586, 1.0467290878295898, 0.0829644501209259, -0.6479172706604004], \"y\": [0.9129142735290677, 0.6980432295985984, -0.12705492448660705, -0.6744203896471718, 0.14049981226791974, -0.06367608371153291, -0.8863059242401032], \"z\": [-0.4329941609941129, 0.5720877652999955, -0.18833356507747723, -0.8802470811876364, -0.06997941034151879, 0.8856513545724843, 0.11381505816730529], \"type\": \"scatter3d\"}, {\"marker\": {\"color\": \"blue\"}, \"mode\": \"lines\", \"name\": \"Reconstructed\", \"x\": [0.542816162109375, -0.42094847559928894, null, 0.542816162109375, 1.0467290878295898, null, -0.42094847559928894, -1.1518301963806152, null, -0.42094847559928894, 0.0829644501209259, null, -1.1518301963806152, -0.6479172706604004, null, 0.5481863021850586, 1.0467290878295898, null, 0.5481863021850586, -0.6479172706604004, null, 1.0467290878295898, 0.0829644501209259, null, 0.0829644501209259, -0.6479172706604004, null], \"y\": [0.9129142735290677, 0.6980432295985984, null, 0.9129142735290677, 0.14049981226791974, null, 0.6980432295985984, -0.12705492448660705, null, 0.6980432295985984, -0.06367608371153291, null, -0.12705492448660705, -0.8863059242401032, null, -0.6744203896471718, 0.14049981226791974, null, -0.6744203896471718, -0.8863059242401032, null, 0.14049981226791974, -0.06367608371153291, null, -0.06367608371153291, -0.8863059242401032, null], \"z\": [-0.4329941609941129, 0.5720877652999955, null, -0.4329941609941129, -0.06997941034151879, null, 0.5720877652999955, -0.18833356507747723, null, 0.5720877652999955, 0.8856513545724843, null, -0.18833356507747723, 0.11381505816730529, null, -0.8802470811876364, -0.06997941034151879, null, -0.8802470811876364, 0.11381505816730529, null, -0.06997941034151879, 0.8856513545724843, null, 0.8856513545724843, 0.11381505816730529, null], \"type\": \"scatter3d\"}], \"traces\": [0, 1, 2, 3]}, {\"data\": [{\"marker\": {\"color\": \"red\"}, \"mode\": \"markers+text\", \"name\": \"Original\", \"text\": [\"0\", \"1\", \"2\", \"3\", \"4\", \"5\", \"6\"], \"x\": [0.542816162109375, -0.42094847559928894, -1.1518301963806152, 0.5481863021850586, 1.0467290878295898, 0.0829644501209259, -0.6479172706604004], \"y\": [0.9374954101660419, 0.6536621279195404, -0.09566496983271888, -0.5553021728812068, 0.12560068096966948, -0.15823226174578892, -0.9075597273233449], \"z\": [-0.28431855387705934, 0.5814311078838497, -0.23296940083658285, -1.0126416425750597, 0.01046742773644506, 0.8762172018199392, 0.061816571416706156], \"type\": \"scatter3d\"}, {\"marker\": {\"color\": \"red\"}, \"mode\": \"lines\", \"name\": \"Original\", \"x\": [0.542816162109375, -0.42094847559928894, null, 0.542816162109375, 1.0467290878295898, null, -0.42094847559928894, -1.1518301963806152, null, -0.42094847559928894, 0.0829644501209259, null, -1.1518301963806152, -0.6479172706604004, null, 0.5481863021850586, 1.0467290878295898, null, 0.5481863021850586, -0.6479172706604004, null, 1.0467290878295898, 0.0829644501209259, null, 0.0829644501209259, -0.6479172706604004, null], \"y\": [0.9374954101660419, 0.6536621279195404, null, 0.9374954101660419, 0.12560068096966948, null, 0.6536621279195404, -0.09566496983271888, null, 0.6536621279195404, -0.15823226174578892, null, -0.09566496983271888, -0.9075597273233449, null, -0.5553021728812068, 0.12560068096966948, null, -0.5553021728812068, -0.9075597273233449, null, 0.12560068096966948, -0.15823226174578892, null, -0.15823226174578892, -0.9075597273233449, null], \"z\": [-0.28431855387705934, 0.5814311078838497, null, -0.28431855387705934, 0.01046742773644506, null, 0.5814311078838497, -0.23296940083658285, null, 0.5814311078838497, 0.8762172018199392, null, -0.23296940083658285, 0.061816571416706156, null, -1.0126416425750597, 0.01046742773644506, null, -1.0126416425750597, 0.061816571416706156, null, 0.01046742773644506, 0.8762172018199392, null, 0.8762172018199392, 0.061816571416706156, null], \"type\": \"scatter3d\"}, {\"marker\": {\"color\": \"blue\"}, \"mode\": \"markers+text\", \"name\": \"Reconstructed\", \"text\": [\"0\", \"1\", \"2\", \"3\", \"4\", \"5\", \"6\"], \"x\": [0.542816162109375, -0.42094847559928894, -1.1518301963806152, 0.5481863021850586, 1.0467290878295898, 0.0829644501209259, -0.6479172706604004], \"y\": [0.9537668904155286, 0.6332794725710128, -0.10631650185862453, -0.5770351329071101, 0.14714220820973106, -0.1574543155212911, -0.8933826233561044], \"z\": [-0.3335043223336002, 0.6430442218188139, -0.20077172859652043, -0.946946799615517, -0.054648748221999624, 0.8738656098145963, 0.018961727086302345], \"type\": \"scatter3d\"}, {\"marker\": {\"color\": \"blue\"}, \"mode\": \"lines\", \"name\": \"Reconstructed\", \"x\": [0.542816162109375, -0.42094847559928894, null, 0.542816162109375, 1.0467290878295898, null, -0.42094847559928894, -1.1518301963806152, null, -0.42094847559928894, 0.0829644501209259, null, -1.1518301963806152, -0.6479172706604004, null, 0.5481863021850586, 1.0467290878295898, null, 0.5481863021850586, -0.6479172706604004, null, 1.0467290878295898, 0.0829644501209259, null, 0.0829644501209259, -0.6479172706604004, null], \"y\": [0.9537668904155286, 0.6332794725710128, null, 0.9537668904155286, 0.14714220820973106, null, 0.6332794725710128, -0.10631650185862453, null, 0.6332794725710128, -0.1574543155212911, null, -0.10631650185862453, -0.8933826233561044, null, -0.5770351329071101, 0.14714220820973106, null, -0.5770351329071101, -0.8933826233561044, null, 0.14714220820973106, -0.1574543155212911, null, -0.1574543155212911, -0.8933826233561044, null], \"z\": [-0.3335043223336002, 0.6430442218188139, null, -0.3335043223336002, -0.054648748221999624, null, 0.6430442218188139, -0.20077172859652043, null, 0.6430442218188139, 0.8738656098145963, null, -0.20077172859652043, 0.018961727086302345, null, -0.946946799615517, -0.054648748221999624, null, -0.946946799615517, 0.018961727086302345, null, -0.054648748221999624, 0.8738656098145963, null, 0.8738656098145963, 0.018961727086302345, null], \"type\": \"scatter3d\"}], \"traces\": [0, 1, 2, 3]}, {\"data\": [{\"marker\": {\"color\": \"red\"}, \"mode\": \"markers+text\", \"name\": \"Original\", \"text\": [\"0\", \"1\", \"2\", \"3\", \"4\", \"5\", \"6\"], \"x\": [0.542816162109375, -0.42094847559928894, -1.1518301963806152, 0.5481863021850586, 1.0467290878295898, 0.0829644501209259, -0.6479172706604004], \"y\": [0.9624055214911829, 0.5881566622490255, -0.0703598790016267, -0.4445190652271131, 0.12377650863836481, -0.25047202493541953, -0.9089889189934759], \"z\": [-0.1830581775404258, 0.6476172105058884, -0.24181814573378874, -1.0659298288974366, 0.023758661846981034, 0.8544341976694886, -0.03500131866106466], \"type\": \"scatter3d\"}, {\"marker\": {\"color\": \"red\"}, \"mode\": \"lines\", \"name\": \"Original\", \"x\": [0.542816162109375, -0.42094847559928894, null, 0.542816162109375, 1.0467290878295898, null, -0.42094847559928894, -1.1518301963806152, null, -0.42094847559928894, 0.0829644501209259, null, -1.1518301963806152, -0.6479172706604004, null, 0.5481863021850586, 1.0467290878295898, null, 0.5481863021850586, -0.6479172706604004, null, 1.0467290878295898, 0.0829644501209259, null, 0.0829644501209259, -0.6479172706604004, null], \"y\": [0.9624055214911829, 0.5881566622490255, null, 0.9624055214911829, 0.12377650863836481, null, 0.5881566622490255, -0.0703598790016267, null, 0.5881566622490255, -0.25047202493541953, null, -0.0703598790016267, -0.9089889189934759, null, -0.4445190652271131, 0.12377650863836481, null, -0.4445190652271131, -0.9089889189934759, null, 0.12377650863836481, -0.25047202493541953, null, -0.25047202493541953, -0.9089889189934759, null], \"z\": [-0.1830581775404258, 0.6476172105058884, null, -0.1830581775404258, 0.023758661846981034, null, 0.6476172105058884, -0.24181814573378874, null, 0.6476172105058884, 0.8544341976694886, null, -0.24181814573378874, -0.03500131866106466, null, -1.0659298288974366, 0.023758661846981034, null, -1.0659298288974366, -0.03500131866106466, null, 0.023758661846981034, 0.8544341976694886, null, 0.8544341976694886, -0.03500131866106466, null], \"type\": \"scatter3d\"}, {\"marker\": {\"color\": \"blue\"}, \"mode\": \"markers+text\", \"name\": \"Reconstructed\", \"text\": [\"0\", \"1\", \"2\", \"3\", \"4\", \"5\", \"6\"], \"x\": [0.542816162109375, -0.42094847559928894, -1.1518301963806152, 0.5481863021850586, 1.0467290878295898, 0.0829644501209259, -0.6479172706604004], \"y\": [0.9838129473276694, 0.5613404060735597, -0.0843734707826651, -0.4731118375396706, 0.15211742413748297, -0.2494485270206409, -0.8903369403718976], \"z\": [-0.23023574643948225, 0.7067147303569916, -0.21093506820625285, -1.0029172324230113, -0.03869889394859338, 0.8521786185185282, -0.07610644793931019], \"type\": \"scatter3d\"}, {\"marker\": {\"color\": \"blue\"}, \"mode\": \"lines\", \"name\": \"Reconstructed\", \"x\": [0.542816162109375, -0.42094847559928894, null, 0.542816162109375, 1.0467290878295898, null, -0.42094847559928894, -1.1518301963806152, null, -0.42094847559928894, 0.0829644501209259, null, -1.1518301963806152, -0.6479172706604004, null, 0.5481863021850586, 1.0467290878295898, null, 0.5481863021850586, -0.6479172706604004, null, 1.0467290878295898, 0.0829644501209259, null, 0.0829644501209259, -0.6479172706604004, null], \"y\": [0.9838129473276694, 0.5613404060735597, null, 0.9838129473276694, 0.15211742413748297, null, 0.5613404060735597, -0.0843734707826651, null, 0.5613404060735597, -0.2494485270206409, null, -0.0843734707826651, -0.8903369403718976, null, -0.4731118375396706, 0.15211742413748297, null, -0.4731118375396706, -0.8903369403718976, null, 0.15211742413748297, -0.2494485270206409, null, -0.2494485270206409, -0.8903369403718976, null], \"z\": [-0.23023574643948225, 0.7067147303569916, null, -0.23023574643948225, -0.03869889394859338, null, 0.7067147303569916, -0.21093506820625285, null, 0.7067147303569916, 0.8521786185185282, null, -0.21093506820625285, -0.07610644793931019, null, -1.0029172324230113, -0.03869889394859338, null, -1.0029172324230113, -0.07610644793931019, null, -0.03869889394859338, 0.8521786185185282, null, 0.8521786185185282, -0.07610644793931019, null], \"type\": \"scatter3d\"}], \"traces\": [0, 1, 2, 3]}, {\"data\": [{\"marker\": {\"color\": \"red\"}, \"mode\": \"markers+text\", \"name\": \"Original\", \"text\": [\"0\", \"1\", \"2\", \"3\", \"4\", \"5\", \"6\"], \"x\": [0.542816162109375, -0.42094847559928894, -1.1518301963806152, 0.5481863021850586, 1.0467290878295898, 0.0829644501209259, -0.6479172706604004], \"y\": [0.9764111937000942, 0.5159871465797513, -0.04425758262706489, -0.32869937894319, 0.1205498990056041, -0.3398738399989888, -0.9001189029978675], \"z\": [-0.07972367890592282, 0.706465551358188, -0.2479269944142024, -1.1071406043344567, 0.03678070082531112, 0.8229701126448601, -0.13142262981258832], \"type\": \"scatter3d\"}, {\"marker\": {\"color\": \"red\"}, \"mode\": \"lines\", \"name\": \"Original\", \"x\": [0.542816162109375, -0.42094847559928894, null, 0.542816162109375, 1.0467290878295898, null, -0.42094847559928894, -1.1518301963806152, null, -0.42094847559928894, 0.0829644501209259, null, -1.1518301963806152, -0.6479172706604004, null, 0.5481863021850586, 1.0467290878295898, null, 0.5481863021850586, -0.6479172706604004, null, 1.0467290878295898, 0.0829644501209259, null, 0.0829644501209259, -0.6479172706604004, null], \"y\": [0.9764111937000942, 0.5159871465797513, null, 0.9764111937000942, 0.1205498990056041, null, 0.5159871465797513, -0.04425758262706489, null, 0.5159871465797513, -0.3398738399989888, null, -0.04425758262706489, -0.9001189029978675, null, -0.32869937894319, 0.1205498990056041, null, -0.32869937894319, -0.9001189029978675, null, 0.1205498990056041, -0.3398738399989888, null, -0.3398738399989888, -0.9001189029978675, null], \"z\": [-0.07972367890592282, 0.706465551358188, null, -0.07972367890592282, 0.03678070082531112, null, 0.706465551358188, -0.2479269944142024, null, 0.706465551358188, 0.8229701126448601, null, -0.2479269944142024, -0.13142262981258832, null, -1.1071406043344567, 0.03678070082531112, null, -1.1071406043344567, -0.13142262981258832, null, 0.03678070082531112, 0.8229701126448601, null, 0.8229701126448601, -0.13142262981258832, null], \"type\": \"scatter3d\"}, {\"marker\": {\"color\": \"blue\"}, \"mode\": \"markers+text\", \"name\": \"Reconstructed\", \"text\": [\"0\", \"1\", \"2\", \"3\", \"4\", \"5\", \"6\"], \"x\": [0.542816162109375, -0.42094847559928894, -1.1518301963806152, 0.5481863021850586, 1.0467290878295898, 0.0829644501209259, -0.6479172706604004], \"y\": [1.00271201043488, 0.48304112847504754, -0.06147445456880974, -0.3638279960070084, 0.15536908886671852, -0.3386163870342728, -0.8772033840926864], \"z\": [-0.12435850754066845, 0.7623778786113463, -0.21870842920783165, -1.0475242122417603, -0.022310565743456145, 0.8208361029613463, -0.17031230649917672], \"type\": \"scatter3d\"}, {\"marker\": {\"color\": \"blue\"}, \"mode\": \"lines\", \"name\": \"Reconstructed\", \"x\": [0.542816162109375, -0.42094847559928894, null, 0.542816162109375, 1.0467290878295898, null, -0.42094847559928894, -1.1518301963806152, null, -0.42094847559928894, 0.0829644501209259, null, -1.1518301963806152, -0.6479172706604004, null, 0.5481863021850586, 1.0467290878295898, null, 0.5481863021850586, -0.6479172706604004, null, 1.0467290878295898, 0.0829644501209259, null, 0.0829644501209259, -0.6479172706604004, null], \"y\": [1.00271201043488, 0.48304112847504754, null, 1.00271201043488, 0.15536908886671852, null, 0.48304112847504754, -0.06147445456880974, null, 0.48304112847504754, -0.3386163870342728, null, -0.06147445456880974, -0.8772033840926864, null, -0.3638279960070084, 0.15536908886671852, null, -0.3638279960070084, -0.8772033840926864, null, 0.15536908886671852, -0.3386163870342728, null, -0.3386163870342728, -0.8772033840926864, null], \"z\": [-0.12435850754066845, 0.7623778786113463, null, -0.12435850754066845, -0.022310565743456145, null, 0.7623778786113463, -0.21870842920783165, null, 0.7623778786113463, 0.8208361029613463, null, -0.21870842920783165, -0.17031230649917672, null, -1.0475242122417603, -0.022310565743456145, null, -1.0475242122417603, -0.17031230649917672, null, -0.022310565743456145, 0.8208361029613463, null, 0.8208361029613463, -0.17031230649917672, null], \"type\": \"scatter3d\"}], \"traces\": [0, 1, 2, 3]}, {\"data\": [{\"marker\": {\"color\": \"red\"}, \"mode\": \"markers+text\", \"name\": \"Original\", \"text\": [\"0\", \"1\", \"2\", \"3\", \"4\", \"5\", \"6\"], \"x\": [0.542816162109375, -0.42094847559928894, -1.1518301963806152, 0.5481863021850586, 1.0467290878295898, 0.0829644501209259, -0.6479172706604004], \"y\": [0.9793537369302665, 0.4379712903617263, -0.01765383015690575, -0.20915539735423302, 0.11595741084781432, -0.42542474864867375, -0.8810501801620291], \"z\": [0.024514120866549933, 0.757309355224288, -0.25122673118130273, -1.1358070343334283, 0.04938599976646808, 0.7821814474017935, -0.22635487005451688], \"type\": \"scatter3d\"}, {\"marker\": {\"color\": \"red\"}, \"mode\": \"lines\", \"name\": \"Original\", \"x\": [0.542816162109375, -0.42094847559928894, null, 0.542816162109375, 1.0467290878295898, null, -0.42094847559928894, -1.1518301963806152, null, -0.42094847559928894, 0.0829644501209259, null, -1.1518301963806152, -0.6479172706604004, null, 0.5481863021850586, 1.0467290878295898, null, 0.5481863021850586, -0.6479172706604004, null, 1.0467290878295898, 0.0829644501209259, null, 0.0829644501209259, -0.6479172706604004, null], \"y\": [0.9793537369302665, 0.4379712903617263, null, 0.9793537369302665, 0.11595741084781432, null, 0.4379712903617263, -0.01765383015690575, null, 0.4379712903617263, -0.42542474864867375, null, -0.01765383015690575, -0.8810501801620291, null, -0.20915539735423302, 0.11595741084781432, null, -0.20915539735423302, -0.8810501801620291, null, 0.11595741084781432, -0.42542474864867375, null, -0.42542474864867375, -0.8810501801620291, null], \"z\": [0.024514120866549933, 0.757309355224288, null, 0.024514120866549933, 0.04938599976646808, null, 0.757309355224288, -0.25122673118130273, null, 0.757309355224288, 0.7821814474017935, null, -0.25122673118130273, -0.22635487005451688, null, -1.1358070343334283, 0.04938599976646808, null, -1.1358070343334283, -0.22635487005451688, null, 0.04938599976646808, 0.7821814474017935, null, 0.7821814474017935, -0.22635487005451688, null], \"type\": \"scatter3d\"}, {\"marker\": {\"color\": \"blue\"}, \"mode\": \"markers+text\", \"name\": \"Reconstructed\", \"text\": [\"0\", \"1\", \"2\", \"3\", \"4\", \"5\", \"6\"], \"x\": [0.542816162109375, -0.42094847559928894, -1.1518301963806152, 0.5481863021850586, 1.0467290878295898, 0.0829644501209259, -0.6479172706604004], \"y\": [1.010249945800473, 0.39926880187747166, -0.03787890822074411, -0.250421837901296, 0.15686035973675627, -0.4239475880785633, -0.8541307629590177], \"z\": [-0.017072237060280646, 0.8094029808702908, -0.2240037363150316, -1.0802623241663727, -0.0056694499135958145, 0.7801931863681477, -0.2625884585730628], \"type\": \"scatter3d\"}, {\"marker\": {\"color\": \"blue\"}, \"mode\": \"lines\", \"name\": \"Reconstructed\", \"x\": [0.542816162109375, -0.42094847559928894, null, 0.542816162109375, 1.0467290878295898, null, -0.42094847559928894, -1.1518301963806152, null, -0.42094847559928894, 0.0829644501209259, null, -1.1518301963806152, -0.6479172706604004, null, 0.5481863021850586, 1.0467290878295898, null, 0.5481863021850586, -0.6479172706604004, null, 1.0467290878295898, 0.0829644501209259, null, 0.0829644501209259, -0.6479172706604004, null], \"y\": [1.010249945800473, 0.39926880187747166, null, 1.010249945800473, 0.15686035973675627, null, 0.39926880187747166, -0.03787890822074411, null, 0.39926880187747166, -0.4239475880785633, null, -0.03787890822074411, -0.8541307629590177, null, -0.250421837901296, 0.15686035973675627, null, -0.250421837901296, -0.8541307629590177, null, 0.15686035973675627, -0.4239475880785633, null, -0.4239475880785633, -0.8541307629590177, null], \"z\": [-0.017072237060280646, 0.8094029808702908, null, -0.017072237060280646, -0.0056694499135958145, null, 0.8094029808702908, -0.2240037363150316, null, 0.8094029808702908, 0.7801931863681477, null, -0.2240037363150316, -0.2625884585730628, null, -1.0802623241663727, -0.0056694499135958145, null, -1.0802623241663727, -0.2625884585730628, null, -0.0056694499135958145, 0.7801931863681477, null, 0.7801931863681477, -0.2625884585730628, null], \"type\": \"scatter3d\"}], \"traces\": [0, 1, 2, 3]}, {\"data\": [{\"marker\": {\"color\": \"red\"}, \"mode\": \"markers+text\", \"name\": \"Original\", \"text\": [\"0\", \"1\", \"2\", \"3\", \"4\", \"5\", \"6\"], \"x\": [0.542816162109375, -0.42094847559928894, -1.1518301963806152, 0.5481863021850586, 1.0467290878295898, 0.0829644501209259, -0.6479172706604004], \"y\": [0.9711998109911215, 0.35499304441945456, 0.00914994726304377, -0.08724160153899616, 0.11005107889088837, -0.5061554249050649, -0.8519988067351654], \"z\": [0.1284741658542591, 0.7995725414902325, -0.2516799686990106, -1.1516043167879393, 0.061431735596626735, 0.7325303538158164, -0.3187224191719111], \"type\": \"scatter3d\"}, {\"marker\": {\"color\": \"red\"}, \"mode\": \"lines\", \"name\": \"Original\", \"x\": [0.542816162109375, -0.42094847559928894, null, 0.542816162109375, 1.0467290878295898, null, -0.42094847559928894, -1.1518301963806152, null, -0.42094847559928894, 0.0829644501209259, null, -1.1518301963806152, -0.6479172706604004, null, 0.5481863021850586, 1.0467290878295898, null, 0.5481863021850586, -0.6479172706604004, null, 1.0467290878295898, 0.0829644501209259, null, 0.0829644501209259, -0.6479172706604004, null], \"y\": [0.9711998109911215, 0.35499304441945456, null, 0.9711998109911215, 0.11005107889088837, null, 0.35499304441945456, 0.00914994726304377, null, 0.35499304441945456, -0.5061554249050649, null, 0.00914994726304377, -0.8519988067351654, null, -0.08724160153899616, 0.11005107889088837, null, -0.08724160153899616, -0.8519988067351654, null, 0.11005107889088837, -0.5061554249050649, null, -0.5061554249050649, -0.8519988067351654, null], \"z\": [0.1284741658542591, 0.7995725414902325, null, 0.1284741658542591, 0.061431735596626735, null, 0.7995725414902325, -0.2516799686990106, null, 0.7995725414902325, 0.7325303538158164, null, -0.2516799686990106, -0.3187224191719111, null, -1.1516043167879393, 0.061431735596626735, null, -1.1516043167879393, -0.3187224191719111, null, 0.061431735596626735, 0.7325303538158164, null, 0.7325303538158164, -0.3187224191719111, null], \"type\": \"scatter3d\"}, {\"marker\": {\"color\": \"blue\"}, \"mode\": \"markers+text\", \"name\": \"Reconstructed\", \"text\": [\"0\", \"1\", \"2\", \"3\", \"4\", \"5\", \"6\"], \"x\": [0.542816162109375, -0.42094847559928894, -1.1518301963806152, 0.5481863021850586, 1.0467290878295898, 0.0829644501209259, -0.6479172706604004], \"y\": [1.0063413456047507, 0.3109726002149055, -0.013854178706893669, -0.13417830030867256, 0.15657434005275706, -0.5044752935490628, -0.8213804989876872], \"z\": [0.09040746868772008, 0.8472572239349541, -0.22676099158243077, -1.100760632307257, 0.011035903049182815, 0.7307103692240186, -0.35188937848629204], \"type\": \"scatter3d\"}, {\"marker\": {\"color\": \"blue\"}, \"mode\": \"lines\", \"name\": \"Reconstructed\", \"x\": [0.542816162109375, -0.42094847559928894, null, 0.542816162109375, 1.0467290878295898, null, -0.42094847559928894, -1.1518301963806152, null, -0.42094847559928894, 0.0829644501209259, null, -1.1518301963806152, -0.6479172706604004, null, 0.5481863021850586, 1.0467290878295898, null, 0.5481863021850586, -0.6479172706604004, null, 1.0467290878295898, 0.0829644501209259, null, 0.0829644501209259, -0.6479172706604004, null], \"y\": [1.0063413456047507, 0.3109726002149055, null, 1.0063413456047507, 0.15657434005275706, null, 0.3109726002149055, -0.013854178706893669, null, 0.3109726002149055, -0.5044752935490628, null, -0.013854178706893669, -0.8213804989876872, null, -0.13417830030867256, 0.15657434005275706, null, -0.13417830030867256, -0.8213804989876872, null, 0.15657434005275706, -0.5044752935490628, null, -0.5044752935490628, -0.8213804989876872, null], \"z\": [0.09040746868772008, 0.8472572239349541, null, 0.09040746868772008, 0.011035903049182815, null, 0.8472572239349541, -0.22676099158243077, null, 0.8472572239349541, 0.7307103692240186, null, -0.22676099158243077, -0.35188937848629204, null, -1.100760632307257, 0.011035903049182815, null, -1.100760632307257, -0.35188937848629204, null, 0.011035903049182815, 0.7307103692240186, null, 0.7307103692240186, -0.35188937848629204, null], \"type\": \"scatter3d\"}], \"traces\": [0, 1, 2, 3]}, {\"data\": [{\"marker\": {\"color\": \"red\"}, \"mode\": \"markers+text\", \"name\": \"Original\", \"text\": [\"0\", \"1\", \"2\", \"3\", \"4\", \"5\", \"6\"], \"x\": [0.542816162109375, -0.42094847559928894, -1.1518301963806152, 0.5481863021850586, 1.0467290878295898, 0.0829644501209259, -0.6479172706604004], \"y\": [0.9520418031216927, 0.2679925854358873, 0.03585005212436957, 0.035660676481652706, 0.10289782423594873, -0.5811511579478358, -0.8132939463865428], \"z\": [0.23097854720716754, 0.8327762513681158, -0.24928157160514575, -1.1543534621755054, 0.07278142531559953, 0.6745793986168283, -0.40747871592507046], \"type\": \"scatter3d\"}, {\"marker\": {\"color\": \"red\"}, \"mode\": \"lines\", \"name\": \"Original\", \"x\": [0.542816162109375, -0.42094847559928894, null, 0.542816162109375, 1.0467290878295898, null, -0.42094847559928894, -1.1518301963806152, null, -0.42094847559928894, 0.0829644501209259, null, -1.1518301963806152, -0.6479172706604004, null, 0.5481863021850586, 1.0467290878295898, null, 0.5481863021850586, -0.6479172706604004, null, 1.0467290878295898, 0.0829644501209259, null, 0.0829644501209259, -0.6479172706604004, null], \"y\": [0.9520418031216927, 0.2679925854358873, null, 0.9520418031216927, 0.10289782423594873, null, 0.2679925854358873, 0.03585005212436957, null, 0.2679925854358873, -0.5811511579478358, null, 0.03585005212436957, -0.8132939463865428, null, 0.035660676481652706, 0.10289782423594873, null, 0.035660676481652706, -0.8132939463865428, null, 0.10289782423594873, -0.5811511579478358, null, -0.5811511579478358, -0.8132939463865428, null], \"z\": [0.23097854720716754, 0.8327762513681158, null, 0.23097854720716754, 0.07278142531559953, null, 0.8327762513681158, -0.24928157160514575, null, 0.8327762513681158, 0.6745793986168283, null, -0.24928157160514575, -0.40747871592507046, null, -1.1543534621755054, 0.07278142531559953, null, -1.1543534621755054, -0.40747871592507046, null, 0.07278142531559953, 0.6745793986168283, null, 0.6745793986168283, -0.40747871592507046, null], \"type\": \"scatter3d\"}, {\"marker\": {\"color\": \"blue\"}, \"mode\": \"markers+text\", \"name\": \"Reconstructed\", \"text\": [\"0\", \"1\", \"2\", \"3\", \"4\", \"5\", \"6\"], \"x\": [0.542816162109375, -0.42094847559928894, -1.1518301963806152, 0.5481863021850586, 1.0467290878295898, 0.0829644501209259, -0.6479172706604004], \"y\": [0.9910304958497275, 0.2191529547335583, 0.0103275241875548, -0.016414468958623436, 0.1545142705320282, -0.5792870923655519, -0.7793236657558317], \"z\": [0.19686282169049735, 0.8755117041056248, -0.22694895420610608, -1.1087868826424683, 0.027616214820691067, 0.6729483116195322, -0.43720325113341], \"type\": \"scatter3d\"}, {\"marker\": {\"color\": \"blue\"}, \"mode\": \"lines\", \"name\": \"Reconstructed\", \"x\": [0.542816162109375, -0.42094847559928894, null, 0.542816162109375, 1.0467290878295898, null, -0.42094847559928894, -1.1518301963806152, null, -0.42094847559928894, 0.0829644501209259, null, -1.1518301963806152, -0.6479172706604004, null, 0.5481863021850586, 1.0467290878295898, null, 0.5481863021850586, -0.6479172706604004, null, 1.0467290878295898, 0.0829644501209259, null, 0.0829644501209259, -0.6479172706604004, null], \"y\": [0.9910304958497275, 0.2191529547335583, null, 0.9910304958497275, 0.1545142705320282, null, 0.2191529547335583, 0.0103275241875548, null, 0.2191529547335583, -0.5792870923655519, null, 0.0103275241875548, -0.7793236657558317, null, -0.016414468958623436, 0.1545142705320282, null, -0.016414468958623436, -0.7793236657558317, null, 0.1545142705320282, -0.5792870923655519, null, -0.5792870923655519, -0.7793236657558317, null], \"z\": [0.19686282169049735, 0.8755117041056248, null, 0.19686282169049735, 0.027616214820691067, null, 0.8755117041056248, -0.22694895420610608, null, 0.8755117041056248, 0.6729483116195322, null, -0.22694895420610608, -0.43720325113341, null, -1.1087868826424683, 0.027616214820691067, null, -1.1087868826424683, -0.43720325113341, null, 0.027616214820691067, 0.6729483116195322, null, 0.6729483116195322, -0.43720325113341, null], \"type\": \"scatter3d\"}], \"traces\": [0, 1, 2, 3]}, {\"data\": [{\"marker\": {\"color\": \"red\"}, \"mode\": \"markers+text\", \"name\": \"Original\", \"text\": [\"0\", \"1\", \"2\", \"3\", \"4\", \"5\", \"6\"], \"x\": [0.542816162109375, -0.42094847559928894, -1.1518301963806152, 0.5481863021850586, 1.0467290878295898, 0.0829644501209259, -0.6479172706604004], \"y\": [0.9220967812062927, 0.1779556633749275, 0.062143961570172254, 0.15815890478848105, 0.09457869611653141, -0.6495622161548373, -0.7653741406495886], \"z\": [0.3308658493258741, 0.8565442735574921, -0.24405871469713264, -1.1440233215803832, 0.08330647240376463, 0.6089851892832603, -0.4916181160065653], \"type\": \"scatter3d\"}, {\"marker\": {\"color\": \"red\"}, \"mode\": \"lines\", \"name\": \"Original\", \"x\": [0.542816162109375, -0.42094847559928894, null, 0.542816162109375, 1.0467290878295898, null, -0.42094847559928894, -1.1518301963806152, null, -0.42094847559928894, 0.0829644501209259, null, -1.1518301963806152, -0.6479172706604004, null, 0.5481863021850586, 1.0467290878295898, null, 0.5481863021850586, -0.6479172706604004, null, 1.0467290878295898, 0.0829644501209259, null, 0.0829644501209259, -0.6479172706604004, null], \"y\": [0.9220967812062927, 0.1779556633749275, null, 0.9220967812062927, 0.09457869611653141, null, 0.1779556633749275, 0.062143961570172254, null, 0.1779556633749275, -0.6495622161548373, null, 0.062143961570172254, -0.7653741406495886, null, 0.15815890478848105, 0.09457869611653141, null, 0.15815890478848105, -0.7653741406495886, null, 0.09457869611653141, -0.6495622161548373, null, -0.6495622161548373, -0.7653741406495886, null], \"z\": [0.3308658493258741, 0.8565442735574921, null, 0.3308658493258741, 0.08330647240376463, null, 0.8565442735574921, -0.24405871469713264, null, 0.8565442735574921, 0.6089851892832603, null, -0.24405871469713264, -0.4916181160065653, null, -1.1440233215803832, 0.08330647240376463, null, -1.1440233215803832, -0.4916181160065653, null, 0.08330647240376463, 0.6089851892832603, null, 0.6089851892832603, -0.4916181160065653, null], \"type\": \"scatter3d\"}, {\"marker\": {\"color\": \"blue\"}, \"mode\": \"markers+text\", \"name\": \"Reconstructed\", \"text\": [\"0\", \"1\", \"2\", \"3\", \"4\", \"5\", \"6\"], \"x\": [0.542816162109375, -0.42094847559928894, -1.1518301963806152, 0.5481863021850586, 1.0467290878295898, 0.0829644501209259, -0.6479172706604004], \"y\": [0.9644908745810331, 0.12485021870600226, 0.03439221210628897, 0.10153534488361583, 0.15070349258540167, -0.6475353369541619, -0.7284367839890259], \"z\": [0.30108764026112883, 0.8938462868320524, -0.22456549449442542, -1.104250134548582, 0.04388362384340136, 0.6075614807478948, -0.5175634362476313], \"type\": \"scatter3d\"}, {\"marker\": {\"color\": \"blue\"}, \"mode\": \"lines\", \"name\": \"Reconstructed\", \"x\": [0.542816162109375, -0.42094847559928894, null, 0.542816162109375, 1.0467290878295898, null, -0.42094847559928894, -1.1518301963806152, null, -0.42094847559928894, 0.0829644501209259, null, -1.1518301963806152, -0.6479172706604004, null, 0.5481863021850586, 1.0467290878295898, null, 0.5481863021850586, -0.6479172706604004, null, 1.0467290878295898, 0.0829644501209259, null, 0.0829644501209259, -0.6479172706604004, null], \"y\": [0.9644908745810331, 0.12485021870600226, null, 0.9644908745810331, 0.15070349258540167, null, 0.12485021870600226, 0.03439221210628897, null, 0.12485021870600226, -0.6475353369541619, null, 0.03439221210628897, -0.7284367839890259, null, 0.10153534488361583, 0.15070349258540167, null, 0.10153534488361583, -0.7284367839890259, null, 0.15070349258540167, -0.6475353369541619, null, -0.6475353369541619, -0.7284367839890259, null], \"z\": [0.30108764026112883, 0.8938462868320524, null, 0.30108764026112883, 0.04388362384340136, null, 0.8938462868320524, -0.22456549449442542, null, 0.8938462868320524, 0.6075614807478948, null, -0.22456549449442542, -0.5175634362476313, null, -1.104250134548582, 0.04388362384340136, null, -1.104250134548582, -0.5175634362476313, null, 0.04388362384340136, 0.6075614807478948, null, 0.6075614807478948, -0.5175634362476313, null], \"type\": \"scatter3d\"}], \"traces\": [0, 1, 2, 3]}, {\"data\": [{\"marker\": {\"color\": \"red\"}, \"mode\": \"markers+text\", \"name\": \"Original\", \"text\": [\"0\", \"1\", \"2\", \"3\", \"4\", \"5\", \"6\"], \"x\": [0.542816162109375, -0.42094847559928894, -1.1518301963806152, 0.5481863021850586, 1.0467290878295898, 0.0829644501209259, -0.6479172706604004], \"y\": [0.8817040343086464, 0.0859024325404546, 0.08773375509991779, 0.27886512950696424, 0.08518795357838434, -0.7106134749009124, -0.7087823400710855], \"z\": [0.4270043091644333, 0.8706073068697363, -0.2360705750306867, -1.1207309396232303, 0.09288762387201767, 0.5364909344169781, -0.5701872863930737], \"type\": \"scatter3d\"}, {\"marker\": {\"color\": \"red\"}, \"mode\": \"lines\", \"name\": \"Original\", \"x\": [0.542816162109375, -0.42094847559928894, null, 0.542816162109375, 1.0467290878295898, null, -0.42094847559928894, -1.1518301963806152, null, -0.42094847559928894, 0.0829644501209259, null, -1.1518301963806152, -0.6479172706604004, null, 0.5481863021850586, 1.0467290878295898, null, 0.5481863021850586, -0.6479172706604004, null, 1.0467290878295898, 0.0829644501209259, null, 0.0829644501209259, -0.6479172706604004, null], \"y\": [0.8817040343086464, 0.0859024325404546, null, 0.8817040343086464, 0.08518795357838434, null, 0.0859024325404546, 0.08773375509991779, null, 0.0859024325404546, -0.7106134749009124, null, 0.08773375509991779, -0.7087823400710855, null, 0.27886512950696424, 0.08518795357838434, null, 0.27886512950696424, -0.7087823400710855, null, 0.08518795357838434, -0.7106134749009124, null, -0.7106134749009124, -0.7087823400710855, null], \"z\": [0.4270043091644333, 0.8706073068697363, null, 0.4270043091644333, 0.09288762387201767, null, 0.8706073068697363, -0.2360705750306867, null, 0.8706073068697363, 0.5364909344169781, null, -0.2360705750306867, -0.5701872863930737, null, -1.1207309396232303, 0.09288762387201767, null, -1.1207309396232303, -0.5701872863930737, null, 0.09288762387201767, 0.5364909344169781, null, 0.5364909344169781, -0.5701872863930737, null], \"type\": \"scatter3d\"}, {\"marker\": {\"color\": \"blue\"}, \"mode\": \"markers+text\", \"name\": \"Reconstructed\", \"text\": [\"0\", \"1\", \"2\", \"3\", \"4\", \"5\", \"6\"], \"x\": [0.542816162109375, -0.42094847559928894, -1.1518301963806152, 0.5481863021850586, 1.0467290878295898, 0.0829644501209259, -0.6479172706604004], \"y\": [0.9270231863123366, 0.029132879812891022, 0.05806722251942823, 0.21833472269685858, 0.1451851838497223, -0.7084467474330888, -0.6692964223910542], \"z\": [0.40190101555908525, 0.9020532339658187, -0.21963761799830417, -1.0872017911942944, 0.05965381387295953, 0.535290735530134, -0.592059420821311], \"type\": \"scatter3d\"}, {\"marker\": {\"color\": \"blue\"}, \"mode\": \"lines\", \"name\": \"Reconstructed\", \"x\": [0.542816162109375, -0.42094847559928894, null, 0.542816162109375, 1.0467290878295898, null, -0.42094847559928894, -1.1518301963806152, null, -0.42094847559928894, 0.0829644501209259, null, -1.1518301963806152, -0.6479172706604004, null, 0.5481863021850586, 1.0467290878295898, null, 0.5481863021850586, -0.6479172706604004, null, 1.0467290878295898, 0.0829644501209259, null, 0.0829644501209259, -0.6479172706604004, null], \"y\": [0.9270231863123366, 0.029132879812891022, null, 0.9270231863123366, 0.1451851838497223, null, 0.029132879812891022, 0.05806722251942823, null, 0.029132879812891022, -0.7084467474330888, null, 0.05806722251942823, -0.6692964223910542, null, 0.21833472269685858, 0.1451851838497223, null, 0.21833472269685858, -0.6692964223910542, null, 0.1451851838497223, -0.7084467474330888, null, -0.7084467474330888, -0.6692964223910542, null], \"z\": [0.40190101555908525, 0.9020532339658187, null, 0.40190101555908525, 0.05965381387295953, null, 0.9020532339658187, -0.21963761799830417, null, 0.9020532339658187, 0.535290735530134, null, -0.21963761799830417, -0.592059420821311, null, -1.0872017911942944, 0.05965381387295953, null, -1.0872017911942944, -0.592059420821311, null, 0.05965381387295953, 0.535290735530134, null, 0.535290735530134, -0.592059420821311, null], \"type\": \"scatter3d\"}], \"traces\": [0, 1, 2, 3]}, {\"data\": [{\"marker\": {\"color\": \"red\"}, \"mode\": \"markers+text\", \"name\": \"Original\", \"text\": [\"0\", \"1\", \"2\", \"3\", \"4\", \"5\", \"6\"], \"x\": [0.542816162109375, -0.42094847559928894, -1.1518301963806152, 0.5481863021850586, 1.0467290878295898, 0.0829644501209259, -0.6479172706604004], \"y\": [0.831321228391227, -0.00712410717957201, 0.11232949012775144, 0.3964117008792814, 0.07483199748681506, -0.7636131990296228, -0.6441597523645239], \"z\": [0.5183046395578946, 0.8748060115181173, -0.22540766142012747, -1.084740228298785, 0.10141632144578948, 0.45791802289285116, -0.6422960069894692], \"type\": \"scatter3d\"}, {\"marker\": {\"color\": \"red\"}, \"mode\": \"lines\", \"name\": \"Original\", \"x\": [0.542816162109375, -0.42094847559928894, null, 0.542816162109375, 1.0467290878295898, null, -0.42094847559928894, -1.1518301963806152, null, -0.42094847559928894, 0.0829644501209259, null, -1.1518301963806152, -0.6479172706604004, null, 0.5481863021850586, 1.0467290878295898, null, 0.5481863021850586, -0.6479172706604004, null, 1.0467290878295898, 0.0829644501209259, null, 0.0829644501209259, -0.6479172706604004, null], \"y\": [0.831321228391227, -0.00712410717957201, null, 0.831321228391227, 0.07483199748681506, null, -0.00712410717957201, 0.11232949012775144, null, -0.00712410717957201, -0.7636131990296228, null, 0.11232949012775144, -0.6441597523645239, null, 0.3964117008792814, 0.07483199748681506, null, 0.3964117008792814, -0.6441597523645239, null, 0.07483199748681506, -0.7636131990296228, null, -0.7636131990296228, -0.6441597523645239, null], \"z\": [0.5183046395578946, 0.8748060115181173, null, 0.5183046395578946, 0.10141632144578948, null, 0.8748060115181173, -0.22540766142012747, null, 0.8748060115181173, 0.45791802289285116, null, -0.22540766142012747, -0.6422960069894692, null, -1.084740228298785, 0.10141632144578948, null, -1.084740228298785, -0.6422960069894692, null, 0.10141632144578948, 0.45791802289285116, null, 0.45791802289285116, -0.6422960069894692, null], \"type\": \"scatter3d\"}, {\"marker\": {\"color\": \"blue\"}, \"mode\": \"markers+text\", \"name\": \"Reconstructed\", \"text\": [\"0\", \"1\", \"2\", \"3\", \"4\", \"5\", \"6\"], \"x\": [0.542816162109375, -0.42094847559928894, -1.1518301963806152, 0.5481863021850586, 1.0467290878295898, 0.0829644501209259, -0.6479172706604004], \"y\": [0.8790519549230508, -0.0669145462494083, 0.0810843080989375, 0.3326602808598172, 0.1380218689679696, -0.7613311731826418, -0.602572664890111], \"z\": [0.4981606917592595, 0.9000395575165683, -0.21222115952752296, -1.057835017121982, 0.07474810235488248, 0.45695493238749146, -0.6598471355821444], \"type\": \"scatter3d\"}, {\"marker\": {\"color\": \"blue\"}, \"mode\": \"lines\", \"name\": \"Reconstructed\", \"x\": [0.542816162109375, -0.42094847559928894, null, 0.542816162109375, 1.0467290878295898, null, -0.42094847559928894, -1.1518301963806152, null, -0.42094847559928894, 0.0829644501209259, null, -1.1518301963806152, -0.6479172706604004, null, 0.5481863021850586, 1.0467290878295898, null, 0.5481863021850586, -0.6479172706604004, null, 1.0467290878295898, 0.0829644501209259, null, 0.0829644501209259, -0.6479172706604004, null], \"y\": [0.8790519549230508, -0.0669145462494083, null, 0.8790519549230508, 0.1380218689679696, null, -0.0669145462494083, 0.0810843080989375, null, -0.0669145462494083, -0.7613311731826418, null, 0.0810843080989375, -0.602572664890111, null, 0.3326602808598172, 0.1380218689679696, null, 0.3326602808598172, -0.602572664890111, null, 0.1380218689679696, -0.7613311731826418, null, -0.7613311731826418, -0.602572664890111, null], \"z\": [0.4981606917592595, 0.9000395575165683, null, 0.4981606917592595, 0.07474810235488248, null, 0.9000395575165683, -0.21222115952752296, null, 0.9000395575165683, 0.45695493238749146, null, -0.21222115952752296, -0.6598471355821444, null, -1.057835017121982, 0.07474810235488248, null, -1.057835017121982, -0.6598471355821444, null, 0.07474810235488248, 0.45695493238749146, null, 0.45695493238749146, -0.6598471355821444, null], \"type\": \"scatter3d\"}], \"traces\": [0, 1, 2, 3]}, {\"data\": [{\"marker\": {\"color\": \"red\"}, \"mode\": \"markers+text\", \"name\": \"Original\", \"text\": [\"0\", \"1\", \"2\", \"3\", \"4\", \"5\", \"6\"], \"x\": [0.542816162109375, -0.42094847559928894, -1.1518301963806152, 0.5481863021850586, 1.0467290878295898, 0.0829644501209259, -0.6479172706604004], \"y\": [0.7715192207770265, -0.10006992791860528, 0.1356524871478508, 0.5094667692825576, 0.06362816496237111, -0.8079608804889749, -0.5722385772704951], \"z\": [0.6037323712811393, 0.869092814501252, -0.2121907889373467, -1.0364589767475114, 0.10879593157367458, 0.3741567171945902, -0.7071272571782117], \"type\": \"scatter3d\"}, {\"marker\": {\"color\": \"red\"}, \"mode\": \"lines\", \"name\": \"Original\", \"x\": [0.542816162109375, -0.42094847559928894, null, 0.542816162109375, 1.0467290878295898, null, -0.42094847559928894, -1.1518301963806152, null, -0.42094847559928894, 0.0829644501209259, null, -1.1518301963806152, -0.6479172706604004, null, 0.5481863021850586, 1.0467290878295898, null, 0.5481863021850586, -0.6479172706604004, null, 1.0467290878295898, 0.0829644501209259, null, 0.0829644501209259, -0.6479172706604004, null], \"y\": [0.7715192207770265, -0.10006992791860528, null, 0.7715192207770265, 0.06362816496237111, null, -0.10006992791860528, 0.1356524871478508, null, -0.10006992791860528, -0.8079608804889749, null, 0.1356524871478508, -0.5722385772704951, null, 0.5094667692825576, 0.06362816496237111, null, 0.5094667692825576, -0.5722385772704951, null, 0.06362816496237111, -0.8079608804889749, null, -0.8079608804889749, -0.5722385772704951, null], \"z\": [0.6037323712811393, 0.869092814501252, null, 0.6037323712811393, 0.10879593157367458, null, 0.869092814501252, -0.2121907889373467, null, 0.869092814501252, 0.3741567171945902, null, -0.2121907889373467, -0.7071272571782117, null, -1.0364589767475114, 0.10879593157367458, null, -1.0364589767475114, -0.7071272571782117, null, 0.10879593157367458, 0.3741567171945902, null, 0.3741567171945902, -0.7071272571782117, null], \"type\": \"scatter3d\"}, {\"marker\": {\"color\": \"blue\"}, \"mode\": \"markers+text\", \"name\": \"Reconstructed\", \"text\": [\"0\", \"1\", \"2\", \"3\", \"4\", \"5\", \"6\"], \"x\": [0.542816162109375, -0.42094847559928894, -1.1518301963806152, 0.5481863021850586, 1.0467290878295898, 0.0829644501209259, -0.6479172706604004], \"y\": [0.8211207136331478, -0.16220380376500582, 0.10318267606804023, 0.4432166651163303, 0.1292947111600693, -0.805589412527534, -0.5290215183201427], \"z\": [0.5887760082668887, 0.8878280732430958, -0.20240015052002225, -1.0164825496162515, 0.08899546496929837, 0.37344164727097207, -0.7201585186352945], \"type\": \"scatter3d\"}, {\"marker\": {\"color\": \"blue\"}, \"mode\": \"lines\", \"name\": \"Reconstructed\", \"x\": [0.542816162109375, -0.42094847559928894, null, 0.542816162109375, 1.0467290878295898, null, -0.42094847559928894, -1.1518301963806152, null, -0.42094847559928894, 0.0829644501209259, null, -1.1518301963806152, -0.6479172706604004, null, 0.5481863021850586, 1.0467290878295898, null, 0.5481863021850586, -0.6479172706604004, null, 1.0467290878295898, 0.0829644501209259, null, 0.0829644501209259, -0.6479172706604004, null], \"y\": [0.8211207136331478, -0.16220380376500582, null, 0.8211207136331478, 0.1292947111600693, null, -0.16220380376500582, 0.10318267606804023, null, -0.16220380376500582, -0.805589412527534, null, 0.10318267606804023, -0.5290215183201427, null, 0.4432166651163303, 0.1292947111600693, null, 0.4432166651163303, -0.5290215183201427, null, 0.1292947111600693, -0.805589412527534, null, -0.805589412527534, -0.5290215183201427, null], \"z\": [0.5887760082668887, 0.8878280732430958, null, 0.5887760082668887, 0.08899546496929837, null, 0.8878280732430958, -0.20240015052002225, null, 0.8878280732430958, 0.37344164727097207, null, -0.20240015052002225, -0.7201585186352945, null, -1.0164825496162515, 0.08899546496929837, null, -1.0164825496162515, -0.7201585186352945, null, 0.08899546496929837, 0.37344164727097207, null, 0.37344164727097207, -0.7201585186352945, null], \"type\": \"scatter3d\"}], \"traces\": [0, 1, 2, 3]}, {\"data\": [{\"marker\": {\"color\": \"red\"}, \"mode\": \"markers+text\", \"name\": \"Original\", \"text\": [\"0\", \"1\", \"2\", \"3\", \"4\", \"5\", \"6\"], \"x\": [0.542816162109375, -0.42094847559928894, -1.1518301963806152, 0.5481863021850586, 1.0467290878295898, 0.0829644501209259, -0.6479172706604004], \"y\": [0.7029755921079837, -0.19188191638840638, 0.1574384872845814, 0.6167493756172705, 0.051703399904378805, -0.8431540423275997, -0.4938337104410577], \"z\": [0.6823195739985533, 0.853532448624219, -0.19656971002876847, -0.9764342308416946, 0.11494284032418144, 0.2861560663850761, -0.7639464729894094], \"type\": \"scatter3d\"}, {\"marker\": {\"color\": \"red\"}, \"mode\": \"lines\", \"name\": \"Original\", \"x\": [0.542816162109375, -0.42094847559928894, null, 0.542816162109375, 1.0467290878295898, null, -0.42094847559928894, -1.1518301963806152, null, -0.42094847559928894, 0.0829644501209259, null, -1.1518301963806152, -0.6479172706604004, null, 0.5481863021850586, 1.0467290878295898, null, 0.5481863021850586, -0.6479172706604004, null, 1.0467290878295898, 0.0829644501209259, null, 0.0829644501209259, -0.6479172706604004, null], \"y\": [0.7029755921079837, -0.19188191638840638, null, 0.7029755921079837, 0.051703399904378805, null, -0.19188191638840638, 0.1574384872845814, null, -0.19188191638840638, -0.8431540423275997, null, 0.1574384872845814, -0.4938337104410577, null, 0.6167493756172705, 0.051703399904378805, null, 0.6167493756172705, -0.4938337104410577, null, 0.051703399904378805, -0.8431540423275997, null, -0.8431540423275997, -0.4938337104410577, null], \"z\": [0.6823195739985533, 0.853532448624219, null, 0.6823195739985533, 0.11494284032418144, null, 0.853532448624219, -0.19656971002876847, null, 0.853532448624219, 0.2861560663850761, null, -0.19656971002876847, -0.7639464729894094, null, -0.9764342308416946, 0.11494284032418144, null, -0.9764342308416946, -0.7639464729894094, null, 0.11494284032418144, 0.2861560663850761, null, 0.2861560663850761, -0.7639464729894094, null], \"type\": \"scatter3d\"}, {\"marker\": {\"color\": \"blue\"}, \"mode\": \"markers+text\", \"name\": \"Reconstructed\", \"text\": [\"0\", \"1\", \"2\", \"3\", \"4\", \"5\", \"6\"], \"x\": [0.542816162109375, -0.42094847559928894, -1.1518301963806152, 0.5481863021850586, 1.0467290878295898, 0.0829644501209259, -0.6479172706604004], \"y\": [0.7538858465545916, -0.2556552273705944, 0.12411194308758663, 0.5487512274566819, 0.11910259261118016, -0.8407200019312928, -0.44947634656133384], \"z\": [0.6727202573378981, 0.8655571421416809, -0.19028586693213298, -0.9636129286575502, 0.10223447340482862, 0.2856971190711616, -0.7723102179115633], \"type\": \"scatter3d\"}, {\"marker\": {\"color\": \"blue\"}, \"mode\": \"lines\", \"name\": \"Reconstructed\", \"x\": [0.542816162109375, -0.42094847559928894, null, 0.542816162109375, 1.0467290878295898, null, -0.42094847559928894, -1.1518301963806152, null, -0.42094847559928894, 0.0829644501209259, null, -1.1518301963806152, -0.6479172706604004, null, 0.5481863021850586, 1.0467290878295898, null, 0.5481863021850586, -0.6479172706604004, null, 1.0467290878295898, 0.0829644501209259, null, 0.0829644501209259, -0.6479172706604004, null], \"y\": [0.7538858465545916, -0.2556552273705944, null, 0.7538858465545916, 0.11910259261118016, null, -0.2556552273705944, 0.12411194308758663, null, -0.2556552273705944, -0.8407200019312928, null, 0.12411194308758663, -0.44947634656133384, null, 0.5487512274566819, 0.11910259261118016, null, 0.5487512274566819, -0.44947634656133384, null, 0.11910259261118016, -0.8407200019312928, null, -0.8407200019312928, -0.44947634656133384, null], \"z\": [0.6727202573378981, 0.8655571421416809, null, 0.6727202573378981, 0.10223447340482862, null, 0.8655571421416809, -0.19028586693213298, null, 0.8655571421416809, 0.2856971190711616, null, -0.19028586693213298, -0.7723102179115633, null, -0.9636129286575502, 0.10223447340482862, null, -0.9636129286575502, -0.7723102179115633, null, 0.10223447340482862, 0.2856971190711616, null, 0.2856971190711616, -0.7723102179115633, null], \"type\": \"scatter3d\"}], \"traces\": [0, 1, 2, 3]}, {\"data\": [{\"marker\": {\"color\": \"red\"}, \"mode\": \"markers+text\", \"name\": \"Original\", \"text\": [\"0\", \"1\", \"2\", \"3\", \"4\", \"5\", \"6\"], \"x\": [0.542816162109375, -0.42094847559928894, -1.1518301963806152, 0.5481863021850586, 1.0467290878295898, 0.0829644501209259, -0.6479172706604004], \"y\": [0.626466969085563, -0.28151980607340354, 0.17744064645115018, 0.7170439650856937, 0.03919281466583951, -0.868793931959392, -0.4098335103463845], \"z\": [0.7531758233014958, 0.8283012190500119, -0.1787214177602935, -0.9053460949371194, 0.11978740076498674, 0.1949131530012564, -0.8121098700041153], \"type\": \"scatter3d\"}, {\"marker\": {\"color\": \"red\"}, \"mode\": \"lines\", \"name\": \"Original\", \"x\": [0.542816162109375, -0.42094847559928894, null, 0.542816162109375, 1.0467290878295898, null, -0.42094847559928894, -1.1518301963806152, null, -0.42094847559928894, 0.0829644501209259, null, -1.1518301963806152, -0.6479172706604004, null, 0.5481863021850586, 1.0467290878295898, null, 0.5481863021850586, -0.6479172706604004, null, 1.0467290878295898, 0.0829644501209259, null, 0.0829644501209259, -0.6479172706604004, null], \"y\": [0.626466969085563, -0.28151980607340354, null, 0.626466969085563, 0.03919281466583951, null, -0.28151980607340354, 0.17744064645115018, null, -0.28151980607340354, -0.868793931959392, null, 0.17744064645115018, -0.4098335103463845, null, 0.7170439650856937, 0.03919281466583951, null, 0.7170439650856937, -0.4098335103463845, null, 0.03919281466583951, -0.868793931959392, null, -0.868793931959392, -0.4098335103463845, null], \"z\": [0.7531758233014958, 0.8283012190500119, null, 0.7531758233014958, 0.11978740076498674, null, 0.8283012190500119, -0.1787214177602935, null, 0.8283012190500119, 0.1949131530012564, null, -0.1787214177602935, -0.8121098700041153, null, -0.9053460949371194, 0.11978740076498674, null, -0.9053460949371194, -0.8121098700041153, null, 0.11978740076498674, 0.1949131530012564, null, 0.1949131530012564, -0.8121098700041153, null], \"type\": \"scatter3d\"}, {\"marker\": {\"color\": \"blue\"}, \"mode\": \"markers+text\", \"name\": \"Reconstructed\", \"text\": [\"0\", \"1\", \"2\", \"3\", \"4\", \"5\", \"6\"], \"x\": [0.542816162109375, -0.42094847559928894, -1.1518301963806152, 0.5481863021850586, 1.0467290878295898, 0.0829644501209259, -0.6479172706604004], \"y\": [0.6781091515970719, -0.34620997509542867, 0.14363497219933458, 0.6480682191200845, 0.10756099409702505, -0.8663248977785023, -0.36483842819434964], \"z\": [0.7490423170878936, 0.8334791027607152, -0.17601556843752814, -0.8998251881769693, 0.11431512440585935, 0.19471552835349815, -0.8157113338193892], \"type\": \"scatter3d\"}, {\"marker\": {\"color\": \"blue\"}, \"mode\": \"lines\", \"name\": \"Reconstructed\", \"x\": [0.542816162109375, -0.42094847559928894, null, 0.542816162109375, 1.0467290878295898, null, -0.42094847559928894, -1.1518301963806152, null, -0.42094847559928894, 0.0829644501209259, null, -1.1518301963806152, -0.6479172706604004, null, 0.5481863021850586, 1.0467290878295898, null, 0.5481863021850586, -0.6479172706604004, null, 1.0467290878295898, 0.0829644501209259, null, 0.0829644501209259, -0.6479172706604004, null], \"y\": [0.6781091515970719, -0.34620997509542867, null, 0.6781091515970719, 0.10756099409702505, null, -0.34620997509542867, 0.14363497219933458, null, -0.34620997509542867, -0.8663248977785023, null, 0.14363497219933458, -0.36483842819434964, null, 0.6480682191200845, 0.10756099409702505, null, 0.6480682191200845, -0.36483842819434964, null, 0.10756099409702505, -0.8663248977785023, null, -0.8663248977785023, -0.36483842819434964, null], \"z\": [0.7490423170878936, 0.8334791027607152, null, 0.7490423170878936, 0.11431512440585935, null, 0.8334791027607152, -0.17601556843752814, null, 0.8334791027607152, 0.19471552835349815, null, -0.17601556843752814, -0.8157113338193892, null, -0.8998251881769693, 0.11431512440585935, null, -0.8998251881769693, -0.8157113338193892, null, 0.11431512440585935, 0.19471552835349815, null, 0.19471552835349815, -0.8157113338193892, null], \"type\": \"scatter3d\"}], \"traces\": [0, 1, 2, 3]}, {\"data\": [{\"marker\": {\"color\": \"red\"}, \"mode\": \"markers+text\", \"name\": \"Original\", \"text\": [\"0\", \"1\", \"2\", \"3\", \"4\", \"5\", \"6\"], \"x\": [0.542816162109375, -0.42094847559928894, -1.1518301963806152, 0.5481863021850586, 1.0467290878295898, 0.0829644501209259, -0.6479172706604004], \"y\": [0.5428602249799033, -0.3679679638659819, 0.19543233219174255, 0.8092141599134648, 0.026238159176482142, -0.8845900391896434, -0.32118973281832525], \"z\": [0.8154982895726431, 0.7936850056915943, -0.1588481404151393, -0.8240000260189624, 0.123274722090508, 0.1014617957105884, -0.8510717376890353], \"type\": \"scatter3d\"}, {\"marker\": {\"color\": \"red\"}, \"mode\": \"lines\", \"name\": \"Original\", \"x\": [0.542816162109375, -0.42094847559928894, null, 0.542816162109375, 1.0467290878295898, null, -0.42094847559928894, -1.1518301963806152, null, -0.42094847559928894, 0.0829644501209259, null, -1.1518301963806152, -0.6479172706604004, null, 0.5481863021850586, 1.0467290878295898, null, 0.5481863021850586, -0.6479172706604004, null, 1.0467290878295898, 0.0829644501209259, null, 0.0829644501209259, -0.6479172706604004, null], \"y\": [0.5428602249799033, -0.3679679638659819, null, 0.5428602249799033, 0.026238159176482142, null, -0.3679679638659819, 0.19543233219174255, null, -0.3679679638659819, -0.8845900391896434, null, 0.19543233219174255, -0.32118973281832525, null, 0.8092141599134648, 0.026238159176482142, null, 0.8092141599134648, -0.32118973281832525, null, 0.026238159176482142, -0.8845900391896434, null, -0.8845900391896434, -0.32118973281832525, null], \"z\": [0.8154982895726431, 0.7936850056915943, null, 0.8154982895726431, 0.123274722090508, null, 0.7936850056915943, -0.1588481404151393, null, 0.7936850056915943, 0.1014617957105884, null, -0.1588481404151393, -0.8510717376890353, null, -0.8240000260189624, 0.123274722090508, null, -0.8240000260189624, -0.8510717376890353, null, 0.123274722090508, 0.1014617957105884, null, 0.1014617957105884, -0.8510717376890353, null], \"type\": \"scatter3d\"}, {\"marker\": {\"color\": \"blue\"}, \"mode\": \"markers+text\", \"name\": \"Reconstructed\", \"text\": [\"0\", \"1\", \"2\", \"3\", \"4\", \"5\", \"6\"], \"x\": [0.542816162109375, -0.42094847559928894, -1.1518301963806152, 0.5481863021850586, 1.0467290878295898, 0.0829644501209259, -0.6479172706604004], \"y\": [0.5946492089932889, -0.4328420254639447, 0.1615305596824412, 0.7400423389059352, 0.09480068654055815, -0.8821139863680164, -0.27606674465388464], \"z\": [0.8168774280831593, 0.7919574121041195, -0.15975094322027358, -0.8258420687624416, 0.12510053936936563, 0.10152773289521237, -0.8498701143733305], \"type\": \"scatter3d\"}, {\"marker\": {\"color\": \"blue\"}, \"mode\": \"lines\", \"name\": \"Reconstructed\", \"x\": [0.542816162109375, -0.42094847559928894, null, 0.542816162109375, 1.0467290878295898, null, -0.42094847559928894, -1.1518301963806152, null, -0.42094847559928894, 0.0829644501209259, null, -1.1518301963806152, -0.6479172706604004, null, 0.5481863021850586, 1.0467290878295898, null, 0.5481863021850586, -0.6479172706604004, null, 1.0467290878295898, 0.0829644501209259, null, 0.0829644501209259, -0.6479172706604004, null], \"y\": [0.5946492089932889, -0.4328420254639447, null, 0.5946492089932889, 0.09480068654055815, null, -0.4328420254639447, 0.1615305596824412, null, -0.4328420254639447, -0.8821139863680164, null, 0.1615305596824412, -0.27606674465388464, null, 0.7400423389059352, 0.09480068654055815, null, 0.7400423389059352, -0.27606674465388464, null, 0.09480068654055815, -0.8821139863680164, null, -0.8821139863680164, -0.27606674465388464, null], \"z\": [0.8168774280831593, 0.7919574121041195, null, 0.8168774280831593, 0.12510053936936563, null, 0.7919574121041195, -0.15975094322027358, null, 0.7919574121041195, 0.10152773289521237, null, -0.15975094322027358, -0.8498701143733305, null, -0.8258420687624416, 0.12510053936936563, null, -0.8258420687624416, -0.8498701143733305, null, 0.12510053936936563, 0.10152773289521237, null, 0.10152773289521237, -0.8498701143733305, null], \"type\": \"scatter3d\"}], \"traces\": [0, 1, 2, 3]}, {\"data\": [{\"marker\": {\"color\": \"red\"}, \"mode\": \"markers+text\", \"name\": \"Original\", \"text\": [\"0\", \"1\", \"2\", \"3\", \"4\", \"5\", \"6\"], \"x\": [0.542816162109375, -0.42094847559928894, -1.1518301963806152, 0.5481863021850586, 1.0467290878295898, 0.0829644501209259, -0.6479172706604004], \"y\": [0.4531026576092815, -0.45024689759542064, 0.21120969151780478, 0.8922156349638442, 0.012986214859418782, -0.8903633878116308, -0.22890674727652896], \"z\": [0.8685808343663496, 0.7500760240782539, -0.13717505016658524, -0.733317707552306, 0.12536529155666412, 0.00686083573244294, -0.8803906225149268], \"type\": \"scatter3d\"}, {\"marker\": {\"color\": \"red\"}, \"mode\": \"lines\", \"name\": \"Original\", \"x\": [0.542816162109375, -0.42094847559928894, null, 0.542816162109375, 1.0467290878295898, null, -0.42094847559928894, -1.1518301963806152, null, -0.42094847559928894, 0.0829644501209259, null, -1.1518301963806152, -0.6479172706604004, null, 0.5481863021850586, 1.0467290878295898, null, 0.5481863021850586, -0.6479172706604004, null, 1.0467290878295898, 0.0829644501209259, null, 0.0829644501209259, -0.6479172706604004, null], \"y\": [0.4531026576092815, -0.45024689759542064, null, 0.4531026576092815, 0.012986214859418782, null, -0.45024689759542064, 0.21120969151780478, null, -0.45024689759542064, -0.8903633878116308, null, 0.21120969151780478, -0.22890674727652896, null, 0.8922156349638442, 0.012986214859418782, null, 0.8922156349638442, -0.22890674727652896, null, 0.012986214859418782, -0.8903633878116308, null, -0.8903633878116308, -0.22890674727652896, null], \"z\": [0.8685808343663496, 0.7500760240782539, null, 0.8685808343663496, 0.12536529155666412, null, 0.7500760240782539, -0.13717505016658524, null, 0.7500760240782539, 0.00686083573244294, null, -0.13717505016658524, -0.8803906225149268, null, -0.733317707552306, 0.12536529155666412, null, -0.733317707552306, -0.8803906225149268, null, 0.12536529155666412, 0.00686083573244294, null, 0.00686083573244294, -0.8803906225149268, null], \"type\": \"scatter3d\"}, {\"marker\": {\"color\": \"blue\"}, \"mode\": \"markers+text\", \"name\": \"Reconstructed\", \"text\": [\"0\", \"1\", \"2\", \"3\", \"4\", \"5\", \"6\"], \"x\": [0.542816162109375, -0.42094847559928894, -1.1518301963806152, 0.5481863021850586, 1.0467290878295898, 0.0829644501209259, -0.6479172706604004], \"y\": [0.5044516532418438, -0.5145698027290564, 0.17759594138000903, 0.8236314832860667, 0.0809662493251544, -0.887908371017116, -0.18416711458581697], \"z\": [0.8754569914105843, 0.7414625275182586, -0.14167627598309523, -0.7425018287190879, 0.13446851523417777, 0.007189587654800162, -0.8743995269405543], \"type\": \"scatter3d\"}, {\"marker\": {\"color\": \"blue\"}, \"mode\": \"lines\", \"name\": \"Reconstructed\", \"x\": [0.542816162109375, -0.42094847559928894, null, 0.542816162109375, 1.0467290878295898, null, -0.42094847559928894, -1.1518301963806152, null, -0.42094847559928894, 0.0829644501209259, null, -1.1518301963806152, -0.6479172706604004, null, 0.5481863021850586, 1.0467290878295898, null, 0.5481863021850586, -0.6479172706604004, null, 1.0467290878295898, 0.0829644501209259, null, 0.0829644501209259, -0.6479172706604004, null], \"y\": [0.5044516532418438, -0.5145698027290564, null, 0.5044516532418438, 0.0809662493251544, null, -0.5145698027290564, 0.17759594138000903, null, -0.5145698027290564, -0.887908371017116, null, 0.17759594138000903, -0.18416711458581697, null, 0.8236314832860667, 0.0809662493251544, null, 0.8236314832860667, -0.18416711458581697, null, 0.0809662493251544, -0.887908371017116, null, -0.887908371017116, -0.18416711458581697, null], \"z\": [0.8754569914105843, 0.7414625275182586, null, 0.8754569914105843, 0.13446851523417777, null, 0.7414625275182586, -0.14167627598309523, null, 0.7414625275182586, 0.007189587654800162, null, -0.14167627598309523, -0.8743995269405543, null, -0.7425018287190879, 0.13446851523417777, null, -0.7425018287190879, -0.8743995269405543, null, 0.13446851523417777, 0.007189587654800162, null, 0.007189587654800162, -0.8743995269405543, null], \"type\": \"scatter3d\"}], \"traces\": [0, 1, 2, 3]}, {\"data\": [{\"marker\": {\"color\": \"red\"}, \"mode\": \"markers+text\", \"name\": \"Original\", \"text\": [\"0\", \"1\", \"2\", \"3\", \"4\", \"5\", \"6\"], \"x\": [0.542816162109375, -0.42094847559928894, -1.1518301963806152, 0.5481863021850586, 1.0467290878295898, 0.0829644501209259, -0.6479172706604004], \"y\": [0.35821125607731086, -0.5274243540655714, 0.22459396064385964, 0.9651079503588045, -0.00041286846102996696, -0.8860485634785541, -0.13403015682159433], \"z\": [0.9118220112393935, 0.6979683813969348, -0.11394771178727482, -0.6343266064401936, 0.12603542217605446, -0.08781786025600195, -0.8997343298014808], \"type\": \"scatter3d\"}, {\"marker\": {\"color\": \"red\"}, \"mode\": \"lines\", \"name\": \"Original\", \"x\": [0.542816162109375, -0.42094847559928894, null, 0.542816162109375, 1.0467290878295898, null, -0.42094847559928894, -1.1518301963806152, null, -0.42094847559928894, 0.0829644501209259, null, -1.1518301963806152, -0.6479172706604004, null, 0.5481863021850586, 1.0467290878295898, null, 0.5481863021850586, -0.6479172706604004, null, 1.0467290878295898, 0.0829644501209259, null, 0.0829644501209259, -0.6479172706604004, null], \"y\": [0.35821125607731086, -0.5274243540655714, null, 0.35821125607731086, -0.00041286846102996696, null, -0.5274243540655714, 0.22459396064385964, null, -0.5274243540655714, -0.8860485634785541, null, 0.22459396064385964, -0.13403015682159433, null, 0.9651079503588045, -0.00041286846102996696, null, 0.9651079503588045, -0.13403015682159433, null, -0.00041286846102996696, -0.8860485634785541, null, -0.8860485634785541, -0.13403015682159433, null], \"z\": [0.9118220112393935, 0.6979683813969348, null, 0.9118220112393935, 0.12603542217605446, null, 0.6979683813969348, -0.11394771178727482, null, 0.6979683813969348, -0.08781786025600195, null, -0.11394771178727482, -0.8997343298014808, null, -0.6343266064401936, 0.12603542217605446, null, -0.6343266064401936, -0.8997343298014808, null, 0.12603542217605446, -0.08781786025600195, null, -0.08781786025600195, -0.8997343298014808, null], \"type\": \"scatter3d\"}, {\"marker\": {\"color\": \"blue\"}, \"mode\": \"markers+text\", \"name\": \"Reconstructed\", \"text\": [\"0\", \"1\", \"2\", \"3\", \"4\", \"5\", \"6\"], \"x\": [0.542816162109375, -0.42094847559928894, -1.1518301963806152, 0.5481863021850586, 1.0467290878295898, 0.0829644501209259, -0.6479172706604004], \"y\": [0.4085384586905156, -0.5904672985175872, 0.1916490900980038, 0.8978885538541249, 0.06621443215242494, -0.8836423990324083, -0.09018079752004686], \"z\": [0.9241172772104626, 0.6825665762222223, -0.12199635992806093, -0.65074874626767, 0.1423129090904942, -0.08723001848655439, -0.8890216434752187], \"type\": \"scatter3d\"}, {\"marker\": {\"color\": \"blue\"}, \"mode\": \"lines\", \"name\": \"Reconstructed\", \"x\": [0.542816162109375, -0.42094847559928894, null, 0.542816162109375, 1.0467290878295898, null, -0.42094847559928894, -1.1518301963806152, null, -0.42094847559928894, 0.0829644501209259, null, -1.1518301963806152, -0.6479172706604004, null, 0.5481863021850586, 1.0467290878295898, null, 0.5481863021850586, -0.6479172706604004, null, 1.0467290878295898, 0.0829644501209259, null, 0.0829644501209259, -0.6479172706604004, null], \"y\": [0.4085384586905156, -0.5904672985175872, null, 0.4085384586905156, 0.06621443215242494, null, -0.5904672985175872, 0.1916490900980038, null, -0.5904672985175872, -0.8836423990324083, null, 0.1916490900980038, -0.09018079752004686, null, 0.8978885538541249, 0.06621443215242494, null, 0.8978885538541249, -0.09018079752004686, null, 0.06621443215242494, -0.8836423990324083, null, -0.8836423990324083, -0.09018079752004686, null], \"z\": [0.9241172772104626, 0.6825665762222223, null, 0.9241172772104626, 0.1423129090904942, null, 0.6825665762222223, -0.12199635992806093, null, 0.6825665762222223, -0.08723001848655439, null, -0.12199635992806093, -0.8890216434752187, null, -0.65074874626767, 0.1423129090904942, null, -0.65074874626767, -0.8890216434752187, null, 0.1423129090904942, -0.08723001848655439, null, -0.08723001848655439, -0.8890216434752187, null], \"type\": \"scatter3d\"}], \"traces\": [0, 1, 2, 3]}, {\"data\": [{\"marker\": {\"color\": \"red\"}, \"mode\": \"markers+text\", \"name\": \"Original\", \"text\": [\"0\", \"1\", \"2\", \"3\", \"4\", \"5\", \"6\"], \"x\": [0.542816162109375, -0.42094847559928894, -1.1518301963806152, 0.5481863021850586, 1.0467290878295898, 0.0829644501209259, -0.6479172706604004], \"y\": [0.2592611778800289, -0.5986258818560805, 0.2354334904526264, 1.0270652070386295, -0.013807273816841374, -0.8716944548742234, -0.03763495113413781], \"z\": [0.9447318803795062, 0.6379524780603743, -0.08942930030221916, -0.5281483314130624, 0.12527752110099066, -0.1815015447975098, -0.9088836876157873], \"type\": \"scatter3d\"}, {\"marker\": {\"color\": \"red\"}, \"mode\": \"lines\", \"name\": \"Original\", \"x\": [0.542816162109375, -0.42094847559928894, null, 0.542816162109375, 1.0467290878295898, null, -0.42094847559928894, -1.1518301963806152, null, -0.42094847559928894, 0.0829644501209259, null, -1.1518301963806152, -0.6479172706604004, null, 0.5481863021850586, 1.0467290878295898, null, 0.5481863021850586, -0.6479172706604004, null, 1.0467290878295898, 0.0829644501209259, null, 0.0829644501209259, -0.6479172706604004, null], \"y\": [0.2592611778800289, -0.5986258818560805, null, 0.2592611778800289, -0.013807273816841374, null, -0.5986258818560805, 0.2354334904526264, null, -0.5986258818560805, -0.8716944548742234, null, 0.2354334904526264, -0.03763495113413781, null, 1.0270652070386295, -0.013807273816841374, null, 1.0270652070386295, -0.03763495113413781, null, -0.013807273816841374, -0.8716944548742234, null, -0.8716944548742234, -0.03763495113413781, null], \"z\": [0.9447318803795062, 0.6379524780603743, null, 0.9447318803795062, 0.12527752110099066, null, 0.6379524780603743, -0.08942930030221916, null, 0.6379524780603743, -0.1815015447975098, null, -0.08942930030221916, -0.9088836876157873, null, -0.5281483314130624, 0.12527752110099066, null, -0.5281483314130624, -0.9088836876157873, null, 0.12527752110099066, -0.1815015447975098, null, -0.1815015447975098, -0.9088836876157873, null], \"type\": \"scatter3d\"}, {\"marker\": {\"color\": \"blue\"}, \"mode\": \"markers+text\", \"name\": \"Reconstructed\", \"text\": [\"0\", \"1\", \"2\", \"3\", \"4\", \"5\", \"6\"], \"x\": [0.542816162109375, -0.42094847559928894, -1.1518301963806152, 0.5481863021850586, 1.0467290878295898, 0.0829644501209259, -0.6479172706604004], \"y\": [0.30799636015853854, -0.6596745638751526, 0.20353077804609734, 0.9619721883289539, 0.050712379005463874, -0.869364405581076, 0.004827304016043654], \"z\": [0.9623069450010183, 0.6159368728778231, -0.10093417636776965, -0.5516224204950338, 0.14854484082146222, -0.18066127366310938, -0.8935707895542845], \"type\": \"scatter3d\"}, {\"marker\": {\"color\": \"blue\"}, \"mode\": \"lines\", \"name\": \"Reconstructed\", \"x\": [0.542816162109375, -0.42094847559928894, null, 0.542816162109375, 1.0467290878295898, null, -0.42094847559928894, -1.1518301963806152, null, -0.42094847559928894, 0.0829644501209259, null, -1.1518301963806152, -0.6479172706604004, null, 0.5481863021850586, 1.0467290878295898, null, 0.5481863021850586, -0.6479172706604004, null, 1.0467290878295898, 0.0829644501209259, null, 0.0829644501209259, -0.6479172706604004, null], \"y\": [0.30799636015853854, -0.6596745638751526, null, 0.30799636015853854, 0.050712379005463874, null, -0.6596745638751526, 0.20353077804609734, null, -0.6596745638751526, -0.869364405581076, null, 0.20353077804609734, 0.004827304016043654, null, 0.9619721883289539, 0.050712379005463874, null, 0.9619721883289539, 0.004827304016043654, null, 0.050712379005463874, -0.869364405581076, null, -0.869364405581076, 0.004827304016043654, null], \"z\": [0.9623069450010183, 0.6159368728778231, null, 0.9623069450010183, 0.14854484082146222, null, 0.6159368728778231, -0.10093417636776965, null, 0.6159368728778231, -0.18066127366310938, null, -0.10093417636776965, -0.8935707895542845, null, -0.5516224204950338, 0.14854484082146222, null, -0.5516224204950338, -0.8935707895542845, null, 0.14854484082146222, -0.18066127366310938, null, -0.18066127366310938, -0.8935707895542845, null], \"type\": \"scatter3d\"}], \"traces\": [0, 1, 2, 3]}, {\"data\": [{\"marker\": {\"color\": \"red\"}, \"mode\": \"markers+text\", \"name\": \"Original\", \"text\": [\"0\", \"1\", \"2\", \"3\", \"4\", \"5\", \"6\"], \"x\": [0.542816162109375, -0.42094847559928894, -1.1518301963806152, 0.5481863021850586, 1.0467290878295898, 0.0829644501209259, -0.6479172706604004], \"y\": [0.15737356694185559, -0.6630447392063946, 0.24360546474011538, 1.0773854045282731, -0.027045237243201313, -0.8474636997847366, 0.059186673587832216], \"z\": [0.9669375598192134, 0.5707083182345133, -0.06389761911060401, -0.41598592475365553, 0.12310017565349511, -0.2731287443121246, -0.9077350300779123], \"type\": \"scatter3d\"}, {\"marker\": {\"color\": \"red\"}, \"mode\": \"lines\", \"name\": \"Original\", \"x\": [0.542816162109375, -0.42094847559928894, null, 0.542816162109375, 1.0467290878295898, null, -0.42094847559928894, -1.1518301963806152, null, -0.42094847559928894, 0.0829644501209259, null, -1.1518301963806152, -0.6479172706604004, null, 0.5481863021850586, 1.0467290878295898, null, 0.5481863021850586, -0.6479172706604004, null, 1.0467290878295898, 0.0829644501209259, null, 0.0829644501209259, -0.6479172706604004, null], \"y\": [0.15737356694185559, -0.6630447392063946, null, 0.15737356694185559, -0.027045237243201313, null, -0.6630447392063946, 0.24360546474011538, null, -0.6630447392063946, -0.8474636997847366, null, 0.24360546474011538, 0.059186673587832216, null, 1.0773854045282731, -0.027045237243201313, null, 1.0773854045282731, 0.059186673587832216, null, -0.027045237243201313, -0.8474636997847366, null, -0.8474636997847366, 0.059186673587832216, null], \"z\": [0.9669375598192134, 0.5707083182345133, null, 0.9669375598192134, 0.12310017565349511, null, 0.5707083182345133, -0.06389761911060401, null, 0.5707083182345133, -0.2731287443121246, null, -0.06389761911060401, -0.9077350300779123, null, -0.41598592475365553, 0.12310017565349511, null, -0.41598592475365553, -0.9077350300779123, null, 0.12310017565349511, -0.2731287443121246, null, -0.2731287443121246, -0.9077350300779123, null], \"type\": \"scatter3d\"}, {\"marker\": {\"color\": \"blue\"}, \"mode\": \"markers+text\", \"name\": \"Reconstructed\", \"text\": [\"0\", \"1\", \"2\", \"3\", \"4\", \"5\", \"6\"], \"x\": [0.542816162109375, -0.42094847559928894, -1.1518301963806152, 0.5481863021850586, 1.0467290878295898, 0.0829644501209259, -0.6479172706604004], \"y\": [0.20396453979686388, -0.7214074528314313, 0.21310638095215617, 1.0151562935254328, 0.034635734340732374, -0.8452361660341193, 0.09978071026873984], \"z\": [0.9895932905863675, 0.5423283586478311, -0.07872836825798098, -0.4462459922810531, 0.1530937001504163, -0.2720455644204794, -0.8879954215349292], \"type\": \"scatter3d\"}, {\"marker\": {\"color\": \"blue\"}, \"mode\": \"lines\", \"name\": \"Reconstructed\", \"x\": [0.542816162109375, -0.42094847559928894, null, 0.542816162109375, 1.0467290878295898, null, -0.42094847559928894, -1.1518301963806152, null, -0.42094847559928894, 0.0829644501209259, null, -1.1518301963806152, -0.6479172706604004, null, 0.5481863021850586, 1.0467290878295898, null, 0.5481863021850586, -0.6479172706604004, null, 1.0467290878295898, 0.0829644501209259, null, 0.0829644501209259, -0.6479172706604004, null], \"y\": [0.20396453979686388, -0.7214074528314313, null, 0.20396453979686388, 0.034635734340732374, null, -0.7214074528314313, 0.21310638095215617, null, -0.7214074528314313, -0.8452361660341193, null, 0.21310638095215617, 0.09978071026873984, null, 1.0151562935254328, 0.034635734340732374, null, 1.0151562935254328, 0.09978071026873984, null, 0.034635734340732374, -0.8452361660341193, null, -0.8452361660341193, 0.09978071026873984, null], \"z\": [0.9895932905863675, 0.5423283586478311, null, 0.9895932905863675, 0.1530937001504163, null, 0.5423283586478311, -0.07872836825798098, null, 0.5423283586478311, -0.2720455644204794, null, -0.07872836825798098, -0.8879954215349292, null, -0.4462459922810531, 0.1530937001504163, null, -0.4462459922810531, -0.8879954215349292, null, 0.1530937001504163, -0.2720455644204794, null, -0.2720455644204794, -0.8879954215349292, null], \"type\": \"scatter3d\"}], \"traces\": [0, 1, 2, 3]}, {\"data\": [{\"marker\": {\"color\": \"red\"}, \"mode\": \"markers+text\", \"name\": \"Original\", \"text\": [\"0\", \"1\", \"2\", \"3\", \"4\", \"5\", \"6\"], \"x\": [0.542816162109375, -0.42094847559928894, -1.1518301963806152, 0.5481863021850586, 1.0467290878295898, 0.0829644501209259, -0.6479172706604004], \"y\": [0.05370285060694461, -0.7199510347222652, 0.24901729177229406, 1.115498394883247, -0.039976767324867275, -0.8136308423473759, 0.15533768964825712], \"z\": [0.9781874503375239, 0.4969978051195822, -0.03764195236227266, -0.29911023134724835, 0.11952805602751104, -0.3616612860169741, -0.8963013719367403], \"type\": \"scatter3d\"}, {\"marker\": {\"color\": \"red\"}, \"mode\": \"lines\", \"name\": \"Original\", \"x\": [0.542816162109375, -0.42094847559928894, null, 0.542816162109375, 1.0467290878295898, null, -0.42094847559928894, -1.1518301963806152, null, -0.42094847559928894, 0.0829644501209259, null, -1.1518301963806152, -0.6479172706604004, null, 0.5481863021850586, 1.0467290878295898, null, 0.5481863021850586, -0.6479172706604004, null, 1.0467290878295898, 0.0829644501209259, null, 0.0829644501209259, -0.6479172706604004, null], \"y\": [0.05370285060694461, -0.7199510347222652, null, 0.05370285060694461, -0.039976767324867275, null, -0.7199510347222652, 0.24901729177229406, null, -0.7199510347222652, -0.8136308423473759, null, 0.24901729177229406, 0.15533768964825712, null, 1.115498394883247, -0.039976767324867275, null, 1.115498394883247, 0.15533768964825712, null, -0.039976767324867275, -0.8136308423473759, null, -0.8136308423473759, 0.15533768964825712, null], \"z\": [0.9781874503375239, 0.4969978051195822, null, 0.9781874503375239, 0.11952805602751104, null, 0.4969978051195822, -0.03764195236227266, null, 0.4969978051195822, -0.3616612860169741, null, -0.03764195236227266, -0.8963013719367403, null, -0.29911023134724835, 0.11952805602751104, null, -0.29911023134724835, -0.8963013719367403, null, 0.11952805602751104, -0.3616612860169741, null, -0.3616612860169741, -0.8963013719367403, null], \"type\": \"scatter3d\"}, {\"marker\": {\"color\": \"blue\"}, \"mode\": \"markers+text\", \"name\": \"Reconstructed\", \"text\": [\"0\", \"1\", \"2\", \"3\", \"4\", \"5\", \"6\"], \"x\": [0.542816162109375, -0.42094847559928894, -1.1518301963806152, 0.5481863021850586, 1.0467290878295898, 0.0829644501209259, -0.6479172706604004], \"y\": [0.09762171969919614, -0.7749665070873376, 0.22026740340903778, 1.0568382722803948, 0.01816665296618318, -0.8115310629867607, 0.1936035612037422], \"z\": [1.0056671487679574, 0.46257504741094263, -0.05563053627756963, -0.3358134186636772, 0.15590794668352742, -0.36034747022907315, -0.8723587105646161], \"type\": \"scatter3d\"}, {\"marker\": {\"color\": \"blue\"}, \"mode\": \"lines\", \"name\": \"Reconstructed\", \"x\": [0.542816162109375, -0.42094847559928894, null, 0.542816162109375, 1.0467290878295898, null, -0.42094847559928894, -1.1518301963806152, null, -0.42094847559928894, 0.0829644501209259, null, -1.1518301963806152, -0.6479172706604004, null, 0.5481863021850586, 1.0467290878295898, null, 0.5481863021850586, -0.6479172706604004, null, 1.0467290878295898, 0.0829644501209259, null, 0.0829644501209259, -0.6479172706604004, null], \"y\": [0.09762171969919614, -0.7749665070873376, null, 0.09762171969919614, 0.01816665296618318, null, -0.7749665070873376, 0.22026740340903778, null, -0.7749665070873376, -0.8115310629867607, null, 0.22026740340903778, 0.1936035612037422, null, 1.0568382722803948, 0.01816665296618318, null, 1.0568382722803948, 0.1936035612037422, null, 0.01816665296618318, -0.8115310629867607, null, -0.8115310629867607, 0.1936035612037422, null], \"z\": [1.0056671487679574, 0.46257504741094263, null, 1.0056671487679574, 0.15590794668352742, null, 0.46257504741094263, -0.05563053627756963, null, 0.46257504741094263, -0.36034747022907315, null, -0.05563053627756963, -0.8723587105646161, null, -0.3358134186636772, 0.15590794668352742, null, -0.3358134186636772, -0.8723587105646161, null, 0.15590794668352742, -0.36034747022907315, null, -0.36034747022907315, -0.8723587105646161, null], \"type\": \"scatter3d\"}], \"traces\": [0, 1, 2, 3]}, {\"data\": [{\"marker\": {\"color\": \"red\"}, \"mode\": \"markers+text\", \"name\": \"Original\", \"text\": [\"0\", \"1\", \"2\", \"3\", \"4\", \"5\", \"6\"], \"x\": [0.542816162109375, -0.42094847559928894, -1.1518301963806152, 0.5481863021850586, 1.0467290878295898, 0.0829644501209259, -0.6479172706604004], \"y\": [-0.05057634048391345, -0.7686999973368954, 0.2516076533864315, 1.1409723426936509, -0.05245534465883677, -0.7705792223558307, 0.2497286676151758], \"z\": [0.9783540861796373, 0.4176561082823994, -0.01095978725271577, -0.1788454995012925, 0.1146016357657474, -0.4460960608387338, -0.8747122611076685], \"type\": \"scatter3d\"}, {\"marker\": {\"color\": \"red\"}, \"mode\": \"lines\", \"name\": \"Original\", \"x\": [0.542816162109375, -0.42094847559928894, null, 0.542816162109375, 1.0467290878295898, null, -0.42094847559928894, -1.1518301963806152, null, -0.42094847559928894, 0.0829644501209259, null, -1.1518301963806152, -0.6479172706604004, null, 0.5481863021850586, 1.0467290878295898, null, 0.5481863021850586, -0.6479172706604004, null, 1.0467290878295898, 0.0829644501209259, null, 0.0829644501209259, -0.6479172706604004, null], \"y\": [-0.05057634048391345, -0.7686999973368954, null, -0.05057634048391345, -0.05245534465883677, null, -0.7686999973368954, 0.2516076533864315, null, -0.7686999973368954, -0.7705792223558307, null, 0.2516076533864315, 0.2497286676151758, null, 1.1409723426936509, -0.05245534465883677, null, 1.1409723426936509, 0.2497286676151758, null, -0.05245534465883677, -0.7705792223558307, null, -0.7705792223558307, 0.2497286676151758, null], \"z\": [0.9783540861796373, 0.4176561082823994, null, 0.9783540861796373, 0.1146016357657474, null, 0.4176561082823994, -0.01095978725271577, null, 0.4176561082823994, -0.4460960608387338, null, -0.01095978725271577, -0.8747122611076685, null, -0.1788454995012925, 0.1146016357657474, null, -0.1788454995012925, -0.8747122611076685, null, 0.1146016357657474, -0.4460960608387338, null, -0.4460960608387338, -0.8747122611076685, null], \"type\": \"scatter3d\"}, {\"marker\": {\"color\": \"blue\"}, \"mode\": \"markers+text\", \"name\": \"Reconstructed\", \"text\": [\"0\", \"1\", \"2\", \"3\", \"4\", \"5\", \"6\"], \"x\": [0.542816162109375, -0.42094847559928894, -1.1518301963806152, 0.5481863021850586, 1.0467290878295898, 0.0829644501209259, -0.6479172706604004], \"y\": [-0.009827193490323554, -0.81974488115704, 0.22493270817090635, 1.0865458511192732, 0.0014917361545009147, -0.7686309887244025, 0.28523280643024823], \"z\": [1.0103463963098027, 0.37758057605127754, -0.031902388092299006, -0.221575944828608, 0.1569556938830596, -0.44456649521242825, -0.8468378268267516], \"type\": \"scatter3d\"}, {\"marker\": {\"color\": \"blue\"}, \"mode\": \"lines\", \"name\": \"Reconstructed\", \"x\": [0.542816162109375, -0.42094847559928894, null, 0.542816162109375, 1.0467290878295898, null, -0.42094847559928894, -1.1518301963806152, null, -0.42094847559928894, 0.0829644501209259, null, -1.1518301963806152, -0.6479172706604004, null, 0.5481863021850586, 1.0467290878295898, null, 0.5481863021850586, -0.6479172706604004, null, 1.0467290878295898, 0.0829644501209259, null, 0.0829644501209259, -0.6479172706604004, null], \"y\": [-0.009827193490323554, -0.81974488115704, null, -0.009827193490323554, 0.0014917361545009147, null, -0.81974488115704, 0.22493270817090635, null, -0.81974488115704, -0.7686309887244025, null, 0.22493270817090635, 0.28523280643024823, null, 1.0865458511192732, 0.0014917361545009147, null, 1.0865458511192732, 0.28523280643024823, null, 0.0014917361545009147, -0.7686309887244025, null, -0.7686309887244025, 0.28523280643024823, null], \"z\": [1.0103463963098027, 0.37758057605127754, null, 1.0103463963098027, 0.1569556938830596, null, 0.37758057605127754, -0.031902388092299006, null, 0.37758057605127754, -0.44456649521242825, null, -0.031902388092299006, -0.8468378268267516, null, -0.221575944828608, 0.1569556938830596, null, -0.221575944828608, -0.8468378268267516, null, 0.1569556938830596, -0.44456649521242825, null, -0.44456649521242825, -0.8468378268267516, null], \"type\": \"scatter3d\"}], \"traces\": [0, 1, 2, 3]}, {\"data\": [{\"marker\": {\"color\": \"red\"}, \"mode\": \"markers+text\", \"name\": \"Original\", \"text\": [\"0\", \"1\", \"2\", \"3\", \"4\", \"5\", \"6\"], \"x\": [0.542816162109375, -0.42094847559928894, -1.1518301963806152, 0.5481863021850586, 1.0467290878295898, 0.0829644501209259, -0.6479172706604004], \"y\": [-0.15428248142780848, -0.8087392818247646, 0.2513471997503835, 1.1535186179519201, -0.0643395819777294, -0.7187966318671596, 0.34129011999150205], \"z\": [0.9674355792948778, 0.333582200851464, 0.0158465566257232, -0.0565543766829515, 0.1083767331782677, -0.525476389040249, -0.8432123108429616], \"type\": \"scatter3d\"}, {\"marker\": {\"color\": \"red\"}, \"mode\": \"lines\", \"name\": \"Original\", \"x\": [0.542816162109375, -0.42094847559928894, null, 0.542816162109375, 1.0467290878295898, null, -0.42094847559928894, -1.1518301963806152, null, -0.42094847559928894, 0.0829644501209259, null, -1.1518301963806152, -0.6479172706604004, null, 0.5481863021850586, 1.0467290878295898, null, 0.5481863021850586, -0.6479172706604004, null, 1.0467290878295898, 0.0829644501209259, null, 0.0829644501209259, -0.6479172706604004, null], \"y\": [-0.15428248142780848, -0.8087392818247646, null, -0.15428248142780848, -0.0643395819777294, null, -0.8087392818247646, 0.2513471997503835, null, -0.8087392818247646, -0.7187966318671596, null, 0.2513471997503835, 0.34129011999150205, null, 1.1535186179519201, -0.0643395819777294, null, 1.1535186179519201, 0.34129011999150205, null, -0.0643395819777294, -0.7187966318671596, null, -0.7187966318671596, 0.34129011999150205, null], \"z\": [0.9674355792948778, 0.333582200851464, null, 0.9674355792948778, 0.1083767331782677, null, 0.333582200851464, 0.0158465566257232, null, 0.333582200851464, -0.525476389040249, null, 0.0158465566257232, -0.8432123108429616, null, -0.0565543766829515, 0.1083767331782677, null, -0.0565543766829515, -0.8432123108429616, null, 0.1083767331782677, -0.525476389040249, null, -0.525476389040249, -0.8432123108429616, null], \"type\": \"scatter3d\"}, {\"marker\": {\"color\": \"blue\"}, \"mode\": \"markers+text\", \"name\": \"Reconstructed\", \"text\": [\"0\", \"1\", \"2\", \"3\", \"4\", \"5\", \"6\"], \"x\": [0.542816162109375, -0.42094847559928894, -1.1518301963806152, 0.5481863021850586, 1.0467290878295898, 0.0829644501209259, -0.6479172706604004], \"y\": [-0.11716476065085056, -0.8552352181697984, 0.2270494354706487, 1.103942431303277, -0.015200082623879353, -0.7170220182304372, 0.373630249986653], \"z\": [1.0035780154675222, 0.2883079658914085, -0.007812773102395124, -0.10482792700137553, 0.15622507035458363, -0.5237484041652682, -0.8117219321317134], \"type\": \"scatter3d\"}, {\"marker\": {\"color\": \"blue\"}, \"mode\": \"lines\", \"name\": \"Reconstructed\", \"x\": [0.542816162109375, -0.42094847559928894, null, 0.542816162109375, 1.0467290878295898, null, -0.42094847559928894, -1.1518301963806152, null, -0.42094847559928894, 0.0829644501209259, null, -1.1518301963806152, -0.6479172706604004, null, 0.5481863021850586, 1.0467290878295898, null, 0.5481863021850586, -0.6479172706604004, null, 1.0467290878295898, 0.0829644501209259, null, 0.0829644501209259, -0.6479172706604004, null], \"y\": [-0.11716476065085056, -0.8552352181697984, null, -0.11716476065085056, -0.015200082623879353, null, -0.8552352181697984, 0.2270494354706487, null, -0.8552352181697984, -0.7170220182304372, null, 0.2270494354706487, 0.373630249986653, null, 1.103942431303277, -0.015200082623879353, null, 1.103942431303277, 0.373630249986653, null, -0.015200082623879353, -0.7170220182304372, null, -0.7170220182304372, 0.373630249986653, null], \"z\": [1.0035780154675222, 0.2883079658914085, null, 1.0035780154675222, 0.15622507035458363, null, 0.2883079658914085, -0.007812773102395124, null, 0.2883079658914085, -0.5237484041652682, null, -0.007812773102395124, -0.8117219321317134, null, -0.10482792700137553, 0.15622507035458363, null, -0.10482792700137553, -0.8117219321317134, null, 0.15622507035458363, -0.5237484041652682, null, -0.5237484041652682, -0.8117219321317134, null], \"type\": \"scatter3d\"}], \"traces\": [0, 1, 2, 3]}, {\"data\": [{\"marker\": {\"color\": \"red\"}, \"mode\": \"markers+text\", \"name\": \"Original\", \"text\": [\"0\", \"1\", \"2\", \"3\", \"4\", \"5\", \"6\"], \"x\": [0.542816162109375, -0.42094847559928894, -1.1518301963806152, 0.5481863021850586, 1.0467290878295898, 0.0829644501209259, -0.6479172706604004], \"y\": [-0.25624054020897474, -0.8396152270937387, 0.2482388819079185, 1.152995066346141, -0.07549482612402185, -0.6588697883228725, 0.428984618935712], \"z\": [0.9455556407290637, 0.24572867379219707, 0.04247335268562995, 0.06637752982118976, 0.10092387889873287, -0.5989028597842267, -0.8021584281658599], \"type\": \"scatter3d\"}, {\"marker\": {\"color\": \"red\"}, \"mode\": \"lines\", \"name\": \"Original\", \"x\": [0.542816162109375, -0.42094847559928894, null, 0.542816162109375, 1.0467290878295898, null, -0.42094847559928894, -1.1518301963806152, null, -0.42094847559928894, 0.0829644501209259, null, -1.1518301963806152, -0.6479172706604004, null, 0.5481863021850586, 1.0467290878295898, null, 0.5481863021850586, -0.6479172706604004, null, 1.0467290878295898, 0.0829644501209259, null, 0.0829644501209259, -0.6479172706604004, null], \"y\": [-0.25624054020897474, -0.8396152270937387, null, -0.25624054020897474, -0.07549482612402185, null, -0.8396152270937387, 0.2482388819079185, null, -0.8396152270937387, -0.6588697883228725, null, 0.2482388819079185, 0.428984618935712, null, 1.152995066346141, -0.07549482612402185, null, 1.152995066346141, 0.428984618935712, null, -0.07549482612402185, -0.6588697883228725, null, -0.6588697883228725, 0.428984618935712, null], \"z\": [0.9455556407290637, 0.24572867379219707, null, 0.9455556407290637, 0.10092387889873287, null, 0.24572867379219707, 0.04247335268562995, null, 0.24572867379219707, -0.5989028597842267, null, 0.04247335268562995, -0.8021584281658599, null, 0.06637752982118976, 0.10092387889873287, null, 0.06637752982118976, -0.8021584281658599, null, 0.10092387889873287, -0.5989028597842267, null, -0.5989028597842267, -0.8021584281658599, null], \"type\": \"scatter3d\"}, {\"marker\": {\"color\": \"blue\"}, \"mode\": \"markers+text\", \"name\": \"Reconstructed\", \"text\": [\"0\", \"1\", \"2\", \"3\", \"4\", \"5\", \"6\"], \"x\": [0.542816162109375, -0.42094847559928894, -1.1518301963806152, 0.5481863021850586, 1.0467290878295898, 0.0829644501209259, -0.6479172706604004], \"y\": [-0.2231748042565405, -0.8810353984260391, 0.22659360194215744, 1.1088309026276009, -0.03171967839248623, -0.6572889017624596, 0.4577943135156361], \"z\": [0.9854386947005663, 0.19576871127597184, 0.016365363728584603, 0.01310783312589697, 0.15372435435461942, -0.596996034419672, -0.767408903597996], \"type\": \"scatter3d\"}, {\"marker\": {\"color\": \"blue\"}, \"mode\": \"lines\", \"name\": \"Reconstructed\", \"x\": [0.542816162109375, -0.42094847559928894, null, 0.542816162109375, 1.0467290878295898, null, -0.42094847559928894, -1.1518301963806152, null, -0.42094847559928894, 0.0829644501209259, null, -1.1518301963806152, -0.6479172706604004, null, 0.5481863021850586, 1.0467290878295898, null, 0.5481863021850586, -0.6479172706604004, null, 1.0467290878295898, 0.0829644501209259, null, 0.0829644501209259, -0.6479172706604004, null], \"y\": [-0.2231748042565405, -0.8810353984260391, null, -0.2231748042565405, -0.03171967839248623, null, -0.8810353984260391, 0.22659360194215744, null, -0.8810353984260391, -0.6572889017624596, null, 0.22659360194215744, 0.4577943135156361, null, 1.1088309026276009, -0.03171967839248623, null, 1.1088309026276009, 0.4577943135156361, null, -0.03171967839248623, -0.6572889017624596, null, -0.6572889017624596, 0.4577943135156361, null], \"z\": [0.9854386947005663, 0.19576871127597184, null, 0.9854386947005663, 0.15372435435461942, null, 0.19576871127597184, 0.016365363728584603, null, 0.19576871127597184, -0.596996034419672, null, 0.016365363728584603, -0.767408903597996, null, 0.01310783312589697, 0.15372435435461942, null, 0.01310783312589697, -0.767408903597996, null, 0.15372435435461942, -0.596996034419672, null, -0.596996034419672, -0.767408903597996, null], \"type\": \"scatter3d\"}], \"traces\": [0, 1, 2, 3]}, {\"data\": [{\"marker\": {\"color\": \"red\"}, \"mode\": \"markers+text\", \"name\": \"Original\", \"text\": [\"0\", \"1\", \"2\", \"3\", \"4\", \"5\", \"6\"], \"x\": [0.542816162109375, -0.42094847559928894, -1.1518301963806152, 0.5481863021850586, 1.0467290878295898, 0.0829644501209259, -0.6479172706604004], \"y\": [-0.3552952912810487, -0.8609779963465186, 0.2423179183422125, 1.1394076199252077, -0.08579468372412721, -0.591477686805878, 0.511818550733824], \"z\": [0.9129621789289261, 0.15509094267066853, 0.06861890868811793, 0.18855735238934174, 0.09232751674413958, -0.6655435218174088, -0.7520157699713943], \"type\": \"scatter3d\"}, {\"marker\": {\"color\": \"red\"}, \"mode\": \"lines\", \"name\": \"Original\", \"x\": [0.542816162109375, -0.42094847559928894, null, 0.542816162109375, 1.0467290878295898, null, -0.42094847559928894, -1.1518301963806152, null, -0.42094847559928894, 0.0829644501209259, null, -1.1518301963806152, -0.6479172706604004, null, 0.5481863021850586, 1.0467290878295898, null, 0.5481863021850586, -0.6479172706604004, null, 1.0467290878295898, 0.0829644501209259, null, 0.0829644501209259, -0.6479172706604004, null], \"y\": [-0.3552952912810487, -0.8609779963465186, null, -0.3552952912810487, -0.08579468372412721, null, -0.8609779963465186, 0.2423179183422125, null, -0.8609779963465186, -0.591477686805878, null, 0.2423179183422125, 0.511818550733824, null, 1.1394076199252077, -0.08579468372412721, null, 1.1394076199252077, 0.511818550733824, null, -0.08579468372412721, -0.591477686805878, null, -0.591477686805878, 0.511818550733824, null], \"z\": [0.9129621789289261, 0.15509094267066853, null, 0.9129621789289261, 0.09232751674413958, null, 0.15509094267066853, 0.06861890868811793, null, 0.15509094267066853, -0.6655435218174088, null, 0.06861890868811793, -0.7520157699713943, null, 0.18855735238934174, 0.09232751674413958, null, 0.18855735238934174, -0.7520157699713943, null, 0.09232751674413958, -0.6655435218174088, null, -0.6655435218174088, -0.7520157699713943, null], \"type\": \"scatter3d\"}, {\"marker\": {\"color\": \"blue\"}, \"mode\": \"markers+text\", \"name\": \"Reconstructed\", \"text\": [\"0\", \"1\", \"2\", \"3\", \"4\", \"5\", \"6\"], \"x\": [0.542816162109375, -0.42094847559928894, -1.1518301963806152, 0.5481863021850586, 1.0467290878295898, 0.0829644501209259, -0.6479172706604004], \"y\": [-0.32665618815387676, -0.8968530955742299, 0.22357037236145225, 1.1011558767588059, -0.04787987753036586, -0.5901084393981944, 0.5367713845471609], \"z\": [0.9561339597613299, 0.10101131893657049, 0.04035807444925194, 0.13089507626622862, 0.14948187999468207, -0.6634794610565893, -0.7144008255454739], \"type\": \"scatter3d\"}, {\"marker\": {\"color\": \"blue\"}, \"mode\": \"lines\", \"name\": \"Reconstructed\", \"x\": [0.542816162109375, -0.42094847559928894, null, 0.542816162109375, 1.0467290878295898, null, -0.42094847559928894, -1.1518301963806152, null, -0.42094847559928894, 0.0829644501209259, null, -1.1518301963806152, -0.6479172706604004, null, 0.5481863021850586, 1.0467290878295898, null, 0.5481863021850586, -0.6479172706604004, null, 1.0467290878295898, 0.0829644501209259, null, 0.0829644501209259, -0.6479172706604004, null], \"y\": [-0.32665618815387676, -0.8968530955742299, null, -0.32665618815387676, -0.04787987753036586, null, -0.8968530955742299, 0.22357037236145225, null, -0.8968530955742299, -0.5901084393981944, null, 0.22357037236145225, 0.5367713845471609, null, 1.1011558767588059, -0.04787987753036586, null, 1.1011558767588059, 0.5367713845471609, null, -0.04787987753036586, -0.5901084393981944, null, -0.5901084393981944, 0.5367713845471609, null], \"z\": [0.9561339597613299, 0.10101131893657049, null, 0.9561339597613299, 0.14948187999468207, null, 0.10101131893657049, 0.04035807444925194, null, 0.10101131893657049, -0.6634794610565893, null, 0.04035807444925194, -0.7144008255454739, null, 0.13089507626622862, 0.14948187999468207, null, 0.13089507626622862, -0.7144008255454739, null, 0.14948187999468207, -0.6634794610565893, null, -0.6634794610565893, -0.7144008255454739, null], \"type\": \"scatter3d\"}], \"traces\": [0, 1, 2, 3]}, {\"data\": [{\"marker\": {\"color\": \"red\"}, \"mode\": \"markers+text\", \"name\": \"Original\", \"text\": [\"0\", \"1\", \"2\", \"3\", \"4\", \"5\", \"6\"], \"x\": [0.542816162109375, -0.42094847559928894, -1.1518301963806152, 0.5481863021850586, 1.0467290878295898, 0.0829644501209259, -0.6479172706604004], \"y\": [-0.4503244047341131, -0.8725855408713408, 0.23365139593636186, 1.1129102298863376, -0.09512245327582201, -0.5173839067548811, 0.5888533738398056], \"z\": [0.8700244908403466, 0.06269596919748502, 0.09398698503644479, 0.3086007448112273, 0.08268504693263135, -0.7246433098107017, -0.6933524726128978], \"type\": \"scatter3d\"}, {\"marker\": {\"color\": \"red\"}, \"mode\": \"lines\", \"name\": \"Original\", \"x\": [0.542816162109375, -0.42094847559928894, null, 0.542816162109375, 1.0467290878295898, null, -0.42094847559928894, -1.1518301963806152, null, -0.42094847559928894, 0.0829644501209259, null, -1.1518301963806152, -0.6479172706604004, null, 0.5481863021850586, 1.0467290878295898, null, 0.5481863021850586, -0.6479172706604004, null, 1.0467290878295898, 0.0829644501209259, null, 0.0829644501209259, -0.6479172706604004, null], \"y\": [-0.4503244047341131, -0.8725855408713408, null, -0.4503244047341131, -0.09512245327582201, null, -0.8725855408713408, 0.23365139593636186, null, -0.8725855408713408, -0.5173839067548811, null, 0.23365139593636186, 0.5888533738398056, null, 1.1129102298863376, -0.09512245327582201, null, 1.1129102298863376, 0.5888533738398056, null, -0.09512245327582201, -0.5173839067548811, null, -0.5173839067548811, 0.5888533738398056, null], \"z\": [0.8700244908403466, 0.06269596919748502, null, 0.8700244908403466, 0.08268504693263135, null, 0.06269596919748502, 0.09398698503644479, null, 0.06269596919748502, -0.7246433098107017, null, 0.09398698503644479, -0.6933524726128978, null, 0.3086007448112273, 0.08268504693263135, null, 0.3086007448112273, -0.6933524726128978, null, 0.08268504693263135, -0.7246433098107017, null, -0.7246433098107017, -0.6933524726128978, null], \"type\": \"scatter3d\"}, {\"marker\": {\"color\": \"blue\"}, \"mode\": \"markers+text\", \"name\": \"Reconstructed\", \"text\": [\"0\", \"1\", \"2\", \"3\", \"4\", \"5\", \"6\"], \"x\": [0.542816162109375, -0.42094847559928894, -1.1518301963806152, 0.5481863021850586, 1.0467290878295898, 0.0829644501209259, -0.6479172706604004], \"y\": [-0.42643642691423944, -0.9025090887852506, 0.21801400112770372, 1.0810043148067705, -0.06349757852399808, -0.5162418126201791, 0.6096666213088037], \"z\": [0.9159958450062521, 0.005109427991542714, 0.06389351206014092, 0.2471992258894452, 0.14354571620447634, -0.7224454002867943, -0.6532983006794358], \"type\": \"scatter3d\"}, {\"marker\": {\"color\": \"blue\"}, \"mode\": \"lines\", \"name\": \"Reconstructed\", \"x\": [0.542816162109375, -0.42094847559928894, null, 0.542816162109375, 1.0467290878295898, null, -0.42094847559928894, -1.1518301963806152, null, -0.42094847559928894, 0.0829644501209259, null, -1.1518301963806152, -0.6479172706604004, null, 0.5481863021850586, 1.0467290878295898, null, 0.5481863021850586, -0.6479172706604004, null, 1.0467290878295898, 0.0829644501209259, null, 0.0829644501209259, -0.6479172706604004, null], \"y\": [-0.42643642691423944, -0.9025090887852506, null, -0.42643642691423944, -0.06349757852399808, null, -0.9025090887852506, 0.21801400112770372, null, -0.9025090887852506, -0.5162418126201791, null, 0.21801400112770372, 0.6096666213088037, null, 1.0810043148067705, -0.06349757852399808, null, 1.0810043148067705, 0.6096666213088037, null, -0.06349757852399808, -0.5162418126201791, null, -0.5162418126201791, 0.6096666213088037, null], \"z\": [0.9159958450062521, 0.005109427991542714, null, 0.9159958450062521, 0.14354571620447634, null, 0.005109427991542714, 0.06389351206014092, null, 0.005109427991542714, -0.7224454002867943, null, 0.06389351206014092, -0.6532983006794358, null, 0.2471992258894452, 0.14354571620447634, null, 0.2471992258894452, -0.6532983006794358, null, 0.14354571620447634, -0.7224454002867943, null, -0.7224454002867943, -0.6532983006794358, null], \"type\": \"scatter3d\"}], \"traces\": [0, 1, 2, 3]}, {\"data\": [{\"marker\": {\"color\": \"red\"}, \"mode\": \"markers+text\", \"name\": \"Original\", \"text\": [\"0\", \"1\", \"2\", \"3\", \"4\", \"5\", \"6\"], \"x\": [0.542816162109375, -0.42094847559928894, -1.1518301963806152, 0.5481863021850586, 1.0467290878295898, 0.0829644501209259, -0.6479172706604004], \"y\": [-0.5402511627410381, -0.8743063425505997, 0.22233750985219153, 1.0738031222464908, -0.10337244742289797, -0.4374279603042317, 0.6592162529263127], \"z\": [0.8172290776263985, -0.030409374658744263, 0.11829015128901504, 0.4251475674838007, 0.07210572250010804, -0.7755325995510643, -0.6268332146901062], \"type\": \"scatter3d\"}, {\"marker\": {\"color\": \"red\"}, \"mode\": \"lines\", \"name\": \"Original\", \"x\": [0.542816162109375, -0.42094847559928894, null, 0.542816162109375, 1.0467290878295898, null, -0.42094847559928894, -1.1518301963806152, null, -0.42094847559928894, 0.0829644501209259, null, -1.1518301963806152, -0.6479172706604004, null, 0.5481863021850586, 1.0467290878295898, null, 0.5481863021850586, -0.6479172706604004, null, 1.0467290878295898, 0.0829644501209259, null, 0.0829644501209259, -0.6479172706604004, null], \"y\": [-0.5402511627410381, -0.8743063425505997, null, -0.5402511627410381, -0.10337244742289797, null, -0.8743063425505997, 0.22233750985219153, null, -0.8743063425505997, -0.4374279603042317, null, 0.22233750985219153, 0.6592162529263127, null, 1.0738031222464908, -0.10337244742289797, null, 1.0738031222464908, 0.6592162529263127, null, -0.10337244742289797, -0.4374279603042317, null, -0.4374279603042317, 0.6592162529263127, null], \"z\": [0.8172290776263985, -0.030409374658744263, null, 0.8172290776263985, 0.07210572250010804, null, -0.030409374658744263, 0.11829015128901504, null, -0.030409374658744263, -0.7755325995510643, null, 0.11829015128901504, -0.6268332146901062, null, 0.4251475674838007, 0.07210572250010804, null, 0.4251475674838007, -0.6268332146901062, null, 0.07210572250010804, -0.7755325995510643, null, -0.7755325995510643, -0.6268332146901062, null], \"type\": \"scatter3d\"}, {\"marker\": {\"color\": \"blue\"}, \"mode\": \"markers+text\", \"name\": \"Reconstructed\", \"text\": [\"0\", \"1\", \"2\", \"3\", \"4\", \"5\", \"6\"], \"x\": [0.542816162109375, -0.42094847559928894, -1.1518301963806152, 0.5481863021850586, 1.0467290878295898, 0.0829644501209259, -0.6479172706604004], \"y\": [-0.5213849705623135, -0.8979392933960004, 0.20998744414720355, 1.0486045420205667, -0.07839582658060842, -0.4365259598254153, 0.6756540916405965], \"z\": [0.8654791313138849, -0.09085035481425316, 0.08670501064883648, 0.3607025095075356, 0.13598312209171598, -0.773225744457215, -0.5847936450219439], \"type\": \"scatter3d\"}, {\"marker\": {\"color\": \"blue\"}, \"mode\": \"lines\", \"name\": \"Reconstructed\", \"x\": [0.542816162109375, -0.42094847559928894, null, 0.542816162109375, 1.0467290878295898, null, -0.42094847559928894, -1.1518301963806152, null, -0.42094847559928894, 0.0829644501209259, null, -1.1518301963806152, -0.6479172706604004, null, 0.5481863021850586, 1.0467290878295898, null, 0.5481863021850586, -0.6479172706604004, null, 1.0467290878295898, 0.0829644501209259, null, 0.0829644501209259, -0.6479172706604004, null], \"y\": [-0.5213849705623135, -0.8979392933960004, null, -0.5213849705623135, -0.07839582658060842, null, -0.8979392933960004, 0.20998744414720355, null, -0.8979392933960004, -0.4365259598254153, null, 0.20998744414720355, 0.6756540916405965, null, 1.0486045420205667, -0.07839582658060842, null, 1.0486045420205667, 0.6756540916405965, null, -0.07839582658060842, -0.4365259598254153, null, -0.4365259598254153, 0.6756540916405965, null], \"z\": [0.8654791313138849, -0.09085035481425316, null, 0.8654791313138849, 0.13598312209171598, null, -0.09085035481425316, 0.08670501064883648, null, -0.09085035481425316, -0.773225744457215, null, 0.08670501064883648, -0.5847936450219439, null, 0.3607025095075356, 0.13598312209171598, null, 0.3607025095075356, -0.5847936450219439, null, 0.13598312209171598, -0.773225744457215, null, -0.773225744457215, -0.5847936450219439, null], \"type\": \"scatter3d\"}], \"traces\": [0, 1, 2, 3]}, {\"data\": [{\"marker\": {\"color\": \"red\"}, \"mode\": \"markers+text\", \"name\": \"Original\", \"text\": [\"0\", \"1\", \"2\", \"3\", \"4\", \"5\", \"6\"], \"x\": [0.542816162109375, -0.42094847559928894, -1.1518301963806152, 0.5481863021850586, 1.0467290878295898, 0.0829644501209259, -0.6479172706604004], \"y\": [-0.6240566592006959, -0.8661209040136717, 0.2085044509398346, 1.022529396161634, -0.11045119043513833, -0.3525157802759907, 0.7221099484577153], \"z\": [0.7551741324147723, -0.12317016814912071, 0.14125304286113463, 0.5368772983364347, 0.06070941141967363, -0.8176347950514101, -0.5532116859750315], \"type\": \"scatter3d\"}, {\"marker\": {\"color\": \"red\"}, \"mode\": \"lines\", \"name\": \"Original\", \"x\": [0.542816162109375, -0.42094847559928894, null, 0.542816162109375, 1.0467290878295898, null, -0.42094847559928894, -1.1518301963806152, null, -0.42094847559928894, 0.0829644501209259, null, -1.1518301963806152, -0.6479172706604004, null, 0.5481863021850586, 1.0467290878295898, null, 0.5481863021850586, -0.6479172706604004, null, 1.0467290878295898, 0.0829644501209259, null, 0.0829644501209259, -0.6479172706604004, null], \"y\": [-0.6240566592006959, -0.8661209040136717, null, -0.6240566592006959, -0.11045119043513833, null, -0.8661209040136717, 0.2085044509398346, null, -0.8661209040136717, -0.3525157802759907, null, 0.2085044509398346, 0.7221099484577153, null, 1.022529396161634, -0.11045119043513833, null, 1.022529396161634, 0.7221099484577153, null, -0.11045119043513833, -0.3525157802759907, null, -0.3525157802759907, 0.7221099484577153, null], \"z\": [0.7551741324147723, -0.12317016814912071, null, 0.7551741324147723, 0.06070941141967363, null, -0.12317016814912071, 0.14125304286113463, null, -0.12317016814912071, -0.8176347950514101, null, 0.14125304286113463, -0.5532116859750315, null, 0.5368772983364347, 0.06070941141967363, null, 0.5368772983364347, -0.5532116859750315, null, 0.06070941141967363, -0.8176347950514101, null, -0.8176347950514101, -0.5532116859750315, null], \"type\": \"scatter3d\"}, {\"marker\": {\"color\": \"blue\"}, \"mode\": \"markers+text\", \"name\": \"Reconstructed\", \"text\": [\"0\", \"1\", \"2\", \"3\", \"4\", \"5\", \"6\"], \"x\": [0.542816162109375, -0.42094847559928894, -1.1518301963806152, 0.5481863021850586, 1.0467290878295898, 0.0829644501209259, -0.6479172706604004], \"y\": [-0.6104260141590531, -0.8831954870142369, 0.19958164551779015, 1.0043236607721544, -0.09240581859667762, -0.35186409347890596, 0.7339861311364249], \"z\": [0.8051561932358172, -0.18578076679804403, 0.10853410682131642, 0.4701188895634961, 0.12687978486955778, -0.8152451319776047, -0.5096630436946686], \"type\": \"scatter3d\"}, {\"marker\": {\"color\": \"blue\"}, \"mode\": \"lines\", \"name\": \"Reconstructed\", \"x\": [0.542816162109375, -0.42094847559928894, null, 0.542816162109375, 1.0467290878295898, null, -0.42094847559928894, -1.1518301963806152, null, -0.42094847559928894, 0.0829644501209259, null, -1.1518301963806152, -0.6479172706604004, null, 0.5481863021850586, 1.0467290878295898, null, 0.5481863021850586, -0.6479172706604004, null, 1.0467290878295898, 0.0829644501209259, null, 0.0829644501209259, -0.6479172706604004, null], \"y\": [-0.6104260141590531, -0.8831954870142369, null, -0.6104260141590531, -0.09240581859667762, null, -0.8831954870142369, 0.19958164551779015, null, -0.8831954870142369, -0.35186409347890596, null, 0.19958164551779015, 0.7339861311364249, null, 1.0043236607721544, -0.09240581859667762, null, 1.0043236607721544, 0.7339861311364249, null, -0.09240581859667762, -0.35186409347890596, null, -0.35186409347890596, 0.7339861311364249, null], \"z\": [0.8051561932358172, -0.18578076679804403, null, 0.8051561932358172, 0.12687978486955778, null, -0.18578076679804403, 0.10853410682131642, null, -0.18578076679804403, -0.8152451319776047, null, 0.10853410682131642, -0.5096630436946686, null, 0.4701188895634961, 0.12687978486955778, null, 0.4701188895634961, -0.5096630436946686, null, 0.12687978486955778, -0.8152451319776047, null, -0.8152451319776047, -0.5096630436946686, null], \"type\": \"scatter3d\"}], \"traces\": [0, 1, 2, 3]}, {\"data\": [{\"marker\": {\"color\": \"red\"}, \"mode\": \"markers+text\", \"name\": \"Original\", \"text\": [\"0\", \"1\", \"2\", \"3\", \"4\", \"5\", \"6\"], \"x\": [0.542816162109375, -0.42094847559928894, -1.1518301963806152, 0.5481863021850586, 1.0467290878295898, 0.0829644501209259, -0.6479172706604004], \"y\": [-0.7007913443512208, -0.8481219695499155, 0.19230895328417807, 0.9596700034362504, -0.11627847732569216, -0.26360945559906424, 0.7768218497325966], \"z\": [0.6845627625306143, -0.21453539441806527, 0.16261548101578535, 0.6425239948736328, 0.048625238449604404, -0.8504728616135361, -0.47332204780568615], \"type\": \"scatter3d\"}, {\"marker\": {\"color\": \"red\"}, \"mode\": \"lines\", \"name\": \"Original\", \"x\": [0.542816162109375, -0.42094847559928894, null, 0.542816162109375, 1.0467290878295898, null, -0.42094847559928894, -1.1518301963806152, null, -0.42094847559928894, 0.0829644501209259, null, -1.1518301963806152, -0.6479172706604004, null, 0.5481863021850586, 1.0467290878295898, null, 0.5481863021850586, -0.6479172706604004, null, 1.0467290878295898, 0.0829644501209259, null, 0.0829644501209259, -0.6479172706604004, null], \"y\": [-0.7007913443512208, -0.8481219695499155, null, -0.7007913443512208, -0.11627847732569216, null, -0.8481219695499155, 0.19230895328417807, null, -0.8481219695499155, -0.26360945559906424, null, 0.19230895328417807, 0.7768218497325966, null, 0.9596700034362504, -0.11627847732569216, null, 0.9596700034362504, 0.7768218497325966, null, -0.11627847732569216, -0.26360945559906424, null, -0.26360945559906424, 0.7768218497325966, null], \"z\": [0.6845627625306143, -0.21453539441806527, null, 0.6845627625306143, 0.048625238449604404, null, -0.21453539441806527, 0.16261548101578535, null, -0.21453539441806527, -0.8504728616135361, null, 0.16261548101578535, -0.47332204780568615, null, 0.6425239948736328, 0.048625238449604404, null, 0.6425239948736328, -0.47332204780568615, null, 0.048625238449604404, -0.8504728616135361, null, -0.8504728616135361, -0.47332204780568615, null], \"type\": \"scatter3d\"}, {\"marker\": {\"color\": \"blue\"}, \"mode\": \"markers+text\", \"name\": \"Reconstructed\", \"text\": [\"0\", \"1\", \"2\", \"3\", \"4\", \"5\", \"6\"], \"x\": [0.542816162109375, -0.42094847559928894, -1.1518301963806152, 0.5481863021850586, 1.0467290878295898, 0.0829644501209259, -0.6479172706604004], \"y\": [-0.6925506871015111, -0.8584447228575915, 0.1869145070958811, 0.9486633911398209, -0.10536881576455477, -0.26321546635552295, 0.7840018144805003], \"z\": [0.7357105137642971, -0.27860620845978484, 0.12913346819548216, 0.5742086347507249, 0.11633884898623793, -0.8480274663972619, -0.4287577564313139], \"type\": \"scatter3d\"}, {\"marker\": {\"color\": \"blue\"}, \"mode\": \"lines\", \"name\": \"Reconstructed\", \"x\": [0.542816162109375, -0.42094847559928894, null, 0.542816162109375, 1.0467290878295898, null, -0.42094847559928894, -1.1518301963806152, null, -0.42094847559928894, 0.0829644501209259, null, -1.1518301963806152, -0.6479172706604004, null, 0.5481863021850586, 1.0467290878295898, null, 0.5481863021850586, -0.6479172706604004, null, 1.0467290878295898, 0.0829644501209259, null, 0.0829644501209259, -0.6479172706604004, null], \"y\": [-0.6925506871015111, -0.8584447228575915, null, -0.6925506871015111, -0.10536881576455477, null, -0.8584447228575915, 0.1869145070958811, null, -0.8584447228575915, -0.26321546635552295, null, 0.1869145070958811, 0.7840018144805003, null, 0.9486633911398209, -0.10536881576455477, null, 0.9486633911398209, 0.7840018144805003, null, -0.10536881576455477, -0.26321546635552295, null, -0.26321546635552295, 0.7840018144805003, null], \"z\": [0.7357105137642971, -0.27860620845978484, null, 0.7357105137642971, 0.11633884898623793, null, -0.27860620845978484, 0.12913346819548216, null, -0.27860620845978484, -0.8480274663972619, null, 0.12913346819548216, -0.4287577564313139, null, 0.5742086347507249, 0.11633884898623793, null, 0.5742086347507249, -0.4287577564313139, null, 0.11633884898623793, -0.8480274663972619, null, -0.8480274663972619, -0.4287577564313139, null], \"type\": \"scatter3d\"}], \"traces\": [0, 1, 2, 3]}, {\"data\": [{\"marker\": {\"color\": \"red\"}, \"mode\": \"markers+text\", \"name\": \"Original\", \"text\": [\"0\", \"1\", \"2\", \"3\", \"4\", \"5\", \"6\"], \"x\": [0.542816162109375, -0.42094847559928894, -1.1518301963806152, 0.5481863021850586, 1.0467290878295898, 0.0829644501209259, -0.6479172706604004], \"y\": [-0.7695857835482333, -0.8205134742788146, 0.173934518345053, 0.8859371661072573, -0.12078828260562383, -0.17171633045720638, 0.8227320490477458], \"z\": [0.6061950230095836, -0.3034698489442591, 0.18213542079267792, 0.740890637809351, 0.03599012209824171, -0.873674730821868, -0.38806948170480837], \"type\": \"scatter3d\"}, {\"marker\": {\"color\": \"red\"}, \"mode\": \"lines\", \"name\": \"Original\", \"x\": [0.542816162109375, -0.42094847559928894, null, 0.542816162109375, 1.0467290878295898, null, -0.42094847559928894, -1.1518301963806152, null, -0.42094847559928894, 0.0829644501209259, null, -1.1518301963806152, -0.6479172706604004, null, 0.5481863021850586, 1.0467290878295898, null, 0.5481863021850586, -0.6479172706604004, null, 1.0467290878295898, 0.0829644501209259, null, 0.0829644501209259, -0.6479172706604004, null], \"y\": [-0.7695857835482333, -0.8205134742788146, null, -0.7695857835482333, -0.12078828260562383, null, -0.8205134742788146, 0.173934518345053, null, -0.8205134742788146, -0.17171633045720638, null, 0.173934518345053, 0.8227320490477458, null, 0.8859371661072573, -0.12078828260562383, null, 0.8859371661072573, 0.8227320490477458, null, -0.12078828260562383, -0.17171633045720638, null, -0.17171633045720638, 0.8227320490477458, null], \"z\": [0.6061950230095836, -0.3034698489442591, null, 0.6061950230095836, 0.03599012209824171, null, -0.3034698489442591, 0.18213542079267792, null, -0.3034698489442591, -0.873674730821868, null, 0.18213542079267792, -0.38806948170480837, null, 0.740890637809351, 0.03599012209824171, null, 0.740890637809351, -0.38806948170480837, null, 0.03599012209824171, -0.873674730821868, null, -0.873674730821868, -0.38806948170480837, null], \"type\": \"scatter3d\"}, {\"marker\": {\"color\": \"blue\"}, \"mode\": \"markers+text\", \"name\": \"Reconstructed\", \"text\": [\"0\", \"1\", \"2\", \"3\", \"4\", \"5\", \"6\"], \"x\": [0.542816162109375, -0.42094847559928894, -1.1518301963806152, 0.5481863021850586, 1.0467290878295898, 0.0829644501209259, -0.6479172706604004], \"y\": [-0.7668284840298955, -0.8239674369738628, 0.17212955262132815, 0.8822543862192156, -0.11713794214657701, -0.17158450282276802, 0.8251344439952817], \"z\": [0.6579289401968222, -0.36827493045428394, 0.14826969577587723, 0.6717923666640991, 0.10447974745725862, -0.8712013107680555, -0.34299447246468573], \"type\": \"scatter3d\"}, {\"marker\": {\"color\": \"blue\"}, \"mode\": \"lines\", \"name\": \"Reconstructed\", \"x\": [0.542816162109375, -0.42094847559928894, null, 0.542816162109375, 1.0467290878295898, null, -0.42094847559928894, -1.1518301963806152, null, -0.42094847559928894, 0.0829644501209259, null, -1.1518301963806152, -0.6479172706604004, null, 0.5481863021850586, 1.0467290878295898, null, 0.5481863021850586, -0.6479172706604004, null, 1.0467290878295898, 0.0829644501209259, null, 0.0829644501209259, -0.6479172706604004, null], \"y\": [-0.7668284840298955, -0.8239674369738628, null, -0.7668284840298955, -0.11713794214657701, null, -0.8239674369738628, 0.17212955262132815, null, -0.8239674369738628, -0.17158450282276802, null, 0.17212955262132815, 0.8251344439952817, null, 0.8822543862192156, -0.11713794214657701, null, 0.8822543862192156, 0.8251344439952817, null, -0.11713794214657701, -0.17158450282276802, null, -0.17158450282276802, 0.8251344439952817, null], \"z\": [0.6579289401968222, -0.36827493045428394, null, 0.6579289401968222, 0.10447974745725862, null, -0.36827493045428394, 0.14826969577587723, null, -0.36827493045428394, -0.8712013107680555, null, 0.14826969577587723, -0.34299447246468573, null, 0.6717923666640991, 0.10447974745725862, null, 0.6717923666640991, -0.34299447246468573, null, 0.10447974745725862, -0.8712013107680555, null, -0.8712013107680555, -0.34299447246468573, null], \"type\": \"scatter3d\"}], \"traces\": [0, 1, 2, 3]}, {\"data\": [{\"marker\": {\"color\": \"red\"}, \"mode\": \"markers+text\", \"name\": \"Original\", \"text\": [\"0\", \"1\", \"2\", \"3\", \"4\", \"5\", \"6\"], \"x\": [0.542816162109375, -0.42094847559928894, -1.1518301963806152, 0.5481863021850586, 1.0467290878295898, 0.0829644501209259, -0.6479172706604004], \"y\": [-0.8296605083067679, -0.7836082334835859, 0.15358933581237136, 0.8021663066837391, -0.12392950837908492, -0.07787759067690418, 0.8593203655001376], \"z\": [0.5209588516546132, -0.3889658688215154, 0.19959169347436795, 0.8308626937738114, 0.022947223282582828, -0.8869775162272787, -0.29841993331151806], \"type\": \"scatter3d\"}, {\"marker\": {\"color\": \"red\"}, \"mode\": \"lines\", \"name\": \"Original\", \"x\": [0.542816162109375, -0.42094847559928894, null, 0.542816162109375, 1.0467290878295898, null, -0.42094847559928894, -1.1518301963806152, null, -0.42094847559928894, 0.0829644501209259, null, -1.1518301963806152, -0.6479172706604004, null, 0.5481863021850586, 1.0467290878295898, null, 0.5481863021850586, -0.6479172706604004, null, 1.0467290878295898, 0.0829644501209259, null, 0.0829644501209259, -0.6479172706604004, null], \"y\": [-0.8296605083067679, -0.7836082334835859, null, -0.8296605083067679, -0.12392950837908492, null, -0.7836082334835859, 0.15358933581237136, null, -0.7836082334835859, -0.07787759067690418, null, 0.15358933581237136, 0.8593203655001376, null, 0.8021663066837391, -0.12392950837908492, null, 0.8021663066837391, 0.8593203655001376, null, -0.12392950837908492, -0.07787759067690418, null, -0.07787759067690418, 0.8593203655001376, null], \"z\": [0.5209588516546132, -0.3889658688215154, null, 0.5209588516546132, 0.022947223282582828, null, -0.3889658688215154, 0.19959169347436795, null, -0.3889658688215154, -0.8869775162272787, null, 0.19959169347436795, -0.29841993331151806, null, 0.8308626937738114, 0.022947223282582828, null, 0.8308626937738114, -0.29841993331151806, null, 0.022947223282582828, -0.8869775162272787, null, -0.8869775162272787, -0.29841993331151806, null], \"type\": \"scatter3d\"}, {\"marker\": {\"color\": \"blue\"}, \"mode\": \"markers+text\", \"name\": \"Reconstructed\", \"text\": [\"0\", \"1\", \"2\", \"3\", \"4\", \"5\", \"6\"], \"x\": [0.542816162109375, -0.42094847559928894, -1.1518301963806152, 0.5481863021850586, 1.0467290878295898, 0.0829644501209259, -0.6479172706604004], \"y\": [-0.8324178078251057, -0.7801542707885377, 0.15539430153609618, 0.8058490865717809, -0.12757984883813173, -0.07800941831134256, 0.8569179705526017], \"z\": [0.5726927688418518, -0.45377095033154025, 0.16572596845756726, 0.7617644226285596, 0.09143684864159973, -0.8845040961734663, -0.25334492407139536], \"type\": \"scatter3d\"}, {\"marker\": {\"color\": \"blue\"}, \"mode\": \"lines\", \"name\": \"Reconstructed\", \"x\": [0.542816162109375, -0.42094847559928894, null, 0.542816162109375, 1.0467290878295898, null, -0.42094847559928894, -1.1518301963806152, null, -0.42094847559928894, 0.0829644501209259, null, -1.1518301963806152, -0.6479172706604004, null, 0.5481863021850586, 1.0467290878295898, null, 0.5481863021850586, -0.6479172706604004, null, 1.0467290878295898, 0.0829644501209259, null, 0.0829644501209259, -0.6479172706604004, null], \"y\": [-0.8324178078251057, -0.7801542707885377, null, -0.8324178078251057, -0.12757984883813173, null, -0.7801542707885377, 0.15539430153609618, null, -0.7801542707885377, -0.07800941831134256, null, 0.15539430153609618, 0.8569179705526017, null, 0.8058490865717809, -0.12757984883813173, null, 0.8058490865717809, 0.8569179705526017, null, -0.12757984883813173, -0.07800941831134256, null, -0.07800941831134256, 0.8569179705526017, null], \"z\": [0.5726927688418518, -0.45377095033154025, null, 0.5726927688418518, 0.09143684864159973, null, -0.45377095033154025, 0.16572596845756726, null, -0.45377095033154025, -0.8845040961734663, null, 0.16572596845756726, -0.25334492407139536, null, 0.7617644226285596, 0.09143684864159973, null, 0.7617644226285596, -0.25334492407139536, null, 0.09143684864159973, -0.8845040961734663, null, -0.8845040961734663, -0.25334492407139536, null], \"type\": \"scatter3d\"}], \"traces\": [0, 1, 2, 3]}, {\"data\": [{\"marker\": {\"color\": \"red\"}, \"mode\": \"markers+text\", \"name\": \"Original\", \"text\": [\"0\", \"1\", \"2\", \"3\", \"4\", \"5\", \"6\"], \"x\": [0.542816162109375, -0.42094847559928894, -1.1518301963806152, 0.5481863021850586, 1.0467290878295898, 0.0829644501209259, -0.6479172706604004], \"y\": [-0.8803348479906683, -0.7378243982890251, 0.13150392473375086, 0.7093065824761013, -0.12566656330289203, 0.016843533324073668, 0.886172238844417], \"z\": [0.42982000834580103, -0.47005474998214875, 0.21478651251619924, 0.9114207434219271, 0.009644323257887097, -0.8902304919556018, -0.20538916783125308], \"type\": \"scatter3d\"}, {\"marker\": {\"color\": \"red\"}, \"mode\": \"lines\", \"name\": \"Original\", \"x\": [0.542816162109375, -0.42094847559928894, null, 0.542816162109375, 1.0467290878295898, null, -0.42094847559928894, -1.1518301963806152, null, -0.42094847559928894, 0.0829644501209259, null, -1.1518301963806152, -0.6479172706604004, null, 0.5481863021850586, 1.0467290878295898, null, 0.5481863021850586, -0.6479172706604004, null, 1.0467290878295898, 0.0829644501209259, null, 0.0829644501209259, -0.6479172706604004, null], \"y\": [-0.8803348479906683, -0.7378243982890251, null, -0.8803348479906683, -0.12566656330289203, null, -0.7378243982890251, 0.13150392473375086, null, -0.7378243982890251, 0.016843533324073668, null, 0.13150392473375086, 0.886172238844417, null, 0.7093065824761013, -0.12566656330289203, null, 0.7093065824761013, 0.886172238844417, null, -0.12566656330289203, 0.016843533324073668, null, 0.016843533324073668, 0.886172238844417, null], \"z\": [0.42982000834580103, -0.47005474998214875, null, 0.42982000834580103, 0.009644323257887097, null, -0.47005474998214875, 0.21478651251619924, null, -0.47005474998214875, -0.8902304919556018, null, 0.21478651251619924, -0.20538916783125308, null, 0.9114207434219271, 0.009644323257887097, null, 0.9114207434219271, -0.20538916783125308, null, 0.009644323257887097, -0.8902304919556018, null, -0.8902304919556018, -0.20538916783125308, null], \"type\": \"scatter3d\"}, {\"marker\": {\"color\": \"blue\"}, \"mode\": \"markers+text\", \"name\": \"Reconstructed\", \"text\": [\"0\", \"1\", \"2\", \"3\", \"4\", \"5\", \"6\"], \"x\": [0.542816162109375, -0.42094847559928894, -1.1518301963806152, 0.5481863021850586, 1.0467290878295898, 0.0829644501209259, -0.6479172706604004], \"y\": [-0.888575505240378, -0.727501644981349, 0.13689837092204787, 0.7203131947725309, -0.1365762248640294, 0.016449544080532393, 0.8789922740965131], \"z\": [0.4809677595794838, -0.5341255640238683, 0.18130449969589604, 0.8431053832990193, 0.07735793379452062, -0.8877850967393275, -0.16082487645688084], \"type\": \"scatter3d\"}, {\"marker\": {\"color\": \"blue\"}, \"mode\": \"lines\", \"name\": \"Reconstructed\", \"x\": [0.542816162109375, -0.42094847559928894, null, 0.542816162109375, 1.0467290878295898, null, -0.42094847559928894, -1.1518301963806152, null, -0.42094847559928894, 0.0829644501209259, null, -1.1518301963806152, -0.6479172706604004, null, 0.5481863021850586, 1.0467290878295898, null, 0.5481863021850586, -0.6479172706604004, null, 1.0467290878295898, 0.0829644501209259, null, 0.0829644501209259, -0.6479172706604004, null], \"y\": [-0.888575505240378, -0.727501644981349, null, -0.888575505240378, -0.1365762248640294, null, -0.727501644981349, 0.13689837092204787, null, -0.727501644981349, 0.016449544080532393, null, 0.13689837092204787, 0.8789922740965131, null, 0.7203131947725309, -0.1365762248640294, null, 0.7203131947725309, 0.8789922740965131, null, -0.1365762248640294, 0.016449544080532393, null, 0.016449544080532393, 0.8789922740965131, null], \"z\": [0.4809677595794838, -0.5341255640238683, null, 0.4809677595794838, 0.07735793379452062, null, -0.5341255640238683, 0.18130449969589604, null, -0.5341255640238683, -0.8877850967393275, null, 0.18130449969589604, -0.16082487645688084, null, 0.8431053832990193, 0.07735793379452062, null, 0.8431053832990193, -0.16082487645688084, null, 0.07735793379452062, -0.8877850967393275, null, -0.8877850967393275, -0.16082487645688084, null], \"type\": \"scatter3d\"}], \"traces\": [0, 1, 2, 3]}, {\"data\": [{\"marker\": {\"color\": \"red\"}, \"mode\": \"markers+text\", \"name\": \"Original\", \"text\": [\"0\", \"1\", \"2\", \"3\", \"4\", \"5\", \"6\"], \"x\": [0.542816162109375, -0.42094847559928894, -1.1518301963806152, 0.5481863021850586, 1.0467290878295898, 0.0829644501209259, -0.6479172706604004], \"y\": [-0.9210346420828776, -0.683680717842179, 0.1079285216415948, 0.6084101312644797, -0.12597976585066648, 0.11137381336215535, 0.902983426626129], \"z\": [0.3338111325950699, -0.5458177230011364, 0.22754771454688627, 0.9816520318618219, -0.0037678508029965452, -0.8833968004920121, -0.1100312610101127], \"type\": \"scatter3d\"}, {\"marker\": {\"color\": \"red\"}, \"mode\": \"lines\", \"name\": \"Original\", \"x\": [0.542816162109375, -0.42094847559928894, null, 0.542816162109375, 1.0467290878295898, null, -0.42094847559928894, -1.1518301963806152, null, -0.42094847559928894, 0.0829644501209259, null, -1.1518301963806152, -0.6479172706604004, null, 0.5481863021850586, 1.0467290878295898, null, 0.5481863021850586, -0.6479172706604004, null, 1.0467290878295898, 0.0829644501209259, null, 0.0829644501209259, -0.6479172706604004, null], \"y\": [-0.9210346420828776, -0.683680717842179, null, -0.9210346420828776, -0.12597976585066648, null, -0.683680717842179, 0.1079285216415948, null, -0.683680717842179, 0.11137381336215535, null, 0.1079285216415948, 0.902983426626129, null, 0.6084101312644797, -0.12597976585066648, null, 0.6084101312644797, 0.902983426626129, null, -0.12597976585066648, 0.11137381336215535, null, 0.11137381336215535, 0.902983426626129, null], \"z\": [0.3338111325950699, -0.5458177230011364, null, 0.3338111325950699, -0.0037678508029965452, null, -0.5458177230011364, 0.22754771454688627, null, -0.5458177230011364, -0.8833968004920121, null, 0.22754771454688627, -0.1100312610101127, null, 0.9816520318618219, -0.0037678508029965452, null, 0.9816520318618219, -0.1100312610101127, null, -0.0037678508029965452, -0.8833968004920121, null, -0.8833968004920121, -0.1100312610101127, null], \"type\": \"scatter3d\"}, {\"marker\": {\"color\": \"blue\"}, \"mode\": \"markers+text\", \"name\": \"Reconstructed\", \"text\": [\"0\", \"1\", \"2\", \"3\", \"4\", \"5\", \"6\"], \"x\": [0.542816162109375, -0.42094847559928894, -1.1518301963806152, 0.5481863021850586, 1.0467290878295898, 0.0829644501209259, -0.6479172706604004], \"y\": [-0.9346652871245202, -0.6666061348416138, 0.11685132706363924, 0.6266158666539593, -0.14402513768912717, 0.11072212656507062, 0.8911072439474194], \"z\": [0.3837931934161148, -0.6084283216500597, 0.1948287785070681, 0.9148936230888833, 0.06240252264688763, -0.8810071374182068, -0.06648261872974982], \"type\": \"scatter3d\"}, {\"marker\": {\"color\": \"blue\"}, \"mode\": \"lines\", \"name\": \"Reconstructed\", \"x\": [0.542816162109375, -0.42094847559928894, null, 0.542816162109375, 1.0467290878295898, null, -0.42094847559928894, -1.1518301963806152, null, -0.42094847559928894, 0.0829644501209259, null, -1.1518301963806152, -0.6479172706604004, null, 0.5481863021850586, 1.0467290878295898, null, 0.5481863021850586, -0.6479172706604004, null, 1.0467290878295898, 0.0829644501209259, null, 0.0829644501209259, -0.6479172706604004, null], \"y\": [-0.9346652871245202, -0.6666061348416138, null, -0.9346652871245202, -0.14402513768912717, null, -0.6666061348416138, 0.11685132706363924, null, -0.6666061348416138, 0.11072212656507062, null, 0.11685132706363924, 0.8911072439474194, null, 0.6266158666539593, -0.14402513768912717, null, 0.6266158666539593, 0.8911072439474194, null, -0.14402513768912717, 0.11072212656507062, null, 0.11072212656507062, 0.8911072439474194, null], \"z\": [0.3837931934161148, -0.6084283216500597, null, 0.3837931934161148, 0.06240252264688763, null, -0.6084283216500597, 0.1948287785070681, null, -0.6084283216500597, -0.8810071374182068, null, 0.1948287785070681, -0.06648261872974982, null, 0.9148936230888833, 0.06240252264688763, null, 0.9148936230888833, -0.06648261872974982, null, 0.06240252264688763, -0.8810071374182068, null, -0.8810071374182068, -0.06648261872974982, null], \"type\": \"scatter3d\"}], \"traces\": [0, 1, 2, 3]}, {\"data\": [{\"marker\": {\"color\": \"red\"}, \"mode\": \"markers+text\", \"name\": \"Original\", \"text\": [\"0\", \"1\", \"2\", \"3\", \"4\", \"5\", \"6\"], \"x\": [0.542816162109375, -0.42094847559928894, -1.1518301963806152, 0.5481863021850586, 1.0467290878295898, 0.0829644501209259, -0.6479172706604004], \"y\": [-0.951298745653518, -0.6217906616772273, 0.08313024527319038, 0.5006201501572782, -0.12486556731239258, 0.20464218359212602, 0.9095634513702968], \"z\": [0.23402004332787577, -0.615396363120825, 0.23773071004830368, 1.0407608105324726, -0.017137333608725436, -0.8665538702913966, -0.01342665603546667], \"type\": \"scatter3d\"}, {\"marker\": {\"color\": \"red\"}, \"mode\": \"lines\", \"name\": \"Original\", \"x\": [0.542816162109375, -0.42094847559928894, null, 0.542816162109375, 1.0467290878295898, null, -0.42094847559928894, -1.1518301963806152, null, -0.42094847559928894, 0.0829644501209259, null, -1.1518301963806152, -0.6479172706604004, null, 0.5481863021850586, 1.0467290878295898, null, 0.5481863021850586, -0.6479172706604004, null, 1.0467290878295898, 0.0829644501209259, null, 0.0829644501209259, -0.6479172706604004, null], \"y\": [-0.951298745653518, -0.6217906616772273, null, -0.951298745653518, -0.12486556731239258, null, -0.6217906616772273, 0.08313024527319038, null, -0.6217906616772273, 0.20464218359212602, null, 0.08313024527319038, 0.9095634513702968, null, 0.5006201501572782, -0.12486556731239258, null, 0.5006201501572782, 0.9095634513702968, null, -0.12486556731239258, 0.20464218359212602, null, 0.20464218359212602, 0.9095634513702968, null], \"z\": [0.23402004332787577, -0.615396363120825, null, 0.23402004332787577, -0.017137333608725436, null, -0.615396363120825, 0.23773071004830368, null, -0.615396363120825, -0.8665538702913966, null, 0.23773071004830368, -0.01342665603546667, null, 1.0407608105324726, -0.017137333608725436, null, 1.0407608105324726, -0.01342665603546667, null, -0.017137333608725436, -0.8665538702913966, null, -0.8665538702913966, -0.01342665603546667, null], \"type\": \"scatter3d\"}, {\"marker\": {\"color\": \"blue\"}, \"mode\": \"markers+text\", \"name\": \"Reconstructed\", \"text\": [\"0\", \"1\", \"2\", \"3\", \"4\", \"5\", \"6\"], \"x\": [0.542816162109375, -0.42094847559928894, -1.1518301963806152, 0.5481863021850586, 1.0467290878295898, 0.0829644501209259, -0.6479172706604004], \"y\": [-0.9701649378322427, -0.5981577108318266, 0.09548031097817834, 0.5258187303832023, -0.1498421881546821, 0.2037401831133096, 0.893125612656013], \"z\": [0.28227009701536215, -0.6758373432763339, 0.20614556940812512, 0.9763157525562074, 0.04674006598288251, -0.8642470151975473, 0.02861291363269576], \"type\": \"scatter3d\"}, {\"marker\": {\"color\": \"blue\"}, \"mode\": \"lines\", \"name\": \"Reconstructed\", \"x\": [0.542816162109375, -0.42094847559928894, null, 0.542816162109375, 1.0467290878295898, null, -0.42094847559928894, -1.1518301963806152, null, -0.42094847559928894, 0.0829644501209259, null, -1.1518301963806152, -0.6479172706604004, null, 0.5481863021850586, 1.0467290878295898, null, 0.5481863021850586, -0.6479172706604004, null, 1.0467290878295898, 0.0829644501209259, null, 0.0829644501209259, -0.6479172706604004, null], \"y\": [-0.9701649378322427, -0.5981577108318266, null, -0.9701649378322427, -0.1498421881546821, null, -0.5981577108318266, 0.09548031097817834, null, -0.5981577108318266, 0.2037401831133096, null, 0.09548031097817834, 0.893125612656013, null, 0.5258187303832023, -0.1498421881546821, null, 0.5258187303832023, 0.893125612656013, null, -0.1498421881546821, 0.2037401831133096, null, 0.2037401831133096, 0.893125612656013, null], \"z\": [0.28227009701536215, -0.6758373432763339, null, 0.28227009701536215, 0.04674006598288251, null, -0.6758373432763339, 0.20614556940812512, null, -0.6758373432763339, -0.8642470151975473, null, 0.20614556940812512, 0.02861291363269576, null, 0.9763157525562074, 0.04674006598288251, null, 0.9763157525562074, 0.02861291363269576, null, 0.04674006598288251, -0.8642470151975473, null, -0.8642470151975473, 0.02861291363269576, null], \"type\": \"scatter3d\"}], \"traces\": [0, 1, 2, 3]}, {\"data\": [{\"marker\": {\"color\": \"red\"}, \"mode\": \"markers+text\", \"name\": \"Original\", \"text\": [\"0\", \"1\", \"2\", \"3\", \"4\", \"5\", \"6\"], \"x\": [0.542816162109375, -0.42094847559928894, -1.1518301963806152, 0.5481863021850586, 1.0467290878295898, 0.0829644501209259, -0.6479172706604004], \"y\": [-0.9707842543162123, -0.5528554688605305, 0.05739007000868009, 0.3871579427111324, -0.12233659200272014, 0.2955918761111303, 0.9058377587673249], \"z\": [0.1315774134601121, -0.6780023165464447, 0.24522012161250192, 1.088077353352871, -0.030312643576936405, -0.8398925384830218, 0.08333007831708078], \"type\": \"scatter3d\"}, {\"marker\": {\"color\": \"red\"}, \"mode\": \"lines\", \"name\": \"Original\", \"x\": [0.542816162109375, -0.42094847559928894, null, 0.542816162109375, 1.0467290878295898, null, -0.42094847559928894, -1.1518301963806152, null, -0.42094847559928894, 0.0829644501209259, null, -1.1518301963806152, -0.6479172706604004, null, 0.5481863021850586, 1.0467290878295898, null, 0.5481863021850586, -0.6479172706604004, null, 1.0467290878295898, 0.0829644501209259, null, 0.0829644501209259, -0.6479172706604004, null], \"y\": [-0.9707842543162123, -0.5528554688605305, null, -0.9707842543162123, -0.12233659200272014, null, -0.5528554688605305, 0.05739007000868009, null, -0.5528554688605305, 0.2955918761111303, null, 0.05739007000868009, 0.9058377587673249, null, 0.3871579427111324, -0.12233659200272014, null, 0.3871579427111324, 0.9058377587673249, null, -0.12233659200272014, 0.2955918761111303, null, 0.2955918761111303, 0.9058377587673249, null], \"z\": [0.1315774134601121, -0.6780023165464447, null, 0.1315774134601121, -0.030312643576936405, null, -0.6780023165464447, 0.24522012161250192, null, -0.6780023165464447, -0.8398925384830218, null, 0.24522012161250192, 0.08333007831708078, null, 1.088077353352871, -0.030312643576936405, null, 1.088077353352871, 0.08333007831708078, null, -0.030312643576936405, -0.8398925384830218, null, -0.8398925384830218, 0.08333007831708078, null], \"type\": \"scatter3d\"}, {\"marker\": {\"color\": \"blue\"}, \"mode\": \"markers+text\", \"name\": \"Reconstructed\", \"text\": [\"0\", \"1\", \"2\", \"3\", \"4\", \"5\", \"6\"], \"x\": [0.542816162109375, -0.42094847559928894, -1.1518301963806152, 0.5481863021850586, 1.0467290878295898, 0.0829644501209259, -0.6479172706604004], \"y\": [-0.994672232136086, -0.5229319209466208, 0.0730274648173382, 0.4190638577906995, -0.15396146675454403, 0.2944497819764283, 0.8850245112983268], \"z\": [0.1775487676260176, -0.735588857752387, 0.21512664863619804, 1.026675834431089, 0.030548025694908595, -0.8376946289591144, 0.12338425025054278], \"type\": \"scatter3d\"}, {\"marker\": {\"color\": \"blue\"}, \"mode\": \"lines\", \"name\": \"Reconstructed\", \"x\": [0.542816162109375, -0.42094847559928894, null, 0.542816162109375, 1.0467290878295898, null, -0.42094847559928894, -1.1518301963806152, null, -0.42094847559928894, 0.0829644501209259, null, -1.1518301963806152, -0.6479172706604004, null, 0.5481863021850586, 1.0467290878295898, null, 0.5481863021850586, -0.6479172706604004, null, 1.0467290878295898, 0.0829644501209259, null, 0.0829644501209259, -0.6479172706604004, null], \"y\": [-0.994672232136086, -0.5229319209466208, null, -0.994672232136086, -0.15396146675454403, null, -0.5229319209466208, 0.0730274648173382, null, -0.5229319209466208, 0.2944497819764283, null, 0.0730274648173382, 0.8850245112983268, null, 0.4190638577906995, -0.15396146675454403, null, 0.4190638577906995, 0.8850245112983268, null, -0.15396146675454403, 0.2944497819764283, null, 0.2944497819764283, 0.8850245112983268, null], \"z\": [0.1775487676260176, -0.735588857752387, null, 0.1775487676260176, 0.030548025694908595, null, -0.735588857752387, 0.21512664863619804, null, -0.735588857752387, -0.8376946289591144, null, 0.21512664863619804, 0.12338425025054278, null, 1.026675834431089, 0.030548025694908595, null, 1.026675834431089, 0.12338425025054278, null, 0.030548025694908595, -0.8376946289591144, null, -0.8376946289591144, 0.12338425025054278, null], \"type\": \"scatter3d\"}], \"traces\": [0, 1, 2, 3]}, {\"data\": [{\"marker\": {\"color\": \"red\"}, \"mode\": \"markers+text\", \"name\": \"Original\", \"text\": [\"0\", \"1\", \"2\", \"3\", \"4\", \"5\", \"6\"], \"x\": [0.542816162109375, -0.42094847559928894, -1.1518301963806152, 0.5481863021850586, 1.0467290878295898, 0.0829644501209259, -0.6479172706604004], \"y\": [-0.9792703894717978, -0.47765620267180725, 0.030999642319063044, 0.2693090810736048, -0.118421494222435, 0.3831923945612747, 0.8918485624031159], \"z\": [0.02764395892217854, -0.7329262328096136, 0.24993109121384155, 1.123065544986131, -0.04314449918110289, -0.8037148886096042, 0.17914264958528586], \"type\": \"scatter3d\"}, {\"marker\": {\"color\": \"red\"}, \"mode\": \"lines\", \"name\": \"Original\", \"x\": [0.542816162109375, -0.42094847559928894, null, 0.542816162109375, 1.0467290878295898, null, -0.42094847559928894, -1.1518301963806152, null, -0.42094847559928894, 0.0829644501209259, null, -1.1518301963806152, -0.6479172706604004, null, 0.5481863021850586, 1.0467290878295898, null, 0.5481863021850586, -0.6479172706604004, null, 1.0467290878295898, 0.0829644501209259, null, 0.0829644501209259, -0.6479172706604004, null], \"y\": [-0.9792703894717978, -0.47765620267180725, null, -0.9792703894717978, -0.118421494222435, null, -0.47765620267180725, 0.030999642319063044, null, -0.47765620267180725, 0.3831923945612747, null, 0.030999642319063044, 0.8918485624031159, null, 0.2693090810736048, -0.118421494222435, null, 0.2693090810736048, 0.8918485624031159, null, -0.118421494222435, 0.3831923945612747, null, 0.3831923945612747, 0.8918485624031159, null], \"z\": [0.02764395892217854, -0.7329262328096136, null, 0.02764395892217854, -0.04314449918110289, null, -0.7329262328096136, 0.24993109121384155, null, -0.7329262328096136, -0.8037148886096042, null, 0.24993109121384155, 0.17914264958528586, null, 1.123065544986131, -0.04314449918110289, null, 1.123065544986131, 0.17914264958528586, null, -0.04314449918110289, -0.8037148886096042, null, -0.8037148886096042, 0.17914264958528586, null], \"type\": \"scatter3d\"}, {\"marker\": {\"color\": \"blue\"}, \"mode\": \"markers+text\", \"name\": \"Reconstructed\", \"text\": [\"0\", \"1\", \"2\", \"3\", \"4\", \"5\", \"6\"], \"x\": [0.542816162109375, -0.42094847559928894, -1.1518301963806152, 0.5481863021850586, 1.0467290878295898, 0.0829644501209259, -0.6479172706604004], \"y\": [-1.0079094925989696, -0.44178110344409605, 0.049747188299823275, 0.30756082424000664, -0.1563363004161963, 0.381823147153591, 0.866895728589779], \"z\": [0.0708157397545823, -0.7870058565437116, 0.22167025697497555, 1.065403268863018, 0.014009864069439618, -0.8016508278487846, 0.21675759401120628], \"type\": \"scatter3d\"}, {\"marker\": {\"color\": \"blue\"}, \"mode\": \"lines\", \"name\": \"Reconstructed\", \"x\": [0.542816162109375, -0.42094847559928894, null, 0.542816162109375, 1.0467290878295898, null, -0.42094847559928894, -1.1518301963806152, null, -0.42094847559928894, 0.0829644501209259, null, -1.1518301963806152, -0.6479172706604004, null, 0.5481863021850586, 1.0467290878295898, null, 0.5481863021850586, -0.6479172706604004, null, 1.0467290878295898, 0.0829644501209259, null, 0.0829644501209259, -0.6479172706604004, null], \"y\": [-1.0079094925989696, -0.44178110344409605, null, -1.0079094925989696, -0.1563363004161963, null, -0.44178110344409605, 0.049747188299823275, null, -0.44178110344409605, 0.381823147153591, null, 0.049747188299823275, 0.866895728589779, null, 0.30756082424000664, -0.1563363004161963, null, 0.30756082424000664, 0.866895728589779, null, -0.1563363004161963, 0.381823147153591, null, 0.381823147153591, 0.866895728589779, null], \"z\": [0.0708157397545823, -0.7870058565437116, null, 0.0708157397545823, 0.014009864069439618, null, -0.7870058565437116, 0.22167025697497555, null, -0.7870058565437116, -0.8016508278487846, null, 0.22167025697497555, 0.21675759401120628, null, 1.065403268863018, 0.014009864069439618, null, 1.065403268863018, 0.21675759401120628, null, 0.014009864069439618, -0.8016508278487846, null, -0.8016508278487846, 0.21675759401120628, null], \"type\": \"scatter3d\"}], \"traces\": [0, 1, 2, 3]}, {\"data\": [{\"marker\": {\"color\": \"red\"}, \"mode\": \"markers+text\", \"name\": \"Original\", \"text\": [\"0\", \"1\", \"2\", \"3\", \"4\", \"5\", \"6\"], \"x\": [0.542816162109375, -0.42094847559928894, -1.1518301963806152, 0.5481863021850586, 1.0467290878295898, 0.0829644501209259, -0.6479172706604004], \"y\": [-0.9766609998180741, -0.3970449008450781, 0.004257976295142455, 0.1484088399370646, -0.11316463359378148, 0.46645119006512786, 0.8677543654622757], \"z\": [-0.07660271271630867, -0.7795458019925863, 0.25181024168433147, 1.1453289552404757, -0.05548751036988032, -0.7584308279000649, 0.2729254630519187], \"type\": \"scatter3d\"}, {\"marker\": {\"color\": \"red\"}, \"mode\": \"lines\", \"name\": \"Original\", \"x\": [0.542816162109375, -0.42094847559928894, null, 0.542816162109375, 1.0467290878295898, null, -0.42094847559928894, -1.1518301963806152, null, -0.42094847559928894, 0.0829644501209259, null, -1.1518301963806152, -0.6479172706604004, null, 0.5481863021850586, 1.0467290878295898, null, 0.5481863021850586, -0.6479172706604004, null, 1.0467290878295898, 0.0829644501209259, null, 0.0829644501209259, -0.6479172706604004, null], \"y\": [-0.9766609998180741, -0.3970449008450781, null, -0.9766609998180741, -0.11316463359378148, null, -0.3970449008450781, 0.004257976295142455, null, -0.3970449008450781, 0.46645119006512786, null, 0.004257976295142455, 0.8677543654622757, null, 0.1484088399370646, -0.11316463359378148, null, 0.1484088399370646, 0.8677543654622757, null, -0.11316463359378148, 0.46645119006512786, null, 0.46645119006512786, 0.8677543654622757, null], \"z\": [-0.07660271271630867, -0.7795458019925863, null, -0.07660271271630867, -0.05548751036988032, null, -0.7795458019925863, 0.25181024168433147, null, -0.7795458019925863, -0.7584308279000649, null, 0.25181024168433147, 0.2729254630519187, null, 1.1453289552404757, -0.05548751036988032, null, 1.1453289552404757, 0.2729254630519187, null, -0.05548751036988032, -0.7584308279000649, null, -0.7584308279000649, 0.2729254630519187, null], \"type\": \"scatter3d\"}, {\"marker\": {\"color\": \"blue\"}, \"mode\": \"markers+text\", \"name\": \"Reconstructed\", \"text\": [\"0\", \"1\", \"2\", \"3\", \"4\", \"5\", \"6\"], \"x\": [0.542816162109375, -0.42094847559928894, -1.1518301963806152, 0.5481863021850586, 1.0467290878295898, 0.0829644501209259, -0.6479172706604004], \"y\": [-1.0097267357705084, -0.35562472951277774, 0.025903256260903514, 0.19257300365560476, -0.15693978132531705, 0.464870303504715, 0.8389446708823516], \"z\": [-0.0367196587448061, -0.8295057645088115, 0.2257022527272861, 1.092059258545183, -0.0026870349139937353, -0.7565240025355102, 0.30767498761978274], \"type\": \"scatter3d\"}, {\"marker\": {\"color\": \"blue\"}, \"mode\": \"lines\", \"name\": \"Reconstructed\", \"x\": [0.542816162109375, -0.42094847559928894, null, 0.542816162109375, 1.0467290878295898, null, -0.42094847559928894, -1.1518301963806152, null, -0.42094847559928894, 0.0829644501209259, null, -1.1518301963806152, -0.6479172706604004, null, 0.5481863021850586, 1.0467290878295898, null, 0.5481863021850586, -0.6479172706604004, null, 1.0467290878295898, 0.0829644501209259, null, 0.0829644501209259, -0.6479172706604004, null], \"y\": [-1.0097267357705084, -0.35562472951277774, null, -1.0097267357705084, -0.15693978132531705, null, -0.35562472951277774, 0.025903256260903514, null, -0.35562472951277774, 0.464870303504715, null, 0.025903256260903514, 0.8389446708823516, null, 0.19257300365560476, -0.15693978132531705, null, 0.19257300365560476, 0.8389446708823516, null, -0.15693978132531705, 0.464870303504715, null, 0.464870303504715, 0.8389446708823516, null], \"z\": [-0.0367196587448061, -0.8295057645088115, null, -0.0367196587448061, -0.0026870349139937353, null, -0.8295057645088115, 0.2257022527272861, null, -0.8295057645088115, -0.7565240025355102, null, 0.2257022527272861, 0.30767498761978274, null, 1.092059258545183, -0.0026870349139937353, null, 1.092059258545183, 0.30767498761978274, null, -0.0026870349139937353, -0.7565240025355102, null, -0.7565240025355102, 0.30767498761978274, null], \"type\": \"scatter3d\"}], \"traces\": [0, 1, 2, 3]}, {\"data\": [{\"marker\": {\"color\": \"red\"}, \"mode\": \"markers+text\", \"name\": \"Original\", \"text\": [\"0\", \"1\", \"2\", \"3\", \"4\", \"5\", \"6\"], \"x\": [0.542816162109375, -0.42094847559928894, -1.1518301963806152, 0.5481863021850586, 1.0467290878295898, 0.0829644501209259, -0.6479172706604004], \"y\": [-0.9629856507824773, -0.3119349216406816, -0.022531934301603124, 0.025827067342873978, -0.10662557244821717, 0.5444249072011046, 0.8338281648236965], \"z\": [-0.17998144501082936, -0.8173328057482853, 0.25083628149827064, 1.154615330781716, -0.06720182589448283, -0.7045534428568359, 0.36361592196669185], \"type\": \"scatter3d\"}, {\"marker\": {\"color\": \"red\"}, \"mode\": \"lines\", \"name\": \"Original\", \"x\": [0.542816162109375, -0.42094847559928894, null, 0.542816162109375, 1.0467290878295898, null, -0.42094847559928894, -1.1518301963806152, null, -0.42094847559928894, 0.0829644501209259, null, -1.1518301963806152, -0.6479172706604004, null, 0.5481863021850586, 1.0467290878295898, null, 0.5481863021850586, -0.6479172706604004, null, 1.0467290878295898, 0.0829644501209259, null, 0.0829644501209259, -0.6479172706604004, null], \"y\": [-0.9629856507824773, -0.3119349216406816, null, -0.9629856507824773, -0.10662557244821717, null, -0.3119349216406816, -0.022531934301603124, null, -0.3119349216406816, 0.5444249072011046, null, -0.022531934301603124, 0.8338281648236965, null, 0.025827067342873978, -0.10662557244821717, null, 0.025827067342873978, 0.8338281648236965, null, -0.10662557244821717, 0.5444249072011046, null, 0.5444249072011046, 0.8338281648236965, null], \"z\": [-0.17998144501082936, -0.8173328057482853, null, -0.17998144501082936, -0.06720182589448283, null, -0.8173328057482853, 0.25083628149827064, null, -0.8173328057482853, -0.7045534428568359, null, 0.25083628149827064, 0.36361592196669185, null, 1.154615330781716, -0.06720182589448283, null, 1.154615330781716, 0.36361592196669185, null, -0.06720182589448283, -0.7045534428568359, null, -0.7045534428568359, 0.36361592196669185, null], \"type\": \"scatter3d\"}, {\"marker\": {\"color\": \"blue\"}, \"mode\": \"markers+text\", \"name\": \"Reconstructed\", \"text\": [\"0\", \"1\", \"2\", \"3\", \"4\", \"5\", \"6\"], \"x\": [0.542816162109375, -0.42094847559928894, -1.1518301963806152, 0.5481863021850586, 1.0467290878295898, 0.0829644501209259, -0.6479172706604004], \"y\": [-1.0001033715594352, -0.2654389852956478, 0.0017658299781316558, 0.075403253991517, -0.1557650718020672, 0.5426502935643822, 0.8014880348285456], \"z\": [-0.14383900883818487, -0.8626070407083408, 0.2271769517701523, 1.106341780463292, -0.019353488718166865, -0.702825457981855, 0.39510630067794], \"type\": \"scatter3d\"}, {\"marker\": {\"color\": \"blue\"}, \"mode\": \"lines\", \"name\": \"Reconstructed\", \"x\": [0.542816162109375, -0.42094847559928894, null, 0.542816162109375, 1.0467290878295898, null, -0.42094847559928894, -1.1518301963806152, null, -0.42094847559928894, 0.0829644501209259, null, -1.1518301963806152, -0.6479172706604004, null, 0.5481863021850586, 1.0467290878295898, null, 0.5481863021850586, -0.6479172706604004, null, 1.0467290878295898, 0.0829644501209259, null, 0.0829644501209259, -0.6479172706604004, null], \"y\": [-1.0001033715594352, -0.2654389852956478, null, -1.0001033715594352, -0.1557650718020672, null, -0.2654389852956478, 0.0017658299781316558, null, -0.2654389852956478, 0.5426502935643822, null, 0.0017658299781316558, 0.8014880348285456, null, 0.075403253991517, -0.1557650718020672, null, 0.075403253991517, 0.8014880348285456, null, -0.1557650718020672, 0.5426502935643822, null, 0.5426502935643822, 0.8014880348285456, null], \"z\": [-0.14383900883818487, -0.8626070407083408, null, -0.14383900883818487, -0.019353488718166865, null, -0.8626070407083408, 0.2271769517701523, null, -0.8626070407083408, -0.702825457981855, null, 0.2271769517701523, 0.39510630067794, null, 1.106341780463292, -0.019353488718166865, null, 1.106341780463292, 0.39510630067794, null, -0.019353488718166865, -0.702825457981855, null, -0.702825457981855, 0.39510630067794, null], \"type\": \"scatter3d\"}], \"traces\": [0, 1, 2, 3]}, {\"data\": [{\"marker\": {\"color\": \"red\"}, \"mode\": \"markers+text\", \"name\": \"Original\", \"text\": [\"0\", \"1\", \"2\", \"3\", \"4\", \"5\", \"6\"], \"x\": [0.542816162109375, -0.42094847559928894, -1.1518301963806152, 0.5481863021850586, 1.0467290878295898, 0.0829644501209259, -0.6479172706604004], \"y\": [-0.9383992895339728, -0.22329059513122532, -0.04906654907940752, -0.09704733624428455, -0.09887840096139754, 0.6162300725973381, 0.7904543578968354], \"z\": [-0.2813209156164413, -0.8458591022252382, 0.2470202460137418, 1.1508194532643223, -0.07815471787921373, -0.6426931857807671, 0.45018646719203237], \"type\": \"scatter3d\"}, {\"marker\": {\"color\": \"red\"}, \"mode\": \"lines\", \"name\": \"Original\", \"x\": [0.542816162109375, -0.42094847559928894, null, 0.542816162109375, 1.0467290878295898, null, -0.42094847559928894, -1.1518301963806152, null, -0.42094847559928894, 0.0829644501209259, null, -1.1518301963806152, -0.6479172706604004, null, 0.5481863021850586, 1.0467290878295898, null, 0.5481863021850586, -0.6479172706604004, null, 1.0467290878295898, 0.0829644501209259, null, 0.0829644501209259, -0.6479172706604004, null], \"y\": [-0.9383992895339728, -0.22329059513122532, null, -0.9383992895339728, -0.09887840096139754, null, -0.22329059513122532, -0.04906654907940752, null, -0.22329059513122532, 0.6162300725973381, null, -0.04906654907940752, 0.7904543578968354, null, -0.09704733624428455, -0.09887840096139754, null, -0.09704733624428455, 0.7904543578968354, null, -0.09887840096139754, 0.6162300725973381, null, 0.6162300725973381, 0.7904543578968354, null], \"z\": [-0.2813209156164413, -0.8458591022252382, null, -0.2813209156164413, -0.07815471787921373, null, -0.8458591022252382, 0.2470202460137418, null, -0.8458591022252382, -0.6426931857807671, null, 0.2470202460137418, 0.45018646719203237, null, 1.1508194532643223, -0.07815471787921373, null, 1.1508194532643223, 0.45018646719203237, null, -0.07815471787921373, -0.6426931857807671, null, -0.6426931857807671, 0.45018646719203237, null], \"type\": \"scatter3d\"}, {\"marker\": {\"color\": \"blue\"}, \"mode\": \"markers+text\", \"name\": \"Reconstructed\", \"text\": [\"0\", \"1\", \"2\", \"3\", \"4\", \"5\", \"6\"], \"x\": [0.542816162109375, -0.42094847559928894, -1.1518301963806152, 0.5481863021850586, 1.0467290878295898, 0.0829644501209259, -0.6479172706604004], \"y\": [-0.9791484365275627, -0.17224571131108074, -0.02239160386388239, -0.04262084466990681, -0.1528254817747352, 0.6142818389659099, 0.754950219081763], \"z\": [-0.2493286054862757, -0.88593463445636, 0.22607764517415857, 1.108089007937007, -0.03580065976190152, -0.6411636201544615, 0.47806090147294933], \"type\": \"scatter3d\"}, {\"marker\": {\"color\": \"blue\"}, \"mode\": \"lines\", \"name\": \"Reconstructed\", \"x\": [0.542816162109375, -0.42094847559928894, null, 0.542816162109375, 1.0467290878295898, null, -0.42094847559928894, -1.1518301963806152, null, -0.42094847559928894, 0.0829644501209259, null, -1.1518301963806152, -0.6479172706604004, null, 0.5481863021850586, 1.0467290878295898, null, 0.5481863021850586, -0.6479172706604004, null, 1.0467290878295898, 0.0829644501209259, null, 0.0829644501209259, -0.6479172706604004, null], \"y\": [-0.9791484365275627, -0.17224571131108074, null, -0.9791484365275627, -0.1528254817747352, null, -0.17224571131108074, -0.02239160386388239, null, -0.17224571131108074, 0.6142818389659099, null, -0.02239160386388239, 0.754950219081763, null, -0.04262084466990681, -0.1528254817747352, null, -0.04262084466990681, 0.754950219081763, null, -0.1528254817747352, 0.6142818389659099, null, 0.6142818389659099, 0.754950219081763, null], \"z\": [-0.2493286054862757, -0.88593463445636, null, -0.2493286054862757, -0.03580065976190152, null, -0.88593463445636, 0.22607764517415857, null, -0.88593463445636, -0.6411636201544615, null, 0.22607764517415857, 0.47806090147294933, null, 1.108089007937007, -0.03580065976190152, null, 1.108089007937007, 0.47806090147294933, null, -0.03580065976190152, -0.6411636201544615, null, -0.6411636201544615, 0.47806090147294933, null], \"type\": \"scatter3d\"}], \"traces\": [0, 1, 2, 3]}, {\"data\": [{\"marker\": {\"color\": \"red\"}, \"mode\": \"markers+text\", \"name\": \"Original\", \"text\": [\"0\", \"1\", \"2\", \"3\", \"4\", \"5\", \"6\"], \"x\": [0.542816162109375, -0.42094847559928894, -1.1518301963806152, 0.5481863021850586, 1.0467290878295898, 0.0829644501209259, -0.6479172706604004], \"y\": [-0.9031804893697175, -0.1321162969565378, -0.0750452202501439, -0.21882215473364683, -0.09001089768188096, 0.6810531050379999, 0.7381243872454676], \"z\": [-0.3794729078379841, -0.8648014770858305, 0.24040537243759516, 1.1339843314973224, -0.08822208568133237, -0.5735509581026355, 0.5316562198587016], \"type\": \"scatter3d\"}, {\"marker\": {\"color\": \"red\"}, \"mode\": \"lines\", \"name\": \"Original\", \"x\": [0.542816162109375, -0.42094847559928894, null, 0.542816162109375, 1.0467290878295898, null, -0.42094847559928894, -1.1518301963806152, null, -0.42094847559928894, 0.0829644501209259, null, -1.1518301963806152, -0.6479172706604004, null, 0.5481863021850586, 1.0467290878295898, null, 0.5481863021850586, -0.6479172706604004, null, 1.0467290878295898, 0.0829644501209259, null, 0.0829644501209259, -0.6479172706604004, null], \"y\": [-0.9031804893697175, -0.1321162969565378, null, -0.9031804893697175, -0.09001089768188096, null, -0.1321162969565378, -0.0750452202501439, null, -0.1321162969565378, 0.6810531050379999, null, -0.0750452202501439, 0.7381243872454676, null, -0.21882215473364683, -0.09001089768188096, null, -0.21882215473364683, 0.7381243872454676, null, -0.09001089768188096, 0.6810531050379999, null, 0.6810531050379999, 0.7381243872454676, null], \"z\": [-0.3794729078379841, -0.8648014770858305, null, -0.3794729078379841, -0.08822208568133237, null, -0.8648014770858305, 0.24040537243759516, null, -0.8648014770858305, -0.5735509581026355, null, 0.24040537243759516, 0.5316562198587016, null, 1.1339843314973224, -0.08822208568133237, null, 1.1339843314973224, 0.5316562198587016, null, -0.08822208568133237, -0.5735509581026355, null, -0.5735509581026355, 0.5316562198587016, null], \"type\": \"scatter3d\"}, {\"marker\": {\"color\": \"blue\"}, \"mode\": \"markers+text\", \"name\": \"Reconstructed\", \"text\": [\"0\", \"1\", \"2\", \"3\", \"4\", \"5\", \"6\"], \"x\": [0.542816162109375, -0.42094847559928894, -1.1518301963806152, 0.5481863021850586, 1.0467290878295898, 0.0829644501209259, -0.6479172706604004], \"y\": [-0.947099358461969, -0.07710082459146539, -0.04629533188688762, -0.1601620321307947, -0.1481543179729314, 0.6789533256773848, 0.6998585156899826], \"z\": [-0.3519932094075507, -0.8992242347944701, 0.22241678852229818, 1.0972811441808934, -0.05184219502531597, -0.5722371423147345, 0.5555988812308258], \"type\": \"scatter3d\"}, {\"marker\": {\"color\": \"blue\"}, \"mode\": \"lines\", \"name\": \"Reconstructed\", \"x\": [0.542816162109375, -0.42094847559928894, null, 0.542816162109375, 1.0467290878295898, null, -0.42094847559928894, -1.1518301963806152, null, -0.42094847559928894, 0.0829644501209259, null, -1.1518301963806152, -0.6479172706604004, null, 0.5481863021850586, 1.0467290878295898, null, 0.5481863021850586, -0.6479172706604004, null, 1.0467290878295898, 0.0829644501209259, null, 0.0829644501209259, -0.6479172706604004, null], \"y\": [-0.947099358461969, -0.07710082459146539, null, -0.947099358461969, -0.1481543179729314, null, -0.07710082459146539, -0.04629533188688762, null, -0.07710082459146539, 0.6789533256773848, null, -0.04629533188688762, 0.6998585156899826, null, -0.1601620321307947, -0.1481543179729314, null, -0.1601620321307947, 0.6998585156899826, null, -0.1481543179729314, 0.6789533256773848, null, 0.6789533256773848, 0.6998585156899826, null], \"z\": [-0.3519932094075507, -0.8992242347944701, null, -0.3519932094075507, -0.05184219502531597, null, -0.8992242347944701, 0.22241678852229818, null, -0.8992242347944701, -0.5722371423147345, null, 0.22241678852229818, 0.5555988812308258, null, 1.0972811441808934, -0.05184219502531597, null, 1.0972811441808934, 0.5555988812308258, null, -0.05184219502531597, -0.5722371423147345, null, -0.5722371423147345, 0.5555988812308258, null], \"type\": \"scatter3d\"}], \"traces\": [0, 1, 2, 3]}, {\"data\": [{\"marker\": {\"color\": \"red\"}, \"mode\": \"markers+text\", \"name\": \"Original\", \"text\": [\"0\", \"1\", \"2\", \"3\", \"4\", \"5\", \"6\"], \"x\": [0.542816162109375, -0.42094847559928894, -1.1518301963806152, 0.5481863021850586, 1.0467290878295898, 0.0829644501209259, -0.6479172706604004], \"y\": [-0.8577282933682912, -0.039445068346339054, -0.1001735990888976, -0.33811763077298024, -0.08012353496509886, 0.7381595336635682, 0.6774311723470684], \"z\": [-0.4733253203840422, -0.8739453056539037, 0.2310666099306177, 1.1043007141373096, -0.09728986200092471, -0.4979101688898665, 0.6071020951153252], \"type\": \"scatter3d\"}, {\"marker\": {\"color\": \"red\"}, \"mode\": \"lines\", \"name\": \"Original\", \"x\": [0.542816162109375, -0.42094847559928894, null, 0.542816162109375, 1.0467290878295898, null, -0.42094847559928894, -1.1518301963806152, null, -0.42094847559928894, 0.0829644501209259, null, -1.1518301963806152, -0.6479172706604004, null, 0.5481863021850586, 1.0467290878295898, null, 0.5481863021850586, -0.6479172706604004, null, 1.0467290878295898, 0.0829644501209259, null, 0.0829644501209259, -0.6479172706604004, null], \"y\": [-0.8577282933682912, -0.039445068346339054, null, -0.8577282933682912, -0.08012353496509886, null, -0.039445068346339054, -0.1001735990888976, null, -0.039445068346339054, 0.7381595336635682, null, -0.1001735990888976, 0.6774311723470684, null, -0.33811763077298024, -0.08012353496509886, null, -0.33811763077298024, 0.6774311723470684, null, -0.08012353496509886, 0.7381595336635682, null, 0.7381595336635682, 0.6774311723470684, null], \"z\": [-0.4733253203840422, -0.8739453056539037, null, -0.4733253203840422, -0.09728986200092471, null, -0.8739453056539037, 0.2310666099306177, null, -0.8739453056539037, -0.4979101688898665, null, 0.2310666099306177, 0.6071020951153252, null, 1.1043007141373096, -0.09728986200092471, null, 1.1043007141373096, 0.6071020951153252, null, -0.09728986200092471, -0.4979101688898665, null, -0.4979101688898665, 0.6071020951153252, null], \"type\": \"scatter3d\"}, {\"marker\": {\"color\": \"blue\"}, \"mode\": \"markers+text\", \"name\": \"Reconstructed\", \"text\": [\"0\", \"1\", \"2\", \"3\", \"4\", \"5\", \"6\"], \"x\": [0.542816162109375, -0.42094847559928894, -1.1518301963806152, 0.5481863021850586, 1.0467290878295898, 0.0829644501209259, -0.6479172706604004], \"y\": [-0.9043192662232995, 0.01891764527869754, -0.06967451530093838, -0.27588851977013973, -0.14180450654903254, 0.7359319999129511, 0.6368371356661608], \"z\": [-0.4506695896168881, -0.9023252652405859, 0.21623586078324075, 1.074040646609912, -0.0672963375040035, -0.4968269889982213, 0.6268417036583084], \"type\": \"scatter3d\"}, {\"marker\": {\"color\": \"blue\"}, \"mode\": \"lines\", \"name\": \"Reconstructed\", \"x\": [0.542816162109375, -0.42094847559928894, null, 0.542816162109375, 1.0467290878295898, null, -0.42094847559928894, -1.1518301963806152, null, -0.42094847559928894, 0.0829644501209259, null, -1.1518301963806152, -0.6479172706604004, null, 0.5481863021850586, 1.0467290878295898, null, 0.5481863021850586, -0.6479172706604004, null, 1.0467290878295898, 0.0829644501209259, null, 0.0829644501209259, -0.6479172706604004, null], \"y\": [-0.9043192662232995, 0.01891764527869754, null, -0.9043192662232995, -0.14180450654903254, null, 0.01891764527869754, -0.06967451530093838, null, 0.01891764527869754, 0.7359319999129511, null, -0.06967451530093838, 0.6368371356661608, null, -0.27588851977013973, -0.14180450654903254, null, -0.27588851977013973, 0.6368371356661608, null, -0.14180450654903254, 0.7359319999129511, null, 0.7359319999129511, 0.6368371356661608, null], \"z\": [-0.4506695896168881, -0.9023252652405859, null, -0.4506695896168881, -0.0672963375040035, null, -0.9023252652405859, 0.21623586078324075, null, -0.9023252652405859, -0.4968269889982213, null, 0.21623586078324075, 0.6268417036583084, null, 1.074040646609912, -0.0672963375040035, null, 1.074040646609912, 0.6268417036583084, null, -0.0672963375040035, -0.4968269889982213, null, -0.4968269889982213, 0.6268417036583084, null], \"type\": \"scatter3d\"}], \"traces\": [0, 1, 2, 3]}, {\"data\": [{\"marker\": {\"color\": \"red\"}, \"mode\": \"markers+text\", \"name\": \"Original\", \"text\": [\"0\", \"1\", \"2\", \"3\", \"4\", \"5\", \"6\"], \"x\": [0.542816162109375, -0.42094847559928894, -1.1518301963806152, 0.5481863021850586, 1.0467290878295898, 0.0829644501209259, -0.6479172706604004], \"y\": [-0.802557693072166, 0.053673088649673274, -0.12416697102263487, -0.45358209895070567, -0.06932834058142207, 0.7869023198191445, 0.6090623915782151], \"z\": [-0.5618147679189475, -0.8731869846980925, 0.2191097704035938, 1.0621049284299444, -0.1052553053089902, -0.41662785850876666, 0.6756692610486037], \"type\": \"scatter3d\"}, {\"marker\": {\"color\": \"red\"}, \"mode\": \"lines\", \"name\": \"Original\", \"x\": [0.542816162109375, -0.42094847559928894, null, 0.542816162109375, 1.0467290878295898, null, -0.42094847559928894, -1.1518301963806152, null, -0.42094847559928894, 0.0829644501209259, null, -1.1518301963806152, -0.6479172706604004, null, 0.5481863021850586, 1.0467290878295898, null, 0.5481863021850586, -0.6479172706604004, null, 1.0467290878295898, 0.0829644501209259, null, 0.0829644501209259, -0.6479172706604004, null], \"y\": [-0.802557693072166, 0.053673088649673274, null, -0.802557693072166, -0.06932834058142207, null, 0.053673088649673274, -0.12416697102263487, null, 0.053673088649673274, 0.7869023198191445, null, -0.12416697102263487, 0.6090623915782151, null, -0.45358209895070567, -0.06932834058142207, null, -0.45358209895070567, 0.6090623915782151, null, -0.06932834058142207, 0.7869023198191445, null, 0.7869023198191445, 0.6090623915782151, null], \"z\": [-0.5618147679189475, -0.8731869846980925, null, -0.5618147679189475, -0.1052553053089902, null, -0.8731869846980925, 0.2191097704035938, null, -0.8731869846980925, -0.41662785850876666, null, 0.2191097704035938, 0.6756692610486037, null, 1.0621049284299444, -0.1052553053089902, null, 1.0621049284299444, 0.6756692610486037, null, -0.1052553053089902, -0.41662785850876666, null, -0.41662785850876666, 0.6756692610486037, null], \"type\": \"scatter3d\"}, {\"marker\": {\"color\": \"blue\"}, \"mode\": \"markers+text\", \"name\": \"Reconstructed\", \"text\": [\"0\", \"1\", \"2\", \"3\", \"4\", \"5\", \"6\"], \"x\": [0.542816162109375, -0.42094847559928894, -1.1518301963806152, 0.5481863021850586, 1.0467290878295898, 0.0829644501209259, -0.6479172706604004], \"y\": [-0.8512928753506755, 0.11472177066874531, -0.09226425861610581, -0.38848908024103007, -0.1338479934037273, 0.7845722705259971, 0.5666001364280336], \"z\": [-0.5442397032974352, -0.8952025898806438, 0.2076048943380433, 1.038630839347973, -0.08198798558851861, -0.4157875873743662, 0.6909821591101065], \"type\": \"scatter3d\"}, {\"marker\": {\"color\": \"blue\"}, \"mode\": \"lines\", \"name\": \"Reconstructed\", \"x\": [0.542816162109375, -0.42094847559928894, null, 0.542816162109375, 1.0467290878295898, null, -0.42094847559928894, -1.1518301963806152, null, -0.42094847559928894, 0.0829644501209259, null, -1.1518301963806152, -0.6479172706604004, null, 0.5481863021850586, 1.0467290878295898, null, 0.5481863021850586, -0.6479172706604004, null, 1.0467290878295898, 0.0829644501209259, null, 0.0829644501209259, -0.6479172706604004, null], \"y\": [-0.8512928753506755, 0.11472177066874531, null, -0.8512928753506755, -0.1338479934037273, null, 0.11472177066874531, -0.09226425861610581, null, 0.11472177066874531, 0.7845722705259971, null, -0.09226425861610581, 0.5666001364280336, null, -0.38848908024103007, -0.1338479934037273, null, -0.38848908024103007, 0.5666001364280336, null, -0.1338479934037273, 0.7845722705259971, null, 0.7845722705259971, 0.5666001364280336, null], \"z\": [-0.5442397032974352, -0.8952025898806438, null, -0.5442397032974352, -0.08198798558851861, null, -0.8952025898806438, 0.2076048943380433, null, -0.8952025898806438, -0.4157875873743662, null, 0.2076048943380433, 0.6909821591101065, null, 1.038630839347973, -0.08198798558851861, null, 1.038630839347973, 0.6909821591101065, null, -0.08198798558851861, -0.4157875873743662, null, -0.4157875873743662, 0.6909821591101065, null], \"type\": \"scatter3d\"}], \"traces\": [0, 1, 2, 3]}, {\"data\": [{\"marker\": {\"color\": \"red\"}, \"mode\": \"markers+text\", \"name\": \"Original\", \"text\": [\"0\", \"1\", \"2\", \"3\", \"4\", \"5\", \"6\"], \"x\": [0.542816162109375, -0.42094847559928894, -1.1518301963806152, 0.5481863021850586, 1.0467290878295898, 0.0829644501209259, -0.6479172706604004], \"y\": [-0.7382937934277501, 0.14618310810460675, -0.14675348156008142, -0.5639073007051087, -0.05774762839675844, 0.8267291882609565, 0.5337926905437971], \"z\": [-0.64393862964354, -0.8625351062978359, 0.20467032962607518, 1.007875069487872, -0.11202816395001879, -0.330624988014717, 0.7365808242704632], \"type\": \"scatter3d\"}, {\"marker\": {\"color\": \"red\"}, \"mode\": \"lines\", \"name\": \"Original\", \"x\": [0.542816162109375, -0.42094847559928894, null, 0.542816162109375, 1.0467290878295898, null, -0.42094847559928894, -1.1518301963806152, null, -0.42094847559928894, 0.0829644501209259, null, -1.1518301963806152, -0.6479172706604004, null, 0.5481863021850586, 1.0467290878295898, null, 0.5481863021850586, -0.6479172706604004, null, 1.0467290878295898, 0.0829644501209259, null, 0.0829644501209259, -0.6479172706604004, null], \"y\": [-0.7382937934277501, 0.14618310810460675, null, -0.7382937934277501, -0.05774762839675844, null, 0.14618310810460675, -0.14675348156008142, null, 0.14618310810460675, 0.8267291882609565, null, -0.14675348156008142, 0.5337926905437971, null, -0.5639073007051087, -0.05774762839675844, null, -0.5639073007051087, 0.5337926905437971, null, -0.05774762839675844, 0.8267291882609565, null, 0.8267291882609565, 0.5337926905437971, null], \"z\": [-0.64393862964354, -0.8625351062978359, null, -0.64393862964354, -0.11202816395001879, null, -0.8625351062978359, 0.20467032962607518, null, -0.8625351062978359, -0.330624988014717, null, 0.20467032962607518, 0.7365808242704632, null, 1.007875069487872, -0.11202816395001879, null, 1.007875069487872, 0.7365808242704632, null, -0.11202816395001879, -0.330624988014717, null, -0.330624988014717, 0.7365808242704632, null], \"type\": \"scatter3d\"}, {\"marker\": {\"color\": \"blue\"}, \"mode\": \"markers+text\", \"name\": \"Reconstructed\", \"text\": [\"0\", \"1\", \"2\", \"3\", \"4\", \"5\", \"6\"], \"x\": [0.542816162109375, -0.42094847559928894, -1.1518301963806152, 0.5481863021850586, 1.0467290878295898, 0.0829644501209259, -0.6479172706604004], \"y\": [-0.7886209960409548, 0.2092260525566225, -0.11380861101422558, -0.49668790420042924, -0.12437492901021334, 0.8243230238148108, 0.4899433312422496], \"z\": [-0.6316433636724709, -0.8779369114725486, 0.19662168148528905, 0.9914529296603956, -0.09575067703557898, -0.3300371462452695, 0.7472935105967252], \"type\": \"scatter3d\"}, {\"marker\": {\"color\": \"blue\"}, \"mode\": \"lines\", \"name\": \"Reconstructed\", \"x\": [0.542816162109375, -0.42094847559928894, null, 0.542816162109375, 1.0467290878295898, null, -0.42094847559928894, -1.1518301963806152, null, -0.42094847559928894, 0.0829644501209259, null, -1.1518301963806152, -0.6479172706604004, null, 0.5481863021850586, 1.0467290878295898, null, 0.5481863021850586, -0.6479172706604004, null, 1.0467290878295898, 0.0829644501209259, null, 0.0829644501209259, -0.6479172706604004, null], \"y\": [-0.7886209960409548, 0.2092260525566225, null, -0.7886209960409548, -0.12437492901021334, null, 0.2092260525566225, -0.11380861101422558, null, 0.2092260525566225, 0.8243230238148108, null, -0.11380861101422558, 0.4899433312422496, null, -0.49668790420042924, -0.12437492901021334, null, -0.49668790420042924, 0.4899433312422496, null, -0.12437492901021334, 0.8243230238148108, null, 0.8243230238148108, 0.4899433312422496, null], \"z\": [-0.6316433636724709, -0.8779369114725486, null, -0.6316433636724709, -0.09575067703557898, null, -0.8779369114725486, 0.19662168148528905, null, -0.8779369114725486, -0.3300371462452695, null, 0.19662168148528905, 0.7472935105967252, null, 0.9914529296603956, -0.09575067703557898, null, 0.9914529296603956, 0.7472935105967252, null, -0.09575067703557898, -0.3300371462452695, null, -0.3300371462452695, 0.7472935105967252, null], \"type\": \"scatter3d\"}], \"traces\": [0, 1, 2, 3]}, {\"data\": [{\"marker\": {\"color\": \"red\"}, \"mode\": \"markers+text\", \"name\": \"Original\", \"text\": [\"0\", \"1\", \"2\", \"3\", \"4\", \"5\", \"6\"], \"x\": [0.542816162109375, -0.42094847559928894, -1.1518301963806152, 0.5481863021850586, 1.0467290878295898, 0.0829644501209259, -0.6479172706604004], \"y\": [-0.6656647300965665, 0.23703681453290884, -0.16767721651173637, -0.6678432074165986, -0.045512612507578036, 0.8571888846555498, 0.452474905032781], \"z\": [-0.7187664093894504, -0.8421103604916839, 0.18791189223177895, 0.9422255832820583, -0.11753169872931064, -0.24087600429541864, 0.7891466324305748], \"type\": \"scatter3d\"}, {\"marker\": {\"color\": \"red\"}, \"mode\": \"lines\", \"name\": \"Original\", \"x\": [0.542816162109375, -0.42094847559928894, null, 0.542816162109375, 1.0467290878295898, null, -0.42094847559928894, -1.1518301963806152, null, -0.42094847559928894, 0.0829644501209259, null, -1.1518301963806152, -0.6479172706604004, null, 0.5481863021850586, 1.0467290878295898, null, 0.5481863021850586, -0.6479172706604004, null, 1.0467290878295898, 0.0829644501209259, null, 0.0829644501209259, -0.6479172706604004, null], \"y\": [-0.6656647300965665, 0.23703681453290884, null, -0.6656647300965665, -0.045512612507578036, null, 0.23703681453290884, -0.16767721651173637, null, 0.23703681453290884, 0.8571888846555498, null, -0.16767721651173637, 0.452474905032781, null, -0.6678432074165986, -0.045512612507578036, null, -0.6678432074165986, 0.452474905032781, null, -0.045512612507578036, 0.8571888846555498, null, 0.8571888846555498, 0.452474905032781, null], \"z\": [-0.7187664093894504, -0.8421103604916839, null, -0.7187664093894504, -0.11753169872931064, null, -0.8421103604916839, 0.18791189223177895, null, -0.8421103604916839, -0.24087600429541864, null, 0.18791189223177895, 0.7891466324305748, null, 0.9422255832820583, -0.11753169872931064, null, 0.9422255832820583, 0.7891466324305748, null, -0.11753169872931064, -0.24087600429541864, null, -0.24087600429541864, 0.7891466324305748, null], \"type\": \"scatter3d\"}, {\"marker\": {\"color\": \"blue\"}, \"mode\": \"markers+text\", \"name\": \"Reconstructed\", \"text\": [\"0\", \"1\", \"2\", \"3\", \"4\", \"5\", \"6\"], \"x\": [0.542816162109375, -0.42094847559928894, -1.1518301963806152, 0.5481863021850586, 1.0467290878295898, 0.0829644501209259, -0.6479172706604004], \"y\": [-0.7170137257291288, 0.3013597196665445, -0.13406346637394062, -0.5992590557388212, -0.11349264697331364, 0.854733867861035, 0.40773527234206897], \"z\": [-0.7118902523452156, -0.8507238570516792, 0.18341066641526893, 0.9330414621152764, -0.108428475051797, -0.2405472523730614, 0.7951377280049472], \"type\": \"scatter3d\"}, {\"marker\": {\"color\": \"blue\"}, \"mode\": \"lines\", \"name\": \"Reconstructed\", \"x\": [0.542816162109375, -0.42094847559928894, null, 0.542816162109375, 1.0467290878295898, null, -0.42094847559928894, -1.1518301963806152, null, -0.42094847559928894, 0.0829644501209259, null, -1.1518301963806152, -0.6479172706604004, null, 0.5481863021850586, 1.0467290878295898, null, 0.5481863021850586, -0.6479172706604004, null, 1.0467290878295898, 0.0829644501209259, null, 0.0829644501209259, -0.6479172706604004, null], \"y\": [-0.7170137257291288, 0.3013597196665445, null, -0.7170137257291288, -0.11349264697331364, null, 0.3013597196665445, -0.13406346637394062, null, 0.3013597196665445, 0.854733867861035, null, -0.13406346637394062, 0.40773527234206897, null, -0.5992590557388212, -0.11349264697331364, null, -0.5992590557388212, 0.40773527234206897, null, -0.11349264697331364, 0.854733867861035, null, 0.854733867861035, 0.40773527234206897, null], \"z\": [-0.7118902523452156, -0.8507238570516792, null, -0.7118902523452156, -0.108428475051797, null, -0.8507238570516792, 0.18341066641526893, null, -0.8507238570516792, -0.2405472523730614, null, 0.18341066641526893, 0.7951377280049472, null, 0.9330414621152764, -0.108428475051797, null, 0.9330414621152764, 0.7951377280049472, null, -0.108428475051797, -0.2405472523730614, null, -0.2405472523730614, 0.7951377280049472, null], \"type\": \"scatter3d\"}], \"traces\": [0, 1, 2, 3]}, {\"data\": [{\"marker\": {\"color\": \"red\"}, \"mode\": \"markers+text\", \"name\": \"Original\", \"text\": [\"0\", \"1\", \"2\", \"3\", \"4\", \"5\", \"6\"], \"x\": [0.542816162109375, -0.42094847559928894, -1.1518301963806152, 0.5481863021850586, 1.0467290878295898, 0.0829644501209259, -0.6479172706604004], \"y\": [-0.5854934193872583, 0.3252047991374477, -0.18670110159989714, -0.7642121837314526, -0.032761920532769544, 0.8779362884716961, 0.366030398047945], \"z\": [-0.7854502785124935, -0.8121441678109341, 0.16902433801271433, 0.8659003047234187, -0.12170355239871547, -0.14839779919828544, 0.8327710939182531], \"type\": \"scatter3d\"}, {\"marker\": {\"color\": \"red\"}, \"mode\": \"lines\", \"name\": \"Original\", \"x\": [0.542816162109375, -0.42094847559928894, null, 0.542816162109375, 1.0467290878295898, null, -0.42094847559928894, -1.1518301963806152, null, -0.42094847559928894, 0.0829644501209259, null, -1.1518301963806152, -0.6479172706604004, null, 0.5481863021850586, 1.0467290878295898, null, 0.5481863021850586, -0.6479172706604004, null, 1.0467290878295898, 0.0829644501209259, null, 0.0829644501209259, -0.6479172706604004, null], \"y\": [-0.5854934193872583, 0.3252047991374477, null, -0.5854934193872583, -0.032761920532769544, null, 0.3252047991374477, -0.18670110159989714, null, 0.3252047991374477, 0.8779362884716961, null, -0.18670110159989714, 0.366030398047945, null, -0.7642121837314526, -0.032761920532769544, null, -0.7642121837314526, 0.366030398047945, null, -0.032761920532769544, 0.8779362884716961, null, 0.8779362884716961, 0.366030398047945, null], \"z\": [-0.7854502785124935, -0.8121441678109341, null, -0.7854502785124935, -0.12170355239871547, null, -0.8121441678109341, 0.16902433801271433, null, -0.8121441678109341, -0.14839779919828544, null, 0.16902433801271433, 0.8327710939182531, null, 0.8659003047234187, -0.12170355239871547, null, 0.8659003047234187, 0.8327710939182531, null, -0.12170355239871547, -0.14839779919828544, null, -0.14839779919828544, 0.8327710939182531, null], \"type\": \"scatter3d\"}, {\"marker\": {\"color\": \"blue\"}, \"mode\": \"markers+text\", \"name\": \"Reconstructed\", \"text\": [\"0\", \"1\", \"2\", \"3\", \"4\", \"5\", \"6\"], \"x\": [0.542816162109375, -0.42094847559928894, -1.1518301963806152, 0.5481863021850586, 1.0467290878295898, 0.0829644501209259, -0.6479172706604004], \"y\": [-0.6372824034006439, 0.3900788607354104, -0.1527993290905958, -0.6950403627239231, -0.10132444789684554, 0.8754602356500691, 0.32090740988350447], \"z\": [-0.7840711400019772, -0.8138717613984088, 0.16812153520758005, 0.8640582619799394, -0.1198777351198578, -0.14833186201366147, 0.8339727172339579], \"type\": \"scatter3d\"}, {\"marker\": {\"color\": \"blue\"}, \"mode\": \"lines\", \"name\": \"Reconstructed\", \"x\": [0.542816162109375, -0.42094847559928894, null, 0.542816162109375, 1.0467290878295898, null, -0.42094847559928894, -1.1518301963806152, null, -0.42094847559928894, 0.0829644501209259, null, -1.1518301963806152, -0.6479172706604004, null, 0.5481863021850586, 1.0467290878295898, null, 0.5481863021850586, -0.6479172706604004, null, 1.0467290878295898, 0.0829644501209259, null, 0.0829644501209259, -0.6479172706604004, null], \"y\": [-0.6372824034006439, 0.3900788607354104, null, -0.6372824034006439, -0.10132444789684554, null, 0.3900788607354104, -0.1527993290905958, null, 0.3900788607354104, 0.8754602356500691, null, -0.1527993290905958, 0.32090740988350447, null, -0.6950403627239231, -0.10132444789684554, null, -0.6950403627239231, 0.32090740988350447, null, -0.10132444789684554, 0.8754602356500691, null, 0.8754602356500691, 0.32090740988350447, null], \"z\": [-0.7840711400019772, -0.8138717613984088, null, -0.7840711400019772, -0.1198777351198578, null, -0.8138717613984088, 0.16812153520758005, null, -0.8138717613984088, -0.14833186201366147, null, 0.16812153520758005, 0.8339727172339579, null, 0.8640582619799394, -0.1198777351198578, null, 0.8640582619799394, 0.8339727172339579, null, -0.1198777351198578, -0.14833186201366147, null, -0.14833186201366147, 0.8339727172339579, null], \"type\": \"scatter3d\"}], \"traces\": [0, 1, 2, 3]}, {\"data\": [{\"marker\": {\"color\": \"red\"}, \"mode\": \"markers+text\", \"name\": \"Original\", \"text\": [\"0\", \"1\", \"2\", \"3\", \"4\", \"5\", \"6\"], \"x\": [0.542816162109375, -0.42094847559928894, -1.1518301963806152, 0.5481863021850586, 1.0467290878295898, 0.0829644501209259, -0.6479172706604004], \"y\": [-0.49868823428499276, 0.4096880834225149, -0.20360958860495615, -0.8519223306409346, -0.01964002290732555, 0.8887363233339169, 0.2754386203948998], \"z\": [-0.8432346821299832, -0.7729760571925427, 0.14822167050526705, 0.7797640297160566, -0.12449645618917078, -0.05423818773948375, 0.8669599261533923], \"type\": \"scatter3d\"}, {\"marker\": {\"color\": \"red\"}, \"mode\": \"lines\", \"name\": \"Original\", \"x\": [0.542816162109375, -0.42094847559928894, null, 0.542816162109375, 1.0467290878295898, null, -0.42094847559928894, -1.1518301963806152, null, -0.42094847559928894, 0.0829644501209259, null, -1.1518301963806152, -0.6479172706604004, null, 0.5481863021850586, 1.0467290878295898, null, 0.5481863021850586, -0.6479172706604004, null, 1.0467290878295898, 0.0829644501209259, null, 0.0829644501209259, -0.6479172706604004, null], \"y\": [-0.49868823428499276, 0.4096880834225149, null, -0.49868823428499276, -0.01964002290732555, null, 0.4096880834225149, -0.20360958860495615, null, 0.4096880834225149, 0.8887363233339169, null, -0.20360958860495615, 0.2754386203948998, null, -0.8519223306409346, -0.01964002290732555, null, -0.8519223306409346, 0.2754386203948998, null, -0.01964002290732555, 0.8887363233339169, null, 0.8887363233339169, 0.2754386203948998, null], \"z\": [-0.8432346821299832, -0.7729760571925427, null, -0.8432346821299832, -0.12449645618917078, null, -0.7729760571925427, 0.14822167050526705, null, -0.7729760571925427, -0.05423818773948375, null, 0.14822167050526705, 0.8669599261533923, null, 0.7797640297160566, -0.12449645618917078, null, 0.7797640297160566, 0.8669599261533923, null, -0.12449645618917078, -0.05423818773948375, null, -0.05423818773948375, 0.8669599261533923, null], \"type\": \"scatter3d\"}, {\"marker\": {\"color\": \"blue\"}, \"mode\": \"markers+text\", \"name\": \"Reconstructed\", \"text\": [\"0\", \"1\", \"2\", \"3\", \"4\", \"5\", \"6\"], \"x\": [0.542816162109375, -0.42094847559928894, -1.1518301963806152, 0.5481863021850586, 1.0467290878295898, 0.0829644501209259, -0.6479172706604004], \"y\": [-0.5503304167965017, 0.47437825244454, -0.16980391435314052, -0.7829465846753255, -0.0880082023385111, 0.8862672891530272, 0.230443538242865], \"z\": [-0.8473681883435853, -0.7677981734818393, 0.15092751982803235, 0.7852849364762066, -0.12996873254829813, -0.054435812387241996, 0.8633584623381183], \"type\": \"scatter3d\"}, {\"marker\": {\"color\": \"blue\"}, \"mode\": \"lines\", \"name\": \"Reconstructed\", \"x\": [0.542816162109375, -0.42094847559928894, null, 0.542816162109375, 1.0467290878295898, null, -0.42094847559928894, -1.1518301963806152, null, -0.42094847559928894, 0.0829644501209259, null, -1.1518301963806152, -0.6479172706604004, null, 0.5481863021850586, 1.0467290878295898, null, 0.5481863021850586, -0.6479172706604004, null, 1.0467290878295898, 0.0829644501209259, null, 0.0829644501209259, -0.6479172706604004, null], \"y\": [-0.5503304167965017, 0.47437825244454, null, -0.5503304167965017, -0.0880082023385111, null, 0.47437825244454, -0.16980391435314052, null, 0.47437825244454, 0.8862672891530272, null, -0.16980391435314052, 0.230443538242865, null, -0.7829465846753255, -0.0880082023385111, null, -0.7829465846753255, 0.230443538242865, null, -0.0880082023385111, 0.8862672891530272, null, 0.8862672891530272, 0.230443538242865, null], \"z\": [-0.8473681883435853, -0.7677981734818393, null, -0.8473681883435853, -0.12996873254829813, null, -0.7677981734818393, 0.15092751982803235, null, -0.7677981734818393, -0.054435812387241996, null, 0.15092751982803235, 0.8633584623381183, null, 0.7852849364762066, -0.12996873254829813, null, 0.7852849364762066, 0.8633584623381183, null, -0.12996873254829813, -0.054435812387241996, null, -0.054435812387241996, 0.8633584623381183, null], \"type\": \"scatter3d\"}], \"traces\": [0, 1, 2, 3]}, {\"data\": [{\"marker\": {\"color\": \"red\"}, \"mode\": \"markers+text\", \"name\": \"Original\", \"text\": [\"0\", \"1\", \"2\", \"3\", \"4\", \"5\", \"6\"], \"x\": [0.542816162109375, -0.42094847559928894, -1.1518301963806152, 0.5481863021850586, 1.0467290878295898, 0.0829644501209259, -0.6479172706604004], \"y\": [-0.4062327122225703, 0.4895294380193529, -0.2182110976128574, -0.9299798571333635, -0.006295595974586598, 0.8894666205317481, 0.181726013113092], \"z\": [-0.8914648998594572, -0.7250498189805987, 0.1257395922446206, 0.6847927166741143, -0.12587876538474296, 0.040535964058886466, 0.891325756005604], \"type\": \"scatter3d\"}, {\"marker\": {\"color\": \"red\"}, \"mode\": \"lines\", \"name\": \"Original\", \"x\": [0.542816162109375, -0.42094847559928894, null, 0.542816162109375, 1.0467290878295898, null, -0.42094847559928894, -1.1518301963806152, null, -0.42094847559928894, 0.0829644501209259, null, -1.1518301963806152, -0.6479172706604004, null, 0.5481863021850586, 1.0467290878295898, null, 0.5481863021850586, -0.6479172706604004, null, 1.0467290878295898, 0.0829644501209259, null, 0.0829644501209259, -0.6479172706604004, null], \"y\": [-0.4062327122225703, 0.4895294380193529, null, -0.4062327122225703, -0.006295595974586598, null, 0.4895294380193529, -0.2182110976128574, null, 0.4895294380193529, 0.8894666205317481, null, -0.2182110976128574, 0.181726013113092, null, -0.9299798571333635, -0.006295595974586598, null, -0.9299798571333635, 0.181726013113092, null, -0.006295595974586598, 0.8894666205317481, null, 0.8894666205317481, 0.181726013113092, null], \"z\": [-0.8914648998594572, -0.7250498189805987, null, -0.8914648998594572, -0.12587876538474296, null, -0.7250498189805987, 0.1257395922446206, null, -0.7250498189805987, 0.040535964058886466, null, 0.1257395922446206, 0.891325756005604, null, 0.6847927166741143, -0.12587876538474296, null, 0.6847927166741143, 0.891325756005604, null, -0.12587876538474296, 0.040535964058886466, null, 0.040535964058886466, 0.891325756005604, null], \"type\": \"scatter3d\"}, {\"marker\": {\"color\": \"blue\"}, \"mode\": \"markers+text\", \"name\": \"Reconstructed\", \"text\": [\"0\", \"1\", \"2\", \"3\", \"4\", \"5\", \"6\"], \"x\": [0.542816162109375, -0.42094847559928894, -1.1518301963806152, 0.5481863021850586, 1.0467290878295898, 0.0829644501209259, -0.6479172706604004], \"y\": [-0.4571429666691782, 0.5533027490015409, -0.18488455341586263, -0.8619817089727749, -0.07369478868138797, 0.8870325801354412, 0.13736864923336808], \"z\": [-0.9010642165201124, -0.7130251254631369, 0.13202343534125607, 0.6976140188582586, -0.13858713230409572, 0.04007701674497192, 0.8829620110834502], \"type\": \"scatter3d\"}, {\"marker\": {\"color\": \"blue\"}, \"mode\": \"lines\", \"name\": \"Reconstructed\", \"x\": [0.542816162109375, -0.42094847559928894, null, 0.542816162109375, 1.0467290878295898, null, -0.42094847559928894, -1.1518301963806152, null, -0.42094847559928894, 0.0829644501209259, null, -1.1518301963806152, -0.6479172706604004, null, 0.5481863021850586, 1.0467290878295898, null, 0.5481863021850586, -0.6479172706604004, null, 1.0467290878295898, 0.0829644501209259, null, 0.0829644501209259, -0.6479172706604004, null], \"y\": [-0.4571429666691782, 0.5533027490015409, null, -0.4571429666691782, -0.07369478868138797, null, 0.5533027490015409, -0.18488455341586263, null, 0.5533027490015409, 0.8870325801354412, null, -0.18488455341586263, 0.13736864923336808, null, -0.8619817089727749, -0.07369478868138797, null, -0.8619817089727749, 0.13736864923336808, null, -0.07369478868138797, 0.8870325801354412, null, 0.8870325801354412, 0.13736864923336808, null], \"z\": [-0.9010642165201124, -0.7130251254631369, null, -0.9010642165201124, -0.13858713230409572, null, -0.7130251254631369, 0.13202343534125607, null, -0.7130251254631369, 0.04007701674497192, null, 0.13202343534125607, 0.8829620110834502, null, 0.6976140188582586, -0.13858713230409572, null, 0.6976140188582586, 0.8829620110834502, null, -0.13858713230409572, 0.04007701674497192, null, 0.04007701674497192, 0.8829620110834502, null], \"type\": \"scatter3d\"}], \"traces\": [0, 1, 2, 3]}, {\"data\": [{\"marker\": {\"color\": \"red\"}, \"mode\": \"markers+text\", \"name\": \"Original\", \"text\": [\"0\", \"1\", \"2\", \"3\", \"4\", \"5\", \"6\"], \"x\": [0.542816162109375, -0.42094847559928894, -1.1518301963806152, 0.5481863021850586, 1.0467290878295898, 0.0829644501209259, -0.6479172706604004], \"y\": [-0.30917441120831035, 0.5638242284773931, -0.23034018769207446, -0.9975003402433752, 0.007120162576136944, 0.8801189055061263, 0.08595437748868233], \"z\": [-0.9295944640622235, -0.6689084766043969, 0.10183283416085084, 0.5820624285229685, -0.12583481786990344, 0.1348508271871201, 0.9055925088865711], \"type\": \"scatter3d\"}, {\"marker\": {\"color\": \"red\"}, \"mode\": \"lines\", \"name\": \"Original\", \"x\": [0.542816162109375, -0.42094847559928894, null, 0.542816162109375, 1.0467290878295898, null, -0.42094847559928894, -1.1518301963806152, null, -0.42094847559928894, 0.0829644501209259, null, -1.1518301963806152, -0.6479172706604004, null, 0.5481863021850586, 1.0467290878295898, null, 0.5481863021850586, -0.6479172706604004, null, 1.0467290878295898, 0.0829644501209259, null, 0.0829644501209259, -0.6479172706604004, null], \"y\": [-0.30917441120831035, 0.5638242284773931, null, -0.30917441120831035, 0.007120162576136944, null, 0.5638242284773931, -0.23034018769207446, null, 0.5638242284773931, 0.8801189055061263, null, -0.23034018769207446, 0.08595437748868233, null, -0.9975003402433752, 0.007120162576136944, null, -0.9975003402433752, 0.08595437748868233, null, 0.007120162576136944, 0.8801189055061263, null, 0.8801189055061263, 0.08595437748868233, null], \"z\": [-0.9295944640622235, -0.6689084766043969, null, -0.9295944640622235, -0.12583481786990344, null, -0.6689084766043969, 0.10183283416085084, null, -0.6689084766043969, 0.1348508271871201, null, 0.10183283416085084, 0.9055925088865711, null, 0.5820624285229685, -0.12583481786990344, null, 0.5820624285229685, 0.9055925088865711, null, -0.12583481786990344, 0.1348508271871201, null, 0.1348508271871201, 0.9055925088865711, null], \"type\": \"scatter3d\"}, {\"marker\": {\"color\": \"blue\"}, \"mode\": \"markers+text\", \"name\": \"Reconstructed\", \"text\": [\"0\", \"1\", \"2\", \"3\", \"4\", \"5\", \"6\"], \"x\": [0.542816162109375, -0.42094847559928894, -1.1518301963806152, 0.5481863021850586, 1.0467290878295898, 0.0829644501209259, -0.6479172706604004], \"y\": [-0.3587759040644316, 0.6259581043237937, -0.19787037661226387, -0.9312502360771479, -0.05854638362156125, 0.8777474375446854, 0.042737318538329884], \"z\": [-0.944550827076474, -0.6501732178625532, 0.11162347257817526, 0.6020388556542283, -0.1456352844742796, 0.13413575726350196, 0.8925612474294883], \"type\": \"scatter3d\"}, {\"marker\": {\"color\": \"blue\"}, \"mode\": \"lines\", \"name\": \"Reconstructed\", \"x\": [0.542816162109375, -0.42094847559928894, null, 0.542816162109375, 1.0467290878295898, null, -0.42094847559928894, -1.1518301963806152, null, -0.42094847559928894, 0.0829644501209259, null, -1.1518301963806152, -0.6479172706604004, null, 0.5481863021850586, 1.0467290878295898, null, 0.5481863021850586, -0.6479172706604004, null, 1.0467290878295898, 0.0829644501209259, null, 0.0829644501209259, -0.6479172706604004, null], \"y\": [-0.3587759040644316, 0.6259581043237937, null, -0.3587759040644316, -0.05854638362156125, null, 0.6259581043237937, -0.19787037661226387, null, 0.6259581043237937, 0.8777474375446854, null, -0.19787037661226387, 0.042737318538329884, null, -0.9312502360771479, -0.05854638362156125, null, -0.9312502360771479, 0.042737318538329884, null, -0.05854638362156125, 0.8777474375446854, null, 0.8777474375446854, 0.042737318538329884, null], \"z\": [-0.944550827076474, -0.6501732178625532, null, -0.944550827076474, -0.1456352844742796, null, -0.6501732178625532, 0.11162347257817526, null, -0.6501732178625532, 0.13413575726350196, null, 0.11162347257817526, 0.8925612474294883, null, 0.6020388556542283, -0.1456352844742796, null, 0.6020388556542283, 0.8925612474294883, null, -0.1456352844742796, 0.13413575726350196, null, 0.13413575726350196, 0.8925612474294883, null], \"type\": \"scatter3d\"}], \"traces\": [0, 1, 2, 3]}, {\"data\": [{\"marker\": {\"color\": \"red\"}, \"mode\": \"markers+text\", \"name\": \"Original\", \"text\": [\"0\", \"1\", \"2\", \"3\", \"4\", \"5\", \"6\"], \"x\": [0.542816162109375, -0.42094847559928894, -1.1518301963806152, 0.5481863021850586, 1.0467290878295898, 0.0829644501209259, -0.6479172706604004], \"y\": [-0.20861304057523378, 0.6317306651340538, -0.23985943140547125, -1.053718745917517, 0.020455246839800236, 0.860799091603449, -0.010791155578300656], \"z\": [-0.9571913515400635, -0.6051881339060015, 0.07677226937570267, 0.47273714047631177, -0.12436511158755592, 0.22763777655966713, 0.9095985367854469], \"type\": \"scatter3d\"}, {\"marker\": {\"color\": \"red\"}, \"mode\": \"lines\", \"name\": \"Original\", \"x\": [0.542816162109375, -0.42094847559928894, null, 0.542816162109375, 1.0467290878295898, null, -0.42094847559928894, -1.1518301963806152, null, -0.42094847559928894, 0.0829644501209259, null, -1.1518301963806152, -0.6479172706604004, null, 0.5481863021850586, 1.0467290878295898, null, 0.5481863021850586, -0.6479172706604004, null, 1.0467290878295898, 0.0829644501209259, null, 0.0829644501209259, -0.6479172706604004, null], \"y\": [-0.20861304057523378, 0.6317306651340538, null, -0.20861304057523378, 0.020455246839800236, null, 0.6317306651340538, -0.23985943140547125, null, 0.6317306651340538, 0.860799091603449, null, -0.23985943140547125, -0.010791155578300656, null, -1.053718745917517, 0.020455246839800236, null, -1.053718745917517, -0.010791155578300656, null, 0.020455246839800236, 0.860799091603449, null, 0.860799091603449, -0.010791155578300656, null], \"z\": [-0.9571913515400635, -0.6051881339060015, null, -0.9571913515400635, -0.12436511158755592, null, -0.6051881339060015, 0.07677226937570267, null, -0.6051881339060015, 0.22763777655966713, null, 0.07677226937570267, 0.9095985367854469, null, 0.47273714047631177, -0.12436511158755592, null, 0.47273714047631177, 0.9095985367854469, null, -0.12436511158755592, 0.22763777655966713, null, 0.22763777655966713, 0.9095985367854469, null], \"type\": \"scatter3d\"}, {\"marker\": {\"color\": \"blue\"}, \"mode\": \"markers+text\", \"name\": \"Reconstructed\", \"text\": [\"0\", \"1\", \"2\", \"3\", \"4\", \"5\", \"6\"], \"x\": [0.542816162109375, -0.42094847559928894, -1.1518301963806152, 0.5481863021850586, 1.0467290878295898, 0.0829644501209259, -0.6479172706604004], \"y\": [-0.2563437671070576, 0.6915211042038901, -0.20861424937665732, -0.9899673258980528, -0.042734624641354337, 0.858517065756468, -0.05237824305271358], \"z\": [-0.9773352993386987, -0.5799545879075505, 0.08995877126830716, 0.49964235165311477, -0.15103333067846286, 0.2266746860543074, 0.8920474081927717], \"type\": \"scatter3d\"}, {\"marker\": {\"color\": \"blue\"}, \"mode\": \"lines\", \"name\": \"Reconstructed\", \"x\": [0.542816162109375, -0.42094847559928894, null, 0.542816162109375, 1.0467290878295898, null, -0.42094847559928894, -1.1518301963806152, null, -0.42094847559928894, 0.0829644501209259, null, -1.1518301963806152, -0.6479172706604004, null, 0.5481863021850586, 1.0467290878295898, null, 0.5481863021850586, -0.6479172706604004, null, 1.0467290878295898, 0.0829644501209259, null, 0.0829644501209259, -0.6479172706604004, null], \"y\": [-0.2563437671070576, 0.6915211042038901, null, -0.2563437671070576, -0.042734624641354337, null, 0.6915211042038901, -0.20861424937665732, null, 0.6915211042038901, 0.858517065756468, null, -0.20861424937665732, -0.05237824305271358, null, -0.9899673258980528, -0.042734624641354337, null, -0.9899673258980528, -0.05237824305271358, null, -0.042734624641354337, 0.858517065756468, null, 0.858517065756468, -0.05237824305271358, null], \"z\": [-0.9773352993386987, -0.5799545879075505, null, -0.9773352993386987, -0.15103333067846286, null, -0.5799545879075505, 0.08995877126830716, null, -0.5799545879075505, 0.2266746860543074, null, 0.08995877126830716, 0.8920474081927717, null, 0.49964235165311477, -0.15103333067846286, null, 0.49964235165311477, 0.8920474081927717, null, -0.15103333067846286, 0.2266746860543074, null, 0.2266746860543074, 0.8920474081927717, null], \"type\": \"scatter3d\"}], \"traces\": [0, 1, 2, 3]}, {\"data\": [{\"marker\": {\"color\": \"red\"}, \"mode\": \"markers+text\", \"name\": \"Original\", \"text\": [\"0\", \"1\", \"2\", \"3\", \"4\", \"5\", \"6\"], \"x\": [0.542816162109375, -0.42094847559928894, -1.1518301963806152, 0.5481863021850586, 1.0467290878295898, 0.0829644501209259, -0.6479172706604004], \"y\": [-0.10568800083489836, 0.6924793409279799, -0.2466609719180783, -1.097998097155766, 0.033558564983266675, 0.8317260800350399, -0.10741442054065452], \"z\": [-0.973942878530697, -0.5346107678295425, 0.05084184410188547, 0.3580555517318816, -0.1214862988971442, 0.3178454989643528, 0.9032984498054099], \"type\": \"scatter3d\"}, {\"marker\": {\"color\": \"red\"}, \"mode\": \"lines\", \"name\": \"Original\", \"x\": [0.542816162109375, -0.42094847559928894, null, 0.542816162109375, 1.0467290878295898, null, -0.42094847559928894, -1.1518301963806152, null, -0.42094847559928894, 0.0829644501209259, null, -1.1518301963806152, -0.6479172706604004, null, 0.5481863021850586, 1.0467290878295898, null, 0.5481863021850586, -0.6479172706604004, null, 1.0467290878295898, 0.0829644501209259, null, 0.0829644501209259, -0.6479172706604004, null], \"y\": [-0.10568800083489836, 0.6924793409279799, null, -0.10568800083489836, 0.033558564983266675, null, 0.6924793409279799, -0.2466609719180783, null, 0.6924793409279799, 0.8317260800350399, null, -0.2466609719180783, -0.10741442054065452, null, -1.097998097155766, 0.033558564983266675, null, -1.097998097155766, -0.10741442054065452, null, 0.033558564983266675, 0.8317260800350399, null, 0.8317260800350399, -0.10741442054065452, null], \"z\": [-0.973942878530697, -0.5346107678295425, null, -0.973942878530697, -0.1214862988971442, null, -0.5346107678295425, 0.05084184410188547, null, -0.5346107678295425, 0.3178454989643528, null, 0.05084184410188547, 0.9032984498054099, null, 0.3580555517318816, -0.1214862988971442, null, 0.3580555517318816, 0.9032984498054099, null, -0.1214862988971442, 0.3178454989643528, null, 0.3178454989643528, 0.9032984498054099, null], \"type\": \"scatter3d\"}, {\"marker\": {\"color\": \"blue\"}, \"mode\": \"markers+text\", \"name\": \"Reconstructed\", \"text\": [\"0\", \"1\", \"2\", \"3\", \"4\", \"5\", \"6\"], \"x\": [0.542816162109375, -0.42094847559928894, -1.1518301963806152, 0.5481863021850586, 1.0467290878295898, 0.0829644501209259, -0.6479172706604004], \"y\": [-0.15100715283858862, 0.7492488936555435, -0.21699443933758872, -1.0374676903456603, -0.026438665288071293, 0.8295593525672162, -0.14690033822068582], \"z\": [-0.9990461721360451, -0.5031648407334602, 0.067274801134268, 0.3915847001608176, -0.15472010889620227, 0.3166453000775087, 0.8814263153771725], \"type\": \"scatter3d\"}, {\"marker\": {\"color\": \"blue\"}, \"mode\": \"lines\", \"name\": \"Reconstructed\", \"x\": [0.542816162109375, -0.42094847559928894, null, 0.542816162109375, 1.0467290878295898, null, -0.42094847559928894, -1.1518301963806152, null, -0.42094847559928894, 0.0829644501209259, null, -1.1518301963806152, -0.6479172706604004, null, 0.5481863021850586, 1.0467290878295898, null, 0.5481863021850586, -0.6479172706604004, null, 1.0467290878295898, 0.0829644501209259, null, 0.0829644501209259, -0.6479172706604004, null], \"y\": [-0.15100715283858862, 0.7492488936555435, null, -0.15100715283858862, -0.026438665288071293, null, 0.7492488936555435, -0.21699443933758872, null, 0.7492488936555435, 0.8295593525672162, null, -0.21699443933758872, -0.14690033822068582, null, -1.0374676903456603, -0.026438665288071293, null, -1.0374676903456603, -0.14690033822068582, null, -0.026438665288071293, 0.8295593525672162, null, 0.8295593525672162, -0.14690033822068582, null], \"z\": [-0.9990461721360451, -0.5031648407334602, null, -0.9990461721360451, -0.15472010889620227, null, -0.5031648407334602, 0.067274801134268, null, -0.5031648407334602, 0.3166453000775087, null, 0.067274801134268, 0.8814263153771725, null, 0.3915847001608176, -0.15472010889620227, null, 0.3915847001608176, 0.8814263153771725, null, -0.15472010889620227, 0.3166453000775087, null, 0.3166453000775087, 0.8814263153771725, null], \"type\": \"scatter3d\"}], \"traces\": [0, 1, 2, 3]}, {\"data\": [{\"marker\": {\"color\": \"red\"}, \"mode\": \"markers+text\", \"name\": \"Original\", \"text\": [\"0\", \"1\", \"2\", \"3\", \"4\", \"5\", \"6\"], \"x\": [0.542816162109375, -0.42094847559928894, -1.1518301963806152, 0.5481863021850586, 1.0467290878295898, 0.0829644501209259, -0.6479172706604004], \"y\": [-0.0015654738143211643, 0.7453819490884868, -0.25066774505812994, -1.1298366912154616, 0.0462816511761505, 0.7932292796389548, -0.202820637197658], \"z\": [-0.9796592435397495, -0.45797604813395093, 0.024335360419023802, 0.23931705051459007, -0.11723099789676585, 0.404451904861155, 0.8867636304493306], \"type\": \"scatter3d\"}, {\"marker\": {\"color\": \"red\"}, \"mode\": \"lines\", \"name\": \"Original\", \"x\": [0.542816162109375, -0.42094847559928894, null, 0.542816162109375, 1.0467290878295898, null, -0.42094847559928894, -1.1518301963806152, null, -0.42094847559928894, 0.0829644501209259, null, -1.1518301963806152, -0.6479172706604004, null, 0.5481863021850586, 1.0467290878295898, null, 0.5481863021850586, -0.6479172706604004, null, 1.0467290878295898, 0.0829644501209259, null, 0.0829644501209259, -0.6479172706604004, null], \"y\": [-0.0015654738143211643, 0.7453819490884868, null, -0.0015654738143211643, 0.0462816511761505, null, 0.7453819490884868, -0.25066774505812994, null, 0.7453819490884868, 0.7932292796389548, null, -0.25066774505812994, -0.202820637197658, null, -1.1298366912154616, 0.0462816511761505, null, -1.1298366912154616, -0.202820637197658, null, 0.0462816511761505, 0.7932292796389548, null, 0.7932292796389548, -0.202820637197658, null], \"z\": [-0.9796592435397495, -0.45797604813395093, null, -0.9796592435397495, -0.11723099789676585, null, -0.45797604813395093, 0.024335360419023802, null, -0.45797604813395093, 0.404451904861155, null, 0.024335360419023802, 0.8867636304493306, null, 0.23931705051459007, -0.11723099789676585, null, 0.23931705051459007, 0.8867636304493306, null, -0.11723099789676585, 0.404451904861155, null, 0.404451904861155, 0.8867636304493306, null], \"type\": \"scatter3d\"}, {\"marker\": {\"color\": \"blue\"}, \"mode\": \"markers+text\", \"name\": \"Reconstructed\", \"text\": [\"0\", \"1\", \"2\", \"3\", \"4\", \"5\", \"6\"], \"x\": [0.542816162109375, -0.42094847559928894, -1.1518301963806152, 0.5481863021850586, 1.0467290878295898, 0.0829644501209259, -0.6479172706604004], \"y\": [-0.043959567189061674, 0.798487393757412, -0.22291599559424666, -1.0732131313105961, -0.009843145292719782, 0.7912024004382794, -0.23975799385822077], \"z\": [-1.0094374526044947, -0.42067403485939076, 0.04382858062173101, 0.27909023754639134, -0.15665384645712907, 0.40302819632578957, 0.8608183102082646], \"type\": \"scatter3d\"}, {\"marker\": {\"color\": \"blue\"}, \"mode\": \"lines\", \"name\": \"Reconstructed\", \"x\": [0.542816162109375, -0.42094847559928894, null, 0.542816162109375, 1.0467290878295898, null, -0.42094847559928894, -1.1518301963806152, null, -0.42094847559928894, 0.0829644501209259, null, -1.1518301963806152, -0.6479172706604004, null, 0.5481863021850586, 1.0467290878295898, null, 0.5481863021850586, -0.6479172706604004, null, 1.0467290878295898, 0.0829644501209259, null, 0.0829644501209259, -0.6479172706604004, null], \"y\": [-0.043959567189061674, 0.798487393757412, null, -0.043959567189061674, -0.009843145292719782, null, 0.798487393757412, -0.22291599559424666, null, 0.798487393757412, 0.7912024004382794, null, -0.22291599559424666, -0.23975799385822077, null, -1.0732131313105961, -0.009843145292719782, null, -1.0732131313105961, -0.23975799385822077, null, -0.009843145292719782, 0.7912024004382794, null, 0.7912024004382794, -0.23975799385822077, null], \"z\": [-1.0094374526044947, -0.42067403485939076, null, -1.0094374526044947, -0.15665384645712907, null, -0.42067403485939076, 0.04382858062173101, null, -0.42067403485939076, 0.40302819632578957, null, 0.04382858062173101, 0.8608183102082646, null, 0.27909023754639134, -0.15665384645712907, null, 0.27909023754639134, 0.8608183102082646, null, -0.15665384645712907, 0.40302819632578957, null, 0.40302819632578957, 0.8608183102082646, null], \"type\": \"scatter3d\"}], \"traces\": [0, 1, 2, 3]}, {\"data\": [{\"marker\": {\"color\": \"red\"}, \"mode\": \"markers+text\", \"name\": \"Original\", \"text\": [\"0\", \"1\", \"2\", \"3\", \"4\", \"5\", \"6\"], \"x\": [0.542816162109375, -0.42094847559928894, -1.1518301963806152, 0.5481863021850586, 1.0467290878295898, 0.0829644501209259, -0.6479172706604004], \"y\": [0.10257479065010403, 0.7898390819263063, -0.25183435248492425, -1.1488737841038508, 0.05848034776799907, 0.7457448745462224, -0.29592881499219753], \"z\": [-0.9742756778675249, -0.37615227681505803, -0.0024468526213020643, 0.11786699148872672, -0.11164742284708715, 0.48647570906509924, 0.8601814248274923], \"type\": \"scatter3d\"}, {\"marker\": {\"color\": \"red\"}, \"mode\": \"lines\", \"name\": \"Original\", \"x\": [0.542816162109375, -0.42094847559928894, null, 0.542816162109375, 1.0467290878295898, null, -0.42094847559928894, -1.1518301963806152, null, -0.42094847559928894, 0.0829644501209259, null, -1.1518301963806152, -0.6479172706604004, null, 0.5481863021850586, 1.0467290878295898, null, 0.5481863021850586, -0.6479172706604004, null, 1.0467290878295898, 0.0829644501209259, null, 0.0829644501209259, -0.6479172706604004, null], \"y\": [0.10257479065010403, 0.7898390819263063, null, 0.10257479065010403, 0.05848034776799907, null, 0.7898390819263063, -0.25183435248492425, null, 0.7898390819263063, 0.7457448745462224, null, -0.25183435248492425, -0.29592881499219753, null, -1.1488737841038508, 0.05848034776799907, null, -1.1488737841038508, -0.29592881499219753, null, 0.05848034776799907, 0.7457448745462224, null, 0.7457448745462224, -0.29592881499219753, null], \"z\": [-0.9742756778675249, -0.37615227681505803, null, -0.9742756778675249, -0.11164742284708715, null, -0.37615227681505803, -0.0024468526213020643, null, -0.37615227681505803, 0.48647570906509924, null, -0.0024468526213020643, 0.8601814248274923, null, 0.11786699148872672, -0.11164742284708715, null, 0.11786699148872672, 0.8601814248274923, null, -0.11164742284708715, 0.48647570906509924, null, 0.48647570906509924, 0.8601814248274923, null], \"type\": \"scatter3d\"}, {\"marker\": {\"color\": \"blue\"}, \"mode\": \"markers+text\", \"name\": \"Reconstructed\", \"text\": [\"0\", \"1\", \"2\", \"3\", \"4\", \"5\", \"6\"], \"x\": [0.542816162109375, -0.42094847559928894, -1.1518301963806152, 0.5481863021850586, 1.0467290878295898, 0.0829644501209259, -0.6479172706604004], \"y\": [0.06358609792206926, 0.8386787126286352, -0.22631182454810944, -1.0967986386635746, 0.0068639014719195516, 0.7438808089639386, -0.3298990956229087], \"z\": [-1.008391403384195, -0.33341682407754897, 0.01988576477773758, 0.16343357102176378, -0.15681263334199558, 0.4848446220678032, 0.8304568896191528], \"type\": \"scatter3d\"}, {\"marker\": {\"color\": \"blue\"}, \"mode\": \"lines\", \"name\": \"Reconstructed\", \"x\": [0.542816162109375, -0.42094847559928894, null, 0.542816162109375, 1.0467290878295898, null, -0.42094847559928894, -1.1518301963806152, null, -0.42094847559928894, 0.0829644501209259, null, -1.1518301963806152, -0.6479172706604004, null, 0.5481863021850586, 1.0467290878295898, null, 0.5481863021850586, -0.6479172706604004, null, 1.0467290878295898, 0.0829644501209259, null, 0.0829644501209259, -0.6479172706604004, null], \"y\": [0.06358609792206926, 0.8386787126286352, null, 0.06358609792206926, 0.0068639014719195516, null, 0.8386787126286352, -0.22631182454810944, null, 0.8386787126286352, 0.7438808089639386, null, -0.22631182454810944, -0.3298990956229087, null, -1.0967986386635746, 0.0068639014719195516, null, -1.0967986386635746, -0.3298990956229087, null, 0.0068639014719195516, 0.7438808089639386, null, 0.7438808089639386, -0.3298990956229087, null], \"z\": [-1.008391403384195, -0.33341682407754897, null, -1.008391403384195, -0.15681263334199558, null, -0.33341682407754897, 0.01988576477773758, null, -0.33341682407754897, 0.4848446220678032, null, 0.01988576477773758, 0.8304568896191528, null, 0.16343357102176378, -0.15681263334199558, null, 0.16343357102176378, 0.8304568896191528, null, -0.15681263334199558, 0.4848446220678032, null, 0.4848446220678032, 0.8304568896191528, null], \"type\": \"scatter3d\"}], \"traces\": [0, 1, 2, 3]}, {\"data\": [{\"marker\": {\"color\": \"red\"}, \"mode\": \"markers+text\", \"name\": \"Original\", \"text\": [\"0\", \"1\", \"2\", \"3\", \"4\", \"5\", \"6\"], \"x\": [0.542816162109375, -0.42094847559928894, -1.1518301963806152, 0.5481863021850586, 1.0467290878295898, 0.0829644501209259, -0.6479172706604004], \"y\": [0.20555284174965677, 0.8253470223622171, -0.2501475760701628, -1.1548936779516719, 0.0700164386520749, 0.6898108820403488, -0.38568400106572076], \"z\": [-0.9578531794642529, -0.2900665498970268, -0.029201341843715894, -0.0049185476479639756, -0.10479883788450436, 0.5629875490995054, 0.8238530199513007], \"type\": \"scatter3d\"}, {\"marker\": {\"color\": \"red\"}, \"mode\": \"lines\", \"name\": \"Original\", \"x\": [0.542816162109375, -0.42094847559928894, null, 0.542816162109375, 1.0467290878295898, null, -0.42094847559928894, -1.1518301963806152, null, -0.42094847559928894, 0.0829644501209259, null, -1.1518301963806152, -0.6479172706604004, null, 0.5481863021850586, 1.0467290878295898, null, 0.5481863021850586, -0.6479172706604004, null, 1.0467290878295898, 0.0829644501209259, null, 0.0829644501209259, -0.6479172706604004, null], \"y\": [0.20555284174965677, 0.8253470223622171, null, 0.20555284174965677, 0.0700164386520749, null, 0.8253470223622171, -0.2501475760701628, null, 0.8253470223622171, 0.6898108820403488, null, -0.2501475760701628, -0.38568400106572076, null, -1.1548936779516719, 0.0700164386520749, null, -1.1548936779516719, -0.38568400106572076, null, 0.0700164386520749, 0.6898108820403488, null, 0.6898108820403488, -0.38568400106572076, null], \"z\": [-0.9578531794642529, -0.2900665498970268, null, -0.9578531794642529, -0.10479883788450436, null, -0.2900665498970268, -0.029201341843715894, null, -0.2900665498970268, 0.5629875490995054, null, -0.029201341843715894, 0.8238530199513007, null, -0.0049185476479639756, -0.10479883788450436, null, -0.0049185476479639756, 0.8238530199513007, null, -0.10479883788450436, 0.5629875490995054, null, 0.5629875490995054, 0.8238530199513007, null], \"type\": \"scatter3d\"}, {\"marker\": {\"color\": \"blue\"}, \"mode\": \"markers+text\", \"name\": \"Reconstructed\", \"text\": [\"0\", \"1\", \"2\", \"3\", \"4\", \"5\", \"6\"], \"x\": [0.542816162109375, -0.42094847559928894, -1.1518301963806152, 0.5481863021850586, 1.0467290878295898, 0.0829644501209259, -0.6479172706604004], \"y\": [0.17041130713602753, 0.8693674665667662, -0.22714345010022532, -1.1079569791819954, 0.023493177490206178, 0.6881307506843467, -0.416302308813199], \"z\": [-0.9959198766307918, -0.24238186745230533, -0.004282364727136071, 0.045925136832718226, -0.15519467043194823, 0.5611675645077074, 0.7906860606369197], \"type\": \"scatter3d\"}, {\"marker\": {\"color\": \"blue\"}, \"mode\": \"lines\", \"name\": \"Reconstructed\", \"x\": [0.542816162109375, -0.42094847559928894, null, 0.542816162109375, 1.0467290878295898, null, -0.42094847559928894, -1.1518301963806152, null, -0.42094847559928894, 0.0829644501209259, null, -1.1518301963806152, -0.6479172706604004, null, 0.5481863021850586, 1.0467290878295898, null, 0.5481863021850586, -0.6479172706604004, null, 1.0467290878295898, 0.0829644501209259, null, 0.0829644501209259, -0.6479172706604004, null], \"y\": [0.17041130713602753, 0.8693674665667662, null, 0.17041130713602753, 0.023493177490206178, null, 0.8693674665667662, -0.22714345010022532, null, 0.8693674665667662, 0.6881307506843467, null, -0.22714345010022532, -0.416302308813199, null, -1.1079569791819954, 0.023493177490206178, null, -1.1079569791819954, -0.416302308813199, null, 0.023493177490206178, 0.6881307506843467, null, 0.6881307506843467, -0.416302308813199, null], \"z\": [-0.9959198766307918, -0.24238186745230533, null, -0.9959198766307918, -0.15519467043194823, null, -0.24238186745230533, -0.004282364727136071, null, -0.24238186745230533, 0.5611675645077074, null, -0.004282364727136071, 0.7906860606369197, null, 0.045925136832718226, -0.15519467043194823, null, 0.045925136832718226, 0.7906860606369197, null, -0.15519467043194823, 0.5611675645077074, null, 0.5611675645077074, 0.7906860606369197, null], \"type\": \"scatter3d\"}], \"traces\": [0, 1, 2, 3]}, {\"data\": [{\"marker\": {\"color\": \"red\"}, \"mode\": \"markers+text\", \"name\": \"Original\", \"text\": [\"0\", \"1\", \"2\", \"3\", \"4\", \"5\", \"6\"], \"x\": [0.542816162109375, -0.42094847559928894, -1.1518301963806152, 0.5481863021850586, 1.0467290878295898, 0.0829644501209259, -0.6479172706604004], \"y\": [0.3062018970174376, 0.8515034512428271, -0.24562652766462656, -1.1478281649562012, 0.08075921530907333, 0.626061056606515, -0.47106923329566186], \"z\": [-0.9305778217989402, -0.20069425306394992, -0.05562496819477622, -0.12764835767445123, -0.09676284021319924, 0.6331205152442037, 0.778190031164097], \"type\": \"scatter3d\"}, {\"marker\": {\"color\": \"red\"}, \"mode\": \"lines\", \"name\": \"Original\", \"x\": [0.542816162109375, -0.42094847559928894, null, 0.542816162109375, 1.0467290878295898, null, -0.42094847559928894, -1.1518301963806152, null, -0.42094847559928894, 0.0829644501209259, null, -1.1518301963806152, -0.6479172706604004, null, 0.5481863021850586, 1.0467290878295898, null, 0.5481863021850586, -0.6479172706604004, null, 1.0467290878295898, 0.0829644501209259, null, 0.0829644501209259, -0.6479172706604004, null], \"y\": [0.3062018970174376, 0.8515034512428271, null, 0.3062018970174376, 0.08075921530907333, null, 0.8515034512428271, -0.24562652766462656, null, 0.8515034512428271, 0.626061056606515, null, -0.24562652766462656, -0.47106923329566186, null, -1.1478281649562012, 0.08075921530907333, null, -1.1478281649562012, -0.47106923329566186, null, 0.08075921530907333, 0.626061056606515, null, 0.626061056606515, -0.47106923329566186, null], \"z\": [-0.9305778217989402, -0.20069425306394992, null, -0.9305778217989402, -0.09676284021319924, null, -0.20069425306394992, -0.05562496819477622, null, -0.20069425306394992, 0.6331205152442037, null, -0.05562496819477622, 0.778190031164097, null, -0.12764835767445123, -0.09676284021319924, null, -0.12764835767445123, 0.778190031164097, null, -0.09676284021319924, 0.6331205152442037, null, 0.6331205152442037, 0.778190031164097, null], \"type\": \"scatter3d\"}, {\"marker\": {\"color\": \"blue\"}, \"mode\": \"markers+text\", \"name\": \"Reconstructed\", \"text\": [\"0\", \"1\", \"2\", \"3\", \"4\", \"5\", \"6\"], \"x\": [0.542816162109375, -0.42094847559928894, -1.1518301963806152, 0.5481863021850586, 1.0467290878295898, 0.0829644501209259, -0.6479172706604004], \"y\": [0.2753056881472311, 0.8902059397270817, -0.22540144960078817, -1.1065617244091381, 0.03985626642013132, 0.6245838960364045, -0.49798865049867325], \"z\": [-0.9721641797257707, -0.14860062741794708, -0.028401973328505116, -0.07210364750739552, -0.1518182898932631, 0.6311322542105579, 0.741956442645551], \"type\": \"scatter3d\"}, {\"marker\": {\"color\": \"blue\"}, \"mode\": \"lines\", \"name\": \"Reconstructed\", \"x\": [0.542816162109375, -0.42094847559928894, null, 0.542816162109375, 1.0467290878295898, null, -0.42094847559928894, -1.1518301963806152, null, -0.42094847559928894, 0.0829644501209259, null, -1.1518301963806152, -0.6479172706604004, null, 0.5481863021850586, 1.0467290878295898, null, 0.5481863021850586, -0.6479172706604004, null, 1.0467290878295898, 0.0829644501209259, null, 0.0829644501209259, -0.6479172706604004, null], \"y\": [0.2753056881472311, 0.8902059397270817, null, 0.2753056881472311, 0.03985626642013132, null, 0.8902059397270817, -0.22540144960078817, null, 0.8902059397270817, 0.6245838960364045, null, -0.22540144960078817, -0.49798865049867325, null, -1.1065617244091381, 0.03985626642013132, null, -1.1065617244091381, -0.49798865049867325, null, 0.03985626642013132, 0.6245838960364045, null, 0.6245838960364045, -0.49798865049867325, null], \"z\": [-0.9721641797257707, -0.14860062741794708, null, -0.9721641797257707, -0.1518182898932631, null, -0.14860062741794708, -0.028401973328505116, null, -0.14860062741794708, 0.6311322542105579, null, -0.028401973328505116, 0.741956442645551, null, -0.07210364750739552, -0.1518182898932631, null, -0.07210364750739552, 0.741956442645551, null, -0.1518182898932631, 0.6311322542105579, null, 0.6311322542105579, 0.741956442645551, null], \"type\": \"scatter3d\"}], \"traces\": [0, 1, 2, 3]}, {\"data\": [{\"marker\": {\"color\": \"red\"}, \"mode\": \"markers+text\", \"name\": \"Original\", \"text\": [\"0\", \"1\", \"2\", \"3\", \"4\", \"5\", \"6\"], \"x\": [0.542816162109375, -0.42094847559928894, -1.1518301963806152, 0.5481863021850586, 1.0467290878295898, 0.0829644501209259, -0.6479172706604004], \"y\": [0.4033815624399418, 0.8680120057773405, -0.23832243255326951, -1.1277573002029133, 0.09058695778687496, 0.5552177092400236, -0.5511170628826488], \"z\": [-0.8927586455726144, -0.10904801015030306, -0.08141834142958043, -0.2489318608027923, -0.08763048089780932, 0.6960799729690639, 0.7237098383748445], \"type\": \"scatter3d\"}, {\"marker\": {\"color\": \"red\"}, \"mode\": \"lines\", \"name\": \"Original\", \"x\": [0.542816162109375, -0.42094847559928894, null, 0.542816162109375, 1.0467290878295898, null, -0.42094847559928894, -1.1518301963806152, null, -0.42094847559928894, 0.0829644501209259, null, -1.1518301963806152, -0.6479172706604004, null, 0.5481863021850586, 1.0467290878295898, null, 0.5481863021850586, -0.6479172706604004, null, 1.0467290878295898, 0.0829644501209259, null, 0.0829644501209259, -0.6479172706604004, null], \"y\": [0.4033815624399418, 0.8680120057773405, null, 0.4033815624399418, 0.09058695778687496, null, 0.8680120057773405, -0.23832243255326951, null, 0.8680120057773405, 0.5552177092400236, null, -0.23832243255326951, -0.5511170628826488, null, -1.1277573002029133, 0.09058695778687496, null, -1.1277573002029133, -0.5511170628826488, null, 0.09058695778687496, 0.5552177092400236, null, 0.5552177092400236, -0.5511170628826488, null], \"z\": [-0.8927586455726144, -0.10904801015030306, null, -0.8927586455726144, -0.08763048089780932, null, -0.10904801015030306, -0.08141834142958043, null, -0.10904801015030306, 0.6960799729690639, null, -0.08141834142958043, 0.7237098383748445, null, -0.2489318608027923, -0.08763048089780932, null, -0.2489318608027923, 0.7237098383748445, null, -0.08763048089780932, 0.6960799729690639, null, 0.6960799729690639, 0.7237098383748445, null], \"type\": \"scatter3d\"}, {\"marker\": {\"color\": \"blue\"}, \"mode\": \"markers+text\", \"name\": \"Reconstructed\", \"text\": [\"0\", \"1\", \"2\", \"3\", \"4\", \"5\", \"6\"], \"x\": [0.542816162109375, -0.42094847559928894, -1.1518301963806152, 0.5481863021850586, 1.0467290878295898, 0.0829644501209259, -0.6479172706604004], \"y\": [0.37708074570515615, 0.9009580238820443, -0.22110556061152464, -1.092628683139095, 0.05576776792576053, 0.5539602562753075, -0.5740325817878299], \"z\": [-0.93739347420736, -0.053135682897144675, -0.0521997762232097, -0.18931546871009589, -0.1467217474665766, 0.6939459632855501, 0.684820161688256], \"type\": \"scatter3d\"}, {\"marker\": {\"color\": \"blue\"}, \"mode\": \"lines\", \"name\": \"Reconstructed\", \"x\": [0.542816162109375, -0.42094847559928894, null, 0.542816162109375, 1.0467290878295898, null, -0.42094847559928894, -1.1518301963806152, null, -0.42094847559928894, 0.0829644501209259, null, -1.1518301963806152, -0.6479172706604004, null, 0.5481863021850586, 1.0467290878295898, null, 0.5481863021850586, -0.6479172706604004, null, 1.0467290878295898, 0.0829644501209259, null, 0.0829644501209259, -0.6479172706604004, null], \"y\": [0.37708074570515615, 0.9009580238820443, null, 0.37708074570515615, 0.05576776792576053, null, 0.9009580238820443, -0.22110556061152464, null, 0.9009580238820443, 0.5539602562753075, null, -0.22110556061152464, -0.5740325817878299, null, -1.092628683139095, 0.05576776792576053, null, -1.092628683139095, -0.5740325817878299, null, 0.05576776792576053, 0.5539602562753075, null, 0.5539602562753075, -0.5740325817878299, null], \"z\": [-0.93739347420736, -0.053135682897144675, null, -0.93739347420736, -0.1467217474665766, null, -0.053135682897144675, -0.0521997762232097, null, -0.053135682897144675, 0.6939459632855501, null, -0.0521997762232097, 0.684820161688256, null, -0.18931546871009589, -0.1467217474665766, null, -0.18931546871009589, 0.684820161688256, null, -0.1467217474665766, 0.6939459632855501, null, 0.6939459632855501, 0.684820161688256, null], \"type\": \"scatter3d\"}], \"traces\": [0, 1, 2, 3]}, {\"data\": [{\"marker\": {\"color\": \"red\"}, \"mode\": \"markers+text\", \"name\": \"Original\", \"text\": [\"0\", \"1\", \"2\", \"3\", \"4\", \"5\", \"6\"], \"x\": [0.542816162109375, -0.42094847559928894, -1.1518301963806152, 0.5481863021850586, 1.0467290878295898, 0.0829644501209259, -0.6479172706604004], \"y\": [0.4959907535769065, 0.8746856374463973, -0.2283180490522717, -1.094908494609374, 0.09938831383623946, 0.47808352337410315, -0.6249205159319698], \"z\": [-0.8448241571636964, -0.016166209708279974, -0.10628921232286875, -0.3673948664801121, -0.0775052332184838, 0.7511525664607392, 0.6610297239370266], \"type\": \"scatter3d\"}, {\"marker\": {\"color\": \"red\"}, \"mode\": \"lines\", \"name\": \"Original\", \"x\": [0.542816162109375, -0.42094847559928894, null, 0.542816162109375, 1.0467290878295898, null, -0.42094847559928894, -1.1518301963806152, null, -0.42094847559928894, 0.0829644501209259, null, -1.1518301963806152, -0.6479172706604004, null, 0.5481863021850586, 1.0467290878295898, null, 0.5481863021850586, -0.6479172706604004, null, 1.0467290878295898, 0.0829644501209259, null, 0.0829644501209259, -0.6479172706604004, null], \"y\": [0.4959907535769065, 0.8746856374463973, null, 0.4959907535769065, 0.09938831383623946, null, 0.8746856374463973, -0.2283180490522717, null, 0.8746856374463973, 0.47808352337410315, null, -0.2283180490522717, -0.6249205159319698, null, -1.094908494609374, 0.09938831383623946, null, -1.094908494609374, -0.6249205159319698, null, 0.09938831383623946, 0.47808352337410315, null, 0.47808352337410315, -0.6249205159319698, null], \"z\": [-0.8448241571636964, -0.016166209708279974, null, -0.8448241571636964, -0.0775052332184838, null, -0.016166209708279974, -0.10628921232286875, null, -0.016166209708279974, 0.7511525664607392, null, -0.10628921232286875, 0.6610297239370266, null, -0.3673948664801121, -0.0775052332184838, null, -0.3673948664801121, 0.6610297239370266, null, -0.0775052332184838, 0.7511525664607392, null, 0.7511525664607392, 0.6610297239370266, null], \"type\": \"scatter3d\"}, {\"marker\": {\"color\": \"blue\"}, \"mode\": \"markers+text\", \"name\": \"Reconstructed\", \"text\": [\"0\", \"1\", \"2\", \"3\", \"4\", \"5\", \"6\"], \"x\": [0.542816162109375, -0.42094847559928894, -1.1518301963806152, 0.5481863021850586, 1.0467290878295898, 0.0829644501209259, -0.6479172706604004], \"y\": [0.4745833277404199, 0.9015018936218631, -0.2143044572712333, -1.0663157222968165, 0.07104739833712131, 0.47706002545932447, -0.6435724945535481], \"z\": [-0.8920017260627527, 0.04293131014282325, -0.07540613479533287, -0.30438227000568685, -0.1399627890140582, 0.7488969873097789, 0.619924594658781], \"type\": \"scatter3d\"}, {\"marker\": {\"color\": \"blue\"}, \"mode\": \"lines\", \"name\": \"Reconstructed\", \"x\": [0.542816162109375, -0.42094847559928894, null, 0.542816162109375, 1.0467290878295898, null, -0.42094847559928894, -1.1518301963806152, null, -0.42094847559928894, 0.0829644501209259, null, -1.1518301963806152, -0.6479172706604004, null, 0.5481863021850586, 1.0467290878295898, null, 0.5481863021850586, -0.6479172706604004, null, 1.0467290878295898, 0.0829644501209259, null, 0.0829644501209259, -0.6479172706604004, null], \"y\": [0.4745833277404199, 0.9015018936218631, null, 0.4745833277404199, 0.07104739833712131, null, 0.9015018936218631, -0.2143044572712333, null, 0.9015018936218631, 0.47706002545932447, null, -0.2143044572712333, -0.6435724945535481, null, -1.0663157222968165, 0.07104739833712131, null, -1.0663157222968165, -0.6435724945535481, null, 0.07104739833712131, 0.47706002545932447, null, 0.47706002545932447, -0.6435724945535481, null], \"z\": [-0.8920017260627527, 0.04293131014282325, null, -0.8920017260627527, -0.1399627890140582, null, 0.04293131014282325, -0.07540613479533287, null, 0.04293131014282325, 0.7488969873097789, null, -0.07540613479533287, 0.619924594658781, null, -0.30438227000568685, -0.1399627890140582, null, -0.30438227000568685, 0.619924594658781, null, -0.1399627890140582, 0.7488969873097789, null, 0.7488969873097789, 0.619924594658781, null], \"type\": \"scatter3d\"}], \"traces\": [0, 1, 2, 3]}, {\"data\": [{\"marker\": {\"color\": \"red\"}, \"mode\": \"markers+text\", \"name\": \"Original\", \"text\": [\"0\", \"1\", \"2\", \"3\", \"4\", \"5\", \"6\"], \"x\": [0.542816162109375, -0.42094847559928894, -1.1518301963806152, 0.5481863021850586, 1.0467290878295898, 0.0829644501209259, -0.6479172706604004], \"y\": [0.5829801712879956, 0.8714487313365393, -0.2157267308242483, -1.0496539382686745, 0.10706356057628419, 0.395532460155871, -0.6916433698302132], \"z\": [-0.7873174734795088, 0.07689876034942748, -0.12995578396952465, -0.4816951415166722, -0.066501820277273, 0.797714301229078, 0.5908598785929265], \"type\": \"scatter3d\"}, {\"marker\": {\"color\": \"red\"}, \"mode\": \"lines\", \"name\": \"Original\", \"x\": [0.542816162109375, -0.42094847559928894, null, 0.542816162109375, 1.0467290878295898, null, -0.42094847559928894, -1.1518301963806152, null, -0.42094847559928894, 0.0829644501209259, null, -1.1518301963806152, -0.6479172706604004, null, 0.5481863021850586, 1.0467290878295898, null, 0.5481863021850586, -0.6479172706604004, null, 1.0467290878295898, 0.0829644501209259, null, 0.0829644501209259, -0.6479172706604004, null], \"y\": [0.5829801712879956, 0.8714487313365393, null, 0.5829801712879956, 0.10706356057628419, null, 0.8714487313365393, -0.2157267308242483, null, 0.8714487313365393, 0.395532460155871, null, -0.2157267308242483, -0.6916433698302132, null, -1.0496539382686745, 0.10706356057628419, null, -1.0496539382686745, -0.6916433698302132, null, 0.10706356057628419, 0.395532460155871, null, 0.395532460155871, -0.6916433698302132, null], \"z\": [-0.7873174734795088, 0.07689876034942748, null, -0.7873174734795088, -0.066501820277273, null, 0.07689876034942748, -0.12995578396952465, null, 0.07689876034942748, 0.797714301229078, null, -0.12995578396952465, 0.5908598785929265, null, -0.4816951415166722, -0.066501820277273, null, -0.4816951415166722, 0.5908598785929265, null, -0.066501820277273, 0.797714301229078, null, 0.797714301229078, 0.5908598785929265, null], \"type\": \"scatter3d\"}, {\"marker\": {\"color\": \"blue\"}, \"mode\": \"markers+text\", \"name\": \"Reconstructed\", \"text\": [\"0\", \"1\", \"2\", \"3\", \"4\", \"5\", \"6\"], \"x\": [0.542816162109375, -0.42094847559928894, -1.1518301963806152, 0.5481863021850586, 1.0467290878295898, 0.0829644501209259, -0.6479172706604004], \"y\": [0.5667086910385088, 0.8918313866850668, -0.20507519879834266, -1.0279209782427712, 0.08552203333622257, 0.39475451393137323, -0.7058204737974537], \"z\": [-0.8365032419360496, 0.13851187428439177, -0.09775811172946224, -0.4160002985571293, -0.13161799623571768, 0.7953627092237351, 0.5480050342625227], \"type\": \"scatter3d\"}, {\"marker\": {\"color\": \"blue\"}, \"mode\": \"lines\", \"name\": \"Reconstructed\", \"x\": [0.542816162109375, -0.42094847559928894, null, 0.542816162109375, 1.0467290878295898, null, -0.42094847559928894, -1.1518301963806152, null, -0.42094847559928894, 0.0829644501209259, null, -1.1518301963806152, -0.6479172706604004, null, 0.5481863021850586, 1.0467290878295898, null, 0.5481863021850586, -0.6479172706604004, null, 1.0467290878295898, 0.0829644501209259, null, 0.0829644501209259, -0.6479172706604004, null], \"y\": [0.5667086910385088, 0.8918313866850668, null, 0.5667086910385088, 0.08552203333622257, null, 0.8918313866850668, -0.20507519879834266, null, 0.8918313866850668, 0.39475451393137323, null, -0.20507519879834266, -0.7058204737974537, null, -1.0279209782427712, 0.08552203333622257, null, -1.0279209782427712, -0.7058204737974537, null, 0.08552203333622257, 0.39475451393137323, null, 0.39475451393137323, -0.7058204737974537, null], \"z\": [-0.8365032419360496, 0.13851187428439177, null, -0.8365032419360496, -0.13161799623571768, null, 0.13851187428439177, -0.09775811172946224, null, 0.13851187428439177, 0.7953627092237351, null, -0.09775811172946224, 0.5480050342625227, null, -0.4160002985571293, -0.13161799623571768, null, -0.4160002985571293, 0.5480050342625227, null, -0.13161799623571768, 0.7953627092237351, null, 0.7953627092237351, 0.5480050342625227, null], \"type\": \"scatter3d\"}], \"traces\": [0, 1, 2, 3]}, {\"data\": [{\"marker\": {\"color\": \"red\"}, \"mode\": \"markers+text\", \"name\": \"Original\", \"text\": [\"0\", \"1\", \"2\", \"3\", \"4\", \"5\", \"6\"], \"x\": [0.542816162109375, -0.42094847559928894, -1.1518301963806152, 0.5481863021850586, 1.0467290878295898, 0.0829644501209259, -0.6479172706604004], \"y\": [0.6633641907113348, 0.8583379628873931, -0.20069114253595816, -0.992506383386958, 0.11352573439457143, 0.30849985611732095, -0.7505296279816124], \"z\": [-0.720890168224698, 0.16909243672519034, -0.1521499046561093, -0.5905376181242358, -0.0547449151395416, 0.8352376142140296, 0.5139953547287403], \"type\": \"scatter3d\"}, {\"marker\": {\"color\": \"red\"}, \"mode\": \"lines\", \"name\": \"Original\", \"x\": [0.542816162109375, -0.42094847559928894, null, 0.542816162109375, 1.0467290878295898, null, -0.42094847559928894, -1.1518301963806152, null, -0.42094847559928894, 0.0829644501209259, null, -1.1518301963806152, -0.6479172706604004, null, 0.5481863021850586, 1.0467290878295898, null, 0.5481863021850586, -0.6479172706604004, null, 1.0467290878295898, 0.0829644501209259, null, 0.0829644501209259, -0.6479172706604004, null], \"y\": [0.6633641907113348, 0.8583379628873931, null, 0.6633641907113348, 0.11352573439457143, null, 0.8583379628873931, -0.20069114253595816, null, 0.8583379628873931, 0.30849985611732095, null, -0.20069114253595816, -0.7505296279816124, null, -0.992506383386958, 0.11352573439457143, null, -0.992506383386958, -0.7505296279816124, null, 0.11352573439457143, 0.30849985611732095, null, 0.30849985611732095, -0.7505296279816124, null], \"z\": [-0.720890168224698, 0.16909243672519034, null, -0.720890168224698, -0.0547449151395416, null, 0.16909243672519034, -0.1521499046561093, null, 0.16909243672519034, 0.8352376142140296, null, -0.1521499046561093, 0.5139953547287403, null, -0.5905376181242358, -0.0547449151395416, null, -0.5905376181242358, 0.5139953547287403, null, -0.0547449151395416, 0.8352376142140296, null, 0.8352376142140296, 0.5139953547287403, null], \"type\": \"scatter3d\"}, {\"marker\": {\"color\": \"blue\"}, \"mode\": \"markers+text\", \"name\": \"Reconstructed\", \"text\": [\"0\", \"1\", \"2\", \"3\", \"4\", \"5\", \"6\"], \"x\": [0.542816162109375, -0.42094847559928894, -1.1518301963806152, 0.5481863021850586, 1.0467290878295898, 0.0829644501209259, -0.6479172706604004], \"y\": [0.6524130184218281, 0.8720560737793877, -0.19352235637917503, -0.9778794787688526, 0.0990276695247538, 0.3079762760246791, -0.760071225041683], \"z\": [-0.7715268418284749, 0.2325230435437814, -0.11900245019553732, -0.5229048775006343, -0.12178191896814365, 0.832816653831373, 0.46987635785636855], \"type\": \"scatter3d\"}, {\"marker\": {\"color\": \"blue\"}, \"mode\": \"lines\", \"name\": \"Reconstructed\", \"x\": [0.542816162109375, -0.42094847559928894, null, 0.542816162109375, 1.0467290878295898, null, -0.42094847559928894, -1.1518301963806152, null, -0.42094847559928894, 0.0829644501209259, null, -1.1518301963806152, -0.6479172706604004, null, 0.5481863021850586, 1.0467290878295898, null, 0.5481863021850586, -0.6479172706604004, null, 1.0467290878295898, 0.0829644501209259, null, 0.0829644501209259, -0.6479172706604004, null], \"y\": [0.6524130184218281, 0.8720560737793877, null, 0.6524130184218281, 0.0990276695247538, null, 0.8720560737793877, -0.19352235637917503, null, 0.8720560737793877, 0.3079762760246791, null, -0.19352235637917503, -0.760071225041683, null, -0.9778794787688526, 0.0990276695247538, null, -0.9778794787688526, -0.760071225041683, null, 0.0990276695247538, 0.3079762760246791, null, 0.3079762760246791, -0.760071225041683, null], \"z\": [-0.7715268418284749, 0.2325230435437814, null, -0.7715268418284749, -0.12178191896814365, null, 0.2325230435437814, -0.11900245019553732, null, 0.2325230435437814, 0.832816653831373, null, -0.11900245019553732, 0.46987635785636855, null, -0.5229048775006343, -0.12178191896814365, null, -0.5229048775006343, 0.46987635785636855, null, -0.12178191896814365, 0.832816653831373, null, 0.832816653831373, 0.46987635785636855, null], \"type\": \"scatter3d\"}], \"traces\": [0, 1, 2, 3]}, {\"data\": [{\"marker\": {\"color\": \"red\"}, \"mode\": \"markers+text\", \"name\": \"Original\", \"text\": [\"0\", \"1\", \"2\", \"3\", \"4\", \"5\", \"6\"], \"x\": [0.542816162109375, -0.42094847559928894, -1.1518301963806152, 0.5481863021850586, 1.0467290878295898, 0.0829644501209259, -0.6479172706604004], \"y\": [0.7362320287870331, 0.8355018823442851, -0.18338164341062393, -0.9241133345960388, 0.11870161627958638, 0.21797182543867372, -0.800912085551557], \"z\": [-0.6462948893108059, 0.2593702282269474, -0.1726201061269231, -0.6926890675515924, -0.042367728238321016, 0.8632973512859196, 0.4313070581133545], \"type\": \"scatter3d\"}, {\"marker\": {\"color\": \"red\"}, \"mode\": \"lines\", \"name\": \"Original\", \"x\": [0.542816162109375, -0.42094847559928894, null, 0.542816162109375, 1.0467290878295898, null, -0.42094847559928894, -1.1518301963806152, null, -0.42094847559928894, 0.0829644501209259, null, -1.1518301963806152, -0.6479172706604004, null, 0.5481863021850586, 1.0467290878295898, null, 0.5481863021850586, -0.6479172706604004, null, 1.0467290878295898, 0.0829644501209259, null, 0.0829644501209259, -0.6479172706604004, null], \"y\": [0.7362320287870331, 0.8355018823442851, null, 0.7362320287870331, 0.11870161627958638, null, 0.8355018823442851, -0.18338164341062393, null, 0.8355018823442851, 0.21797182543867372, null, -0.18338164341062393, -0.800912085551557, null, -0.9241133345960388, 0.11870161627958638, null, -0.9241133345960388, -0.800912085551557, null, 0.11870161627958638, 0.21797182543867372, null, 0.21797182543867372, -0.800912085551557, null], \"z\": [-0.6462948893108059, 0.2593702282269474, null, -0.6462948893108059, -0.042367728238321016, null, 0.2593702282269474, -0.1726201061269231, null, 0.2593702282269474, 0.8632973512859196, null, -0.1726201061269231, 0.4313070581133545, null, -0.6926890675515924, -0.042367728238321016, null, -0.6926890675515924, 0.4313070581133545, null, -0.042367728238321016, 0.8632973512859196, null, 0.8632973512859196, 0.4313070581133545, null], \"type\": \"scatter3d\"}, {\"marker\": {\"color\": \"blue\"}, \"mode\": \"markers+text\", \"name\": \"Reconstructed\", \"text\": [\"0\", \"1\", \"2\", \"3\", \"4\", \"5\", \"6\"], \"x\": [0.542816162109375, -0.42094847559928894, -1.1518301963806152, 0.5481863021850586, 1.0467290878295898, 0.0829644501209259, -0.6479172706604004], \"y\": [0.7307252456154131, 0.8424000171018614, -0.1797768283346213, -0.9167582140596691, 0.11141128264812054, 0.2177085438495494, -0.8057100655971382], \"z\": [-0.6978087343164998, 0.32389963380832604, -0.13889844334993057, -0.6238847352398696, -0.11056600389707477, 0.8608344529744516, 0.3864237945626356], \"type\": \"scatter3d\"}, {\"marker\": {\"color\": \"blue\"}, \"mode\": \"lines\", \"name\": \"Reconstructed\", \"x\": [0.542816162109375, -0.42094847559928894, null, 0.542816162109375, 1.0467290878295898, null, -0.42094847559928894, -1.1518301963806152, null, -0.42094847559928894, 0.0829644501209259, null, -1.1518301963806152, -0.6479172706604004, null, 0.5481863021850586, 1.0467290878295898, null, 0.5481863021850586, -0.6479172706604004, null, 1.0467290878295898, 0.0829644501209259, null, 0.0829644501209259, -0.6479172706604004, null], \"y\": [0.7307252456154131, 0.8424000171018614, null, 0.7307252456154131, 0.11141128264812054, null, 0.8424000171018614, -0.1797768283346213, null, 0.8424000171018614, 0.2177085438495494, null, -0.1797768283346213, -0.8057100655971382, null, -0.9167582140596691, 0.11141128264812054, null, -0.9167582140596691, -0.8057100655971382, null, 0.11141128264812054, 0.2177085438495494, null, 0.2177085438495494, -0.8057100655971382, null], \"z\": [-0.6978087343164998, 0.32389963380832604, null, -0.6978087343164998, -0.11056600389707477, null, 0.32389963380832604, -0.13889844334993057, null, 0.32389963380832604, 0.8608344529744516, null, -0.13889844334993057, 0.3864237945626356, null, -0.6238847352398696, -0.11056600389707477, null, -0.6238847352398696, 0.3864237945626356, null, -0.11056600389707477, 0.8608344529744516, null, 0.8608344529744516, 0.3864237945626356, null], \"type\": \"scatter3d\"}], \"traces\": [0, 1, 2, 3]}, {\"data\": [{\"marker\": {\"color\": \"red\"}, \"mode\": \"markers+text\", \"name\": \"Original\", \"text\": [\"0\", \"1\", \"2\", \"3\", \"4\", \"5\", \"6\"], \"x\": [0.542816162109375, -0.42094847559928894, -1.1518301963806152, 0.5481863021850586, 1.0467290878295898, 0.0829644501209259, -0.6479172706604004], \"y\": [0.8007580637931823, 0.8031992316246034, -0.1639943569898606, -0.8452497124671938, 0.12253256142139433, 0.12497408688068412, -0.8422198891639708], \"z\": [-0.5643768310546877, 0.34670925140380837, -0.1911344528198242, -0.7869920730590818, -0.02951049804687503, 0.8815755844116211, 0.3437318801879885], \"type\": \"scatter3d\"}, {\"marker\": {\"color\": \"red\"}, \"mode\": \"lines\", \"name\": \"Original\", \"x\": [0.542816162109375, -0.42094847559928894, null, 0.542816162109375, 1.0467290878295898, null, -0.42094847559928894, -1.1518301963806152, null, -0.42094847559928894, 0.0829644501209259, null, -1.1518301963806152, -0.6479172706604004, null, 0.5481863021850586, 1.0467290878295898, null, 0.5481863021850586, -0.6479172706604004, null, 1.0467290878295898, 0.0829644501209259, null, 0.0829644501209259, -0.6479172706604004, null], \"y\": [0.8007580637931823, 0.8031992316246034, null, 0.8007580637931823, 0.12253256142139433, null, 0.8031992316246034, -0.1639943569898606, null, 0.8031992316246034, 0.12497408688068412, null, -0.1639943569898606, -0.8422198891639708, null, -0.8452497124671938, 0.12253256142139433, null, -0.8452497124671938, -0.8422198891639708, null, 0.12253256142139433, 0.12497408688068412, null, 0.12497408688068412, -0.8422198891639708, null], \"z\": [-0.5643768310546877, 0.34670925140380837, null, -0.5643768310546877, -0.02951049804687503, null, 0.34670925140380837, -0.1911344528198242, null, 0.34670925140380837, 0.8815755844116211, null, -0.1911344528198242, 0.3437318801879885, null, -0.7869920730590818, -0.02951049804687503, null, -0.7869920730590818, 0.3437318801879885, null, -0.02951049804687503, 0.8815755844116211, null, 0.8815755844116211, 0.3437318801879885, null], \"type\": \"scatter3d\"}, {\"marker\": {\"color\": \"blue\"}, \"mode\": \"markers+text\", \"name\": \"Reconstructed\", \"text\": [\"0\", \"1\", \"2\", \"3\", \"4\", \"5\", \"6\"], \"x\": [0.542816162109375, -0.42094847559928894, -1.1518301963806152, 0.5481863021850586, 1.0467290878295898, 0.0829644501209259, -0.6479172706604004], \"y\": [0.8007580637931823, 0.8031992316246034, -0.16399435698986056, -0.8452497124671938, 0.12253256142139432, 0.12497408688068412, -0.8422198891639708], \"z\": [-0.6161841750144961, 0.4116063117980955, -0.1572206616401672, -0.7177957296371458, -0.09809733182191852, 0.879098653793335, 0.29859289526939414], \"type\": \"scatter3d\"}, {\"marker\": {\"color\": \"blue\"}, \"mode\": \"lines\", \"name\": \"Reconstructed\", \"x\": [0.542816162109375, -0.42094847559928894, null, 0.542816162109375, 1.0467290878295898, null, -0.42094847559928894, -1.1518301963806152, null, -0.42094847559928894, 0.0829644501209259, null, -1.1518301963806152, -0.6479172706604004, null, 0.5481863021850586, 1.0467290878295898, null, 0.5481863021850586, -0.6479172706604004, null, 1.0467290878295898, 0.0829644501209259, null, 0.0829644501209259, -0.6479172706604004, null], \"y\": [0.8007580637931823, 0.8031992316246034, null, 0.8007580637931823, 0.12253256142139432, null, 0.8031992316246034, -0.16399435698986056, null, 0.8031992316246034, 0.12497408688068412, null, -0.16399435698986056, -0.8422198891639708, null, -0.8452497124671938, 0.12253256142139432, null, -0.8452497124671938, -0.8422198891639708, null, 0.12253256142139432, 0.12497408688068412, null, 0.12497408688068412, -0.8422198891639708, null], \"z\": [-0.6161841750144961, 0.4116063117980955, null, -0.6161841750144961, -0.09809733182191852, null, 0.4116063117980955, -0.1572206616401672, null, 0.4116063117980955, 0.879098653793335, null, -0.1572206616401672, 0.29859289526939414, null, -0.7177957296371458, -0.09809733182191852, null, -0.7177957296371458, 0.29859289526939414, null, -0.09809733182191852, 0.879098653793335, null, 0.879098653793335, 0.29859289526939414, null], \"type\": \"scatter3d\"}], \"traces\": [0, 1, 2, 3]}]);\n",
              "                        }).then(function(){\n",
              "                            \n",
              "var gd = document.getElementById('ab116107-dcca-4cb5-b57e-5cb36429907b');\n",
              "var x = new MutationObserver(function (mutations, observer) {{\n",
              "        var display = window.getComputedStyle(gd).display;\n",
              "        if (!display || display === 'none') {{\n",
              "            console.log([gd, 'removed!']);\n",
              "            Plotly.purge(gd);\n",
              "            observer.disconnect();\n",
              "        }}\n",
              "}});\n",
              "\n",
              "// Listen for the removal of the full notebook cells\n",
              "var notebookContainer = gd.closest('#notebook-container');\n",
              "if (notebookContainer) {{\n",
              "    x.observe(notebookContainer, {childList: true});\n",
              "}}\n",
              "\n",
              "// Listen for the clearing of the current output cell\n",
              "var outputEl = gd.closest('.output');\n",
              "if (outputEl) {{\n",
              "    x.observe(outputEl, {childList: true});\n",
              "}}\n",
              "\n",
              "                        })                };                            </script>        </div>\n",
              "</body>\n",
              "</html>"
            ]
          },
          "metadata": {
            "tags": []
          }
        }
      ]
    },
    {
      "cell_type": "code",
      "metadata": {
        "id": "pqbPEmtFnodH"
      },
      "source": [
        "#show3D(xyz_original, conn, am = 'data') "
      ],
      "execution_count": 102,
      "outputs": []
    },
    {
      "cell_type": "code",
      "metadata": {
        "id": "7Tg4sr_eIInr"
      },
      "source": [
        ""
      ],
      "execution_count": 155,
      "outputs": []
    },
    {
      "cell_type": "markdown",
      "metadata": {
        "id": "3LjAE96mCtVz"
      },
      "source": [
        "## Save Model\n",
        "\n",
        "[Save and Load Model](https://pytorch.org/tutorials/beginner/saving_loading_models.html)"
      ]
    },
    {
      "cell_type": "code",
      "metadata": {
        "colab": {
          "base_uri": "https://localhost:8080/"
        },
        "id": "_PeIqlJhDVSp",
        "outputId": "1a541707-67e0-4207-b162-7fa1dc8ad154"
      },
      "source": [
        "net"
      ],
      "execution_count": 54,
      "outputs": [
        {
          "output_type": "execute_result",
          "data": {
            "text/plain": [
              "Arch4B(\n",
              "  (conv1): Conv2d(3, 32, kernel_size=(3, 3), stride=(1, 1), padding=(1, 1))\n",
              "  (conv2): Conv2d(32, 64, kernel_size=(3, 3), stride=(1, 1), padding=(1, 1))\n",
              "  (pool2): MaxPool2d(kernel_size=2, stride=2, padding=0, dilation=1, ceil_mode=False)\n",
              "  (fc0): Linear(in_features=1600, out_features=800, bias=True)\n",
              "  (fc1): Linear(in_features=800, out_features=400, bias=True)\n",
              "  (fc2): Linear(in_features=400, out_features=20, bias=True)\n",
              ")"
            ]
          },
          "metadata": {
            "tags": []
          },
          "execution_count": 54
        }
      ]
    },
    {
      "cell_type": "code",
      "metadata": {
        "id": "5Q2fuDksH8T6"
      },
      "source": [
        "torch.save({'epoch': 150,\n",
        "            'model_state_dict': net.state_dict(),\n",
        "            'optimizer_state_dict': opt.state_dict(),\n",
        "            'loss': loss_hist_train[-1]}, \n",
        "            '/content/drive/MyDrive/239 Project /model_12_16_2020_Arch4B.pickle')"
      ],
      "execution_count": 55,
      "outputs": []
    },
    {
      "cell_type": "code",
      "metadata": {
        "id": "eWRe4Dr7_508"
      },
      "source": [
        ""
      ],
      "execution_count": 2,
      "outputs": []
    },
    {
      "cell_type": "code",
      "metadata": {
        "id": "G4lMXQpF0gVC"
      },
      "source": [
        ""
      ],
      "execution_count": null,
      "outputs": []
    },
    {
      "cell_type": "markdown",
      "metadata": {
        "id": "0VPoChmPeOex"
      },
      "source": [
        "## Make GIFS"
      ]
    },
    {
      "cell_type": "code",
      "metadata": {
        "colab": {
          "base_uri": "https://localhost:8080/",
          "height": 582
        },
        "id": "jmuaoDRLeQBF",
        "outputId": "04c0cc24-07ef-423a-a3b9-843c6f121407"
      },
      "source": [
        "#!pip install gif\n",
        "!pip install gif[plotly]"
      ],
      "execution_count": 32,
      "outputs": [
        {
          "output_type": "stream",
          "text": [
            "Collecting gif[plotly]\n",
            "  Downloading https://files.pythonhosted.org/packages/58/41/a556a028c7c04dba76ced9bbfb321ef63df48d50153d18291b433a3d9a89/gif-3.0.0.tar.gz\n",
            "Collecting Pillow>=7.1.2\n",
            "\u001b[?25l  Downloading https://files.pythonhosted.org/packages/5f/19/d4c25111d36163698396f93c363114cf1cddbacb24744f6612f25b6aa3d0/Pillow-8.0.1-cp36-cp36m-manylinux1_x86_64.whl (2.2MB)\n",
            "\u001b[K     |████████████████████████████████| 2.2MB 4.2MB/s \n",
            "\u001b[?25hCollecting plotly>=4.9.0\n",
            "\u001b[?25l  Downloading https://files.pythonhosted.org/packages/c9/09/315462259ab7b60a3d4b7159233ed700733c87d889755bdc00a9fb46d692/plotly-4.14.1-py2.py3-none-any.whl (13.2MB)\n",
            "\u001b[K     |████████████████████████████████| 13.2MB 32.5MB/s \n",
            "\u001b[?25hCollecting kaleido>=0.0.3.post1\n",
            "\u001b[?25l  Downloading https://files.pythonhosted.org/packages/83/39/1c960a971f8d27e6aa4f1462dc048275c98bbb46f16871269ba941bb4a04/kaleido-0.1.0-py2.py3-none-manylinux1_x86_64.whl (74.6MB)\n",
            "\u001b[K     |████████████████████████████████| 74.6MB 1.3MB/s \n",
            "\u001b[?25hRequirement already satisfied: six in /usr/local/lib/python3.6/dist-packages (from plotly>=4.9.0->gif[plotly]) (1.15.0)\n",
            "Requirement already satisfied: retrying>=1.3.3 in /usr/local/lib/python3.6/dist-packages (from plotly>=4.9.0->gif[plotly]) (1.3.3)\n",
            "Building wheels for collected packages: gif\n",
            "  Building wheel for gif (setup.py) ... \u001b[?25l\u001b[?25hdone\n",
            "  Created wheel for gif: filename=gif-3.0.0-cp36-none-any.whl size=4817 sha256=8ee6d2983bc7321968c160e4b368c63d429b77eda8c3851e1480a22ea2390af1\n",
            "  Stored in directory: /root/.cache/pip/wheels/33/1a/03/e7ccc13d5cbed82b0fda53a7792dfe372cf8baf691601d78d1\n",
            "Successfully built gif\n",
            "\u001b[31mERROR: albumentations 0.1.12 has requirement imgaug<0.2.7,>=0.2.5, but you'll have imgaug 0.2.9 which is incompatible.\u001b[0m\n",
            "Installing collected packages: Pillow, plotly, kaleido, gif\n",
            "  Found existing installation: Pillow 7.0.0\n",
            "    Uninstalling Pillow-7.0.0:\n",
            "      Successfully uninstalled Pillow-7.0.0\n",
            "  Found existing installation: plotly 4.4.1\n",
            "    Uninstalling plotly-4.4.1:\n",
            "      Successfully uninstalled plotly-4.4.1\n",
            "Successfully installed Pillow-8.0.1 gif-3.0.0 kaleido-0.1.0 plotly-4.14.1\n"
          ],
          "name": "stdout"
        },
        {
          "output_type": "display_data",
          "data": {
            "application/vnd.colab-display-data+json": {
              "pip_warning": {
                "packages": [
                  "PIL",
                  "_plotly_utils",
                  "plotly"
                ]
              }
            }
          },
          "metadata": {
            "tags": []
          }
        }
      ]
    },
    {
      "cell_type": "code",
      "metadata": {
        "id": "OFnQHe3LeRmz"
      },
      "source": [
        "import gif"
      ],
      "execution_count": 27,
      "outputs": []
    },
    {
      "cell_type": "code",
      "metadata": {
        "id": "vs1s3-a-gLYT"
      },
      "source": [
        "@gif.frame\n",
        "def compare3Dgif(original, reconstructed, conn, center_at_origin=False, am=\"data\"):\n",
        "  #credit: https://stackoverflow.com/questions/42301481/adding-specific-lines-to-a-plotly-scatter3d-plot\n",
        "\n",
        "  # convert from torch to numpy\n",
        "  pairs = pairs_from_conn(conn)\n",
        "  original = original.detach().numpy()\n",
        "  reconstructed = reconstructed.detach().numpy()\n",
        "\n",
        "  x_rot = np.array([[1,0,0],\n",
        "                    [0, np.cos(theta), -np.sin(theta)],\n",
        "                    [0, np.sin(theta), np.cos(theta)]])\n",
        "\n",
        "  original = x_rot @ original\n",
        "  reconstructed = x_rot @ reconstructed\n",
        "\n",
        "\n",
        "  # center at origin, as NN reconstruction centered at zero, and actual object \n",
        "  # out in the world. \n",
        "  if center_at_origin:\n",
        "    orig_mean = np.mean(original, axis=1)\n",
        "    reconstructed_mean = np.mean(reconstructed, axis=1)\n",
        "    original = (original.T - orig_mean).T\n",
        "    reconstructed = (reconstructed.T - reconstructed_mean).T\n",
        "  \n",
        "\n",
        "\n",
        "\n",
        "\n",
        "  # set plot bounds\n",
        "  eps = 0.2\n",
        "  M = np.max(np.abs(np.concatenate((original, reconstructed), axis = 0)))\n",
        "  M += eps\n",
        "  M = 1.5 # just going to hard code it for now. Oh well. \n",
        "\n",
        "  # Define all the components of the plot\n",
        "  trace1 = go.Scatter3d(\n",
        "      x=original[0],\n",
        "      y=original[1],\n",
        "      z=original[2],\n",
        "      mode='markers+text',\n",
        "      text = [str(i) for i in range(len(original[0]))],\n",
        "      name='Original', \n",
        "      marker=dict(color='red')\n",
        "  )\n",
        "\n",
        "  trace2 = go.Scatter3d(\n",
        "      x=reconstructed[0],\n",
        "      y=reconstructed[1],\n",
        "      z=reconstructed[2],\n",
        "      mode='markers',\n",
        "      name='Reconstructed',\n",
        "      marker=dict(color='blue')\n",
        "  )\n",
        "\n",
        "  x_lines = list()\n",
        "  y_lines = list()\n",
        "  z_lines = list()\n",
        "\n",
        "  #create the coordinate list for the lines\n",
        "  for p in pairs:\n",
        "      for i in range(2):\n",
        "          x_lines.append(original[0][p[i]])\n",
        "          y_lines.append(original[1][p[i]])\n",
        "          z_lines.append(original[2][p[i]])\n",
        "      x_lines.append(None)\n",
        "      y_lines.append(None)\n",
        "      z_lines.append(None)\n",
        "\n",
        "  trace3 = go.Scatter3d(\n",
        "      x=x_lines,\n",
        "      y=y_lines,\n",
        "      z=z_lines,\n",
        "      mode='lines',\n",
        "      name='Original',\n",
        "      marker=dict(color='red')\n",
        "  )\n",
        "\n",
        "  x_lines2 = list()\n",
        "  y_lines2 = list()\n",
        "  z_lines2 = list()\n",
        "\n",
        "  #create the coordinate list for the lines\n",
        "  for p in pairs:\n",
        "      for i in range(2):\n",
        "          x_lines2.append(reconstructed[0][p[i]])\n",
        "          y_lines2.append(reconstructed[1][p[i]])\n",
        "          z_lines2.append(reconstructed[2][p[i]])\n",
        "      x_lines2.append(None)\n",
        "      y_lines2.append(None)\n",
        "      z_lines2.append(None)\n",
        "\n",
        "  trace4 = go.Scatter3d(\n",
        "      x=x_lines2,\n",
        "      y=y_lines2,\n",
        "      z=z_lines2,\n",
        "      mode='lines',\n",
        "      name='Reconstructed',\n",
        "      marker=dict(color='blue')\n",
        "  )\n",
        "  # layout = go.Layout(width=600, height=600, \n",
        "  #                    scene=dict(aspectmode=am, aspectratio=dict(x=1, y=1, z=1)))\n",
        "\n",
        "  camera = dict(eye=dict(x=0., y=0, z=2.5))\n",
        "\n",
        "  #fig = go.Figure(data=[trace1, trace2, trace3, trace4], layout=layout)\n",
        "\n",
        "  fig = go.Figure(\n",
        "    data=[trace1, trace2, trace3, trace4],\n",
        "    layout=go.Layout(width=800, height=800, scene_camera=camera,\n",
        "                     scene = dict(\n",
        "                      xaxis = dict(range=[-M,M],),\n",
        "                      yaxis = dict(range=[-M,M],),\n",
        "                      zaxis = dict(range=[-M,M],),\n",
        "                      aspectmode=am)))\n",
        "  \n",
        "  fig.layout.scene.camera.projection.type = \"orthographic\"\n",
        "  # fig.update_layout(scene_camera=camera,\n",
        "  #                   scene = dict(\n",
        "  #                     xaxis = dict(range=[-M,M],),\n",
        "  #                     yaxis = dict(range=[-M,M],),\n",
        "  #                     zaxis = dict(range=[-M,M],),\n",
        "  #                     aspectmode=am),)\n",
        "  return fig\n"
      ],
      "execution_count": 103,
      "outputs": []
    },
    {
      "cell_type": "code",
      "metadata": {
        "id": "Jyf_JawBgjaJ"
      },
      "source": [
        "nframes = 200\n",
        "thetas = np.linspace(0,2*np.pi, nframes)\n",
        "frames = []\n",
        "for theta in thetas:\n",
        "  f = compare3Dgif(xyz_original, xyz_new, conn, center_at_origin=True, am='cube')\n",
        "  frames.append(f)\n",
        "\n"
      ],
      "execution_count": 111,
      "outputs": []
    },
    {
      "cell_type": "code",
      "metadata": {
        "id": "Fub2pVPNgxpb"
      },
      "source": [
        "rtime =6# seconds per rotation\n",
        "gif.save(frames, '/content/drive/MyDrive/239 Project /good_ortho.gif', duration=int(rtime*1000/nframes))\n"
      ],
      "execution_count": 112,
      "outputs": []
    },
    {
      "cell_type": "code",
      "metadata": {
        "id": "Hp2iMrkgsJe4"
      },
      "source": [
        ""
      ],
      "execution_count": null,
      "outputs": []
    },
    {
      "cell_type": "markdown",
      "metadata": {
        "id": "PNHJIc1LII9M"
      },
      "source": [
        "## Summary Statistics"
      ]
    },
    {
      "cell_type": "code",
      "metadata": {
        "id": "tM5lGYiCIKlF"
      },
      "source": [
        "def get_deviations(loader):\n",
        "  angles = []\n",
        "  dists = []\n",
        "  for nil in loader:\n",
        "    angles_df, loss_df, xyz_df, face_df, dist_df = single_object_summary(nil, net_12_14, return_xyzs=False)\n",
        "    angles += (angles_df.loc[:, \"Actual Angle\"] - angles_df.loc[:, \"Estimated Angle\"]).tolist()\n",
        "    dists += (dist_df.loc[:, \"Actual Distance\"] - dist_df.loc[:, \"Estimated Distance\"]).tolist()\n",
        "  return angles, dists"
      ],
      "execution_count": 95,
      "outputs": []
    },
    {
      "cell_type": "code",
      "metadata": {
        "id": "hZVMGmSgLq3o"
      },
      "source": [
        "ang_devs, dist_devs = get_deviations(test_loader)"
      ],
      "execution_count": null,
      "outputs": []
    },
    {
      "cell_type": "code",
      "metadata": {
        "colab": {
          "base_uri": "https://localhost:8080/",
          "height": 350
        },
        "id": "p_nHMypBL7H9",
        "outputId": "05ea631d-58ca-4c17-f894-3cb2b865e093"
      },
      "source": [
        "from google.colab import files\n",
        "\n",
        "fig, (ax1, ax2) = plt.subplots(1,2, figsize = (15,5))\n",
        "ax1.hist(ang_devs, bins =50);\n",
        "ax1.set_title(\"Actual Angle - Estimated Angle\");\n",
        "ax1.set_xlabel(\"Degrees\");\n",
        "ax1.set_ylabel(\"Frequency\");\n",
        "ax2.hist(dist_devs, bins = 50);\n",
        "ax2.set_title(\"Actual Edge Length - Estimated Edge Length\");\n",
        "ax2.set_xlabel(\"Distance\");\n",
        "ax2.set_ylabel(\"Frequency\");\n",
        "# matplotlib.pyplot.savefig(\"deviations.png\")\n",
        "# files.download(\"deviations.png\")\n"
      ],
      "execution_count": 117,
      "outputs": [
        {
          "output_type": "display_data",
          "data": {
            "image/png": "[encoded data removed]",
            "text/plain": [
              "<Figure size 1080x360 with 2 Axes>"
            ]
          },
          "metadata": {
            "tags": [],
            "needs_background": "light"
          }
        }
      ]
    },
    {
      "cell_type": "code",
      "metadata": {
        "id": "icP6eH1mIO0O"
      },
      "source": [
        ""
      ],
      "execution_count": 115,
      "outputs": []
    },
    {
      "cell_type": "code",
      "metadata": {
        "id": "ETFHrqubIiF_"
      },
      "source": [
        ""
      ],
      "execution_count": 115,
      "outputs": []
    },
    {
      "cell_type": "code",
      "metadata": {
        "id": "n2Kh7EU9K8QU"
      },
      "source": [
        ""
      ],
      "execution_count": 115,
      "outputs": []
    },
    {
      "cell_type": "code",
      "metadata": {
        "id": "82eUs4DILJZK"
      },
      "source": [
        "def df_to_markdown(df, y_index=False):\n",
        "    blob = tabulate(df, headers='keys', tablefmt='pipe')\n",
        "    if not y_index:\n",
        "        # Remove the index with some creative splicing and iteration\n",
        "        return '\\n'.join(['| {}'.format(row.split('|', 2)[-1]) for row in blob.split('\\n')])\n",
        "    return blob\n"
      ],
      "execution_count": 52,
      "outputs": []
    },
    {
      "cell_type": "code",
      "metadata": {
        "colab": {
          "base_uri": "https://localhost:8080/",
          "height": 164
        },
        "id": "YAwFXNoFGnKt",
        "outputId": "64e9a6ee-88a4-422a-85c8-5c4f3200d030"
      },
      "source": [
        "df_to_markdown(angles_df)"
      ],
      "execution_count": 53,
      "outputs": [
        {
          "output_type": "error",
          "ename": "NameError",
          "evalue": "ignored",
          "traceback": [
            "\u001b[0;31m---------------------------------------------------------------------------\u001b[0m",
            "\u001b[0;31mNameError\u001b[0m                                 Traceback (most recent call last)",
            "\u001b[0;32m<ipython-input-53-eaebe4945f7b>\u001b[0m in \u001b[0;36m<module>\u001b[0;34m()\u001b[0m\n\u001b[0;32m----> 1\u001b[0;31m \u001b[0mdf_to_markdown\u001b[0m\u001b[0;34m(\u001b[0m\u001b[0mangles_df\u001b[0m\u001b[0;34m)\u001b[0m\u001b[0;34m\u001b[0m\u001b[0;34m\u001b[0m\u001b[0m\n\u001b[0m",
            "\u001b[0;31mNameError\u001b[0m: name 'angles_df' is not defined"
          ]
        }
      ]
    },
    {
      "cell_type": "code",
      "metadata": {
        "id": "Y3mmRCekGsJZ"
      },
      "source": [
        ""
      ],
      "execution_count": null,
      "outputs": []
    }
  ]
}