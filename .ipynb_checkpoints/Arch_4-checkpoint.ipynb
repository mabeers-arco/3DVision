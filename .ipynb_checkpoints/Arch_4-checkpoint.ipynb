{
 "cells": [
  {
   "cell_type": "markdown",
   "metadata": {
    "colab_type": "text",
    "id": "view-in-github"
   },
   "source": [
    "<a href=\"https://colab.research.google.com/github/mabeers-arco/3DVision/blob/main/Arch_4.ipynb\" target=\"_parent\"><img src=\"https://colab.research.google.com/assets/colab-badge.svg\" alt=\"Open In Colab\"/></a>"
   ]
  },
  {
   "cell_type": "markdown",
   "metadata": {
    "id": "6UjXvAKmN-1y"
   },
   "source": [
    "## Network Architecture 4\n",
    "Changes from Arch 3\n",
    "*   Additional planarity constraint implemented - if face is [1,2,3] then there are 3 angles of interest, [1,2,3], [2,3,1] and [3,1,2]. So pad [1,2,3] to [1,2,3,1,2] and window along with window size 3 until encounter -1 which is the padded value.\n",
    "*  Added animated plots\n",
    "*  Added numerical summary of shape\n",
    "*  Based on a slightly larger version of LeNet.\n",
    "\n",
    "Results\n",
    "*   Much better reconstructions than before. \n",
    "*   Neural network written in such a way that the GPU is actually slower. So that's something to look in to. \n",
    "*   Need over 100 epochs to limit to the maximum performance of the network, which takes about 20 minutes. \n",
    "\n",
    "\n",
    "To Do\n",
    "* Write conn2conn transformation function\n",
    "* If results look ok with objects all with center at origin, then create new dataset such that the objects are no longer centered at the origin. Alternatively, consider training on something more interesting than cuboid objects. \n"
   ]
  },
  {
   "cell_type": "markdown",
   "metadata": {
    "id": "b3NqGiHHzUf8"
   },
   "source": [
    "## Initialize Google Drive"
   ]
  },
  {
   "cell_type": "code",
   "execution_count": 14,
   "metadata": {
    "colab": {
     "base_uri": "https://localhost:8080/"
    },
    "id": "TI87gcuGzTUX",
    "outputId": "7f83d14a-c709-457f-9666-682ced320858"
   },
   "outputs": [
    {
     "name": "stdout",
     "output_type": "stream",
     "text": [
      "Mounted at /content/drive\n"
     ]
    }
   ],
   "source": [
    "# from google.colab import drive\n",
    "# drive.mount('/content/drive')"
   ]
  },
  {
   "cell_type": "markdown",
   "metadata": {
    "id": "wq27gHTnzC34"
   },
   "source": [
    "## Imports"
   ]
  },
  {
   "cell_type": "code",
   "execution_count": 18,
   "metadata": {
    "id": "kUdyEwtIzA4s"
   },
   "outputs": [],
   "source": [
    "import matplotlib\n",
    "import torch\n",
    "import torch.nn as nn\n",
    "import numpy as np\n",
    "import pickle\n",
    "import pandas as pd\n",
    "import matplotlib.pyplot as plt\n",
    "import sys\n",
    "import collections\n",
    "import math\n",
    "import sys\n",
    "#sys.path.append('/content/drive/MyDrive/239 Project ')\n",
    "from data_functions import *\n",
    "from itertools import combinations\n",
    "import time\n",
    "import datetime"
   ]
  },
  {
   "cell_type": "markdown",
   "metadata": {
    "id": "kROV2OwL1Oks"
   },
   "source": [
    "## Load Data "
   ]
  },
  {
   "cell_type": "markdown",
   "metadata": {
    "id": "5HdUNb78nd9x"
   },
   "source": [
    "### Define Object Class and function to read in pickle data"
   ]
  },
  {
   "cell_type": "code",
   "execution_count": 12,
   "metadata": {
    "id": "LxxWhZN3hYdX"
   },
   "outputs": [],
   "source": [
    "class object_data():\n",
    "    def __init__(self, label, xyz, xyz_proj, vis_faces, conn, deg, angs, sda, device):\n",
    "        self.label = label\n",
    "        self.xyz = torch.tensor(xyz, dtype=torch.float32).to(device).transpose(0,1)\n",
    "        self.conn = torch.tensor(conn, dtype=torch.float32).unsqueeze(0).to(device) \n",
    "        self.deg = torch.tensor(deg, dtype=torch.float32).to(device) \n",
    "        self.angs = torch.tensor(angs, dtype=torch.float32).unsqueeze(0).to(device) \n",
    "        self.sda = torch.tensor(sda, dtype=torch.float32).unsqueeze(0).to(device) \n",
    "        self.xyz_proj = torch.tensor(xyz_proj, dtype=torch.float32).to(device).transpose(0,1)\n",
    "        self.vis_faces = vis_faces\n",
    "        self.device = device\n",
    "\n",
    "    def show(self, projected = False):\n",
    "        #credit: https://stackoverflow.com/questions/42301481/adding-specific-lines-to-a-plotly-scatter3d-plot\n",
    "        pairs = get_edge_vert_pairs_from(self.conn)\n",
    "        if projected:\n",
    "            X = self.xyz_proj[0]\n",
    "            Y = self.xyz_proj[1]\n",
    "            Z = self.xyz_proj[2]\n",
    "            print(\"Vertices = \\n\", self.xyz_proj)\n",
    "        else:\n",
    "            X = self.xyz[0]\n",
    "            Y = self.xyz[1]\n",
    "            Z = self.xyz[2]\n",
    "            print(\"Vertices = \\n\", self.xyz)\n",
    "\n",
    "        print(\"Faces = \", self.vis_faces)\n",
    "\n",
    "            \n",
    "        trace1 = go.Scatter3d(\n",
    "            x=X,\n",
    "            y=Y,\n",
    "            z=Z,\n",
    "            text = [str(i) for i in range(len(X))],\n",
    "            mode='markers+text',\n",
    "            name='Vertices'\n",
    "        )\n",
    "\n",
    "        x_lines = list()\n",
    "        y_lines = list()\n",
    "        z_lines = list()\n",
    "\n",
    "        #create the coordinate list for the lines\n",
    "        for p in pairs:\n",
    "            for i in range(2):\n",
    "                x_lines.append(X[p[i]])\n",
    "                y_lines.append(Y[p[i]])\n",
    "                z_lines.append(Z[p[i]])\n",
    "            x_lines.append(None)\n",
    "            y_lines.append(None)\n",
    "            z_lines.append(None)\n",
    "\n",
    "        trace2 = go.Scatter3d(\n",
    "            x=x_lines,\n",
    "            y=y_lines,\n",
    "            z=z_lines,\n",
    "            mode='lines',\n",
    "            name='Edges'\n",
    "        )\n",
    "\n",
    "        fig = go.Figure(data=[trace1, trace2])\n",
    "        fig.show()\n",
    "\n",
    "    #     plotly.offline.iplot(fig, filename='simple-3d-scatter')\n",
    "    #     print(self.xyz.transpose(0,1))\n",
    "    #     fig = go.Figure(data=go.Scatter3d(x=self.xyz[0], y=self.xyz[1], z=self.xyz[2], mode='markers'))\n",
    "    #     fig.show()\n",
    "    \n",
    "    def show2d(self):\n",
    "        pairs = get_edge_vert_pairs_from(self.conn)\n",
    "        lines = []\n",
    "        for p in pairs:\n",
    "            x0 = self.xyz_proj[0, p[0]]\n",
    "            y0 = self.xyz_proj[1, p[0]]\n",
    "            x1 = self.xyz_proj[0, p[1]]\n",
    "            y1 = self.xyz_proj[1, p[1]]\n",
    "            lines.append([(x0,y0), (x1, y1)])\n",
    "\n",
    "        lc = matplotlib.collections.LineCollection(lines, color = \"orange\", linewidths=1)\n",
    "        fig, ax = pylab.subplots(figsize = (8, 4.5))\n",
    "        ax.add_collection(lc)\n",
    "        ax.scatter(self.xyz_proj[0,:], self.xyz_proj[1,:])\n",
    "        matplotlib.pyplot.xlim(0,1)\n",
    "        matplotlib.pyplot.ylim(0,1)\n",
    "        plt.show()\n",
    "\n",
    "\n",
    "def read_in_object_data(fpath, device):\n",
    "    with open(fpath, 'rb') as f:\n",
    "        data = pickle.load(f)\n",
    "        print(len(data)/8)\n",
    "        object_list = []\n",
    "        for i in range(len(data)):\n",
    "            if(i%8 > 0): # why do we take every fifth object? \n",
    "                continue\n",
    "            object_summary = object_data(label = data[i],\n",
    "                                         xyz = data[i+1],\n",
    "                                         vis_faces = data[i+2],\n",
    "                                         xyz_proj = data[i+3],\n",
    "                                         conn = data[i+4], \n",
    "                                         deg = data[i+5], \n",
    "                                         angs = data[i+6],\n",
    "                                         sda = data[i+7], \n",
    "                                         device = device)\n",
    "            object_list.append(object_summary)\n",
    "\n",
    "    return object_list\n",
    "\n",
    "\n",
    "def get_angle(p1, p2, p3):\n",
    "  \"\"\"\n",
    "  Given 3 (x,y,z) 3x1 tensors p1, p2, p3, computes angle between p1 - p2 and p3 - p2\n",
    "  using the dot product cosine rule. \n",
    "  \"\"\"\n",
    "  e1 = p1 - p2\n",
    "  e2 = p3 - p2\n",
    "  x = torch.dot(e1, e2)/(torch.norm(e1) * torch.norm(e2))\n",
    "  return torch.rad2deg(torch.acos(x))\n",
    "\n",
    "\n",
    "def show_list_of_objects2d(object_list):\n",
    "    n = math.ceil(math.sqrt(len(object_list)))\n",
    "    fig, axs = plt.subplots(n, n, figsize = (14, 9))\n",
    "    counter = 0\n",
    "    for i in range(n):\n",
    "        for j in range(n):\n",
    "            if counter == len(object_list):\n",
    "                break\n",
    "            ob = object_list[counter]\n",
    "            pairs = get_edge_vert_pairs_from(ob.conn)\n",
    "            lines = []\n",
    "            for p in pairs:\n",
    "                x0 = ob.xyz_proj[0, p[0]]\n",
    "                y0 = ob.xyz_proj[1, p[0]]\n",
    "                x1 = ob.xyz_proj[0, p[1]]\n",
    "                y1 = ob.xyz_proj[1, p[1]]\n",
    "                lines.append([(x0,y0), (x1, y1)])\n",
    "\n",
    "            lc = matplotlib.collections.LineCollection(lines, color = \"orange\", linewidths=1)\n",
    "            axs[i, j].add_collection(lc)\n",
    "            axs[i, j].scatter(ob.xyz_proj[0,:], ob.xyz_proj[1,:])\n",
    "            axs[i, j].set_xlim(-2,2)\n",
    "            axs[i, j].set_ylim(-2,2)\n",
    "            counter += 1"
   ]
  },
  {
   "cell_type": "markdown",
   "metadata": {
    "id": "7Rr22ejvnpfs"
   },
   "source": [
    "### Load Data and Visualize"
   ]
  },
  {
   "cell_type": "code",
   "execution_count": 13,
   "metadata": {
    "colab": {
     "base_uri": "https://localhost:8080/"
    },
    "id": "2SRLVMa2zMqN",
    "outputId": "a067123a-5b1f-45d8-df9f-1addf9beffcd"
   },
   "outputs": [
    {
     "name": "stdout",
     "output_type": "stream",
     "text": [
      "3500.0\n"
     ]
    }
   ],
   "source": [
    "device = \"cpu\"\n",
    "train_path = 'dataARCO5.pickle'\n",
    "objects = read_in_object_data(train_path, device=device)"
   ]
  },
  {
   "cell_type": "code",
   "execution_count": 14,
   "metadata": {
    "colab": {
     "base_uri": "https://localhost:8080/",
     "height": 644
    },
    "id": "5nm6MeeQPnK6",
    "outputId": "6c18bc68-0e43-4bc1-a90b-df1473d2b88b"
   },
   "outputs": [
    {
     "name": "stdout",
     "output_type": "stream",
     "text": [
      "k =  3041\n",
      "Vertices = \n",
      " tensor([[ -0.5724,   0.4462,   0.2070,   1.2256],\n",
      "        [  0.7248,  -0.5592,   1.3492,   0.0651],\n",
      "        [-10.7669, -10.6155, -10.7159, -10.5645]])\n",
      "Faces =  [[0, 1, 3, 2]]\n"
     ]
    },
    {
     "data": {
      "application/vnd.plotly.v1+json": {
       "config": {
        "plotlyServerURL": "https://plot.ly"
       },
       "data": [
        {
         "mode": "markers+text",
         "name": "Vertices",
         "text": [
          "0",
          "1",
          "2",
          "3"
         ],
         "type": "scatter3d",
         "x": [
          -0.5724254250526428,
          0.4461754858493805,
          0.2070431113243103,
          1.2256444692611694
         ],
         "y": [
          0.7248088121414185,
          -0.5592255592346191,
          1.349165916442871,
          0.0651320219039917
         ],
         "z": [
          -10.766936302185059,
          -10.615549087524414,
          -10.715886116027832,
          -10.56450080871582
         ]
        },
        {
         "mode": "lines",
         "name": "Edges",
         "type": "scatter3d",
         "x": [
          -0.5724254250526428,
          0.4461754858493805,
          null,
          0.2070431113243103,
          1.2256444692611694,
          null,
          -0.5724254250526428,
          0.2070431113243103,
          null,
          0.4461754858493805,
          1.2256444692611694,
          null
         ],
         "y": [
          0.7248088121414185,
          -0.5592255592346191,
          null,
          1.349165916442871,
          0.0651320219039917,
          null,
          0.7248088121414185,
          1.349165916442871,
          null,
          -0.5592255592346191,
          0.0651320219039917,
          null
         ],
         "z": [
          -10.766936302185059,
          -10.615549087524414,
          null,
          -10.715886116027832,
          -10.56450080871582,
          null,
          -10.766936302185059,
          -10.715886116027832,
          null,
          -10.615549087524414,
          -10.56450080871582,
          null
         ]
        }
       ],
       "layout": {
        "autosize": true,
        "scene": {
         "aspectmode": "auto",
         "aspectratio": {
          "x": 1,
          "y": 1,
          "z": 1
         }
        },
        "template": {
         "data": {
          "bar": [
           {
            "error_x": {
             "color": "#2a3f5f"
            },
            "error_y": {
             "color": "#2a3f5f"
            },
            "marker": {
             "line": {
              "color": "#E5ECF6",
              "width": 0.5
             }
            },
            "type": "bar"
           }
          ],
          "barpolar": [
           {
            "marker": {
             "line": {
              "color": "#E5ECF6",
              "width": 0.5
             }
            },
            "type": "barpolar"
           }
          ],
          "carpet": [
           {
            "aaxis": {
             "endlinecolor": "#2a3f5f",
             "gridcolor": "white",
             "linecolor": "white",
             "minorgridcolor": "white",
             "startlinecolor": "#2a3f5f"
            },
            "baxis": {
             "endlinecolor": "#2a3f5f",
             "gridcolor": "white",
             "linecolor": "white",
             "minorgridcolor": "white",
             "startlinecolor": "#2a3f5f"
            },
            "type": "carpet"
           }
          ],
          "choropleth": [
           {
            "colorbar": {
             "outlinewidth": 0,
             "ticks": ""
            },
            "type": "choropleth"
           }
          ],
          "contour": [
           {
            "colorbar": {
             "outlinewidth": 0,
             "ticks": ""
            },
            "colorscale": [
             [
              0,
              "#0d0887"
             ],
             [
              0.1111111111111111,
              "#46039f"
             ],
             [
              0.2222222222222222,
              "#7201a8"
             ],
             [
              0.3333333333333333,
              "#9c179e"
             ],
             [
              0.4444444444444444,
              "#bd3786"
             ],
             [
              0.5555555555555556,
              "#d8576b"
             ],
             [
              0.6666666666666666,
              "#ed7953"
             ],
             [
              0.7777777777777778,
              "#fb9f3a"
             ],
             [
              0.8888888888888888,
              "#fdca26"
             ],
             [
              1,
              "#f0f921"
             ]
            ],
            "type": "contour"
           }
          ],
          "contourcarpet": [
           {
            "colorbar": {
             "outlinewidth": 0,
             "ticks": ""
            },
            "type": "contourcarpet"
           }
          ],
          "heatmap": [
           {
            "colorbar": {
             "outlinewidth": 0,
             "ticks": ""
            },
            "colorscale": [
             [
              0,
              "#0d0887"
             ],
             [
              0.1111111111111111,
              "#46039f"
             ],
             [
              0.2222222222222222,
              "#7201a8"
             ],
             [
              0.3333333333333333,
              "#9c179e"
             ],
             [
              0.4444444444444444,
              "#bd3786"
             ],
             [
              0.5555555555555556,
              "#d8576b"
             ],
             [
              0.6666666666666666,
              "#ed7953"
             ],
             [
              0.7777777777777778,
              "#fb9f3a"
             ],
             [
              0.8888888888888888,
              "#fdca26"
             ],
             [
              1,
              "#f0f921"
             ]
            ],
            "type": "heatmap"
           }
          ],
          "heatmapgl": [
           {
            "colorbar": {
             "outlinewidth": 0,
             "ticks": ""
            },
            "colorscale": [
             [
              0,
              "#0d0887"
             ],
             [
              0.1111111111111111,
              "#46039f"
             ],
             [
              0.2222222222222222,
              "#7201a8"
             ],
             [
              0.3333333333333333,
              "#9c179e"
             ],
             [
              0.4444444444444444,
              "#bd3786"
             ],
             [
              0.5555555555555556,
              "#d8576b"
             ],
             [
              0.6666666666666666,
              "#ed7953"
             ],
             [
              0.7777777777777778,
              "#fb9f3a"
             ],
             [
              0.8888888888888888,
              "#fdca26"
             ],
             [
              1,
              "#f0f921"
             ]
            ],
            "type": "heatmapgl"
           }
          ],
          "histogram": [
           {
            "marker": {
             "colorbar": {
              "outlinewidth": 0,
              "ticks": ""
             }
            },
            "type": "histogram"
           }
          ],
          "histogram2d": [
           {
            "colorbar": {
             "outlinewidth": 0,
             "ticks": ""
            },
            "colorscale": [
             [
              0,
              "#0d0887"
             ],
             [
              0.1111111111111111,
              "#46039f"
             ],
             [
              0.2222222222222222,
              "#7201a8"
             ],
             [
              0.3333333333333333,
              "#9c179e"
             ],
             [
              0.4444444444444444,
              "#bd3786"
             ],
             [
              0.5555555555555556,
              "#d8576b"
             ],
             [
              0.6666666666666666,
              "#ed7953"
             ],
             [
              0.7777777777777778,
              "#fb9f3a"
             ],
             [
              0.8888888888888888,
              "#fdca26"
             ],
             [
              1,
              "#f0f921"
             ]
            ],
            "type": "histogram2d"
           }
          ],
          "histogram2dcontour": [
           {
            "colorbar": {
             "outlinewidth": 0,
             "ticks": ""
            },
            "colorscale": [
             [
              0,
              "#0d0887"
             ],
             [
              0.1111111111111111,
              "#46039f"
             ],
             [
              0.2222222222222222,
              "#7201a8"
             ],
             [
              0.3333333333333333,
              "#9c179e"
             ],
             [
              0.4444444444444444,
              "#bd3786"
             ],
             [
              0.5555555555555556,
              "#d8576b"
             ],
             [
              0.6666666666666666,
              "#ed7953"
             ],
             [
              0.7777777777777778,
              "#fb9f3a"
             ],
             [
              0.8888888888888888,
              "#fdca26"
             ],
             [
              1,
              "#f0f921"
             ]
            ],
            "type": "histogram2dcontour"
           }
          ],
          "mesh3d": [
           {
            "colorbar": {
             "outlinewidth": 0,
             "ticks": ""
            },
            "type": "mesh3d"
           }
          ],
          "parcoords": [
           {
            "line": {
             "colorbar": {
              "outlinewidth": 0,
              "ticks": ""
             }
            },
            "type": "parcoords"
           }
          ],
          "pie": [
           {
            "automargin": true,
            "type": "pie"
           }
          ],
          "scatter": [
           {
            "marker": {
             "colorbar": {
              "outlinewidth": 0,
              "ticks": ""
             }
            },
            "type": "scatter"
           }
          ],
          "scatter3d": [
           {
            "line": {
             "colorbar": {
              "outlinewidth": 0,
              "ticks": ""
             }
            },
            "marker": {
             "colorbar": {
              "outlinewidth": 0,
              "ticks": ""
             }
            },
            "type": "scatter3d"
           }
          ],
          "scattercarpet": [
           {
            "marker": {
             "colorbar": {
              "outlinewidth": 0,
              "ticks": ""
             }
            },
            "type": "scattercarpet"
           }
          ],
          "scattergeo": [
           {
            "marker": {
             "colorbar": {
              "outlinewidth": 0,
              "ticks": ""
             }
            },
            "type": "scattergeo"
           }
          ],
          "scattergl": [
           {
            "marker": {
             "colorbar": {
              "outlinewidth": 0,
              "ticks": ""
             }
            },
            "type": "scattergl"
           }
          ],
          "scattermapbox": [
           {
            "marker": {
             "colorbar": {
              "outlinewidth": 0,
              "ticks": ""
             }
            },
            "type": "scattermapbox"
           }
          ],
          "scatterpolar": [
           {
            "marker": {
             "colorbar": {
              "outlinewidth": 0,
              "ticks": ""
             }
            },
            "type": "scatterpolar"
           }
          ],
          "scatterpolargl": [
           {
            "marker": {
             "colorbar": {
              "outlinewidth": 0,
              "ticks": ""
             }
            },
            "type": "scatterpolargl"
           }
          ],
          "scatterternary": [
           {
            "marker": {
             "colorbar": {
              "outlinewidth": 0,
              "ticks": ""
             }
            },
            "type": "scatterternary"
           }
          ],
          "surface": [
           {
            "colorbar": {
             "outlinewidth": 0,
             "ticks": ""
            },
            "colorscale": [
             [
              0,
              "#0d0887"
             ],
             [
              0.1111111111111111,
              "#46039f"
             ],
             [
              0.2222222222222222,
              "#7201a8"
             ],
             [
              0.3333333333333333,
              "#9c179e"
             ],
             [
              0.4444444444444444,
              "#bd3786"
             ],
             [
              0.5555555555555556,
              "#d8576b"
             ],
             [
              0.6666666666666666,
              "#ed7953"
             ],
             [
              0.7777777777777778,
              "#fb9f3a"
             ],
             [
              0.8888888888888888,
              "#fdca26"
             ],
             [
              1,
              "#f0f921"
             ]
            ],
            "type": "surface"
           }
          ],
          "table": [
           {
            "cells": {
             "fill": {
              "color": "#EBF0F8"
             },
             "line": {
              "color": "white"
             }
            },
            "header": {
             "fill": {
              "color": "#C8D4E3"
             },
             "line": {
              "color": "white"
             }
            },
            "type": "table"
           }
          ]
         },
         "layout": {
          "annotationdefaults": {
           "arrowcolor": "#2a3f5f",
           "arrowhead": 0,
           "arrowwidth": 1
          },
          "coloraxis": {
           "colorbar": {
            "outlinewidth": 0,
            "ticks": ""
           }
          },
          "colorscale": {
           "diverging": [
            [
             0,
             "#8e0152"
            ],
            [
             0.1,
             "#c51b7d"
            ],
            [
             0.2,
             "#de77ae"
            ],
            [
             0.3,
             "#f1b6da"
            ],
            [
             0.4,
             "#fde0ef"
            ],
            [
             0.5,
             "#f7f7f7"
            ],
            [
             0.6,
             "#e6f5d0"
            ],
            [
             0.7,
             "#b8e186"
            ],
            [
             0.8,
             "#7fbc41"
            ],
            [
             0.9,
             "#4d9221"
            ],
            [
             1,
             "#276419"
            ]
           ],
           "sequential": [
            [
             0,
             "#0d0887"
            ],
            [
             0.1111111111111111,
             "#46039f"
            ],
            [
             0.2222222222222222,
             "#7201a8"
            ],
            [
             0.3333333333333333,
             "#9c179e"
            ],
            [
             0.4444444444444444,
             "#bd3786"
            ],
            [
             0.5555555555555556,
             "#d8576b"
            ],
            [
             0.6666666666666666,
             "#ed7953"
            ],
            [
             0.7777777777777778,
             "#fb9f3a"
            ],
            [
             0.8888888888888888,
             "#fdca26"
            ],
            [
             1,
             "#f0f921"
            ]
           ],
           "sequentialminus": [
            [
             0,
             "#0d0887"
            ],
            [
             0.1111111111111111,
             "#46039f"
            ],
            [
             0.2222222222222222,
             "#7201a8"
            ],
            [
             0.3333333333333333,
             "#9c179e"
            ],
            [
             0.4444444444444444,
             "#bd3786"
            ],
            [
             0.5555555555555556,
             "#d8576b"
            ],
            [
             0.6666666666666666,
             "#ed7953"
            ],
            [
             0.7777777777777778,
             "#fb9f3a"
            ],
            [
             0.8888888888888888,
             "#fdca26"
            ],
            [
             1,
             "#f0f921"
            ]
           ]
          },
          "colorway": [
           "#636efa",
           "#EF553B",
           "#00cc96",
           "#ab63fa",
           "#FFA15A",
           "#19d3f3",
           "#FF6692",
           "#B6E880",
           "#FF97FF",
           "#FECB52"
          ],
          "font": {
           "color": "#2a3f5f"
          },
          "geo": {
           "bgcolor": "white",
           "lakecolor": "white",
           "landcolor": "#E5ECF6",
           "showlakes": true,
           "showland": true,
           "subunitcolor": "white"
          },
          "hoverlabel": {
           "align": "left"
          },
          "hovermode": "closest",
          "mapbox": {
           "style": "light"
          },
          "paper_bgcolor": "white",
          "plot_bgcolor": "#E5ECF6",
          "polar": {
           "angularaxis": {
            "gridcolor": "white",
            "linecolor": "white",
            "ticks": ""
           },
           "bgcolor": "#E5ECF6",
           "radialaxis": {
            "gridcolor": "white",
            "linecolor": "white",
            "ticks": ""
           }
          },
          "scene": {
           "xaxis": {
            "backgroundcolor": "#E5ECF6",
            "gridcolor": "white",
            "gridwidth": 2,
            "linecolor": "white",
            "showbackground": true,
            "ticks": "",
            "zerolinecolor": "white"
           },
           "yaxis": {
            "backgroundcolor": "#E5ECF6",
            "gridcolor": "white",
            "gridwidth": 2,
            "linecolor": "white",
            "showbackground": true,
            "ticks": "",
            "zerolinecolor": "white"
           },
           "zaxis": {
            "backgroundcolor": "#E5ECF6",
            "gridcolor": "white",
            "gridwidth": 2,
            "linecolor": "white",
            "showbackground": true,
            "ticks": "",
            "zerolinecolor": "white"
           }
          },
          "shapedefaults": {
           "line": {
            "color": "#2a3f5f"
           }
          },
          "ternary": {
           "aaxis": {
            "gridcolor": "white",
            "linecolor": "white",
            "ticks": ""
           },
           "baxis": {
            "gridcolor": "white",
            "linecolor": "white",
            "ticks": ""
           },
           "bgcolor": "#E5ECF6",
           "caxis": {
            "gridcolor": "white",
            "linecolor": "white",
            "ticks": ""
           }
          },
          "title": {
           "x": 0.05
          },
          "xaxis": {
           "automargin": true,
           "gridcolor": "white",
           "linecolor": "white",
           "ticks": "",
           "title": {
            "standoff": 15
           },
           "zerolinecolor": "white",
           "zerolinewidth": 2
          },
          "yaxis": {
           "automargin": true,
           "gridcolor": "white",
           "linecolor": "white",
           "ticks": "",
           "title": {
            "standoff": 15
           },
           "zerolinecolor": "white",
           "zerolinewidth": 2
          }
         }
        }
       }
      },
      "image/png": "[encoded data removed]",
      "text/html": [
       "<div>                            <div id=\"c0cd3a7f-253b-467e-8adf-a5b42e7e21d9\" class=\"plotly-graph-div\" style=\"height:525px; width:100%;\"></div>            <script type=\"text/javascript\">                require([\"plotly\"], function(Plotly) {                    window.PLOTLYENV=window.PLOTLYENV || {};                                    if (document.getElementById(\"c0cd3a7f-253b-467e-8adf-a5b42e7e21d9\")) {                    Plotly.newPlot(                        \"c0cd3a7f-253b-467e-8adf-a5b42e7e21d9\",                        [{\"mode\": \"markers+text\", \"name\": \"Vertices\", \"text\": [\"0\", \"1\", \"2\", \"3\"], \"type\": \"scatter3d\", \"x\": [-0.5724254250526428, 0.4461754858493805, 0.2070431113243103, 1.2256444692611694], \"y\": [0.7248088121414185, -0.5592255592346191, 1.349165916442871, 0.0651320219039917], \"z\": [-10.766936302185059, -10.615549087524414, -10.715886116027832, -10.56450080871582]}, {\"mode\": \"lines\", \"name\": \"Edges\", \"type\": \"scatter3d\", \"x\": [-0.5724254250526428, 0.4461754858493805, null, 0.2070431113243103, 1.2256444692611694, null, -0.5724254250526428, 0.2070431113243103, null, 0.4461754858493805, 1.2256444692611694, null], \"y\": [0.7248088121414185, -0.5592255592346191, null, 1.349165916442871, 0.0651320219039917, null, 0.7248088121414185, 1.349165916442871, null, -0.5592255592346191, 0.0651320219039917, null], \"z\": [-10.766936302185059, -10.615549087524414, null, -10.715886116027832, -10.56450080871582, null, -10.766936302185059, -10.715886116027832, null, -10.615549087524414, -10.56450080871582, null]}],                        {\"template\": {\"data\": {\"bar\": [{\"error_x\": {\"color\": \"#2a3f5f\"}, \"error_y\": {\"color\": \"#2a3f5f\"}, \"marker\": {\"line\": {\"color\": \"#E5ECF6\", \"width\": 0.5}}, \"type\": \"bar\"}], \"barpolar\": [{\"marker\": {\"line\": {\"color\": \"#E5ECF6\", \"width\": 0.5}}, \"type\": \"barpolar\"}], \"carpet\": [{\"aaxis\": {\"endlinecolor\": \"#2a3f5f\", \"gridcolor\": \"white\", \"linecolor\": \"white\", \"minorgridcolor\": \"white\", \"startlinecolor\": \"#2a3f5f\"}, \"baxis\": {\"endlinecolor\": \"#2a3f5f\", \"gridcolor\": \"white\", \"linecolor\": \"white\", \"minorgridcolor\": \"white\", \"startlinecolor\": \"#2a3f5f\"}, \"type\": \"carpet\"}], \"choropleth\": [{\"colorbar\": {\"outlinewidth\": 0, \"ticks\": \"\"}, \"type\": \"choropleth\"}], \"contour\": [{\"colorbar\": {\"outlinewidth\": 0, \"ticks\": \"\"}, \"colorscale\": [[0.0, \"#0d0887\"], [0.1111111111111111, \"#46039f\"], [0.2222222222222222, \"#7201a8\"], [0.3333333333333333, \"#9c179e\"], [0.4444444444444444, \"#bd3786\"], [0.5555555555555556, \"#d8576b\"], [0.6666666666666666, \"#ed7953\"], [0.7777777777777778, \"#fb9f3a\"], [0.8888888888888888, \"#fdca26\"], [1.0, \"#f0f921\"]], \"type\": \"contour\"}], \"contourcarpet\": [{\"colorbar\": {\"outlinewidth\": 0, \"ticks\": \"\"}, \"type\": \"contourcarpet\"}], \"heatmap\": [{\"colorbar\": {\"outlinewidth\": 0, \"ticks\": \"\"}, \"colorscale\": [[0.0, \"#0d0887\"], [0.1111111111111111, \"#46039f\"], [0.2222222222222222, \"#7201a8\"], [0.3333333333333333, \"#9c179e\"], [0.4444444444444444, \"#bd3786\"], [0.5555555555555556, \"#d8576b\"], [0.6666666666666666, \"#ed7953\"], [0.7777777777777778, \"#fb9f3a\"], [0.8888888888888888, \"#fdca26\"], [1.0, \"#f0f921\"]], \"type\": \"heatmap\"}], \"heatmapgl\": [{\"colorbar\": {\"outlinewidth\": 0, \"ticks\": \"\"}, \"colorscale\": [[0.0, \"#0d0887\"], [0.1111111111111111, \"#46039f\"], [0.2222222222222222, \"#7201a8\"], [0.3333333333333333, \"#9c179e\"], [0.4444444444444444, \"#bd3786\"], [0.5555555555555556, \"#d8576b\"], [0.6666666666666666, \"#ed7953\"], [0.7777777777777778, \"#fb9f3a\"], [0.8888888888888888, \"#fdca26\"], [1.0, \"#f0f921\"]], \"type\": \"heatmapgl\"}], \"histogram\": [{\"marker\": {\"colorbar\": {\"outlinewidth\": 0, \"ticks\": \"\"}}, \"type\": \"histogram\"}], \"histogram2d\": [{\"colorbar\": {\"outlinewidth\": 0, \"ticks\": \"\"}, \"colorscale\": [[0.0, \"#0d0887\"], [0.1111111111111111, \"#46039f\"], [0.2222222222222222, \"#7201a8\"], [0.3333333333333333, \"#9c179e\"], [0.4444444444444444, \"#bd3786\"], [0.5555555555555556, \"#d8576b\"], [0.6666666666666666, \"#ed7953\"], [0.7777777777777778, \"#fb9f3a\"], [0.8888888888888888, \"#fdca26\"], [1.0, \"#f0f921\"]], \"type\": \"histogram2d\"}], \"histogram2dcontour\": [{\"colorbar\": {\"outlinewidth\": 0, \"ticks\": \"\"}, \"colorscale\": [[0.0, \"#0d0887\"], [0.1111111111111111, \"#46039f\"], [0.2222222222222222, \"#7201a8\"], [0.3333333333333333, \"#9c179e\"], [0.4444444444444444, \"#bd3786\"], [0.5555555555555556, \"#d8576b\"], [0.6666666666666666, \"#ed7953\"], [0.7777777777777778, \"#fb9f3a\"], [0.8888888888888888, \"#fdca26\"], [1.0, \"#f0f921\"]], \"type\": \"histogram2dcontour\"}], \"mesh3d\": [{\"colorbar\": {\"outlinewidth\": 0, \"ticks\": \"\"}, \"type\": \"mesh3d\"}], \"parcoords\": [{\"line\": {\"colorbar\": {\"outlinewidth\": 0, \"ticks\": \"\"}}, \"type\": \"parcoords\"}], \"pie\": [{\"automargin\": true, \"type\": \"pie\"}], \"scatter\": [{\"marker\": {\"colorbar\": {\"outlinewidth\": 0, \"ticks\": \"\"}}, \"type\": \"scatter\"}], \"scatter3d\": [{\"line\": {\"colorbar\": {\"outlinewidth\": 0, \"ticks\": \"\"}}, \"marker\": {\"colorbar\": {\"outlinewidth\": 0, \"ticks\": \"\"}}, \"type\": \"scatter3d\"}], \"scattercarpet\": [{\"marker\": {\"colorbar\": {\"outlinewidth\": 0, \"ticks\": \"\"}}, \"type\": \"scattercarpet\"}], \"scattergeo\": [{\"marker\": {\"colorbar\": {\"outlinewidth\": 0, \"ticks\": \"\"}}, \"type\": \"scattergeo\"}], \"scattergl\": [{\"marker\": {\"colorbar\": {\"outlinewidth\": 0, \"ticks\": \"\"}}, \"type\": \"scattergl\"}], \"scattermapbox\": [{\"marker\": {\"colorbar\": {\"outlinewidth\": 0, \"ticks\": \"\"}}, \"type\": \"scattermapbox\"}], \"scatterpolar\": [{\"marker\": {\"colorbar\": {\"outlinewidth\": 0, \"ticks\": \"\"}}, \"type\": \"scatterpolar\"}], \"scatterpolargl\": [{\"marker\": {\"colorbar\": {\"outlinewidth\": 0, \"ticks\": \"\"}}, \"type\": \"scatterpolargl\"}], \"scatterternary\": [{\"marker\": {\"colorbar\": {\"outlinewidth\": 0, \"ticks\": \"\"}}, \"type\": \"scatterternary\"}], \"surface\": [{\"colorbar\": {\"outlinewidth\": 0, \"ticks\": \"\"}, \"colorscale\": [[0.0, \"#0d0887\"], [0.1111111111111111, \"#46039f\"], [0.2222222222222222, \"#7201a8\"], [0.3333333333333333, \"#9c179e\"], [0.4444444444444444, \"#bd3786\"], [0.5555555555555556, \"#d8576b\"], [0.6666666666666666, \"#ed7953\"], [0.7777777777777778, \"#fb9f3a\"], [0.8888888888888888, \"#fdca26\"], [1.0, \"#f0f921\"]], \"type\": \"surface\"}], \"table\": [{\"cells\": {\"fill\": {\"color\": \"#EBF0F8\"}, \"line\": {\"color\": \"white\"}}, \"header\": {\"fill\": {\"color\": \"#C8D4E3\"}, \"line\": {\"color\": \"white\"}}, \"type\": \"table\"}]}, \"layout\": {\"annotationdefaults\": {\"arrowcolor\": \"#2a3f5f\", \"arrowhead\": 0, \"arrowwidth\": 1}, \"coloraxis\": {\"colorbar\": {\"outlinewidth\": 0, \"ticks\": \"\"}}, \"colorscale\": {\"diverging\": [[0, \"#8e0152\"], [0.1, \"#c51b7d\"], [0.2, \"#de77ae\"], [0.3, \"#f1b6da\"], [0.4, \"#fde0ef\"], [0.5, \"#f7f7f7\"], [0.6, \"#e6f5d0\"], [0.7, \"#b8e186\"], [0.8, \"#7fbc41\"], [0.9, \"#4d9221\"], [1, \"#276419\"]], \"sequential\": [[0.0, \"#0d0887\"], [0.1111111111111111, \"#46039f\"], [0.2222222222222222, \"#7201a8\"], [0.3333333333333333, \"#9c179e\"], [0.4444444444444444, \"#bd3786\"], [0.5555555555555556, \"#d8576b\"], [0.6666666666666666, \"#ed7953\"], [0.7777777777777778, \"#fb9f3a\"], [0.8888888888888888, \"#fdca26\"], [1.0, \"#f0f921\"]], \"sequentialminus\": [[0.0, \"#0d0887\"], [0.1111111111111111, \"#46039f\"], [0.2222222222222222, \"#7201a8\"], [0.3333333333333333, \"#9c179e\"], [0.4444444444444444, \"#bd3786\"], [0.5555555555555556, \"#d8576b\"], [0.6666666666666666, \"#ed7953\"], [0.7777777777777778, \"#fb9f3a\"], [0.8888888888888888, \"#fdca26\"], [1.0, \"#f0f921\"]]}, \"colorway\": [\"#636efa\", \"#EF553B\", \"#00cc96\", \"#ab63fa\", \"#FFA15A\", \"#19d3f3\", \"#FF6692\", \"#B6E880\", \"#FF97FF\", \"#FECB52\"], \"font\": {\"color\": \"#2a3f5f\"}, \"geo\": {\"bgcolor\": \"white\", \"lakecolor\": \"white\", \"landcolor\": \"#E5ECF6\", \"showlakes\": true, \"showland\": true, \"subunitcolor\": \"white\"}, \"hoverlabel\": {\"align\": \"left\"}, \"hovermode\": \"closest\", \"mapbox\": {\"style\": \"light\"}, \"paper_bgcolor\": \"white\", \"plot_bgcolor\": \"#E5ECF6\", \"polar\": {\"angularaxis\": {\"gridcolor\": \"white\", \"linecolor\": \"white\", \"ticks\": \"\"}, \"bgcolor\": \"#E5ECF6\", \"radialaxis\": {\"gridcolor\": \"white\", \"linecolor\": \"white\", \"ticks\": \"\"}}, \"scene\": {\"xaxis\": {\"backgroundcolor\": \"#E5ECF6\", \"gridcolor\": \"white\", \"gridwidth\": 2, \"linecolor\": \"white\", \"showbackground\": true, \"ticks\": \"\", \"zerolinecolor\": \"white\"}, \"yaxis\": {\"backgroundcolor\": \"#E5ECF6\", \"gridcolor\": \"white\", \"gridwidth\": 2, \"linecolor\": \"white\", \"showbackground\": true, \"ticks\": \"\", \"zerolinecolor\": \"white\"}, \"zaxis\": {\"backgroundcolor\": \"#E5ECF6\", \"gridcolor\": \"white\", \"gridwidth\": 2, \"linecolor\": \"white\", \"showbackground\": true, \"ticks\": \"\", \"zerolinecolor\": \"white\"}}, \"shapedefaults\": {\"line\": {\"color\": \"#2a3f5f\"}}, \"ternary\": {\"aaxis\": {\"gridcolor\": \"white\", \"linecolor\": \"white\", \"ticks\": \"\"}, \"baxis\": {\"gridcolor\": \"white\", \"linecolor\": \"white\", \"ticks\": \"\"}, \"bgcolor\": \"#E5ECF6\", \"caxis\": {\"gridcolor\": \"white\", \"linecolor\": \"white\", \"ticks\": \"\"}}, \"title\": {\"x\": 0.05}, \"xaxis\": {\"automargin\": true, \"gridcolor\": \"white\", \"linecolor\": \"white\", \"ticks\": \"\", \"title\": {\"standoff\": 15}, \"zerolinecolor\": \"white\", \"zerolinewidth\": 2}, \"yaxis\": {\"automargin\": true, \"gridcolor\": \"white\", \"linecolor\": \"white\", \"ticks\": \"\", \"title\": {\"standoff\": 15}, \"zerolinecolor\": \"white\", \"zerolinewidth\": 2}}}},                        {\"responsive\": true}                    ).then(function(){\n",
       "                            \n",
       "var gd = document.getElementById('c0cd3a7f-253b-467e-8adf-a5b42e7e21d9');\n",
       "var x = new MutationObserver(function (mutations, observer) {{\n",
       "        var display = window.getComputedStyle(gd).display;\n",
       "        if (!display || display === 'none') {{\n",
       "            console.log([gd, 'removed!']);\n",
       "            Plotly.purge(gd);\n",
       "            observer.disconnect();\n",
       "        }}\n",
       "}});\n",
       "\n",
       "// Listen for the removal of the full notebook cells\n",
       "var notebookContainer = gd.closest('#notebook-container');\n",
       "if (notebookContainer) {{\n",
       "    x.observe(notebookContainer, {childList: true});\n",
       "}}\n",
       "\n",
       "// Listen for the clearing of the current output cell\n",
       "var outputEl = gd.closest('.output');\n",
       "if (outputEl) {{\n",
       "    x.observe(outputEl, {childList: true});\n",
       "}}\n",
       "\n",
       "                        })                };                });            </script>        </div>"
      ]
     },
     "metadata": {},
     "output_type": "display_data"
    }
   ],
   "source": [
    "k = np.random.choice(len(objects), 1)[0]\n",
    "print(\"k = \", k)\n",
    "objects[k].show(projected=True)"
   ]
  },
  {
   "cell_type": "code",
   "execution_count": 24,
   "metadata": {
    "colab": {
     "base_uri": "https://localhost:8080/",
     "height": 541
    },
    "id": "TbqVAP5nqow4",
    "outputId": "c634c2ad-e706-4a38-cf53-e7cafc5c0deb"
   },
   "outputs": [
    {
     "data": {
      "image/png": "[encoded data removed]",
      "text/plain": [
       "<Figure size 1008x648 with 9 Axes>"
      ]
     },
     "metadata": {
      "needs_background": "light"
     },
     "output_type": "display_data"
    }
   ],
   "source": [
    "def show_list_of_objects2d(object_list, save=False):\n",
    "    n = math.ceil(math.sqrt(len(object_list)))\n",
    "    fig, axs = plt.subplots(n, n, figsize = (14, 9))\n",
    "    counter = 0\n",
    "    for i in range(n):\n",
    "        for j in range(n):\n",
    "            if counter == len(object_list):\n",
    "                break\n",
    "            ob = object_list[counter]\n",
    "            pairs = get_edge_vert_pairs_from(ob.conn)\n",
    "            lines = []\n",
    "            for p in pairs:\n",
    "                x0 = ob.xyz_proj[0, p[0]]\n",
    "                y0 = ob.xyz_proj[1, p[0]]\n",
    "                x1 = ob.xyz_proj[0, p[1]]\n",
    "                y1 = ob.xyz_proj[1, p[1]]\n",
    "                lines.append([(x0,y0), (x1, y1)])\n",
    "\n",
    "            lc = matplotlib.collections.LineCollection(lines, color = \"orange\", linewidths=1)\n",
    "            axs[i, j].add_collection(lc)\n",
    "            axs[i, j].scatter(ob.xyz_proj[0,:], ob.xyz_proj[1,:])\n",
    "            axs[i, j].set_xlim(-2,2)\n",
    "            axs[i, j].set_ylim(-2,2)\n",
    "            counter += 1\n",
    "\n",
    "    if save:\n",
    "        fig.savefig(\"object_list.png\")\n",
    "\n",
    "show_list_of_objects2d([objects[k] for k in np.random.choice(len(objects), 3**2)], True)"
   ]
  },
  {
   "cell_type": "markdown",
   "metadata": {
    "id": "N3EpGjd6Oqj0"
   },
   "source": [
    "### Functions to go from list of objects to network inputs"
   ]
  },
  {
   "cell_type": "code",
   "execution_count": 20,
   "metadata": {
    "id": "XC1G99UHN4_j"
   },
   "outputs": [],
   "source": [
    "def get_xyz_Arch2(obj, layer, network_size):\n",
    "  n = len(obj.xyz_proj[layer])\n",
    "  pad = network_size - n\n",
    "  coord_mat = obj.xyz_proj[layer].unsqueeze(0).repeat(n,1) \n",
    "  M = nn.ZeroPad2d((0, pad, 0, pad))\n",
    "  return M(coord_mat)\n",
    "\n",
    "def get_conn_mat_Arch2(obj, network_size):\n",
    "  pairs = get_edge_vert_pairs_from(obj.conn)\n",
    "  n = len(obj.xyz_proj[0])\n",
    "  pad = network_size - n\n",
    "  conn_mat = torch.zeros(network_size,network_size)\n",
    "  for i in range(network_size):\n",
    "    for j in range(network_size):\n",
    "      if (i,j) in pairs or (j,i) in pairs:\n",
    "        conn_mat[i,j] = torch.tensor(1.)\n",
    "  return conn_mat\n",
    "\n",
    "\n",
    "def expand(triple, network_size):\n",
    "  mat = torch.zeros((network_size, 3))\n",
    "  mat[triple[0], 0] = 1. \n",
    "  mat[triple[1], 1] = 1.\n",
    "  mat[triple[2], 2] = 1.\n",
    "  return mat\n",
    "\n",
    "def format_faces(obj, max_face_size, max_faces):\n",
    "  faces = -1 * torch.ones((max_faces, max_face_size), dtype = torch.int8)\n",
    "  for i in range(len(obj.vis_faces)):\n",
    "    N = len(obj.vis_faces[i])\n",
    "    assert N+2 <= max_face_size, \"provided face too large!\"\n",
    "    face = obj.vis_faces[i] + obj.vis_faces[i][:2]\n",
    "    faces[i, :N+2] = torch.tensor(face, dtype=torch.int8)\n",
    "  return faces\n",
    "\n",
    "def get_triples(conn, max_angles):\n",
    "  triples = []\n",
    "  pairs = get_edge_vert_pairs_from(conn)\n",
    "  M = max([max(p) for p in pairs])\n",
    "\n",
    "  shared = {}\n",
    "  for shared_index in range(M+1):\n",
    "      we_share_a_vertex = []\n",
    "      for pair in pairs:\n",
    "          if shared_index == pair[0]:\n",
    "            we_share_a_vertex.append(pair[1])\n",
    "          elif shared_index == pair[1]:\n",
    "            we_share_a_vertex.append(pair[0])\n",
    "\n",
    "      shared[shared_index] = we_share_a_vertex\n",
    "\n",
    "  for key in shared.keys():\n",
    "    for ends in combinations(shared[key], 2):\n",
    "      triples.append([ends[0], key, ends[1]])\n",
    "      #triples.append(expand([ends[0], key, ends[1]], network_size))\n",
    "  #print(shared)\n",
    "  pad = max_angles - len(triples)\n",
    "  triples2 = torch.cat([torch.tensor(triples), torch.zeros(pad,3)], dim = 0)\n",
    "  return triples2\n",
    "  \n",
    "\n",
    "def get_sda(obj, max_angles):\n",
    "  x = get_triples(obj.conn, max_angles).int().tolist()\n",
    "  batch_angles = []\n",
    "  i = 0\n",
    "  while x[i] != [0,0,0]:\n",
    "    #print(\"verts = \", x[i])\n",
    "    v1 = obj.xyz[:, x[i][0]]\n",
    "    v2 = obj.xyz[:, x[i][1]]\n",
    "    v3 = obj.xyz[:, x[i][2]]\n",
    "    A = get_angle(v1,v2,v3)\n",
    "    #print(\"Angle = \", A)\n",
    "    batch_angles.append(A)\n",
    "    i += 1\n",
    "  return torch.std(torch.stack(batch_angles))\n",
    "\n",
    "\n",
    "def get_data_set_Arch_4(object_list, network_size, max_angles, train_test_sizes = None):\n",
    "  n = len(object_list)\n",
    "  if not train_test_sizes:\n",
    "    train_size = math.ceil(n*0.8)\n",
    "    inds = np.random.choice(range(n), n, replace = False)\n",
    "    train_inds = inds[:train_size]\n",
    "    test_inds = inds[train_size:]\n",
    "    train_objects = [object_list[k] for k in range(n) if k in train_inds]\n",
    "    test_objects = [object_list[k] for k in range(n) if k in test_inds]\n",
    "  else:\n",
    "    inds = np.random.choice(range(n), sum(train_test_sizes), replace = False)\n",
    "    train_inds = inds[:train_test_sizes[0]]\n",
    "    test_inds = inds[train_test_sizes[0]:]\n",
    "    train_objects = [object_list[k] for k in range(n) if k in train_inds]\n",
    "    test_objects = [object_list[k] for k in range(n) if k in test_inds]\n",
    "\n",
    "\n",
    "  train_dataset = torch.utils.data.TensorDataset(torch.stack([get_xyz_Arch2(obj, 0, network_size) for obj in train_objects]), #X\n",
    "                                                 torch.stack([get_xyz_Arch2(obj, 1, network_size) for obj in train_objects]), #Y\n",
    "                                                 torch.stack([get_xyz_Arch2(obj, 2, network_size) for obj in train_objects]), #Z\n",
    "                                                 torch.stack([get_conn_mat_Arch2(obj, network_size) for obj in train_objects]), #conn\n",
    "                                                 torch.tensor([obj.label for obj in train_objects]), # label\n",
    "                                                 torch.tensor([get_sda(obj , max_angles) for obj in train_objects]), #sda\n",
    "                                                 torch.tensor([number_of_visible_verts(obj) for obj in train_objects]), #num_vv\n",
    "                                                 torch.stack([get_triples(obj.conn, max_angles) for obj in train_objects]),\n",
    "                                                 torch.stack([format_faces(obj, 8,8) for obj in train_objects])) #triples\n",
    "\n",
    "  test_dataset = torch.utils.data.TensorDataset(torch.stack([get_xyz_Arch2(obj, 0, network_size) for obj in test_objects]), #X\n",
    "                                                torch.stack([get_xyz_Arch2(obj, 1, network_size) for obj in test_objects]), #Y\n",
    "                                                torch.stack([get_xyz_Arch2(obj, 2, network_size) for obj in test_objects]), #Z\n",
    "                                                torch.stack([get_conn_mat_Arch2(obj, network_size) for obj in test_objects]), #conn\n",
    "                                                torch.tensor([obj.label for obj in test_objects]), # label\n",
    "                                                torch.tensor([get_sda(obj , max_angles) for obj in test_objects]), #sda\n",
    "                                                torch.tensor([number_of_visible_verts(obj) for obj in test_objects]), #num_vv\n",
    "                                                torch.stack([get_triples(obj.conn, max_angles) for obj in test_objects]),\n",
    "                                                torch.stack([format_faces(obj, 8,8) for obj in test_objects])) #filter_mat\n",
    "\n",
    "\n",
    "  return train_dataset, test_dataset\n"
   ]
  },
  {
   "cell_type": "code",
   "execution_count": 20,
   "metadata": {
    "id": "N43YglIfNXs_"
   },
   "outputs": [],
   "source": []
  },
  {
   "cell_type": "markdown",
   "metadata": {
    "id": "0ekQ0l42YNN5"
   },
   "source": [
    "### Test Above Functions"
   ]
  },
  {
   "cell_type": "code",
   "execution_count": 21,
   "metadata": {
    "id": "ZP3AAKAwdhqY"
   },
   "outputs": [],
   "source": [
    "#tts = (1000, 100)\n",
    "tts = (30, 4)\n",
    "train_data, test_data = get_data_set_Arch_4(objects, network_size = 20, max_angles = 50, train_test_sizes=tts)"
   ]
  },
  {
   "cell_type": "code",
   "execution_count": 22,
   "metadata": {
    "id": "7ff49xhpj3S6"
   },
   "outputs": [],
   "source": [
    "train_loader = torch.utils.data.DataLoader(train_data, batch_size=5, shuffle=True)\n",
    "test_loader = torch.utils.data.DataLoader(test_data, batch_size=1, shuffle=True)"
   ]
  },
  {
   "cell_type": "code",
   "execution_count": 23,
   "metadata": {
    "colab": {
     "base_uri": "https://localhost:8080/"
    },
    "id": "FIrJLl9Lk-oJ",
    "outputId": "296fd4b7-7d36-41da-f81e-ba4050b9034f"
   },
   "outputs": [
    {
     "name": "stdout",
     "output_type": "stream",
     "text": [
      "torch.Size([5, 20, 20])\n",
      "torch.Size([5, 20, 20])\n",
      "torch.Size([5, 20, 20])\n",
      "torch.Size([5, 20, 20])\n",
      "torch.Size([5])\n",
      "torch.Size([5])\n",
      "torch.Size([5])\n",
      "torch.Size([5, 50, 3])\n",
      "torch.Size([5, 8, 8])\n"
     ]
    }
   ],
   "source": [
    "batch = next(iter(train_loader))\n",
    "for b in batch:\n",
    "  print(b.shape)\n"
   ]
  },
  {
   "cell_type": "code",
   "execution_count": 24,
   "metadata": {
    "colab": {
     "base_uri": "https://localhost:8080/"
    },
    "id": "n0jmIspI7bDq",
    "outputId": "612a9101-dd6a-4a1e-9f34-8c1dee697b47"
   },
   "outputs": [
    {
     "name": "stdout",
     "output_type": "stream",
     "text": [
      "[[0, 3, 2, 1], [1, 2, 6, 5], [0, 1, 5, 4]]\n"
     ]
    },
    {
     "data": {
      "text/plain": [
       "tensor([[ 0,  3,  2,  1,  0,  3, -1, -1],\n",
       "        [ 1,  2,  6,  5,  1,  2, -1, -1],\n",
       "        [ 0,  1,  5,  4,  0,  1, -1, -1],\n",
       "        [-1, -1, -1, -1, -1, -1, -1, -1],\n",
       "        [-1, -1, -1, -1, -1, -1, -1, -1],\n",
       "        [-1, -1, -1, -1, -1, -1, -1, -1],\n",
       "        [-1, -1, -1, -1, -1, -1, -1, -1],\n",
       "        [-1, -1, -1, -1, -1, -1, -1, -1]], dtype=torch.int8)"
      ]
     },
     "execution_count": 24,
     "metadata": {
      "tags": []
     },
     "output_type": "execute_result"
    }
   ],
   "source": [
    "print(objects[4].vis_faces)\n",
    "ff = format_faces(objects[4], 8, 8)\n",
    "ff"
   ]
  },
  {
   "cell_type": "code",
   "execution_count": 25,
   "metadata": {
    "colab": {
     "base_uri": "https://localhost:8080/"
    },
    "id": "hcgMYomONcYI",
    "outputId": "0f292619-69b2-4b93-fa41-30ea0eb4172f"
   },
   "outputs": [
    {
     "data": {
      "text/plain": [
       "tensor(12.1967)"
      ]
     },
     "execution_count": 25,
     "metadata": {
      "tags": []
     },
     "output_type": "execute_result"
    }
   ],
   "source": [
    "x = get_triples(objects[k].conn, 20).int().tolist()\n",
    "batch_angles = []\n",
    "i = 0\n",
    "while x[i] != [0,0,0]:\n",
    "  v1 = objects[k].xyz[:, x[i][0]]\n",
    "  v2 = objects[k].xyz[:, x[i][1]]\n",
    "  v3 = objects[k].xyz[:, x[i][2]]\n",
    "  A = get_angle(v1,v2,v3)\n",
    "  #print(x[i], A)\n",
    "  batch_angles.append(A)\n",
    "  i += 1\n",
    "\n",
    "torch.std(torch.stack(batch_angles))"
   ]
  },
  {
   "cell_type": "code",
   "execution_count": 25,
   "metadata": {
    "id": "HqnQx5WFP51J"
   },
   "outputs": [],
   "source": []
  },
  {
   "cell_type": "markdown",
   "metadata": {
    "id": "hnqh3sioYX0L"
   },
   "source": [
    "### Plotting Functions"
   ]
  },
  {
   "cell_type": "code",
   "execution_count": 26,
   "metadata": {
    "id": "dOSfBODjYaWR"
   },
   "outputs": [],
   "source": [
    "def pairs_from_conn(conn):\n",
    "  conn = conn.squeeze()\n",
    "  pairs = []\n",
    "  h, w = conn.shape\n",
    "  for i in range(h):\n",
    "    for j in range(w):\n",
    "      if conn[i,j] == True and (j, i) not in pairs:\n",
    "        pairs.append((i, j))\n",
    "  return pairs\n",
    "\n",
    "\n",
    "def show3D(xyz, conn, am = \"data\"):\n",
    "  #credit: https://stackoverflow.com/questions/42301481/adding-specific-lines-to-a-plotly-scatter3d-plot\n",
    "  pairs = pairs_from_conn(conn)\n",
    "  xyz = xyz.detach().numpy()\n",
    "\n",
    "  trace1 = go.Scatter3d(\n",
    "      x=xyz[0],\n",
    "      y=xyz[1],\n",
    "      z=xyz[2],\n",
    "      text = [str(i) for i in range(len(xyz[0]))],\n",
    "      mode='markers+text',\n",
    "      name='Vertices'\n",
    "  )\n",
    "\n",
    "\n",
    "  #create the coordinate list for the lines\n",
    "  x_lines = []\n",
    "  y_lines = []\n",
    "  z_lines = []\n",
    "  for p in pairs:\n",
    "      for i in range(2):\n",
    "          x_lines.append(xyz[0][p[i]])\n",
    "          y_lines.append(xyz[1][p[i]])\n",
    "          z_lines.append(xyz[2][p[i]])\n",
    "      x_lines.append(None)\n",
    "      y_lines.append(None)\n",
    "      z_lines.append(None)\n",
    "\n",
    "  trace2 = go.Scatter3d(\n",
    "      x=x_lines,\n",
    "      y=y_lines,\n",
    "      z=z_lines,\n",
    "      mode='lines',\n",
    "      name='Edges'\n",
    "  )\n",
    "  layout = go.Layout(width=600, height=600, \n",
    "                     scene=dict(aspectmode=am, aspectratio=dict(x=1, y=1, z=1)))\n",
    "\n",
    "  fig = go.Figure(data=[trace1, trace2], layout=layout)\n",
    "\n",
    "  fig.show()"
   ]
  },
  {
   "cell_type": "code",
   "execution_count": 27,
   "metadata": {
    "colab": {
     "base_uri": "https://localhost:8080/"
    },
    "id": "i1CparaFsxqY",
    "outputId": "c54d9ba3-20c7-401a-e6ae-5b4a1d82084a"
   },
   "outputs": [
    {
     "data": {
      "text/plain": [
       "[[1, 0, 3],\n",
       " [0, 1, 2],\n",
       " [0, 1, 4],\n",
       " [2, 1, 4],\n",
       " [1, 2, 3],\n",
       " [1, 2, 5],\n",
       " [3, 2, 5],\n",
       " [2, 3, 0],\n",
       " [2, 3, 6],\n",
       " [0, 3, 6],\n",
       " [5, 4, 1],\n",
       " [4, 5, 6],\n",
       " [4, 5, 2],\n",
       " [6, 5, 2],\n",
       " [5, 6, 3],\n",
       " [0, 0, 0],\n",
       " [0, 0, 0],\n",
       " [0, 0, 0],\n",
       " [0, 0, 0],\n",
       " [0, 0, 0]]"
      ]
     },
     "execution_count": 27,
     "metadata": {
      "tags": []
     },
     "output_type": "execute_result"
    }
   ],
   "source": [
    "threes = get_triples(objects[3].conn, 20)\n",
    "threes.int().tolist()"
   ]
  },
  {
   "cell_type": "markdown",
   "metadata": {
    "id": "OB0AWWo2LE_E"
   },
   "source": [
    "## Define Architecture 4A"
   ]
  },
  {
   "cell_type": "code",
   "execution_count": 28,
   "metadata": {
    "id": "5rkwHoBULHqz"
   },
   "outputs": [],
   "source": [
    "class Arch4A(nn.Module):    \n",
    "    def __init__(self, vertices, nonlinearity = torch.tanh, device = \"cpu\"):\n",
    "        super(Arch4A, self).__init__()\n",
    "\n",
    "        self.vertices = vertices\n",
    "        self.nonlinearity = nonlinearity\n",
    "        self.device = device\n",
    "\n",
    "        self.conv1 = nn.Conv2d(in_channels = 3, out_channels = 16, kernel_size = 3, stride = 1, padding = 1)\n",
    "        self.conv2 = torch.nn.Conv2d(16, 32, 3, 1, padding = 1)\n",
    "        self.pool2 = nn.MaxPool2d(2, stride = 2)\n",
    "        self.fc0 = nn.Linear(2 * vertices * vertices, vertices*vertices) # [32*20/4*20/4] = [32/16*20*20]\n",
    "        self.fc1 = nn.Linear(self.vertices*self.vertices, self.vertices)\n",
    "        self.fc2 = nn.Linear(self.vertices, self.vertices)\n",
    "                        \n",
    "    def get_angle(self, p1, p2, p3):\n",
    "      e1 = p1 - p2\n",
    "      e2 = p3 - p2\n",
    "      x = torch.dot(e1, e2)/(torch.norm(e1) * torch.norm(e2))\n",
    "      return torch.rad2deg(torch.acos(x))\n",
    "    \n",
    "    def forward_1(self, x, y, conn):\n",
    "        batch_size = x.shape[0]\n",
    "        #suppose batch size = 10 and network size = 20, all shapes after assignment\n",
    "        z = self.conv1(torch.stack([x,y,conn], dim = 1)) #[10, 16, 20, 20]\n",
    "        z = self.pool2(z) #[10, 16, 10, 10]\n",
    "        z = self.nonlinearity(z)\n",
    "        z = self.conv2(z) #[10, 32, 10, 10]\n",
    "        z = self.pool2(z) #[10, 32, 5, 5]\n",
    "        z = self.nonlinearity(z)\n",
    "        z = z.view(batch_size, -1) #[10, 32 * 5 * 5]\n",
    "        z = self.fc0(z)\n",
    "        z = self.nonlinearity(z)\n",
    "        z = self.fc1(z)\n",
    "        zeroz = torch.zeros(batch_size, self.vertices).to(self.device)\n",
    "        new_xyz = torch.stack([x[:,0],y[:,0],zeroz], dim = 2).permute(0,2,1)\n",
    "        new_xyz[:,2,:] = z \n",
    "        return new_xyz\n",
    "\n",
    "\n",
    "    def forward(self, x, y, conn, num_vv, triples, faces, extract_xyz = False):\n",
    "        batch_size = x.shape[0]\n",
    "        # Pick XYZ estimates\n",
    "        new_xyz = self.forward_1(x,y,conn)\n",
    "\n",
    "        # compute angles by selecting 3 points \n",
    "        stop = torch.zeros(3).to(self.device)\n",
    "        max_angles = triples.shape[1]\n",
    "        sda = torch.zeros(batch_size, requires_grad=False).to(self.device)\n",
    "        planarity = torch.zeros(batch_size).to(self.device)\n",
    "        angles = []\n",
    "        for b in range(batch_size):\n",
    "          i = 0\n",
    "          #batch_angles = torch.zeros(max_angles, requires_grad=False)\n",
    "          batch_angles = {}\n",
    "          while not all(triples[b, i, :] == stop):\n",
    "            t = triples[b, i, :].int()\n",
    "            v1 = new_xyz[b, :, t[0]]\n",
    "            v2 = new_xyz[b, :, t[1]]\n",
    "            v3 = new_xyz[b, :, t[2]]\n",
    "            batch_angles[str(t.tolist())] = self.get_angle(v1, v2, v3)\n",
    "            i += 1\n",
    "          angles.append(batch_angles)\n",
    "          sda[b] = torch.std(torch.stack([*batch_angles.values()]))\n",
    "          #print(\"batch \", b, \" batch angles = \", batch_angles)\n",
    "        \n",
    "          # Planarity constraint\n",
    "          #print(faces.shape)\n",
    "          p = 0\n",
    "          for i in range(faces.shape[1]):              \n",
    "            for j in range(faces.shape[2]):\n",
    "              key1 = faces[b, i, j:j+3].tolist()\n",
    "              if -1 in key1 and j > 0:\n",
    "                p = p - 180*(j-2) \n",
    "                # print(\"i,j = \",i,j)\n",
    "                # print(\"180*j is\", 180*(j-2))\n",
    "                break\n",
    "              elif j == 0 and -1 in key1:\n",
    "                break\n",
    "              key1s = str(key1)\n",
    "              try: \n",
    "                #print(key1s, batch_angles[key1s])\n",
    "                p = p + batch_angles[key1s]\n",
    "                #print(\"key1 worked! p = {}, i = {}, j = {}, b = {}, add angle = {}\".format(p, i,j,b, batch_angles[key1s]))\n",
    "              except KeyError:\n",
    "                key2 = key1.copy()\n",
    "                key2.reverse()\n",
    "                key2s = str(key2)\n",
    "                #print(key2s, batch_angles[key2s])\n",
    "                p = p + batch_angles[key2s]\n",
    "                #print(\"key2 worked! p = {}, i = {}, j = {}, b = {}, add angle = {}\".format(p, i,j,b, batch_angles[key2s]))\n",
    "            p = abs(p)\n",
    "            #print(\"face {} p = {}\".format(i, p))\n",
    "\n",
    "          planarity[b] = abs(p)\n",
    "\n",
    "        gamma = 1.\n",
    "        loss = sda + gamma*planarity  \n",
    "            \n",
    "        #print(\"planarity = \", planarity)\n",
    "        if extract_xyz: \n",
    "          return new_xyz, sda, planarity, loss, angles \n",
    "\n",
    "        return loss"
   ]
  },
  {
   "cell_type": "code",
   "execution_count": 28,
   "metadata": {
    "id": "OT5jezTxS89p"
   },
   "outputs": [],
   "source": []
  },
  {
   "cell_type": "markdown",
   "metadata": {
    "id": "oslNicrUzdy9"
   },
   "source": [
    "## Define Architecture 4B"
   ]
  },
  {
   "cell_type": "code",
   "execution_count": 29,
   "metadata": {
    "id": "aHMulwUOzhZ_"
   },
   "outputs": [],
   "source": [
    "class Arch4B(nn.Module):    \n",
    "    def __init__(self, vertices, nonlinearity = torch.tanh, device = \"cpu\"):\n",
    "        super(Arch4B, self).__init__()\n",
    "\n",
    "        self.vertices = vertices\n",
    "        self.nonlinearity = nonlinearity\n",
    "        self.device = device\n",
    "\n",
    "        self.conv1 = nn.Conv2d(in_channels = 3, out_channels = 32, kernel_size = 3, stride = 1, padding = 1)\n",
    "        self.conv2 = torch.nn.Conv2d(32, 64, 3, 1, padding = 1)\n",
    "        self.pool2 = nn.MaxPool2d(2, stride = 2)\n",
    "        self.fc0 = nn.Linear(4 * vertices * vertices, 2 * vertices*vertices) # [64*20/4*20/4] = [64/16*20*20]\n",
    "        self.fc1 = nn.Linear(2 * self.vertices*self.vertices, self.vertices*self.vertices)\n",
    "        self.fc2 = nn.Linear(self.vertices*self.vertices, self.vertices)\n",
    "                        \n",
    "    def get_angle(self, p1, p2, p3):\n",
    "      e1 = p1 - p2\n",
    "      e2 = p3 - p2\n",
    "      x = torch.dot(e1, e2)/(torch.norm(e1) * torch.norm(e2))\n",
    "      return torch.rad2deg(torch.acos(x))\n",
    "    \n",
    "    def forward_1(self, x, y, conn):\n",
    "        batch_size = x.shape[0]\n",
    "        #suppose batch size = 10 and network size = 20, all shapes after assignment\n",
    "        z = self.conv1(torch.stack([x,y,conn], dim = 1)) #[10, 16, 20, 20]\n",
    "        z = self.pool2(z) #[10, 16, 10, 10]\n",
    "        z = self.nonlinearity(z)\n",
    "        z = self.conv2(z) #[10, 32, 10, 10]\n",
    "        z = self.pool2(z) #[10, 32, 5, 5]\n",
    "        z = self.nonlinearity(z)\n",
    "        z = z.view(batch_size, -1) #[10, 32 * 5 * 5]\n",
    "        z = self.fc0(z)\n",
    "        z = self.nonlinearity(z)\n",
    "        z = self.fc1(z)\n",
    "        z = self.nonlinearity(z)\n",
    "        z = self.fc2(z)\n",
    "        zeroz = torch.zeros(batch_size, self.vertices).to(self.device)\n",
    "        new_xyz = torch.stack([x[:,0],y[:,0],zeroz], dim = 2).permute(0,2,1)\n",
    "        new_xyz[:,2,:] = z \n",
    "        return new_xyz\n",
    "\n",
    "\n",
    "    def forward(self, x, y, conn, num_vv, triples, faces, extract_xyz = False):\n",
    "        batch_size = x.shape[0]\n",
    "        # Pick XYZ estimates\n",
    "        new_xyz = self.forward_1(x,y,conn)\n",
    "\n",
    "        # compute angles by selecting 3 points \n",
    "        stop = torch.zeros(3).to(self.device)\n",
    "        max_angles = triples.shape[1]\n",
    "        sda = torch.zeros(batch_size, requires_grad=False).to(self.device)\n",
    "        planarity = torch.zeros(batch_size).to(self.device)\n",
    "        angles = []\n",
    "        for b in range(batch_size):\n",
    "          i = 0\n",
    "          #batch_angles = torch.zeros(max_angles, requires_grad=False)\n",
    "          batch_angles = {}\n",
    "          while not all(triples[b, i, :] == stop):\n",
    "            t = triples[b, i, :].int()\n",
    "            v1 = new_xyz[b, :, t[0]]\n",
    "            v2 = new_xyz[b, :, t[1]]\n",
    "            v3 = new_xyz[b, :, t[2]]\n",
    "            batch_angles[str(t.tolist())] = self.get_angle(v1, v2, v3)\n",
    "            i += 1\n",
    "          angles.append(batch_angles)\n",
    "          sda[b] = torch.std(torch.stack([*batch_angles.values()]))\n",
    "          #print(\"batch \", b, \" batch angles = \", batch_angles)\n",
    "        \n",
    "          # Planarity constraint\n",
    "          #print(faces.shape)\n",
    "          p = 0\n",
    "          for i in range(faces.shape[1]):              \n",
    "            for j in range(faces.shape[2]):\n",
    "              key1 = faces[b, i, j:j+3].tolist()\n",
    "              if -1 in key1 and j > 0:\n",
    "                p = p - 180*(j-2) \n",
    "                # print(\"i,j = \",i,j)\n",
    "                # print(\"180*j is\", 180*(j-2))\n",
    "                break\n",
    "              elif j == 0 and -1 in key1:\n",
    "                break\n",
    "              key1s = str(key1)\n",
    "              try: \n",
    "                #print(key1s, batch_angles[key1s])\n",
    "                p = p + batch_angles[key1s]\n",
    "                #print(\"key1 worked! p = {}, i = {}, j = {}, b = {}, add angle = {}\".format(p, i,j,b, batch_angles[key1s]))\n",
    "              except KeyError:\n",
    "                key2 = key1.copy()\n",
    "                key2.reverse()\n",
    "                key2s = str(key2)\n",
    "                #print(key2s, batch_angles[key2s])\n",
    "                p = p + batch_angles[key2s]\n",
    "                #print(\"key2 worked! p = {}, i = {}, j = {}, b = {}, add angle = {}\".format(p, i,j,b, batch_angles[key2s]))\n",
    "            p = abs(p)\n",
    "            #print(\"face {} p = {}\".format(i, p))\n",
    "\n",
    "          planarity[b] = abs(p)\n",
    "\n",
    "        gamma = 1.\n",
    "        loss = sda + gamma*planarity  \n",
    "            \n",
    "        #print(\"planarity = \", planarity)\n",
    "        if extract_xyz: \n",
    "          return new_xyz, sda, planarity, loss, angles \n",
    "\n",
    "        return loss"
   ]
  },
  {
   "cell_type": "markdown",
   "metadata": {
    "id": "6cS8KGReG8rM"
   },
   "source": [
    "### Troubleshoot network"
   ]
  },
  {
   "cell_type": "code",
   "execution_count": 30,
   "metadata": {
    "colab": {
     "base_uri": "https://localhost:8080/"
    },
    "id": "6LSHX8EuHFi8",
    "outputId": "387275d2-ba40-495a-8d4c-2ad05339331a"
   },
   "outputs": [
    {
     "data": {
      "text/plain": [
       "tensor(34.6521, grad_fn=<L1LossBackward>)"
      ]
     },
     "execution_count": 30,
     "metadata": {
      "tags": []
     },
     "output_type": "execute_result"
    }
   ],
   "source": [
    "L1_loss = torch.nn.L1Loss()\n",
    "net = Arch4A(20, nonlinearity=torch.sigmoid)\n",
    "x,y,z,conn,label,sda, num_vv, triples, faces = next(iter(train_loader))\n",
    "sdas = net.forward(x,y,conn, num_vv, triples, faces)\n",
    "loss = L1_loss(sdas, sda)\n",
    "loss"
   ]
  },
  {
   "cell_type": "code",
   "execution_count": 31,
   "metadata": {
    "colab": {
     "base_uri": "https://localhost:8080/"
    },
    "id": "cv_KFz4TmyzA",
    "outputId": "4bed5db3-dd51-4aba-84c4-3e4623a864cb"
   },
   "outputs": [
    {
     "data": {
      "text/plain": [
       "tensor(35.2063, grad_fn=<L1LossBackward>)"
      ]
     },
     "execution_count": 31,
     "metadata": {
      "tags": []
     },
     "output_type": "execute_result"
    }
   ],
   "source": [
    "L1_loss = torch.nn.L1Loss()\n",
    "net = Arch4B(20, nonlinearity=torch.sigmoid)\n",
    "x,y,z,conn,label,sda, num_vv, triples, faces = next(iter(train_loader))\n",
    "sdas = net.forward(x,y,conn, num_vv, triples, faces)\n",
    "loss = L1_loss(sdas, sda)\n",
    "loss"
   ]
  },
  {
   "cell_type": "markdown",
   "metadata": {
    "id": "gm7i1wYCmm4f"
   },
   "source": [
    "## Train Network"
   ]
  },
  {
   "cell_type": "code",
   "execution_count": 77,
   "metadata": {
    "id": "EJX1g5Zvuget"
   },
   "outputs": [],
   "source": [
    "device = \"cpu\""
   ]
  },
  {
   "cell_type": "markdown",
   "metadata": {
    "id": "8G3n3bj59D24"
   },
   "source": [
    "### Define Datasets"
   ]
  },
  {
   "cell_type": "code",
   "execution_count": 78,
   "metadata": {
    "id": "vbAHc8t281tb"
   },
   "outputs": [],
   "source": [
    "train_data, test_data = get_data_set_Arch_4(objects, network_size = 20, max_angles = 50,train_test_sizes=(1000, 100))"
   ]
  },
  {
   "cell_type": "code",
   "execution_count": 79,
   "metadata": {
    "id": "9xlZRTgT84BF"
   },
   "outputs": [],
   "source": [
    "train_loader = torch.utils.data.DataLoader(train_data, batch_size=10, shuffle=True)\n",
    "test_loader = torch.utils.data.DataLoader(test_data, batch_size=1, shuffle=True)"
   ]
  },
  {
   "cell_type": "markdown",
   "metadata": {
    "id": "LbFwF_-q-3y7"
   },
   "source": [
    "### Initialize Network"
   ]
  },
  {
   "cell_type": "code",
   "execution_count": 86,
   "metadata": {
    "id": "LnAXFQoE-6um"
   },
   "outputs": [],
   "source": [
    "device = \"cpu\"\n",
    "#net = Arch4A(20, nonlinearity=torch.sigmoid, device=device)\n",
    "#net_cuda = net.to(device)\n",
    "net = Arch4B(20, nonlinearity=torch.sigmoid, device=device)"
   ]
  },
  {
   "cell_type": "markdown",
   "metadata": {
    "id": "cESZVYaY9PUw"
   },
   "source": [
    "### Define Loss And Optimizer"
   ]
  },
  {
   "cell_type": "code",
   "execution_count": 87,
   "metadata": {
    "id": "0b_1XNKB0ZhH"
   },
   "outputs": [],
   "source": [
    "L1_loss = torch.nn.L1Loss()\n",
    "opt = torch.optim.Adam(net.parameters(), lr=1e-3)\n",
    "#opt_cuda = torch.optim.Adam(net_cuda.parameters(), lr=1e-3)"
   ]
  },
  {
   "cell_type": "markdown",
   "metadata": {
    "id": "GweoqgMS9uFa"
   },
   "source": [
    "### Define Train Step Function"
   ]
  },
  {
   "cell_type": "code",
   "execution_count": 88,
   "metadata": {
    "id": "dR3ypMWh0PLq"
   },
   "outputs": [],
   "source": [
    "def train_step(x, y, conn, num_vv, triples, faces, sda, net, opt_fn, loss_fn):\n",
    "    sda_est = net(x, y, conn, num_vv, triples, faces)\n",
    "    loss = loss_fn(sda_est, sda)\n",
    "    loss.backward()\n",
    "    opt_fn.step()\n",
    "    opt_fn.zero_grad()\n",
    "    return loss"
   ]
  },
  {
   "cell_type": "markdown",
   "metadata": {
    "id": "zCCHjbmJ9yex"
   },
   "source": [
    "### Train Loop\n",
    "* 5 epochs takes 42 seconds, so about **8 seconds per epoch on CPU** with 1000 objects in each epoch and architecture 4A. \n",
    "* 5 epochs takes 91 seconds, so about **18 seconds per epoch on GPU** with 1000 objects in each epoch and architecture 4A. \n",
    "* 5 epochs takes 41 seconds, **8 seconds per epoch on CPU** with 1000 objects in each epoch and architecture ***4B***. \n",
    "* Loss function seems to limit at at loss of about 1 or 2 degrees after about 100 epochs. 50 epochs takes about 7 minutes so training for 150 epochs to ensure you're doing ok could take 20 minutes or so.  "
   ]
  },
  {
   "cell_type": "code",
   "execution_count": 109,
   "metadata": {
    "colab": {
     "base_uri": "https://localhost:8080/"
    },
    "id": "_hVMQzDymJfx",
    "outputId": "97a825dc-c8dd-4ae8-8a17-3e7a345b6fa1"
   },
   "outputs": [
    {
     "name": "stdout",
     "output_type": "stream",
     "text": [
      "1.273766279220581\n",
      "1.0701109170913696\n",
      "epoch  0\n",
      "1.1198980808258057\n",
      "1.5879887342453003\n",
      "epoch  1\n",
      "1.8921741247177124\n",
      "3.372269868850708\n",
      "epoch  2\n",
      "1.7535572052001953\n",
      "1.6148147583007812\n",
      "epoch  3\n",
      "2.1851718425750732\n",
      "1.403926134109497\n",
      "epoch  4\n",
      "1.2605363130569458\n",
      "2.1966392993927\n",
      "epoch  5\n",
      "1.867725133895874\n",
      "1.7549362182617188\n",
      "epoch  6\n",
      "1.8315048217773438\n",
      "1.059420108795166\n",
      "epoch  7\n",
      "1.693027138710022\n",
      "0.9039848446846008\n",
      "epoch  8\n",
      "1.5755574703216553\n",
      "1.1346100568771362\n",
      "epoch  9\n",
      "1.4688225984573364\n",
      "1.7745256423950195\n",
      "epoch  10\n",
      "0.8637336492538452\n",
      "1.0135283470153809\n",
      "epoch  11\n",
      "1.1791490316390991\n",
      "0.6481643915176392\n",
      "epoch  12\n",
      "1.4770588874816895\n",
      "1.3213365077972412\n",
      "epoch  13\n",
      "1.0495277643203735\n",
      "0.8100529909133911\n",
      "epoch  14\n",
      "2.483381748199463\n",
      "1.4795678853988647\n",
      "epoch  15\n",
      "1.4823250770568848\n",
      "2.0504989624023438\n",
      "epoch  16\n",
      "1.5299241542816162\n",
      "1.5357654094696045\n",
      "epoch  17\n",
      "0.9992491602897644\n",
      "2.0110363960266113\n",
      "epoch  18\n",
      "1.1376324892044067\n",
      "1.3464583158493042\n",
      "epoch  19\n",
      "1.916172742843628\n",
      "0.9354604482650757\n",
      "epoch  20\n",
      "1.6434009075164795\n",
      "1.0180261135101318\n",
      "epoch  21\n",
      "0.8190526962280273\n",
      "2.0129590034484863\n",
      "epoch  22\n",
      "0.9896618723869324\n",
      "1.0241817235946655\n",
      "epoch  23\n",
      "1.0573087930679321\n",
      "1.1844507455825806\n",
      "epoch  24\n",
      "1.8337085247039795\n",
      "1.4791284799575806\n",
      "epoch  25\n",
      "1.0691783428192139\n",
      "1.0782476663589478\n",
      "epoch  26\n",
      "0.692254900932312\n",
      "1.3520803451538086\n",
      "epoch  27\n",
      "1.3880261182785034\n",
      "1.887738823890686\n",
      "epoch  28\n",
      "0.938901424407959\n",
      "1.415313959121704\n",
      "epoch  29\n",
      "1.6285183429718018\n",
      "1.7758899927139282\n",
      "epoch  30\n",
      "1.3727573156356812\n",
      "1.1142970323562622\n",
      "epoch  31\n",
      "1.5800470113754272\n",
      "1.0879497528076172\n",
      "epoch  32\n",
      "0.9323488473892212\n",
      "1.3072999715805054\n",
      "epoch  33\n",
      "1.692130446434021\n",
      "1.2894519567489624\n",
      "epoch  34\n",
      "1.5830333232879639\n",
      "0.7808491587638855\n",
      "epoch  35\n",
      "1.2257846593856812\n",
      "1.400720477104187\n",
      "epoch  36\n",
      "0.8129096031188965\n",
      "2.451773166656494\n",
      "epoch  37\n",
      "1.4046454429626465\n",
      "1.6989715099334717\n",
      "epoch  38\n",
      "0.7514445185661316\n",
      "0.8538259267807007\n",
      "epoch  39\n",
      "0.6681562066078186\n",
      "2.051830768585205\n",
      "epoch  40\n",
      "0.9666875600814819\n",
      "0.9999176263809204\n",
      "epoch  41\n",
      "1.658478021621704\n",
      "1.4291538000106812\n",
      "epoch  42\n",
      "1.4909276962280273\n",
      "1.685004472732544\n",
      "epoch  43\n",
      "0.8014440536499023\n",
      "0.8236433267593384\n",
      "epoch  44\n",
      "1.026249647140503\n",
      "1.2978429794311523\n",
      "epoch  45\n",
      "2.0221078395843506\n",
      "0.5128599405288696\n",
      "epoch  46\n",
      "0.5625318288803101\n",
      "0.8415464162826538\n",
      "epoch  47\n",
      "1.5288431644439697\n",
      "0.6089012622833252\n",
      "epoch  48\n",
      "0.5480040311813354\n",
      "0.9795314073562622\n",
      "epoch  49\n",
      "Elapsed Time =  0:07:02\n"
     ]
    }
   ],
   "source": [
    "start_time = time.time()\n",
    "epochs = 50\n",
    "loss_hist_train = []\n",
    "counter = 0\n",
    "for epoch in range(epochs):\n",
    "    for x,y,z,conn,label,sda, num_vv, triples, faces in iter(train_loader):   \n",
    "        loss = train_step(x.to(device), y.to(device), conn.to(device), num_vv.to(device), \n",
    "                          triples.to(device), faces.to(device), sda.to(device), net, opt, L1_loss)\n",
    "        loss_hist_train.append(loss.item())\n",
    "        counter += 1\n",
    "        if counter % 50 == 0:\n",
    "          print(loss.item())\n",
    "    print(\"epoch \", epoch)\n",
    "print(\"Elapsed Time = \", datetime.timedelta(seconds=round(time.time() - start_time)))"
   ]
  },
  {
   "cell_type": "code",
   "execution_count": 110,
   "metadata": {
    "colab": {
     "base_uri": "https://localhost:8080/",
     "height": 265
    },
    "id": "nzZB57MKAzqi",
    "outputId": "4aa2add5-1d30-449a-d86a-0d2e7fec55b1"
   },
   "outputs": [
    {
     "data": {
      "image/png": "[encoded data removed]",
      "text/plain": [
       "<Figure size 432x288 with 1 Axes>"
      ]
     },
     "metadata": {
      "needs_background": "light",
      "tags": []
     },
     "output_type": "display_data"
    }
   ],
   "source": [
    "plt.plot(loss_hist_train);"
   ]
  },
  {
   "cell_type": "code",
   "execution_count": 111,
   "metadata": {
    "colab": {
     "base_uri": "https://localhost:8080/",
     "height": 265
    },
    "id": "LJjFSTmyA8pu",
    "outputId": "e1ae4070-9e24-4112-fa3d-62ab7df41f18"
   },
   "outputs": [
    {
     "data": {
      "image/png": "[encoded data removed]",
      "text/plain": [
       "<Figure size 432x288 with 1 Axes>"
      ]
     },
     "metadata": {
      "needs_background": "light",
      "tags": []
     },
     "output_type": "display_data"
    }
   ],
   "source": [
    "plt.scatter(np.arange(len(loss_hist_train)), loss_hist_train);"
   ]
  },
  {
   "cell_type": "markdown",
   "metadata": {
    "id": "LvIBijN6EeIG"
   },
   "source": [
    "##Load Model Instead of Training"
   ]
  },
  {
   "cell_type": "code",
   "execution_count": 32,
   "metadata": {
    "colab": {
     "base_uri": "https://localhost:8080/"
    },
    "id": "Mc5pK-oFEk6n",
    "outputId": "e848417b-750f-43d0-afba-24f3e693bbc7"
   },
   "outputs": [
    {
     "name": "stdout",
     "output_type": "stream",
     "text": [
      "Epoch = 150, Loss = 0.9795314073562622\n"
     ]
    }
   ],
   "source": [
    "device = \"cpu\"\n",
    "net_12_14 = Arch4B(20, nonlinearity=torch.sigmoid, device=device)\n",
    "opt_12_14 = torch.optim.Adam(net_12_14.parameters(), lr=1e-3)\n",
    "\n",
    "checkpoint = torch.load('/content/drive/MyDrive/239 Project /model_12_14_2020_Arch4B.pickle')\n",
    "net_12_14.load_state_dict(checkpoint['model_state_dict'])\n",
    "opt_12_14.load_state_dict(checkpoint['optimizer_state_dict'])\n",
    "epoch_12_14 = checkpoint['epoch']\n",
    "loss_12_14 = checkpoint['loss']\n",
    "print(\"Epoch = {}, Loss = {}\".format(epoch_12_14, loss_12_14))"
   ]
  },
  {
   "cell_type": "markdown",
   "metadata": {
    "id": "ELZJ3KgzGf7s"
   },
   "source": [
    "## Reconstructions"
   ]
  },
  {
   "cell_type": "markdown",
   "metadata": {
    "id": "yUgsYdXGwA9I"
   },
   "source": [
    "### Functions for Numerical Summary of Reconstruction"
   ]
  },
  {
   "cell_type": "code",
   "execution_count": 147,
   "metadata": {
    "id": "BRI9YegrwCwQ"
   },
   "outputs": [],
   "source": [
    "def extract_xyz(x,y,z, num_vv):\n",
    "  X = x[0, 0, :num_vv]\n",
    "  Y = y[0, 0, :num_vv]\n",
    "  Z = z[0, 0, :num_vv]\n",
    "  return torch.stack([X,Y,Z])\n",
    "\n",
    "def string_to_list(s):\n",
    "  \"\"\"\n",
    "  Takes string of the form '[1,2,3]' and returns the list [1,2,3]\n",
    "  \"\"\"\n",
    "  l = list(s.replace(\"[\", \"\").replace(\"]\", \"\").split(\",\"))\n",
    "  return [int(x) for x in l]\n",
    "\n",
    "def get_pairs_from_square_conn(conn):\n",
    "  conn = conn.squeeze()\n",
    "  h,w = conn.shape\n",
    "  pairs = []\n",
    "  for i in range(h):\n",
    "    for j in range(i+1, w):\n",
    "      if conn[i,j] == 1.:\n",
    "        pairs.append((i,j))\n",
    "  return pairs\n",
    "\n",
    "\n",
    "def get_angle(p1, p2, p3):\n",
    "  \"\"\"\n",
    "  Given 3 (x,y,z) 3x1 tensors p1, p2, p3, computes angle between p1 - p2 and p3 - p2\n",
    "  using the dot product cosine rule. \n",
    "  \"\"\"\n",
    "  e1 = p1 - p2\n",
    "  e2 = p3 - p2\n",
    "  x = torch.dot(e1, e2)/(torch.norm(e1) * torch.norm(e2))\n",
    "  return torch.rad2deg(torch.acos(x))\n",
    "\n",
    "def single_object_summary(next_iter_loader, net, return_xyzs=False):\n",
    "  \"\"\"\n",
    "  Inputs: \n",
    "  loader = dataloader with sample size 1, probably the test loader\n",
    "  net = neural network to evaluate loader data on\n",
    "\n",
    "  Takes a single example from the loader and passes the data through the net, \n",
    "  and then provides numerical summaries of the original and reconstructed data.\n",
    "  \"\"\"\n",
    "\n",
    "  x, y, z, conn, label, sda, num_vv, triples, faces = next_iter_loader  \n",
    "  new_xyz, est_sda, planarity, loss, angles = net(x, y, conn, num_vv, triples, faces, extract_xyz = True)\n",
    "\n",
    "  # XYZ DataFrame ######################\n",
    "  xyz_original = extract_xyz(x,y,z, num_vv)\n",
    "  reconstructed_z = new_xyz.squeeze()[2, :num_vv].detach().numpy()\n",
    "  xyz_df = pd.DataFrame(xyz_original).astype(\"float\").T\n",
    "  xyz_df.columns = ['X', 'Y', 'Actual Z']\n",
    "  xyz_df.insert(3, \"Estimated Z\", reconstructed_z)\n",
    "\n",
    "\n",
    "  # Angle DataFrame #####################\n",
    "  angles = angles[0]\n",
    "  verts = list(angles.keys())\n",
    "  angs = [x.detach().squeeze().tolist() for x in angles.values()]\n",
    "  #print(\"actual std = \", torch.std(torch.stack(list(angles.values()))))\n",
    "  angles_df = pd.DataFrame([verts, angs]).T\n",
    "  angles_df.columns = ['Vertices', 'Estimated Angle']\n",
    "  angles_df.index = [str(i+1) for i in range(len(verts))]\n",
    "\n",
    "  # get actual angles\n",
    "  actual_angles = []\n",
    "  for vert in verts:\n",
    "    vert_list = string_to_list(vert)\n",
    "    v0 = xyz_original[:, vert_list[0]]\n",
    "    v1 = xyz_original[:, vert_list[1]]\n",
    "    v2 = xyz_original[:, vert_list[2]]\n",
    "    #print(vert, get_angle(v0, v1, v2))\n",
    "    actual_angles.append(get_angle(v0, v1, v2))\n",
    "  angles_df.insert(1, \"Actual Angle\", torch.stack(actual_angles).tolist())\n",
    "  \n",
    "  # Loss DataFrame #################\n",
    "  loss_list = [[est_sda.squeeze().detach().tolist(), sda.squeeze().detach().tolist()],\n",
    "               [planarity.detach().tolist()[0], 0],\n",
    "               [loss.squeeze().detach().tolist(),sda.squeeze().detach().tolist()]]\n",
    "  loss_df = pd.DataFrame(loss_list, \n",
    "                         columns = [\"Estimated\", \"Actual\"], \n",
    "                         index=['SDA', 'Deviation from Planarity', 'Total Loss'])\n",
    "\n",
    "  print(\"------------------------------------------------------\")\n",
    "  print(\"ANGLES\")\n",
    "  print(angles_df)\n",
    "  print(\"------------------------------------------------------\")\n",
    "  print(\"SDA + PLANARITY\")\n",
    "  print(loss_df) \n",
    "  print(\"------------------------------------------------------\")\n",
    "  print(\"XYZ\")\n",
    "  print(xyz_df)\n",
    "  print(\"------------------------------------------------------\")\n",
    "\n",
    "  # Faces DataFrame\n",
    "  faces = faces.squeeze().tolist()\n",
    "  pad_indexs = [f.index(-1) for f in faces]\n",
    "  new_faces = []\n",
    "  for i in range(len(faces)):\n",
    "    if pad_indexs[i] > 0:\n",
    "      new_faces += [faces[i][:pad_indexs[i]]]\n",
    "  \n",
    "  face_dfs = []\n",
    "  for f in new_faces:\n",
    "    print(\"FACE {}\".format(f[:len(f)-2]))\n",
    "    threes = [f[i:i+3] for i in range(len(f) - 2)]\n",
    "    actual_angles = []\n",
    "    reconstructed_angles = []\n",
    "    for vert in threes:\n",
    "      v0 = xyz_original[:, vert[0]]\n",
    "      v1 = xyz_original[:, vert[1]]\n",
    "      v2 = xyz_original[:, vert[2]]\n",
    "      actual_angles.append(get_angle(v0, v1, v2))\n",
    "      v3 = new_xyz.squeeze()[:, vert[0]]\n",
    "      v4 = new_xyz.squeeze()[:, vert[1]]\n",
    "      v5 = new_xyz.squeeze()[:, vert[2]]\n",
    "      reconstructed_angles.append(get_angle(v3, v4, v5))\n",
    "    face_df = pd.DataFrame([[str(t) for t in threes], \n",
    "                            [a.tolist() for a in actual_angles], \n",
    "                            [ra.detach().tolist() for ra in reconstructed_angles]]).T\n",
    "    face_df.columns = ['Vertices', 'Actual Angle','Estimated Angle']\n",
    "    face_df.loc['Total'] = pd.Series([face_df['Actual Angle'].sum(), face_df['Estimated Angle'].sum()], \n",
    "                                     index = ['Actual Angle', 'Estimated Angle'])\n",
    "    print(face_df)\n",
    "    print(\"------------------------------------------------------\")\n",
    "\n",
    "  # Distances DataFrame\n",
    "  pairs = get_pairs_from_square_conn(conn) \n",
    "  actual_distances = []\n",
    "  estimated_distances = []\n",
    "  for pair in pairs:\n",
    "    i0 = pair[0]\n",
    "    i1 = pair[1]\n",
    "    d_actual = torch.linalg.norm(xyz_original[:, i0] - xyz_original[:, i1])\n",
    "    d_estimated = torch.linalg.norm(new_xyz.squeeze()[:, i0] - new_xyz.squeeze()[:, i1])\n",
    "    actual_distances.append(d_actual)\n",
    "    estimated_distances.append(d_estimated)\n",
    "  \n",
    "  dist_df = pd.DataFrame([[str(pair) for pair in pairs],\n",
    "                          [a.tolist() for a in actual_distances],\n",
    "                          [a.tolist() for a in estimated_distances]]).T\n",
    "  dist_df.columns = ['Verts in Edge', 'Actual Distance', \"Estimated Distance\"]\n",
    "  print(dist_df)\n",
    "  print(\"------------------------------------------------------\")\n",
    "\n",
    "  \n",
    "\n",
    "  if return_xyzs:\n",
    "    return xyz_original, new_xyz.squeeze()[:, :num_vv], conn\n"
   ]
  },
  {
   "cell_type": "markdown",
   "metadata": {
    "id": "FJ9zQjRssGkj"
   },
   "source": [
    "### Functions for Graphical Depiction of Reconstruction"
   ]
  },
  {
   "cell_type": "code",
   "execution_count": 172,
   "metadata": {
    "id": "0BOcrfO1wFjx"
   },
   "outputs": [],
   "source": [
    "def get_plotly_scatter3D_frame2(original, reconstructed, conn, theta):\n",
    "  \"\"\"Ok I have to decide what axis to rotate about. Viewing in XY plane, so rotate about axis\n",
    "  defined by avg(x) avg(y), then max(z), min(z). Rotating about axis parallel to x axis, \n",
    "  so x values never change, but y and z will. Adjust everything such that both objects \n",
    "  are centered at the origin. \n",
    "  xyz is going to be (3 x n), so x_rot @ z_rot @ xyz should yield the correct rotation. \n",
    "  \"\"\"\n",
    "  x_rot = np.array([[1,0,0],\n",
    "                    [0, np.cos(theta), -np.sin(theta)],\n",
    "                    [0, np.sin(theta), np.cos(theta)]])\n",
    "\n",
    "  original_new = x_rot @ original\n",
    "  reconstructed_new = x_rot @ reconstructed\n",
    "\n",
    "  #################### ORIGINAL ########################\n",
    "  # Vertices Data\n",
    "  trace1 = go.Scatter3d(\n",
    "      x=original_new[0],\n",
    "      y=original_new[1],\n",
    "      z=original_new[2],\n",
    "      mode='markers',\n",
    "      name='Original'\n",
    "  )\n",
    "  # Lines Data\n",
    "  pairs = pairs_from_conn(conn)\n",
    "  x_lines = list()\n",
    "  y_lines = list()\n",
    "  z_lines = list()\n",
    "\n",
    "  #create the coordinate list for the lines\n",
    "  for p in pairs:\n",
    "      for i in range(2):\n",
    "          x_lines.append(original_new[0][p[i]])\n",
    "          y_lines.append(original_new[1][p[i]])\n",
    "          z_lines.append(original_new[2][p[i]])\n",
    "      x_lines.append(None)\n",
    "      y_lines.append(None)\n",
    "      z_lines.append(None)\n",
    "\n",
    "  trace2 = go.Scatter3d(\n",
    "      x=x_lines,\n",
    "      y=y_lines,\n",
    "      z=z_lines,\n",
    "      mode='lines',\n",
    "      name='Original'\n",
    "  )\n",
    "  ################### RECONSTRUCTED #####################\n",
    "  # Vertices Data\n",
    "  trace3 = go.Scatter3d(\n",
    "      x=reconstructed_new[0],\n",
    "      y=reconstructed_new[1],\n",
    "      z=reconstructed_new[2],\n",
    "      mode='markers',\n",
    "      name='Reconstructed'\n",
    "  )\n",
    "  # Lines Data\n",
    "  x_lines2 = list()\n",
    "  y_lines2 = list()\n",
    "  z_lines2 = list()\n",
    "\n",
    "  #create the coordinate list for the lines\n",
    "  for p in pairs:\n",
    "      for i in range(2):\n",
    "          x_lines2.append(reconstructed_new[0][p[i]])\n",
    "          y_lines2.append(reconstructed_new[1][p[i]])\n",
    "          z_lines2.append(reconstructed_new[2][p[i]])\n",
    "      x_lines2.append(None)\n",
    "      y_lines2.append(None)\n",
    "      z_lines2.append(None)\n",
    "\n",
    "  trace4 = go.Scatter3d(\n",
    "      x=x_lines2,\n",
    "      y=y_lines2,\n",
    "      z=z_lines2,\n",
    "      mode='lines',\n",
    "      name='Reconstructed'\n",
    "  )\n",
    "\n",
    "\n",
    "  return go.Frame(data = [trace1, trace2, trace3, trace4], traces=[0,1,2,3])\n",
    "\n",
    "\n",
    "def compare3D(original, reconstructed, conn, center_at_origin=False, am=\"data\", nframes=30, tp360=2):\n",
    "  #credit: https://stackoverflow.com/questions/42301481/adding-specific-lines-to-a-plotly-scatter3d-plot\n",
    "\n",
    "  # convert from torch to numpy\n",
    "  pairs = pairs_from_conn(conn)\n",
    "  original = original.detach().numpy()\n",
    "  reconstructed = reconstructed.detach().numpy()\n",
    "\n",
    "  # center at origin, as NN reconstruction centered at zero, and actual object \n",
    "  # out in the world. \n",
    "  if center_at_origin:\n",
    "    orig_mean = np.mean(original, axis=1)\n",
    "    reconstructed_mean = np.mean(reconstructed, axis=1)\n",
    "    original = (original.T - orig_mean).T\n",
    "    reconstructed = (reconstructed.T - reconstructed_mean).T\n",
    "  \n",
    "  # set plot bounds\n",
    "  eps = 0.2\n",
    "  M = np.max(np.abs(np.concatenate((original, reconstructed), axis = 0)))\n",
    "  M += eps\n",
    "\n",
    "  #set time per frame\n",
    "  delay = int(tp360*1000/nframes)\n",
    "\n",
    "\n",
    "  # Define all the components of the plot\n",
    "  trace1 = go.Scatter3d(\n",
    "      x=original[0],\n",
    "      y=original[1],\n",
    "      z=original[2],\n",
    "      mode='markers',\n",
    "      name='Original'\n",
    "  )\n",
    "\n",
    "  trace2 = go.Scatter3d(\n",
    "      x=reconstructed[0],\n",
    "      y=reconstructed[1],\n",
    "      z=reconstructed[2],\n",
    "      mode='markers',\n",
    "      name='Reconstructed'\n",
    "  )\n",
    "\n",
    "  x_lines = list()\n",
    "  y_lines = list()\n",
    "  z_lines = list()\n",
    "\n",
    "  #create the coordinate list for the lines\n",
    "  for p in pairs:\n",
    "      for i in range(2):\n",
    "          x_lines.append(original[0][p[i]])\n",
    "          y_lines.append(original[1][p[i]])\n",
    "          z_lines.append(original[2][p[i]])\n",
    "      x_lines.append(None)\n",
    "      y_lines.append(None)\n",
    "      z_lines.append(None)\n",
    "\n",
    "  trace3 = go.Scatter3d(\n",
    "      x=x_lines,\n",
    "      y=y_lines,\n",
    "      z=z_lines,\n",
    "      mode='lines',\n",
    "      name='Original'\n",
    "  )\n",
    "\n",
    "  x_lines2 = list()\n",
    "  y_lines2 = list()\n",
    "  z_lines2 = list()\n",
    "\n",
    "  #create the coordinate list for the lines\n",
    "  for p in pairs:\n",
    "      for i in range(2):\n",
    "          x_lines2.append(reconstructed[0][p[i]])\n",
    "          y_lines2.append(reconstructed[1][p[i]])\n",
    "          z_lines2.append(reconstructed[2][p[i]])\n",
    "      x_lines2.append(None)\n",
    "      y_lines2.append(None)\n",
    "      z_lines2.append(None)\n",
    "\n",
    "  trace4 = go.Scatter3d(\n",
    "      x=x_lines2,\n",
    "      y=y_lines2,\n",
    "      z=z_lines2,\n",
    "      mode='lines',\n",
    "      name='Reconstructed'\n",
    "  )\n",
    "  # layout = go.Layout(width=600, height=600, \n",
    "  #                    scene=dict(aspectmode=am, aspectratio=dict(x=1, y=1, z=1)))\n",
    "\n",
    "  camera = dict(eye=dict(x=0., y=0, z=2.5))\n",
    "\n",
    "  #fig = go.Figure(data=[trace1, trace2, trace3, trace4], layout=layout)\n",
    "  thetas = np.linspace(0,2*np.pi, nframes)\n",
    "  fig = go.Figure(\n",
    "    data=[trace1, trace2, trace3, trace4],\n",
    "    layout=go.Layout(width=800, height=800,\n",
    "                     updatemenus=[dict(type=\"buttons\",\n",
    "                        buttons=[dict(label=\"Rotate\",\n",
    "                                        method=\"animate\",\n",
    "                                        args=[None, {\"frame\": {\"duration\": delay, \"redraw\": True},}])])]),\n",
    "    frames=[get_plotly_scatter3D_frame2(original, reconstructed, conn, theta) for theta in thetas])\n",
    "\n",
    "  fig.update_layout(scene_camera=camera,\n",
    "                    scene = dict(\n",
    "                      xaxis = dict(range=[-M,M],),\n",
    "                      yaxis = dict(range=[-M,M],),\n",
    "                      zaxis = dict(range=[-M,M],),\n",
    "                      aspectmode=am),)\n",
    "  fig.show()\n"
   ]
  },
  {
   "cell_type": "markdown",
   "metadata": {
    "id": "bNebOX7RnWL8"
   },
   "source": [
    "### Numerical Summary of Reconstruction"
   ]
  },
  {
   "cell_type": "code",
   "execution_count": 176,
   "metadata": {
    "colab": {
     "base_uri": "https://localhost:8080/"
    },
    "id": "fVP1vTZHBRK0",
    "outputId": "276d7a3b-527d-40da-ff93-6c637e0d8c9b"
   },
   "outputs": [
    {
     "name": "stdout",
     "output_type": "stream",
     "text": [
      "------------------------------------------------------\n",
      "ANGLES\n",
      "     Vertices  Actual Angle Estimated Angle\n",
      "1   [1, 0, 2]     77.142860         81.2316\n",
      "2   [1, 0, 3]     89.999969         83.5142\n",
      "3   [2, 0, 3]     90.000000           83.35\n",
      "4   [0, 1, 4]     90.000069         96.7094\n",
      "5   [0, 2, 6]     90.000076         95.7346\n",
      "6   [4, 3, 0]     90.000015         96.3574\n",
      "7   [4, 3, 6]     77.142860         81.1296\n",
      "8   [0, 3, 6]     90.000000         96.9224\n",
      "9   [3, 4, 5]     89.999992         90.4919\n",
      "10  [3, 4, 1]     89.999954         83.4169\n",
      "11  [5, 4, 1]     90.000061         92.4641\n",
      "12  [4, 5, 6]    102.857201         94.3024\n",
      "13  [5, 6, 3]     89.999947         93.7043\n",
      "14  [5, 6, 2]     90.000000         90.7876\n",
      "15  [3, 6, 2]     89.999924          83.992\n",
      "------------------------------------------------------\n",
      "SDA + PLANARITY\n",
      "                          Estimated  Actual\n",
      "SDA                        6.120108  5.8852\n",
      "Deviation from Planarity   0.368683  0.0000\n",
      "Total Loss                 6.488791  5.8852\n",
      "------------------------------------------------------\n",
      "XYZ\n",
      "          X         Y   Actual Z  Estimated Z\n",
      "0  0.444117  0.380267 -10.423609     0.561189\n",
      "1 -0.936850  0.416413 -11.156182    -0.012682\n",
      "2  0.719930 -0.438914 -11.726647    -0.792262\n",
      "3  0.172606 -0.459384  -9.953217     0.884905\n",
      "4 -1.208361 -0.423238 -10.685791     0.302429\n",
      "5 -0.731390 -1.099892 -11.618311    -0.902701\n",
      "6  0.448420 -1.278565 -11.256256    -0.451540\n",
      "------------------------------------------------------\n",
      "FACE [3, 4, 5, 6]\n",
      "        Vertices Actual Angle Estimated Angle\n",
      "0      [3, 4, 5]           90         90.4919\n",
      "1      [4, 5, 6]      102.857         94.3024\n",
      "2      [5, 6, 3]      89.9999         93.7043\n",
      "3      [6, 3, 4]      77.1429         81.1296\n",
      "Total        NaN          360         359.628\n",
      "------------------------------------------------------\n",
      "FACE [2, 0, 3, 6]\n",
      "        Vertices Actual Angle Estimated Angle\n",
      "0      [2, 0, 3]           90           83.35\n",
      "1      [0, 3, 6]           90         96.9224\n",
      "2      [3, 6, 2]      89.9999          83.992\n",
      "3      [6, 2, 0]      90.0001         95.7346\n",
      "Total        NaN          360         359.999\n",
      "------------------------------------------------------\n",
      "FACE [0, 1, 4, 3]\n",
      "        Vertices Actual Angle Estimated Angle\n",
      "0      [0, 1, 4]      90.0001         96.7094\n",
      "1      [1, 4, 3]           90         83.4169\n",
      "2      [4, 3, 0]           90         96.3574\n",
      "3      [3, 0, 1]           90         83.5142\n",
      "Total        NaN          360         359.998\n",
      "------------------------------------------------------\n",
      "  Verts in Edge Actual Distance Estimated Distance\n",
      "0        (0, 1)         1.56366             1.4959\n",
      "1        (0, 2)         1.56366            1.60591\n",
      "2        (0, 3)               1           0.939959\n",
      "3        (1, 4)               1            0.93703\n",
      "4        (2, 6)               1           0.945951\n",
      "5        (3, 4)         1.56366            1.49922\n",
      "6        (3, 6)         1.56366            1.59161\n",
      "7        (4, 5)         1.24698            1.46209\n",
      "8        (5, 6)         1.24698             1.2757\n",
      "------------------------------------------------------\n"
     ]
    }
   ],
   "source": [
    "next_iter_loader = next(iter(test_loader))\n",
    "xyz_original, xyz_new, conn = single_object_summary(next_iter_loader, net_12_14, return_xyzs=True)\n",
    "#xyz_original, xyz_new, conn = single_object_summary(next_iter_loader, net, return_xyzs=True)"
   ]
  },
  {
   "cell_type": "markdown",
   "metadata": {
    "id": "T8m0G4manYlb"
   },
   "source": [
    "### Graphical Summary of Reconstruction\n",
    "*   These functions depend on the output of single_object_summary function above. \n",
    "\n",
    "\n"
   ]
  },
  {
   "cell_type": "code",
   "execution_count": 180,
   "metadata": {
    "colab": {
     "base_uri": "https://localhost:8080/",
     "height": 817
    },
    "id": "TlxqHGWHHSQT",
    "outputId": "d5f50eb1-596b-4a21-c62e-fb57af1b757d"
   },
   "outputs": [
    {
     "data": {
      "text/html": [
       "<html>\n",
       "<head><meta charset=\"utf-8\" /></head>\n",
       "<body>\n",
       "    <div>\n",
       "            <script src=\"https://cdnjs.cloudflare.com/ajax/libs/mathjax/2.7.5/MathJax.js?config=TeX-AMS-MML_SVG\"></script><script type=\"text/javascript\">if (window.MathJax) {MathJax.Hub.Config({SVG: {font: \"STIX-Web\"}});}</script>\n",
       "                <script type=\"text/javascript\">window.PlotlyConfig = {MathJaxConfig: 'local'};</script>\n",
       "        <script src=\"https://cdn.plot.ly/plotly-latest.min.js\"></script>    \n",
       "            <div id=\"25cabbf6-29df-4d90-b203-a0a799c591f7\" class=\"plotly-graph-div\" style=\"height:800px; width:800px;\"></div>\n",
       "            <script type=\"text/javascript\">\n",
       "                \n",
       "                    window.PLOTLYENV=window.PLOTLYENV || {};\n",
       "                    \n",
       "                if (document.getElementById(\"25cabbf6-29df-4d90-b203-a0a799c591f7\")) {\n",
       "                    Plotly.newPlot(\n",
       "                        '25cabbf6-29df-4d90-b203-a0a799c591f7',\n",
       "                        [{\"mode\": \"markers\", \"name\": \"Original\", \"type\": \"scatter3d\", \"x\": [0.600049614906311, -0.7809175252914429, 0.875862717628479, 0.3285384774208069, -1.0524287223815918, -0.5754570960998535, 0.6043525338172913], \"y\": [0.7950258255004883, 0.8311718702316284, -0.024154871702194214, -0.044624775648117065, -0.008478611707687378, -0.6851334571838379, -0.8638062477111816], \"z\": [0.5506792068481445, -0.18189430236816406, -0.7523593902587891, 1.021071434020996, 0.2884969711303711, -0.6440229415893555, -0.2819681167602539]}, {\"mode\": \"markers\", \"name\": \"Reconstructed\", \"type\": \"scatter3d\", \"x\": [0.600049614906311, -0.7809175252914429, 0.875862717628479, 0.3285384774208069, -1.0524287223815918, -0.5754570960998535, 0.6043525338172913], \"y\": [0.7950258255004883, 0.8311718702316284, -0.024154871702194214, -0.044624775648117065, -0.008478611707687378, -0.6851334571838379, -0.8638062477111816], \"z\": [0.6198552846908569, 0.04598427936434746, -0.7335958480834961, 0.9435707926750183, 0.36109495162963867, -0.844035267829895, -0.39287418127059937]}, {\"mode\": \"lines\", \"name\": \"Original\", \"type\": \"scatter3d\", \"x\": [0.600049614906311, -0.7809175252914429, null, 0.600049614906311, 0.875862717628479, null, 0.600049614906311, 0.3285384774208069, null, -0.7809175252914429, -1.0524287223815918, null, 0.875862717628479, 0.6043525338172913, null, 0.3285384774208069, -1.0524287223815918, null, 0.3285384774208069, 0.6043525338172913, null, -1.0524287223815918, -0.5754570960998535, null, -0.5754570960998535, 0.6043525338172913, null], \"y\": [0.7950258255004883, 0.8311718702316284, null, 0.7950258255004883, -0.024154871702194214, null, 0.7950258255004883, -0.044624775648117065, null, 0.8311718702316284, -0.008478611707687378, null, -0.024154871702194214, -0.8638062477111816, null, -0.044624775648117065, -0.008478611707687378, null, -0.044624775648117065, -0.8638062477111816, null, -0.008478611707687378, -0.6851334571838379, null, -0.6851334571838379, -0.8638062477111816, null], \"z\": [0.5506792068481445, -0.18189430236816406, null, 0.5506792068481445, -0.7523593902587891, null, 0.5506792068481445, 1.021071434020996, null, -0.18189430236816406, 0.2884969711303711, null, -0.7523593902587891, -0.2819681167602539, null, 1.021071434020996, 0.2884969711303711, null, 1.021071434020996, -0.2819681167602539, null, 0.2884969711303711, -0.6440229415893555, null, -0.6440229415893555, -0.2819681167602539, null]}, {\"mode\": \"lines\", \"name\": \"Reconstructed\", \"type\": \"scatter3d\", \"x\": [0.600049614906311, -0.7809175252914429, null, 0.600049614906311, 0.875862717628479, null, 0.600049614906311, 0.3285384774208069, null, -0.7809175252914429, -1.0524287223815918, null, 0.875862717628479, 0.6043525338172913, null, 0.3285384774208069, -1.0524287223815918, null, 0.3285384774208069, 0.6043525338172913, null, -1.0524287223815918, -0.5754570960998535, null, -0.5754570960998535, 0.6043525338172913, null], \"y\": [0.7950258255004883, 0.8311718702316284, null, 0.7950258255004883, -0.024154871702194214, null, 0.7950258255004883, -0.044624775648117065, null, 0.8311718702316284, -0.008478611707687378, null, -0.024154871702194214, -0.8638062477111816, null, -0.044624775648117065, -0.008478611707687378, null, -0.044624775648117065, -0.8638062477111816, null, -0.008478611707687378, -0.6851334571838379, null, -0.6851334571838379, -0.8638062477111816, null], \"z\": [0.6198552846908569, 0.04598427936434746, null, 0.6198552846908569, -0.7335958480834961, null, 0.6198552846908569, 0.9435707926750183, null, 0.04598427936434746, 0.36109495162963867, null, -0.7335958480834961, -0.39287418127059937, null, 0.9435707926750183, 0.36109495162963867, null, 0.9435707926750183, -0.39287418127059937, null, 0.36109495162963867, -0.844035267829895, null, -0.844035267829895, -0.39287418127059937, null]}],\n",
       "                        {\"height\": 800, \"scene\": {\"aspectmode\": \"cube\", \"camera\": {\"eye\": {\"x\": 0.0, \"y\": 0, \"z\": 2.5}}, \"xaxis\": {\"range\": [-1.2524287223815918, 1.2524287223815918]}, \"yaxis\": {\"range\": [-1.2524287223815918, 1.2524287223815918]}, \"zaxis\": {\"range\": [-1.2524287223815918, 1.2524287223815918]}}, \"template\": {\"data\": {\"bar\": [{\"error_x\": {\"color\": \"#2a3f5f\"}, \"error_y\": {\"color\": \"#2a3f5f\"}, \"marker\": {\"line\": {\"color\": \"#E5ECF6\", \"width\": 0.5}}, \"type\": \"bar\"}], \"barpolar\": [{\"marker\": {\"line\": {\"color\": \"#E5ECF6\", \"width\": 0.5}}, \"type\": \"barpolar\"}], \"carpet\": [{\"aaxis\": {\"endlinecolor\": \"#2a3f5f\", \"gridcolor\": \"white\", \"linecolor\": \"white\", \"minorgridcolor\": \"white\", \"startlinecolor\": \"#2a3f5f\"}, \"baxis\": {\"endlinecolor\": \"#2a3f5f\", \"gridcolor\": \"white\", \"linecolor\": \"white\", \"minorgridcolor\": \"white\", \"startlinecolor\": \"#2a3f5f\"}, \"type\": \"carpet\"}], \"choropleth\": [{\"colorbar\": {\"outlinewidth\": 0, \"ticks\": \"\"}, \"type\": \"choropleth\"}], \"contour\": [{\"colorbar\": {\"outlinewidth\": 0, \"ticks\": \"\"}, \"colorscale\": [[0.0, \"#0d0887\"], [0.1111111111111111, \"#46039f\"], [0.2222222222222222, \"#7201a8\"], [0.3333333333333333, \"#9c179e\"], [0.4444444444444444, \"#bd3786\"], [0.5555555555555556, \"#d8576b\"], [0.6666666666666666, \"#ed7953\"], [0.7777777777777778, \"#fb9f3a\"], [0.8888888888888888, \"#fdca26\"], [1.0, \"#f0f921\"]], \"type\": \"contour\"}], \"contourcarpet\": [{\"colorbar\": {\"outlinewidth\": 0, \"ticks\": \"\"}, \"type\": \"contourcarpet\"}], \"heatmap\": [{\"colorbar\": {\"outlinewidth\": 0, \"ticks\": \"\"}, \"colorscale\": [[0.0, \"#0d0887\"], [0.1111111111111111, \"#46039f\"], [0.2222222222222222, \"#7201a8\"], [0.3333333333333333, \"#9c179e\"], [0.4444444444444444, \"#bd3786\"], [0.5555555555555556, \"#d8576b\"], [0.6666666666666666, \"#ed7953\"], [0.7777777777777778, \"#fb9f3a\"], [0.8888888888888888, \"#fdca26\"], [1.0, \"#f0f921\"]], \"type\": \"heatmap\"}], \"heatmapgl\": [{\"colorbar\": {\"outlinewidth\": 0, \"ticks\": \"\"}, \"colorscale\": [[0.0, \"#0d0887\"], [0.1111111111111111, \"#46039f\"], [0.2222222222222222, \"#7201a8\"], [0.3333333333333333, \"#9c179e\"], [0.4444444444444444, \"#bd3786\"], [0.5555555555555556, \"#d8576b\"], [0.6666666666666666, \"#ed7953\"], [0.7777777777777778, \"#fb9f3a\"], [0.8888888888888888, \"#fdca26\"], [1.0, \"#f0f921\"]], \"type\": \"heatmapgl\"}], \"histogram\": [{\"marker\": {\"colorbar\": {\"outlinewidth\": 0, \"ticks\": \"\"}}, \"type\": \"histogram\"}], \"histogram2d\": [{\"colorbar\": {\"outlinewidth\": 0, \"ticks\": \"\"}, \"colorscale\": [[0.0, \"#0d0887\"], [0.1111111111111111, \"#46039f\"], [0.2222222222222222, \"#7201a8\"], [0.3333333333333333, \"#9c179e\"], [0.4444444444444444, \"#bd3786\"], [0.5555555555555556, \"#d8576b\"], [0.6666666666666666, \"#ed7953\"], [0.7777777777777778, \"#fb9f3a\"], [0.8888888888888888, \"#fdca26\"], [1.0, \"#f0f921\"]], \"type\": \"histogram2d\"}], \"histogram2dcontour\": [{\"colorbar\": {\"outlinewidth\": 0, \"ticks\": \"\"}, \"colorscale\": [[0.0, \"#0d0887\"], [0.1111111111111111, \"#46039f\"], [0.2222222222222222, \"#7201a8\"], [0.3333333333333333, \"#9c179e\"], [0.4444444444444444, \"#bd3786\"], [0.5555555555555556, \"#d8576b\"], [0.6666666666666666, \"#ed7953\"], [0.7777777777777778, \"#fb9f3a\"], [0.8888888888888888, \"#fdca26\"], [1.0, \"#f0f921\"]], \"type\": \"histogram2dcontour\"}], \"mesh3d\": [{\"colorbar\": {\"outlinewidth\": 0, \"ticks\": \"\"}, \"type\": \"mesh3d\"}], \"parcoords\": [{\"line\": {\"colorbar\": {\"outlinewidth\": 0, \"ticks\": \"\"}}, \"type\": \"parcoords\"}], \"pie\": [{\"automargin\": true, \"type\": \"pie\"}], \"scatter\": [{\"marker\": {\"colorbar\": {\"outlinewidth\": 0, \"ticks\": \"\"}}, \"type\": \"scatter\"}], \"scatter3d\": [{\"line\": {\"colorbar\": {\"outlinewidth\": 0, \"ticks\": \"\"}}, \"marker\": {\"colorbar\": {\"outlinewidth\": 0, \"ticks\": \"\"}}, \"type\": \"scatter3d\"}], \"scattercarpet\": [{\"marker\": {\"colorbar\": {\"outlinewidth\": 0, \"ticks\": \"\"}}, \"type\": \"scattercarpet\"}], \"scattergeo\": [{\"marker\": {\"colorbar\": {\"outlinewidth\": 0, \"ticks\": \"\"}}, \"type\": \"scattergeo\"}], \"scattergl\": [{\"marker\": {\"colorbar\": {\"outlinewidth\": 0, \"ticks\": \"\"}}, \"type\": \"scattergl\"}], \"scattermapbox\": [{\"marker\": {\"colorbar\": {\"outlinewidth\": 0, \"ticks\": \"\"}}, \"type\": \"scattermapbox\"}], \"scatterpolar\": [{\"marker\": {\"colorbar\": {\"outlinewidth\": 0, \"ticks\": \"\"}}, \"type\": \"scatterpolar\"}], \"scatterpolargl\": [{\"marker\": {\"colorbar\": {\"outlinewidth\": 0, \"ticks\": \"\"}}, \"type\": \"scatterpolargl\"}], \"scatterternary\": [{\"marker\": {\"colorbar\": {\"outlinewidth\": 0, \"ticks\": \"\"}}, \"type\": \"scatterternary\"}], \"surface\": [{\"colorbar\": {\"outlinewidth\": 0, \"ticks\": \"\"}, \"colorscale\": [[0.0, \"#0d0887\"], [0.1111111111111111, \"#46039f\"], [0.2222222222222222, \"#7201a8\"], [0.3333333333333333, \"#9c179e\"], [0.4444444444444444, \"#bd3786\"], [0.5555555555555556, \"#d8576b\"], [0.6666666666666666, \"#ed7953\"], [0.7777777777777778, \"#fb9f3a\"], [0.8888888888888888, \"#fdca26\"], [1.0, \"#f0f921\"]], \"type\": \"surface\"}], \"table\": [{\"cells\": {\"fill\": {\"color\": \"#EBF0F8\"}, \"line\": {\"color\": \"white\"}}, \"header\": {\"fill\": {\"color\": \"#C8D4E3\"}, \"line\": {\"color\": \"white\"}}, \"type\": \"table\"}]}, \"layout\": {\"annotationdefaults\": {\"arrowcolor\": \"#2a3f5f\", \"arrowhead\": 0, \"arrowwidth\": 1}, \"coloraxis\": {\"colorbar\": {\"outlinewidth\": 0, \"ticks\": \"\"}}, \"colorscale\": {\"diverging\": [[0, \"#8e0152\"], [0.1, \"#c51b7d\"], [0.2, \"#de77ae\"], [0.3, \"#f1b6da\"], [0.4, \"#fde0ef\"], [0.5, \"#f7f7f7\"], [0.6, \"#e6f5d0\"], [0.7, \"#b8e186\"], [0.8, \"#7fbc41\"], [0.9, \"#4d9221\"], [1, \"#276419\"]], \"sequential\": [[0.0, \"#0d0887\"], [0.1111111111111111, \"#46039f\"], [0.2222222222222222, \"#7201a8\"], [0.3333333333333333, \"#9c179e\"], [0.4444444444444444, \"#bd3786\"], [0.5555555555555556, \"#d8576b\"], [0.6666666666666666, \"#ed7953\"], [0.7777777777777778, \"#fb9f3a\"], [0.8888888888888888, \"#fdca26\"], [1.0, \"#f0f921\"]], \"sequentialminus\": [[0.0, \"#0d0887\"], [0.1111111111111111, \"#46039f\"], [0.2222222222222222, \"#7201a8\"], [0.3333333333333333, \"#9c179e\"], [0.4444444444444444, \"#bd3786\"], [0.5555555555555556, \"#d8576b\"], [0.6666666666666666, \"#ed7953\"], [0.7777777777777778, \"#fb9f3a\"], [0.8888888888888888, \"#fdca26\"], [1.0, \"#f0f921\"]]}, \"colorway\": [\"#636efa\", \"#EF553B\", \"#00cc96\", \"#ab63fa\", \"#FFA15A\", \"#19d3f3\", \"#FF6692\", \"#B6E880\", \"#FF97FF\", \"#FECB52\"], \"font\": {\"color\": \"#2a3f5f\"}, \"geo\": {\"bgcolor\": \"white\", \"lakecolor\": \"white\", \"landcolor\": \"#E5ECF6\", \"showlakes\": true, \"showland\": true, \"subunitcolor\": \"white\"}, \"hoverlabel\": {\"align\": \"left\"}, \"hovermode\": \"closest\", \"mapbox\": {\"style\": \"light\"}, \"paper_bgcolor\": \"white\", \"plot_bgcolor\": \"#E5ECF6\", \"polar\": {\"angularaxis\": {\"gridcolor\": \"white\", \"linecolor\": \"white\", \"ticks\": \"\"}, \"bgcolor\": \"#E5ECF6\", \"radialaxis\": {\"gridcolor\": \"white\", \"linecolor\": \"white\", \"ticks\": \"\"}}, \"scene\": {\"xaxis\": {\"backgroundcolor\": \"#E5ECF6\", \"gridcolor\": \"white\", \"gridwidth\": 2, \"linecolor\": \"white\", \"showbackground\": true, \"ticks\": \"\", \"zerolinecolor\": \"white\"}, \"yaxis\": {\"backgroundcolor\": \"#E5ECF6\", \"gridcolor\": \"white\", \"gridwidth\": 2, \"linecolor\": \"white\", \"showbackground\": true, \"ticks\": \"\", \"zerolinecolor\": \"white\"}, \"zaxis\": {\"backgroundcolor\": \"#E5ECF6\", \"gridcolor\": \"white\", \"gridwidth\": 2, \"linecolor\": \"white\", \"showbackground\": true, \"ticks\": \"\", \"zerolinecolor\": \"white\"}}, \"shapedefaults\": {\"line\": {\"color\": \"#2a3f5f\"}}, \"ternary\": {\"aaxis\": {\"gridcolor\": \"white\", \"linecolor\": \"white\", \"ticks\": \"\"}, \"baxis\": {\"gridcolor\": \"white\", \"linecolor\": \"white\", \"ticks\": \"\"}, \"bgcolor\": \"#E5ECF6\", \"caxis\": {\"gridcolor\": \"white\", \"linecolor\": \"white\", \"ticks\": \"\"}}, \"title\": {\"x\": 0.05}, \"xaxis\": {\"automargin\": true, \"gridcolor\": \"white\", \"linecolor\": \"white\", \"ticks\": \"\", \"title\": {\"standoff\": 15}, \"zerolinecolor\": \"white\", \"zerolinewidth\": 2}, \"yaxis\": {\"automargin\": true, \"gridcolor\": \"white\", \"linecolor\": \"white\", \"ticks\": \"\", \"title\": {\"standoff\": 15}, \"zerolinecolor\": \"white\", \"zerolinewidth\": 2}}}, \"updatemenus\": [{\"buttons\": [{\"args\": [null, {\"frame\": {\"duration\": 60, \"redraw\": true}}], \"label\": \"Rotate\", \"method\": \"animate\"}], \"type\": \"buttons\"}], \"width\": 800},\n",
       "                        {\"responsive\": true}\n",
       "                    ).then(function(){\n",
       "                            Plotly.addFrames('25cabbf6-29df-4d90-b203-a0a799c591f7', [{\"data\": [{\"mode\": \"markers\", \"name\": \"Original\", \"x\": [0.600049614906311, -0.7809175252914429, 0.875862717628479, 0.3285384774208069, -1.0524287223815918, -0.5754570960998535, 0.6043525338172913], \"y\": [0.7950258255004883, 0.8311718702316284, -0.024154871702194214, -0.044624775648117065, -0.008478611707687378, -0.6851334571838379, -0.8638062477111816], \"z\": [0.5506792068481445, -0.18189430236816406, -0.7523593902587891, 1.021071434020996, 0.2884969711303711, -0.6440229415893555, -0.2819681167602539], \"type\": \"scatter3d\"}, {\"mode\": \"lines\", \"name\": \"Original\", \"x\": [0.600049614906311, -0.7809175252914429, null, 0.600049614906311, 0.875862717628479, null, 0.600049614906311, 0.3285384774208069, null, -0.7809175252914429, -1.0524287223815918, null, 0.875862717628479, 0.6043525338172913, null, 0.3285384774208069, -1.0524287223815918, null, 0.3285384774208069, 0.6043525338172913, null, -1.0524287223815918, -0.5754570960998535, null, -0.5754570960998535, 0.6043525338172913, null], \"y\": [0.7950258255004883, 0.8311718702316284, null, 0.7950258255004883, -0.024154871702194214, null, 0.7950258255004883, -0.044624775648117065, null, 0.8311718702316284, -0.008478611707687378, null, -0.024154871702194214, -0.8638062477111816, null, -0.044624775648117065, -0.008478611707687378, null, -0.044624775648117065, -0.8638062477111816, null, -0.008478611707687378, -0.6851334571838379, null, -0.6851334571838379, -0.8638062477111816, null], \"z\": [0.5506792068481445, -0.18189430236816406, null, 0.5506792068481445, -0.7523593902587891, null, 0.5506792068481445, 1.021071434020996, null, -0.18189430236816406, 0.2884969711303711, null, -0.7523593902587891, -0.2819681167602539, null, 1.021071434020996, 0.2884969711303711, null, 1.021071434020996, -0.2819681167602539, null, 0.2884969711303711, -0.6440229415893555, null, -0.6440229415893555, -0.2819681167602539, null], \"type\": \"scatter3d\"}, {\"mode\": \"markers\", \"name\": \"Reconstructed\", \"x\": [0.600049614906311, -0.7809175252914429, 0.875862717628479, 0.3285384774208069, -1.0524287223815918, -0.5754570960998535, 0.6043525338172913], \"y\": [0.7950258255004883, 0.8311718702316284, -0.024154871702194214, -0.044624775648117065, -0.008478611707687378, -0.6851334571838379, -0.8638062477111816], \"z\": [0.6198552846908569, 0.04598427936434746, -0.7335958480834961, 0.9435707926750183, 0.36109495162963867, -0.844035267829895, -0.39287418127059937], \"type\": \"scatter3d\"}, {\"mode\": \"lines\", \"name\": \"Reconstructed\", \"x\": [0.600049614906311, -0.7809175252914429, null, 0.600049614906311, 0.875862717628479, null, 0.600049614906311, 0.3285384774208069, null, -0.7809175252914429, -1.0524287223815918, null, 0.875862717628479, 0.6043525338172913, null, 0.3285384774208069, -1.0524287223815918, null, 0.3285384774208069, 0.6043525338172913, null, -1.0524287223815918, -0.5754570960998535, null, -0.5754570960998535, 0.6043525338172913, null], \"y\": [0.7950258255004883, 0.8311718702316284, null, 0.7950258255004883, -0.024154871702194214, null, 0.7950258255004883, -0.044624775648117065, null, 0.8311718702316284, -0.008478611707687378, null, -0.024154871702194214, -0.8638062477111816, null, -0.044624775648117065, -0.008478611707687378, null, -0.044624775648117065, -0.8638062477111816, null, -0.008478611707687378, -0.6851334571838379, null, -0.6851334571838379, -0.8638062477111816, null], \"z\": [0.6198552846908569, 0.04598427936434746, null, 0.6198552846908569, -0.7335958480834961, null, 0.6198552846908569, 0.9435707926750183, null, 0.04598427936434746, 0.36109495162963867, null, -0.7335958480834961, -0.39287418127059937, null, 0.9435707926750183, 0.36109495162963867, null, 0.9435707926750183, -0.39287418127059937, null, 0.36109495162963867, -0.844035267829895, null, -0.844035267829895, -0.39287418127059937, null], \"type\": \"scatter3d\"}], \"traces\": [0, 1, 2, 3]}, {\"data\": [{\"mode\": \"markers\", \"name\": \"Original\", \"x\": [0.600049614906311, -0.7809175252914429, 0.875862717628479, 0.3285384774208069, -1.0524287223815918, -0.5754570960998535, 0.6043525338172913], \"y\": [0.7584989475288713, 0.8410349019687685, 0.023611341389957723, -0.1092952841323286, -0.026759150237385402, -0.6429076025702429, -0.8441836030858163], \"z\": [0.5999941655259899, -0.12881191237120881, -0.752376644038937, 1.0161854086935966, 0.2873783866028567, -0.6861801643908595, -0.3361864017702745], \"type\": \"scatter3d\"}, {\"mode\": \"lines\", \"name\": \"Original\", \"x\": [0.600049614906311, -0.7809175252914429, null, 0.600049614906311, 0.875862717628479, null, 0.600049614906311, 0.3285384774208069, null, -0.7809175252914429, -1.0524287223815918, null, 0.875862717628479, 0.6043525338172913, null, 0.3285384774208069, -1.0524287223815918, null, 0.3285384774208069, 0.6043525338172913, null, -1.0524287223815918, -0.5754570960998535, null, -0.5754570960998535, 0.6043525338172913, null], \"y\": [0.7584989475288713, 0.8410349019687685, null, 0.7584989475288713, 0.023611341389957723, null, 0.7584989475288713, -0.1092952841323286, null, 0.8410349019687685, -0.026759150237385402, null, 0.023611341389957723, -0.8441836030858163, null, -0.1092952841323286, -0.026759150237385402, null, -0.1092952841323286, -0.8441836030858163, null, -0.026759150237385402, -0.6429076025702429, null, -0.6429076025702429, -0.8441836030858163, null], \"z\": [0.5999941655259899, -0.12881191237120881, null, 0.5999941655259899, -0.752376644038937, null, 0.5999941655259899, 1.0161854086935966, null, -0.12881191237120881, 0.2873783866028567, null, -0.752376644038937, -0.3361864017702745, null, 1.0161854086935966, 0.2873783866028567, null, 1.0161854086935966, -0.3361864017702745, null, 0.2873783866028567, -0.6861801643908595, null, -0.6861801643908595, -0.3361864017702745, null], \"type\": \"scatter3d\"}, {\"mode\": \"markers\", \"name\": \"Reconstructed\", \"x\": [0.600049614906311, -0.7809175252914429, 0.875862717628479, 0.3285384774208069, -1.0524287223815918, -0.5754570960998535, 0.6043525338172913], \"y\": [0.7541115295256188, 0.8265819491095139, 0.022421283998559385, -0.10437988968226908, -0.03136359871979978, -0.6302220368604403, -0.8371495057608864], \"z\": [0.6690309695435989, 0.09860787605114704, -0.7336508789445763, 0.9388408012122846, 0.3598302038798914, -0.8857898011090658, -0.4468691764915306], \"type\": \"scatter3d\"}, {\"mode\": \"lines\", \"name\": \"Reconstructed\", \"x\": [0.600049614906311, -0.7809175252914429, null, 0.600049614906311, 0.875862717628479, null, 0.600049614906311, 0.3285384774208069, null, -0.7809175252914429, -1.0524287223815918, null, 0.875862717628479, 0.6043525338172913, null, 0.3285384774208069, -1.0524287223815918, null, 0.3285384774208069, 0.6043525338172913, null, -1.0524287223815918, -0.5754570960998535, null, -0.5754570960998535, 0.6043525338172913, null], \"y\": [0.7541115295256188, 0.8265819491095139, null, 0.7541115295256188, 0.022421283998559385, null, 0.7541115295256188, -0.10437988968226908, null, 0.8265819491095139, -0.03136359871979978, null, 0.022421283998559385, -0.8371495057608864, null, -0.10437988968226908, -0.03136359871979978, null, -0.10437988968226908, -0.8371495057608864, null, -0.03136359871979978, -0.6302220368604403, null, -0.6302220368604403, -0.8371495057608864, null], \"z\": [0.6690309695435989, 0.09860787605114704, null, 0.6690309695435989, -0.7336508789445763, null, 0.6690309695435989, 0.9388408012122846, null, 0.09860787605114704, 0.3598302038798914, null, -0.7336508789445763, -0.4468691764915306, null, 0.9388408012122846, 0.3598302038798914, null, 0.9388408012122846, -0.4468691764915306, null, 0.3598302038798914, -0.8857898011090658, null, -0.8857898011090658, -0.4468691764915306, null], \"type\": \"scatter3d\"}], \"traces\": [0, 1, 2, 3]}, {\"data\": [{\"mode\": \"markers\", \"name\": \"Original\", \"x\": [0.600049614906311, -0.7809175252914429, 0.875862717628479, 0.3285384774208069, -1.0524287223815918, -0.5754570960998535, 0.6043525338172913], \"y\": [0.7189178620030325, 0.8475113829937084, 0.07128247994380812, -0.17352569908242874, -0.04493193911355281, -0.5980929859513298, -0.8211617290401669], \"z\": [0.6468931594634643, -0.0752108422664965, -0.7493643426201883, 1.0072075633816957, 0.28510263074090336, -0.7255743818533746, -0.38905098279526185], \"type\": \"scatter3d\"}, {\"mode\": \"lines\", \"name\": \"Original\", \"x\": [0.600049614906311, -0.7809175252914429, null, 0.600049614906311, 0.875862717628479, null, 0.600049614906311, 0.3285384774208069, null, -0.7809175252914429, -1.0524287223815918, null, 0.875862717628479, 0.6043525338172913, null, 0.3285384774208069, -1.0524287223815918, null, 0.3285384774208069, 0.6043525338172913, null, -1.0524287223815918, -0.5754570960998535, null, -0.5754570960998535, 0.6043525338172913, null], \"y\": [0.7189178620030325, 0.8475113829937084, null, 0.7189178620030325, 0.07128247994380812, null, 0.7189178620030325, -0.17352569908242874, null, 0.8475113829937084, -0.04493193911355281, null, 0.07128247994380812, -0.8211617290401669, null, -0.17352569908242874, -0.04493193911355281, null, -0.17352569908242874, -0.8211617290401669, null, -0.04493193911355281, -0.5980929859513298, null, -0.5980929859513298, -0.8211617290401669, null], \"z\": [0.6468931594634643, -0.0752108422664965, null, 0.6468931594634643, -0.7493643426201883, null, 0.6468931594634643, 1.0072075633816957, null, -0.0752108422664965, 0.28510263074090336, null, -0.7493643426201883, -0.38905098279526185, null, 1.0072075633816957, 0.28510263074090336, null, 1.0072075633816957, -0.38905098279526185, null, 0.28510263074090336, -0.7255743818533746, null, -0.7255743818533746, -0.38905098279526185, null], \"type\": \"scatter3d\"}, {\"mode\": \"markers\", \"name\": \"Reconstructed\", \"x\": [0.600049614906311, -0.7809175252914429, 0.875862717628479, 0.3285384774208069, -1.0524287223815918, -0.5754570960998535, 0.6043525338172913], \"y\": [0.710160692580315, 0.8186636742152836, 0.06890715710210327, -0.16371470274090225, -0.05412229558945429, -0.5727729348275467, -0.8071218582175937], \"z\": [0.7155127028123006, 0.15083441362412406, -0.7307517566536529, 0.9303304292010798, 0.35711654689894806, -0.9239775714931611, -0.4990647872584217], \"type\": \"scatter3d\"}, {\"mode\": \"lines\", \"name\": \"Reconstructed\", \"x\": [0.600049614906311, -0.7809175252914429, null, 0.600049614906311, 0.875862717628479, null, 0.600049614906311, 0.3285384774208069, null, -0.7809175252914429, -1.0524287223815918, null, 0.875862717628479, 0.6043525338172913, null, 0.3285384774208069, -1.0524287223815918, null, 0.3285384774208069, 0.6043525338172913, null, -1.0524287223815918, -0.5754570960998535, null, -0.5754570960998535, 0.6043525338172913, null], \"y\": [0.710160692580315, 0.8186636742152836, null, 0.710160692580315, 0.06890715710210327, null, 0.710160692580315, -0.16371470274090225, null, 0.8186636742152836, -0.05412229558945429, null, 0.06890715710210327, -0.8071218582175937, null, -0.16371470274090225, -0.05412229558945429, null, -0.16371470274090225, -0.8071218582175937, null, -0.05412229558945429, -0.5727729348275467, null, -0.5727729348275467, -0.8071218582175937, null], \"z\": [0.7155127028123006, 0.15083441362412406, null, 0.7155127028123006, -0.7307517566536529, null, 0.7155127028123006, 0.9303304292010798, null, 0.15083441362412406, 0.35711654689894806, null, -0.7307517566536529, -0.4990647872584217, null, 0.9303304292010798, 0.35711654689894806, null, 0.9303304292010798, -0.4990647872584217, null, 0.35711654689894806, -0.9239775714931611, null, -0.9239775714931611, -0.4990647872584217, null], \"type\": \"scatter3d\"}], \"traces\": [0, 1, 2, 3]}, {\"data\": [{\"mode\": \"markers\", \"name\": \"Original\", \"x\": [0.600049614906311, -0.7809175252914429, 0.875862717628479, 0.3285384774208069, -1.0524287223815918, -0.5754570960998535, 0.6043525338172913], \"y\": [0.6764419479844874, 0.8505752348031942, 0.11866658910963193, -0.23705738728713815, -0.06292380292935787, -0.5508700599711831, -0.794833326535588], \"z\": [0.6911873429646889, -0.02130692464517514, -0.7433346154771834, 0.9941740486996902, 0.2816788672101534, -0.7620469673671232, -0.44034899282565276], \"type\": \"scatter3d\"}, {\"mode\": \"lines\", \"name\": \"Original\", \"x\": [0.600049614906311, -0.7809175252914429, null, 0.600049614906311, 0.875862717628479, null, 0.600049614906311, 0.3285384774208069, null, -0.7809175252914429, -1.0524287223815918, null, 0.875862717628479, 0.6043525338172913, null, 0.3285384774208069, -1.0524287223815918, null, 0.3285384774208069, 0.6043525338172913, null, -1.0524287223815918, -0.5754570960998535, null, -0.5754570960998535, 0.6043525338172913, null], \"y\": [0.6764419479844874, 0.8505752348031942, null, 0.6764419479844874, 0.11866658910963193, null, 0.6764419479844874, -0.23705738728713815, null, 0.8505752348031942, -0.06292380292935787, null, 0.11866658910963193, -0.794833326535588, null, -0.23705738728713815, -0.06292380292935787, null, -0.23705738728713815, -0.794833326535588, null, -0.06292380292935787, -0.5508700599711831, null, -0.5508700599711831, -0.794833326535588, null], \"z\": [0.6911873429646889, -0.02130692464517514, null, 0.6911873429646889, -0.7433346154771834, null, 0.6911873429646889, 0.9941740486996902, null, -0.02130692464517514, 0.2816788672101534, null, -0.7433346154771834, -0.44034899282565276, null, 0.9941740486996902, 0.2816788672101534, null, 0.9941740486996902, -0.44034899282565276, null, 0.2816788672101534, -0.7620469673671232, null, -0.7620469673671232, -0.44034899282565276, null], \"type\": \"scatter3d\"}, {\"mode\": \"markers\", \"name\": \"Reconstructed\", \"x\": [0.600049614906311, -0.7809175252914429, 0.875862717628479, 0.3285384774208069, -1.0524287223815918, -0.5754570960998535, 0.6043525338172913], \"y\": [0.6633502891727815, 0.8074489296472309, 0.11511556540434871, -0.222390294473682, -0.07666306107689705, -0.5130174783427406, -0.7738442158198893], \"z\": [0.7591133189625271, 0.20245359424950313, -0.7249101549529642, 0.91807394490581, 0.3529649076257026, -0.9584448103089797, -0.54925084026883], \"type\": \"scatter3d\"}, {\"mode\": \"lines\", \"name\": \"Reconstructed\", \"x\": [0.600049614906311, -0.7809175252914429, null, 0.600049614906311, 0.875862717628479, null, 0.600049614906311, 0.3285384774208069, null, -0.7809175252914429, -1.0524287223815918, null, 0.875862717628479, 0.6043525338172913, null, 0.3285384774208069, -1.0524287223815918, null, 0.3285384774208069, 0.6043525338172913, null, -1.0524287223815918, -0.5754570960998535, null, -0.5754570960998535, 0.6043525338172913, null], \"y\": [0.6633502891727815, 0.8074489296472309, null, 0.6633502891727815, 0.11511556540434871, null, 0.6633502891727815, -0.222390294473682, null, 0.8074489296472309, -0.07666306107689705, null, 0.11511556540434871, -0.7738442158198893, null, -0.222390294473682, -0.07666306107689705, null, -0.222390294473682, -0.7738442158198893, null, -0.07666306107689705, -0.5130174783427406, null, -0.5130174783427406, -0.7738442158198893, null], \"z\": [0.7591133189625271, 0.20245359424950313, null, 0.7591133189625271, -0.7249101549529642, null, 0.7591133189625271, 0.91807394490581, null, 0.20245359424950313, 0.3529649076257026, null, -0.7249101549529642, -0.54925084026883, null, 0.91807394490581, 0.3529649076257026, null, 0.91807394490581, -0.54925084026883, null, 0.3529649076257026, -0.9584448103089797, null, -0.9584448103089797, -0.54925084026883, null], \"type\": \"scatter3d\"}], \"traces\": [0, 1, 2, 3]}, {\"data\": [{\"mode\": \"markers\", \"name\": \"Original\", \"x\": [0.600049614906311, -0.7809175252914429, 0.875862717628479, 0.3285384774208069, -1.0524287223815918, -0.5754570960998535, 0.6043525338172913], \"y\": [0.6312422409873791, 0.8502141203473564, 0.16557286980374444, -0.29963452906116994, -0.08066229479933056, -0.5014289746856876, -0.7653044107565202], \"z\": [0.7326983589860605, 0.03268278844154608, -0.7343117421929726, 0.9771373460111066, 0.2771208822979492, -0.795451058703013, -0.48987387288036793], \"type\": \"scatter3d\"}, {\"mode\": \"lines\", \"name\": \"Original\", \"x\": [0.600049614906311, -0.7809175252914429, null, 0.600049614906311, 0.875862717628479, null, 0.600049614906311, 0.3285384774208069, null, -0.7809175252914429, -1.0524287223815918, null, 0.875862717628479, 0.6043525338172913, null, 0.3285384774208069, -1.0524287223815918, null, 0.3285384774208069, 0.6043525338172913, null, -1.0524287223815918, -0.5754570960998535, null, -0.5754570960998535, 0.6043525338172913, null], \"y\": [0.6312422409873791, 0.8502141203473564, null, 0.6312422409873791, 0.16557286980374444, null, 0.6312422409873791, -0.29963452906116994, null, 0.8502141203473564, -0.08066229479933056, null, 0.16557286980374444, -0.7653044107565202, null, -0.29963452906116994, -0.08066229479933056, null, -0.29963452906116994, -0.7653044107565202, null, -0.08066229479933056, -0.5014289746856876, null, -0.5014289746856876, -0.7653044107565202, null], \"z\": [0.7326983589860605, 0.03268278844154608, null, 0.7326983589860605, -0.7343117421929726, null, 0.7326983589860605, 0.9771373460111066, null, 0.03268278844154608, 0.2771208822979492, null, -0.7343117421929726, -0.48987387288036793, null, 0.9771373460111066, 0.2771208822979492, null, 0.9771373460111066, -0.48987387288036793, null, 0.2771208822979492, -0.795451058703013, null, -0.795451058703013, -0.48987387288036793, null], \"type\": \"scatter3d\"}, {\"mode\": \"markers\", \"name\": \"Reconstructed\", \"x\": [0.600049614906311, -0.7809175252914429, 0.875862717628479, 0.3285384774208069, -1.0524287223815918, -0.5754570960998535, 0.6043525338172913], \"y\": [0.6138688082761002, 0.7929828732235571, 0.16086044395403234, -0.2801703989818849, -0.09889513147513286, -0.4511962815389707, -0.737450575888572], \"z\": [0.7996572537016072, 0.25325756570557406, -0.716149595910802, 0.9021207008628827, 0.3473920032462132, -0.9890527301508076, -0.5972252540001373], \"type\": \"scatter3d\"}, {\"mode\": \"lines\", \"name\": \"Reconstructed\", \"x\": [0.600049614906311, -0.7809175252914429, null, 0.600049614906311, 0.875862717628479, null, 0.600049614906311, 0.3285384774208069, null, -0.7809175252914429, -1.0524287223815918, null, 0.875862717628479, 0.6043525338172913, null, 0.3285384774208069, -1.0524287223815918, null, 0.3285384774208069, 0.6043525338172913, null, -1.0524287223815918, -0.5754570960998535, null, -0.5754570960998535, 0.6043525338172913, null], \"y\": [0.6138688082761002, 0.7929828732235571, null, 0.6138688082761002, 0.16086044395403234, null, 0.6138688082761002, -0.2801703989818849, null, 0.7929828732235571, -0.09889513147513286, null, 0.16086044395403234, -0.737450575888572, null, -0.2801703989818849, -0.09889513147513286, null, -0.2801703989818849, -0.737450575888572, null, -0.09889513147513286, -0.4511962815389707, null, -0.4511962815389707, -0.737450575888572, null], \"z\": [0.7996572537016072, 0.25325756570557406, null, 0.7996572537016072, -0.716149595910802, null, 0.7996572537016072, 0.9021207008628827, null, 0.25325756570557406, 0.3473920032462132, null, -0.716149595910802, -0.5972252540001373, null, 0.9021207008628827, 0.3473920032462132, null, 0.9021207008628827, -0.5972252540001373, null, 0.3473920032462132, -0.9890527301508076, null, -0.9890527301508076, -0.5972252540001373, null], \"type\": \"scatter3d\"}], \"traces\": [0, 1, 2, 3]}, {\"data\": [{\"mode\": \"markers\", \"name\": \"Original\", \"x\": [0.600049614906311, -0.7809175252914429, 0.875862717628479, 0.3285384774208069, -1.0524287223815918, -0.5754570960998535, 0.6043525338172913], \"y\": [0.5835007442788304, 0.846429493706656, 0.21181244698906995, -0.3610051483408124, -0.09807598807740067, -0.4499688118953649, -0.7326938842247589], \"z\": [0.7712590573171155, 0.08654089947439965, -0.7223320546937044, 0.9561660561046739, 0.2714470294008197, -0.8256521493750004, -0.5374262037469247], \"type\": \"scatter3d\"}, {\"mode\": \"lines\", \"name\": \"Original\", \"x\": [0.600049614906311, -0.7809175252914429, null, 0.600049614906311, 0.875862717628479, null, 0.600049614906311, 0.3285384774208069, null, -0.7809175252914429, -1.0524287223815918, null, 0.875862717628479, 0.6043525338172913, null, 0.3285384774208069, -1.0524287223815918, null, 0.3285384774208069, 0.6043525338172913, null, -1.0524287223815918, -0.5754570960998535, null, -0.5754570960998535, 0.6043525338172913, null], \"y\": [0.5835007442788304, 0.846429493706656, null, 0.5835007442788304, 0.21181244698906995, null, 0.5835007442788304, -0.3610051483408124, null, 0.846429493706656, -0.09807598807740067, null, 0.21181244698906995, -0.7326938842247589, null, -0.3610051483408124, -0.09807598807740067, null, -0.3610051483408124, -0.7326938842247589, null, -0.09807598807740067, -0.4499688118953649, null, -0.4499688118953649, -0.7326938842247589, null], \"z\": [0.7712590573171155, 0.08654089947439965, null, 0.7712590573171155, -0.7223320546937044, null, 0.7712590573171155, 0.9561660561046739, null, 0.08654089947439965, 0.2714470294008197, null, -0.7223320546937044, -0.5374262037469247, null, 0.9561660561046739, 0.2714470294008197, null, 0.9561660561046739, -0.5374262037469247, null, 0.2714470294008197, -0.8256521493750004, null, -0.8256521493750004, -0.5374262037469247, null], \"type\": \"scatter3d\"}, {\"mode\": \"markers\", \"name\": \"Reconstructed\", \"x\": [0.600049614906311, -0.7809175252914429, 0.875862717628479, 0.3285384774208069, -1.0524287223815918, -0.5754570960998535, 0.6043525338172913], \"y\": [0.561915494349662, 0.7753237546477761, 0.2059575942706044, -0.3368223561777843, -0.12072898608333871, -0.38755827655635944, -0.6980874827667372], \"z\": [0.8369812509140759, 0.3030417583302283, -0.7045053552064445, 0.8825349351554607, 0.3404202738794942, -1.0156780837283164, -0.642794852420518], \"type\": \"scatter3d\"}, {\"mode\": \"lines\", \"name\": \"Reconstructed\", \"x\": [0.600049614906311, -0.7809175252914429, null, 0.600049614906311, 0.875862717628479, null, 0.600049614906311, 0.3285384774208069, null, -0.7809175252914429, -1.0524287223815918, null, 0.875862717628479, 0.6043525338172913, null, 0.3285384774208069, -1.0524287223815918, null, 0.3285384774208069, 0.6043525338172913, null, -1.0524287223815918, -0.5754570960998535, null, -0.5754570960998535, 0.6043525338172913, null], \"y\": [0.561915494349662, 0.7753237546477761, null, 0.561915494349662, 0.2059575942706044, null, 0.561915494349662, -0.3368223561777843, null, 0.7753237546477761, -0.12072898608333871, null, 0.2059575942706044, -0.6980874827667372, null, -0.3368223561777843, -0.12072898608333871, null, -0.3368223561777843, -0.6980874827667372, null, -0.12072898608333871, -0.38755827655635944, null, -0.38755827655635944, -0.6980874827667372, null], \"z\": [0.8369812509140759, 0.3030417583302283, null, 0.8369812509140759, -0.7045053552064445, null, 0.8369812509140759, 0.8825349351554607, null, 0.3030417583302283, 0.3404202738794942, null, -0.7045053552064445, -0.642794852420518, null, 0.8825349351554607, 0.3404202738794942, null, 0.8825349351554607, -0.642794852420518, null, 0.3404202738794942, -1.0156780837283164, null, -1.0156780837283164, -0.642794852420518, null], \"type\": \"scatter3d\"}], \"traces\": [0, 1, 2, 3]}, {\"data\": [{\"mode\": \"markers\", \"name\": \"Original\", \"x\": [0.600049614906311, -0.7809175252914429, 0.875862717628479, 0.3285384774208069, -1.0524287223815918, -0.5754570960998535, 0.6043525338172913], \"y\": [0.5334096960160223, 0.8392365942368141, 0.2571991302082538, -0.420922127302604, -0.11509476396679195, -0.3966967835132279, -0.6971330580209653], \"z\": [0.8067141676354328, 0.14005054084914115, -0.7074437909527823, 0.9313446229631589, 0.2646801551218307, -0.8525286302502358, -0.5828145089722225], \"type\": \"scatter3d\"}, {\"mode\": \"lines\", \"name\": \"Original\", \"x\": [0.600049614906311, -0.7809175252914429, null, 0.600049614906311, 0.875862717628479, null, 0.600049614906311, 0.3285384774208069, null, -0.7809175252914429, -1.0524287223815918, null, 0.875862717628479, 0.6043525338172913, null, 0.3285384774208069, -1.0524287223815918, null, 0.3285384774208069, 0.6043525338172913, null, -1.0524287223815918, -0.5754570960998535, null, -0.5754570960998535, 0.6043525338172913, null], \"y\": [0.5334096960160223, 0.8392365942368141, null, 0.5334096960160223, 0.2571991302082538, null, 0.5334096960160223, -0.420922127302604, null, 0.8392365942368141, -0.11509476396679195, null, 0.2571991302082538, -0.6971330580209653, null, -0.420922127302604, -0.11509476396679195, null, -0.420922127302604, -0.6971330580209653, null, -0.11509476396679195, -0.3966967835132279, null, -0.3966967835132279, -0.6971330580209653, null], \"z\": [0.8067141676354328, 0.14005054084914115, null, 0.8067141676354328, -0.7074437909527823, null, 0.8067141676354328, 0.9313446229631589, null, 0.14005054084914115, 0.2646801551218307, null, -0.7074437909527823, -0.5828145089722225, null, 0.9313446229631589, 0.2646801551218307, null, 0.9313446229631589, -0.5828145089722225, null, 0.2646801551218307, -0.8525286302502358, null, -0.8525286302502358, -0.5828145089722225, null], \"type\": \"scatter3d\"}, {\"mode\": \"markers\", \"name\": \"Reconstructed\", \"x\": [0.600049614906311, -0.7809175252914429, 0.875862717628479, 0.3285384774208069, -1.0524287223815918, -0.5754570960998535, 0.6043525338172913], \"y\": [0.5076995450520498, 0.7545426809577163, 0.2502254260464983, -0.39211804862470756, -0.1420767076751303, -0.32235971118033435, -0.6559134377374276], \"z\": [0.8709350200364306, 0.351605708750787, -0.6900243200874457, 0.8593955127493735, 0.33207779221907685, -1.038213660139902, -0.6857761428406391], \"type\": \"scatter3d\"}, {\"mode\": \"lines\", \"name\": \"Reconstructed\", \"x\": [0.600049614906311, -0.7809175252914429, null, 0.600049614906311, 0.875862717628479, null, 0.600049614906311, 0.3285384774208069, null, -0.7809175252914429, -1.0524287223815918, null, 0.875862717628479, 0.6043525338172913, null, 0.3285384774208069, -1.0524287223815918, null, 0.3285384774208069, 0.6043525338172913, null, -1.0524287223815918, -0.5754570960998535, null, -0.5754570960998535, 0.6043525338172913, null], \"y\": [0.5076995450520498, 0.7545426809577163, null, 0.5076995450520498, 0.2502254260464983, null, 0.5076995450520498, -0.39211804862470756, null, 0.7545426809577163, -0.1420767076751303, null, 0.2502254260464983, -0.6559134377374276, null, -0.39211804862470756, -0.1420767076751303, null, -0.39211804862470756, -0.6559134377374276, null, -0.1420767076751303, -0.32235971118033435, null, -0.32235971118033435, -0.6559134377374276, null], \"z\": [0.8709350200364306, 0.351605708750787, null, 0.8709350200364306, -0.6900243200874457, null, 0.8709350200364306, 0.8593955127493735, null, 0.351605708750787, 0.33207779221907685, null, -0.6900243200874457, -0.6857761428406391, null, 0.8593955127493735, 0.33207779221907685, null, 0.8593955127493735, -0.6857761428406391, null, 0.33207779221907685, -1.038213660139902, null, -1.038213660139902, -0.6857761428406391, null], \"type\": \"scatter3d\"}], \"traces\": [0, 1, 2, 3]}, {\"data\": [{\"mode\": \"markers\", \"name\": \"Original\", \"x\": [0.600049614906311, -0.7809175252914429, 0.875862717628479, 0.3285384774208069, -1.0524287223815918, -0.5754570960998535, 0.6043525338172913], \"y\": [0.48117079517098615, 0.8286643852053073, 0.30155016330691936, -0.4791442014195899, -0.13165009386366872, -0.34182739719554095, -0.6587651230412902], \"z\": [0.8389209247254208, 0.19299624812584878, -0.6897069007535712, 0.9027729937372526, 0.25684750727537753, -0.8759722792261214, -0.6258560258706384], \"type\": \"scatter3d\"}, {\"mode\": \"lines\", \"name\": \"Original\", \"x\": [0.600049614906311, -0.7809175252914429, null, 0.600049614906311, 0.875862717628479, null, 0.600049614906311, 0.3285384774208069, null, -0.7809175252914429, -1.0524287223815918, null, 0.875862717628479, 0.6043525338172913, null, 0.3285384774208069, -1.0524287223815918, null, 0.3285384774208069, 0.6043525338172913, null, -1.0524287223815918, -0.5754570960998535, null, -0.5754570960998535, 0.6043525338172913, null], \"y\": [0.48117079517098615, 0.8286643852053073, null, 0.48117079517098615, 0.30155016330691936, null, 0.48117079517098615, -0.4791442014195899, null, 0.8286643852053073, -0.13165009386366872, null, 0.30155016330691936, -0.6587651230412902, null, -0.4791442014195899, -0.13165009386366872, null, -0.4791442014195899, -0.6587651230412902, null, -0.13165009386366872, -0.34182739719554095, null, -0.34182739719554095, -0.6587651230412902, null], \"z\": [0.8389209247254208, 0.19299624812584878, null, 0.8389209247254208, -0.6897069007535712, null, 0.8389209247254208, 0.9027729937372526, null, 0.19299624812584878, 0.25684750727537753, null, -0.6897069007535712, -0.6258560258706384, null, 0.9027729937372526, 0.25684750727537753, null, 0.9027729937372526, -0.6258560258706384, null, 0.25684750727537753, -0.8759722792261214, null, -0.8759722792261214, -0.6258560258706384, null], \"type\": \"scatter3d\"}, {\"mode\": \"markers\", \"name\": \"Reconstructed\", \"x\": [0.600049614906311, -0.7809175252914429, 0.875862717628479, 0.3285384774208069, -1.0524287223815918, -0.5754570960998535, 0.6043525338172913], \"y\": [0.45143926887590385, 0.7307233302025774, 0.29348568834720784, -0.44583482008544095, -0.1628523365102028, -0.2558631170222375, -0.6110982607949103], \"z\": [0.901381841224187, 0.39875386707925026, -0.672764800571239, 0.8327956079317359, 0.32239815049418086, -1.056568716573146, -0.7259960547739573], \"type\": \"scatter3d\"}, {\"mode\": \"lines\", \"name\": \"Reconstructed\", \"x\": [0.600049614906311, -0.7809175252914429, null, 0.600049614906311, 0.875862717628479, null, 0.600049614906311, 0.3285384774208069, null, -0.7809175252914429, -1.0524287223815918, null, 0.875862717628479, 0.6043525338172913, null, 0.3285384774208069, -1.0524287223815918, null, 0.3285384774208069, 0.6043525338172913, null, -1.0524287223815918, -0.5754570960998535, null, -0.5754570960998535, 0.6043525338172913, null], \"y\": [0.45143926887590385, 0.7307233302025774, null, 0.45143926887590385, 0.29348568834720784, null, 0.45143926887590385, -0.44583482008544095, null, 0.7307233302025774, -0.1628523365102028, null, 0.29348568834720784, -0.6110982607949103, null, -0.44583482008544095, -0.1628523365102028, null, -0.44583482008544095, -0.6110982607949103, null, -0.1628523365102028, -0.2558631170222375, null, -0.2558631170222375, -0.6110982607949103, null], \"z\": [0.901381841224187, 0.39875386707925026, null, 0.901381841224187, -0.672764800571239, null, 0.901381841224187, 0.8327956079317359, null, 0.39875386707925026, 0.32239815049418086, null, -0.672764800571239, -0.7259960547739573, null, 0.8327956079317359, 0.32239815049418086, null, 0.8327956079317359, -0.7259960547739573, null, 0.32239815049418086, -1.056568716573146, null, -1.056568716573146, -0.7259960547739573, null], \"type\": \"scatter3d\"}], \"traces\": [0, 1, 2, 3]}, {\"data\": [{\"mode\": \"markers\", \"name\": \"Original\", \"x\": [0.600049614906311, -0.7809175252914429, 0.875862717628479, 0.3285384774208069, -1.0524287223815918, -0.5754570960998535, 0.6043525338172913], \"y\": [0.42699438936003054, 0.8147554371665097, 0.344686960328199, -0.5354369309484194, -0.14767531529763678, -0.28558159259519744, -0.617744573418173], \"z\": [0.8677496433434525, 0.2451648276281768, -0.6691928042927785, 0.8705662162936693, 0.2479806251698537, -0.8958886970025209, -0.6663774414448578], \"type\": \"scatter3d\"}, {\"mode\": \"lines\", \"name\": \"Original\", \"x\": [0.600049614906311, -0.7809175252914429, null, 0.600049614906311, 0.875862717628479, null, 0.600049614906311, 0.3285384774208069, null, -0.7809175252914429, -1.0524287223815918, null, 0.875862717628479, 0.6043525338172913, null, 0.3285384774208069, -1.0524287223815918, null, 0.3285384774208069, 0.6043525338172913, null, -1.0524287223815918, -0.5754570960998535, null, -0.5754570960998535, 0.6043525338172913, null], \"y\": [0.42699438936003054, 0.8147554371665097, null, 0.42699438936003054, 0.344686960328199, null, 0.42699438936003054, -0.5354369309484194, null, 0.8147554371665097, -0.14767531529763678, null, 0.344686960328199, -0.617744573418173, null, -0.5354369309484194, -0.14767531529763678, null, -0.5354369309484194, -0.617744573418173, null, -0.14767531529763678, -0.28558159259519744, null, -0.28558159259519744, -0.617744573418173, null], \"z\": [0.8677496433434525, 0.2451648276281768, null, 0.8677496433434525, -0.6691928042927785, null, 0.8677496433434525, 0.8705662162936693, null, 0.2451648276281768, 0.2479806251698537, null, -0.6691928042927785, -0.6663774414448578, null, 0.8705662162936693, 0.2479806251698537, null, 0.8705662162936693, -0.6663774414448578, null, 0.2479806251698537, -0.8958886970025209, null, -0.8958886970025209, -0.6663774414448578, null], \"type\": \"scatter3d\"}, {\"mode\": \"markers\", \"name\": \"Reconstructed\", \"x\": [0.600049614906311, -0.7809175252914429, 0.875862717628479, 0.3285384774208069, -1.0524287223815918, -0.5754570960998535, 0.6043525338172913], \"y\": [0.3933612060966718, 0.7039616145009587, 0.3355641873648881, -0.497756372080312, -0.18297221646386613, -0.188336252397185, -0.563822406839495], \"z\": [0.9281991158744377, 0.44429638432267804, -0.6527962946512761, 0.8028423291309777, 0.31142032520566304, -1.070669343694095, -0.7632926368304845], \"type\": \"scatter3d\"}, {\"mode\": \"lines\", \"name\": \"Reconstructed\", \"x\": [0.600049614906311, -0.7809175252914429, null, 0.600049614906311, 0.875862717628479, null, 0.600049614906311, 0.3285384774208069, null, -0.7809175252914429, -1.0524287223815918, null, 0.875862717628479, 0.6043525338172913, null, 0.3285384774208069, -1.0524287223815918, null, 0.3285384774208069, 0.6043525338172913, null, -1.0524287223815918, -0.5754570960998535, null, -0.5754570960998535, 0.6043525338172913, null], \"y\": [0.3933612060966718, 0.7039616145009587, null, 0.3933612060966718, 0.3355641873648881, null, 0.3933612060966718, -0.497756372080312, null, 0.7039616145009587, -0.18297221646386613, null, 0.3355641873648881, -0.563822406839495, null, -0.497756372080312, -0.18297221646386613, null, -0.497756372080312, -0.563822406839495, null, -0.18297221646386613, -0.188336252397185, null, -0.188336252397185, -0.563822406839495, null], \"z\": [0.9281991158744377, 0.44429638432267804, null, 0.9281991158744377, -0.6527962946512761, null, 0.9281991158744377, 0.8028423291309777, null, 0.44429638432267804, 0.31142032520566304, null, -0.6527962946512761, -0.7632926368304845, null, 0.8028423291309777, 0.31142032520566304, null, 0.8028423291309777, -0.7632926368304845, null, 0.31142032520566304, -1.070669343694095, null, -1.070669343694095, -0.7632926368304845, null], \"type\": \"scatter3d\"}], \"traces\": [0, 1, 2, 3]}, {\"data\": [{\"mode\": \"markers\", \"name\": \"Original\", \"x\": [0.600049614906311, -0.7809175252914429, 0.875862717628479, 0.3285384774208069, -1.0524287223815918, -0.5754570960998535, 0.6043525338172913], \"y\": [0.3710986278481311, 0.7975657565450974, 0.38643582461535186, -0.589573644935448, -0.16310590035798359, -0.2281858517157168, -0.574236584426999], \"z\": [0.8930842404145696, 0.29634621489904434, -0.645984104596529, 0.8348539759579927, 0.23811521260998728, -0.9121976871944245, -0.7042155902561442], \"type\": \"scatter3d\"}, {\"mode\": \"lines\", \"name\": \"Original\", \"x\": [0.600049614906311, -0.7809175252914429, null, 0.600049614906311, 0.875862717628479, null, 0.600049614906311, 0.3285384774208069, null, -0.7809175252914429, -1.0524287223815918, null, 0.875862717628479, 0.6043525338172913, null, 0.3285384774208069, -1.0524287223815918, null, 0.3285384774208069, 0.6043525338172913, null, -1.0524287223815918, -0.5754570960998535, null, -0.5754570960998535, 0.6043525338172913, null], \"y\": [0.3710986278481311, 0.7975657565450974, null, 0.3710986278481311, 0.38643582461535186, null, 0.3710986278481311, -0.589573644935448, null, 0.7975657565450974, -0.16310590035798359, null, 0.38643582461535186, -0.574236584426999, null, -0.589573644935448, -0.16310590035798359, null, -0.589573644935448, -0.574236584426999, null, -0.16310590035798359, -0.2281858517157168, null, -0.2281858517157168, -0.574236584426999, null], \"z\": [0.8930842404145696, 0.29634621489904434, null, 0.8930842404145696, -0.645984104596529, null, 0.8930842404145696, 0.8348539759579927, null, 0.29634621489904434, 0.23811521260998728, null, -0.645984104596529, -0.7042155902561442, null, 0.8348539759579927, 0.23811521260998728, null, 0.8348539759579927, -0.7042155902561442, null, 0.23811521260998728, -0.9121976871944245, null, -0.9121976871944245, -0.7042155902561442, null], \"type\": \"scatter3d\"}, {\"mode\": \"markers\", \"name\": \"Reconstructed\", \"x\": [0.600049614906311, -0.7809175252914429, 0.875862717628479, 0.3285384774208069, -1.0524287223815918, -0.5754570960998535, 0.6043525338172913], \"y\": [0.333699216574875, 0.6743652938366101, 0.3762914878353389, -0.5476736348448255, -0.20235533188073312, -0.12005102415583582, -0.5142762390493426], \"z\": [0.9512788602871562, 0.4880498768380787, -0.6301992084531369, 0.7696562876290065, 0.29918852018140535, -1.0804587632540612, -0.7975157088378753], \"type\": \"scatter3d\"}, {\"mode\": \"lines\", \"name\": \"Reconstructed\", \"x\": [0.600049614906311, -0.7809175252914429, null, 0.600049614906311, 0.875862717628479, null, 0.600049614906311, 0.3285384774208069, null, -0.7809175252914429, -1.0524287223815918, null, 0.875862717628479, 0.6043525338172913, null, 0.3285384774208069, -1.0524287223815918, null, 0.3285384774208069, 0.6043525338172913, null, -1.0524287223815918, -0.5754570960998535, null, -0.5754570960998535, 0.6043525338172913, null], \"y\": [0.333699216574875, 0.6743652938366101, null, 0.333699216574875, 0.3762914878353389, null, 0.333699216574875, -0.5476736348448255, null, 0.6743652938366101, -0.20235533188073312, null, 0.3762914878353389, -0.5142762390493426, null, -0.5476736348448255, -0.20235533188073312, null, -0.5476736348448255, -0.5142762390493426, null, -0.20235533188073312, -0.12005102415583582, null, -0.12005102415583582, -0.5142762390493426, null], \"z\": [0.9512788602871562, 0.4880498768380787, null, 0.9512788602871562, -0.6301992084531369, null, 0.9512788602871562, 0.7696562876290065, null, 0.4880498768380787, 0.29918852018140535, null, -0.6301992084531369, -0.7975157088378753, null, 0.7696562876290065, 0.29918852018140535, null, 0.7696562876290065, -0.7975157088378753, null, 0.29918852018140535, -1.0804587632540612, null, -1.0804587632540612, -0.7975157088378753, null], \"type\": \"scatter3d\"}], \"traces\": [0, 1, 2, 3]}, {\"data\": [{\"mode\": \"markers\", \"name\": \"Original\", \"x\": [0.600049614906311, -0.7809175252914429, 0.875862717628479, 0.3285384774208069, -1.0524287223815918, -0.5754570960998535, 0.6043525338172913], \"y\": [0.31370858313883543, 0.7771645601179418, 0.426628648226895, -0.6413363539406657, -0.17787971552479998, -0.16987128694815126, -0.5284163473835615], \"z\": [0.9148227024580549, 0.3463343205560634, -0.6201742549071338, 0.7957800733176418, 0.22729099413022097, -0.9248335792544857, -0.7392181114339738], \"type\": \"scatter3d\"}, {\"mode\": \"lines\", \"name\": \"Original\", \"x\": [0.600049614906311, -0.7809175252914429, null, 0.600049614906311, 0.875862717628479, null, 0.600049614906311, 0.3285384774208069, null, -0.7809175252914429, -1.0524287223815918, null, 0.875862717628479, 0.6043525338172913, null, 0.3285384774208069, -1.0524287223815918, null, 0.3285384774208069, 0.6043525338172913, null, -1.0524287223815918, -0.5754570960998535, null, -0.5754570960998535, 0.6043525338172913, null], \"y\": [0.31370858313883543, 0.7771645601179418, null, 0.31370858313883543, 0.426628648226895, null, 0.31370858313883543, -0.6413363539406657, null, 0.7771645601179418, -0.17787971552479998, null, 0.426628648226895, -0.5284163473835615, null, -0.6413363539406657, -0.17787971552479998, null, -0.6413363539406657, -0.5284163473835615, null, -0.17787971552479998, -0.16987128694815126, null, -0.16987128694815126, -0.5284163473835615, null], \"z\": [0.9148227024580549, 0.3463343205560634, null, 0.9148227024580549, -0.6201742549071338, null, 0.9148227024580549, 0.7957800733176418, null, 0.3463343205560634, 0.22729099413022097, null, -0.6201742549071338, -0.7392181114339738, null, 0.7957800733176418, 0.22729099413022097, null, 0.7957800733176418, -0.7392181114339738, null, 0.22729099413022097, -0.9248335792544857, null, -0.9248335792544857, -0.7392181114339738, null], \"type\": \"scatter3d\"}, {\"mode\": \"markers\", \"name\": \"Reconstructed\", \"x\": [0.600049614906311, -0.7809175252914429, 0.875862717628479, 0.3285384774208069, -1.0524287223815918, -0.5754570960998535, 0.6043525338172913], \"y\": [0.2726935380849902, 0.6420535421470097, 0.41550359529401265, -0.5953856091798155, -0.2209236337961699, -0.05128239281147186, -0.4626592623551322], \"z\": [0.9705281404774445, 0.5298381647536153, -0.6050645324674407, 0.7333711119021441, 0.28575198858310097, -1.085897556715591, -0.8285274665639758], \"type\": \"scatter3d\"}, {\"mode\": \"lines\", \"name\": \"Reconstructed\", \"x\": [0.600049614906311, -0.7809175252914429, null, 0.600049614906311, 0.875862717628479, null, 0.600049614906311, 0.3285384774208069, null, -0.7809175252914429, -1.0524287223815918, null, 0.875862717628479, 0.6043525338172913, null, 0.3285384774208069, -1.0524287223815918, null, 0.3285384774208069, 0.6043525338172913, null, -1.0524287223815918, -0.5754570960998535, null, -0.5754570960998535, 0.6043525338172913, null], \"y\": [0.2726935380849902, 0.6420535421470097, null, 0.2726935380849902, 0.41550359529401265, null, 0.2726935380849902, -0.5953856091798155, null, 0.6420535421470097, -0.2209236337961699, null, 0.41550359529401265, -0.4626592623551322, null, -0.5953856091798155, -0.2209236337961699, null, -0.5953856091798155, -0.4626592623551322, null, -0.2209236337961699, -0.05128239281147186, null, -0.05128239281147186, -0.4626592623551322, null], \"z\": [0.9705281404774445, 0.5298381647536153, null, 0.9705281404774445, -0.6050645324674407, null, 0.9705281404774445, 0.7333711119021441, null, 0.5298381647536153, 0.28575198858310097, null, -0.6050645324674407, -0.8285274665639758, null, 0.7333711119021441, 0.28575198858310097, null, 0.7333711119021441, -0.8285274665639758, null, 0.28575198858310097, -1.085897556715591, null, -1.085897556715591, -0.8285274665639758, null], \"type\": \"scatter3d\"}], \"traces\": [0, 1, 2, 3]}, {\"data\": [{\"mode\": \"markers\", \"name\": \"Original\", \"x\": [0.600049614906311, -0.7809175252914429, 0.875862717628479, 0.3285384774208069, -1.0524287223815918, -0.5754570960998535, 0.6043525338172913], \"y\": [0.25505534468672925, 0.75363399630258, 0.46510358884795144, -0.6905166278042342, -0.1919372718587352, -0.11087271046305776, -0.4804683642104675], \"z\": [0.932877496359714, 0.39492786014074355, -0.5918671823798664, 0.753501845187659, 0.21555155503803233, -0.933745492905138, -0.7712440621794848], \"type\": \"scatter3d\"}, {\"mode\": \"lines\", \"name\": \"Original\", \"x\": [0.600049614906311, -0.7809175252914429, null, 0.600049614906311, 0.875862717628479, null, 0.600049614906311, 0.3285384774208069, null, -0.7809175252914429, -1.0524287223815918, null, 0.875862717628479, 0.6043525338172913, null, 0.3285384774208069, -1.0524287223815918, null, 0.3285384774208069, 0.6043525338172913, null, -1.0524287223815918, -0.5754570960998535, null, -0.5754570960998535, 0.6043525338172913, null], \"y\": [0.25505534468672925, 0.75363399630258, null, 0.25505534468672925, 0.46510358884795144, null, 0.25505534468672925, -0.6905166278042342, null, 0.75363399630258, -0.1919372718587352, null, 0.46510358884795144, -0.4804683642104675, null, -0.6905166278042342, -0.1919372718587352, null, -0.6905166278042342, -0.4804683642104675, null, -0.1919372718587352, -0.11087271046305776, null, -0.11087271046305776, -0.4804683642104675, null], \"z\": [0.932877496359714, 0.39492786014074355, null, 0.932877496359714, -0.5918671823798664, null, 0.932877496359714, 0.753501845187659, null, 0.39492786014074355, 0.21555155503803233, null, -0.5918671823798664, -0.7712440621794848, null, 0.753501845187659, 0.21555155503803233, null, 0.753501845187659, -0.7712440621794848, null, 0.21555155503803233, -0.933745492905138, null, -0.933745492905138, -0.7712440621794848, null], \"type\": \"scatter3d\"}, {\"mode\": \"markers\", \"name\": \"Reconstructed\", \"x\": [0.600049614906311, -0.7809175252914429, 0.875862717628479, 0.3285384774208069, -1.0524287223815918, -0.5754570960998535, 0.6043525338172913], \"y\": [0.21058981896272216, 0.6071564674519803, 0.4530426164238423, -0.6407001758042793, -0.23860235421192938, 0.017692734628942938, -0.4091793201041214], \"z\": [0.9858694463878896, 0.5694929813827678, -0.5774934751632546, 0.6941329095464158, 0.2711648345811562, -1.0869638239770034, -0.8562030366058299], \"type\": \"scatter3d\"}, {\"mode\": \"lines\", \"name\": \"Reconstructed\", \"x\": [0.600049614906311, -0.7809175252914429, null, 0.600049614906311, 0.875862717628479, null, 0.600049614906311, 0.3285384774208069, null, -0.7809175252914429, -1.0524287223815918, null, 0.875862717628479, 0.6043525338172913, null, 0.3285384774208069, -1.0524287223815918, null, 0.3285384774208069, 0.6043525338172913, null, -1.0524287223815918, -0.5754570960998535, null, -0.5754570960998535, 0.6043525338172913, null], \"y\": [0.21058981896272216, 0.6071564674519803, null, 0.21058981896272216, 0.4530426164238423, null, 0.21058981896272216, -0.6407001758042793, null, 0.6071564674519803, -0.23860235421192938, null, 0.4530426164238423, -0.4091793201041214, null, -0.6407001758042793, -0.23860235421192938, null, -0.6407001758042793, -0.4091793201041214, null, -0.23860235421192938, 0.017692734628942938, null, 0.017692734628942938, -0.4091793201041214, null], \"z\": [0.9858694463878896, 0.5694929813827678, null, 0.9858694463878896, -0.5774934751632546, null, 0.9858694463878896, 0.6941329095464158, null, 0.5694929813827678, 0.2711648345811562, null, -0.5774934751632546, -0.8562030366058299, null, 0.6941329095464158, 0.2711648345811562, null, 0.6941329095464158, -0.8562030366058299, null, 0.2711648345811562, -1.0869638239770034, null, -1.0869638239770034, -0.8562030366058299, null], \"type\": \"scatter3d\"}], \"traces\": [0, 1, 2, 3]}, {\"data\": [{\"mode\": \"markers\", \"name\": \"Original\", \"x\": [0.600049614906311, -0.7809175252914429, 0.875862717628479, 0.3285384774208069, -1.0524287223815918, -0.5754570960998535, 0.6043525338172913], \"y\": [0.1953750883817641, 0.7270688143745307, 0.5017057214721308, -0.7369164349211761, -0.2052219645419594, -0.051427688704761755, -0.4305857045130132], \"z\": [0.9471759218368319, 0.4419311646199645, -0.5611768696049891, 0.7081895310708864, 0.20294416591128372, -0.9388975430155146, -0.8001644852923852], \"type\": \"scatter3d\"}, {\"mode\": \"lines\", \"name\": \"Original\", \"x\": [0.600049614906311, -0.7809175252914429, null, 0.600049614906311, 0.875862717628479, null, 0.600049614906311, 0.3285384774208069, null, -0.7809175252914429, -1.0524287223815918, null, 0.875862717628479, 0.6043525338172913, null, 0.3285384774208069, -1.0524287223815918, null, 0.3285384774208069, 0.6043525338172913, null, -1.0524287223815918, -0.5754570960998535, null, -0.5754570960998535, 0.6043525338172913, null], \"y\": [0.1953750883817641, 0.7270688143745307, null, 0.1953750883817641, 0.5017057214721308, null, 0.1953750883817641, -0.7369164349211761, null, 0.7270688143745307, -0.2052219645419594, null, 0.5017057214721308, -0.4305857045130132, null, -0.7369164349211761, -0.2052219645419594, null, -0.7369164349211761, -0.4305857045130132, null, -0.2052219645419594, -0.051427688704761755, null, -0.051427688704761755, -0.4305857045130132, null], \"z\": [0.9471759218368319, 0.4419311646199645, null, 0.9471759218368319, -0.5611768696049891, null, 0.9471759218368319, 0.7081895310708864, null, 0.4419311646199645, 0.20294416591128372, null, -0.5611768696049891, -0.8001644852923852, null, 0.7081895310708864, 0.20294416591128372, null, 0.7081895310708864, -0.8001644852923852, null, 0.20294416591128372, -0.9388975430155146, null, -0.9388975430155146, -0.8001644852923852, null], \"type\": \"scatter3d\"}, {\"mode\": \"markers\", \"name\": \"Reconstructed\", \"x\": [0.600049614906311, -0.7809175252914429, 0.875862717628479, 0.3285384774208069, -1.0524287223815918, -0.5754570960998535, 0.6043525338172913], \"y\": [0.1476381289658555, 0.5698145879546135, 0.4887573948359017, -0.6834348689519141, -0.25532030716049164, 0.08659661967154747, -0.3540517571483427], \"z\": [0.9972410039942088, 0.6068546507748913, -0.5475970554573096, 0.6520996789538293, 0.2554857954962918, -1.0836532715563691, -0.8804309792107988], \"type\": \"scatter3d\"}, {\"mode\": \"lines\", \"name\": \"Reconstructed\", \"x\": [0.600049614906311, -0.7809175252914429, null, 0.600049614906311, 0.875862717628479, null, 0.600049614906311, 0.3285384774208069, null, -0.7809175252914429, -1.0524287223815918, null, 0.875862717628479, 0.6043525338172913, null, 0.3285384774208069, -1.0524287223815918, null, 0.3285384774208069, 0.6043525338172913, null, -1.0524287223815918, -0.5754570960998535, null, -0.5754570960998535, 0.6043525338172913, null], \"y\": [0.1476381289658555, 0.5698145879546135, null, 0.1476381289658555, 0.4887573948359017, null, 0.1476381289658555, -0.6834348689519141, null, 0.5698145879546135, -0.25532030716049164, null, 0.4887573948359017, -0.3540517571483427, null, -0.6834348689519141, -0.25532030716049164, null, -0.6834348689519141, -0.3540517571483427, null, -0.25532030716049164, 0.08659661967154747, null, 0.08659661967154747, -0.3540517571483427, null], \"z\": [0.9972410039942088, 0.6068546507748913, null, 0.9972410039942088, -0.5475970554573096, null, 0.9972410039942088, 0.6520996789538293, null, 0.6068546507748913, 0.2554857954962918, null, -0.5475970554573096, -0.8804309792107988, null, 0.6520996789538293, 0.2554857954962918, null, 0.6520996789538293, -0.8804309792107988, null, 0.2554857954962918, -1.0836532715563691, null, -1.0836532715563691, -0.8804309792107988, null], \"type\": \"scatter3d\"}], \"traces\": [0, 1, 2, 3]}, {\"data\": [{\"mode\": \"markers\", \"name\": \"Original\", \"x\": [0.600049614906311, -0.7809175252914429, 0.875862717628479, 0.3285384774208069, -1.0524287223815918, -0.5754570960998535, 0.6043525338172913], \"y\": [0.1349081255523058, 0.6975759829454028, 0.5362876622298499, -0.7803489396447543, -0.21768030080578674, 0.008224414204865927, -0.37896922815602646], \"z\": [0.9576604041765524, 0.48715496827611143, -0.5282268956400921, 0.6600255876635738, 0.1895195922562892, -0.9402689840982054, -0.825862928436082], \"type\": \"scatter3d\"}, {\"mode\": \"lines\", \"name\": \"Original\", \"x\": [0.600049614906311, -0.7809175252914429, null, 0.600049614906311, 0.875862717628479, null, 0.600049614906311, 0.3285384774208069, null, -0.7809175252914429, -1.0524287223815918, null, 0.875862717628479, 0.6043525338172913, null, 0.3285384774208069, -1.0524287223815918, null, 0.3285384774208069, 0.6043525338172913, null, -1.0524287223815918, -0.5754570960998535, null, -0.5754570960998535, 0.6043525338172913, null], \"y\": [0.1349081255523058, 0.6975759829454028, null, 0.1349081255523058, 0.5362876622298499, null, 0.1349081255523058, -0.7803489396447543, null, 0.6975759829454028, -0.21768030080578674, null, 0.5362876622298499, -0.37896922815602646, null, -0.7803489396447543, -0.21768030080578674, null, -0.7803489396447543, -0.37896922815602646, null, -0.21768030080578674, 0.008224414204865927, null, 0.008224414204865927, -0.37896922815602646, null], \"z\": [0.9576604041765524, 0.48715496827611143, null, 0.9576604041765524, -0.5282268956400921, null, 0.9576604041765524, 0.6600255876635738, null, 0.48715496827611143, 0.1895195922562892, null, -0.5282268956400921, -0.825862928436082, null, 0.6600255876635738, 0.1895195922562892, null, 0.6600255876635738, -0.825862928436082, null, 0.1895195922562892, -0.9402689840982054, null, -0.9402689840982054, -0.825862928436082, null], \"type\": \"scatter3d\"}, {\"mode\": \"markers\", \"name\": \"Reconstructed\", \"x\": [0.600049614906311, -0.7809175252914429, 0.875862717628479, 0.3285384774208069, -1.0524287223815918, -0.5754570960998535, 0.6043525338172913], \"y\": [0.08409195233160116, 0.5301782662240618, 0.5225041197228338, -0.7234176110963578, -0.27101017534583, 0.15515181069047188, -0.2974985527268892], \"z\": [1.0045970240474416, 0.6417727306739117, -0.5154956556800067, 0.607440673108614, 0.23877800528508342, -1.075979229879847, -0.9011137370051139], \"type\": \"scatter3d\"}, {\"mode\": \"lines\", \"name\": \"Reconstructed\", \"x\": [0.600049614906311, -0.7809175252914429, null, 0.600049614906311, 0.875862717628479, null, 0.600049614906311, 0.3285384774208069, null, -0.7809175252914429, -1.0524287223815918, null, 0.875862717628479, 0.6043525338172913, null, 0.3285384774208069, -1.0524287223815918, null, 0.3285384774208069, 0.6043525338172913, null, -1.0524287223815918, -0.5754570960998535, null, -0.5754570960998535, 0.6043525338172913, null], \"y\": [0.08409195233160116, 0.5301782662240618, null, 0.08409195233160116, 0.5225041197228338, null, 0.08409195233160116, -0.7234176110963578, null, 0.5301782662240618, -0.27101017534583, null, 0.5225041197228338, -0.2974985527268892, null, -0.7234176110963578, -0.27101017534583, null, -0.7234176110963578, -0.2974985527268892, null, -0.27101017534583, 0.15515181069047188, null, 0.15515181069047188, -0.2974985527268892, null], \"z\": [1.0045970240474416, 0.6417727306739117, null, 1.0045970240474416, -0.5154956556800067, null, 1.0045970240474416, 0.607440673108614, null, 0.6417727306739117, 0.23877800528508342, null, -0.5154956556800067, -0.9011137370051139, null, 0.607440673108614, 0.23877800528508342, null, 0.607440673108614, -0.9011137370051139, null, 0.23877800528508342, -1.075979229879847, null, -1.075979229879847, -0.9011137370051139, null], \"type\": \"scatter3d\"}], \"traces\": [0, 1, 2, 3]}, {\"data\": [{\"mode\": \"markers\", \"name\": \"Original\", \"x\": [0.600049614906311, -0.7809175252914429, 0.875862717628479, 0.3285384774208069, -1.0524287223815918, -0.5754570960998535, 0.6043525338172913], \"y\": [0.07389793531623073, 0.6652742592380503, 0.5687101618511582, -0.8206392546076786, -0.22926211532717491, 0.06784340030124641, -0.325826776472083], \"z\": [0.9642887260689262, 0.5304171708133208, -0.49314993840084365, 0.6092039541666582, 0.17533189009303773, -0.9378542938440112, -0.8482359130501412], \"type\": \"scatter3d\"}, {\"mode\": \"lines\", \"name\": \"Original\", \"x\": [0.600049614906311, -0.7809175252914429, null, 0.600049614906311, 0.875862717628479, null, 0.600049614906311, 0.3285384774208069, null, -0.7809175252914429, -1.0524287223815918, null, 0.875862717628479, 0.6043525338172913, null, 0.3285384774208069, -1.0524287223815918, null, 0.3285384774208069, 0.6043525338172913, null, -1.0524287223815918, -0.5754570960998535, null, -0.5754570960998535, 0.6043525338172913, null], \"y\": [0.07389793531623073, 0.6652742592380503, null, 0.07389793531623073, 0.5687101618511582, null, 0.07389793531623073, -0.8206392546076786, null, 0.6652742592380503, -0.22926211532717491, null, 0.5687101618511582, -0.325826776472083, null, -0.8206392546076786, -0.22926211532717491, null, -0.8206392546076786, -0.325826776472083, null, -0.22926211532717491, 0.06784340030124641, null, 0.06784340030124641, -0.325826776472083, null], \"z\": [0.9642887260689262, 0.5304171708133208, null, 0.9642887260689262, -0.49314993840084365, null, 0.9642887260689262, 0.6092039541666582, null, 0.5304171708133208, 0.17533189009303773, null, -0.49314993840084365, -0.8482359130501412, null, 0.6092039541666582, 0.17533189009303773, null, 0.6092039541666582, -0.8482359130501412, null, 0.17533189009303773, -0.9378542938440112, null, -0.9378542938440112, -0.8482359130501412, null], \"type\": \"scatter3d\"}, {\"mode\": \"markers\", \"name\": \"Reconstructed\", \"x\": [0.600049614906311, -0.7809175252914429, 0.875862717628479, 0.3285384774208069, -1.0524287223815918, -0.5754570960998535, 0.6043525338172913], \"y\": [0.02020716708503816, 0.4884071037385413, 0.5541469049342153, -0.7604874058466544, -0.2856087812064033, 0.22308226012761057, -0.2397474266338649], \"z\": [1.007907886451095, 0.6741066182961943, -0.4813185368382597, 0.5603357180651909, 0.22110874032180106, -1.063972599604763, -0.9181680278229877], \"type\": \"scatter3d\"}, {\"mode\": \"lines\", \"name\": \"Reconstructed\", \"x\": [0.600049614906311, -0.7809175252914429, null, 0.600049614906311, 0.875862717628479, null, 0.600049614906311, 0.3285384774208069, null, -0.7809175252914429, -1.0524287223815918, null, 0.875862717628479, 0.6043525338172913, null, 0.3285384774208069, -1.0524287223815918, null, 0.3285384774208069, 0.6043525338172913, null, -1.0524287223815918, -0.5754570960998535, null, -0.5754570960998535, 0.6043525338172913, null], \"y\": [0.02020716708503816, 0.4884071037385413, null, 0.02020716708503816, 0.5541469049342153, null, 0.02020716708503816, -0.7604874058466544, null, 0.4884071037385413, -0.2856087812064033, null, 0.5541469049342153, -0.2397474266338649, null, -0.7604874058466544, -0.2856087812064033, null, -0.7604874058466544, -0.2397474266338649, null, -0.2856087812064033, 0.22308226012761057, null, 0.22308226012761057, -0.2397474266338649, null], \"z\": [1.007907886451095, 0.6741066182961943, null, 1.007907886451095, -0.4813185368382597, null, 1.007907886451095, 0.5603357180651909, null, 0.6741066182961943, 0.22110874032180106, null, -0.4813185368382597, -0.9181680278229877, null, 0.5603357180651909, 0.22110874032180106, null, 0.5603357180651909, -0.9181680278229877, null, 0.22110874032180106, -1.063972599604763, null, -1.063972599604763, -0.9181680278229877, null], \"type\": \"scatter3d\"}], \"traces\": [0, 1, 2, 3]}, {\"data\": [{\"mode\": \"markers\", \"name\": \"Original\", \"x\": [0.600049614906311, -0.7809175252914429, 0.875862717628479, 0.3285384774208069, -1.0524287223815918, -0.5754570960998535, 0.6043525338172913], \"y\": [0.012590184176452805, 0.6302937108931502, 0.5988426663733997, -0.8576251449318093, -0.23992077222677557, 0.1271892049695192, -0.27137233535781685], \"z\": [0.9670341976011176, 0.5715435706111005, -0.45608724041385273, 0.555929271361053, 0.16043818829067966, -0.9316631953583365, -0.8671933510219275], \"type\": \"scatter3d\"}, {\"mode\": \"lines\", \"name\": \"Original\", \"x\": [0.600049614906311, -0.7809175252914429, null, 0.600049614906311, 0.875862717628479, null, 0.600049614906311, 0.3285384774208069, null, -0.7809175252914429, -1.0524287223815918, null, 0.875862717628479, 0.6043525338172913, null, 0.3285384774208069, -1.0524287223815918, null, 0.3285384774208069, 0.6043525338172913, null, -1.0524287223815918, -0.5754570960998535, null, -0.5754570960998535, 0.6043525338172913, null], \"y\": [0.012590184176452805, 0.6302937108931502, null, 0.012590184176452805, 0.5988426663733997, null, 0.012590184176452805, -0.8576251449318093, null, 0.6302937108931502, -0.23992077222677557, null, 0.5988426663733997, -0.27137233535781685, null, -0.8576251449318093, -0.23992077222677557, null, -0.8576251449318093, -0.27137233535781685, null, -0.23992077222677557, 0.1271892049695192, null, 0.1271892049695192, -0.27137233535781685, null], \"z\": [0.9670341976011176, 0.5715435706111005, null, 0.9670341976011176, -0.45608724041385273, null, 0.9670341976011176, 0.555929271361053, null, 0.5715435706111005, 0.16043818829067966, null, -0.45608724041385273, -0.8671933510219275, null, 0.555929271361053, 0.16043818829067966, null, 0.555929271361053, -0.8671933510219275, null, 0.16043818829067966, -0.9316631953583365, null, -0.9316631953583365, -0.8671933510219275, null], \"type\": \"scatter3d\"}, {\"mode\": \"markers\", \"name\": \"Reconstructed\", \"x\": [0.600049614906311, -0.7809175252914429, 0.875862717628479, 0.3285384774208069, -1.0524287223815918, -0.5754570960998535, 0.6043525338172913], \"y\": [-0.043758985291382786, 0.44466929822650936, 0.5835583361421237, -0.7944949862228978, -0.29905734130889816, 0.29011443603870907, -0.18103092227114626], \"z\": [1.007160259530818, 0.7037261164883288, -0.4452033181270435, 0.5109744888521193, 0.20254914850019493, -1.0476817271935701, -0.9315251800545025], \"type\": \"scatter3d\"}, {\"mode\": \"lines\", \"name\": \"Reconstructed\", \"x\": [0.600049614906311, -0.7809175252914429, null, 0.600049614906311, 0.875862717628479, null, 0.600049614906311, 0.3285384774208069, null, -0.7809175252914429, -1.0524287223815918, null, 0.875862717628479, 0.6043525338172913, null, 0.3285384774208069, -1.0524287223815918, null, 0.3285384774208069, 0.6043525338172913, null, -1.0524287223815918, -0.5754570960998535, null, -0.5754570960998535, 0.6043525338172913, null], \"y\": [-0.043758985291382786, 0.44466929822650936, null, -0.043758985291382786, 0.5835583361421237, null, -0.043758985291382786, -0.7944949862228978, null, 0.44466929822650936, -0.29905734130889816, null, 0.5835583361421237, -0.18103092227114626, null, -0.7944949862228978, -0.29905734130889816, null, -0.7944949862228978, -0.18103092227114626, null, -0.29905734130889816, 0.29011443603870907, null, 0.29011443603870907, -0.18103092227114626, null], \"z\": [1.007160259530818, 0.7037261164883288, null, 1.007160259530818, -0.4452033181270435, null, 1.007160259530818, 0.5109744888521193, null, 0.7037261164883288, 0.20254914850019493, null, -0.4452033181270435, -0.9315251800545025, null, 0.5109744888521193, 0.20254914850019493, null, 0.5109744888521193, -0.9315251800545025, null, 0.20254914850019493, -1.0476817271935701, null, -1.0476817271935701, -0.9315251800545025, null], \"type\": \"scatter3d\"}], \"traces\": [0, 1, 2, 3]}, {\"data\": [{\"mode\": \"markers\", \"name\": \"Original\", \"x\": [0.600049614906311, -0.7809175252914429, 0.875862717628479, 0.3285384774208069, -1.0524287223815918, -0.5754570960998535, 0.6043525338172913], \"y\": [-0.04876826319137656, 0.5927751922327212, 0.626563842835943, -0.8911576814907504, -0.24961335285516056, 0.18602286360001702, -0.21582517362823958], \"z\": [0.9658857637282636, 0.610368566172771, -0.41718804008286486, 0.500416057591449, 0.14489845852973385, -0.9217206180096731, -0.8826589074396382], \"type\": \"scatter3d\"}, {\"mode\": \"lines\", \"name\": \"Original\", \"x\": [0.600049614906311, -0.7809175252914429, null, 0.600049614906311, 0.875862717628479, null, 0.600049614906311, 0.3285384774208069, null, -0.7809175252914429, -1.0524287223815918, null, 0.875862717628479, 0.6043525338172913, null, 0.3285384774208069, -1.0524287223815918, null, 0.3285384774208069, 0.6043525338172913, null, -1.0524287223815918, -0.5754570960998535, null, -0.5754570960998535, 0.6043525338172913, null], \"y\": [-0.04876826319137656, 0.5927751922327212, null, -0.04876826319137656, 0.626563842835943, null, -0.04876826319137656, -0.8911576814907504, null, 0.5927751922327212, -0.24961335285516056, null, 0.626563842835943, -0.21582517362823958, null, -0.8911576814907504, -0.24961335285516056, null, -0.8911576814907504, -0.21582517362823958, null, -0.24961335285516056, 0.18602286360001702, null, 0.18602286360001702, -0.21582517362823958, null], \"z\": [0.9658857637282636, 0.610368566172771, null, 0.9658857637282636, -0.41718804008286486, null, 0.9658857637282636, 0.500416057591449, null, 0.610368566172771, 0.14489845852973385, null, -0.41718804008286486, -0.8826589074396382, null, 0.500416057591449, 0.14489845852973385, null, 0.500416057591449, -0.8826589074396382, null, 0.14489845852973385, -0.9217206180096731, null, -0.9217206180096731, -0.8826589074396382, null], \"type\": \"scatter3d\"}, {\"mode\": \"markers\", \"name\": \"Reconstructed\", \"x\": [0.600049614906311, -0.7809175252914429, 0.875862717628479, 0.3285384774208069, -1.0524287223815918, -0.5754570960998535, 0.6043525338172913], \"y\": [-0.10754893567849644, 0.3991409663937774, 0.6106199838936663, -0.8253034157016763, -0.3113017030483672, 0.355978423509962, -0.1215854702781777], \"z\": [1.002357153716348, 0.7305119579851126, -0.4072954227854666, 0.459555745717702, 0.18317396274603834, -1.0271722102397058, -0.9411314091619456], \"type\": \"scatter3d\"}, {\"mode\": \"lines\", \"name\": \"Reconstructed\", \"x\": [0.600049614906311, -0.7809175252914429, null, 0.600049614906311, 0.875862717628479, null, 0.600049614906311, 0.3285384774208069, null, -0.7809175252914429, -1.0524287223815918, null, 0.875862717628479, 0.6043525338172913, null, 0.3285384774208069, -1.0524287223815918, null, 0.3285384774208069, 0.6043525338172913, null, -1.0524287223815918, -0.5754570960998535, null, -0.5754570960998535, 0.6043525338172913, null], \"y\": [-0.10754893567849644, 0.3991409663937774, null, -0.10754893567849644, 0.6106199838936663, null, -0.10754893567849644, -0.8253034157016763, null, 0.3991409663937774, -0.3113017030483672, null, 0.6106199838936663, -0.1215854702781777, null, -0.8253034157016763, -0.3113017030483672, null, -0.8253034157016763, -0.1215854702781777, null, -0.3113017030483672, 0.355978423509962, null, 0.355978423509962, -0.1215854702781777, null], \"z\": [1.002357153716348, 0.7305119579851126, null, 1.002357153716348, -0.4072954227854666, null, 1.002357153716348, 0.459555745717702, null, 0.7305119579851126, 0.18317396274603834, null, -0.4072954227854666, -0.9411314091619456, null, 0.459555745717702, 0.18317396274603834, null, 0.459555745717702, -0.9411314091619456, null, 0.18317396274603834, -1.0271722102397058, null, -1.0271722102397058, -0.9411314091619456, null], \"type\": \"scatter3d\"}], \"traces\": [0, 1, 2, 3]}, {\"data\": [{\"mode\": \"markers\", \"name\": \"Original\", \"x\": [0.600049614906311, -0.7809175252914429, 0.875862717628479, 0.3285384774208069, -1.0524287223815918, -0.5754570960998535, 0.6043525338172913], \"y\": [-0.10993033797578887, 0.5528697770894816, 0.6517620678451901, -0.921101840594879, -0.25830082861107534, 0.24410747381440817, -0.15940896009861158], \"z\": [0.9608480487882375, 0.6467358229442459, -0.37660897075838246, 0.4428878449766537, 0.1287752738172969, -0.9080665970478334, -0.8945703079660506], \"type\": \"scatter3d\"}, {\"mode\": \"lines\", \"name\": \"Original\", \"x\": [0.600049614906311, -0.7809175252914429, null, 0.600049614906311, 0.875862717628479, null, 0.600049614906311, 0.3285384774208069, null, -0.7809175252914429, -1.0524287223815918, null, 0.875862717628479, 0.6043525338172913, null, 0.3285384774208069, -1.0524287223815918, null, 0.3285384774208069, 0.6043525338172913, null, -1.0524287223815918, -0.5754570960998535, null, -0.5754570960998535, 0.6043525338172913, null], \"y\": [-0.10993033797578887, 0.5528697770894816, null, -0.10993033797578887, 0.6517620678451901, null, -0.10993033797578887, -0.921101840594879, null, 0.5528697770894816, -0.25830082861107534, null, 0.6517620678451901, -0.15940896009861158, null, -0.921101840594879, -0.25830082861107534, null, -0.921101840594879, -0.15940896009861158, null, -0.25830082861107534, 0.24410747381440817, null, 0.24410747381440817, -0.15940896009861158, null], \"z\": [0.9608480487882375, 0.6467358229442459, null, 0.9608480487882375, -0.37660897075838246, null, 0.9608480487882375, 0.4428878449766537, null, 0.6467358229442459, 0.1287752738172969, null, -0.37660897075838246, -0.8945703079660506, null, 0.4428878449766537, 0.1287752738172969, null, 0.4428878449766537, -0.8945703079660506, null, 0.1287752738172969, -0.9080665970478334, null, -0.9080665970478334, -0.8945703079660506, null], \"type\": \"scatter3d\"}, {\"mode\": \"markers\", \"name\": \"Reconstructed\", \"x\": [0.600049614906311, -0.7809175252914429, 0.875862717628479, 0.3285384774208069, -1.0524287223815918, -0.5754570960998535, 0.6043525338172913], \"y\": [-0.17090582446035946, 0.35200543476369456, 0.6352228804845875, -0.8527886396111222, -0.32229256270165674, 0.42040901151010684, -0.06165043650923307], \"z\": [0.9935179094195741, 0.7543562856567338, -0.3677474925287143, 0.40628653379261653, 0.16306120009401223, -1.0025266333292375, -0.94694803425116], \"type\": \"scatter3d\"}, {\"mode\": \"lines\", \"name\": \"Reconstructed\", \"x\": [0.600049614906311, -0.7809175252914429, null, 0.600049614906311, 0.875862717628479, null, 0.600049614906311, 0.3285384774208069, null, -0.7809175252914429, -1.0524287223815918, null, 0.875862717628479, 0.6043525338172913, null, 0.3285384774208069, -1.0524287223815918, null, 0.3285384774208069, 0.6043525338172913, null, -1.0524287223815918, -0.5754570960998535, null, -0.5754570960998535, 0.6043525338172913, null], \"y\": [-0.17090582446035946, 0.35200543476369456, null, -0.17090582446035946, 0.6352228804845875, null, -0.17090582446035946, -0.8527886396111222, null, 0.35200543476369456, -0.32229256270165674, null, 0.6352228804845875, -0.06165043650923307, null, -0.8527886396111222, -0.32229256270165674, null, -0.8527886396111222, -0.06165043650923307, null, -0.32229256270165674, 0.42040901151010684, null, 0.42040901151010684, -0.06165043650923307, null], \"z\": [0.9935179094195741, 0.7543562856567338, null, 0.9935179094195741, -0.3677474925287143, null, 0.9935179094195741, 0.40628653379261653, null, 0.7543562856567338, 0.16306120009401223, null, -0.3677474925287143, -0.94694803425116, null, 0.40628653379261653, 0.16306120009401223, null, 0.40628653379261653, -0.94694803425116, null, 0.16306120009401223, -1.0025266333292375, null, -1.0025266333292375, -0.94694803425116, null], \"type\": \"scatter3d\"}], \"traces\": [0, 1, 2, 3]}, {\"data\": [{\"mode\": \"markers\", \"name\": \"Original\", \"x\": [0.600049614906311, -0.7809175252914429, 0.875862717628479, 0.3285384774208069, -1.0524287223815918, -0.5754570960998535, 0.6043525338172913], \"y\": [-0.1706497620884004, 0.5107381504858454, 0.6743358770425851, -0.9473370476840869, -0.26594821809584124, 0.3012091493879604, -0.10235086294906566], \"z\": [0.9519413378810727, 0.680498902818103, -0.33451343003044554, 0.38357627932464244, 0.11213355652762812, -0.8907561123961292, -0.9028795895952998], \"type\": \"scatter3d\"}, {\"mode\": \"lines\", \"name\": \"Original\", \"x\": [0.600049614906311, -0.7809175252914429, null, 0.600049614906311, 0.875862717628479, null, 0.600049614906311, 0.3285384774208069, null, -0.7809175252914429, -1.0524287223815918, null, 0.875862717628479, 0.6043525338172913, null, 0.3285384774208069, -1.0524287223815918, null, 0.3285384774208069, 0.6043525338172913, null, -1.0524287223815918, -0.5754570960998535, null, -0.5754570960998535, 0.6043525338172913, null], \"y\": [-0.1706497620884004, 0.5107381504858454, null, -0.1706497620884004, 0.6743358770425851, null, -0.1706497620884004, -0.9473370476840869, null, 0.5107381504858454, -0.26594821809584124, null, 0.6743358770425851, -0.10235086294906566, null, -0.9473370476840869, -0.26594821809584124, null, -0.9473370476840869, -0.10235086294906566, null, -0.26594821809584124, 0.3012091493879604, null, 0.3012091493879604, -0.10235086294906566, null], \"z\": [0.9519413378810727, 0.680498902818103, null, 0.9519413378810727, -0.33451343003044554, null, 0.9519413378810727, 0.38357627932464244, null, 0.680498902818103, 0.11213355652762812, null, -0.33451343003044554, -0.9028795895952998, null, 0.38357627932464244, 0.11213355652762812, null, 0.38357627932464244, -0.9028795895952998, null, 0.11213355652762812, -0.8907561123961292, null, -0.8907561123961292, -0.9028795895952998, null], \"type\": \"scatter3d\"}, {\"mode\": \"markers\", \"name\": \"Reconstructed\", \"x\": [0.600049614906311, -0.7809175252914429, 0.875862717628479, 0.3285384774208069, -1.0524287223815918, -0.5754570960998535, 0.6043525338172913], \"y\": [-0.23357453580726636, 0.3034525014859432, 0.6572679587337548, -0.8768399846552902, -0.3319856639560984, 0.48314676080164126, -0.0014671581916031954], \"z\": [0.9806781191575227, 0.7751630868113657, -0.32671877291373475, 0.3513813493922486, 0.14229184754064206, -0.9738442355018805, -0.948951633825853], \"type\": \"scatter3d\"}, {\"mode\": \"lines\", \"name\": \"Reconstructed\", \"x\": [0.600049614906311, -0.7809175252914429, null, 0.600049614906311, 0.875862717628479, null, 0.600049614906311, 0.3285384774208069, null, -0.7809175252914429, -1.0524287223815918, null, 0.875862717628479, 0.6043525338172913, null, 0.3285384774208069, -1.0524287223815918, null, 0.3285384774208069, 0.6043525338172913, null, -1.0524287223815918, -0.5754570960998535, null, -0.5754570960998535, 0.6043525338172913, null], \"y\": [-0.23357453580726636, 0.3034525014859432, null, -0.23357453580726636, 0.6572679587337548, null, -0.23357453580726636, -0.8768399846552902, null, 0.3034525014859432, -0.3319856639560984, null, 0.6572679587337548, -0.0014671581916031954, null, -0.8768399846552902, -0.3319856639560984, null, -0.8768399846552902, -0.0014671581916031954, null, -0.3319856639560984, 0.48314676080164126, null, 0.48314676080164126, -0.0014671581916031954, null], \"z\": [0.9806781191575227, 0.7751630868113657, null, 0.9806781191575227, -0.32671877291373475, null, 0.9806781191575227, 0.3513813493922486, null, 0.7751630868113657, 0.14229184754064206, null, -0.32671877291373475, -0.948951633825853, null, 0.3513813493922486, 0.14229184754064206, null, 0.3513813493922486, -0.948951633825853, null, 0.14229184754064206, -0.9738442355018805, null, -0.9738442355018805, -0.948951633825853, null], \"type\": \"scatter3d\"}], \"traces\": [0, 1, 2, 3]}, {\"data\": [{\"mode\": \"markers\", \"name\": \"Original\", \"x\": [0.600049614906311, -0.7809175252914429, 0.875862717628479, 0.3285384774208069, -1.0524287223815918, -0.5754570960998535, 0.6043525338172913], \"y\": [-0.23068203983885213, 0.4665499616120503, 0.6941943736657756, -0.969757662838979, -0.27252472797110155, 0.35709796202681976, -0.044880634998523225], \"z\": [0.9392014951880244, 0.7115218537881591, -0.29107092178420674, 0.3227201873766486, 0.09504031698266265, -0.8698588672666251, -0.9075532937829738], \"type\": \"scatter3d\"}, {\"mode\": \"lines\", \"name\": \"Original\", \"x\": [0.600049614906311, -0.7809175252914429, null, 0.600049614906311, 0.875862717628479, null, 0.600049614906311, 0.3285384774208069, null, -0.7809175252914429, -1.0524287223815918, null, 0.875862717628479, 0.6043525338172913, null, 0.3285384774208069, -1.0524287223815918, null, 0.3285384774208069, 0.6043525338172913, null, -1.0524287223815918, -0.5754570960998535, null, -0.5754570960998535, 0.6043525338172913, null], \"y\": [-0.23068203983885213, 0.4665499616120503, null, -0.23068203983885213, 0.6941943736657756, null, -0.23068203983885213, -0.969757662838979, null, 0.4665499616120503, -0.27252472797110155, null, 0.6941943736657756, -0.044880634998523225, null, -0.969757662838979, -0.27252472797110155, null, -0.969757662838979, -0.044880634998523225, null, -0.27252472797110155, 0.35709796202681976, null, 0.35709796202681976, -0.044880634998523225, null], \"z\": [0.9392014951880244, 0.7115218537881591, null, 0.9392014951880244, -0.29107092178420674, null, 0.9392014951880244, 0.3227201873766486, null, 0.7115218537881591, 0.09504031698266265, null, -0.29107092178420674, -0.9075532937829738, null, 0.3227201873766486, 0.09504031698266265, null, 0.3227201873766486, -0.9075532937829738, null, 0.09504031698266265, -0.8698588672666251, null, -0.8698588672666251, -0.9075532937829738, null], \"type\": \"scatter3d\"}, {\"mode\": \"markers\", \"name\": \"Reconstructed\", \"x\": [0.600049614906311, -0.7809175252914429, 0.875862717628479, 0.3285384774208069, -1.0524287223815918, -0.5754570960998535, 0.6043525338172913], \"y\": [-0.29530272493715437, 0.2536776720863775, 0.6766664508917316, -0.8973606045564604, -0.3403419761140603, 0.5439390486110662, 0.05872202785423987], \"z\": [0.9638894842338552, 0.7928485798043897, -0.2843744721135867, 0.2950612763157358, 0.12094953593824664, -0.9412405106504121, -0.9471341400976954], \"type\": \"scatter3d\"}, {\"mode\": \"lines\", \"name\": \"Reconstructed\", \"x\": [0.600049614906311, -0.7809175252914429, null, 0.600049614906311, 0.875862717628479, null, 0.600049614906311, 0.3285384774208069, null, -0.7809175252914429, -1.0524287223815918, null, 0.875862717628479, 0.6043525338172913, null, 0.3285384774208069, -1.0524287223815918, null, 0.3285384774208069, 0.6043525338172913, null, -1.0524287223815918, -0.5754570960998535, null, -0.5754570960998535, 0.6043525338172913, null], \"y\": [-0.29530272493715437, 0.2536776720863775, null, -0.29530272493715437, 0.6766664508917316, null, -0.29530272493715437, -0.8973606045564604, null, 0.2536776720863775, -0.3403419761140603, null, 0.6766664508917316, 0.05872202785423987, null, -0.8973606045564604, -0.3403419761140603, null, -0.8973606045564604, 0.05872202785423987, null, -0.3403419761140603, 0.5439390486110662, null, 0.5439390486110662, 0.05872202785423987, null], \"z\": [0.9638894842338552, 0.7928485798043897, null, 0.9638894842338552, -0.2843744721135867, null, 0.9638894842338552, 0.2950612763157358, null, 0.7928485798043897, 0.12094953593824664, null, -0.2843744721135867, -0.9471341400976954, null, 0.2950612763157358, 0.12094953593824664, null, 0.2950612763157358, -0.9471341400976954, null, 0.12094953593824664, -0.9412405106504121, null, -0.9412405106504121, -0.9471341400976954, null], \"type\": \"scatter3d\"}], \"traces\": [0, 1, 2, 3]}, {\"data\": [{\"mode\": \"markers\", \"name\": \"Original\", \"x\": [0.600049614906311, -0.7809175252914429, 0.875862717628479, 0.3285384774208069, -1.0524287223815918, -0.5754570960998535, 0.6043525338172913], \"y\": [-0.2897854424326614, 0.4204831407087453, 0.7112575945577926, -0.9882734061555429, -0.2780038769527269, 0.4115488672080977, 0.012770311428817906], \"z\": [0.9226798195591692, 0.7396797573802149, -0.246456373667611, 0.26056461513616813, 0.07756438362509563, -0.8454590074899053, -0.9085726011718638], \"type\": \"scatter3d\"}, {\"mode\": \"lines\", \"name\": \"Original\", \"x\": [0.600049614906311, -0.7809175252914429, null, 0.600049614906311, 0.875862717628479, null, 0.600049614906311, 0.3285384774208069, null, -0.7809175252914429, -1.0524287223815918, null, 0.875862717628479, 0.6043525338172913, null, 0.3285384774208069, -1.0524287223815918, null, 0.3285384774208069, 0.6043525338172913, null, -1.0524287223815918, -0.5754570960998535, null, -0.5754570960998535, 0.6043525338172913, null], \"y\": [-0.2897854424326614, 0.4204831407087453, null, -0.2897854424326614, 0.7112575945577926, null, -0.2897854424326614, -0.9882734061555429, null, 0.4204831407087453, -0.2780038769527269, null, 0.7112575945577926, 0.012770311428817906, null, -0.9882734061555429, -0.2780038769527269, null, -0.9882734061555429, 0.012770311428817906, null, -0.2780038769527269, 0.4115488672080977, null, 0.4115488672080977, 0.012770311428817906, null], \"z\": [0.9226798195591692, 0.7396797573802149, null, 0.9226798195591692, -0.246456373667611, null, 0.9226798195591692, 0.26056461513616813, null, 0.7396797573802149, 0.07756438362509563, null, -0.246456373667611, -0.9085726011718638, null, 0.26056461513616813, 0.07756438362509563, null, 0.26056461513616813, -0.9085726011718638, null, 0.07756438362509563, -0.8454590074899053, null, -0.8454590074899053, -0.9085726011718638, null], \"type\": \"scatter3d\"}, {\"mode\": \"markers\", \"name\": \"Reconstructed\", \"x\": [0.600049614906311, -0.7809175252914429, 0.875862717628479, 0.3285384774208069, -1.0524287223815918, -0.5754570960998535, 0.6043525338172913], \"y\": [-0.35584183421897725, 0.20288137223527344, 0.6933402460771749, -0.9142678700209155, -0.34732785125579063, 0.6025410858516322, 0.11867476101948785], \"z\": [0.9432196065559653, 0.8073415513975072, -0.2408850956824351, 0.2375530956195384, 0.09912020324301295, -0.9048467424675277, -0.9415028714724574], \"type\": \"scatter3d\"}, {\"mode\": \"lines\", \"name\": \"Reconstructed\", \"x\": [0.600049614906311, -0.7809175252914429, null, 0.600049614906311, 0.875862717628479, null, 0.600049614906311, 0.3285384774208069, null, -0.7809175252914429, -1.0524287223815918, null, 0.875862717628479, 0.6043525338172913, null, 0.3285384774208069, -1.0524287223815918, null, 0.3285384774208069, 0.6043525338172913, null, -1.0524287223815918, -0.5754570960998535, null, -0.5754570960998535, 0.6043525338172913, null], \"y\": [-0.35584183421897725, 0.20288137223527344, null, -0.35584183421897725, 0.6933402460771749, null, -0.35584183421897725, -0.9142678700209155, null, 0.20288137223527344, -0.34732785125579063, null, 0.6933402460771749, 0.11867476101948785, null, -0.9142678700209155, -0.34732785125579063, null, -0.9142678700209155, 0.11867476101948785, null, -0.34732785125579063, 0.6025410858516322, null, 0.6025410858516322, 0.11867476101948785, null], \"z\": [0.9432196065559653, 0.8073415513975072, null, 0.9432196065559653, -0.2408850956824351, null, 0.9432196065559653, 0.2375530956195384, null, 0.8073415513975072, 0.09912020324301295, null, -0.2408850956824351, -0.9415028714724574, null, 0.2375530956195384, 0.09912020324301295, null, 0.2375530956195384, -0.9415028714724574, null, 0.09912020324301295, -0.9048467424675277, null, -0.9048467424675277, -0.9415028714724574, null], \"type\": \"scatter3d\"}], \"traces\": [0, 1, 2, 3]}, {\"data\": [{\"mode\": \"markers\", \"name\": \"Original\", \"x\": [0.600049614906311, -0.7809175252914429, 0.875862717628479, 0.3285384774208069, -1.0524287223815918, -0.5754570960998535, 0.6043525338172913], \"y\": [-0.3477219813277605, 0.37272318260471055, 0.7254568321504612, -1.002809721270459, -0.2823636024415996, 0.46434261035473684, 0.07036983631923702], \"z\": [0.9024428379510422, 0.7648592316546619, -0.20084943271949718, 0.19735984115519162, 0.05977612587053625, -0.8176547826895121, -0.9059334073708726], \"type\": \"scatter3d\"}, {\"mode\": \"lines\", \"name\": \"Original\", \"x\": [0.600049614906311, -0.7809175252914429, null, 0.600049614906311, 0.875862717628479, null, 0.600049614906311, 0.3285384774208069, null, -0.7809175252914429, -1.0524287223815918, null, 0.875862717628479, 0.6043525338172913, null, 0.3285384774208069, -1.0524287223815918, null, 0.3285384774208069, 0.6043525338172913, null, -1.0524287223815918, -0.5754570960998535, null, -0.5754570960998535, 0.6043525338172913, null], \"y\": [-0.3477219813277605, 0.37272318260471055, null, -0.3477219813277605, 0.7254568321504612, null, -0.3477219813277605, -1.002809721270459, null, 0.37272318260471055, -0.2823636024415996, null, 0.7254568321504612, 0.07036983631923702, null, -1.002809721270459, -0.2823636024415996, null, -1.002809721270459, 0.07036983631923702, null, -0.2823636024415996, 0.46434261035473684, null, 0.46434261035473684, 0.07036983631923702, null], \"z\": [0.9024428379510422, 0.7648592316546619, null, 0.9024428379510422, -0.20084943271949718, null, 0.9024428379510422, 0.19735984115519162, null, 0.7648592316546619, 0.05977612587053625, null, -0.20084943271949718, -0.9059334073708726, null, 0.19735984115519162, 0.05977612587053625, null, 0.19735984115519162, -0.9059334073708726, null, 0.05977612587053625, -0.8176547826895121, null, -0.8176547826895121, -0.9059334073708726, null], \"type\": \"scatter3d\"}, {\"mode\": \"markers\", \"name\": \"Reconstructed\", \"x\": [0.600049614906311, -0.7809175252914429, 0.875862717628479, 0.3285384774208069, -1.0524287223815918, -0.5754570960998535, 0.6043525338172913], \"y\": [-0.41494809402655825, 0.15126814070389416, 0.7072222048017849, -0.927493701457944, -0.3529151597277147, 0.6587169028025954, 0.17814963280762772], \"z\": [0.9187517164259573, 0.8185836435093168, -0.19642575998986386, 0.17908837245016598, 0.07689174847317773, -0.8648094758127459, -0.9320805030813715], \"type\": \"scatter3d\"}, {\"mode\": \"lines\", \"name\": \"Reconstructed\", \"x\": [0.600049614906311, -0.7809175252914429, null, 0.600049614906311, 0.875862717628479, null, 0.600049614906311, 0.3285384774208069, null, -0.7809175252914429, -1.0524287223815918, null, 0.875862717628479, 0.6043525338172913, null, 0.3285384774208069, -1.0524287223815918, null, 0.3285384774208069, 0.6043525338172913, null, -1.0524287223815918, -0.5754570960998535, null, -0.5754570960998535, 0.6043525338172913, null], \"y\": [-0.41494809402655825, 0.15126814070389416, null, -0.41494809402655825, 0.7072222048017849, null, -0.41494809402655825, -0.927493701457944, null, 0.15126814070389416, -0.3529151597277147, null, 0.7072222048017849, 0.17814963280762772, null, -0.927493701457944, -0.3529151597277147, null, -0.927493701457944, 0.17814963280762772, null, -0.3529151597277147, 0.6587169028025954, null, 0.6587169028025954, 0.17814963280762772, null], \"z\": [0.9187517164259573, 0.8185836435093168, null, 0.9187517164259573, -0.19642575998986386, null, 0.9187517164259573, 0.17908837245016598, null, 0.8185836435093168, 0.07689174847317773, null, -0.19642575998986386, -0.9320805030813715, null, 0.17908837245016598, 0.07689174847317773, null, 0.17908837245016598, -0.9320805030813715, null, 0.07689174847317773, -0.8648094758127459, null, -0.8648094758127459, -0.9320805030813715, null], \"type\": \"scatter3d\"}], \"traces\": [0, 1, 2, 3]}, {\"data\": [{\"mode\": \"markers\", \"name\": \"Original\", \"x\": [0.600049614906311, -0.7809175252914429, 0.875862717628479, 0.3285384774208069, -1.0524287223815918, -0.5754570960998535, 0.6043525338172913], \"y\": [-0.4042583665303593, 0.32346239979465147, 0.7367349111255285, -1.0133080755732613, -0.285586349361914, 0.5152666096963083, 0.1276860067153938], \"z\": [0.8785720375460626, 0.7869588877555352, -0.1544337419943777, 0.13336036875080928, 0.041747170754707366, -0.7865581506653888, -0.8996463394819499], \"type\": \"scatter3d\"}, {\"mode\": \"lines\", \"name\": \"Original\", \"x\": [0.600049614906311, -0.7809175252914429, null, 0.600049614906311, 0.875862717628479, null, 0.600049614906311, 0.3285384774208069, null, -0.7809175252914429, -1.0524287223815918, null, 0.875862717628479, 0.6043525338172913, null, 0.3285384774208069, -1.0524287223815918, null, 0.3285384774208069, 0.6043525338172913, null, -1.0524287223815918, -0.5754570960998535, null, -0.5754570960998535, 0.6043525338172913, null], \"y\": [-0.4042583665303593, 0.32346239979465147, null, -0.4042583665303593, 0.7367349111255285, null, -0.4042583665303593, -1.0133080755732613, null, 0.32346239979465147, -0.285586349361914, null, 0.7367349111255285, 0.1276860067153938, null, -1.0133080755732613, -0.285586349361914, null, -1.0133080755732613, 0.1276860067153938, null, -0.285586349361914, 0.5152666096963083, null, 0.5152666096963083, 0.1276860067153938, null], \"z\": [0.8785720375460626, 0.7869588877555352, null, 0.8785720375460626, -0.1544337419943777, null, 0.8785720375460626, 0.13336036875080928, null, 0.7869588877555352, 0.041747170754707366, null, -0.1544337419943777, -0.8996463394819499, null, 0.13336036875080928, 0.041747170754707366, null, 0.13336036875080928, -0.8996463394819499, null, 0.041747170754707366, -0.7865581506653888, null, -0.7865581506653888, -0.8996463394819499, null], \"type\": \"scatter3d\"}, {\"mode\": \"markers\", \"name\": \"Reconstructed\", \"x\": [0.600049614906311, -0.7809175252914429, 0.875862717628479, 0.3285384774208069, -1.0524287223815918, -0.5754570960998535, 0.6043525338172913], \"y\": [-0.4723835043128385, 0.09904580575904799, 0.7182564293173284, -0.9369848431123239, -0.35708140341062183, 0.7122402992759987, 0.23690715890125408], \"z\": [0.8905843374015954, 0.8265295882027105, -0.15117548708906148, 0.11990252361306188, 0.05435367777070453, -0.8212899266279821, -0.9189049754763824], \"type\": \"scatter3d\"}, {\"mode\": \"lines\", \"name\": \"Reconstructed\", \"x\": [0.600049614906311, -0.7809175252914429, null, 0.600049614906311, 0.875862717628479, null, 0.600049614906311, 0.3285384774208069, null, -0.7809175252914429, -1.0524287223815918, null, 0.875862717628479, 0.6043525338172913, null, 0.3285384774208069, -1.0524287223815918, null, 0.3285384774208069, 0.6043525338172913, null, -1.0524287223815918, -0.5754570960998535, null, -0.5754570960998535, 0.6043525338172913, null], \"y\": [-0.4723835043128385, 0.09904580575904799, null, -0.4723835043128385, 0.7182564293173284, null, -0.4723835043128385, -0.9369848431123239, null, 0.09904580575904799, -0.35708140341062183, null, 0.7182564293173284, 0.23690715890125408, null, -0.9369848431123239, -0.35708140341062183, null, -0.9369848431123239, 0.23690715890125408, null, -0.35708140341062183, 0.7122402992759987, null, 0.7122402992759987, 0.23690715890125408, null], \"z\": [0.8905843374015954, 0.8265295882027105, null, 0.8905843374015954, -0.15117548708906148, null, 0.8905843374015954, 0.11990252361306188, null, 0.8265295882027105, 0.05435367777070453, null, -0.15117548708906148, -0.9189049754763824, null, 0.11990252361306188, 0.05435367777070453, null, 0.11990252361306188, -0.9189049754763824, null, 0.05435367777070453, -0.8212899266279821, null, -0.8212899266279821, -0.9189049754763824, null], \"type\": \"scatter3d\"}], \"traces\": [0, 1, 2, 3]}, {\"data\": [{\"mode\": \"markers\", \"name\": \"Original\", \"x\": [0.600049614906311, -0.7809175252914429, 0.875862717628479, 0.3285384774208069, -1.0524287223815918, -0.5754570960998535, 0.6043525338172913], \"y\": [-0.45916694597141183, 0.2728991480646577, 0.7450464186394893, -1.0197261958965014, -0.28765914084927047, 0.5641158122607719, 0.1844880306284881], \"z\": [0.8511635376324111, 0.8058897381676529, -0.10739620109667378, 0.0688239012101786, 0.023550114516653065, -0.752294326579334, -0.8897367133085031], \"type\": \"scatter3d\"}, {\"mode\": \"lines\", \"name\": \"Original\", \"x\": [0.600049614906311, -0.7809175252914429, null, 0.600049614906311, 0.875862717628479, null, 0.600049614906311, 0.3285384774208069, null, -0.7809175252914429, -1.0524287223815918, null, 0.875862717628479, 0.6043525338172913, null, 0.3285384774208069, -1.0524287223815918, null, 0.3285384774208069, 0.6043525338172913, null, -1.0524287223815918, -0.5754570960998535, null, -0.5754570960998535, 0.6043525338172913, null], \"y\": [-0.45916694597141183, 0.2728991480646577, null, -0.45916694597141183, 0.7450464186394893, null, -0.45916694597141183, -1.0197261958965014, null, 0.2728991480646577, -0.28765914084927047, null, 0.7450464186394893, 0.1844880306284881, null, -1.0197261958965014, -0.28765914084927047, null, -1.0197261958965014, 0.1844880306284881, null, -0.28765914084927047, 0.5641158122607719, null, 0.5641158122607719, 0.1844880306284881, null], \"z\": [0.8511635376324111, 0.8058897381676529, null, 0.8511635376324111, -0.10739620109667378, null, 0.8511635376324111, 0.0688239012101786, null, 0.8058897381676529, 0.023550114516653065, null, -0.10739620109667378, -0.8897367133085031, null, 0.0688239012101786, 0.023550114516653065, null, 0.0688239012101786, -0.8897367133085031, null, 0.023550114516653065, -0.752294326579334, null, -0.752294326579334, -0.8897367133085031, null], \"type\": \"scatter3d\"}, {\"mode\": \"markers\", \"name\": \"Reconstructed\", \"x\": [0.600049614906311, -0.7809175252914429, 0.875862717628479, 0.3285384774208069, -1.0524287223815918, -0.5754570960998535, 0.6043525338172913], \"y\": [-0.5279167929520653, 0.04642464831201007, 0.7263984886961421, -0.9427030775064523, -0.35980980631165066, 0.7628957554449932, 0.2947107434808906], \"z\": [0.8588308895767096, 0.8311473899628798, -0.10531648385819761, 0.06023386963221655, 0.031596743991640586, -0.7744633327778492, -0.9020293418569353], \"type\": \"scatter3d\"}, {\"mode\": \"lines\", \"name\": \"Reconstructed\", \"x\": [0.600049614906311, -0.7809175252914429, null, 0.600049614906311, 0.875862717628479, null, 0.600049614906311, 0.3285384774208069, null, -0.7809175252914429, -1.0524287223815918, null, 0.875862717628479, 0.6043525338172913, null, 0.3285384774208069, -1.0524287223815918, null, 0.3285384774208069, 0.6043525338172913, null, -1.0524287223815918, -0.5754570960998535, null, -0.5754570960998535, 0.6043525338172913, null], \"y\": [-0.5279167929520653, 0.04642464831201007, null, -0.5279167929520653, 0.7263984886961421, null, -0.5279167929520653, -0.9427030775064523, null, 0.04642464831201007, -0.35980980631165066, null, 0.7263984886961421, 0.2947107434808906, null, -0.9427030775064523, -0.35980980631165066, null, -0.9427030775064523, 0.2947107434808906, null, -0.35980980631165066, 0.7628957554449932, null, 0.7628957554449932, 0.2947107434808906, null], \"z\": [0.8588308895767096, 0.8311473899628798, null, 0.8588308895767096, -0.10531648385819761, null, 0.8588308895767096, 0.06023386963221655, null, 0.8311473899628798, 0.031596743991640586, null, -0.10531648385819761, -0.9020293418569353, null, 0.06023386963221655, 0.031596743991640586, null, 0.06023386963221655, -0.9020293418569353, null, 0.031596743991640586, -0.7744633327778492, null, -0.7744633327778492, -0.9020293418569353, null], \"type\": \"scatter3d\"}], \"traces\": [0, 1, 2, 3]}, {\"data\": [{\"mode\": \"markers\", \"name\": \"Original\", \"x\": [0.600049614906311, -0.7809175252914429, 0.875862717628479, 0.3285384774208069, -1.0524287223815918, -0.5754570960998535, 0.6043525338172913], \"y\": [-0.51222662218115, 0.22123702778346124, 0.7503578871850798, -1.0220382387348728, -0.2885736305039282, 0.6106935195504224, 0.2405471863561425], \"z\": [0.8203277025655806, 0.8215755550379308, -0.05992621360197336, 0.004010304110341374, 0.005258230279306305, -0.715001278757739, -0.8762444314175918], \"type\": \"scatter3d\"}, {\"mode\": \"lines\", \"name\": \"Original\", \"x\": [0.600049614906311, -0.7809175252914429, null, 0.600049614906311, 0.875862717628479, null, 0.600049614906311, 0.3285384774208069, null, -0.7809175252914429, -1.0524287223815918, null, 0.875862717628479, 0.6043525338172913, null, 0.3285384774208069, -1.0524287223815918, null, 0.3285384774208069, 0.6043525338172913, null, -1.0524287223815918, -0.5754570960998535, null, -0.5754570960998535, 0.6043525338172913, null], \"y\": [-0.51222662218115, 0.22123702778346124, null, -0.51222662218115, 0.7503578871850798, null, -0.51222662218115, -1.0220382387348728, null, 0.22123702778346124, -0.2885736305039282, null, 0.7503578871850798, 0.2405471863561425, null, -1.0220382387348728, -0.2885736305039282, null, -1.0220382387348728, 0.2405471863561425, null, -0.2885736305039282, 0.6106935195504224, null, 0.6106935195504224, 0.2405471863561425, null], \"z\": [0.8203277025655806, 0.8215755550379308, null, 0.8203277025655806, -0.05992621360197336, null, 0.8203277025655806, 0.004010304110341374, null, 0.8215755550379308, 0.005258230279306305, null, -0.05992621360197336, -0.8762444314175918, null, 0.004010304110341374, 0.005258230279306305, null, 0.004010304110341374, -0.8762444314175918, null, 0.005258230279306305, -0.715001278757739, null, -0.715001278757739, -0.8762444314175918, null], \"type\": \"scatter3d\"}, {\"mode\": \"markers\", \"name\": \"Reconstructed\", \"x\": [0.600049614906311, -0.7809175252914429, 0.875862717628479, 0.3285384774208069, -1.0524287223815918, -0.5754570960998535, 0.6043525338172913], \"y\": [-0.5813243469910168, -0.006383444808490144, 0.7316155977387968, -0.9446253793286393, -0.3610893821152915, 0.8104792996661139, 0.3513276319128503], \"z\": [0.8236192328785092, 0.8324184545319608, -0.05903340831763333, 0.00032267511753102666, 0.00871258127639613, -0.7245182484286272, -0.8815215544434656], \"type\": \"scatter3d\"}, {\"mode\": \"lines\", \"name\": \"Reconstructed\", \"x\": [0.600049614906311, -0.7809175252914429, null, 0.600049614906311, 0.875862717628479, null, 0.600049614906311, 0.3285384774208069, null, -0.7809175252914429, -1.0524287223815918, null, 0.875862717628479, 0.6043525338172913, null, 0.3285384774208069, -1.0524287223815918, null, 0.3285384774208069, 0.6043525338172913, null, -1.0524287223815918, -0.5754570960998535, null, -0.5754570960998535, 0.6043525338172913, null], \"y\": [-0.5813243469910168, -0.006383444808490144, null, -0.5813243469910168, 0.7316155977387968, null, -0.5813243469910168, -0.9446253793286393, null, -0.006383444808490144, -0.3610893821152915, null, 0.7316155977387968, 0.3513276319128503, null, -0.9446253793286393, -0.3610893821152915, null, -0.9446253793286393, 0.3513276319128503, null, -0.3610893821152915, 0.8104792996661139, null, 0.8104792996661139, 0.3513276319128503, null], \"z\": [0.8236192328785092, 0.8324184545319608, null, 0.8236192328785092, -0.05903340831763333, null, 0.8236192328785092, 0.00032267511753102666, null, 0.8324184545319608, 0.00871258127639613, null, -0.05903340831763333, -0.8815215544434656, null, 0.00032267511753102666, 0.00871258127639613, null, 0.00032267511753102666, -0.8815215544434656, null, 0.00871258127639613, -0.7245182484286272, null, -0.7245182484286272, -0.8815215544434656, null], \"type\": \"scatter3d\"}], \"traces\": [0, 1, 2, 3]}, {\"data\": [{\"mode\": \"markers\", \"name\": \"Original\", \"x\": [0.600049614906311, -0.7809175252914429, 0.875862717628479, 0.3285384774208069, -1.0524287223815918, -0.5754570960998535, 0.6043525338172913], \"y\": [-0.5632237425705591, 0.16868406407561135, 0.7526479293531166, -1.0202348943078867, -0.28832613599881135, 0.6548121795773155, 0.29563774346397104], \"z\": [0.7861886973700697, 0.8339531771180437, -0.012214924395681642, -0.06081944106873613, -0.013054826995515545, -0.6748291731418328, -0.8592238224663739], \"type\": \"scatter3d\"}, {\"mode\": \"lines\", \"name\": \"Original\", \"x\": [0.600049614906311, -0.7809175252914429, null, 0.600049614906311, 0.875862717628479, null, 0.600049614906311, 0.3285384774208069, null, -0.7809175252914429, -1.0524287223815918, null, 0.875862717628479, 0.6043525338172913, null, 0.3285384774208069, -1.0524287223815918, null, 0.3285384774208069, 0.6043525338172913, null, -1.0524287223815918, -0.5754570960998535, null, -0.5754570960998535, 0.6043525338172913, null], \"y\": [-0.5632237425705591, 0.16868406407561135, null, -0.5632237425705591, 0.7526479293531166, null, -0.5632237425705591, -1.0202348943078867, null, 0.16868406407561135, -0.28832613599881135, null, 0.7526479293531166, 0.29563774346397104, null, -1.0202348943078867, -0.28832613599881135, null, -1.0202348943078867, 0.29563774346397104, null, -0.28832613599881135, 0.6548121795773155, null, 0.6548121795773155, 0.29563774346397104, null], \"z\": [0.7861886973700697, 0.8339531771180437, null, 0.7861886973700697, -0.012214924395681642, null, 0.7861886973700697, -0.06081944106873613, null, 0.8339531771180437, -0.013054826995515545, null, -0.012214924395681642, -0.8592238224663739, null, -0.06081944106873613, -0.013054826995515545, null, -0.06081944106873613, -0.8592238224663739, null, -0.013054826995515545, -0.6748291731418328, null, -0.6748291731418328, -0.8592238224663739, null], \"type\": \"scatter3d\"}, {\"mode\": \"markers\", \"name\": \"Reconstructed\", \"x\": [0.600049614906311, -0.7809175252914429, 0.875862717628479, 0.3285384774208069, -1.0524287223815918, -0.5754570960998535, 0.6043525338172913], \"y\": [-0.6323911130594412, -0.05916583404974346, 0.7338867489885237, -0.9427440081479113, -0.3609149784214015, 0.8547993298010975, 0.40652984796999525], \"z\": [0.7850911522207833, 0.8303376637815483, -0.012512626077247735, -0.05958981869596642, -0.014206663928597024, -0.6716557848071846, -0.8574641908577918], \"type\": \"scatter3d\"}, {\"mode\": \"lines\", \"name\": \"Reconstructed\", \"x\": [0.600049614906311, -0.7809175252914429, null, 0.600049614906311, 0.875862717628479, null, 0.600049614906311, 0.3285384774208069, null, -0.7809175252914429, -1.0524287223815918, null, 0.875862717628479, 0.6043525338172913, null, 0.3285384774208069, -1.0524287223815918, null, 0.3285384774208069, 0.6043525338172913, null, -1.0524287223815918, -0.5754570960998535, null, -0.5754570960998535, 0.6043525338172913, null], \"y\": [-0.6323911130594412, -0.05916583404974346, null, -0.6323911130594412, 0.7338867489885237, null, -0.6323911130594412, -0.9427440081479113, null, -0.05916583404974346, -0.3609149784214015, null, 0.7338867489885237, 0.40652984796999525, null, -0.9427440081479113, -0.3609149784214015, null, -0.9427440081479113, 0.40652984796999525, null, -0.3609149784214015, 0.8547993298010975, null, 0.8547993298010975, 0.40652984796999525, null], \"z\": [0.7850911522207833, 0.8303376637815483, null, 0.7850911522207833, -0.012512626077247735, null, 0.7850911522207833, -0.05958981869596642, null, 0.8303376637815483, -0.014206663928597024, null, -0.012512626077247735, -0.8574641908577918, null, -0.05958981869596642, -0.014206663928597024, null, -0.05958981869596642, -0.8574641908577918, null, -0.014206663928597024, -0.6716557848071846, null, -0.6716557848071846, -0.8574641908577918, null], \"type\": \"scatter3d\"}], \"traces\": [0, 1, 2, 3]}, {\"data\": [{\"mode\": \"markers\", \"name\": \"Original\", \"x\": [0.600049614906311, -0.7809175252914429, 0.875862717628479, 0.3285384774208069, -1.0524287223815918, -0.5754570960998535, 0.6043525338172913], \"y\": [-0.6119529597349469, 0.11545186917771826, 0.7519073239520453, -1.0143234240470715, -0.2869176539069404, 0.6962941420689294, 0.3495378717223696], \"z\": [0.7488839877706512, 0.8429727640924795, 0.03554554999997004, -0.12540428782447258, -0.03131531708964629, -0.631939768622436, -0.838743422439778], \"type\": \"scatter3d\"}, {\"mode\": \"lines\", \"name\": \"Original\", \"x\": [0.600049614906311, -0.7809175252914429, null, 0.600049614906311, 0.875862717628479, null, 0.600049614906311, 0.3285384774208069, null, -0.7809175252914429, -1.0524287223815918, null, 0.875862717628479, 0.6043525338172913, null, 0.3285384774208069, -1.0524287223815918, null, 0.3285384774208069, 0.6043525338172913, null, -1.0524287223815918, -0.5754570960998535, null, -0.5754570960998535, 0.6043525338172913, null], \"y\": [-0.6119529597349469, 0.11545186917771826, null, -0.6119529597349469, 0.7519073239520453, null, -0.6119529597349469, -1.0143234240470715, null, 0.11545186917771826, -0.2869176539069404, null, 0.7519073239520453, 0.3495378717223696, null, -1.0143234240470715, -0.2869176539069404, null, -1.0143234240470715, 0.3495378717223696, null, -0.2869176539069404, 0.6962941420689294, null, 0.6962941420689294, 0.3495378717223696, null], \"z\": [0.7488839877706512, 0.8429727640924795, null, 0.7488839877706512, 0.03554554999997004, null, 0.7488839877706512, -0.12540428782447258, null, 0.8429727640924795, -0.03131531708964629, null, 0.03554554999997004, -0.838743422439778, null, -0.12540428782447258, -0.03131531708964629, null, -0.12540428782447258, -0.838743422439778, null, -0.03131531708964629, -0.631939768622436, null, -0.631939768622436, -0.838743422439778, null], \"type\": \"scatter3d\"}, {\"mode\": \"markers\", \"name\": \"Reconstructed\", \"x\": [0.600049614906311, -0.7809175252914429, 0.875862717628479, 0.3285384774208069, -1.0524287223815918, -0.5754570960998535, 0.6043525338172913], \"y\": [-0.680911463314078, -0.1117099833594909, 0.7332027973208288, -0.9370665395819949, -0.35928729749210125, 0.8956773847310692, 0.46009511181154167], \"z\": [0.7434017865860945, 0.8249133963215918, 0.034058540092097536, -0.11926236534143039, -0.03706870391210323, -0.6160888003970473, -0.8299541216121769], \"type\": \"scatter3d\"}, {\"mode\": \"lines\", \"name\": \"Reconstructed\", \"x\": [0.600049614906311, -0.7809175252914429, null, 0.600049614906311, 0.875862717628479, null, 0.600049614906311, 0.3285384774208069, null, -0.7809175252914429, -1.0524287223815918, null, 0.875862717628479, 0.6043525338172913, null, 0.3285384774208069, -1.0524287223815918, null, 0.3285384774208069, 0.6043525338172913, null, -1.0524287223815918, -0.5754570960998535, null, -0.5754570960998535, 0.6043525338172913, null], \"y\": [-0.680911463314078, -0.1117099833594909, null, -0.680911463314078, 0.7332027973208288, null, -0.680911463314078, -0.9370665395819949, null, -0.1117099833594909, -0.35928729749210125, null, 0.7332027973208288, 0.46009511181154167, null, -0.9370665395819949, -0.35928729749210125, null, -0.9370665395819949, 0.46009511181154167, null, -0.35928729749210125, 0.8956773847310692, null, 0.8956773847310692, 0.46009511181154167, null], \"z\": [0.7434017865860945, 0.8249133963215918, null, 0.7434017865860945, 0.034058540092097536, null, 0.7434017865860945, -0.11926236534143039, null, 0.8249133963215918, -0.03706870391210323, null, 0.034058540092097536, -0.8299541216121769, null, -0.11926236534143039, -0.03706870391210323, null, -0.11926236534143039, -0.8299541216121769, null, -0.03706870391210323, -0.6160888003970473, null, -0.6160888003970473, -0.8299541216121769, null], \"type\": \"scatter3d\"}], \"traces\": [0, 1, 2, 3]}, {\"data\": [{\"mode\": \"markers\", \"name\": \"Original\", \"x\": [0.600049614906311, -0.7809175252914429, 0.875862717628479, 0.3285384774208069, -1.0524287223815918, -0.5754570960998535, 0.6043525338172913], \"y\": [-0.6582180583154659, 0.06175479035066428, 0.7481390531384237, -1.0043276313567506, -0.28435385568858423, 0.7349723738031102, 0.4020305343385559], \"z\": [0.7085637866664174, 0.8485979972678992, 0.08316289501135224, -0.18948417577380186, -0.04944971145440308, -0.5865057656940001, -0.8148856986802816], \"type\": \"scatter3d\"}, {\"mode\": \"lines\", \"name\": \"Original\", \"x\": [0.600049614906311, -0.7809175252914429, null, 0.600049614906311, 0.875862717628479, null, 0.600049614906311, 0.3285384774208069, null, -0.7809175252914429, -1.0524287223815918, null, 0.875862717628479, 0.6043525338172913, null, 0.3285384774208069, -1.0524287223815918, null, 0.3285384774208069, 0.6043525338172913, null, -1.0524287223815918, -0.5754570960998535, null, -0.5754570960998535, 0.6043525338172913, null], \"y\": [-0.6582180583154659, 0.06175479035066428, null, -0.6582180583154659, 0.7481390531384237, null, -0.6582180583154659, -1.0043276313567506, null, 0.06175479035066428, -0.28435385568858423, null, 0.7481390531384237, 0.4020305343385559, null, -1.0043276313567506, -0.28435385568858423, null, -1.0043276313567506, 0.4020305343385559, null, -0.28435385568858423, 0.7349723738031102, null, 0.7349723738031102, 0.4020305343385559, null], \"z\": [0.7085637866664174, 0.8485979972678992, null, 0.7085637866664174, 0.08316289501135224, null, 0.7085637866664174, -0.18948417577380186, null, 0.8485979972678992, -0.04944971145440308, null, 0.08316289501135224, -0.8148856986802816, null, -0.18948417577380186, -0.04944971145440308, null, -0.18948417577380186, -0.8148856986802816, null, -0.04944971145440308, -0.5865057656940001, null, -0.5865057656940001, -0.8148856986802816, null], \"type\": \"scatter3d\"}, {\"mode\": \"markers\", \"name\": \"Reconstructed\", \"x\": [0.600049614906311, -0.7809175252914429, 0.875862717628479, 0.3285384774208069, -1.0524287223815918, -0.5754570960998535, 0.6043525338172913], \"y\": [-0.7266900234294071, -0.16380431599359224, 0.7295664967676815, -0.9276158347929778, -0.3562128934240131, 0.9329488629564806, 0.5118077350255258], \"z\": [0.6987190043358515, 0.8161674937626913, 0.08049256454124144, -0.17845468453457314, -0.059781481308123455, -0.5580410438324143, -0.7991021200459653], \"type\": \"scatter3d\"}, {\"mode\": \"lines\", \"name\": \"Reconstructed\", \"x\": [0.600049614906311, -0.7809175252914429, null, 0.600049614906311, 0.875862717628479, null, 0.600049614906311, 0.3285384774208069, null, -0.7809175252914429, -1.0524287223815918, null, 0.875862717628479, 0.6043525338172913, null, 0.3285384774208069, -1.0524287223815918, null, 0.3285384774208069, 0.6043525338172913, null, -1.0524287223815918, -0.5754570960998535, null, -0.5754570960998535, 0.6043525338172913, null], \"y\": [-0.7266900234294071, -0.16380431599359224, null, -0.7266900234294071, 0.7295664967676815, null, -0.7266900234294071, -0.9276158347929778, null, -0.16380431599359224, -0.3562128934240131, null, 0.7295664967676815, 0.5118077350255258, null, -0.9276158347929778, -0.3562128934240131, null, -0.9276158347929778, 0.5118077350255258, null, -0.3562128934240131, 0.9329488629564806, null, 0.9329488629564806, 0.5118077350255258, null], \"z\": [0.6987190043358515, 0.8161674937626913, null, 0.6987190043358515, 0.08049256454124144, null, 0.6987190043358515, -0.17845468453457314, null, 0.8161674937626913, -0.059781481308123455, null, 0.08049256454124144, -0.7991021200459653, null, -0.17845468453457314, -0.059781481308123455, null, -0.17845468453457314, -0.7991021200459653, null, -0.059781481308123455, -0.5580410438324143, null, -0.5580410438324143, -0.7991021200459653, null], \"type\": \"scatter3d\"}], \"traces\": [0, 1, 2, 3]}, {\"data\": [{\"mode\": \"markers\", \"name\": \"Original\", \"x\": [0.600049614906311, -0.7809175252914429, 0.875862717628479, 0.3285384774208069, -1.0524287223815918, -0.5754570960998535, 0.6043525338172913], \"y\": [-0.7018327450891108, 0.007809046778836695, 0.7413582904088307, -0.9902877657661355, -0.28064506485429164, 0.7706911311919056, 0.4529043618871328], \"z\": [0.6653904492764513, 0.8508062258156965, 0.1304453723963493, -0.25280107782454914, -0.0673849892841005, -0.53871011105067, -0.7877467178210295], \"type\": \"scatter3d\"}, {\"mode\": \"lines\", \"name\": \"Original\", \"x\": [0.600049614906311, -0.7809175252914429, null, 0.600049614906311, 0.875862717628479, null, 0.600049614906311, 0.3285384774208069, null, -0.7809175252914429, -1.0524287223815918, null, 0.875862717628479, 0.6043525338172913, null, 0.3285384774208069, -1.0524287223815918, null, 0.3285384774208069, 0.6043525338172913, null, -1.0524287223815918, -0.5754570960998535, null, -0.5754570960998535, 0.6043525338172913, null], \"y\": [-0.7018327450891108, 0.007809046778836695, null, -0.7018327450891108, 0.7413582904088307, null, -0.7018327450891108, -0.9902877657661355, null, 0.007809046778836695, -0.28064506485429164, null, 0.7413582904088307, 0.4529043618871328, null, -0.9902877657661355, -0.28064506485429164, null, -0.9902877657661355, 0.4529043618871328, null, -0.28064506485429164, 0.7706911311919056, null, 0.7706911311919056, 0.4529043618871328, null], \"z\": [0.6653904492764513, 0.8508062258156965, null, 0.6653904492764513, 0.1304453723963493, null, 0.6653904492764513, -0.25280107782454914, null, 0.8508062258156965, -0.0673849892841005, null, 0.1304453723963493, -0.7877467178210295, null, -0.25280107782454914, -0.0673849892841005, null, -0.25280107782454914, -0.7877467178210295, null, -0.0673849892841005, -0.53871011105067, null, -0.53871011105067, -0.7877467178210295, null], \"type\": \"scatter3d\"}, {\"mode\": \"markers\", \"name\": \"Reconstructed\", \"x\": [0.600049614906311, -0.7809175252914429, 0.875862717628479, 0.3285384774208069, -1.0524287223815918, -0.5754570960998535, 0.6043525338172913], \"y\": [-0.7695424593011017, -0.21523906646089996, 0.7229924894279998, -0.9144299484334782, -0.3517041457572276, 0.9664636853892541, 0.561459489129913], \"z\": [0.6512227272636671, 0.8041351727676396, 0.12660247384232684, -0.23692842969756406, -0.08225353977841718, -0.4977462529413772, -0.7650324162804425], \"type\": \"scatter3d\"}, {\"mode\": \"lines\", \"name\": \"Reconstructed\", \"x\": [0.600049614906311, -0.7809175252914429, null, 0.600049614906311, 0.875862717628479, null, 0.600049614906311, 0.3285384774208069, null, -0.7809175252914429, -1.0524287223815918, null, 0.875862717628479, 0.6043525338172913, null, 0.3285384774208069, -1.0524287223815918, null, 0.3285384774208069, 0.6043525338172913, null, -1.0524287223815918, -0.5754570960998535, null, -0.5754570960998535, 0.6043525338172913, null], \"y\": [-0.7695424593011017, -0.21523906646089996, null, -0.7695424593011017, 0.7229924894279998, null, -0.7695424593011017, -0.9144299484334782, null, -0.21523906646089996, -0.3517041457572276, null, 0.7229924894279998, 0.561459489129913, null, -0.9144299484334782, -0.3517041457572276, null, -0.9144299484334782, 0.561459489129913, null, -0.3517041457572276, 0.9664636853892541, null, 0.9664636853892541, 0.561459489129913, null], \"z\": [0.6512227272636671, 0.8041351727676396, null, 0.6512227272636671, 0.12660247384232684, null, 0.6512227272636671, -0.23692842969756406, null, 0.8041351727676396, -0.08225353977841718, null, 0.12660247384232684, -0.7650324162804425, null, -0.23692842969756406, -0.08225353977841718, null, -0.23692842969756406, -0.7650324162804425, null, -0.08225353977841718, -0.4977462529413772, null, -0.4977462529413772, -0.7650324162804425, null], \"type\": \"scatter3d\"}], \"traces\": [0, 1, 2, 3]}, {\"data\": [{\"mode\": \"markers\", \"name\": \"Original\", \"x\": [0.600049614906311, -0.7809175252914429, 0.875862717628479, 0.3285384774208069, -1.0524287223815918, -0.5754570960998535, 0.6043525338172913], \"y\": [-0.7426213991057758, -0.04616814106821491, 0.7315923395015502, -0.9722603608586764, -0.2758062153957577, 0.8033065874060235, 0.5019545034201626], \"z\": [0.6195378193926617, 0.8495885579788898, 0.17720259230658758, -0.3151000391594621, -0.08504893154506292, -0.4887452609245157, -0.7574357589594073], \"type\": \"scatter3d\"}, {\"mode\": \"lines\", \"name\": \"Original\", \"x\": [0.600049614906311, -0.7809175252914429, null, 0.600049614906311, 0.875862717628479, null, 0.600049614906311, 0.3285384774208069, null, -0.7809175252914429, -1.0524287223815918, null, 0.875862717628479, 0.6043525338172913, null, 0.3285384774208069, -1.0524287223815918, null, 0.3285384774208069, 0.6043525338172913, null, -1.0524287223815918, -0.5754570960998535, null, -0.5754570960998535, 0.6043525338172913, null], \"y\": [-0.7426213991057758, -0.04616814106821491, null, -0.7426213991057758, 0.7315923395015502, null, -0.7426213991057758, -0.9722603608586764, null, -0.04616814106821491, -0.2758062153957577, null, 0.7315923395015502, 0.5019545034201626, null, -0.9722603608586764, -0.2758062153957577, null, -0.9722603608586764, 0.5019545034201626, null, -0.2758062153957577, 0.8033065874060235, null, 0.8033065874060235, 0.5019545034201626, null], \"z\": [0.6195378193926617, 0.8495885579788898, null, 0.6195378193926617, 0.17720259230658758, null, 0.6195378193926617, -0.3151000391594621, null, 0.8495885579788898, -0.08504893154506292, null, 0.17720259230658758, -0.7574357589594073, null, -0.3151000391594621, -0.08504893154506292, null, -0.3151000391594621, -0.7574357589594073, null, -0.08504893154506292, -0.4887452609245157, null, -0.4887452609245157, -0.7574357589594073, null], \"type\": \"scatter3d\"}, {\"mode\": \"markers\", \"name\": \"Reconstructed\", \"x\": [0.600049614906311, -0.7809175252914429, 0.875862717628479, 0.3285384774208069, -1.0524287223815918, -0.5754570960998535, 0.6043525338172913], \"y\": [-0.8092962192944063, -0.265807125174857, 0.7135072465090854, -0.8975619754139892, -0.3457792096272644, 0.9960868996683004, 0.6088504440352022], \"z\": [0.6011042061137954, 0.7888648832463511, 0.17220259966480345, -0.2944481476965758, -0.10439439227489755, -0.43544721356618366, -0.7278821969879825], \"type\": \"scatter3d\"}, {\"mode\": \"lines\", \"name\": \"Reconstructed\", \"x\": [0.600049614906311, -0.7809175252914429, null, 0.600049614906311, 0.875862717628479, null, 0.600049614906311, 0.3285384774208069, null, -0.7809175252914429, -1.0524287223815918, null, 0.875862717628479, 0.6043525338172913, null, 0.3285384774208069, -1.0524287223815918, null, 0.3285384774208069, 0.6043525338172913, null, -1.0524287223815918, -0.5754570960998535, null, -0.5754570960998535, 0.6043525338172913, null], \"y\": [-0.8092962192944063, -0.265807125174857, null, -0.8092962192944063, 0.7135072465090854, null, -0.8092962192944063, -0.8975619754139892, null, -0.265807125174857, -0.3457792096272644, null, 0.7135072465090854, 0.6088504440352022, null, -0.8975619754139892, -0.3457792096272644, null, -0.8975619754139892, 0.6088504440352022, null, -0.3457792096272644, 0.9960868996683004, null, 0.9960868996683004, 0.6088504440352022, null], \"z\": [0.6011042061137954, 0.7888648832463511, null, 0.6011042061137954, 0.17220259966480345, null, 0.6011042061137954, -0.2944481476965758, null, 0.7888648832463511, -0.10439439227489755, null, 0.17220259966480345, -0.7278821969879825, null, -0.2944481476965758, -0.10439439227489755, null, -0.2944481476965758, -0.7278821969879825, null, -0.10439439227489755, -0.43544721356618366, null, -0.43544721356618366, -0.7278821969879825, null], \"type\": \"scatter3d\"}], \"traces\": [0, 1, 2, 3]}, {\"data\": [{\"mode\": \"markers\", \"name\": \"Original\", \"x\": [0.600049614906311, -0.7809175252914429, 0.875862717628479, 0.3285384774208069, -1.0524287223815918, -0.5754570960998535, 0.6043525338172913], \"y\": [-0.7804197788518374, -0.0999594261059425, 0.7188805244540547, -0.9503180066312754, -0.2698567916519102, 0.8326874115147118, 0.5489834513296336], \"z\": [0.5711905293721907, 0.8449498968760897, 0.22324627992015805, -0.3761302038492753, -0.10237041177618382, -0.43681240613221267, -0.7240748736286872], \"type\": \"scatter3d\"}, {\"mode\": \"lines\", \"name\": \"Original\", \"x\": [0.600049614906311, -0.7809175252914429, null, 0.600049614906311, 0.875862717628479, null, 0.600049614906311, 0.3285384774208069, null, -0.7809175252914429, -1.0524287223815918, null, 0.875862717628479, 0.6043525338172913, null, 0.3285384774208069, -1.0524287223815918, null, 0.3285384774208069, 0.6043525338172913, null, -1.0524287223815918, -0.5754570960998535, null, -0.5754570960998535, 0.6043525338172913, null], \"y\": [-0.7804197788518374, -0.0999594261059425, null, -0.7804197788518374, 0.7188805244540547, null, -0.7804197788518374, -0.9503180066312754, null, -0.0999594261059425, -0.2698567916519102, null, 0.7188805244540547, 0.5489834513296336, null, -0.9503180066312754, -0.2698567916519102, null, -0.9503180066312754, 0.5489834513296336, null, -0.2698567916519102, 0.8326874115147118, null, 0.8326874115147118, 0.5489834513296336, null], \"z\": [0.5711905293721907, 0.8449498968760897, null, 0.5711905293721907, 0.22324627992015805, null, 0.5711905293721907, -0.3761302038492753, null, 0.8449498968760897, -0.10237041177618382, null, 0.22324627992015805, -0.7240748736286872, null, -0.3761302038492753, -0.10237041177618382, null, -0.3761302038492753, -0.7240748736286872, null, -0.10237041177618382, -0.43681240613221267, null, -0.43681240613221267, -0.7240748736286872, null], \"type\": \"scatter3d\"}, {\"mode\": \"markers\", \"name\": \"Reconstructed\", \"x\": [0.600049614906311, -0.7809175252914429, 0.875862717628479, 0.3285384774208069, -1.0524287223815918, -0.5754570960998535, 0.6043525338172913], \"y\": [-0.8457912290486703, -0.3153048724107034, 0.7011489617364156, -0.8770798371084144, -0.3384619426607496, 1.021699223565047, 0.6537897730923319], \"z\": [0.5485652504818874, 0.7704181132651745, 0.21710932639626443, -0.3507822269284524, -0.12611488539903715, -0.3713947819503397, -0.6878010529897379], \"type\": \"scatter3d\"}, {\"mode\": \"lines\", \"name\": \"Reconstructed\", \"x\": [0.600049614906311, -0.7809175252914429, null, 0.600049614906311, 0.875862717628479, null, 0.600049614906311, 0.3285384774208069, null, -0.7809175252914429, -1.0524287223815918, null, 0.875862717628479, 0.6043525338172913, null, 0.3285384774208069, -1.0524287223815918, null, 0.3285384774208069, 0.6043525338172913, null, -1.0524287223815918, -0.5754570960998535, null, -0.5754570960998535, 0.6043525338172913, null], \"y\": [-0.8457912290486703, -0.3153048724107034, null, -0.8457912290486703, 0.7011489617364156, null, -0.8457912290486703, -0.8770798371084144, null, -0.3153048724107034, -0.3384619426607496, null, 0.7011489617364156, 0.6537897730923319, null, -0.8770798371084144, -0.3384619426607496, null, -0.8770798371084144, 0.6537897730923319, null, -0.3384619426607496, 1.021699223565047, null, 1.021699223565047, 0.6537897730923319, null], \"z\": [0.5485652504818874, 0.7704181132651745, null, 0.5485652504818874, 0.21710932639626443, null, 0.5485652504818874, -0.3507822269284524, null, 0.7704181132651745, -0.12611488539903715, null, 0.21710932639626443, -0.6878010529897379, null, -0.3507822269284524, -0.12611488539903715, null, -0.3507822269284524, -0.6878010529897379, null, -0.12611488539903715, -0.3713947819503397, null, -0.3713947819503397, -0.6878010529897379, null], \"type\": \"scatter3d\"}], \"traces\": [0, 1, 2, 3]}, {\"data\": [{\"mode\": \"markers\", \"name\": \"Original\", \"x\": [0.600049614906311, -0.7809175252914429, 0.875862717628479, 0.3285384774208069, -1.0524287223815918, -0.5754570960998535, 0.6043525338172913], \"y\": [-0.8150756835927606, -0.15334820981479808, 0.7032740312589842, -0.924549057199989, -0.2628207498523535, 0.8587152973090637, 0.5938018366408885], \"z\": [0.5205432566880761, 0.8369089207583706, 0.2683910335578734, -0.4356458249609992, -0.11927968249008096, -0.3831206619506322, -0.687798394339579], \"type\": \"scatter3d\"}, {\"mode\": \"lines\", \"name\": \"Original\", \"x\": [0.600049614906311, -0.7809175252914429, null, 0.600049614906311, 0.875862717628479, null, 0.600049614906311, 0.3285384774208069, null, -0.7809175252914429, -1.0524287223815918, null, 0.875862717628479, 0.6043525338172913, null, 0.3285384774208069, -1.0524287223815918, null, 0.3285384774208069, 0.6043525338172913, null, -1.0524287223815918, -0.5754570960998535, null, -0.5754570960998535, 0.6043525338172913, null], \"y\": [-0.8150756835927606, -0.15334820981479808, null, -0.8150756835927606, 0.7032740312589842, null, -0.8150756835927606, -0.924549057199989, null, -0.15334820981479808, -0.2628207498523535, null, 0.7032740312589842, 0.5938018366408885, null, -0.924549057199989, -0.2628207498523535, null, -0.924549057199989, 0.5938018366408885, null, -0.2628207498523535, 0.8587152973090637, null, 0.8587152973090637, 0.5938018366408885, null], \"z\": [0.5205432566880761, 0.8369089207583706, null, 0.5205432566880761, 0.2683910335578734, null, 0.5205432566880761, -0.4356458249609992, null, 0.8369089207583706, -0.11927968249008096, null, 0.2683910335578734, -0.687798394339579, null, -0.4356458249609992, -0.11927968249008096, null, -0.4356458249609992, -0.687798394339579, null, -0.11927968249008096, -0.3831206619506322, null, -0.3831206619506322, -0.687798394339579, null], \"type\": \"scatter3d\"}, {\"mode\": \"markers\", \"name\": \"Reconstructed\", \"x\": [0.600049614906311, -0.7809175252914429, 0.875862717628479, 0.3285384774208069, -1.0524287223815918, -0.5754570960998535, 0.6043525338172913], \"y\": [-0.8788805360402991, -0.3635329982102419, 0.6859673975609903, -0.8530660078586674, -0.32978180890917363, 1.0431975252908718, 0.6960965214842453], \"z\": [0.49381741619897573, 0.7488691414561516, 0.26114183049771156, -0.4057038299388893, -0.14732755839113781, -0.3058468746290559, -0.6449503769061994], \"type\": \"scatter3d\"}, {\"mode\": \"lines\", \"name\": \"Reconstructed\", \"x\": [0.600049614906311, -0.7809175252914429, null, 0.600049614906311, 0.875862717628479, null, 0.600049614906311, 0.3285384774208069, null, -0.7809175252914429, -1.0524287223815918, null, 0.875862717628479, 0.6043525338172913, null, 0.3285384774208069, -1.0524287223815918, null, 0.3285384774208069, 0.6043525338172913, null, -1.0524287223815918, -0.5754570960998535, null, -0.5754570960998535, 0.6043525338172913, null], \"y\": [-0.8788805360402991, -0.3635329982102419, null, -0.8788805360402991, 0.6859673975609903, null, -0.8788805360402991, -0.8530660078586674, null, -0.3635329982102419, -0.32978180890917363, null, 0.6859673975609903, 0.6960965214842453, null, -0.8530660078586674, -0.32978180890917363, null, -0.8530660078586674, 0.6960965214842453, null, -0.32978180890917363, 1.0431975252908718, null, 1.0431975252908718, 0.6960965214842453, null], \"z\": [0.49381741619897573, 0.7488691414561516, null, 0.49381741619897573, 0.26114183049771156, null, 0.49381741619897573, -0.4057038299388893, null, 0.7488691414561516, -0.14732755839113781, null, 0.26114183049771156, -0.6449503769061994, null, -0.4057038299388893, -0.14732755839113781, null, -0.4057038299388893, -0.6449503769061994, null, -0.14732755839113781, -0.3058468746290559, null, -0.3058468746290559, -0.6449503769061994, null], \"type\": \"scatter3d\"}], \"traces\": [0, 1, 2, 3]}, {\"data\": [{\"mode\": \"markers\", \"name\": \"Original\", \"x\": [0.600049614906311, -0.7809175252914429, 0.875862717628479, 0.3285384774208069, -1.0524287223815918, -0.5754570960998535, 0.6043525338172913], \"y\": [-0.8464495662317394, -0.20611951440602452, 0.684835701756221, -0.8950572750291871, -0.2547264216540874, 0.8812854396793652, 0.6362291915346486], \"z\": [0.4677999400317775, 0.8254980077985462, 0.3124550712303941, -0.4934072540940844, -0.13570865602161122, -0.3278862260834268, -0.6487523936706229], \"type\": \"scatter3d\"}, {\"mode\": \"lines\", \"name\": \"Original\", \"x\": [0.600049614906311, -0.7809175252914429, null, 0.600049614906311, 0.875862717628479, null, 0.600049614906311, 0.3285384774208069, null, -0.7809175252914429, -1.0524287223815918, null, 0.875862717628479, 0.6043525338172913, null, 0.3285384774208069, -1.0524287223815918, null, 0.3285384774208069, 0.6043525338172913, null, -1.0524287223815918, -0.5754570960998535, null, -0.5754570960998535, 0.6043525338172913, null], \"y\": [-0.8464495662317394, -0.20611951440602452, null, -0.8464495662317394, 0.684835701756221, null, -0.8464495662317394, -0.8950572750291871, null, -0.20611951440602452, -0.2547264216540874, null, 0.684835701756221, 0.6362291915346486, null, -0.8950572750291871, -0.2547264216540874, null, -0.8950572750291871, 0.6362291915346486, null, -0.2547264216540874, 0.8812854396793652, null, 0.8812854396793652, 0.6362291915346486, null], \"z\": [0.4677999400317775, 0.8254980077985462, null, 0.4677999400317775, 0.3124550712303941, null, 0.4677999400317775, -0.4934072540940844, null, 0.8254980077985462, -0.13570865602161122, null, 0.3124550712303941, -0.6487523936706229, null, -0.4934072540940844, -0.13570865602161122, null, -0.4934072540940844, -0.6487523936706229, null, -0.13570865602161122, -0.3278862260834268, null, -0.3278862260834268, -0.6487523936706229, null], \"type\": \"scatter3d\"}, {\"mode\": \"markers\", \"name\": \"Reconstructed\", \"x\": [0.600049614906311, -0.7809175252914429, 0.875862717628479, 0.3285384774208069, -1.0524287223815918, -0.5754570960998535, 0.6043525338172913], \"y\": [-0.9084309013087025, -0.4102973049326942, 0.6680236847835056, -0.8256171828796053, -0.31977376020755494, 1.0604952387724162, 0.7356003348670714], \"z\": [0.4370811534708109, 0.7243047379231817, 0.30412280861612623, -0.4589918068168011, -0.16794699530394103, -0.23906742989038945, -0.5995027132860763], \"type\": \"scatter3d\"}, {\"mode\": \"lines\", \"name\": \"Reconstructed\", \"x\": [0.600049614906311, -0.7809175252914429, null, 0.600049614906311, 0.875862717628479, null, 0.600049614906311, 0.3285384774208069, null, -0.7809175252914429, -1.0524287223815918, null, 0.875862717628479, 0.6043525338172913, null, 0.3285384774208069, -1.0524287223815918, null, 0.3285384774208069, 0.6043525338172913, null, -1.0524287223815918, -0.5754570960998535, null, -0.5754570960998535, 0.6043525338172913, null], \"y\": [-0.9084309013087025, -0.4102973049326942, null, -0.9084309013087025, 0.6680236847835056, null, -0.9084309013087025, -0.8256171828796053, null, -0.4102973049326942, -0.31977376020755494, null, 0.6680236847835056, 0.7356003348670714, null, -0.8256171828796053, -0.31977376020755494, null, -0.8256171828796053, 0.7356003348670714, null, -0.31977376020755494, 1.0604952387724162, null, 1.0604952387724162, 0.7356003348670714, null], \"z\": [0.4370811534708109, 0.7243047379231817, null, 0.4370811534708109, 0.30412280861612623, null, 0.4370811534708109, -0.4589918068168011, null, 0.7243047379231817, -0.16794699530394103, null, 0.30412280861612623, -0.5995027132860763, null, -0.4589918068168011, -0.16794699530394103, null, -0.4589918068168011, -0.5995027132860763, null, -0.16794699530394103, -0.23906742989038945, null, -0.23906742989038945, -0.5995027132860763, null], \"type\": \"scatter3d\"}], \"traces\": [0, 1, 2, 3]}, {\"data\": [{\"mode\": \"markers\", \"name\": \"Original\", \"x\": [0.600049614906311, -0.7809175252914429, 0.875862717628479, 0.3285384774208069, -1.0524287223815918, -0.5754570960998535, 0.6043525338172913], \"y\": [-0.874415095216603, -0.25806084846133637, 0.6636397805909788, -0.8619614131167302, -0.24560640005992343, 0.9003069566282825, 0.6760946760272276], \"z\": [0.41317295812404453, 0.810763105715695, 0.3552609626101407, -0.5491819063599488, -0.15159117869286703, -0.27133150810918355, -0.6070940960854697], \"type\": \"scatter3d\"}, {\"mode\": \"lines\", \"name\": \"Original\", \"x\": [0.600049614906311, -0.7809175252914429, null, 0.600049614906311, 0.875862717628479, null, 0.600049614906311, 0.3285384774208069, null, -0.7809175252914429, -1.0524287223815918, null, 0.875862717628479, 0.6043525338172913, null, 0.3285384774208069, -1.0524287223815918, null, 0.3285384774208069, 0.6043525338172913, null, -1.0524287223815918, -0.5754570960998535, null, -0.5754570960998535, 0.6043525338172913, null], \"y\": [-0.874415095216603, -0.25806084846133637, null, -0.874415095216603, 0.6636397805909788, null, -0.874415095216603, -0.8619614131167302, null, -0.25806084846133637, -0.24560640005992343, null, 0.6636397805909788, 0.6760946760272276, null, -0.8619614131167302, -0.24560640005992343, null, -0.8619614131167302, 0.6760946760272276, null, -0.24560640005992343, 0.9003069566282825, null, 0.9003069566282825, 0.6760946760272276, null], \"z\": [0.41317295812404453, 0.810763105715695, null, 0.41317295812404453, 0.3552609626101407, null, 0.41317295812404453, -0.5491819063599488, null, 0.810763105715695, -0.15159117869286703, null, 0.3552609626101407, -0.6070940960854697, null, -0.5491819063599488, -0.15159117869286703, null, -0.5491819063599488, -0.6070940960854697, null, -0.15159117869286703, -0.27133150810918355, null, -0.27133150810918355, -0.6070940960854697, null], \"type\": \"scatter3d\"}, {\"mode\": \"markers\", \"name\": \"Reconstructed\", \"x\": [0.600049614906311, -0.7809175252914429, 0.875862717628479, 0.3285384774208069, -1.0524287223815918, -0.5754570960998535, 0.6043525338172913], \"y\": [-0.9343233359625618, -0.4554094892200598, 0.6473900764021944, -0.7948438889015269, -0.3084780954357364, 1.0735227122226105, 0.7721421453269425], \"z\": [0.37858491920268833, 0.6968238148494392, 0.34587919152249413, -0.5104315856869599, -0.18789016894250085, -0.17132534498891375, -0.551641063830297], \"type\": \"scatter3d\"}, {\"mode\": \"lines\", \"name\": \"Reconstructed\", \"x\": [0.600049614906311, -0.7809175252914429, null, 0.600049614906311, 0.875862717628479, null, 0.600049614906311, 0.3285384774208069, null, -0.7809175252914429, -1.0524287223815918, null, 0.875862717628479, 0.6043525338172913, null, 0.3285384774208069, -1.0524287223815918, null, 0.3285384774208069, 0.6043525338172913, null, -1.0524287223815918, -0.5754570960998535, null, -0.5754570960998535, 0.6043525338172913, null], \"y\": [-0.9343233359625618, -0.4554094892200598, null, -0.9343233359625618, 0.6473900764021944, null, -0.9343233359625618, -0.7948438889015269, null, -0.4554094892200598, -0.3084780954357364, null, 0.6473900764021944, 0.7721421453269425, null, -0.7948438889015269, -0.3084780954357364, null, -0.7948438889015269, 0.7721421453269425, null, -0.3084780954357364, 1.0735227122226105, null, 1.0735227122226105, 0.7721421453269425, null], \"z\": [0.37858491920268833, 0.6968238148494392, null, 0.37858491920268833, 0.34587919152249413, null, 0.37858491920268833, -0.5104315856869599, null, 0.6968238148494392, -0.18789016894250085, null, 0.34587919152249413, -0.551641063830297, null, -0.5104315856869599, -0.18789016894250085, null, -0.5104315856869599, -0.551641063830297, null, -0.18789016894250085, -0.17132534498891375, null, -0.17132534498891375, -0.551641063830297, null], \"type\": \"scatter3d\"}], \"traces\": [0, 1, 2, 3]}, {\"data\": [{\"mode\": \"markers\", \"name\": \"Original\", \"x\": [0.600049614906311, -0.7809175252914429, 0.875862717628479, 0.3285384774208069, -1.0524287223815918, -0.5754570960998535, 0.6043525338172913], \"y\": [-0.8988596632323884, -0.3089630625608624, 0.6397716162568223, -0.8253947368175625, -0.23549740817796677, 0.9157032552205879, 0.7132377658828476], \"z\": [0.35688227454076754, 0.7927635467599129, 0.39663634348059884, -0.602745196919233, -0.1668632971906885, -0.21368423391655025, -0.5629912448454591], \"type\": \"scatter3d\"}, {\"mode\": \"lines\", \"name\": \"Original\", \"x\": [0.600049614906311, -0.7809175252914429, null, 0.600049614906311, 0.875862717628479, null, 0.600049614906311, 0.3285384774208069, null, -0.7809175252914429, -1.0524287223815918, null, 0.875862717628479, 0.6043525338172913, null, 0.3285384774208069, -1.0524287223815918, null, 0.3285384774208069, 0.6043525338172913, null, -1.0524287223815918, -0.5754570960998535, null, -0.5754570960998535, 0.6043525338172913, null], \"y\": [-0.8988596632323884, -0.3089630625608624, null, -0.8988596632323884, 0.6397716162568223, null, -0.8988596632323884, -0.8253947368175625, null, -0.3089630625608624, -0.23549740817796677, null, 0.6397716162568223, 0.7132377658828476, null, -0.8253947368175625, -0.23549740817796677, null, -0.8253947368175625, 0.7132377658828476, null, -0.23549740817796677, 0.9157032552205879, null, 0.9157032552205879, 0.7132377658828476, null], \"z\": [0.35688227454076754, 0.7927635467599129, null, 0.35688227454076754, 0.39663634348059884, null, 0.35688227454076754, -0.602745196919233, null, 0.7927635467599129, -0.1668632971906885, null, 0.39663634348059884, -0.5629912448454591, null, -0.602745196919233, -0.1668632971906885, null, -0.602745196919233, -0.5629912448454591, null, -0.1668632971906885, -0.21368423391655025, null, -0.21368423391655025, -0.5629912448454591, null], \"type\": \"scatter3d\"}, {\"mode\": \"markers\", \"name\": \"Reconstructed\", \"x\": [0.600049614906311, -0.7809175252914429, 0.875862717628479, 0.3285384774208069, -1.0524287223815918, -0.5754570960998535, 0.6043525338172913], \"y\": [-0.9564535803060991, -0.4986879002282774, 0.6241496566755053, -0.7608700391180402, -0.29594029824901996, 1.0822274886038366, 0.8055748118903405], \"z\": [0.3185642570841252, 0.6665370282129215, 0.3862428410005061, -0.5598160367152045, -0.20707677518539339, -0.10289339339138132, -0.5015581505087496], \"type\": \"scatter3d\"}, {\"mode\": \"lines\", \"name\": \"Reconstructed\", \"x\": [0.600049614906311, -0.7809175252914429, null, 0.600049614906311, 0.875862717628479, null, 0.600049614906311, 0.3285384774208069, null, -0.7809175252914429, -1.0524287223815918, null, 0.875862717628479, 0.6043525338172913, null, 0.3285384774208069, -1.0524287223815918, null, 0.3285384774208069, 0.6043525338172913, null, -1.0524287223815918, -0.5754570960998535, null, -0.5754570960998535, 0.6043525338172913, null], \"y\": [-0.9564535803060991, -0.4986879002282774, null, -0.9564535803060991, 0.6241496566755053, null, -0.9564535803060991, -0.7608700391180402, null, -0.4986879002282774, -0.29594029824901996, null, 0.6241496566755053, 0.8055748118903405, null, -0.7608700391180402, -0.29594029824901996, null, -0.7608700391180402, 0.8055748118903405, null, -0.29594029824901996, 1.0822274886038366, null, 1.0822274886038366, 0.8055748118903405, null], \"z\": [0.3185642570841252, 0.6665370282129215, null, 0.3185642570841252, 0.3862428410005061, null, 0.3185642570841252, -0.5598160367152045, null, 0.6665370282129215, -0.20707677518539339, null, 0.3862428410005061, -0.5015581505087496, null, -0.5598160367152045, -0.20707677518539339, null, -0.5598160367152045, -0.5015581505087496, null, -0.20707677518539339, -0.10289339339138132, null, -0.10289339339138132, -0.5015581505087496, null], \"type\": \"scatter3d\"}], \"traces\": [0, 1, 2, 3]}, {\"data\": [{\"mode\": \"markers\", \"name\": \"Original\", \"x\": [0.600049614906311, -0.7809175252914429, 0.875862717628479, 0.3285384774208069, -1.0524287223815918, -0.5754570960998535, 0.6043525338172913], \"y\": [-0.9196848406312542, -0.35862119145404403, 0.6133273174274048, -0.7855044872311591, -0.2244401513506201, 0.9274123399958781, 0.7475088989880828], \"z\": [0.2991545519972893, 0.7715718088022825, 0.43641460978618685, -0.6538814453056854, -0.18146351608408412, -0.1551765287324534, -0.5166214265667072], \"type\": \"scatter3d\"}, {\"mode\": \"lines\", \"name\": \"Original\", \"x\": [0.600049614906311, -0.7809175252914429, null, 0.600049614906311, 0.875862717628479, null, 0.600049614906311, 0.3285384774208069, null, -0.7809175252914429, -1.0524287223815918, null, 0.875862717628479, 0.6043525338172913, null, 0.3285384774208069, -1.0524287223815918, null, 0.3285384774208069, 0.6043525338172913, null, -1.0524287223815918, -0.5754570960998535, null, -0.5754570960998535, 0.6043525338172913, null], \"y\": [-0.9196848406312542, -0.35862119145404403, null, -0.9196848406312542, 0.6133273174274048, null, -0.9196848406312542, -0.7855044872311591, null, -0.35862119145404403, -0.2244401513506201, null, 0.6133273174274048, 0.7475088989880828, null, -0.7855044872311591, -0.2244401513506201, null, -0.7855044872311591, 0.7475088989880828, null, -0.2244401513506201, 0.9274123399958781, null, 0.9274123399958781, 0.7475088989880828, null], \"z\": [0.2991545519972893, 0.7715718088022825, null, 0.2991545519972893, 0.43641460978618685, null, 0.2991545519972893, -0.6538814453056854, null, 0.7715718088022825, -0.18146351608408412, null, 0.43641460978618685, -0.5166214265667072, null, -0.6538814453056854, -0.18146351608408412, null, -0.6538814453056854, -0.5166214265667072, null, -0.18146351608408412, -0.1551765287324534, null, -0.1551765287324534, -0.5166214265667072, null], \"type\": \"scatter3d\"}, {\"mode\": \"markers\", \"name\": \"Reconstructed\", \"x\": [0.600049614906311, -0.7809175252914429, 0.875862717628479, 0.3285384774208069, -1.0524287223815918, -0.5754570960998535, 0.6043525338172913], \"y\": [-0.9747325236560752, -0.539958271071063, 0.5983960065711158, -0.7238324342313639, -0.2822108539315387, 1.0865745168539032, 0.8357637130088665], \"z\": [0.25726084913755337, 0.6335663322138809, 0.4250512268798133, -0.6069463061471793, -0.22542955634107198, -0.0340471264142433, -0.44945563953692697], \"type\": \"scatter3d\"}, {\"mode\": \"lines\", \"name\": \"Reconstructed\", \"x\": [0.600049614906311, -0.7809175252914429, null, 0.600049614906311, 0.875862717628479, null, 0.600049614906311, 0.3285384774208069, null, -0.7809175252914429, -1.0524287223815918, null, 0.875862717628479, 0.6043525338172913, null, 0.3285384774208069, -1.0524287223815918, null, 0.3285384774208069, 0.6043525338172913, null, -1.0524287223815918, -0.5754570960998535, null, -0.5754570960998535, 0.6043525338172913, null], \"y\": [-0.9747325236560752, -0.539958271071063, null, -0.9747325236560752, 0.5983960065711158, null, -0.9747325236560752, -0.7238324342313639, null, -0.539958271071063, -0.2822108539315387, null, 0.5983960065711158, 0.8357637130088665, null, -0.7238324342313639, -0.2822108539315387, null, -0.7238324342313639, 0.8357637130088665, null, -0.2822108539315387, 1.0865745168539032, null, 1.0865745168539032, 0.8357637130088665, null], \"z\": [0.25726084913755337, 0.6335663322138809, null, 0.25726084913755337, 0.4250512268798133, null, 0.25726084913755337, -0.6069463061471793, null, 0.6335663322138809, -0.22542955634107198, null, 0.4250512268798133, -0.44945563953692697, null, -0.6069463061471793, -0.22542955634107198, null, -0.6069463061471793, -0.44945563953692697, null, -0.22542955634107198, -0.0340471264142433, null, -0.0340471264142433, -0.44945563953692697, null], \"type\": \"scatter3d\"}], \"traces\": [0, 1, 2, 3]}, {\"data\": [{\"mode\": \"markers\", \"name\": \"Original\", \"x\": [0.600049614906311, -0.7809175252914429, 0.875862717628479, 0.3285384774208069, -1.0524287223815918, -0.5754570960998535, 0.6043525338172913], \"y\": [-0.9368067717739317, -0.40683527938235464, 0.5844133659607622, -0.7424512883135903, -0.21247915324853744, 0.9353870626024113, 0.7787700775857007], \"z\": [0.24022223965765346, 0.7472732234920674, 0.47443558848798273, -0.7023847438952728, -0.19533304544462626, -0.09604398243574024, -0.4681713561414848], \"type\": \"scatter3d\"}, {\"mode\": \"lines\", \"name\": \"Original\", \"x\": [0.600049614906311, -0.7809175252914429, null, 0.600049614906311, 0.875862717628479, null, 0.600049614906311, 0.3285384774208069, null, -0.7809175252914429, -1.0524287223815918, null, 0.875862717628479, 0.6043525338172913, null, 0.3285384774208069, -1.0524287223815918, null, 0.3285384774208069, 0.6043525338172913, null, -1.0524287223815918, -0.5754570960998535, null, -0.5754570960998535, 0.6043525338172913, null], \"y\": [-0.9368067717739317, -0.40683527938235464, null, -0.9368067717739317, 0.5844133659607622, null, -0.9368067717739317, -0.7424512883135903, null, -0.40683527938235464, -0.21247915324853744, null, 0.5844133659607622, 0.7787700775857007, null, -0.7424512883135903, -0.21247915324853744, null, -0.7424512883135903, 0.7787700775857007, null, -0.21247915324853744, 0.9353870626024113, null, 0.9353870626024113, 0.7787700775857007, null], \"z\": [0.24022223965765346, 0.7472732234920674, null, 0.24022223965765346, 0.47443558848798273, null, 0.24022223965765346, -0.7023847438952728, null, 0.7472732234920674, -0.19533304544462626, null, 0.47443558848798273, -0.4681713561414848, null, -0.7023847438952728, -0.19533304544462626, null, -0.7023847438952728, -0.4681713561414848, null, -0.19533304544462626, -0.09604398243574024, null, -0.09604398243574024, -0.4681713561414848, null], \"type\": \"scatter3d\"}, {\"mode\": \"markers\", \"name\": \"Reconstructed\", \"x\": [0.600049614906311, -0.7809175252914429, 0.875862717628479, 0.3285384774208069, -1.0524287223815918, -0.5754570960998535, 0.6043525338172913], \"y\": [-0.9890865631590586, -0.5790544205311523, 0.5702328269484064, -0.6838802116041856, -0.26734504610983767, 1.0865462930243042, 0.8625872886327003], \"z\": [0.19492154255011865, 0.5980444882083044, 0.46214808148765707, -0.6516326170222155, -0.24287461223732212, 0.03493623632424328, -0.3955433293372569], \"type\": \"scatter3d\"}, {\"mode\": \"lines\", \"name\": \"Reconstructed\", \"x\": [0.600049614906311, -0.7809175252914429, null, 0.600049614906311, 0.875862717628479, null, 0.600049614906311, 0.3285384774208069, null, -0.7809175252914429, -1.0524287223815918, null, 0.875862717628479, 0.6043525338172913, null, 0.3285384774208069, -1.0524287223815918, null, 0.3285384774208069, 0.6043525338172913, null, -1.0524287223815918, -0.5754570960998535, null, -0.5754570960998535, 0.6043525338172913, null], \"y\": [-0.9890865631590586, -0.5790544205311523, null, -0.9890865631590586, 0.5702328269484064, null, -0.9890865631590586, -0.6838802116041856, null, -0.5790544205311523, -0.26734504610983767, null, 0.5702328269484064, 0.8625872886327003, null, -0.6838802116041856, -0.26734504610983767, null, -0.6838802116041856, 0.8625872886327003, null, -0.26734504610983767, 1.0865462930243042, null, 1.0865462930243042, 0.8625872886327003, null], \"z\": [0.19492154255011865, 0.5980444882083044, null, 0.19492154255011865, 0.46214808148765707, null, 0.19492154255011865, -0.6516326170222155, null, 0.5980444882083044, -0.24287461223732212, null, 0.46214808148765707, -0.3955433293372569, null, -0.6516326170222155, -0.24287461223732212, null, -0.6516326170222155, -0.3955433293372569, null, -0.24287461223732212, 0.03493623632424328, null, 0.03493623632424328, -0.3955433293372569, null], \"type\": \"scatter3d\"}], \"traces\": [0, 1, 2, 3]}, {\"data\": [{\"mode\": \"markers\", \"name\": \"Original\", \"x\": [0.600049614906311, -0.7809175252914429, 0.875862717628479, 0.3285384774208069, -1.0524287223815918, -0.5754570960998535, 0.6043525338172913], \"y\": [-0.9501565126867882, -0.4534111852305696, 0.5531461881344514, -0.6964085001015382, -0.199662576589516, 0.9395953116468798, 0.8068954239429276], \"z\": [0.1803226371438585, 0.7199656326562776, 0.5105461825240224, -0.7480597870235132, -0.2084160375727443, -0.036524700919882976, -0.41783612490324323], \"type\": \"scatter3d\"}, {\"mode\": \"lines\", \"name\": \"Original\", \"x\": [0.600049614906311, -0.7809175252914429, null, 0.600049614906311, 0.875862717628479, null, 0.600049614906311, 0.3285384774208069, null, -0.7809175252914429, -1.0524287223815918, null, 0.875862717628479, 0.6043525338172913, null, 0.3285384774208069, -1.0524287223815918, null, 0.3285384774208069, 0.6043525338172913, null, -1.0524287223815918, -0.5754570960998535, null, -0.5754570960998535, 0.6043525338172913, null], \"y\": [-0.9501565126867882, -0.4534111852305696, null, -0.9501565126867882, 0.5531461881344514, null, -0.9501565126867882, -0.6964085001015382, null, -0.4534111852305696, -0.199662576589516, null, 0.5531461881344514, 0.8068954239429276, null, -0.6964085001015382, -0.199662576589516, null, -0.6964085001015382, 0.8068954239429276, null, -0.199662576589516, 0.9395953116468798, null, 0.9395953116468798, 0.8068954239429276, null], \"z\": [0.1803226371438585, 0.7199656326562776, null, 0.1803226371438585, 0.5105461825240224, null, 0.1803226371438585, -0.7480597870235132, null, 0.7199656326562776, -0.2084160375727443, null, 0.5105461825240224, -0.41783612490324323, null, -0.7480597870235132, -0.2084160375727443, null, -0.7480597870235132, -0.41783612490324323, null, -0.2084160375727443, -0.036524700919882976, null, -0.036524700919882976, -0.41783612490324323, null], \"type\": \"scatter3d\"}, {\"mode\": \"markers\", \"name\": \"Reconstructed\", \"x\": [0.600049614906311, -0.7809175252914429, 0.875862717628479, 0.3285384774208069, -1.0524287223815918, -0.5754570960998535, 0.6043525338172913], \"y\": [-0.9994579001641398, -0.6158189222134124, 0.5397735209916986, -0.6411742447361362, -0.25140273414522035, 1.08214293076244, 0.8859375296900189], \"z\": [0.13179735570717804, 0.5601145301247883, 0.497384028883636, -0.6936950333381756, -0.2593416977911737, 0.10377892316957962, -0.34003830575489863], \"type\": \"scatter3d\"}, {\"mode\": \"lines\", \"name\": \"Reconstructed\", \"x\": [0.600049614906311, -0.7809175252914429, null, 0.600049614906311, 0.875862717628479, null, 0.600049614906311, 0.3285384774208069, null, -0.7809175252914429, -1.0524287223815918, null, 0.875862717628479, 0.6043525338172913, null, 0.3285384774208069, -1.0524287223815918, null, 0.3285384774208069, 0.6043525338172913, null, -1.0524287223815918, -0.5754570960998535, null, -0.5754570960998535, 0.6043525338172913, null], \"y\": [-0.9994579001641398, -0.6158189222134124, null, -0.9994579001641398, 0.5397735209916986, null, -0.9994579001641398, -0.6411742447361362, null, -0.6158189222134124, -0.25140273414522035, null, 0.5397735209916986, 0.8859375296900189, null, -0.6411742447361362, -0.25140273414522035, null, -0.6411742447361362, 0.8859375296900189, null, -0.25140273414522035, 1.08214293076244, null, 1.08214293076244, 0.8859375296900189, null], \"z\": [0.13179735570717804, 0.5601145301247883, null, 0.13179735570717804, 0.497384028883636, null, 0.13179735570717804, -0.6936950333381756, null, 0.5601145301247883, -0.2593416977911737, null, 0.497384028883636, -0.34003830575489863, null, -0.6936950333381756, -0.2593416977911737, null, -0.6936950333381756, -0.34003830575489863, null, -0.2593416977911737, 0.10377892316957962, null, 0.10377892316957962, -0.34003830575489863, null], \"type\": \"scatter3d\"}], \"traces\": [0, 1, 2, 3]}, {\"data\": [{\"mode\": \"markers\", \"name\": \"Original\", \"x\": [0.600049614906311, -0.7809175252914429, 0.875862717628479, 0.3285384774208069, -1.0524287223815918, -0.5754570960998535, 0.6043525338172913], \"y\": [-0.9596803086748756, -0.49816136426451346, 0.5196516858380237, -0.6475615206526183, -0.18604202920423096, 0.9400201419956568, 0.831771687216648], \"z\": [0.11969693901403686, 0.689758994325165, 0.5446009872771315, -0.7907226574124501, -0.22065981187669853, 0.023141652675412575, -0.3658184150626734], \"type\": \"scatter3d\"}, {\"mode\": \"lines\", \"name\": \"Original\", \"x\": [0.600049614906311, -0.7809175252914429, null, 0.600049614906311, 0.875862717628479, null, 0.600049614906311, 0.3285384774208069, null, -0.7809175252914429, -1.0524287223815918, null, 0.875862717628479, 0.6043525338172913, null, 0.3285384774208069, -1.0524287223815918, null, 0.3285384774208069, 0.6043525338172913, null, -1.0524287223815918, -0.5754570960998535, null, -0.5754570960998535, 0.6043525338172913, null], \"y\": [-0.9596803086748756, -0.49816136426451346, null, -0.9596803086748756, 0.5196516858380237, null, -0.9596803086748756, -0.6475615206526183, null, -0.49816136426451346, -0.18604202920423096, null, 0.5196516858380237, 0.831771687216648, null, -0.6475615206526183, -0.18604202920423096, null, -0.6475615206526183, 0.831771687216648, null, -0.18604202920423096, 0.9400201419956568, null, 0.9400201419956568, 0.831771687216648, null], \"z\": [0.11969693901403686, 0.689758994325165, null, 0.11969693901403686, 0.5446009872771315, null, 0.11969693901403686, -0.7907226574124501, null, 0.689758994325165, -0.22065981187669853, null, 0.5446009872771315, -0.3658184150626734, null, -0.7907226574124501, -0.22065981187669853, null, -0.7907226574124501, -0.3658184150626734, null, -0.22065981187669853, 0.023141652675412575, null, 0.023141652675412575, -0.3658184150626734, null], \"type\": \"scatter3d\"}, {\"mode\": \"markers\", \"name\": \"Reconstructed\", \"x\": [0.600049614906311, -0.7809175252914429, 0.875862717628479, 0.3285384774208069, -1.0524287223815918, -0.5754570960998535, 0.6043525338172913], \"y\": [-1.0058047729576982, -0.6501037384453703, 0.5071407375756584, -0.5958864954829891, -0.23444811210122884, 1.0733821608539997, 0.9057204130014064], \"z\": [0.06814246742986063, 0.5199291885173932, 0.530617186343894, -0.732964184590222, -0.2747645058610564, 0.17220372891943578, -0.283164067929667], \"type\": \"scatter3d\"}, {\"mode\": \"lines\", \"name\": \"Reconstructed\", \"x\": [0.600049614906311, -0.7809175252914429, null, 0.600049614906311, 0.875862717628479, null, 0.600049614906311, 0.3285384774208069, null, -0.7809175252914429, -1.0524287223815918, null, 0.875862717628479, 0.6043525338172913, null, 0.3285384774208069, -1.0524287223815918, null, 0.3285384774208069, 0.6043525338172913, null, -1.0524287223815918, -0.5754570960998535, null, -0.5754570960998535, 0.6043525338172913, null], \"y\": [-1.0058047729576982, -0.6501037384453703, null, -1.0058047729576982, 0.5071407375756584, null, -1.0058047729576982, -0.5958864954829891, null, -0.6501037384453703, -0.23444811210122884, null, 0.5071407375756584, 0.9057204130014064, null, -0.5958864954829891, -0.23444811210122884, null, -0.5958864954829891, 0.9057204130014064, null, -0.23444811210122884, 1.0733821608539997, null, 1.0733821608539997, 0.9057204130014064, null], \"z\": [0.06814246742986063, 0.5199291885173932, null, 0.06814246742986063, 0.530617186343894, null, 0.06814246742986063, -0.732964184590222, null, 0.5199291885173932, -0.2747645058610564, null, 0.530617186343894, -0.283164067929667, null, -0.732964184590222, -0.2747645058610564, null, -0.732964184590222, -0.283164067929667, null, -0.2747645058610564, 0.17220372891943578, null, 0.17220372891943578, -0.283164067929667, null], \"type\": \"scatter3d\"}], \"traces\": [0, 1, 2, 3]}, {\"data\": [{\"mode\": \"markers\", \"name\": \"Original\", \"x\": [0.600049614906311, -0.7809175252914429, 0.875862717628479, 0.3285384774208069, -1.0524287223815918, -0.5754570960998535, 0.6043525338172913], \"y\": [-0.965339810773114, -0.5409056233075136, 0.48406472961055036, -0.5961070395128334, -0.17167235622971527, 0.9366598430068688, 0.8532986994745809], \"z\": [0.05858926355709385, 0.6567749399700434, 0.5764628760680006, -0.830201566740622, -0.232015066998731, 0.08271482300308677, -0.31232768357797563], \"type\": \"scatter3d\"}, {\"mode\": \"lines\", \"name\": \"Original\", \"x\": [0.600049614906311, -0.7809175252914429, null, 0.600049614906311, 0.875862717628479, null, 0.600049614906311, 0.3285384774208069, null, -0.7809175252914429, -1.0524287223815918, null, 0.875862717628479, 0.6043525338172913, null, 0.3285384774208069, -1.0524287223815918, null, 0.3285384774208069, 0.6043525338172913, null, -1.0524287223815918, -0.5754570960998535, null, -0.5754570960998535, 0.6043525338172913, null], \"y\": [-0.965339810773114, -0.5409056233075136, null, -0.965339810773114, 0.48406472961055036, null, -0.965339810773114, -0.5961070395128334, null, -0.5409056233075136, -0.17167235622971527, null, 0.48406472961055036, 0.8532986994745809, null, -0.5961070395128334, -0.17167235622971527, null, -0.5961070395128334, 0.8532986994745809, null, -0.17167235622971527, 0.9366598430068688, null, 0.9366598430068688, 0.8532986994745809, null], \"z\": [0.05858926355709385, 0.6567749399700434, null, 0.05858926355709385, 0.5764628760680006, null, 0.05858926355709385, -0.830201566740622, null, 0.6567749399700434, -0.232015066998731, null, 0.5764628760680006, -0.31232768357797563, null, -0.830201566740622, -0.232015066998731, null, -0.830201566740622, -0.31232768357797563, null, -0.232015066998731, 0.08271482300308677, null, 0.08271482300308677, -0.31232768357797563, null], \"type\": \"scatter3d\"}, {\"mode\": \"markers\", \"name\": \"Reconstructed\", \"x\": [0.600049614906311, -0.7809175252914429, 0.875862717628479, 0.3285384774208069, -1.0524287223815918, -0.5754570960998535, 0.6043525338172913], \"y\": [-1.0081016249230828, -0.6817708163726721, 0.4724658774015637, -0.5481993216269571, -0.21654945025680578, 1.0602992598273457, 0.9218562798780131], \"z\": [0.0042131934866617956, 0.47765027557360545, 0.5617137356727747, -0.7692819477660653, -0.28908093424225684, 0.23993513103116693, -0.22514962834387536], \"type\": \"scatter3d\"}, {\"mode\": \"lines\", \"name\": \"Reconstructed\", \"x\": [0.600049614906311, -0.7809175252914429, null, 0.600049614906311, 0.875862717628479, null, 0.600049614906311, 0.3285384774208069, null, -0.7809175252914429, -1.0524287223815918, null, 0.875862717628479, 0.6043525338172913, null, 0.3285384774208069, -1.0524287223815918, null, 0.3285384774208069, 0.6043525338172913, null, -1.0524287223815918, -0.5754570960998535, null, -0.5754570960998535, 0.6043525338172913, null], \"y\": [-1.0081016249230828, -0.6817708163726721, null, -1.0081016249230828, 0.4724658774015637, null, -1.0081016249230828, -0.5481993216269571, null, -0.6817708163726721, -0.21654945025680578, null, 0.4724658774015637, 0.9218562798780131, null, -0.5481993216269571, -0.21654945025680578, null, -0.5481993216269571, 0.9218562798780131, null, -0.21654945025680578, 1.0602992598273457, null, 1.0602992598273457, 0.9218562798780131, null], \"z\": [0.0042131934866617956, 0.47765027557360545, null, 0.0042131934866617956, 0.5617137356727747, null, 0.0042131934866617956, -0.7692819477660653, null, 0.47765027557360545, -0.28908093424225684, null, 0.5617137356727747, -0.22514962834387536, null, -0.7692819477660653, -0.28908093424225684, null, -0.7692819477660653, -0.22514962834387536, null, -0.28908093424225684, 0.23993513103116693, null, 0.23993513103116693, -0.22514962834387536, null], \"type\": \"scatter3d\"}], \"traces\": [0, 1, 2, 3]}, {\"data\": [{\"mode\": \"markers\", \"name\": \"Original\", \"x\": [0.600049614906311, -0.7809175252914429, 0.875862717628479, 0.3285384774208069, -1.0524287223815918, -0.5754570960998535, 0.6043525338172913], \"y\": [-0.9671122301640404, -0.5814718463147234, 0.44652861556456575, -0.542252245717196, -0.15661141926735106, 0.9295279454185474, 0.8713897790361887], \"z\": [-0.0027543301854775124, 0.6211462847362855, 0.6060035523159238, -0.8663375473739989, -0.2424360793342317, 0.14195492993220848, -0.25757931874561973], \"type\": \"scatter3d\"}, {\"mode\": \"lines\", \"name\": \"Original\", \"x\": [0.600049614906311, -0.7809175252914429, null, 0.600049614906311, 0.875862717628479, null, 0.600049614906311, 0.3285384774208069, null, -0.7809175252914429, -1.0524287223815918, null, 0.875862717628479, 0.6043525338172913, null, 0.3285384774208069, -1.0524287223815918, null, 0.3285384774208069, 0.6043525338172913, null, -1.0524287223815918, -0.5754570960998535, null, -0.5754570960998535, 0.6043525338172913, null], \"y\": [-0.9671122301640404, -0.5814718463147234, null, -0.9671122301640404, 0.44652861556456575, null, -0.9671122301640404, -0.542252245717196, null, -0.5814718463147234, -0.15661141926735106, null, 0.44652861556456575, 0.8713897790361887, null, -0.542252245717196, -0.15661141926735106, null, -0.542252245717196, 0.8713897790361887, null, -0.15661141926735106, 0.9295279454185474, null, 0.9295279454185474, 0.8713897790361887, null], \"z\": [-0.0027543301854775124, 0.6211462847362855, null, -0.0027543301854775124, 0.6060035523159238, null, -0.0027543301854775124, -0.8663375473739989, null, 0.6211462847362855, -0.2424360793342317, null, 0.6060035523159238, -0.25757931874561973, null, -0.8663375473739989, -0.2424360793342317, null, -0.8663375473739989, -0.25757931874561973, null, -0.2424360793342317, 0.14195492993220848, null, 0.14195492993220848, -0.25757931874561973, null], \"type\": \"scatter3d\"}, {\"mode\": \"markers\", \"name\": \"Reconstructed\", \"x\": [0.600049614906311, -0.7809175252914429, 0.875862717628479, 0.3285384774208069, -1.0524287223815918, -0.5754570960998535, 0.6043525338172913], \"y\": [-1.0063392074480892, -0.7106926438492027, 0.43588856389306074, -0.49830474258626833, -0.19777882020597784, 1.0429469079073839, 0.9342801568789809], \"z\": [-0.05973304549968686, 0.4334480335537717, 0.5905484620414639, -0.8025020840515245, -0.3022333357305781, 0.30670039905384455, -0.16622859066990192], \"type\": \"scatter3d\"}, {\"mode\": \"lines\", \"name\": \"Reconstructed\", \"x\": [0.600049614906311, -0.7809175252914429, null, 0.600049614906311, 0.875862717628479, null, 0.600049614906311, 0.3285384774208069, null, -0.7809175252914429, -1.0524287223815918, null, 0.875862717628479, 0.6043525338172913, null, 0.3285384774208069, -1.0524287223815918, null, 0.3285384774208069, 0.6043525338172913, null, -1.0524287223815918, -0.5754570960998535, null, -0.5754570960998535, 0.6043525338172913, null], \"y\": [-1.0063392074480892, -0.7106926438492027, null, -1.0063392074480892, 0.43588856389306074, null, -1.0063392074480892, -0.49830474258626833, null, -0.7106926438492027, -0.19777882020597784, null, 0.43588856389306074, 0.9342801568789809, null, -0.49830474258626833, -0.19777882020597784, null, -0.49830474258626833, 0.9342801568789809, null, -0.19777882020597784, 1.0429469079073839, null, 1.0429469079073839, 0.9342801568789809, null], \"z\": [-0.05973304549968686, 0.4334480335537717, null, -0.05973304549968686, 0.5905484620414639, null, -0.05973304549968686, -0.8025020840515245, null, 0.4334480335537717, -0.3022333357305781, null, 0.5905484620414639, -0.16622859066990192, null, -0.8025020840515245, -0.3022333357305781, null, -0.8025020840515245, -0.16622859066990192, null, -0.3022333357305781, 0.30670039905384455, null, 0.30670039905384455, -0.16622859066990192, null], \"type\": \"scatter3d\"}], \"traces\": [0, 1, 2, 3]}, {\"data\": [{\"mode\": \"markers\", \"name\": \"Original\", \"x\": [0.600049614906311, -0.7809175252914429, 0.875862717628479, 0.3285384774208069, -1.0524287223815918, -0.5754570960998535, 0.6043525338172913], \"y\": [-0.9649904299403314, -0.619696687423689, 0.4071944883831948, -0.48621399351260614, -0.14091986339462167, 0.9186531668651217, 0.8859720795092106], \"z\": [-0.06408683321251608, 0.583016492643605, 0.6331040661438486, -0.8989850924725401, -0.25188088714455703, 0.20062343446060157, -0.20179377290769024], \"type\": \"scatter3d\"}, {\"mode\": \"lines\", \"name\": \"Original\", \"x\": [0.600049614906311, -0.7809175252914429, null, 0.600049614906311, 0.875862717628479, null, 0.600049614906311, 0.3285384774208069, null, -0.7809175252914429, -1.0524287223815918, null, 0.875862717628479, 0.6043525338172913, null, 0.3285384774208069, -1.0524287223815918, null, 0.3285384774208069, 0.6043525338172913, null, -1.0524287223815918, -0.5754570960998535, null, -0.5754570960998535, 0.6043525338172913, null], \"y\": [-0.9649904299403314, -0.619696687423689, null, -0.9649904299403314, 0.4071944883831948, null, -0.9649904299403314, -0.48621399351260614, null, -0.619696687423689, -0.14091986339462167, null, 0.4071944883831948, 0.8859720795092106, null, -0.48621399351260614, -0.14091986339462167, null, -0.48621399351260614, 0.8859720795092106, null, -0.14091986339462167, 0.9186531668651217, null, 0.9186531668651217, 0.8859720795092106, null], \"z\": [-0.06408683321251608, 0.583016492643605, null, -0.06408683321251608, 0.6331040661438486, null, -0.06408683321251608, -0.8989850924725401, null, 0.583016492643605, -0.25188088714455703, null, 0.6331040661438486, -0.20179377290769024, null, -0.8989850924725401, -0.25188088714455703, null, -0.8989850924725401, -0.20179377290769024, null, -0.25188088714455703, 0.20062343446060157, null, 0.20062343446060157, -0.20179377290769024, null], \"type\": \"scatter3d\"}, {\"mode\": \"markers\", \"name\": \"Reconstructed\", \"x\": [0.600049614906311, -0.7809175252914429, 0.875862717628479, 0.3285384774208069, -1.0524287223815918, -0.5754570960998535, 0.6043525338172913], \"y\": [-1.0005246171658548, -0.7367527628834928, 0.39755608098191264, -0.4464036662207382, -0.17821180465098246, 1.0213949768908912, 0.9429420174365568], \"z\": [-0.12343876059421494, 0.3875004492855991, 0.6170052581839123, -0.8324908276826184, -0.3141687502472849, 0.37223069281752746, -0.10663820913064549], \"type\": \"scatter3d\"}, {\"mode\": \"lines\", \"name\": \"Reconstructed\", \"x\": [0.600049614906311, -0.7809175252914429, null, 0.600049614906311, 0.875862717628479, null, 0.600049614906311, 0.3285384774208069, null, -0.7809175252914429, -1.0524287223815918, null, 0.875862717628479, 0.6043525338172913, null, 0.3285384774208069, -1.0524287223815918, null, 0.3285384774208069, 0.6043525338172913, null, -1.0524287223815918, -0.5754570960998535, null, -0.5754570960998535, 0.6043525338172913, null], \"y\": [-1.0005246171658548, -0.7367527628834928, null, -1.0005246171658548, 0.39755608098191264, null, -1.0005246171658548, -0.4464036662207382, null, -0.7367527628834928, -0.17821180465098246, null, 0.39755608098191264, 0.9429420174365568, null, -0.4464036662207382, -0.17821180465098246, null, -0.4464036662207382, 0.9429420174365568, null, -0.17821180465098246, 1.0213949768908912, null, 1.0213949768908912, 0.9429420174365568, null], \"z\": [-0.12343876059421494, 0.3875004492855991, null, -0.12343876059421494, 0.6170052581839123, null, -0.12343876059421494, -0.8324908276826184, null, 0.3875004492855991, -0.3141687502472849, null, 0.6170052581839123, -0.10663820913064549, null, -0.8324908276826184, -0.3141687502472849, null, -0.8324908276826184, -0.10663820913064549, null, -0.3141687502472849, 0.37223069281752746, null, 0.37223069281752746, -0.10663820913064549, null], \"type\": \"scatter3d\"}], \"traces\": [0, 1, 2, 3]}, {\"data\": [{\"mode\": \"markers\", \"name\": \"Original\", \"x\": [0.600049614906311, -0.7809175252914429, 0.875862717628479, 0.3285384774208069, -1.0524287223815918, -0.5754570960998535, 0.6043525338172913], \"y\": [-0.9589829538426118, -0.6554262286904835, 0.36622073271386224, -0.42821792916234075, -0.12466087296878992, 0.9040792962416409, 0.8969868831163734], \"z\": [-0.12516128118125594, 0.5425390989070871, 0.657655293347547, -0.9280127418948808, -0.26031145952214074, 0.2584840992272125, -0.14519567476811665], \"type\": \"scatter3d\"}, {\"mode\": \"lines\", \"name\": \"Original\", \"x\": [0.600049614906311, -0.7809175252914429, null, 0.600049614906311, 0.875862717628479, null, 0.600049614906311, 0.3285384774208069, null, -0.7809175252914429, -1.0524287223815918, null, 0.875862717628479, 0.6043525338172913, null, 0.3285384774208069, -1.0524287223815918, null, 0.3285384774208069, 0.6043525338172913, null, -1.0524287223815918, -0.5754570960998535, null, -0.5754570960998535, 0.6043525338172913, null], \"y\": [-0.9589829538426118, -0.6554262286904835, null, -0.9589829538426118, 0.36622073271386224, null, -0.9589829538426118, -0.42821792916234075, null, -0.6554262286904835, -0.12466087296878992, null, 0.36622073271386224, 0.8969868831163734, null, -0.42821792916234075, -0.12466087296878992, null, -0.42821792916234075, 0.8969868831163734, null, -0.12466087296878992, 0.9040792962416409, null, 0.9040792962416409, 0.8969868831163734, null], \"z\": [-0.12516128118125594, 0.5425390989070871, null, -0.12516128118125594, 0.657655293347547, null, -0.12516128118125594, -0.9280127418948808, null, 0.5425390989070871, -0.26031145952214074, null, 0.657655293347547, -0.14519567476811665, null, -0.9280127418948808, -0.26031145952214074, null, -0.9280127418948808, -0.14519567476811665, null, -0.26031145952214074, 0.2584840992272125, null, 0.2584840992272125, -0.14519567476811665, null], \"type\": \"scatter3d\"}, {\"mode\": \"markers\", \"name\": \"Reconstructed\", \"x\": [0.600049614906311, -0.7809175252914429, 0.875862717628479, 0.3285384774208069, -1.0524287223815918, -0.5754570960998535, 0.6043525338172913], \"y\": [-0.9906812673792225, -0.7598462385739477, 0.3576227800475922, -0.3927050798467298, -0.1579271930574037, 0.9957302487974514, 0.9478069832954249], \"z\": [-0.18664743136677112, 0.3399925374740226, 0.640977591919815, -0.8591274245730843, -0.32483911809064864, 0.4362621449577374, -0.04661843316051186], \"type\": \"scatter3d\"}, {\"mode\": \"lines\", \"name\": \"Reconstructed\", \"x\": [0.600049614906311, -0.7809175252914429, null, 0.600049614906311, 0.875862717628479, null, 0.600049614906311, 0.3285384774208069, null, -0.7809175252914429, -1.0524287223815918, null, 0.875862717628479, 0.6043525338172913, null, 0.3285384774208069, -1.0524287223815918, null, 0.3285384774208069, 0.6043525338172913, null, -1.0524287223815918, -0.5754570960998535, null, -0.5754570960998535, 0.6043525338172913, null], \"y\": [-0.9906812673792225, -0.7598462385739477, null, -0.9906812673792225, 0.3576227800475922, null, -0.9906812673792225, -0.3927050798467298, null, -0.7598462385739477, -0.1579271930574037, null, 0.3576227800475922, 0.9478069832954249, null, -0.3927050798467298, -0.1579271930574037, null, -0.3927050798467298, 0.9478069832954249, null, -0.1579271930574037, 0.9957302487974514, null, 0.9957302487974514, 0.9478069832954249, null], \"z\": [-0.18664743136677112, 0.3399925374740226, null, -0.18664743136677112, 0.640977591919815, null, -0.18664743136677112, -0.8591274245730843, null, 0.3399925374740226, -0.32483911809064864, null, 0.640977591919815, -0.04661843316051186, null, -0.8591274245730843, -0.32483911809064864, null, -0.8591274245730843, -0.04661843316051186, null, -0.32483911809064864, 0.4362621449577374, null, 0.4362621449577374, -0.04661843316051186, null], \"type\": \"scatter3d\"}], \"traces\": [0, 1, 2, 3]}, {\"data\": [{\"mode\": \"markers\", \"name\": \"Original\", \"x\": [0.600049614906311, -0.7809175252914429, 0.875862717628479, 0.3285384774208069, -1.0524287223815918, -0.5754570960998535, 0.6043525338172913], \"y\": [-0.949113991856826, -0.6885165998629449, 0.32377233540921635, -0.36849758234818797, -0.10789991720579106, 0.8858650173813492, 0.904389837131158], \"z\": [-0.18573174884557353, 0.49987709170506434, 0.6795583748002729, -0.9533036115419256, -0.26769384952753644, 0.315303939756588, -0.08801292489216003], \"type\": \"scatter3d\"}, {\"mode\": \"lines\", \"name\": \"Original\", \"x\": [0.600049614906311, -0.7809175252914429, null, 0.600049614906311, 0.875862717628479, null, 0.600049614906311, 0.3285384774208069, null, -0.7809175252914429, -1.0524287223815918, null, 0.875862717628479, 0.6043525338172913, null, 0.3285384774208069, -1.0524287223815918, null, 0.3285384774208069, 0.6043525338172913, null, -1.0524287223815918, -0.5754570960998535, null, -0.5754570960998535, 0.6043525338172913, null], \"y\": [-0.949113991856826, -0.6885165998629449, null, -0.949113991856826, 0.32377233540921635, null, -0.949113991856826, -0.36849758234818797, null, -0.6885165998629449, -0.10789991720579106, null, 0.32377233540921635, 0.904389837131158, null, -0.36849758234818797, -0.10789991720579106, null, -0.36849758234818797, 0.904389837131158, null, -0.10789991720579106, 0.8858650173813492, null, 0.8858650173813492, 0.904389837131158, null], \"z\": [-0.18573174884557353, 0.49987709170506434, null, -0.18573174884557353, 0.6795583748002729, null, -0.18573174884557353, -0.9533036115419256, null, 0.49987709170506434, -0.26769384952753644, null, 0.6795583748002729, -0.08801292489216003, null, -0.9533036115419256, -0.26769384952753644, null, -0.9533036115419256, -0.08801292489216003, null, -0.26769384952753644, 0.315303939756588, null, 0.315303939756588, -0.08801292489216003, null], \"type\": \"scatter3d\"}, {\"mode\": \"markers\", \"name\": \"Reconstructed\", \"x\": [0.600049614906311, -0.7809175252914429, 0.875862717628479, 0.3285384774208069, -1.0524287223815918, -0.5754570960998535, 0.6043525338172913], \"y\": [-0.9768487937836343, -0.7798800816446605, 0.31624945839875157, -0.3374252087189892, -0.13700666439680131, 0.966056066428891, 0.9488554649551312], \"z\": [-0.24910453880926156, 0.2911155957122854, 0.6623689351221037, -0.8823046185484658, -0.33420147345540396, 0.49853692341620853, 0.013589058786274139], \"type\": \"scatter3d\"}, {\"mode\": \"lines\", \"name\": \"Reconstructed\", \"x\": [0.600049614906311, -0.7809175252914429, null, 0.600049614906311, 0.875862717628479, null, 0.600049614906311, 0.3285384774208069, null, -0.7809175252914429, -1.0524287223815918, null, 0.875862717628479, 0.6043525338172913, null, 0.3285384774208069, -1.0524287223815918, null, 0.3285384774208069, 0.6043525338172913, null, -1.0524287223815918, -0.5754570960998535, null, -0.5754570960998535, 0.6043525338172913, null], \"y\": [-0.9768487937836343, -0.7798800816446605, null, -0.9768487937836343, 0.31624945839875157, null, -0.9768487937836343, -0.3374252087189892, null, -0.7798800816446605, -0.13700666439680131, null, 0.31624945839875157, 0.9488554649551312, null, -0.3374252087189892, -0.13700666439680131, null, -0.3374252087189892, 0.9488554649551312, null, -0.13700666439680131, 0.966056066428891, null, 0.966056066428891, 0.9488554649551312, null], \"z\": [-0.24910453880926156, 0.2911155957122854, null, -0.24910453880926156, 0.6623689351221037, null, -0.24910453880926156, -0.8823046185484658, null, 0.2911155957122854, -0.33420147345540396, null, 0.6623689351221037, 0.013589058786274139, null, -0.8823046185484658, -0.33420147345540396, null, -0.8823046185484658, 0.013589058786274139, null, -0.33420147345540396, 0.49853692341620853, null, 0.49853692341620853, 0.013589058786274139, null], \"type\": \"scatter3d\"}], \"traces\": [0, 1, 2, 3]}, {\"data\": [{\"mode\": \"markers\", \"name\": \"Original\", \"x\": [0.600049614906311, -0.7809175252914429, 0.875862717628479, 0.3285384774208069, -1.0524287223815918, -0.5754570960998535, 0.6043525338172913], \"y\": [-0.9354232828097021, -0.7188345576954017, 0.28002022118330616, -0.30729342582884506, -0.09070448655880804, 0.8640836727566008, 0.9081511324705728], \"z\": [-0.24555434031015302, 0.45520225588325036, 0.6987251145235719, -0.9747558640078603, -0.2739983308817609, 0.3708541626051241, -0.0304757780312766], \"type\": \"scatter3d\"}, {\"mode\": \"lines\", \"name\": \"Original\", \"x\": [0.600049614906311, -0.7809175252914429, null, 0.600049614906311, 0.875862717628479, null, 0.600049614906311, 0.3285384774208069, null, -0.7809175252914429, -1.0524287223815918, null, 0.875862717628479, 0.6043525338172913, null, 0.3285384774208069, -1.0524287223815918, null, 0.3285384774208069, 0.6043525338172913, null, -1.0524287223815918, -0.5754570960998535, null, -0.5754570960998535, 0.6043525338172913, null], \"y\": [-0.9354232828097021, -0.7188345576954017, null, -0.9354232828097021, 0.28002022118330616, null, -0.9354232828097021, -0.30729342582884506, null, -0.7188345576954017, -0.09070448655880804, null, 0.28002022118330616, 0.9081511324705728, null, -0.30729342582884506, -0.09070448655880804, null, -0.30729342582884506, 0.9081511324705728, null, -0.09070448655880804, 0.8640836727566008, null, 0.8640836727566008, 0.9081511324705728, null], \"z\": [-0.24555434031015302, 0.45520225588325036, null, -0.24555434031015302, 0.6987251145235719, null, -0.24555434031015302, -0.9747558640078603, null, 0.45520225588325036, -0.2739983308817609, null, 0.6987251145235719, -0.0304757780312766, null, -0.9747558640078603, -0.2739983308817609, null, -0.9747558640078603, -0.0304757780312766, null, -0.2739983308817609, 0.3708541626051241, null, 0.3708541626051241, -0.0304757780312766, null], \"type\": \"scatter3d\"}, {\"mode\": \"markers\", \"name\": \"Reconstructed\", \"x\": [0.600049614906311, -0.7809175252914429, 0.875862717628479, 0.3285384774208069, -1.0524287223815918, -0.5754570960998535, 0.6043525338172913], \"y\": [-0.9590828948681742, -0.7967736228804054, 0.2736027117992152, -0.28078664536786246, -0.11553445825432165, 0.9324919172442906, 0.9460832405500871], \"z\": [-0.31055859019386145, 0.2410664341940508, 0.6810931524016439, -0.9019290832288697, -0.3422181174408819, 0.5588042696395829, 0.07374183238950094], \"type\": \"scatter3d\"}, {\"mode\": \"lines\", \"name\": \"Reconstructed\", \"x\": [0.600049614906311, -0.7809175252914429, null, 0.600049614906311, 0.875862717628479, null, 0.600049614906311, 0.3285384774208069, null, -0.7809175252914429, -1.0524287223815918, null, 0.875862717628479, 0.6043525338172913, null, 0.3285384774208069, -1.0524287223815918, null, 0.3285384774208069, 0.6043525338172913, null, -1.0524287223815918, -0.5754570960998535, null, -0.5754570960998535, 0.6043525338172913, null], \"y\": [-0.9590828948681742, -0.7967736228804054, null, -0.9590828948681742, 0.2736027117992152, null, -0.9590828948681742, -0.28078664536786246, null, -0.7967736228804054, -0.11553445825432165, null, 0.2736027117992152, 0.9460832405500871, null, -0.28078664536786246, -0.11553445825432165, null, -0.28078664536786246, 0.9460832405500871, null, -0.11553445825432165, 0.9324919172442906, null, 0.9324919172442906, 0.9460832405500871, null], \"z\": [-0.31055859019386145, 0.2410664341940508, null, -0.31055859019386145, 0.6810931524016439, null, -0.31055859019386145, -0.9019290832288697, null, 0.2410664341940508, -0.3422181174408819, null, 0.6810931524016439, 0.07374183238950094, null, -0.9019290832288697, -0.3422181174408819, null, -0.9019290832288697, 0.07374183238950094, null, -0.3422181174408819, 0.5588042696395829, null, 0.5588042696395829, 0.07374183238950094, null], \"type\": \"scatter3d\"}], \"traces\": [0, 1, 2, 3]}, {\"data\": [{\"mode\": \"markers\", \"name\": \"Original\", \"x\": [0.600049614906311, -0.7809175252914429, 0.875862717628479, 0.3285384774208069, -1.0524287223815918, -0.5754570960998535, 0.6043525338172913], \"y\": [-0.9179659543545223, -0.7462580224721973, 0.23514056435808267, -0.24485190714098873, -0.07314382095803591, 0.8388229681546093, 0.9082556237258119], \"z\": [-0.30438817111317823, 0.4086944812377939, 0.7150783348213597, -0.9922831186434438, -0.279199517663528, 0.4249110866315156, 0.02718408403150325], \"type\": \"scatter3d\"}, {\"mode\": \"lines\", \"name\": \"Original\", \"x\": [0.600049614906311, -0.7809175252914429, null, 0.600049614906311, 0.875862717628479, null, 0.600049614906311, 0.3285384774208069, null, -0.7809175252914429, -1.0524287223815918, null, 0.875862717628479, 0.6043525338172913, null, 0.3285384774208069, -1.0524287223815918, null, 0.3285384774208069, 0.6043525338172913, null, -1.0524287223815918, -0.5754570960998535, null, -0.5754570960998535, 0.6043525338172913, null], \"y\": [-0.9179659543545223, -0.7462580224721973, null, -0.9179659543545223, 0.23514056435808267, null, -0.9179659543545223, -0.24485190714098873, null, -0.7462580224721973, -0.07314382095803591, null, 0.23514056435808267, 0.9082556237258119, null, -0.24485190714098873, -0.07314382095803591, null, -0.24485190714098873, 0.9082556237258119, null, -0.07314382095803591, 0.8388229681546093, null, 0.8388229681546093, 0.9082556237258119, null], \"z\": [-0.30438817111317823, 0.4086944812377939, null, -0.30438817111317823, 0.7150783348213597, null, -0.30438817111317823, -0.9922831186434438, null, 0.4086944812377939, -0.279199517663528, null, 0.7150783348213597, 0.02718408403150325, null, -0.9922831186434438, -0.279199517663528, null, -0.9922831186434438, 0.02718408403150325, null, -0.279199517663528, 0.4249110866315156, null, 0.4249110866315156, 0.02718408403150325, null], \"type\": \"scatter3d\"}, {\"mode\": \"markers\", \"name\": \"Reconstructed\", \"x\": [0.600049614906311, -0.7809175252914429, 0.875862717628479, 0.3285384774208069, -1.0524287223815918, -0.5754570960998535, 0.6043525338172913], \"y\": [-0.9374551076374115, -0.8104588379530965, 0.22985426364563538, -0.22301745329773578, -0.09359703562561882, 0.8951729522261588, 0.939501472849532], \"z\": [-0.3707621317454703, 0.19004658322821216, 0.6970748479440468, -0.9179217978213609, -0.34885676985117753, 0.6168215082956039, 0.1335976736604159], \"type\": \"scatter3d\"}, {\"mode\": \"lines\", \"name\": \"Reconstructed\", \"x\": [0.600049614906311, -0.7809175252914429, null, 0.600049614906311, 0.875862717628479, null, 0.600049614906311, 0.3285384774208069, null, -0.7809175252914429, -1.0524287223815918, null, 0.875862717628479, 0.6043525338172913, null, 0.3285384774208069, -1.0524287223815918, null, 0.3285384774208069, 0.6043525338172913, null, -1.0524287223815918, -0.5754570960998535, null, -0.5754570960998535, 0.6043525338172913, null], \"y\": [-0.9374551076374115, -0.8104588379530965, null, -0.9374551076374115, 0.22985426364563538, null, -0.9374551076374115, -0.22301745329773578, null, -0.8104588379530965, -0.09359703562561882, null, 0.22985426364563538, 0.939501472849532, null, -0.22301745329773578, -0.09359703562561882, null, -0.22301745329773578, 0.939501472849532, null, -0.09359703562561882, 0.8951729522261588, null, 0.8951729522261588, 0.939501472849532, null], \"z\": [-0.3707621317454703, 0.19004658322821216, null, -0.3707621317454703, 0.6970748479440468, null, -0.3707621317454703, -0.9179217978213609, null, 0.19004658322821216, -0.34885676985117753, null, 0.6970748479440468, 0.1335976736604159, null, -0.9179217978213609, -0.34885676985117753, null, -0.9179217978213609, 0.1335976736604159, null, -0.34885676985117753, 0.6168215082956039, null, 0.6168215082956039, 0.1335976736604159, null], \"type\": \"scatter3d\"}], \"traces\": [0, 1, 2, 3]}, {\"data\": [{\"mode\": \"markers\", \"name\": \"Original\", \"x\": [0.600049614906311, -0.7809175252914429, 0.875862717628479, 0.3285384774208069, -1.0524287223815918, -0.5754570960998535, 0.6043525338172913], \"y\": [-0.8968123009915205, -0.7706765695796162, 0.18931407947158646, -0.18142445624203096, -0.05528863100592172, 0.8101846195171993, 0.9047028901474702], \"z\": [-0.3619963381830386, 0.36054103816256367, 0.7285521870472644, -1.0058147993803936, -0.2832764665293941, 0.47725704368176197, 0.08473448538234096], \"type\": \"scatter3d\"}, {\"mode\": \"lines\", \"name\": \"Original\", \"x\": [0.600049614906311, -0.7809175252914429, null, 0.600049614906311, 0.875862717628479, null, 0.600049614906311, 0.3285384774208069, null, -0.7809175252914429, -1.0524287223815918, null, 0.875862717628479, 0.6043525338172913, null, 0.3285384774208069, -1.0524287223815918, null, 0.3285384774208069, 0.6043525338172913, null, -1.0524287223815918, -0.5754570960998535, null, -0.5754570960998535, 0.6043525338172913, null], \"y\": [-0.8968123009915205, -0.7706765695796162, null, -0.8968123009915205, 0.18931407947158646, null, -0.8968123009915205, -0.18142445624203096, null, -0.7706765695796162, -0.05528863100592172, null, 0.18931407947158646, 0.9047028901474702, null, -0.18142445624203096, -0.05528863100592172, null, -0.18142445624203096, 0.9047028901474702, null, -0.05528863100592172, 0.8101846195171993, null, 0.8101846195171993, 0.9047028901474702, null], \"z\": [-0.3619963381830386, 0.36054103816256367, null, -0.3619963381830386, 0.7285521870472644, null, -0.3619963381830386, -1.0058147993803936, null, 0.36054103816256367, -0.2832764665293941, null, 0.7285521870472644, 0.08473448538234096, null, -1.0058147993803936, -0.2832764665293941, null, -1.0058147993803936, 0.08473448538234096, null, -0.2832764665293941, 0.47725704368176197, null, 0.47725704368176197, 0.08473448538234096, null], \"type\": \"scatter3d\"}, {\"mode\": \"markers\", \"name\": \"Reconstructed\", \"x\": [0.600049614906311, -0.7809175252914429, 0.875862717628479, 0.3285384774208069, -1.0524287223815918, -0.5754570960998535, 0.6043525338172913], \"y\": [-0.9120525195571317, -0.820880621331747, 0.18518027349798494, -0.1643502486558, -0.07128273076894226, 0.8542494416751281, 0.9291366643090028], \"z\": [-0.4294727450507239, 0.13826148174747116, 0.710249669102003, -0.9302183653088042, -0.35409069917610564, 0.672355024441026, 0.19291556425196643], \"type\": \"scatter3d\"}, {\"mode\": \"lines\", \"name\": \"Reconstructed\", \"x\": [0.600049614906311, -0.7809175252914429, null, 0.600049614906311, 0.875862717628479, null, 0.600049614906311, 0.3285384774208069, null, -0.7809175252914429, -1.0524287223815918, null, 0.875862717628479, 0.6043525338172913, null, 0.3285384774208069, -1.0524287223815918, null, 0.3285384774208069, 0.6043525338172913, null, -1.0524287223815918, -0.5754570960998535, null, -0.5754570960998535, 0.6043525338172913, null], \"y\": [-0.9120525195571317, -0.820880621331747, null, -0.9120525195571317, 0.18518027349798494, null, -0.9120525195571317, -0.1643502486558, null, -0.820880621331747, -0.07128273076894226, null, 0.18518027349798494, 0.9291366643090028, null, -0.1643502486558, -0.07128273076894226, null, -0.1643502486558, 0.9291366643090028, null, -0.07128273076894226, 0.8542494416751281, null, 0.8542494416751281, 0.9291366643090028, null], \"z\": [-0.4294727450507239, 0.13826148174747116, null, -0.4294727450507239, 0.710249669102003, null, -0.4294727450507239, -0.9302183653088042, null, 0.13826148174747116, -0.35409069917610564, null, 0.710249669102003, 0.19291556425196643, null, -0.9302183653088042, -0.35409069917610564, null, -0.9302183653088042, 0.19291556425196643, null, -0.35409069917610564, 0.672355024441026, null, 0.672355024441026, 0.19291556425196643, null], \"type\": \"scatter3d\"}], \"traces\": [0, 1, 2, 3]}, {\"data\": [{\"mode\": \"markers\", \"name\": \"Original\", \"x\": [0.600049614906311, -0.7809175252914429, 0.875862717628479, 0.3285384774208069, -1.0524287223815918, -0.5754570960998535, 0.6043525338172913], \"y\": [-0.872047501016739, -0.7919918741468308, 0.14272529360428254, -0.11726647309041748, -0.03721081325052437, 0.7782839433666062, 0.897507237339752], \"z\": [-0.41814687376338805, 0.31093582357736527, 0.7390924167538845, -1.0152964189163047, -0.28621276104521004, 0.5276812550620018, 0.14194369086705294], \"type\": \"scatter3d\"}, {\"mode\": \"lines\", \"name\": \"Original\", \"x\": [0.600049614906311, -0.7809175252914429, null, 0.600049614906311, 0.875862717628479, null, 0.600049614906311, 0.3285384774208069, null, -0.7809175252914429, -1.0524287223815918, null, 0.875862717628479, 0.6043525338172913, null, 0.3285384774208069, -1.0524287223815918, null, 0.3285384774208069, 0.6043525338172913, null, -1.0524287223815918, -0.5754570960998535, null, -0.5754570960998535, 0.6043525338172913, null], \"y\": [-0.872047501016739, -0.7919918741468308, null, -0.872047501016739, 0.14272529360428254, null, -0.872047501016739, -0.11726647309041748, null, -0.7919918741468308, -0.03721081325052437, null, 0.14272529360428254, 0.897507237339752, null, -0.11726647309041748, -0.03721081325052437, null, -0.11726647309041748, 0.897507237339752, null, -0.03721081325052437, 0.7782839433666062, null, 0.7782839433666062, 0.897507237339752, null], \"z\": [-0.41814687376338805, 0.31093582357736527, null, -0.41814687376338805, 0.7390924167538845, null, -0.41814687376338805, -1.0152964189163047, null, 0.31093582357736527, -0.28621276104521004, null, 0.7390924167538845, 0.14194369086705294, null, -1.0152964189163047, -0.28621276104521004, null, -1.0152964189163047, 0.14194369086705294, null, -0.28621276104521004, 0.5276812550620018, null, 0.5276812550620018, 0.14194369086705294, null], \"type\": \"scatter3d\"}, {\"mode\": \"markers\", \"name\": \"Reconstructed\", \"x\": [0.600049614906311, -0.7809175252914429, 0.875862717628479, 0.3285384774208069, -1.0524287223815918, -0.5754570960998535, 0.6043525338172913], \"y\": [-0.8829774178838486, -0.8279970081729948, 0.13976062774718143, -0.10502126356892307, -0.048681395514254676, 0.8098861701244885, 0.9150305503542969], \"z\": [-0.48645402319138775, 0.08591965007826122, 0.7205645655206805, -0.9387692717539246, -0.3578988302295574, 0.7251812042065406, 0.25145665195462097], \"type\": \"scatter3d\"}, {\"mode\": \"lines\", \"name\": \"Reconstructed\", \"x\": [0.600049614906311, -0.7809175252914429, null, 0.600049614906311, 0.875862717628479, null, 0.600049614906311, 0.3285384774208069, null, -0.7809175252914429, -1.0524287223815918, null, 0.875862717628479, 0.6043525338172913, null, 0.3285384774208069, -1.0524287223815918, null, 0.3285384774208069, 0.6043525338172913, null, -1.0524287223815918, -0.5754570960998535, null, -0.5754570960998535, 0.6043525338172913, null], \"y\": [-0.8829774178838486, -0.8279970081729948, null, -0.8829774178838486, 0.13976062774718143, null, -0.8829774178838486, -0.10502126356892307, null, -0.8279970081729948, -0.048681395514254676, null, 0.13976062774718143, 0.9150305503542969, null, -0.10502126356892307, -0.048681395514254676, null, -0.10502126356892307, 0.9150305503542969, null, -0.048681395514254676, 0.8098861701244885, null, 0.8098861701244885, 0.9150305503542969, null], \"z\": [-0.48645402319138775, 0.08591965007826122, null, -0.48645402319138775, 0.7205645655206805, null, -0.48645402319138775, -0.9387692717539246, null, 0.08591965007826122, -0.3578988302295574, null, 0.7205645655206805, 0.25145665195462097, null, -0.9387692717539246, -0.3578988302295574, null, -0.9387692717539246, 0.25145665195462097, null, -0.3578988302295574, 0.7251812042065406, null, 0.7251812042065406, 0.25145665195462097, null], \"type\": \"scatter3d\"}], \"traces\": [0, 1, 2, 3]}, {\"data\": [{\"mode\": \"markers\", \"name\": \"Original\", \"x\": [0.600049614906311, -0.7809175252914429, 0.875862717628479, 0.3285384774208069, -1.0524287223815918, -0.5754570960998535, 0.6043525338172913], \"y\": [-0.8437712735390948, -0.8101181069654532, 0.09556180335363722, -0.0526362992401398, -0.018983160683491807, 0.743249392466544, 0.8866976396568536], \"z\": [-0.472613679465426, 0.26007858017348223, 0.7466565821562997, -1.0206897981157843, -0.2879965777893075, 0.5759806802699179, 0.19858133920678453], \"type\": \"scatter3d\"}, {\"mode\": \"lines\", \"name\": \"Original\", \"x\": [0.600049614906311, -0.7809175252914429, null, 0.600049614906311, 0.875862717628479, null, 0.600049614906311, 0.3285384774208069, null, -0.7809175252914429, -1.0524287223815918, null, 0.875862717628479, 0.6043525338172913, null, 0.3285384774208069, -1.0524287223815918, null, 0.3285384774208069, 0.6043525338172913, null, -1.0524287223815918, -0.5754570960998535, null, -0.5754570960998535, 0.6043525338172913, null], \"y\": [-0.8437712735390948, -0.8101181069654532, null, -0.8437712735390948, 0.09556180335363722, null, -0.8437712735390948, -0.0526362992401398, null, -0.8101181069654532, -0.018983160683491807, null, 0.09556180335363722, 0.8866976396568536, null, -0.0526362992401398, -0.018983160683491807, null, -0.0526362992401398, 0.8866976396568536, null, -0.018983160683491807, 0.743249392466544, null, 0.743249392466544, 0.8866976396568536, null], \"z\": [-0.472613679465426, 0.26007858017348223, null, -0.472613679465426, 0.7466565821562997, null, -0.472613679465426, -1.0206897981157843, null, 0.26007858017348223, -0.2879965777893075, null, 0.7466565821562997, 0.19858133920678453, null, -1.0206897981157843, -0.2879965777893075, null, -1.0206897981157843, 0.19858133920678453, null, -0.2879965777893075, 0.5759806802699179, null, 0.5759806802699179, 0.19858133920678453, null], \"type\": \"scatter3d\"}, {\"mode\": \"markers\", \"name\": \"Reconstructed\", \"x\": [0.600049614906311, -0.7809175252914429, 0.875862717628479, 0.3285384774208069, -1.0524287223815918, -0.5754570960998535, 0.6043525338172913], \"y\": [-0.8503468777901252, -0.8317793432987145, 0.09377821527608271, -0.04526939492025463, -0.025884037461626378, 0.7622617728110349, 0.8972399313276455], \"z\": [-0.5414765226715762, 0.033231850302991195, 0.7279780027527796, -0.9435400856744567, -0.3602658290118367, 0.7750873352109029, 0.3089852124699127], \"type\": \"scatter3d\"}, {\"mode\": \"lines\", \"name\": \"Reconstructed\", \"x\": [0.600049614906311, -0.7809175252914429, null, 0.600049614906311, 0.875862717628479, null, 0.600049614906311, 0.3285384774208069, null, -0.7809175252914429, -1.0524287223815918, null, 0.875862717628479, 0.6043525338172913, null, 0.3285384774208069, -1.0524287223815918, null, 0.3285384774208069, 0.6043525338172913, null, -1.0524287223815918, -0.5754570960998535, null, -0.5754570960998535, 0.6043525338172913, null], \"y\": [-0.8503468777901252, -0.8317793432987145, null, -0.8503468777901252, 0.09377821527608271, null, -0.8503468777901252, -0.04526939492025463, null, -0.8317793432987145, -0.025884037461626378, null, 0.09377821527608271, 0.8972399313276455, null, -0.04526939492025463, -0.025884037461626378, null, -0.04526939492025463, 0.8972399313276455, null, -0.025884037461626378, 0.7622617728110349, null, 0.7622617728110349, 0.8972399313276455, null], \"z\": [-0.5414765226715762, 0.033231850302991195, null, -0.5414765226715762, 0.7279780027527796, null, -0.5414765226715762, -0.9435400856744567, null, 0.033231850302991195, -0.3602658290118367, null, 0.7279780027527796, 0.3089852124699127, null, -0.9435400856744567, -0.3602658290118367, null, -0.9435400856744567, 0.3089852124699127, null, -0.3602658290118367, 0.7750873352109029, null, 0.7750873352109029, 0.3089852124699127, null], \"type\": \"scatter3d\"}], \"traces\": [0, 1, 2, 3]}, {\"data\": [{\"mode\": \"markers\", \"name\": \"Original\", \"x\": [0.600049614906311, -0.7809175252914429, 0.875862717628479, 0.3285384774208069, -1.0524287223815918, -0.5754570960998535, 0.6043525338172913], \"y\": [-0.8120974769467221, -0.8249822800934635, 0.04801351944883015, 0.01220582240952362, -0.0006790696283752324, 0.7052220385882609, 0.8723176235334639], \"z\": [-0.5251774366863095, 0.2081740921203552, 0.7512142250301594, -1.0219732197443558, -0.28862073396124494, 0.6219608345671788, 0.25441937058157627], \"type\": \"scatter3d\"}, {\"mode\": \"lines\", \"name\": \"Original\", \"x\": [0.600049614906311, -0.7809175252914429, null, 0.600049614906311, 0.875862717628479, null, 0.600049614906311, 0.3285384774208069, null, -0.7809175252914429, -1.0524287223815918, null, 0.875862717628479, 0.6043525338172913, null, 0.3285384774208069, -1.0524287223815918, null, 0.3285384774208069, 0.6043525338172913, null, -1.0524287223815918, -0.5754570960998535, null, -0.5754570960998535, 0.6043525338172913, null], \"y\": [-0.8120974769467221, -0.8249822800934635, null, -0.8120974769467221, 0.04801351944883015, null, -0.8120974769467221, 0.01220582240952362, null, -0.8249822800934635, -0.0006790696283752324, null, 0.04801351944883015, 0.8723176235334639, null, 0.01220582240952362, -0.0006790696283752324, null, 0.01220582240952362, 0.8723176235334639, null, -0.0006790696283752324, 0.7052220385882609, null, 0.7052220385882609, 0.8723176235334639, null], \"z\": [-0.5251774366863095, 0.2081740921203552, null, -0.5251774366863095, 0.7512142250301594, null, -0.5251774366863095, -1.0219732197443558, null, 0.2081740921203552, -0.28862073396124494, null, 0.7512142250301594, 0.25441937058157627, null, -1.0219732197443558, -0.28862073396124494, null, -1.0219732197443558, 0.25441937058157627, null, -0.28862073396124494, 0.6219608345671788, null, 0.6219608345671788, 0.25441937058157627, null], \"type\": \"scatter3d\"}, {\"mode\": \"markers\", \"name\": \"Reconstructed\", \"x\": [0.600049614906311, -0.7809175252914429, 0.875862717628479, 0.3285384774208069, -1.0524287223815918, -0.5754570960998535, 0.6043525338172913], \"y\": [-0.8142922909441728, -0.8322123965803067, 0.047418191030504264, 0.014664757604206395, -0.002982453525750007, 0.7115680163740147, 0.8758364437727805], \"z\": [-0.5943186873057305, -0.019589762404474107, 0.7324601295030931, -0.9445115966865716, -0.36118216445426476, 0.8218724630786156, 0.36526959858899305], \"type\": \"scatter3d\"}, {\"mode\": \"lines\", \"name\": \"Reconstructed\", \"x\": [0.600049614906311, -0.7809175252914429, null, 0.600049614906311, 0.875862717628479, null, 0.600049614906311, 0.3285384774208069, null, -0.7809175252914429, -1.0524287223815918, null, 0.875862717628479, 0.6043525338172913, null, 0.3285384774208069, -1.0524287223815918, null, 0.3285384774208069, 0.6043525338172913, null, -1.0524287223815918, -0.5754570960998535, null, -0.5754570960998535, 0.6043525338172913, null], \"y\": [-0.8142922909441728, -0.8322123965803067, null, -0.8142922909441728, 0.047418191030504264, null, -0.8142922909441728, 0.014664757604206395, null, -0.8322123965803067, -0.002982453525750007, null, 0.047418191030504264, 0.8758364437727805, null, 0.014664757604206395, -0.002982453525750007, null, 0.014664757604206395, 0.8758364437727805, null, -0.002982453525750007, 0.7115680163740147, null, 0.7115680163740147, 0.8758364437727805, null], \"z\": [-0.5943186873057305, -0.019589762404474107, null, -0.5943186873057305, 0.7324601295030931, null, -0.5943186873057305, -0.9445115966865716, null, -0.019589762404474107, -0.36118216445426476, null, 0.7324601295030931, 0.36526959858899305, null, -0.9445115966865716, -0.36118216445426476, null, -0.9445115966865716, 0.36526959858899305, null, -0.36118216445426476, 0.8218724630786156, null, 0.8218724630786156, 0.36526959858899305, null], \"type\": \"scatter3d\"}], \"traces\": [0, 1, 2, 3]}, {\"data\": [{\"mode\": \"markers\", \"name\": \"Original\", \"x\": [0.600049614906311, -0.7809175252914429, 0.875862717628479, 0.3285384774208069, -1.0524287223815918, -0.5754570960998535, 0.6043525338172913], \"y\": [-0.7771536504394287, -0.8365245407518925, 0.00027190204727481695, 0.0769987955203133, 0.017627755800461543, 0.6643550044643068, 0.8544250922191744], \"z\": [-0.5756264897277612, 0.15543136047200778, 0.7527469933562027, -1.0191415159160964, -0.28808271630441, 0.6654365721008388, 0.3092329449467679], \"type\": \"scatter3d\"}, {\"mode\": \"lines\", \"name\": \"Original\", \"x\": [0.600049614906311, -0.7809175252914429, null, 0.600049614906311, 0.875862717628479, null, 0.600049614906311, 0.3285384774208069, null, -0.7809175252914429, -1.0524287223815918, null, 0.875862717628479, 0.6043525338172913, null, 0.3285384774208069, -1.0524287223815918, null, 0.3285384774208069, 0.6043525338172913, null, -1.0524287223815918, -0.5754570960998535, null, -0.5754570960998535, 0.6043525338172913, null], \"y\": [-0.7771536504394287, -0.8365245407518925, null, -0.7771536504394287, 0.00027190204727481695, null, -0.7771536504394287, 0.0769987955203133, null, -0.8365245407518925, 0.017627755800461543, null, 0.00027190204727481695, 0.8544250922191744, null, 0.0769987955203133, 0.017627755800461543, null, 0.0769987955203133, 0.8544250922191744, null, 0.017627755800461543, 0.6643550044643068, null, 0.6643550044643068, 0.8544250922191744, null], \"z\": [-0.5756264897277612, 0.15543136047200778, null, -0.5756264897277612, 0.7527469933562027, null, -0.5756264897277612, -1.0191415159160964, null, 0.15543136047200778, -0.28808271630441, null, 0.7527469933562027, 0.3092329449467679, null, -1.0191415159160964, -0.28808271630441, null, -1.0191415159160964, 0.3092329449467679, null, -0.28808271630441, 0.6654365721008388, null, 0.6654365721008388, 0.3092329449467679, null], \"type\": \"scatter3d\"}, {\"mode\": \"markers\", \"name\": \"Reconstructed\", \"x\": [0.600049614906311, -0.7809175252914429, 0.875862717628479, 0.3285384774208069, -1.0524287223815918, -0.5754570960998535, 0.6043525338172913], \"y\": [-0.774958836441978, -0.8292944242650494, 0.0008672304656007038, 0.07453986032563052, 0.01993113969783633, 0.6580090266785532, 0.8509062719798577], \"z\": [-0.6447677403471823, -0.07233249405282152, 0.7339928978291362, -0.9416798928583123, -0.3606441467974299, 0.8653482006122758, 0.4200831729541847], \"type\": \"scatter3d\"}, {\"mode\": \"lines\", \"name\": \"Reconstructed\", \"x\": [0.600049614906311, -0.7809175252914429, null, 0.600049614906311, 0.875862717628479, null, 0.600049614906311, 0.3285384774208069, null, -0.7809175252914429, -1.0524287223815918, null, 0.875862717628479, 0.6043525338172913, null, 0.3285384774208069, -1.0524287223815918, null, 0.3285384774208069, 0.6043525338172913, null, -1.0524287223815918, -0.5754570960998535, null, -0.5754570960998535, 0.6043525338172913, null], \"y\": [-0.774958836441978, -0.8292944242650494, null, -0.774958836441978, 0.0008672304656007038, null, -0.774958836441978, 0.07453986032563052, null, -0.8292944242650494, 0.01993113969783633, null, 0.0008672304656007038, 0.8509062719798577, null, 0.07453986032563052, 0.01993113969783633, null, 0.07453986032563052, 0.8509062719798577, null, 0.01993113969783633, 0.6580090266785532, null, 0.6580090266785532, 0.8509062719798577, null], \"z\": [-0.6447677403471823, -0.07233249405282152, null, -0.6447677403471823, 0.7339928978291362, null, -0.6447677403471823, -0.9416798928583123, null, -0.07233249405282152, -0.3606441467974299, null, 0.7339928978291362, 0.4200831729541847, null, -0.9416798928583123, -0.3606441467974299, null, -0.9416798928583123, 0.4200831729541847, null, -0.3606441467974299, 0.8653482006122758, null, 0.8653482006122758, 0.4200831729541847, null], \"type\": \"scatter3d\"}], \"traces\": [0, 1, 2, 3]}, {\"data\": [{\"mode\": \"markers\", \"name\": \"Original\", \"x\": [0.600049614906311, -0.7809175252914429, 0.875862717628479, 0.3285384774208069, -1.0524287223815918, -0.5754570960998535, 0.6043525338172913], \"y\": [-0.7390805004733546, -0.8446984123308378, -0.04747081020785842, 0.14148172165778733, 0.0358636004782963, 0.6208128472173343, 0.8330920926225306], \"z\": [-0.6237576980588617, 0.10206276159357013, 0.7512487152173611, -1.0122060889028905, -0.2863846912260169, 0.7062328314203403, 0.36280134738449954], \"type\": \"scatter3d\"}, {\"mode\": \"lines\", \"name\": \"Original\", \"x\": [0.600049614906311, -0.7809175252914429, null, 0.600049614906311, 0.875862717628479, null, 0.600049614906311, 0.3285384774208069, null, -0.7809175252914429, -1.0524287223815918, null, 0.875862717628479, 0.6043525338172913, null, 0.3285384774208069, -1.0524287223815918, null, 0.3285384774208069, 0.6043525338172913, null, -1.0524287223815918, -0.5754570960998535, null, -0.5754570960998535, 0.6043525338172913, null], \"y\": [-0.7390805004733546, -0.8446984123308378, null, -0.7390805004733546, -0.04747081020785842, null, -0.7390805004733546, 0.14148172165778733, null, -0.8446984123308378, 0.0358636004782963, null, -0.04747081020785842, 0.8330920926225306, null, 0.14148172165778733, 0.0358636004782963, null, 0.14148172165778733, 0.8330920926225306, null, 0.0358636004782963, 0.6208128472173343, null, 0.6208128472173343, 0.8330920926225306, null], \"z\": [-0.6237576980588617, 0.10206276159357013, null, -0.6237576980588617, 0.7512487152173611, null, -0.6237576980588617, -1.0122060889028905, null, 0.10206276159357013, -0.2863846912260169, null, 0.7512487152173611, 0.36280134738449954, null, -1.0122060889028905, -0.2863846912260169, null, -1.0122060889028905, 0.36280134738449954, null, -0.2863846912260169, 0.7062328314203403, null, 0.7062328314203403, 0.36280134738449954, null], \"type\": \"scatter3d\"}, {\"mode\": \"markers\", \"name\": \"Reconstructed\", \"x\": [0.600049614906311, -0.7809175252914429, 0.875862717628479, 0.3285384774208069, -1.0524287223815918, -0.5754570960998535, 0.6043525338172913], \"y\": [-0.7325048962223242, -0.8230371759975764, -0.04568722213030391, 0.13411481733790215, 0.042764477256430886, 0.6018004668728433, 0.8225498009517387], \"z\": [-0.6926205412650119, -0.12478396827692091, 0.7325701358138411, -0.935056376461563, -0.3586539424485461, 0.9053394863613252, 0.47320522064762766], \"type\": \"scatter3d\"}, {\"mode\": \"lines\", \"name\": \"Reconstructed\", \"x\": [0.600049614906311, -0.7809175252914429, null, 0.600049614906311, 0.875862717628479, null, 0.600049614906311, 0.3285384774208069, null, -0.7809175252914429, -1.0524287223815918, null, 0.875862717628479, 0.6043525338172913, null, 0.3285384774208069, -1.0524287223815918, null, 0.3285384774208069, 0.6043525338172913, null, -1.0524287223815918, -0.5754570960998535, null, -0.5754570960998535, 0.6043525338172913, null], \"y\": [-0.7325048962223242, -0.8230371759975764, null, -0.7325048962223242, -0.04568722213030391, null, -0.7325048962223242, 0.13411481733790215, null, -0.8230371759975764, 0.042764477256430886, null, -0.04568722213030391, 0.8225498009517387, null, 0.13411481733790215, 0.042764477256430886, null, 0.13411481733790215, 0.8225498009517387, null, 0.042764477256430886, 0.6018004668728433, null, 0.6018004668728433, 0.8225498009517387, null], \"z\": [-0.6926205412650119, -0.12478396827692091, null, -0.6926205412650119, 0.7325701358138411, null, -0.6926205412650119, -0.935056376461563, null, -0.12478396827692091, -0.3586539424485461, null, 0.7325701358138411, 0.47320522064762766, null, -0.935056376461563, -0.3586539424485461, null, -0.935056376461563, 0.47320522064762766, null, -0.3586539424485461, 0.9053394863613252, null, 0.9053394863613252, 0.47320522064762766, null], \"type\": \"scatter3d\"}], \"traces\": [0, 1, 2, 3]}, {\"data\": [{\"mode\": \"markers\", \"name\": \"Original\", \"x\": [0.600049614906311, -0.7809175252914429, 0.875862717628479, 0.3285384774208069, -1.0524287223815918, -0.5754570960998535, 0.6043525338172913], \"y\": [-0.698031334185731, -0.849470981534368, -0.09502237426481162, 0.20539495083723794, 0.0539550350948394, 0.5747708957466434, 0.8084045252035587], \"z\": [-0.6693772542912723, 0.04828319199661047, 0.7467254236508921, -1.0011948652215046, -0.28353349607374884, 0.7441853403881894, 0.41490887684478905], \"type\": \"scatter3d\"}, {\"mode\": \"lines\", \"name\": \"Original\", \"x\": [0.600049614906311, -0.7809175252914429, null, 0.600049614906311, 0.875862717628479, null, 0.600049614906311, 0.3285384774208069, null, -0.7809175252914429, -1.0524287223815918, null, 0.875862717628479, 0.6043525338172913, null, 0.3285384774208069, -1.0524287223815918, null, 0.3285384774208069, 0.6043525338172913, null, -1.0524287223815918, -0.5754570960998535, null, -0.5754570960998535, 0.6043525338172913, null], \"y\": [-0.698031334185731, -0.849470981534368, null, -0.698031334185731, -0.09502237426481162, null, -0.698031334185731, 0.20539495083723794, null, -0.849470981534368, 0.0539550350948394, null, -0.09502237426481162, 0.8084045252035587, null, 0.20539495083723794, 0.0539550350948394, null, 0.20539495083723794, 0.8084045252035587, null, 0.0539550350948394, 0.5747708957466434, null, 0.5747708957466434, 0.8084045252035587, null], \"z\": [-0.6693772542912723, 0.04828319199661047, null, -0.6693772542912723, 0.7467254236508921, null, -0.6693772542912723, -1.0011948652215046, null, 0.04828319199661047, -0.28353349607374884, null, 0.7467254236508921, 0.41490887684478905, null, -1.0011948652215046, -0.28353349607374884, null, -1.0011948652215046, 0.41490887684478905, null, -0.28353349607374884, 0.7441853403881894, null, 0.7441853403881894, 0.41490887684478905, null], \"type\": \"scatter3d\"}, {\"mode\": \"markers\", \"name\": \"Reconstructed\", \"x\": [0.600049614906311, -0.7809175252914429, 0.875862717628479, 0.3285384774208069, -1.0524287223815918, -0.5754570960998535, 0.6043525338172913], \"y\": [-0.6871014173186214, -0.8134658475082039, -0.0920577084077105, 0.19314974131574353, 0.06542561735856972, 0.543168668988761, 0.7908812121890136], \"z\": [-0.7376844037192719, -0.17673298150249359, 0.7281975724176882, -0.9246677180591245, -0.35521956525809617, 0.9416852895327282, 0.5244218379323571], \"type\": \"scatter3d\"}, {\"mode\": \"lines\", \"name\": \"Reconstructed\", \"x\": [0.600049614906311, -0.7809175252914429, null, 0.600049614906311, 0.875862717628479, null, 0.600049614906311, 0.3285384774208069, null, -0.7809175252914429, -1.0524287223815918, null, 0.875862717628479, 0.6043525338172913, null, 0.3285384774208069, -1.0524287223815918, null, 0.3285384774208069, 0.6043525338172913, null, -1.0524287223815918, -0.5754570960998535, null, -0.5754570960998535, 0.6043525338172913, null], \"y\": [-0.6871014173186214, -0.8134658475082039, null, -0.6871014173186214, -0.0920577084077105, null, -0.6871014173186214, 0.19314974131574353, null, -0.8134658475082039, 0.06542561735856972, null, -0.0920577084077105, 0.7908812121890136, null, 0.19314974131574353, 0.06542561735856972, null, 0.19314974131574353, 0.7908812121890136, null, 0.06542561735856972, 0.543168668988761, null, 0.543168668988761, 0.7908812121890136, null], \"z\": [-0.7376844037192719, -0.17673298150249359, null, -0.7376844037192719, 0.7281975724176882, null, -0.7376844037192719, -0.9246677180591245, null, -0.17673298150249359, -0.35521956525809617, null, 0.7281975724176882, 0.5244218379323571, null, -0.9246677180591245, -0.35521956525809617, null, -0.9246677180591245, 0.5244218379323571, null, -0.35521956525809617, 0.9416852895327282, null, 0.9416852895327282, 0.5244218379323571, null], \"type\": \"scatter3d\"}], \"traces\": [0, 1, 2, 3]}, {\"data\": [{\"mode\": \"markers\", \"name\": \"Original\", \"x\": [0.600049614906311, -0.7809175252914429, 0.875862717628479, 0.3285384774208069, -1.0524287223815918, -0.5754570960998535, 0.6043525338172913], \"y\": [-0.6541714420811519, -0.8508230309107488, -0.14219131675815497, 0.2684811270425346, 0.07182921182814889, 0.5264145447405871, 0.780461798082932], \"z\": [-0.7123014645731824, -0.005690796973267336, 0.7391953323554663, -0.9861521831833606, -0.2795406116041725, 0.7791412776458738, 0.4653457146975269], \"type\": \"scatter3d\"}, {\"mode\": \"lines\", \"name\": \"Original\", \"x\": [0.600049614906311, -0.7809175252914429, null, 0.600049614906311, 0.875862717628479, null, 0.600049614906311, 0.3285384774208069, null, -0.7809175252914429, -1.0524287223815918, null, 0.875862717628479, 0.6043525338172913, null, 0.3285384774208069, -1.0524287223815918, null, 0.3285384774208069, 0.6043525338172913, null, -1.0524287223815918, -0.5754570960998535, null, -0.5754570960998535, 0.6043525338172913, null], \"y\": [-0.6541714420811519, -0.8508230309107488, null, -0.6541714420811519, -0.14219131675815497, null, -0.6541714420811519, 0.2684811270425346, null, -0.8508230309107488, 0.07182921182814889, null, -0.14219131675815497, 0.780461798082932, null, 0.2684811270425346, 0.07182921182814889, null, 0.2684811270425346, 0.780461798082932, null, 0.07182921182814889, 0.5264145447405871, null, 0.5264145447405871, 0.780461798082932, null], \"z\": [-0.7123014645731824, -0.005690796973267336, null, -0.7123014645731824, 0.7391953323554663, null, -0.7123014645731824, -0.9861521831833606, null, -0.005690796973267336, -0.2795406116041725, null, 0.7391953323554663, 0.4653457146975269, null, -0.9861521831833606, -0.2795406116041725, null, -0.9861521831833606, 0.4653457146975269, null, -0.2795406116041725, 0.7791412776458738, null, 0.7791412776458738, 0.4653457146975269, null], \"type\": \"scatter3d\"}, {\"mode\": \"markers\", \"name\": \"Reconstructed\", \"x\": [0.600049614906311, -0.7809175252914429, 0.875862717628479, 0.3285384774208069, -1.0524287223815918, -0.5754570960998535, 0.6043525338172913], \"y\": [-0.6389312235155407, -0.800618979158618, -0.13805751078455344, 0.2514069194563036, 0.0878233115911694, 0.48234972258265857, 0.7560280239213993], \"z\": [-0.7797778714408677, -0.22797035338835986, 0.720892814410205, -0.9105557491117712, -0.35035484425088403, 0.9742392584051378, 0.5735267935671524], \"type\": \"scatter3d\"}, {\"mode\": \"lines\", \"name\": \"Reconstructed\", \"x\": [0.600049614906311, -0.7809175252914429, null, 0.600049614906311, 0.875862717628479, null, 0.600049614906311, 0.3285384774208069, null, -0.7809175252914429, -1.0524287223815918, null, 0.875862717628479, 0.6043525338172913, null, 0.3285384774208069, -1.0524287223815918, null, 0.3285384774208069, 0.6043525338172913, null, -1.0524287223815918, -0.5754570960998535, null, -0.5754570960998535, 0.6043525338172913, null], \"y\": [-0.6389312235155407, -0.800618979158618, null, -0.6389312235155407, -0.13805751078455344, null, -0.6389312235155407, 0.2514069194563036, null, -0.800618979158618, 0.0878233115911694, null, -0.13805751078455344, 0.7560280239213993, null, 0.2514069194563036, 0.0878233115911694, null, 0.2514069194563036, 0.7560280239213993, null, 0.0878233115911694, 0.48234972258265857, null, 0.48234972258265857, 0.7560280239213993, null], \"z\": [-0.7797778714408677, -0.22797035338835986, null, -0.7797778714408677, 0.720892814410205, null, -0.7797778714408677, -0.9105557491117712, null, -0.22797035338835986, -0.35035484425088403, null, 0.720892814410205, 0.5735267935671524, null, -0.9105557491117712, -0.35035484425088403, null, -0.9105557491117712, 0.5735267935671524, null, -0.35035484425088403, 0.9742392584051378, null, 0.9742392584051378, 0.5735267935671524, null], \"type\": \"scatter3d\"}], \"traces\": [0, 1, 2, 3]}, {\"data\": [{\"mode\": \"markers\", \"name\": \"Original\", \"x\": [0.600049614906311, -0.7809175252914429, 0.875862717628479, 0.3285384774208069, -1.0524287223815918, -0.5754570960998535, 0.6043525338172913], \"y\": [-0.6076774324650456, -0.8487491162343392, -0.18878770500445277, 0.3304862245079722, 0.08941415767709927, 0.4759385081575936, 0.7493764267605536], \"z\": [-0.7523574882596201, -0.05964187111226556, 0.7286887623510315, -0.9671386143598054, -0.2744221157537831, 0.8109598879715374, 0.5139087695980485], \"type\": \"scatter3d\"}, {\"mode\": \"lines\", \"name\": \"Original\", \"x\": [0.600049614906311, -0.7809175252914429, null, 0.600049614906311, 0.875862717628479, null, 0.600049614906311, 0.3285384774208069, null, -0.7809175252914429, -1.0524287223815918, null, 0.875862717628479, 0.6043525338172913, null, 0.3285384774208069, -1.0524287223815918, null, 0.3285384774208069, 0.6043525338172913, null, -1.0524287223815918, -0.5754570960998535, null, -0.5754570960998535, 0.6043525338172913, null], \"y\": [-0.6076774324650456, -0.8487491162343392, null, -0.6076774324650456, -0.18878770500445277, null, -0.6076774324650456, 0.3304862245079722, null, -0.8487491162343392, 0.08941415767709927, null, -0.18878770500445277, 0.7493764267605536, null, 0.3304862245079722, 0.08941415767709927, null, 0.3304862245079722, 0.7493764267605536, null, 0.08941415767709927, 0.4759385081575936, null, 0.4759385081575936, 0.7493764267605536, null], \"z\": [-0.7523574882596201, -0.05964187111226556, null, -0.7523574882596201, 0.7286887623510315, null, -0.7523574882596201, -0.9671386143598054, null, -0.05964187111226556, -0.2744221157537831, null, 0.7286887623510315, 0.5139087695980485, null, -0.9671386143598054, -0.2744221157537831, null, -0.9671386143598054, 0.5139087695980485, null, -0.2744221157537831, 0.8109598879715374, null, 0.8109598879715374, 0.5139087695980485, null], \"type\": \"scatter3d\"}, {\"mode\": \"markers\", \"name\": \"Reconstructed\", \"x\": [0.600049614906311, -0.7809175252914429, 0.875862717628479, 0.3285384774208069, -1.0524287223815918, -0.5754570960998535, 0.6043525338172913], \"y\": [-0.5881882791821564, -0.7845483007534401, -0.18350140429200548, 0.30865177066471927, 0.10986737234468219, 0.4195885240860442, 0.7181305776368334], \"z\": [-0.8187314488919122, -0.27828976912184733, 0.7106852754737186, -0.8927772935377225, -0.3440793679414327, 1.0028703096356257, 0.6203223592269611], \"type\": \"scatter3d\"}, {\"mode\": \"lines\", \"name\": \"Reconstructed\", \"x\": [0.600049614906311, -0.7809175252914429, null, 0.600049614906311, 0.875862717628479, null, 0.600049614906311, 0.3285384774208069, null, -0.7809175252914429, -1.0524287223815918, null, 0.875862717628479, 0.6043525338172913, null, 0.3285384774208069, -1.0524287223815918, null, 0.3285384774208069, 0.6043525338172913, null, -1.0524287223815918, -0.5754570960998535, null, -0.5754570960998535, 0.6043525338172913, null], \"y\": [-0.5881882791821564, -0.7845483007534401, null, -0.5881882791821564, -0.18350140429200548, null, -0.5881882791821564, 0.30865177066471927, null, -0.7845483007534401, 0.10986737234468219, null, -0.18350140429200548, 0.7181305776368334, null, 0.30865177066471927, 0.10986737234468219, null, 0.30865177066471927, 0.7181305776368334, null, 0.10986737234468219, 0.4195885240860442, null, 0.4195885240860442, 0.7181305776368334, null], \"z\": [-0.8187314488919122, -0.27828976912184733, null, -0.8187314488919122, 0.7106852754737186, null, -0.8187314488919122, -0.8927772935377225, null, -0.27828976912184733, -0.3440793679414327, null, 0.7106852754737186, 0.6203223592269611, null, -0.8927772935377225, -0.3440793679414327, null, -0.8927772935377225, 0.6203223592269611, null, -0.3440793679414327, 1.0028703096356257, null, 1.0028703096356257, 0.6203223592269611, null], \"type\": \"scatter3d\"}], \"traces\": [0, 1, 2, 3]}, {\"data\": [{\"mode\": \"markers\", \"name\": \"Original\", \"x\": [0.600049614906311, -0.7809175252914429, 0.875862717628479, 0.3285384774208069, -1.0524287223815918, -0.5754570960998535, 0.6043525338172913], \"y\": [-0.5587365203043663, -0.8432575884275658, -0.23462391179414147, 0.3911605705903694, 0.10663906427125365, 0.42354603518178047, 0.715273581055351], \"z\": [-0.7893840338807233, -0.11335278848652106, 0.7152480198867671, -0.9442307196817707, -0.26819861889882907, 0.8395130490515785, 0.5604024952642964], \"type\": \"scatter3d\"}, {\"mode\": \"lines\", \"name\": \"Original\", \"x\": [0.600049614906311, -0.7809175252914429, null, 0.600049614906311, 0.875862717628479, null, 0.600049614906311, 0.3285384774208069, null, -0.7809175252914429, -1.0524287223815918, null, 0.875862717628479, 0.6043525338172913, null, 0.3285384774208069, -1.0524287223815918, null, 0.3285384774208069, 0.6043525338172913, null, -1.0524287223815918, -0.5754570960998535, null, -0.5754570960998535, 0.6043525338172913, null], \"y\": [-0.5587365203043663, -0.8432575884275658, null, -0.5587365203043663, -0.23462391179414147, null, -0.5587365203043663, 0.3911605705903694, null, -0.8432575884275658, 0.10663906427125365, null, -0.23462391179414147, 0.715273581055351, null, 0.3911605705903694, 0.10663906427125365, null, 0.3911605705903694, 0.715273581055351, null, 0.10663906427125365, 0.42354603518178047, null, 0.42354603518178047, 0.715273581055351, null], \"z\": [-0.7893840338807233, -0.11335278848652106, null, -0.7893840338807233, 0.7152480198867671, null, -0.7893840338807233, -0.9442307196817707, null, -0.11335278848652106, -0.26819861889882907, null, 0.7152480198867671, 0.5604024952642964, null, -0.9442307196817707, -0.26819861889882907, null, -0.9442307196817707, 0.5604024952642964, null, -0.26819861889882907, 0.8395130490515785, null, 0.8395130490515785, 0.5604024952642964, null], \"type\": \"scatter3d\"}, {\"mode\": \"markers\", \"name\": \"Reconstructed\", \"x\": [0.600049614906311, -0.7809175252914429, 0.875862717628479, 0.3285384774208069, -1.0524287223815918, -0.5754570960998535, 0.6043525338172913], \"y\": [-0.5350769082458942, -0.7653185232425622, -0.22820640241005052, 0.36465379012938687, 0.13146903596676726, 0.35513779069409074, 0.6773414729758368], \"z\": [-0.8543882837644318, -0.3274886101757206, 0.6976160577648391, -0.8714039389027802, -0.33641840545795004, 1.0274631560860372, 0.6646201056850739], \"type\": \"scatter3d\"}, {\"mode\": \"lines\", \"name\": \"Reconstructed\", \"x\": [0.600049614906311, -0.7809175252914429, null, 0.600049614906311, 0.875862717628479, null, 0.600049614906311, 0.3285384774208069, null, -0.7809175252914429, -1.0524287223815918, null, 0.875862717628479, 0.6043525338172913, null, 0.3285384774208069, -1.0524287223815918, null, 0.3285384774208069, 0.6043525338172913, null, -1.0524287223815918, -0.5754570960998535, null, -0.5754570960998535, 0.6043525338172913, null], \"y\": [-0.5350769082458942, -0.7653185232425622, null, -0.5350769082458942, -0.22820640241005052, null, -0.5350769082458942, 0.36465379012938687, null, -0.7653185232425622, 0.13146903596676726, null, -0.22820640241005052, 0.6773414729758368, null, 0.36465379012938687, 0.13146903596676726, null, 0.36465379012938687, 0.6773414729758368, null, 0.13146903596676726, 0.35513779069409074, null, 0.35513779069409074, 0.6773414729758368, null], \"z\": [-0.8543882837644318, -0.3274886101757206, null, -0.8543882837644318, 0.6976160577648391, null, -0.8543882837644318, -0.8714039389027802, null, -0.3274886101757206, -0.33641840545795004, null, 0.6976160577648391, 0.6646201056850739, null, -0.8714039389027802, -0.33641840545795004, null, -0.8714039389027802, 0.6646201056850739, null, -0.33641840545795004, 1.0274631560860372, null, 1.0274631560860372, 0.6646201056850739, null], \"type\": \"scatter3d\"}], \"traces\": [0, 1, 2, 3]}, {\"data\": [{\"mode\": \"markers\", \"name\": \"Original\", \"x\": [0.600049614906311, -0.7809175252914429, 0.875862717628479, 0.3285384774208069, -1.0524287223815918, -0.5754570960998535, 0.6043525338172913], \"y\": [-0.5075457733789941, -0.8343705599347059, -0.2795153709000831, 0.45025985111268557, 0.12343457299118105, 0.369448091810224, 0.6782905810905916], \"z\": [-0.8232320086055651, -0.16660727418870208, 0.6989272260887505, -0.9175207411559264, -0.2608951808646007, 0.8646857873839887, 0.604639677872684], \"type\": \"scatter3d\"}, {\"mode\": \"lines\", \"name\": \"Original\", \"x\": [0.600049614906311, -0.7809175252914429, null, 0.600049614906311, 0.875862717628479, null, 0.600049614906311, 0.3285384774208069, null, -0.7809175252914429, -1.0524287223815918, null, 0.875862717628479, 0.6043525338172913, null, 0.3285384774208069, -1.0524287223815918, null, 0.3285384774208069, 0.6043525338172913, null, -1.0524287223815918, -0.5754570960998535, null, -0.5754570960998535, 0.6043525338172913, null], \"y\": [-0.5075457733789941, -0.8343705599347059, null, -0.5075457733789941, -0.2795153709000831, null, -0.5075457733789941, 0.45025985111268557, null, -0.8343705599347059, 0.12343457299118105, null, -0.2795153709000831, 0.6782905810905916, null, 0.45025985111268557, 0.12343457299118105, null, 0.45025985111268557, 0.6782905810905916, null, 0.12343457299118105, 0.369448091810224, null, 0.369448091810224, 0.6782905810905916, null], \"z\": [-0.8232320086055651, -0.16660727418870208, null, -0.8232320086055651, 0.6989272260887505, null, -0.8232320086055651, -0.9175207411559264, null, -0.16660727418870208, -0.2608951808646007, null, 0.6989272260887505, 0.604639677872684, null, -0.9175207411559264, -0.2608951808646007, null, -0.9175207411559264, 0.604639677872684, null, -0.2608951808646007, 0.8646857873839887, null, 0.8646857873839887, 0.604639677872684, null], \"type\": \"scatter3d\"}, {\"mode\": \"markers\", \"name\": \"Reconstructed\", \"x\": [0.600049614906311, -0.7809175252914429, 0.875862717628479, 0.3285384774208069, -1.0524287223815918, -0.5754570960998535, 0.6043525338172913], \"y\": [-0.4798109714521858, -0.7430070781529903, -0.2719924938896183, 0.4191874774834868, 0.1525413201821913, 0.28925704276268216, 0.6338249532666184], \"z\": [-0.8866047985692531, -0.375368770181481, 0.6817377864105812, -0.8465217481624666, -0.3274028047924682, 1.0479187710436093, 0.7062416615511181], \"type\": \"scatter3d\"}, {\"mode\": \"lines\", \"name\": \"Reconstructed\", \"x\": [0.600049614906311, -0.7809175252914429, null, 0.600049614906311, 0.875862717628479, null, 0.600049614906311, 0.3285384774208069, null, -0.7809175252914429, -1.0524287223815918, null, 0.875862717628479, 0.6043525338172913, null, 0.3285384774208069, -1.0524287223815918, null, 0.3285384774208069, 0.6043525338172913, null, -1.0524287223815918, -0.5754570960998535, null, -0.5754570960998535, 0.6043525338172913, null], \"y\": [-0.4798109714521858, -0.7430070781529903, null, -0.4798109714521858, -0.2719924938896183, null, -0.4798109714521858, 0.4191874774834868, null, -0.7430070781529903, 0.1525413201821913, null, -0.2719924938896183, 0.6338249532666184, null, 0.4191874774834868, 0.1525413201821913, null, 0.4191874774834868, 0.6338249532666184, null, 0.1525413201821913, 0.28925704276268216, null, 0.28925704276268216, 0.6338249532666184, null], \"z\": [-0.8866047985692531, -0.375368770181481, null, -0.8866047985692531, 0.6817377864105812, null, -0.8866047985692531, -0.8465217481624666, null, -0.375368770181481, -0.3274028047924682, null, 0.6817377864105812, 0.7062416615511181, null, -0.8465217481624666, -0.3274028047924682, null, -0.8465217481624666, 0.7062416615511181, null, -0.3274028047924682, 1.0479187710436093, null, 1.0479187710436093, 0.7062416615511181, null], \"type\": \"scatter3d\"}], \"traces\": [0, 1, 2, 3]}, {\"data\": [{\"mode\": \"markers\", \"name\": \"Original\", \"x\": [0.600049614906311, -0.7809175252914429, 0.875862717628479, 0.3285384774208069, -1.0524287223815918, -0.5754570960998535, 0.6043525338172913], \"y\": [-0.45431131875934305, -0.8221238156828788, -0.32328132026061823, 0.5075460941309794, 0.13973305425113625, 0.3138625113673499, 0.6385763443542146], \"z\": [-0.8537651185863597, -0.2191908912007241, 0.6797920990332837, -0.8871162304386754, -0.252541210018359, 0.8863767412360639, 0.6464421899020847], \"type\": \"scatter3d\"}, {\"mode\": \"lines\", \"name\": \"Original\", \"x\": [0.600049614906311, -0.7809175252914429, null, 0.600049614906311, 0.875862717628479, null, 0.600049614906311, 0.3285384774208069, null, -0.7809175252914429, -1.0524287223815918, null, 0.875862717628479, 0.6043525338172913, null, 0.3285384774208069, -1.0524287223815918, null, 0.3285384774208069, 0.6043525338172913, null, -1.0524287223815918, -0.5754570960998535, null, -0.5754570960998535, 0.6043525338172913, null], \"y\": [-0.45431131875934305, -0.8221238156828788, null, -0.45431131875934305, -0.32328132026061823, null, -0.45431131875934305, 0.5075460941309794, null, -0.8221238156828788, 0.13973305425113625, null, -0.32328132026061823, 0.6385763443542146, null, 0.5075460941309794, 0.13973305425113625, null, 0.5075460941309794, 0.6385763443542146, null, 0.13973305425113625, 0.3138625113673499, null, 0.3138625113673499, 0.6385763443542146, null], \"z\": [-0.8537651185863597, -0.2191908912007241, null, -0.8537651185863597, 0.6797920990332837, null, -0.8537651185863597, -0.8871162304386754, null, -0.2191908912007241, -0.252541210018359, null, 0.6797920990332837, 0.6464421899020847, null, -0.8871162304386754, -0.252541210018359, null, -0.8871162304386754, 0.6464421899020847, null, -0.252541210018359, 0.8863767412360639, null, 0.8863767412360639, 0.6464421899020847, null], \"type\": \"scatter3d\"}, {\"mode\": \"markers\", \"name\": \"Reconstructed\", \"x\": [0.600049614906311, -0.7809175252914429, 0.875862717628479, 0.3285384774208069, -1.0524287223815918, -0.5754570960998535, 0.6043525338172913], \"y\": [-0.4226130052227324, -0.7177038057994147, -0.3146833675943482, 0.47203324481536846, 0.17299937433975, 0.2222115588115394, 0.5877562441751633], \"z\": [-0.9152512687718749, -0.42173745263378865, 0.6631143976055517, -0.818230913116879, -0.3170688685868669, 1.0641547869665888, 0.7450194315096894], \"type\": \"scatter3d\"}, {\"mode\": \"lines\", \"name\": \"Reconstructed\", \"x\": [0.600049614906311, -0.7809175252914429, null, 0.600049614906311, 0.875862717628479, null, 0.600049614906311, 0.3285384774208069, null, -0.7809175252914429, -1.0524287223815918, null, 0.875862717628479, 0.6043525338172913, null, 0.3285384774208069, -1.0524287223815918, null, 0.3285384774208069, 0.6043525338172913, null, -1.0524287223815918, -0.5754570960998535, null, -0.5754570960998535, 0.6043525338172913, null], \"y\": [-0.4226130052227324, -0.7177038057994147, null, -0.4226130052227324, -0.3146833675943482, null, -0.4226130052227324, 0.47203324481536846, null, -0.7177038057994147, 0.17299937433975, null, -0.3146833675943482, 0.5877562441751633, null, 0.47203324481536846, 0.17299937433975, null, 0.47203324481536846, 0.5877562441751633, null, 0.17299937433975, 0.2222115588115394, null, 0.2222115588115394, 0.5877562441751633, null], \"z\": [-0.9152512687718749, -0.42173745263378865, null, -0.9152512687718749, 0.6631143976055517, null, -0.9152512687718749, -0.818230913116879, null, -0.42173745263378865, -0.3170688685868669, null, 0.6631143976055517, 0.7450194315096894, null, -0.818230913116879, -0.3170688685868669, null, -0.818230913116879, 0.7450194315096894, null, -0.3170688685868669, 1.0641547869665888, null, 1.0641547869665888, 0.7450194315096894, null], \"type\": \"scatter3d\"}], \"traces\": [0, 1, 2, 3]}, {\"data\": [{\"mode\": \"markers\", \"name\": \"Original\", \"x\": [0.600049614906311, -0.7809175252914429, 0.875862717628479, 0.3285384774208069, -1.0524287223815918, -0.5754570960998535, 0.6043525338172913], \"y\": [-0.39924751280539694, -0.8065666689887749, -0.36574552984459174, 0.5627886281634394, 0.155468879819533, 0.25701311736701676, 0.5962907860606648], \"z\": [-0.8808604177656859, -0.27089190385594036, 0.6579196891233953, -0.8531396157635935, -0.2431703448522198, 0.9044985687923294, 0.6856417073904927], \"type\": \"scatter3d\"}, {\"mode\": \"lines\", \"name\": \"Original\", \"x\": [0.600049614906311, -0.7809175252914429, null, 0.600049614906311, 0.875862717628479, null, 0.600049614906311, 0.3285384774208069, null, -0.7809175252914429, -1.0524287223815918, null, 0.875862717628479, 0.6043525338172913, null, 0.3285384774208069, -1.0524287223815918, null, 0.3285384774208069, 0.6043525338172913, null, -1.0524287223815918, -0.5754570960998535, null, -0.5754570960998535, 0.6043525338172913, null], \"y\": [-0.39924751280539694, -0.8065666689887749, null, -0.39924751280539694, -0.36574552984459174, null, -0.39924751280539694, 0.5627886281634394, null, -0.8065666689887749, 0.155468879819533, null, -0.36574552984459174, 0.5962907860606648, null, 0.5627886281634394, 0.155468879819533, null, 0.5627886281634394, 0.5962907860606648, null, 0.155468879819533, 0.25701311736701676, null, 0.25701311736701676, 0.5962907860606648, null], \"z\": [-0.8808604177656859, -0.27089190385594036, null, -0.8808604177656859, 0.6579196891233953, null, -0.8808604177656859, -0.8531396157635935, null, -0.27089190385594036, -0.2431703448522198, null, 0.6579196891233953, 0.6856417073904927, null, -0.8531396157635935, -0.2431703448522198, null, -0.8531396157635935, 0.6856417073904927, null, -0.2431703448522198, 0.9044985687923294, null, 0.9044985687923294, 0.6856417073904927, null], \"type\": \"scatter3d\"}, {\"mode\": \"markers\", \"name\": \"Reconstructed\", \"x\": [0.600049614906311, -0.7809175252914429, 0.875862717628479, 0.3285384774208069, -1.0524287223815918, -0.5754570960998535, 0.6043525338172913], \"y\": [-0.3637133255798735, -0.689510593528971, -0.35610712244330966, 0.5229783008715714, 0.19276082107589382, 0.15427130734124725, 0.5393208481333185], \"z\": [-0.9402123451473847, -0.46640794721394624, 0.641820881163459, -0.7866453509736717, -0.3054582079549477, 1.0761058271492552, 0.7807972711675374], \"type\": \"scatter3d\"}, {\"mode\": \"lines\", \"name\": \"Reconstructed\", \"x\": [0.600049614906311, -0.7809175252914429, null, 0.600049614906311, 0.875862717628479, null, 0.600049614906311, 0.3285384774208069, null, -0.7809175252914429, -1.0524287223815918, null, 0.875862717628479, 0.6043525338172913, null, 0.3285384774208069, -1.0524287223815918, null, 0.3285384774208069, 0.6043525338172913, null, -1.0524287223815918, -0.5754570960998535, null, -0.5754570960998535, 0.6043525338172913, null], \"y\": [-0.3637133255798735, -0.689510593528971, null, -0.3637133255798735, -0.35610712244330966, null, -0.3637133255798735, 0.5229783008715714, null, -0.689510593528971, 0.19276082107589382, null, -0.35610712244330966, 0.5393208481333185, null, 0.5229783008715714, 0.19276082107589382, null, 0.5229783008715714, 0.5393208481333185, null, 0.19276082107589382, 0.15427130734124725, null, 0.15427130734124725, 0.5393208481333185, null], \"z\": [-0.9402123451473847, -0.46640794721394624, null, -0.9402123451473847, 0.641820881163459, null, -0.9402123451473847, -0.7866453509736717, null, -0.46640794721394624, -0.3054582079549477, null, 0.641820881163459, 0.7807972711675374, null, -0.7866453509736717, -0.3054582079549477, null, -0.7866453509736717, 0.7807972711675374, null, -0.3054582079549477, 1.0761058271492552, null, 1.0761058271492552, 0.7807972711675374, null], \"type\": \"scatter3d\"}], \"traces\": [0, 1, 2, 3]}, {\"data\": [{\"mode\": \"markers\", \"name\": \"Original\", \"x\": [0.600049614906311, -0.7809175252914429, 0.875862717628479, 0.3285384774208069, -1.0524287223815918, -0.5754570960998535, 0.6043525338172913], \"y\": [-0.3425760780293056, -0.787761762991333, -0.4067370112674865, 0.6157650110230244, 0.17057868708066878, 0.1991288222542253, 0.551604175228766], \"z\": [-0.9044088029368652, -0.32150213042393794, 0.6333980688340618, -0.8157277089661432, -0.23282031853281873, 0.9189782998492018, 0.7220803877162073], \"type\": \"scatter3d\"}, {\"mode\": \"lines\", \"name\": \"Original\", \"x\": [0.600049614906311, -0.7809175252914429, null, 0.600049614906311, 0.875862717628479, null, 0.600049614906311, 0.3285384774208069, null, -0.7809175252914429, -1.0524287223815918, null, 0.875862717628479, 0.6043525338172913, null, 0.3285384774208069, -1.0524287223815918, null, 0.3285384774208069, 0.6043525338172913, null, -1.0524287223815918, -0.5754570960998535, null, -0.5754570960998535, 0.6043525338172913, null], \"y\": [-0.3425760780293056, -0.787761762991333, null, -0.3425760780293056, -0.4067370112674865, null, -0.3425760780293056, 0.6157650110230244, null, -0.787761762991333, 0.17057868708066878, null, -0.4067370112674865, 0.551604175228766, null, 0.6157650110230244, 0.17057868708066878, null, 0.6157650110230244, 0.551604175228766, null, 0.17057868708066878, 0.1991288222542253, null, 0.1991288222542253, 0.551604175228766, null], \"z\": [-0.9044088029368652, -0.32150213042393794, null, -0.9044088029368652, 0.6333980688340618, null, -0.9044088029368652, -0.8157277089661432, null, -0.32150213042393794, -0.23282031853281873, null, 0.6333980688340618, 0.7220803877162073, null, -0.8157277089661432, -0.23282031853281873, null, -0.8157277089661432, 0.7220803877162073, null, -0.23282031853281873, 0.9189782998492018, null, 0.9189782998492018, 0.7220803877162073, null], \"type\": \"scatter3d\"}, {\"mode\": \"markers\", \"name\": \"Reconstructed\", \"x\": [0.600049614906311, -0.7809175252914429, 0.875862717628479, 0.3285384774208069, -1.0524287223815918, -0.5754570960998535, 0.6043525338172913], \"y\": [-0.3033491007452567, -0.6585409654568538, -0.3960969595959815, 0.5718175078920967, 0.21174608801929554, 0.08570985976538886, 0.48871379738597387], \"z\": [-0.9613875182510745, -0.5092003816064518, 0.617942978559602, -0.7518922456436686, -0.2926175749291651, 1.0837237689708379, 0.8134311157919251], \"type\": \"scatter3d\"}, {\"mode\": \"lines\", \"name\": \"Reconstructed\", \"x\": [0.600049614906311, -0.7809175252914429, null, 0.600049614906311, 0.875862717628479, null, 0.600049614906311, 0.3285384774208069, null, -0.7809175252914429, -1.0524287223815918, null, 0.875862717628479, 0.6043525338172913, null, 0.3285384774208069, -1.0524287223815918, null, 0.3285384774208069, 0.6043525338172913, null, -1.0524287223815918, -0.5754570960998535, null, -0.5754570960998535, 0.6043525338172913, null], \"y\": [-0.3033491007452567, -0.6585409654568538, null, -0.3033491007452567, -0.3960969595959815, null, -0.3033491007452567, 0.5718175078920967, null, -0.6585409654568538, 0.21174608801929554, null, -0.3960969595959815, 0.48871379738597387, null, 0.5718175078920967, 0.21174608801929554, null, 0.5718175078920967, 0.48871379738597387, null, 0.21174608801929554, 0.08570985976538886, null, 0.08570985976538886, 0.48871379738597387, null], \"z\": [-0.9613875182510745, -0.5092003816064518, null, -0.9613875182510745, 0.617942978559602, null, -0.9613875182510745, -0.7518922456436686, null, -0.5092003816064518, -0.2926175749291651, null, 0.617942978559602, 0.8134311157919251, null, -0.7518922456436686, -0.2926175749291651, null, -0.7518922456436686, 0.8134311157919251, null, -0.2926175749291651, 1.0837237689708379, null, 1.0837237689708379, 0.8134311157919251, null], \"type\": \"scatter3d\"}], \"traces\": [0, 1, 2, 3]}, {\"data\": [{\"mode\": \"markers\", \"name\": \"Original\", \"x\": [0.600049614906311, -0.7809175252914429, 0.875862717628479, 0.3285384774208069, -1.0524287223815918, -0.5754570960998535, 0.6043525338172913], \"y\": [-0.2845252102970821, -0.7657848184099306, -0.44609070630130104, 0.6662619255136436, 0.1850016341736155, 0.14044270565549272, 0.5046964490684773], \"z\": [-0.9243154530640693, -0.37081778138489224, 0.6063259780754349, -0.7750311545906978, -0.2215328069631666, 0.929757629640246, 0.7556115051743623], \"type\": \"scatter3d\"}, {\"mode\": \"lines\", \"name\": \"Original\", \"x\": [0.600049614906311, -0.7809175252914429, null, 0.600049614906311, 0.875862717628479, null, 0.600049614906311, 0.3285384774208069, null, -0.7809175252914429, -1.0524287223815918, null, 0.875862717628479, 0.6043525338172913, null, 0.3285384774208069, -1.0524287223815918, null, 0.3285384774208069, 0.6043525338172913, null, -1.0524287223815918, -0.5754570960998535, null, -0.5754570960998535, 0.6043525338172913, null], \"y\": [-0.2845252102970821, -0.7657848184099306, null, -0.2845252102970821, -0.44609070630130104, null, -0.2845252102970821, 0.6662619255136436, null, -0.7657848184099306, 0.1850016341736155, null, -0.44609070630130104, 0.5046964490684773, null, 0.6662619255136436, 0.1850016341736155, null, 0.6662619255136436, 0.5046964490684773, null, 0.1850016341736155, 0.14044270565549272, null, 0.14044270565549272, 0.5046964490684773, null], \"z\": [-0.9243154530640693, -0.37081778138489224, null, -0.9243154530640693, 0.6063259780754349, null, -0.9243154530640693, -0.7750311545906978, null, -0.37081778138489224, -0.2215328069631666, null, 0.6063259780754349, 0.7556115051743623, null, -0.7750311545906978, -0.2215328069631666, null, -0.7750311545906978, 0.7556115051743623, null, -0.2215328069631666, 0.929757629640246, null, 0.929757629640246, 0.7556115051743623, null], \"type\": \"scatter3d\"}, {\"mode\": \"markers\", \"name\": \"Reconstructed\", \"x\": [0.600049614906311, -0.7809175252914429, 0.875862717628479, 0.3285384774208069, -1.0524287223815918, -0.5754570960998535, 0.6043525338172913], \"y\": [-0.24176339614711334, -0.624919625344772, -0.4344918540923144, 0.6183542076277673, 0.22987872820070604, 0.016803288835015813, 0.43613886866504514], \"z\": [-0.9786915231345013, -0.5499424457813301, 0.591576837680209, -0.7141115356161412, -0.27859867420669243, 1.0869779376683262, 0.8427895604084625], \"type\": \"scatter3d\"}, {\"mode\": \"lines\", \"name\": \"Reconstructed\", \"x\": [0.600049614906311, -0.7809175252914429, null, 0.600049614906311, 0.875862717628479, null, 0.600049614906311, 0.3285384774208069, null, -0.7809175252914429, -1.0524287223815918, null, 0.875862717628479, 0.6043525338172913, null, 0.3285384774208069, -1.0524287223815918, null, 0.3285384774208069, 0.6043525338172913, null, -1.0524287223815918, -0.5754570960998535, null, -0.5754570960998535, 0.6043525338172913, null], \"y\": [-0.24176339614711334, -0.624919625344772, null, -0.24176339614711334, -0.4344918540923144, null, -0.24176339614711334, 0.6183542076277673, null, -0.624919625344772, 0.22987872820070604, null, -0.4344918540923144, 0.43613886866504514, null, 0.6183542076277673, 0.22987872820070604, null, 0.6183542076277673, 0.43613886866504514, null, 0.22987872820070604, 0.016803288835015813, null, 0.016803288835015813, 0.43613886866504514, null], \"z\": [-0.9786915231345013, -0.5499424457813301, null, -0.9786915231345013, 0.591576837680209, null, -0.9786915231345013, -0.7141115356161412, null, -0.5499424457813301, -0.27859867420669243, null, 0.591576837680209, 0.8427895604084625, null, -0.7141115356161412, -0.27859867420669243, null, -0.7141115356161412, 0.8427895604084625, null, -0.27859867420669243, 1.0869779376683262, null, 1.0869779376683262, 0.8427895604084625, null], \"type\": \"scatter3d\"}], \"traces\": [0, 1, 2, 3]}, {\"data\": [{\"mode\": \"markers\", \"name\": \"Original\", \"x\": [0.600049614906311, -0.7809175252914429, 0.875862717628479, 0.3285384774208069, -1.0524287223815918, -0.5754570960998535, 0.6043525338172913], \"y\": [-0.2253286599643926, -0.7407243286437712, -0.48364815150577506, 0.7140760383832141, 0.19867964498091897, 0.08119107584946371, 0.455756488437257], \"z\": [-0.9405002110931637, -0.41864028001803444, 0.5768124266020741, -0.7312138232981327, -0.20935326096849768, 0.9367931536088908, 0.7861000417895523], \"type\": \"scatter3d\"}, {\"mode\": \"lines\", \"name\": \"Original\", \"x\": [0.600049614906311, -0.7809175252914429, null, 0.600049614906311, 0.875862717628479, null, 0.600049614906311, 0.3285384774208069, null, -0.7809175252914429, -1.0524287223815918, null, 0.875862717628479, 0.6043525338172913, null, 0.3285384774208069, -1.0524287223815918, null, 0.3285384774208069, 0.6043525338172913, null, -1.0524287223815918, -0.5754570960998535, null, -0.5754570960998535, 0.6043525338172913, null], \"y\": [-0.2253286599643926, -0.7407243286437712, null, -0.2253286599643926, -0.48364815150577506, null, -0.2253286599643926, 0.7140760383832141, null, -0.7407243286437712, 0.19867964498091897, null, -0.48364815150577506, 0.455756488437257, null, 0.7140760383832141, 0.19867964498091897, null, 0.7140760383832141, 0.455756488437257, null, 0.19867964498091897, 0.08119107584946371, null, 0.08119107584946371, 0.455756488437257, null], \"z\": [-0.9405002110931637, -0.41864028001803444, null, -0.9405002110931637, 0.5768124266020741, null, -0.9405002110931637, -0.7312138232981327, null, -0.41864028001803444, -0.20935326096849768, null, 0.5768124266020741, 0.7861000417895523, null, -0.7312138232981327, -0.20935326096849768, null, -0.7312138232981327, 0.7861000417895523, null, -0.20935326096849768, 0.9367931536088908, null, 0.9367931536088908, 0.7861000417895523, null], \"type\": \"scatter3d\"}, {\"mode\": \"markers\", \"name\": \"Reconstructed\", \"x\": [0.600049614906311, -0.7809175252914429, 0.875862717628479, 0.3285384774208069, -1.0524287223815918, -0.5754570960998535, 0.6043525338172913], \"y\": [-0.1792041956815701, -0.5887819544629145, -0.4711372032434097, 0.6624010132135849, 0.24708572787791686, -0.05217094300887928, 0.3818077626524986], \"z\": [-0.99205468267734, -0.5884700858258062, 0.5628286256688366, -0.6734553504759044, -0.2634579549528555, 1.085855229852914, 0.8687543889225586], \"type\": \"scatter3d\"}, {\"mode\": \"lines\", \"name\": \"Reconstructed\", \"x\": [0.600049614906311, -0.7809175252914429, null, 0.600049614906311, 0.875862717628479, null, 0.600049614906311, 0.3285384774208069, null, -0.7809175252914429, -1.0524287223815918, null, 0.875862717628479, 0.6043525338172913, null, 0.3285384774208069, -1.0524287223815918, null, 0.3285384774208069, 0.6043525338172913, null, -1.0524287223815918, -0.5754570960998535, null, -0.5754570960998535, 0.6043525338172913, null], \"y\": [-0.1792041956815701, -0.5887819544629145, null, -0.1792041956815701, -0.4711372032434097, null, -0.1792041956815701, 0.6624010132135849, null, -0.5887819544629145, 0.24708572787791686, null, -0.4711372032434097, 0.3818077626524986, null, 0.6624010132135849, 0.24708572787791686, null, 0.6624010132135849, 0.3818077626524986, null, 0.24708572787791686, -0.05217094300887928, null, -0.05217094300887928, 0.3818077626524986, null], \"z\": [-0.99205468267734, -0.5884700858258062, null, -0.99205468267734, 0.5628286256688366, null, -0.99205468267734, -0.6734553504759044, null, -0.5884700858258062, -0.2634579549528555, null, 0.5628286256688366, 0.8687543889225586, null, -0.6734553504759044, -0.2634579549528555, null, -0.6734553504759044, 0.8687543889225586, null, -0.2634579549528555, 1.085855229852914, null, 1.085855229852914, 0.8687543889225586, null], \"type\": \"scatter3d\"}], \"traces\": [0, 1, 2, 3]}, {\"data\": [{\"mode\": \"markers\", \"name\": \"Original\", \"x\": [0.600049614906311, -0.7809175252914429, 0.875862717628479, 0.3285384774208069, -1.0524287223815918, -0.5754570960998535, 0.6043525338172913], \"y\": [-0.16522479064637255, -0.7126812034401997, -0.519258116304737, 0.7590148190749039, 0.21155764298062707, 0.02161251823687284, 0.4049813572835122], \"z\": [-0.9528979067158753, -0.46477706200002267, 0.5449762550691385, -0.6844521520165082, -0.19633072328183748, 0.9400565421832588, 0.8134232309855673], \"type\": \"scatter3d\"}, {\"mode\": \"lines\", \"name\": \"Original\", \"x\": [0.600049614906311, -0.7809175252914429, null, 0.600049614906311, 0.875862717628479, null, 0.600049614906311, 0.3285384774208069, null, -0.7809175252914429, -1.0524287223815918, null, 0.875862717628479, 0.6043525338172913, null, 0.3285384774208069, -1.0524287223815918, null, 0.3285384774208069, 0.6043525338172913, null, -1.0524287223815918, -0.5754570960998535, null, -0.5754570960998535, 0.6043525338172913, null], \"y\": [-0.16522479064637255, -0.7126812034401997, null, -0.16522479064637255, -0.519258116304737, null, -0.16522479064637255, 0.7590148190749039, null, -0.7126812034401997, 0.21155764298062707, null, -0.519258116304737, 0.4049813572835122, null, 0.7590148190749039, 0.21155764298062707, null, 0.7590148190749039, 0.4049813572835122, null, 0.21155764298062707, 0.02161251823687284, null, 0.02161251823687284, 0.4049813572835122, null], \"z\": [-0.9528979067158753, -0.46477706200002267, null, -0.9528979067158753, 0.5449762550691385, null, -0.9528979067158753, -0.6844521520165082, null, -0.46477706200002267, -0.19633072328183748, null, 0.5449762550691385, 0.8134232309855673, null, -0.6844521520165082, -0.19633072328183748, null, -0.6844521520165082, 0.8134232309855673, null, -0.19633072328183748, 0.9400565421832588, null, 0.9400565421832588, 0.8134232309855673, null], \"type\": \"scatter3d\"}, {\"mode\": \"markers\", \"name\": \"Reconstructed\", \"x\": [0.600049614906311, -0.7809175252914429, 0.875862717628479, 0.3285384774208069, -1.0524287223815918, -0.5754570960998535, 0.6043525338172913], \"y\": [-0.11592340316902092, -0.5502734664573569, -0.5058854491619842, 0.7037805637095017, 0.26329780053633145, -0.1209351008786873, 0.32593925153642084], \"z\": [-1.0014231881525557, -0.6246281645315119, 0.531814101428752, -0.6300873983311706, -0.2472563835002669, 1.0803601662727214, 0.891221050133912], \"type\": \"scatter3d\"}, {\"mode\": \"lines\", \"name\": \"Reconstructed\", \"x\": [0.600049614906311, -0.7809175252914429, null, 0.600049614906311, 0.875862717628479, null, 0.600049614906311, 0.3285384774208069, null, -0.7809175252914429, -1.0524287223815918, null, 0.875862717628479, 0.6043525338172913, null, 0.3285384774208069, -1.0524287223815918, null, 0.3285384774208069, 0.6043525338172913, null, -1.0524287223815918, -0.5754570960998535, null, -0.5754570960998535, 0.6043525338172913, null], \"y\": [-0.11592340316902092, -0.5502734664573569, null, -0.11592340316902092, -0.5058854491619842, null, -0.11592340316902092, 0.7037805637095017, null, -0.5502734664573569, 0.26329780053633145, null, -0.5058854491619842, 0.32593925153642084, null, 0.7037805637095017, 0.26329780053633145, null, 0.7037805637095017, 0.32593925153642084, null, 0.26329780053633145, -0.1209351008786873, null, -0.1209351008786873, 0.32593925153642084, null], \"z\": [-1.0014231881525557, -0.6246281645315119, null, -1.0014231881525557, 0.531814101428752, null, -1.0014231881525557, -0.6300873983311706, null, -0.6246281645315119, -0.2472563835002669, null, 0.531814101428752, 0.891221050133912, null, -0.6300873983311706, -0.2472563835002669, null, -0.6300873983311706, 0.891221050133912, null, -0.2472563835002669, 1.0803601662727214, null, 1.0803601662727214, 0.891221050133912, null], \"type\": \"scatter3d\"}], \"traces\": [0, 1, 2, 3]}, {\"data\": [{\"mode\": \"markers\", \"name\": \"Original\", \"x\": [0.600049614906311, -0.7809175252914429, 0.875862717628479, 0.3285384774208069, -1.0524287223815918, -0.5754570960998535, 0.6043525338172913], \"y\": [-0.10445561941148027, -0.6817683625667643, -0.5527772119382559, 0.8008973149797294, 0.2235837730200039, -0.03805306535865396, 0.35257550913963365], \"z\": [-0.9614586187876202, -0.5090423507935044, 0.5109456565030128, -0.6349344334918356, -0.18251763106622682, 0.9395346548493537, 0.8374710519230641], \"type\": \"scatter3d\"}, {\"mode\": \"lines\", \"name\": \"Original\", \"x\": [0.600049614906311, -0.7809175252914429, null, 0.600049614906311, 0.875862717628479, null, 0.600049614906311, 0.3285384774208069, null, -0.7809175252914429, -1.0524287223815918, null, 0.875862717628479, 0.6043525338172913, null, 0.3285384774208069, -1.0524287223815918, null, 0.3285384774208069, 0.6043525338172913, null, -1.0524287223815918, -0.5754570960998535, null, -0.5754570960998535, 0.6043525338172913, null], \"y\": [-0.10445561941148027, -0.6817683625667643, null, -0.10445561941148027, -0.5527772119382559, null, -0.10445561941148027, 0.8008973149797294, null, -0.6817683625667643, 0.2235837730200039, null, -0.5527772119382559, 0.35257550913963365, null, 0.8008973149797294, 0.2235837730200039, null, 0.8008973149797294, 0.35257550913963365, null, 0.2235837730200039, -0.03805306535865396, null, -0.03805306535865396, 0.35257550913963365, null], \"z\": [-0.9614586187876202, -0.5090423507935044, null, -0.9614586187876202, 0.5109456565030128, null, -0.9614586187876202, -0.6349344334918356, null, -0.5090423507935044, -0.18251763106622682, null, 0.5109456565030128, 0.8374710519230641, null, -0.6349344334918356, -0.18251763106622682, null, -0.6349344334918356, 0.8374710519230641, null, -0.18251763106622682, 0.9395346548493537, null, 0.9395346548493537, 0.8374710519230641, null], \"type\": \"scatter3d\"}, {\"mode\": \"markers\", \"name\": \"Reconstructed\", \"x\": [0.600049614906311, -0.7809175252914429, 0.875862717628479, 0.3285384774208069, -1.0524287223815918, -0.5754570960998535, 0.6043525338172913], \"y\": [-0.052175828026353344, -0.5095492214179667, -0.5385966729259001, 0.7423262382703247, 0.2784496658813041, -0.18921229578054674, 0.2687582980926342], \"z\": [-1.0067593158951549, -0.6582710860772675, 0.4986581495026872, -0.5841823066187783, -0.23005919785892268, 1.0705148736093373, 0.9100990787272921], \"type\": \"scatter3d\"}, {\"mode\": \"lines\", \"name\": \"Reconstructed\", \"x\": [0.600049614906311, -0.7809175252914429, null, 0.600049614906311, 0.875862717628479, null, 0.600049614906311, 0.3285384774208069, null, -0.7809175252914429, -1.0524287223815918, null, 0.875862717628479, 0.6043525338172913, null, 0.3285384774208069, -1.0524287223815918, null, 0.3285384774208069, 0.6043525338172913, null, -1.0524287223815918, -0.5754570960998535, null, -0.5754570960998535, 0.6043525338172913, null], \"y\": [-0.052175828026353344, -0.5095492214179667, null, -0.052175828026353344, -0.5385966729259001, null, -0.052175828026353344, 0.7423262382703247, null, -0.5095492214179667, 0.2784496658813041, null, -0.5385966729259001, 0.2687582980926342, null, 0.7423262382703247, 0.2784496658813041, null, 0.7423262382703247, 0.2687582980926342, null, 0.2784496658813041, -0.18921229578054674, null, -0.18921229578054674, 0.2687582980926342, null], \"z\": [-1.0067593158951549, -0.6582710860772675, null, -1.0067593158951549, 0.4986581495026872, null, -1.0067593158951549, -0.5841823066187783, null, -0.6582710860772675, -0.23005919785892268, null, 0.4986581495026872, 0.9100990787272921, null, -0.5841823066187783, -0.23005919785892268, null, -0.5841823066187783, 0.9100990787272921, null, -0.23005919785892268, 1.0705148736093373, null, 1.0705148736093373, 0.9100990787272921, null], \"type\": \"scatter3d\"}], \"traces\": [0, 1, 2, 3]}, {\"data\": [{\"mode\": \"markers\", \"name\": \"Original\", \"x\": [0.600049614906311, -0.7809175252914429, 0.875862717628479, 0.3285384774208069, -1.0524287223815918, -0.5754570960998535, 0.6043525338172913], \"y\": [-0.04326584226417752, -0.6481102811231676, -0.5840704688385723, 0.8395548800688487, 0.23470961011792874, -0.09756542269057412, 0.2987499638597782], \"z\": [-0.9661478763423359, -0.5512579057036666, 0.47485766011323505, -0.5828600580996429, -0.1679696047687729, 0.9352295930632721, 0.8581466725146562], \"type\": \"scatter3d\"}, {\"mode\": \"lines\", \"name\": \"Original\", \"x\": [0.600049614906311, -0.7809175252914429, null, 0.600049614906311, 0.875862717628479, null, 0.600049614906311, 0.3285384774208069, null, -0.7809175252914429, -1.0524287223815918, null, 0.875862717628479, 0.6043525338172913, null, 0.3285384774208069, -1.0524287223815918, null, 0.3285384774208069, 0.6043525338172913, null, -1.0524287223815918, -0.5754570960998535, null, -0.5754570960998535, 0.6043525338172913, null], \"y\": [-0.04326584226417752, -0.6481102811231676, null, -0.04326584226417752, -0.5840704688385723, null, -0.04326584226417752, 0.8395548800688487, null, -0.6481102811231676, 0.23470961011792874, null, -0.5840704688385723, 0.2987499638597782, null, 0.8395548800688487, 0.23470961011792874, null, 0.8395548800688487, 0.2987499638597782, null, 0.23470961011792874, -0.09756542269057412, null, -0.09756542269057412, 0.2987499638597782, null], \"z\": [-0.9661478763423359, -0.5512579057036666, null, -0.9661478763423359, 0.47485766011323505, null, -0.9661478763423359, -0.5828600580996429, null, -0.5512579057036666, -0.1679696047687729, null, 0.47485766011323505, 0.8581466725146562, null, -0.5828600580996429, -0.1679696047687729, null, -0.5828600580996429, 0.8581466725146562, null, -0.1679696047687729, 0.9352295930632721, null, 0.9352295930632721, 0.8581466725146562, null], \"type\": \"scatter3d\"}, {\"mode\": \"markers\", \"name\": \"Reconstructed\", \"x\": [0.600049614906311, -0.7809175252914429, 0.875862717628479, 0.3285384774208069, -1.0524287223815918, -0.5754570960998535, 0.6043525338172913], \"y\": [0.011781840760643416, -0.4667732015061486, -0.5691391579822832, 0.7778828270690535, 0.2924803126988474, -0.25672759954859914, 0.2104951498389945], \"z\": [-1.0080415792020718, -0.6892633822920681, 0.4634942772068614, -0.5359249189411368, -0.21193564502576076, 1.0563589953814823, 0.9253124595444364], \"type\": \"scatter3d\"}, {\"mode\": \"lines\", \"name\": \"Reconstructed\", \"x\": [0.600049614906311, -0.7809175252914429, null, 0.600049614906311, 0.875862717628479, null, 0.600049614906311, 0.3285384774208069, null, -0.7809175252914429, -1.0524287223815918, null, 0.875862717628479, 0.6043525338172913, null, 0.3285384774208069, -1.0524287223815918, null, 0.3285384774208069, 0.6043525338172913, null, -1.0524287223815918, -0.5754570960998535, null, -0.5754570960998535, 0.6043525338172913, null], \"y\": [0.011781840760643416, -0.4667732015061486, null, 0.011781840760643416, -0.5691391579822832, null, 0.011781840760643416, 0.7778828270690535, null, -0.4667732015061486, 0.2924803126988474, null, -0.5691391579822832, 0.2104951498389945, null, 0.7778828270690535, 0.2924803126988474, null, 0.7778828270690535, 0.2104951498389945, null, 0.2924803126988474, -0.25672759954859914, null, -0.25672759954859914, 0.2104951498389945, null], \"z\": [-1.0080415792020718, -0.6892633822920681, null, -1.0080415792020718, 0.4634942772068614, null, -1.0080415792020718, -0.5359249189411368, null, -0.6892633822920681, -0.21193564502576076, null, 0.4634942772068614, 0.9253124595444364, null, -0.5359249189411368, -0.21193564502576076, null, -0.5359249189411368, 0.9253124595444364, null, -0.21193564502576076, 1.0563589953814823, null, 1.0563589953814823, 0.9253124595444364, null], \"type\": \"scatter3d\"}], \"traces\": [0, 1, 2, 3]}, {\"data\": [{\"mode\": \"markers\", \"name\": \"Original\", \"x\": [0.600049614906311, -0.7809175252914429, 0.875862717628479, 0.3285384774208069, -1.0524287223815918, -0.5754570960998535, 0.6043525338172913], \"y\": [0.018098151159513173, -0.6118424883239736, -0.613011880104908, 0.874831853971594, 0.24489035445520302, -0.15668491850042696, 0.2437214579173982], \"z\": [-0.9669467973948939, -0.5912537395906029, 0.43685757952423376, -0.528438710970309, -0.15274522415674063, 0.9271586917893824, 0.8753668393335525], \"type\": \"scatter3d\"}, {\"mode\": \"lines\", \"name\": \"Original\", \"x\": [0.600049614906311, -0.7809175252914429, null, 0.600049614906311, 0.875862717628479, null, 0.600049614906311, 0.3285384774208069, null, -0.7809175252914429, -1.0524287223815918, null, 0.875862717628479, 0.6043525338172913, null, 0.3285384774208069, -1.0524287223815918, null, 0.3285384774208069, 0.6043525338172913, null, -1.0524287223815918, -0.5754570960998535, null, -0.5754570960998535, 0.6043525338172913, null], \"y\": [0.018098151159513173, -0.6118424883239736, null, 0.018098151159513173, -0.613011880104908, null, 0.018098151159513173, 0.874831853971594, null, -0.6118424883239736, 0.24489035445520302, null, -0.613011880104908, 0.2437214579173982, null, 0.874831853971594, 0.24489035445520302, null, 0.874831853971594, 0.2437214579173982, null, 0.24489035445520302, -0.15668491850042696, null, -0.15668491850042696, 0.2437214579173982, null], \"z\": [-0.9669467973948939, -0.5912537395906029, null, -0.9669467973948939, 0.43685757952423376, null, -0.9669467973948939, -0.528438710970309, null, -0.5912537395906029, -0.15274522415674063, null, 0.43685757952423376, 0.8753668393335525, null, -0.528438710970309, -0.15274522415674063, null, -0.528438710970309, 0.8753668393335525, null, -0.15274522415674063, 0.9271586917893824, null, 0.9271586917893824, 0.8753668393335525, null], \"type\": \"scatter3d\"}, {\"mode\": \"markers\", \"name\": \"Reconstructed\", \"x\": [0.600049614906311, -0.7809175252914429, 0.875862717628479, 0.3285384774208069, -1.0524287223815918, -0.5754570960998535, 0.6043525338172913], \"y\": [0.07569206823322386, -0.4221176506565586, -0.597389920523591, 0.8103071562720717, 0.3053332445262562, -0.32320915188367544, 0.15138441190990531], \"z\": [-1.0052648148515362, -0.7174802581375943, 0.426464077044141, -0.48550955076628055, -0.1929587021514456, 1.0379495323145513, 0.936799933670262], \"type\": \"scatter3d\"}, {\"mode\": \"lines\", \"name\": \"Reconstructed\", \"x\": [0.600049614906311, -0.7809175252914429, null, 0.600049614906311, 0.875862717628479, null, 0.600049614906311, 0.3285384774208069, null, -0.7809175252914429, -1.0524287223815918, null, 0.875862717628479, 0.6043525338172913, null, 0.3285384774208069, -1.0524287223815918, null, 0.3285384774208069, 0.6043525338172913, null, -1.0524287223815918, -0.5754570960998535, null, -0.5754570960998535, 0.6043525338172913, null], \"y\": [0.07569206823322386, -0.4221176506565586, null, 0.07569206823322386, -0.597389920523591, null, 0.07569206823322386, 0.8103071562720717, null, -0.4221176506565586, 0.3053332445262562, null, -0.597389920523591, 0.15138441190990531, null, 0.8103071562720717, 0.3053332445262562, null, 0.8103071562720717, 0.15138441190990531, null, 0.3053332445262562, -0.32320915188367544, null, -0.32320915188367544, 0.15138441190990531, null], \"z\": [-1.0052648148515362, -0.7174802581375943, null, -1.0052648148515362, 0.426464077044141, null, -1.0052648148515362, -0.48550955076628055, null, -0.7174802581375943, -0.1929587021514456, null, 0.426464077044141, 0.936799933670262, null, -0.48550955076628055, -0.1929587021514456, null, -0.48550955076628055, 0.936799933670262, null, -0.1929587021514456, 1.0379495323145513, null, 1.0379495323145513, 0.936799933670262, null], \"type\": \"scatter3d\"}], \"traces\": [0, 1, 2, 3]}, {\"data\": [{\"mode\": \"markers\", \"name\": \"Original\", \"x\": [0.600049614906311, -0.7809175252914429, 0.875862717628479, 0.3285384774208069, -1.0524287223815918, -0.5754570960998535, 0.6043525338172913], \"y\": [0.07938926971611507, -0.5731110217702919, -0.6394849088887848, 0.9065861887648476, 0.2540850117676109, -0.21517349944444497, 0.1877115716839538], \"z\": [-0.9638521649721892, -0.6288688033475313, 0.3970984276486483, -0.4718895276610471, -0.136905792437504, 0.9153544496985393, 0.889062212845724], \"type\": \"scatter3d\"}, {\"mode\": \"lines\", \"name\": \"Original\", \"x\": [0.600049614906311, -0.7809175252914429, null, 0.600049614906311, 0.875862717628479, null, 0.600049614906311, 0.3285384774208069, null, -0.7809175252914429, -1.0524287223815918, null, 0.875862717628479, 0.6043525338172913, null, 0.3285384774208069, -1.0524287223815918, null, 0.3285384774208069, 0.6043525338172913, null, -1.0524287223815918, -0.5754570960998535, null, -0.5754570960998535, 0.6043525338172913, null], \"y\": [0.07938926971611507, -0.5731110217702919, null, 0.07938926971611507, -0.6394849088887848, null, 0.07938926971611507, 0.9065861887648476, null, -0.5731110217702919, 0.2540850117676109, null, -0.6394849088887848, 0.1877115716839538, null, 0.9065861887648476, 0.2540850117676109, null, 0.9065861887648476, 0.1877115716839538, null, 0.2540850117676109, -0.21517349944444497, null, -0.21517349944444497, 0.1877115716839538, null], \"z\": [-0.9638521649721892, -0.6288688033475313, null, -0.9638521649721892, 0.3970984276486483, null, -0.9638521649721892, -0.4718895276610471, null, -0.6288688033475313, -0.136905792437504, null, 0.3970984276486483, 0.889062212845724, null, -0.4718895276610471, -0.136905792437504, null, -0.4718895276610471, 0.889062212845724, null, -0.136905792437504, 0.9153544496985393, null, 0.9153544496985393, 0.889062212845724, null], \"type\": \"scatter3d\"}, {\"mode\": \"markers\", \"name\": \"Reconstructed\", \"x\": [0.600049614906311, -0.7809175252914429, 0.875862717628479, 0.3285384774208069, -1.0524287223815918, -0.5754570960998535, 0.6043525338172913], \"y\": [0.13929751046207384, -0.37576238101156845, -0.6232352047000005, 0.8394686645496443, 0.31695670714342394, -0.38838925503877314, 0.09166410238423886], \"z\": [-0.9984402038935454, -0.7428080942137869, 0.3877166565610018, -0.4331392069880582, -0.17320478268713776, 1.015360612818809, 0.9445152451008967], \"type\": \"scatter3d\"}, {\"mode\": \"lines\", \"name\": \"Reconstructed\", \"x\": [0.600049614906311, -0.7809175252914429, null, 0.600049614906311, 0.875862717628479, null, 0.600049614906311, 0.3285384774208069, null, -0.7809175252914429, -1.0524287223815918, null, 0.875862717628479, 0.6043525338172913, null, 0.3285384774208069, -1.0524287223815918, null, 0.3285384774208069, 0.6043525338172913, null, -1.0524287223815918, -0.5754570960998535, null, -0.5754570960998535, 0.6043525338172913, null], \"y\": [0.13929751046207384, -0.37576238101156845, null, 0.13929751046207384, -0.6232352047000005, null, 0.13929751046207384, 0.8394686645496443, null, -0.37576238101156845, 0.31695670714342394, null, -0.6232352047000005, 0.09166410238423886, null, 0.8394686645496443, 0.31695670714342394, null, 0.8394686645496443, 0.09166410238423886, null, 0.31695670714342394, -0.38838925503877314, null, -0.38838925503877314, 0.09166410238423886, null], \"z\": [-0.9984402038935454, -0.7428080942137869, null, -0.9984402038935454, 0.3877166565610018, null, -0.9984402038935454, -0.4331392069880582, null, -0.7428080942137869, -0.17320478268713776, null, 0.3877166565610018, 0.9445152451008967, null, -0.4331392069880582, -0.17320478268713776, null, -0.4331392069880582, 0.9445152451008967, null, -0.17320478268713776, 1.015360612818809, null, 1.015360612818809, 0.9445152451008967, null], \"type\": \"scatter3d\"}], \"traces\": [0, 1, 2, 3]}, {\"data\": [{\"mode\": \"markers\", \"name\": \"Original\", \"x\": [0.600049614906311, -0.7809175252914429, 0.875862717628479, 0.3285384774208069, -1.0524287223815918, -0.5754570960998535, 0.6043525338172913], \"y\": [0.14036071570351738, -0.5320718394079059, -0.6633829576467801, 0.9346900209498911, 0.26225655841535217, -0.2727956526503453, 0.13094583720296848], \"z\": [-0.9568764400667574, -0.6639516343887042, 0.355740300558338, -0.41344021177436324, -0.12051508941216812, 0.8998643983074096, 0.8991776466157336], \"type\": \"scatter3d\"}, {\"mode\": \"lines\", \"name\": \"Original\", \"x\": [0.600049614906311, -0.7809175252914429, null, 0.600049614906311, 0.875862717628479, null, 0.600049614906311, 0.3285384774208069, null, -0.7809175252914429, -1.0524287223815918, null, 0.875862717628479, 0.6043525338172913, null, 0.3285384774208069, -1.0524287223815918, null, 0.3285384774208069, 0.6043525338172913, null, -1.0524287223815918, -0.5754570960998535, null, -0.5754570960998535, 0.6043525338172913, null], \"y\": [0.14036071570351738, -0.5320718394079059, null, 0.14036071570351738, -0.6633829576467801, null, 0.14036071570351738, 0.9346900209498911, null, -0.5320718394079059, 0.26225655841535217, null, -0.6633829576467801, 0.13094583720296848, null, 0.9346900209498911, 0.26225655841535217, null, 0.9346900209498911, 0.13094583720296848, null, 0.26225655841535217, -0.2727956526503453, null, -0.2727956526503453, 0.13094583720296848, null], \"z\": [-0.9568764400667574, -0.6639516343887042, null, -0.9568764400667574, 0.355740300558338, null, -0.9568764400667574, -0.41344021177436324, null, -0.6639516343887042, -0.12051508941216812, null, 0.355740300558338, 0.8991776466157336, null, -0.41344021177436324, -0.12051508941216812, null, -0.41344021177436324, 0.8991776466157336, null, -0.12051508941216812, 0.8998643983074096, null, 0.8998643983074096, 0.8991776466157336, null], \"type\": \"scatter3d\"}, {\"mode\": \"markers\", \"name\": \"Reconstructed\", \"x\": [0.600049614906311, -0.7809175252914429, 0.875862717628479, 0.3285384774208069, -1.0524287223815918, -0.5754570960998535, 0.6043525338172913], \"y\": [0.2023420507804805, -0.3278940488812363, -0.6465709406740647, 0.8652499288003093, 0.32730389696881973, -0.4520054517433963, 0.03157469387054568], \"z\": [-0.987595226627724, -0.7651449042640687, 0.34740803794407005, -0.3790247644970799, -0.15275342869449793, 0.9886831945004471, 0.9484273270002802], \"type\": \"scatter3d\"}, {\"mode\": \"lines\", \"name\": \"Reconstructed\", \"x\": [0.600049614906311, -0.7809175252914429, null, 0.600049614906311, 0.875862717628479, null, 0.600049614906311, 0.3285384774208069, null, -0.7809175252914429, -1.0524287223815918, null, 0.875862717628479, 0.6043525338172913, null, 0.3285384774208069, -1.0524287223815918, null, 0.3285384774208069, 0.6043525338172913, null, -1.0524287223815918, -0.5754570960998535, null, -0.5754570960998535, 0.6043525338172913, null], \"y\": [0.2023420507804805, -0.3278940488812363, null, 0.2023420507804805, -0.6465709406740647, null, 0.2023420507804805, 0.8652499288003093, null, -0.3278940488812363, 0.32730389696881973, null, -0.6465709406740647, 0.03157469387054568, null, 0.8652499288003093, 0.32730389696881973, null, 0.8652499288003093, 0.03157469387054568, null, 0.32730389696881973, -0.4520054517433963, null, -0.4520054517433963, 0.03157469387054568, null], \"z\": [-0.987595226627724, -0.7651449042640687, null, -0.987595226627724, 0.34740803794407005, null, -0.987595226627724, -0.3790247644970799, null, -0.7651449042640687, -0.15275342869449793, null, 0.34740803794407005, 0.9484273270002802, null, -0.3790247644970799, -0.15275342869449793, null, -0.3790247644970799, 0.9484273270002802, null, -0.15275342869449793, 0.9886831945004471, null, 0.9886831945004471, 0.9484273270002802, null], \"type\": \"scatter3d\"}], \"traces\": [0, 1, 2, 3]}, {\"data\": [{\"mode\": \"markers\", \"name\": \"Original\", \"x\": [0.600049614906311, -0.7809175252914429, 0.875862717628479, 0.3285384774208069, -1.0524287223815918, -0.5754570960998535, 0.6043525338172913], \"y\": [0.20076697862822157, -0.48889019153966456, -0.684609797371213, 0.9590301863135879, 0.26937209046417293, -0.3293193540445483, 0.07365283005208413], \"z\": [-0.9460477114607537, -0.6963609665357859, 0.31294973283400157, -0.35332611807601055, -0.1036391146568193, 0.8807509105858282, 0.9056724093619691], \"type\": \"scatter3d\"}, {\"mode\": \"lines\", \"name\": \"Original\", \"x\": [0.600049614906311, -0.7809175252914429, null, 0.600049614906311, 0.875862717628479, null, 0.600049614906311, 0.3285384774208069, null, -0.7809175252914429, -1.0524287223815918, null, 0.875862717628479, 0.6043525338172913, null, 0.3285384774208069, -1.0524287223815918, null, 0.3285384774208069, 0.6043525338172913, null, -1.0524287223815918, -0.5754570960998535, null, -0.5754570960998535, 0.6043525338172913, null], \"y\": [0.20076697862822157, -0.48889019153966456, null, 0.20076697862822157, -0.684609797371213, null, 0.20076697862822157, 0.9590301863135879, null, -0.48889019153966456, 0.26937209046417293, null, -0.684609797371213, 0.07365283005208413, null, 0.9590301863135879, 0.26937209046417293, null, 0.9590301863135879, 0.07365283005208413, null, 0.26937209046417293, -0.3293193540445483, null, -0.3293193540445483, 0.07365283005208413, null], \"z\": [-0.9460477114607537, -0.6963609665357859, null, -0.9460477114607537, 0.31294973283400157, null, -0.9460477114607537, -0.35332611807601055, null, -0.6963609665357859, -0.1036391146568193, null, 0.31294973283400157, 0.9056724093619691, null, -0.35332611807601055, -0.1036391146568193, null, -0.35332611807601055, 0.9056724093619691, null, -0.1036391146568193, 0.8807509105858282, null, 0.8807509105858282, 0.9056724093619691, null], \"type\": \"scatter3d\"}, {\"mode\": \"markers\", \"name\": \"Reconstructed\", \"x\": [0.600049614906311, -0.7809175252914429, 0.875862717628479, 0.3285384774208069, -1.0524287223815918, -0.5754570960998535, 0.6043525338172913], \"y\": [0.26457183107576016, -0.27870540314422076, -0.6673031636732192, 0.8875471369722663, 0.336333149520993, -0.5138015820263564, -0.02864185479127272], \"z\": [-0.972773551949854, -0.784400745838005, 0.3057005297738397, -0.3233841230539007, -0.13168699055787614, 0.9580246979074045, 0.9485204267953488], \"type\": \"scatter3d\"}, {\"mode\": \"lines\", \"name\": \"Reconstructed\", \"x\": [0.600049614906311, -0.7809175252914429, null, 0.600049614906311, 0.875862717628479, null, 0.600049614906311, 0.3285384774208069, null, -0.7809175252914429, -1.0524287223815918, null, 0.875862717628479, 0.6043525338172913, null, 0.3285384774208069, -1.0524287223815918, null, 0.3285384774208069, 0.6043525338172913, null, -1.0524287223815918, -0.5754570960998535, null, -0.5754570960998535, 0.6043525338172913, null], \"y\": [0.26457183107576016, -0.27870540314422076, null, 0.26457183107576016, -0.6673031636732192, null, 0.26457183107576016, 0.8875471369722663, null, -0.27870540314422076, 0.336333149520993, null, -0.6673031636732192, -0.02864185479127272, null, 0.8875471369722663, 0.336333149520993, null, 0.8875471369722663, -0.02864185479127272, null, 0.336333149520993, -0.5138015820263564, null, -0.5138015820263564, -0.02864185479127272, null], \"z\": [-0.972773551949854, -0.784400745838005, null, -0.972773551949854, 0.3057005297738397, null, -0.972773551949854, -0.3233841230539007, null, -0.784400745838005, -0.13168699055787614, null, 0.3057005297738397, 0.9485204267953488, null, -0.3233841230539007, -0.13168699055787614, null, -0.3233841230539007, 0.9485204267953488, null, -0.13168699055787614, 0.9580246979074045, null, 0.9580246979074045, 0.9485204267953488, null], \"type\": \"scatter3d\"}], \"traces\": [0, 1, 2, 3]}, {\"data\": [{\"mode\": \"markers\", \"name\": \"Original\", \"x\": [0.600049614906311, -0.7809175252914429, 0.875862717628479, 0.3285384774208069, -1.0524287223815918, -0.5754570960998535, 0.6043525338172913], \"y\": [0.26036482378944403, -0.44373995542083966, -0.703079955070394, 0.9795086756007283, 0.2754029561778953, -0.384517002631228, 0.01606324894988746], \"z\": [-0.9314095826223424, -0.7259662988468921, 0.2688990269892008, -0.2917893048044175, -0.08634582176552719, 0.8580909498028635, 0.9085203489671375], \"type\": \"scatter3d\"}, {\"mode\": \"lines\", \"name\": \"Original\", \"x\": [0.600049614906311, -0.7809175252914429, null, 0.600049614906311, 0.875862717628479, null, 0.600049614906311, 0.3285384774208069, null, -0.7809175252914429, -1.0524287223815918, null, 0.875862717628479, 0.6043525338172913, null, 0.3285384774208069, -1.0524287223815918, null, 0.3285384774208069, 0.6043525338172913, null, -1.0524287223815918, -0.5754570960998535, null, -0.5754570960998535, 0.6043525338172913, null], \"y\": [0.26036482378944403, -0.44373995542083966, null, 0.26036482378944403, -0.703079955070394, null, 0.26036482378944403, 0.9795086756007283, null, -0.44373995542083966, 0.2754029561778953, null, -0.703079955070394, 0.01606324894988746, null, 0.9795086756007283, 0.2754029561778953, null, 0.9795086756007283, 0.01606324894988746, null, 0.2754029561778953, -0.384517002631228, null, -0.384517002631228, 0.01606324894988746, null], \"z\": [-0.9314095826223424, -0.7259662988468921, null, -0.9314095826223424, 0.2688990269892008, null, -0.9314095826223424, -0.2917893048044175, null, -0.7259662988468921, -0.08634582176552719, null, 0.2688990269892008, 0.9085203489671375, null, -0.2917893048044175, -0.08634582176552719, null, -0.2917893048044175, 0.9085203489671375, null, -0.08634582176552719, 0.8580909498028635, null, 0.8580909498028635, 0.9085203489671375, null], \"type\": \"scatter3d\"}, {\"mode\": \"markers\", \"name\": \"Reconstructed\", \"x\": [0.600049614906311, -0.7809175252914429, 0.875862717628479, 0.3285384774208069, -1.0524287223815918, -0.5754570960998535, 0.6043525338172913], \"y\": [0.32573627398627686, -0.22839450911607878, -0.685348392352755, 0.9062705060778674, 0.3440081071867347, -0.5735288146815632, -0.08874307281281082], \"z\": [-0.9540348615126457, -0.8004980824578074, 0.2627620734653072, -0.26644132788359454, -0.11009029538838054, 0.9235085739847364, 0.9447941696060868], \"type\": \"scatter3d\"}, {\"mode\": \"lines\", \"name\": \"Reconstructed\", \"x\": [0.600049614906311, -0.7809175252914429, null, 0.600049614906311, 0.875862717628479, null, 0.600049614906311, 0.3285384774208069, null, -0.7809175252914429, -1.0524287223815918, null, 0.875862717628479, 0.6043525338172913, null, 0.3285384774208069, -1.0524287223815918, null, 0.3285384774208069, 0.6043525338172913, null, -1.0524287223815918, -0.5754570960998535, null, -0.5754570960998535, 0.6043525338172913, null], \"y\": [0.32573627398627686, -0.22839450911607878, null, 0.32573627398627686, -0.685348392352755, null, 0.32573627398627686, 0.9062705060778674, null, -0.22839450911607878, 0.3440081071867347, null, -0.685348392352755, -0.08874307281281082, null, 0.9062705060778674, 0.3440081071867347, null, 0.9062705060778674, -0.08874307281281082, null, 0.3440081071867347, -0.5735288146815632, null, -0.5735288146815632, -0.08874307281281082, null], \"z\": [-0.9540348615126457, -0.8004980824578074, null, -0.9540348615126457, 0.2627620734653072, null, -0.9540348615126457, -0.26644132788359454, null, -0.8004980824578074, -0.11009029538838054, null, 0.2627620734653072, 0.9447941696060868, null, -0.26644132788359454, -0.11009029538838054, null, -0.26644132788359454, 0.9447941696060868, null, -0.11009029538838054, 0.9235085739847364, null, 0.9235085739847364, 0.9447941696060868, null], \"type\": \"scatter3d\"}], \"traces\": [0, 1, 2, 3]}, {\"data\": [{\"mode\": \"markers\", \"name\": \"Original\", \"x\": [0.600049614906311, -0.7809175252914429, 0.875862717628479, 0.3285384774208069, -1.0524287223815918, -0.5754570960998535, 0.6043525338172913], \"y\": [0.3189142716994094, -0.39680293511678666, -0.718719057938196, 0.9960430291627084, 0.2803248713888466, -0.43816633696119256, -0.041591013186407594], \"z\": [-0.913020996129919, -0.7526484210978238, 0.22376555966894995, -0.22907755898759313, -0.06870484472520481, 0.8319757596228959, 0.9077099977836113], \"type\": \"scatter3d\"}, {\"mode\": \"lines\", \"name\": \"Original\", \"x\": [0.600049614906311, -0.7809175252914429, null, 0.600049614906311, 0.875862717628479, null, 0.600049614906311, 0.3285384774208069, null, -0.7809175252914429, -1.0524287223815918, null, 0.875862717628479, 0.6043525338172913, null, 0.3285384774208069, -1.0524287223815918, null, 0.3285384774208069, 0.6043525338172913, null, -1.0524287223815918, -0.5754570960998535, null, -0.5754570960998535, 0.6043525338172913, null], \"y\": [0.3189142716994094, -0.39680293511678666, null, 0.3189142716994094, -0.718719057938196, null, 0.3189142716994094, 0.9960430291627084, null, -0.39680293511678666, 0.2803248713888466, null, -0.718719057938196, -0.041591013186407594, null, 0.9960430291627084, 0.2803248713888466, null, 0.9960430291627084, -0.041591013186407594, null, 0.2803248713888466, -0.43816633696119256, null, -0.43816633696119256, -0.041591013186407594, null], \"z\": [-0.913020996129919, -0.7526484210978238, null, -0.913020996129919, 0.22376555966894995, null, -0.913020996129919, -0.22907755898759313, null, -0.7526484210978238, -0.06870484472520481, null, 0.22376555966894995, 0.9077099977836113, null, -0.22907755898759313, -0.06870484472520481, null, -0.22907755898759313, 0.9077099977836113, null, -0.06870484472520481, 0.8319757596228959, null, 0.8319757596228959, 0.9077099977836113, null], \"type\": \"scatter3d\"}, {\"mode\": \"markers\", \"name\": \"Reconstructed\", \"x\": [0.600049614906311, -0.7809175252914429, 0.875862717628479, 0.3285384774208069, -1.0524287223815918, -0.5754570960998535, 0.6043525338172913], \"y\": [0.3855890918880399, -0.17716395101014454, -0.700633964945731, 0.9213446437180213, 0.35029786562035325, -0.6309466492234695, -0.14848695380144716], \"z\": [-0.9314546094087853, -0.8133720958303625, 0.21876556702716582, -0.20842566752470684, -0.0880503054550394, 0.8852738069812279, 0.937263559755036], \"type\": \"scatter3d\"}, {\"mode\": \"lines\", \"name\": \"Reconstructed\", \"x\": [0.600049614906311, -0.7809175252914429, null, 0.600049614906311, 0.875862717628479, null, 0.600049614906311, 0.3285384774208069, null, -0.7809175252914429, -1.0524287223815918, null, 0.875862717628479, 0.6043525338172913, null, 0.3285384774208069, -1.0524287223815918, null, 0.3285384774208069, 0.6043525338172913, null, -1.0524287223815918, -0.5754570960998535, null, -0.5754570960998535, 0.6043525338172913, null], \"y\": [0.3855890918880399, -0.17716395101014454, null, 0.3855890918880399, -0.700633964945731, null, 0.3855890918880399, 0.9213446437180213, null, -0.17716395101014454, 0.35029786562035325, null, -0.700633964945731, -0.14848695380144716, null, 0.9213446437180213, 0.35029786562035325, null, 0.9213446437180213, -0.14848695380144716, null, 0.35029786562035325, -0.6309466492234695, null, -0.6309466492234695, -0.14848695380144716, null], \"z\": [-0.9314546094087853, -0.8133720958303625, null, -0.9314546094087853, 0.21876556702716582, null, -0.9314546094087853, -0.20842566752470684, null, -0.8133720958303625, -0.0880503054550394, null, 0.21876556702716582, 0.937263559755036, null, -0.20842566752470684, -0.0880503054550394, null, -0.20842566752470684, 0.937263559755036, null, -0.0880503054550394, 0.8852738069812279, null, 0.8852738069812279, 0.937263559755036, null], \"type\": \"scatter3d\"}], \"traces\": [0, 1, 2, 3]}, {\"data\": [{\"mode\": \"markers\", \"name\": \"Original\", \"x\": [0.600049614906311, -0.7809175252914429, 0.875862717628479, 0.3285384774208069, -1.0524287223815918, -0.5754570960998535, 0.6043525338172913], \"y\": [0.3761795643960454, -0.34826812944214236, -0.7314641328270935, 1.0085666689934305, 0.2841180172816316, -0.49005133010029195, -0.09907780299188915], \"z\": [-0.8909559963311521, -0.7762998937995645, 0.1777310674165728, -0.16544339869222358, -0.0507872175241211, 0.8025104966995876, 0.9032446188095979], \"type\": \"scatter3d\"}, {\"mode\": \"lines\", \"name\": \"Original\", \"x\": [0.600049614906311, -0.7809175252914429, null, 0.600049614906311, 0.875862717628479, null, 0.600049614906311, 0.3285384774208069, null, -0.7809175252914429, -1.0524287223815918, null, 0.875862717628479, 0.6043525338172913, null, 0.3285384774208069, -1.0524287223815918, null, 0.3285384774208069, 0.6043525338172913, null, -1.0524287223815918, -0.5754570960998535, null, -0.5754570960998535, 0.6043525338172913, null], \"y\": [0.3761795643960454, -0.34826812944214236, null, 0.3761795643960454, -0.7314641328270935, null, 0.3761795643960454, 1.0085666689934305, null, -0.34826812944214236, 0.2841180172816316, null, -0.7314641328270935, -0.09907780299188915, null, 1.0085666689934305, 0.2841180172816316, null, 1.0085666689934305, -0.09907780299188915, null, 0.2841180172816316, -0.49005133010029195, null, -0.49005133010029195, -0.09907780299188915, null], \"z\": [-0.8909559963311521, -0.7762998937995645, null, -0.8909559963311521, 0.1777310674165728, null, -0.8909559963311521, -0.16544339869222358, null, -0.7762998937995645, -0.0507872175241211, null, 0.1777310674165728, 0.9032446188095979, null, -0.16544339869222358, -0.0507872175241211, null, -0.16544339869222358, 0.9032446188095979, null, -0.0507872175241211, 0.8025104966995876, null, 0.8025104966995876, 0.9032446188095979, null], \"type\": \"scatter3d\"}, {\"mode\": \"markers\", \"name\": \"Reconstructed\", \"x\": [0.600049614906311, -0.7809175252914429, 0.875862717628479, 0.3285384774208069, -1.0524287223815918, -0.5754570960998535, 0.6043525338172913], \"y\": [0.44388927860803623, -0.1252200162024057, -0.7130983318462626, 0.9327088516607732, 0.3551770981845675, -0.6858238842976404, -0.20763293023466933], \"z\": [-0.9051237183439362, -0.8229709468476214, 0.17388816886255037, -0.14957075056523852, -0.06565576801843777, 0.8434743548088803, 0.9259589203501849], \"type\": \"scatter3d\"}, {\"mode\": \"lines\", \"name\": \"Reconstructed\", \"x\": [0.600049614906311, -0.7809175252914429, null, 0.600049614906311, 0.875862717628479, null, 0.600049614906311, 0.3285384774208069, null, -0.7809175252914429, -1.0524287223815918, null, 0.875862717628479, 0.6043525338172913, null, 0.3285384774208069, -1.0524287223815918, null, 0.3285384774208069, 0.6043525338172913, null, -1.0524287223815918, -0.5754570960998535, null, -0.5754570960998535, 0.6043525338172913, null], \"y\": [0.44388927860803623, -0.1252200162024057, null, 0.44388927860803623, -0.7130983318462626, null, 0.44388927860803623, 0.9327088516607732, null, -0.1252200162024057, 0.3551770981845675, null, -0.7130983318462626, -0.20763293023466933, null, 0.9327088516607732, 0.3551770981845675, null, 0.9327088516607732, -0.20763293023466933, null, 0.3551770981845675, -0.6858238842976404, null, -0.6858238842976404, -0.20763293023466933, null], \"z\": [-0.9051237183439362, -0.8229709468476214, null, -0.9051237183439362, 0.17388816886255037, null, -0.9051237183439362, -0.14957075056523852, null, -0.8229709468476214, -0.06565576801843777, null, 0.17388816886255037, 0.9259589203501849, null, -0.14957075056523852, -0.06565576801843777, null, -0.14957075056523852, 0.9259589203501849, null, -0.06565576801843777, 0.8434743548088803, null, 0.8434743548088803, 0.9259589203501849, null], \"type\": \"scatter3d\"}], \"traces\": [0, 1, 2, 3]}, {\"data\": [{\"mode\": \"markers\", \"name\": \"Original\", \"x\": [0.600049614906311, -0.7809175252914429, 0.875862717628479, 0.3285384774208069, -1.0524287223815918, -0.5754570960998535, 0.6043525338172913], \"y\": [0.43193011475709175, -0.2983309709293007, -0.7412638598188042, 1.0170291668154374, 0.28676712019650724, -0.5399630594936409, -0.15616564145361553], \"z\": [-0.8653034311925267, -0.7968254808191846, 0.13098091488478186, -0.10114305622253712, -0.03266508812309972, 0.7698138072471493, 0.8951421925501982], \"type\": \"scatter3d\"}, {\"mode\": \"lines\", \"name\": \"Original\", \"x\": [0.600049614906311, -0.7809175252914429, null, 0.600049614906311, 0.875862717628479, null, 0.600049614906311, 0.3285384774208069, null, -0.7809175252914429, -1.0524287223815918, null, 0.875862717628479, 0.6043525338172913, null, 0.3285384774208069, -1.0524287223815918, null, 0.3285384774208069, 0.6043525338172913, null, -1.0524287223815918, -0.5754570960998535, null, -0.5754570960998535, 0.6043525338172913, null], \"y\": [0.43193011475709175, -0.2983309709293007, null, 0.43193011475709175, -0.7412638598188042, null, 0.43193011475709175, 1.0170291668154374, null, -0.2983309709293007, 0.28676712019650724, null, -0.7412638598188042, -0.15616564145361553, null, 1.0170291668154374, 0.28676712019650724, null, 1.0170291668154374, -0.15616564145361553, null, 0.28676712019650724, -0.5399630594936409, null, -0.5399630594936409, -0.15616564145361553, null], \"z\": [-0.8653034311925267, -0.7968254808191846, null, -0.8653034311925267, 0.13098091488478186, null, -0.8653034311925267, -0.10114305622253712, null, -0.7968254808191846, -0.03266508812309972, null, 0.13098091488478186, 0.8951421925501982, null, -0.10114305622253712, -0.03266508812309972, null, -0.10114305622253712, 0.8951421925501982, null, -0.03266508812309972, 0.7698138072471493, null, 0.7698138072471493, 0.8951421925501982, null], \"type\": \"scatter3d\"}, {\"mode\": \"markers\", \"name\": \"Reconstructed\", \"x\": [0.600049614906311, -0.7809175252914429, 0.875862717628479, 0.3285384774208069, -1.0524287223815918, -0.5754570960998535, 0.6043525338172913], \"y\": [0.5004020798710329, -0.0727718645850442, -0.722691303448062, 0.9403173702516646, 0.3586261579319361, -0.7379395486470112, -0.2659428421405854], \"z\": [-0.8751482135230926, -0.8292559843243925, 0.12831058441467108, -0.0901135649833084, -0.0429968579768201, 0.7982785291087352, 0.9109257711845146], \"type\": \"scatter3d\"}, {\"mode\": \"lines\", \"name\": \"Reconstructed\", \"x\": [0.600049614906311, -0.7809175252914429, null, 0.600049614906311, 0.875862717628479, null, 0.600049614906311, 0.3285384774208069, null, -0.7809175252914429, -1.0524287223815918, null, 0.875862717628479, 0.6043525338172913, null, 0.3285384774208069, -1.0524287223815918, null, 0.3285384774208069, 0.6043525338172913, null, -1.0524287223815918, -0.5754570960998535, null, -0.5754570960998535, 0.6043525338172913, null], \"y\": [0.5004020798710329, -0.0727718645850442, null, 0.5004020798710329, -0.722691303448062, null, 0.5004020798710329, 0.9403173702516646, null, -0.0727718645850442, 0.3586261579319361, null, -0.722691303448062, -0.2659428421405854, null, 0.9403173702516646, 0.3586261579319361, null, 0.9403173702516646, -0.2659428421405854, null, 0.3586261579319361, -0.7379395486470112, null, -0.7379395486470112, -0.2659428421405854, null], \"z\": [-0.8751482135230926, -0.8292559843243925, null, -0.8751482135230926, 0.12831058441467108, null, -0.8751482135230926, -0.0901135649833084, null, -0.8292559843243925, -0.0429968579768201, null, 0.12831058441467108, 0.9109257711845146, null, -0.0901135649833084, -0.0429968579768201, null, -0.0901135649833084, 0.9109257711845146, null, -0.0429968579768201, 0.7982785291087352, null, 0.7982785291087352, 0.9109257711845146, null], \"type\": \"scatter3d\"}], \"traces\": [0, 1, 2, 3]}, {\"data\": [{\"mode\": \"markers\", \"name\": \"Original\", \"x\": [0.600049614906311, -0.7809175252914429, 0.875862717628479, 0.3285384774208069, -1.0524287223815918, -0.5754570960998535, 0.6043525338172913], \"y\": [0.4859414349930538, -0.247192538890584, -0.7480787788714849, 1.0213964471367856, 0.2882615131310197, -0.5877005482230061, -0.21262465599489824], \"z\": [-0.8361665945399434, -0.814142532862134, 0.08370334843764768, -0.03643544636325398, -0.014411427941145933, 0.734017349293913, 0.883435344616258], \"type\": \"scatter3d\"}, {\"mode\": \"lines\", \"name\": \"Original\", \"x\": [0.600049614906311, -0.7809175252914429, null, 0.600049614906311, 0.875862717628479, null, 0.600049614906311, 0.3285384774208069, null, -0.7809175252914429, -1.0524287223815918, null, 0.875862717628479, 0.6043525338172913, null, 0.3285384774208069, -1.0524287223815918, null, 0.3285384774208069, 0.6043525338172913, null, -1.0524287223815918, -0.5754570960998535, null, -0.5754570960998535, 0.6043525338172913, null], \"y\": [0.4859414349930538, -0.247192538890584, null, 0.4859414349930538, -0.7480787788714849, null, 0.4859414349930538, 1.0213964471367856, null, -0.247192538890584, 0.2882615131310197, null, -0.7480787788714849, -0.21262465599489824, null, 1.0213964471367856, 0.2882615131310197, null, 1.0213964471367856, -0.21262465599489824, null, 0.2882615131310197, -0.5877005482230061, null, -0.5877005482230061, -0.21262465599489824, null], \"z\": [-0.8361665945399434, -0.814142532862134, null, -0.8361665945399434, 0.08370334843764768, null, -0.8361665945399434, -0.03643544636325398, null, -0.814142532862134, -0.014411427941145933, null, 0.08370334843764768, 0.883435344616258, null, -0.03643544636325398, -0.014411427941145933, null, -0.03643544636325398, 0.883435344616258, null, -0.014411427941145933, 0.734017349293913, null, 0.734017349293913, 0.883435344616258, null], \"type\": \"scatter3d\"}, {\"mode\": \"markers\", \"name\": \"Reconstructed\", \"x\": [0.600049614906311, -0.7809175252914429, 0.875862717628479, 0.3285384774208069, -1.0524287223815918, -0.5754570960998535, 0.6043525338172913], \"y\": [0.554899938572185, -0.020030686353374887, -0.7293742522402684, 0.9441395626717091, 0.36063115671618057, -0.7870837908851459, -0.32318189608407033], \"z\": [-0.8416487957245001, -0.8322019006330218, 0.08221633852977517, -0.030293523880211778, -0.020164814763602882, 0.7498683175193017, 0.8922246454438592], \"type\": \"scatter3d\"}, {\"mode\": \"lines\", \"name\": \"Reconstructed\", \"x\": [0.600049614906311, -0.7809175252914429, null, 0.600049614906311, 0.875862717628479, null, 0.600049614906311, 0.3285384774208069, null, -0.7809175252914429, -1.0524287223815918, null, 0.875862717628479, 0.6043525338172913, null, 0.3285384774208069, -1.0524287223815918, null, 0.3285384774208069, 0.6043525338172913, null, -1.0524287223815918, -0.5754570960998535, null, -0.5754570960998535, 0.6043525338172913, null], \"y\": [0.554899938572185, -0.020030686353374887, null, 0.554899938572185, -0.7293742522402684, null, 0.554899938572185, 0.9441395626717091, null, -0.020030686353374887, 0.36063115671618057, null, -0.7293742522402684, -0.32318189608407033, null, 0.9441395626717091, 0.36063115671618057, null, 0.9441395626717091, -0.32318189608407033, null, 0.36063115671618057, -0.7870837908851459, null, -0.7870837908851459, -0.32318189608407033, null], \"z\": [-0.8416487957245001, -0.8322019006330218, null, -0.8416487957245001, 0.08221633852977517, null, -0.8416487957245001, -0.030293523880211778, null, -0.8322019006330218, -0.020164814763602882, null, 0.08221633852977517, 0.8922246454438592, null, -0.030293523880211778, -0.020164814763602882, null, -0.030293523880211778, 0.8922246454438592, null, -0.020164814763602882, 0.7498683175193017, null, 0.7498683175193017, 0.8922246454438592, null], \"type\": \"scatter3d\"}], \"traces\": [0, 1, 2, 3]}, {\"data\": [{\"mode\": \"markers\", \"name\": \"Original\", \"x\": [0.600049614906311, -0.7809175252914429, 0.875862717628479, 0.3285384774208069, -1.0524287223815918, -0.5754570960998535, 0.6043525338172913], \"y\": [0.5379960405803011, -0.19505874974282053, -0.7518814487113938, 1.0216509244610257, 0.2885951786922585, -0.6330715742699243, -0.26822750609103774], \"z\": [-0.8036628101309363, -0.8281813202717819, 0.03608873814892966, 0.028418876178871164, 0.003900261974703419, 0.6952652625419193, 0.868171214352548], \"type\": \"scatter3d\"}, {\"mode\": \"lines\", \"name\": \"Original\", \"x\": [0.600049614906311, -0.7809175252914429, null, 0.600049614906311, 0.875862717628479, null, 0.600049614906311, 0.3285384774208069, null, -0.7809175252914429, -1.0524287223815918, null, 0.875862717628479, 0.6043525338172913, null, 0.3285384774208069, -1.0524287223815918, null, 0.3285384774208069, 0.6043525338172913, null, -1.0524287223815918, -0.5754570960998535, null, -0.5754570960998535, 0.6043525338172913, null], \"y\": [0.5379960405803011, -0.19505874974282053, null, 0.5379960405803011, -0.7518814487113938, null, 0.5379960405803011, 1.0216509244610257, null, -0.19505874974282053, 0.2885951786922585, null, -0.7518814487113938, -0.26822750609103774, null, 1.0216509244610257, 0.2885951786922585, null, 1.0216509244610257, -0.26822750609103774, null, 0.2885951786922585, -0.6330715742699243, null, -0.6330715742699243, -0.26822750609103774, null], \"z\": [-0.8036628101309363, -0.8281813202717819, null, -0.8036628101309363, 0.03608873814892966, null, -0.8036628101309363, 0.028418876178871164, null, -0.8281813202717819, 0.003900261974703419, null, 0.03608873814892966, 0.868171214352548, null, 0.028418876178871164, 0.003900261974703419, null, 0.028418876178871164, 0.868171214352548, null, 0.003900261974703419, 0.6952652625419193, null, 0.6952652625419193, 0.868171214352548, null], \"type\": \"scatter3d\"}, {\"mode\": \"markers\", \"name\": \"Reconstructed\", \"x\": [0.600049614906311, -0.7809175252914429, 0.875862717628479, 0.3285384774208069, -1.0524287223815918, -0.5754570960998535, 0.6043525338172913], \"y\": [0.6071634110691833, 0.03279114838253427, -0.7331202683468008, 0.9441600383010502, 0.3611840211148486, -0.8330587244937063, -0.37911961059706195], \"z\": [-0.8047603552802226, -0.8317968336082772, 0.03579103646736358, 0.029648498551640843, 0.0027484250416219716, 0.6984386508765674, 0.8699308459611299], \"type\": \"scatter3d\"}, {\"mode\": \"lines\", \"name\": \"Reconstructed\", \"x\": [0.600049614906311, -0.7809175252914429, null, 0.600049614906311, 0.875862717628479, null, 0.600049614906311, 0.3285384774208069, null, -0.7809175252914429, -1.0524287223815918, null, 0.875862717628479, 0.6043525338172913, null, 0.3285384774208069, -1.0524287223815918, null, 0.3285384774208069, 0.6043525338172913, null, -1.0524287223815918, -0.5754570960998535, null, -0.5754570960998535, 0.6043525338172913, null], \"y\": [0.6071634110691833, 0.03279114838253427, null, 0.6071634110691833, -0.7331202683468008, null, 0.6071634110691833, 0.9441600383010502, null, 0.03279114838253427, 0.3611840211148486, null, -0.7331202683468008, -0.37911961059706195, null, 0.9441600383010502, 0.3611840211148486, null, 0.9441600383010502, -0.37911961059706195, null, 0.3611840211148486, -0.8330587244937063, null, -0.8330587244937063, -0.37911961059706195, null], \"z\": [-0.8047603552802226, -0.8317968336082772, null, -0.8047603552802226, 0.03579103646736358, null, -0.8047603552802226, 0.029648498551640843, null, -0.8317968336082772, 0.0027484250416219716, null, 0.03579103646736358, 0.8699308459611299, null, 0.029648498551640843, 0.0027484250416219716, null, 0.029648498551640843, 0.8699308459611299, null, 0.0027484250416219716, 0.6984386508765674, null, 0.6984386508765674, 0.8699308459611299, null], \"type\": \"scatter3d\"}], \"traces\": [0, 1, 2, 3]}, {\"data\": [{\"mode\": \"markers\", \"name\": \"Original\", \"x\": [0.600049614906311, -0.7809175252914429, 0.875862717628479, 0.3285384774208069, -1.0524287223815918, -0.5754570960998535, 0.6043525338172913], \"y\": [0.5878843259944809, -0.14213952785461367, -0.752656557329214, 1.0177915740977885, 0.2877667733267735, -0.6758934445259243, -0.3227502986893747], \"z\": [-0.7679229592333136, -0.8388853138061314, -0.011671188751018179, 0.09315876593688834, 0.022196246912153543, 0.6537135879672118, 0.8494112650242607], \"type\": \"scatter3d\"}, {\"mode\": \"lines\", \"name\": \"Original\", \"x\": [0.600049614906311, -0.7809175252914429, null, 0.600049614906311, 0.875862717628479, null, 0.600049614906311, 0.3285384774208069, null, -0.7809175252914429, -1.0524287223815918, null, 0.875862717628479, 0.6043525338172913, null, 0.3285384774208069, -1.0524287223815918, null, 0.3285384774208069, 0.6043525338172913, null, -1.0524287223815918, -0.5754570960998535, null, -0.5754570960998535, 0.6043525338172913, null], \"y\": [0.5878843259944809, -0.14213952785461367, null, 0.5878843259944809, -0.752656557329214, null, 0.5878843259944809, 1.0177915740977885, null, -0.14213952785461367, 0.2877667733267735, null, -0.752656557329214, -0.3227502986893747, null, 1.0177915740977885, 0.2877667733267735, null, 1.0177915740977885, -0.3227502986893747, null, 0.2877667733267735, -0.6758934445259243, null, -0.6758934445259243, -0.3227502986893747, null], \"z\": [-0.7679229592333136, -0.8388853138061314, null, -0.7679229592333136, -0.011671188751018179, null, -0.7679229592333136, 0.09315876593688834, null, -0.8388853138061314, 0.022196246912153543, null, -0.011671188751018179, 0.8494112650242607, null, 0.09315876593688834, 0.022196246912153543, null, 0.09315876593688834, 0.8494112650242607, null, 0.022196246912153543, 0.6537135879672118, null, 0.6537135879672118, 0.8494112650242607, null], \"type\": \"scatter3d\"}, {\"mode\": \"markers\", \"name\": \"Reconstructed\", \"x\": [0.600049614906311, -0.7809175252914429, 0.875862717628479, 0.3285384774208069, -1.0524287223815918, -0.5754570960998535, 0.6043525338172913], \"y\": [0.6569820508043477, 0.08548094473733771, -0.733914267882931, 0.9403787146915551, 0.3602825249381368, -0.8756792246416157, -0.4335307442460825], \"z\": [-0.7646314289203849, -0.8280424143121012, -0.010778383466678148, 0.08947113694407798, 0.025650597909243386, 0.6441966182963236, 0.8441341419983869], \"type\": \"scatter3d\"}, {\"mode\": \"lines\", \"name\": \"Reconstructed\", \"x\": [0.600049614906311, -0.7809175252914429, null, 0.600049614906311, 0.875862717628479, null, 0.600049614906311, 0.3285384774208069, null, -0.7809175252914429, -1.0524287223815918, null, 0.875862717628479, 0.6043525338172913, null, 0.3285384774208069, -1.0524287223815918, null, 0.3285384774208069, 0.6043525338172913, null, -1.0524287223815918, -0.5754570960998535, null, -0.5754570960998535, 0.6043525338172913, null], \"y\": [0.6569820508043477, 0.08548094473733771, null, 0.6569820508043477, -0.733914267882931, null, 0.6569820508043477, 0.9403787146915551, null, 0.08548094473733771, 0.3602825249381368, null, -0.733914267882931, -0.4335307442460825, null, 0.9403787146915551, 0.3602825249381368, null, 0.9403787146915551, -0.4335307442460825, null, 0.3602825249381368, -0.8756792246416157, null, -0.8756792246416157, -0.4335307442460825, null], \"z\": [-0.7646314289203849, -0.8280424143121012, null, -0.7646314289203849, -0.010778383466678148, null, -0.7646314289203849, 0.08947113694407798, null, -0.8280424143121012, 0.025650597909243386, null, -0.010778383466678148, 0.8441341419983869, null, 0.08947113694407798, 0.025650597909243386, null, 0.08947113694407798, 0.8441341419983869, null, 0.025650597909243386, 0.6441966182963236, null, 0.6441966182963236, 0.8441341419983869, null], \"type\": \"scatter3d\"}], \"traces\": [0, 1, 2, 3]}, {\"data\": [{\"mode\": \"markers\", \"name\": \"Original\", \"x\": [0.600049614906311, -0.7809175252914429, 0.875862717628479, 0.3285384774208069, -1.0524287223815918, -0.5754570960998535, 0.6043525338172913], \"y\": [0.6354054087179906, -0.08864796025499695, -0.7504009836361114, 1.0098339362888538, 0.28577963273059104, -0.7159937304331979, -0.3759734897475964], \"z\": [-0.7290909536124816, -0.8462114122611278, -0.059384119893139006, 0.1575235382242836, 0.04040285539731547, 0.6095296394978978, 0.8272310363261339], \"type\": \"scatter3d\"}, {\"mode\": \"lines\", \"name\": \"Original\", \"x\": [0.600049614906311, -0.7809175252914429, null, 0.600049614906311, 0.875862717628479, null, 0.600049614906311, 0.3285384774208069, null, -0.7809175252914429, -1.0524287223815918, null, 0.875862717628479, 0.6043525338172913, null, 0.3285384774208069, -1.0524287223815918, null, 0.3285384774208069, 0.6043525338172913, null, -1.0524287223815918, -0.5754570960998535, null, -0.5754570960998535, 0.6043525338172913, null], \"y\": [0.6354054087179906, -0.08864796025499695, null, 0.6354054087179906, -0.7504009836361114, null, 0.6354054087179906, 1.0098339362888538, null, -0.08864796025499695, 0.28577963273059104, null, -0.7504009836361114, -0.3759734897475964, null, 1.0098339362888538, 0.28577963273059104, null, 1.0098339362888538, -0.3759734897475964, null, 0.28577963273059104, -0.7159937304331979, null, -0.7159937304331979, -0.3759734897475964, null], \"z\": [-0.7290909536124816, -0.8462114122611278, null, -0.7290909536124816, -0.059384119893139006, null, -0.7290909536124816, 0.1575235382242836, null, -0.8462114122611278, 0.04040285539731547, null, -0.059384119893139006, 0.8272310363261339, null, 0.1575235382242836, 0.04040285539731547, null, 0.1575235382242836, 0.8272310363261339, null, 0.04040285539731547, 0.6095296394978978, null, 0.6095296394978978, 0.8272310363261339, null], \"type\": \"scatter3d\"}, {\"mode\": \"markers\", \"name\": \"Reconstructed\", \"x\": [0.600049614906311, -0.7809175252914429, 0.875862717628479, 0.3285384774208069, -1.0524287223815918, -0.5754570960998535, 0.6043525338172913], \"y\": [0.7041552556986441, 0.1378265394976507, -0.7317530536927643, 0.9328108178988048, 0.35793029819297123, -0.9147736736174191, -0.4861962025999989], \"z\": [-0.7214236016681831, -0.820953760465901, -0.057304402654662835, 0.14893350664632157, 0.048449484872302974, 0.5873606332993827, 0.8149384077777018], \"type\": \"scatter3d\"}, {\"mode\": \"lines\", \"name\": \"Reconstructed\", \"x\": [0.600049614906311, -0.7809175252914429, null, 0.600049614906311, 0.875862717628479, null, 0.600049614906311, 0.3285384774208069, null, -0.7809175252914429, -1.0524287223815918, null, 0.875862717628479, 0.6043525338172913, null, 0.3285384774208069, -1.0524287223815918, null, 0.3285384774208069, 0.6043525338172913, null, -1.0524287223815918, -0.5754570960998535, null, -0.5754570960998535, 0.6043525338172913, null], \"y\": [0.7041552556986441, 0.1378265394976507, null, 0.7041552556986441, -0.7317530536927643, null, 0.7041552556986441, 0.9328108178988048, null, 0.1378265394976507, 0.35793029819297123, null, -0.7317530536927643, -0.4861962025999989, null, 0.9328108178988048, 0.35793029819297123, null, 0.9328108178988048, -0.4861962025999989, null, 0.35793029819297123, -0.9147736736174191, null, -0.9147736736174191, -0.4861962025999989, null], \"z\": [-0.7214236016681831, -0.820953760465901, null, -0.7214236016681831, -0.057304402654662835, null, -0.7214236016681831, 0.14893350664632157, null, -0.820953760465901, 0.048449484872302974, null, -0.057304402654662835, 0.8149384077777018, null, 0.14893350664632157, 0.048449484872302974, null, 0.14893350664632157, 0.8149384077777018, null, 0.048449484872302974, 0.5873606332993827, null, 0.5873606332993827, 0.8149384077777018, null], \"type\": \"scatter3d\"}], \"traces\": [0, 1, 2, 3]}, {\"data\": [{\"mode\": \"markers\", \"name\": \"Original\", \"x\": [0.600049614906311, -0.7809175252914429, 0.875862717628479, 0.3285384774208069, -1.0524287223815918, -0.5754570960998535, 0.6043525338172913], \"y\": [0.6803679381229727, -0.03479943860717855, -0.7451238100312576, 0.9978100536330792, 0.28264175841754324, -0.7532109622935428, -0.427682768260105], \"z\": [-0.6873231560495611, -0.8501301160239938, -0.10685793214370524, 0.22125401882020096, 0.058446775843728455, 0.562891330300014, 0.8017198402107615], \"type\": \"scatter3d\"}, {\"mode\": \"lines\", \"name\": \"Original\", \"x\": [0.600049614906311, -0.7809175252914429, null, 0.600049614906311, 0.875862717628479, null, 0.600049614906311, 0.3285384774208069, null, -0.7809175252914429, -1.0524287223815918, null, 0.875862717628479, 0.6043525338172913, null, 0.3285384774208069, -1.0524287223815918, null, 0.3285384774208069, 0.6043525338172913, null, -1.0524287223815918, -0.5754570960998535, null, -0.5754570960998535, 0.6043525338172913, null], \"y\": [0.6803679381229727, -0.03479943860717855, null, 0.6803679381229727, -0.7451238100312576, null, 0.6803679381229727, 0.9978100536330792, null, -0.03479943860717855, 0.28264175841754324, null, -0.7451238100312576, -0.427682768260105, null, 0.9978100536330792, 0.28264175841754324, null, 0.9978100536330792, -0.427682768260105, null, 0.28264175841754324, -0.7532109622935428, null, -0.7532109622935428, -0.427682768260105, null], \"z\": [-0.6873231560495611, -0.8501301160239938, null, -0.6873231560495611, -0.10685793214370524, null, -0.6873231560495611, 0.22125401882020096, null, -0.8501301160239938, 0.058446775843728455, null, -0.10685793214370524, 0.8017198402107615, null, 0.22125401882020096, 0.058446775843728455, null, 0.22125401882020096, 0.8017198402107615, null, 0.058446775843728455, 0.562891330300014, null, 0.562891330300014, 0.8017198402107615, null], \"type\": \"scatter3d\"}, {\"mode\": \"markers\", \"name\": \"Reconstructed\", \"x\": [0.600049614906311, -0.7809175252914429, 0.875862717628479, 0.3285384774208069, -1.0524287223815918, -0.5754570960998535, 0.6043525338172913], \"y\": [0.7484930759054519, 0.18961715542842494, -0.7266453282230575, 0.9214868211721418, 0.354136812466251, -0.9501846518732332, -0.5369039204459652], \"z\": [-0.6753108561940284, -0.8105594155768187, -0.10359967723838905, 0.2077961736824536, 0.07105328285972559, 0.5281595543374208, 0.7824612042163289], \"type\": \"scatter3d\"}, {\"mode\": \"lines\", \"name\": \"Reconstructed\", \"x\": [0.600049614906311, -0.7809175252914429, null, 0.600049614906311, 0.875862717628479, null, 0.600049614906311, 0.3285384774208069, null, -0.7809175252914429, -1.0524287223815918, null, 0.875862717628479, 0.6043525338172913, null, 0.3285384774208069, -1.0524287223815918, null, 0.3285384774208069, 0.6043525338172913, null, -1.0524287223815918, -0.5754570960998535, null, -0.5754570960998535, 0.6043525338172913, null], \"y\": [0.7484930759054519, 0.18961715542842494, null, 0.7484930759054519, -0.7266453282230575, null, 0.7484930759054519, 0.9214868211721418, null, 0.18961715542842494, 0.354136812466251, null, -0.7266453282230575, -0.5369039204459652, null, 0.9214868211721418, 0.354136812466251, null, 0.9214868211721418, -0.5369039204459652, null, 0.354136812466251, -0.9501846518732332, null, -0.9501846518732332, -0.5369039204459652, null], \"z\": [-0.6753108561940284, -0.8105594155768187, null, -0.6753108561940284, -0.10359967723838905, null, -0.6753108561940284, 0.2077961736824536, null, -0.8105594155768187, 0.07105328285972559, null, -0.10359967723838905, 0.7824612042163289, null, 0.2077961736824536, 0.07105328285972559, null, 0.2077961736824536, 0.7824612042163289, null, 0.07105328285972559, 0.5281595543374208, null, 0.5281595543374208, 0.7824612042163289, null], \"type\": \"scatter3d\"}], \"traces\": [0, 1, 2, 3]}, {\"data\": [{\"mode\": \"markers\", \"name\": \"Original\", \"x\": [0.600049614906311, -0.7809175252914429, 0.875862717628479, 0.3285384774208069, -1.0524287223815918, -0.5754570960998535, 0.6043525338172913], \"y\": [0.7225908659727582, 0.019189208097666704, -0.7368462858302134, 0.9817683420621648, 0.2783657854999953, -0.7873952794498478, -0.4776699192127989], \"z\": [-0.6427877507236535, -0.8506256458577584, -0.15390146521637074, 0.2840935875725575, 0.07625535175224434, 0.5139864563839989, 0.7729804012608817], \"type\": \"scatter3d\"}, {\"mode\": \"lines\", \"name\": \"Original\", \"x\": [0.600049614906311, -0.7809175252914429, null, 0.600049614906311, 0.875862717628479, null, 0.600049614906311, 0.3285384774208069, null, -0.7809175252914429, -1.0524287223815918, null, 0.875862717628479, 0.6043525338172913, null, 0.3285384774208069, -1.0524287223815918, null, 0.3285384774208069, 0.6043525338172913, null, -1.0524287223815918, -0.5754570960998535, null, -0.5754570960998535, 0.6043525338172913, null], \"y\": [0.7225908659727582, 0.019189208097666704, null, 0.7225908659727582, -0.7368462858302134, null, 0.7225908659727582, 0.9817683420621648, null, 0.019189208097666704, 0.2783657854999953, null, -0.7368462858302134, -0.4776699192127989, null, 0.9817683420621648, 0.2783657854999953, null, 0.9817683420621648, -0.4776699192127989, null, 0.2783657854999953, -0.7873952794498478, null, -0.7873952794498478, -0.4776699192127989, null], \"z\": [-0.6427877507236535, -0.8506256458577584, null, -0.6427877507236535, -0.15390146521637074, null, -0.6427877507236535, 0.2840935875725575, null, -0.8506256458577584, 0.07625535175224434, null, -0.15390146521637074, 0.7729804012608817, null, 0.2840935875725575, 0.07625535175224434, null, 0.2840935875725575, 0.7729804012608817, null, 0.07625535175224434, 0.5139864563839989, null, 0.5139864563839989, 0.7729804012608817, null], \"type\": \"scatter3d\"}, {\"mode\": \"markers\", \"name\": \"Reconstructed\", \"x\": [0.600049614906311, -0.7809175252914429, 0.875862717628479, 0.3285384774208069, -1.0524287223815918, -0.5754570960998535, 0.6043525338172913], \"y\": [0.789816978671556, 0.2406442499984831, -0.7186116584815371, 0.9064523222496498, 0.3489173427861104, -0.9817695718977063, -0.5854497157011895], \"z\": [-0.6264788722487383, -0.7969012340031034, -0.14947779248673743, 0.2658221188675318, 0.09337097435488582, 0.466831763260765, 0.7468333055503829], \"type\": \"scatter3d\"}, {\"mode\": \"lines\", \"name\": \"Reconstructed\", \"x\": [0.600049614906311, -0.7809175252914429, null, 0.600049614906311, 0.875862717628479, null, 0.600049614906311, 0.3285384774208069, null, -0.7809175252914429, -1.0524287223815918, null, 0.875862717628479, 0.6043525338172913, null, 0.3285384774208069, -1.0524287223815918, null, 0.3285384774208069, 0.6043525338172913, null, -1.0524287223815918, -0.5754570960998535, null, -0.5754570960998535, 0.6043525338172913, null], \"y\": [0.789816978671556, 0.2406442499984831, null, 0.789816978671556, -0.7186116584815371, null, 0.789816978671556, 0.9064523222496498, null, 0.2406442499984831, 0.3489173427861104, null, -0.7186116584815371, -0.5854497157011895, null, 0.9064523222496498, 0.3489173427861104, null, 0.9064523222496498, -0.5854497157011895, null, 0.3489173427861104, -0.9817695718977063, null, -0.9817695718977063, -0.5854497157011895, null], \"z\": [-0.6264788722487383, -0.7969012340031034, null, -0.6264788722487383, -0.14947779248673743, null, -0.6264788722487383, 0.2658221188675318, null, -0.7969012340031034, 0.09337097435488582, null, -0.14947779248673743, 0.7468333055503829, null, 0.2658221188675318, 0.09337097435488582, null, 0.2658221188675318, 0.7468333055503829, null, 0.09337097435488582, 0.466831763260765, null, 0.466831763260765, 0.7468333055503829, null], \"type\": \"scatter3d\"}], \"traces\": [0, 1, 2, 3]}, {\"data\": [{\"mode\": \"markers\", \"name\": \"Original\", \"x\": [0.600049614906311, -0.7809175252914429, 0.875862717628479, 0.3285384774208069, -1.0524287223815918, -0.5754570960998535, 0.6043525338172913], \"y\": [0.7619041754392146, 0.07310058663421334, -0.7256017417014362, 0.961773395886785, 0.2729689318117084, -0.8184090337220651, -0.5257336619914437], \"z\": [-0.5956640659935135, -0.8476960064386748, -0.20032529140717242, 0.34578921171682, 0.09375687427310492, 0.46301194041644317, 0.7411284430537408], \"type\": \"scatter3d\"}, {\"mode\": \"lines\", \"name\": \"Original\", \"x\": [0.600049614906311, -0.7809175252914429, null, 0.600049614906311, 0.875862717628479, null, 0.600049614906311, 0.3285384774208069, null, -0.7809175252914429, -1.0524287223815918, null, 0.875862717628479, 0.6043525338172913, null, 0.3285384774208069, -1.0524287223815918, null, 0.3285384774208069, 0.6043525338172913, null, -1.0524287223815918, -0.5754570960998535, null, -0.5754570960998535, 0.6043525338172913, null], \"y\": [0.7619041754392146, 0.07310058663421334, null, 0.7619041754392146, -0.7256017417014362, null, 0.7619041754392146, 0.961773395886785, null, 0.07310058663421334, 0.2729689318117084, null, -0.7256017417014362, -0.5257336619914437, null, 0.961773395886785, 0.2729689318117084, null, 0.961773395886785, -0.5257336619914437, null, 0.2729689318117084, -0.8184090337220651, null, -0.8184090337220651, -0.5257336619914437, null], \"z\": [-0.5956640659935135, -0.8476960064386748, null, -0.5956640659935135, -0.20032529140717242, null, -0.5956640659935135, 0.34578921171682, null, -0.8476960064386748, 0.09375687427310492, null, -0.20032529140717242, 0.7411284430537408, null, 0.34578921171682, 0.09375687427310492, null, 0.34578921171682, 0.7411284430537408, null, 0.09375687427310492, 0.46301194041644317, null, 0.46301194041644317, 0.7411284430537408, null], \"type\": \"scatter3d\"}, {\"mode\": \"markers\", \"name\": \"Reconstructed\", \"x\": [0.600049614906311, -0.7809175252914429, 0.875862717628479, 0.3285384774208069, -1.0524287223815918, -0.5754570960998535, 0.6043525338172913], \"y\": [0.8279605672255304, 0.29070235510768516, -0.7076843932208186, 0.8877678597521576, 0.34229290611477214, -1.0094012523655997, -0.6316381115821136], \"z\": [-0.5751242789967175, -0.7800342124213825, -0.19475401342199652, 0.3227776922001902, 0.11531269389102224, 0.40362420543882077, 0.7081981727531472], \"type\": \"scatter3d\"}, {\"mode\": \"lines\", \"name\": \"Reconstructed\", \"x\": [0.600049614906311, -0.7809175252914429, null, 0.600049614906311, 0.875862717628479, null, 0.600049614906311, 0.3285384774208069, null, -0.7809175252914429, -1.0524287223815918, null, 0.875862717628479, 0.6043525338172913, null, 0.3285384774208069, -1.0524287223815918, null, 0.3285384774208069, 0.6043525338172913, null, -1.0524287223815918, -0.5754570960998535, null, -0.5754570960998535, 0.6043525338172913, null], \"y\": [0.8279605672255304, 0.29070235510768516, null, 0.8279605672255304, -0.7076843932208186, null, 0.8279605672255304, 0.8877678597521576, null, 0.29070235510768516, 0.34229290611477214, null, -0.7076843932208186, -0.6316381115821136, null, 0.8877678597521576, 0.34229290611477214, null, 0.8877678597521576, -0.6316381115821136, null, 0.34229290611477214, -1.0094012523655997, null, -1.0094012523655997, -0.6316381115821136, null], \"z\": [-0.5751242789967175, -0.7800342124213825, null, -0.5751242789967175, -0.19475401342199652, null, -0.5751242789967175, 0.3227776922001902, null, -0.7800342124213825, 0.11531269389102224, null, -0.19475401342199652, 0.7081981727531472, null, 0.3227776922001902, 0.11531269389102224, null, 0.3227776922001902, 0.7081981727531472, null, 0.11531269389102224, 0.40362420543882077, null, 0.40362420543882077, 0.7081981727531472, null], \"type\": \"scatter3d\"}], \"traces\": [0, 1, 2, 3]}, {\"data\": [{\"mode\": \"markers\", \"name\": \"Original\", \"x\": [0.600049614906311, -0.7809175252914429, 0.875862717628479, 0.3285384774208069, -1.0524287223815918, -0.5754570960998535, 0.6043525338172913], \"y\": [0.7981495657005083, 0.12671761490878056, -0.7114354554554407, 0.9379057276980962, 0.2664729285776993, -0.8461273436678526, -0.5716804608676689], \"z\": [-0.5461418523055382, -0.8413529943906861, -0.24594247835304076, 0.4060924647496464, 0.11088087095217226, 0.4101730387820096, 0.7062922221830884], \"type\": \"scatter3d\"}, {\"mode\": \"lines\", \"name\": \"Original\", \"x\": [0.600049614906311, -0.7809175252914429, null, 0.600049614906311, 0.875862717628479, null, 0.600049614906311, 0.3285384774208069, null, -0.7809175252914429, -1.0524287223815918, null, 0.875862717628479, 0.6043525338172913, null, 0.3285384774208069, -1.0524287223815918, null, 0.3285384774208069, 0.6043525338172913, null, -1.0524287223815918, -0.5754570960998535, null, -0.5754570960998535, 0.6043525338172913, null], \"y\": [0.7981495657005083, 0.12671761490878056, null, 0.7981495657005083, -0.7114354554554407, null, 0.7981495657005083, 0.9379057276980962, null, 0.12671761490878056, 0.2664729285776993, null, -0.7114354554554407, -0.5716804608676689, null, 0.9379057276980962, 0.2664729285776993, null, 0.9379057276980962, -0.5716804608676689, null, 0.2664729285776993, -0.8461273436678526, null, -0.8461273436678526, -0.5716804608676689, null], \"z\": [-0.5461418523055382, -0.8413529943906861, null, -0.5461418523055382, -0.24594247835304076, null, -0.5461418523055382, 0.4060924647496464, null, -0.8413529943906861, 0.11088087095217226, null, -0.24594247835304076, 0.7062922221830884, null, 0.4060924647496464, 0.11088087095217226, null, 0.4060924647496464, 0.7062922221830884, null, 0.11088087095217226, 0.4101730387820096, null, 0.4101730387820096, 0.7062922221830884, null], \"type\": \"scatter3d\"}, {\"mode\": \"markers\", \"name\": \"Reconstructed\", \"x\": [0.600049614906311, -0.7809175252914429, 0.875862717628479, 0.3285384774208069, -1.0524287223815918, -0.5754570960998535, 0.6043525338172913], \"y\": [0.8627702507988105, 0.33958990443445347, -0.6939075326813967, 0.8655086694155776, 0.334290176720658, -1.032968430252099, -0.675283123720432], \"z\": [-0.5214538632597074, -0.7600262683744556, -0.2392460286824207, 0.3784335536887336, 0.13679008990775626, 0.33879139539822267, 0.6667113758683668], \"type\": \"scatter3d\"}, {\"mode\": \"lines\", \"name\": \"Reconstructed\", \"x\": [0.600049614906311, -0.7809175252914429, null, 0.600049614906311, 0.875862717628479, null, 0.600049614906311, 0.3285384774208069, null, -0.7809175252914429, -1.0524287223815918, null, 0.875862717628479, 0.6043525338172913, null, 0.3285384774208069, -1.0524287223815918, null, 0.3285384774208069, 0.6043525338172913, null, -1.0524287223815918, -0.5754570960998535, null, -0.5754570960998535, 0.6043525338172913, null], \"y\": [0.8627702507988105, 0.33958990443445347, null, 0.8627702507988105, -0.6939075326813967, null, 0.8627702507988105, 0.8655086694155776, null, 0.33958990443445347, 0.334290176720658, null, -0.6939075326813967, -0.675283123720432, null, 0.8655086694155776, 0.334290176720658, null, 0.8655086694155776, -0.675283123720432, null, 0.334290176720658, -1.032968430252099, null, -1.032968430252099, -0.675283123720432, null], \"z\": [-0.5214538632597074, -0.7600262683744556, null, -0.5214538632597074, -0.2392460286824207, null, -0.5214538632597074, 0.3784335536887336, null, -0.7600262683744556, 0.13679008990775626, null, -0.2392460286824207, 0.6667113758683668, null, 0.3784335536887336, 0.13679008990775626, null, 0.3784335536887336, 0.6667113758683668, null, 0.13679008990775626, 0.33879139539822267, null, 0.33879139539822267, 0.6667113758683668, null], \"type\": \"scatter3d\"}], \"traces\": [0, 1, 2, 3]}, {\"data\": [{\"mode\": \"markers\", \"name\": \"Original\", \"x\": [0.600049614906311, -0.7809175252914429, 0.875862717628479, 0.3285384774208069, -1.0524287223815918, -0.5754570960998535, 0.6043525338172913], \"y\": [0.8311810893626423, 0.17982439607230333, -0.6944044697270368, 0.9102614441719491, 0.2589039329102674, -0.8704385974360634, -0.6153253042990372], \"z\": [-0.4944205181356915, -0.8316221507845828, -0.2905693417424472, 0.4647605267547318, 0.1275583894986279, 0.3556825150884183, 0.668612011815143], \"type\": \"scatter3d\"}, {\"mode\": \"lines\", \"name\": \"Original\", \"x\": [0.600049614906311, -0.7809175252914429, null, 0.600049614906311, 0.875862717628479, null, 0.600049614906311, 0.3285384774208069, null, -0.7809175252914429, -1.0524287223815918, null, 0.875862717628479, 0.6043525338172913, null, 0.3285384774208069, -1.0524287223815918, null, 0.3285384774208069, 0.6043525338172913, null, -1.0524287223815918, -0.5754570960998535, null, -0.5754570960998535, 0.6043525338172913, null], \"y\": [0.8311810893626423, 0.17982439607230333, null, 0.8311810893626423, -0.6944044697270368, null, 0.8311810893626423, 0.9102614441719491, null, 0.17982439607230333, 0.2589039329102674, null, -0.6944044697270368, -0.6153253042990372, null, 0.9102614441719491, 0.2589039329102674, null, 0.9102614441719491, -0.6153253042990372, null, 0.2589039329102674, -0.8704385974360634, null, -0.8704385974360634, -0.6153253042990372, null], \"z\": [-0.4944205181356915, -0.8316221507845828, null, -0.4944205181356915, -0.2905693417424472, null, -0.4944205181356915, 0.4647605267547318, null, -0.8316221507845828, 0.1275583894986279, null, -0.2905693417424472, 0.668612011815143, null, 0.4647605267547318, 0.1275583894986279, null, 0.4647605267547318, 0.668612011815143, null, 0.1275583894986279, 0.3556825150884183, null, 0.3556825150884183, 0.668612011815143, null], \"type\": \"scatter3d\"}, {\"mode\": \"markers\", \"name\": \"Reconstructed\", \"x\": [0.600049614906311, -0.7809175252914429, 0.875862717628479, 0.3285384774208069, -1.0524287223815918, -0.5754570960998535, 0.6043525338172913], \"y\": [0.8941058630815083, 0.3871100450722055, -0.6773365514182065, 0.8397643811431525, 0.32494137877052454, -1.0523762088497444, -0.7162090090564996], \"z\": [-0.4656837368592416, -0.7369579667913201, -0.2827746846257364, 0.4325655968223378, 0.1577166805116419, 0.27259439198266694, 0.6225399675845897], \"type\": \"scatter3d\"}, {\"mode\": \"lines\", \"name\": \"Reconstructed\", \"x\": [0.600049614906311, -0.7809175252914429, null, 0.600049614906311, 0.875862717628479, null, 0.600049614906311, 0.3285384774208069, null, -0.7809175252914429, -1.0524287223815918, null, 0.875862717628479, 0.6043525338172913, null, 0.3285384774208069, -1.0524287223815918, null, 0.3285384774208069, 0.6043525338172913, null, -1.0524287223815918, -0.5754570960998535, null, -0.5754570960998535, 0.6043525338172913, null], \"y\": [0.8941058630815083, 0.3871100450722055, null, 0.8941058630815083, -0.6773365514182065, null, 0.8941058630815083, 0.8397643811431525, null, 0.3871100450722055, 0.32494137877052454, null, -0.6773365514182065, -0.7162090090564996, null, 0.8397643811431525, 0.32494137877052454, null, 0.8397643811431525, -0.7162090090564996, null, 0.32494137877052454, -1.0523762088497444, null, -1.0523762088497444, -0.7162090090564996, null], \"z\": [-0.4656837368592416, -0.7369579667913201, null, -0.4656837368592416, -0.2827746846257364, null, -0.4656837368592416, 0.4325655968223378, null, -0.7369579667913201, 0.1577166805116419, null, -0.2827746846257364, 0.6225399675845897, null, 0.4325655968223378, 0.1577166805116419, null, 0.4325655968223378, 0.6225399675845897, null, 0.1577166805116419, 0.27259439198266694, null, 0.27259439198266694, 0.6225399675845897, null], \"type\": \"scatter3d\"}], \"traces\": [0, 1, 2, 3]}, {\"data\": [{\"mode\": \"markers\", \"name\": \"Original\", \"x\": [0.600049614906311, -0.7809175252914429, 0.875862717628479, 0.3285384774208069, -1.0524287223815918, -0.5754570960998535, 0.6043525338172913], \"y\": [0.8608657401380987, 0.23220708786074237, -0.674577362284773, 0.8789518590812266, 0.2502924224835358, -0.891244902188278, -0.6564924499052244], \"z\": [-0.44070832704195395, -0.8185426582931262, -0.33402618494729475, 0.5215571621529069, 0.14372227543151112, 0.2997597834424941, 0.6282395368580617], \"type\": \"scatter3d\"}, {\"mode\": \"lines\", \"name\": \"Original\", \"x\": [0.600049614906311, -0.7809175252914429, null, 0.600049614906311, 0.875862717628479, null, 0.600049614906311, 0.3285384774208069, null, -0.7809175252914429, -1.0524287223815918, null, 0.875862717628479, 0.6043525338172913, null, 0.3285384774208069, -1.0524287223815918, null, 0.3285384774208069, 0.6043525338172913, null, -1.0524287223815918, -0.5754570960998535, null, -0.5754570960998535, 0.6043525338172913, null], \"y\": [0.8608657401380987, 0.23220708786074237, null, 0.8608657401380987, -0.674577362284773, null, 0.8608657401380987, 0.8789518590812266, null, 0.23220708786074237, 0.2502924224835358, null, -0.674577362284773, -0.6564924499052244, null, 0.8789518590812266, 0.2502924224835358, null, 0.8789518590812266, -0.6564924499052244, null, 0.2502924224835358, -0.891244902188278, null, -0.891244902188278, -0.6564924499052244, null], \"z\": [-0.44070832704195395, -0.8185426582931262, null, -0.44070832704195395, -0.33402618494729475, null, -0.44070832704195395, 0.5215571621529069, null, -0.8185426582931262, 0.14372227543151112, null, -0.33402618494729475, 0.6282395368580617, null, 0.5215571621529069, 0.14372227543151112, null, 0.5215571621529069, 0.6282395368580617, null, 0.14372227543151112, 0.2997597834424941, null, 0.2997597834424941, 0.6282395368580617, null], \"type\": \"scatter3d\"}, {\"mode\": \"markers\", \"name\": \"Reconstructed\", \"x\": [0.600049614906311, -0.7809175252914429, 0.875862717628479, 0.3285384774208069, -1.0524287223815918, -0.5754570960998535, 0.6043525338172913], \"y\": [0.9218412266226693, 0.4330714301865294, -0.6580381749241705, 0.8106386580974698, 0.3142841565741172, -1.0675464398839767, -0.7542509734946029], \"z\": [-0.4080384664106174, -0.7109221955806383, -0.3251647067176266, 0.4849558509688698, 0.17800820170822648, 0.20529974716109, 0.5758618105729524], \"type\": \"scatter3d\"}, {\"mode\": \"lines\", \"name\": \"Reconstructed\", \"x\": [0.600049614906311, -0.7809175252914429, null, 0.600049614906311, 0.875862717628479, null, 0.600049614906311, 0.3285384774208069, null, -0.7809175252914429, -1.0524287223815918, null, 0.875862717628479, 0.6043525338172913, null, 0.3285384774208069, -1.0524287223815918, null, 0.3285384774208069, 0.6043525338172913, null, -1.0524287223815918, -0.5754570960998535, null, -0.5754570960998535, 0.6043525338172913, null], \"y\": [0.9218412266226693, 0.4330714301865294, null, 0.9218412266226693, -0.6580381749241705, null, 0.9218412266226693, 0.8106386580974698, null, 0.4330714301865294, 0.3142841565741172, null, -0.6580381749241705, -0.7542509734946029, null, 0.8106386580974698, 0.3142841565741172, null, 0.8106386580974698, -0.7542509734946029, null, 0.3142841565741172, -1.0675464398839767, null, -1.0675464398839767, -0.7542509734946029, null], \"z\": [-0.4080384664106174, -0.7109221955806383, null, -0.4080384664106174, -0.3251647067176266, null, -0.4080384664106174, 0.4849558509688698, null, -0.7109221955806383, 0.17800820170822648, null, -0.3251647067176266, 0.5758618105729524, null, 0.4849558509688698, 0.17800820170822648, null, 0.4849558509688698, 0.5758618105729524, null, 0.17800820170822648, 0.20529974716109, null, 0.20529974716109, 0.5758618105729524, null], \"type\": \"scatter3d\"}], \"traces\": [0, 1, 2, 3]}, {\"data\": [{\"mode\": \"markers\", \"name\": \"Original\", \"x\": [0.600049614906311, -0.7809175252914429, 0.875862717628479, 0.3285384774208069, -1.0524287223815918, -0.5754570960998535, 0.6043525338172913], \"y\": [0.8870839884152179, 0.2836547636624109, -0.6520339698924651, 0.8441030450745658, 0.24067307281061387, -0.9084624782787151, -0.6950161321205628], \"z\": [-0.38522155906047645, -0.8021671834162539, -0.3761380225978202, 0.5762536709394428, 0.15930744248711315, 0.24263002494699465, 0.585337363019283], \"type\": \"scatter3d\"}, {\"mode\": \"lines\", \"name\": \"Original\", \"x\": [0.600049614906311, -0.7809175252914429, null, 0.600049614906311, 0.875862717628479, null, 0.600049614906311, 0.3285384774208069, null, -0.7809175252914429, -1.0524287223815918, null, 0.875862717628479, 0.6043525338172913, null, 0.3285384774208069, -1.0524287223815918, null, 0.3285384774208069, 0.6043525338172913, null, -1.0524287223815918, -0.5754570960998535, null, -0.5754570960998535, 0.6043525338172913, null], \"y\": [0.8870839884152179, 0.2836547636624109, null, 0.8870839884152179, -0.6520339698924651, null, 0.8870839884152179, 0.8441030450745658, null, 0.2836547636624109, 0.24067307281061387, null, -0.6520339698924651, -0.6950161321205628, null, 0.8441030450745658, 0.24067307281061387, null, 0.8441030450745658, -0.6950161321205628, null, 0.24067307281061387, -0.9084624782787151, null, -0.9084624782787151, -0.6950161321205628, null], \"z\": [-0.38522155906047645, -0.8021671834162539, null, -0.38522155906047645, -0.3761380225978202, null, -0.38522155906047645, 0.5762536709394428, null, -0.8021671834162539, 0.15930744248711315, null, -0.3761380225978202, 0.585337363019283, null, 0.5762536709394428, 0.15930744248711315, null, 0.5762536709394428, 0.585337363019283, null, 0.15930744248711315, 0.24263002494699465, null, 0.24263002494699465, 0.585337363019283, null], \"type\": \"scatter3d\"}, {\"mode\": \"markers\", \"name\": \"Reconstructed\", \"x\": [0.600049614906311, -0.7809175252914429, 0.875862717628479, 0.3285384774208069, -1.0524287223815918, -0.5754570960998535, 0.6043525338172913], \"y\": [0.9458646609023377, 0.4772889895013548, -0.6360901109501884, 0.7782487792854917, 0.30236142300382046, -1.07841803818866, -0.7892558354706247], \"z\": [-0.34875016907239187, -0.6820237916039124, -0.36624540530042193, 0.5353933590656959, 0.19758294670341764, 0.13717843271696184, 0.5268648612969755], \"type\": \"scatter3d\"}, {\"mode\": \"lines\", \"name\": \"Reconstructed\", \"x\": [0.600049614906311, -0.7809175252914429, null, 0.600049614906311, 0.875862717628479, null, 0.600049614906311, 0.3285384774208069, null, -0.7809175252914429, -1.0524287223815918, null, 0.875862717628479, 0.6043525338172913, null, 0.3285384774208069, -1.0524287223815918, null, 0.3285384774208069, 0.6043525338172913, null, -1.0524287223815918, -0.5754570960998535, null, -0.5754570960998535, 0.6043525338172913, null], \"y\": [0.9458646609023377, 0.4772889895013548, null, 0.9458646609023377, -0.6360901109501884, null, 0.9458646609023377, 0.7782487792854917, null, 0.4772889895013548, 0.30236142300382046, null, -0.6360901109501884, -0.7892558354706247, null, 0.7782487792854917, 0.30236142300382046, null, 0.7782487792854917, -0.7892558354706247, null, 0.30236142300382046, -1.07841803818866, null, -1.07841803818866, -0.7892558354706247, null], \"z\": [-0.34875016907239187, -0.6820237916039124, null, -0.34875016907239187, -0.36624540530042193, null, -0.34875016907239187, 0.5353933590656959, null, -0.6820237916039124, 0.19758294670341764, null, -0.36624540530042193, 0.5268648612969755, null, 0.5353933590656959, 0.19758294670341764, null, 0.5353933590656959, 0.5268648612969755, null, 0.19758294670341764, 0.13717843271696184, null, 0.13717843271696184, 0.5268648612969755, null], \"type\": \"scatter3d\"}], \"traces\": [0, 1, 2, 3]}, {\"data\": [{\"mode\": \"markers\", \"name\": \"Original\", \"x\": [0.600049614906311, -0.7809175252914429, 0.875862717628479, 0.3285384774208069, -1.0524287223815918, -0.5754570960998535, 0.6043525338172913], \"y\": [0.9097302625617549, 0.3339602618449922, -0.6268650668347269, 0.8058553260262997, 0.23008461761754498, -0.9220219966052947, -0.7307412296734648], \"z\": [-0.3281836398222112, -0.7825616644116732, -0.41673528518691544, 0.6286298095782479, 0.17425113469838874, 0.18452328097578916, 0.5400782422108004], \"type\": \"scatter3d\"}, {\"mode\": \"lines\", \"name\": \"Original\", \"x\": [0.600049614906311, -0.7809175252914429, null, 0.600049614906311, 0.875862717628479, null, 0.600049614906311, 0.3285384774208069, null, -0.7809175252914429, -1.0524287223815918, null, 0.875862717628479, 0.6043525338172913, null, 0.3285384774208069, -1.0524287223815918, null, 0.3285384774208069, 0.6043525338172913, null, -1.0524287223815918, -0.5754570960998535, null, -0.5754570960998535, 0.6043525338172913, null], \"y\": [0.9097302625617549, 0.3339602618449922, null, 0.9097302625617549, -0.6268650668347269, null, 0.9097302625617549, 0.8058553260262997, null, 0.3339602618449922, 0.23008461761754498, null, -0.6268650668347269, -0.7307412296734648, null, 0.8058553260262997, 0.23008461761754498, null, 0.8058553260262997, -0.7307412296734648, null, 0.23008461761754498, -0.9220219966052947, null, -0.9220219966052947, -0.7307412296734648, null], \"z\": [-0.3281836398222112, -0.7825616644116732, null, -0.3281836398222112, -0.41673528518691544, null, -0.3281836398222112, 0.6286298095782479, null, -0.7825616644116732, 0.17425113469838874, null, -0.41673528518691544, 0.5400782422108004, null, 0.6286298095782479, 0.17425113469838874, null, 0.6286298095782479, 0.5400782422108004, null, 0.17425113469838874, 0.18452328097578916, null, 0.18452328097578916, 0.5400782422108004, null], \"type\": \"scatter3d\"}, {\"mode\": \"markers\", \"name\": \"Reconstructed\", \"x\": [0.600049614906311, -0.7809175252914429, 0.875862717628479, 0.3285384774208069, -1.0524287223815918, -0.5754570960998535, 0.6043525338172913], \"y\": [0.9660794320295905, 0.519584674511633, -0.6115807366034509, 0.7427251673173882, 0.28922118669966757, -1.0849472276744847, -0.8210826427601354], \"z\": [-0.2880575778925108, -0.6503791185344449, -0.4058513629001062, 0.5836750270693143, 0.21636209490790398, 0.06850474914055556, 0.4757464131782255], \"type\": \"scatter3d\"}, {\"mode\": \"lines\", \"name\": \"Reconstructed\", \"x\": [0.600049614906311, -0.7809175252914429, null, 0.600049614906311, 0.875862717628479, null, 0.600049614906311, 0.3285384774208069, null, -0.7809175252914429, -1.0524287223815918, null, 0.875862717628479, 0.6043525338172913, null, 0.3285384774208069, -1.0524287223815918, null, 0.3285384774208069, 0.6043525338172913, null, -1.0524287223815918, -0.5754570960998535, null, -0.5754570960998535, 0.6043525338172913, null], \"y\": [0.9660794320295905, 0.519584674511633, null, 0.9660794320295905, -0.6115807366034509, null, 0.9660794320295905, 0.7427251673173882, null, 0.519584674511633, 0.28922118669966757, null, -0.6115807366034509, -0.8210826427601354, null, 0.7427251673173882, 0.28922118669966757, null, 0.7427251673173882, -0.8210826427601354, null, 0.28922118669966757, -1.0849472276744847, null, -1.0849472276744847, -0.8210826427601354, null], \"z\": [-0.2880575778925108, -0.6503791185344449, null, -0.2880575778925108, -0.4058513629001062, null, -0.2880575778925108, 0.5836750270693143, null, -0.6503791185344449, 0.21636209490790398, null, -0.4058513629001062, 0.4757464131782255, null, 0.5836750270693143, 0.21636209490790398, null, 0.5836750270693143, 0.4757464131782255, null, 0.21636209490790398, 0.06850474914055556, null, 0.06850474914055556, 0.4757464131782255, null], \"type\": \"scatter3d\"}], \"traces\": [0, 1, 2, 3]}, {\"data\": [{\"mode\": \"markers\", \"name\": \"Original\", \"x\": [0.600049614906311, -0.7809175252914429, 0.875862717628479, 0.3285384774208069, -1.0524287223815918, -0.5754570960998535, 0.6043525338172913], \"y\": [0.9287133740245835, 0.382921019922318, -0.599171999400964, 0.7643627120017411, 0.21856969287626216, -0.9318688577734635, -0.7635238902050359], \"z\": [-0.2698242408967519, -0.7598050457847697, -0.45565450186668577, 0.6784746778448564, 0.18849317909108634, 0.12567352687843544, 0.49264441693818467], \"type\": \"scatter3d\"}, {\"mode\": \"lines\", \"name\": \"Original\", \"x\": [0.600049614906311, -0.7809175252914429, null, 0.600049614906311, 0.875862717628479, null, 0.600049614906311, 0.3285384774208069, null, -0.7809175252914429, -1.0524287223815918, null, 0.875862717628479, 0.6043525338172913, null, 0.3285384774208069, -1.0524287223815918, null, 0.3285384774208069, 0.6043525338172913, null, -1.0524287223815918, -0.5754570960998535, null, -0.5754570960998535, 0.6043525338172913, null], \"y\": [0.9287133740245835, 0.382921019922318, null, 0.9287133740245835, -0.599171999400964, null, 0.9287133740245835, 0.7643627120017411, null, 0.382921019922318, 0.21856969287626216, null, -0.599171999400964, -0.7635238902050359, null, 0.7643627120017411, 0.21856969287626216, null, 0.7643627120017411, -0.7635238902050359, null, 0.21856969287626216, -0.9318688577734635, null, -0.9318688577734635, -0.7635238902050359, null], \"z\": [-0.2698242408967519, -0.7598050457847697, null, -0.2698242408967519, -0.45565450186668577, null, -0.2698242408967519, 0.6784746778448564, null, -0.7598050457847697, 0.18849317909108634, null, -0.45565450186668577, 0.49264441693818467, null, 0.6784746778448564, 0.18849317909108634, null, 0.6784746778448564, 0.49264441693818467, null, 0.18849317909108634, 0.12567352687843544, null, 0.12567352687843544, 0.49264441693818467, null], \"type\": \"scatter3d\"}, {\"mode\": \"markers\", \"name\": \"Reconstructed\", \"x\": [0.600049614906311, -0.7809175252914429, 0.875862717628479, 0.3285384774208069, -1.0524287223815918, -0.5754570960998535, 0.6043525338172913], \"y\": [0.9824041422557761, 0.5597881754218268, -0.5846087424840212, 0.7042108632407169, 0.2749163587554906, -1.0871077175998276, -0.8496032400432539], \"z\": [-0.226205080514583, -0.6161155983018961, -0.4438231003041019, 0.6296064417433891, 0.2342700293198497, -0.0004447788823164776, 0.4227123021653382], \"type\": \"scatter3d\"}, {\"mode\": \"lines\", \"name\": \"Reconstructed\", \"x\": [0.600049614906311, -0.7809175252914429, null, 0.600049614906311, 0.875862717628479, null, 0.600049614906311, 0.3285384774208069, null, -0.7809175252914429, -1.0524287223815918, null, 0.875862717628479, 0.6043525338172913, null, 0.3285384774208069, -1.0524287223815918, null, 0.3285384774208069, 0.6043525338172913, null, -1.0524287223815918, -0.5754570960998535, null, -0.5754570960998535, 0.6043525338172913, null], \"y\": [0.9824041422557761, 0.5597881754218268, null, 0.9824041422557761, -0.5846087424840212, null, 0.9824041422557761, 0.7042108632407169, null, 0.5597881754218268, 0.2749163587554906, null, -0.5846087424840212, -0.8496032400432539, null, 0.7042108632407169, 0.2749163587554906, null, 0.7042108632407169, -0.8496032400432539, null, 0.2749163587554906, -1.0871077175998276, null, -1.0871077175998276, -0.8496032400432539, null], \"z\": [-0.226205080514583, -0.6161155983018961, null, -0.226205080514583, -0.4438231003041019, null, -0.226205080514583, 0.6296064417433891, null, -0.6161155983018961, 0.2342700293198497, null, -0.4438231003041019, 0.4227123021653382, null, 0.6296064417433891, 0.2342700293198497, null, 0.6296064417433891, 0.4227123021653382, null, 0.2342700293198497, -0.0004447788823164776, null, -0.0004447788823164776, 0.4227123021653382, null], \"type\": \"scatter3d\"}], \"traces\": [0, 1, 2, 3]}, {\"data\": [{\"mode\": \"markers\", \"name\": \"Original\", \"x\": [0.600049614906311, -0.7809175252914429, 0.875862717628479, 0.3285384774208069, -1.0524287223815918, -0.5754570960998535, 0.6043525338172913], \"y\": [0.9439568845138133, 0.4303398902020037, -0.5690662777996375, 0.7197922791130082, 0.20617466512457797, -0.9379634119486848, -0.79323210951175], \"z\": [-0.2103783549859866, -0.7339889604069475, -0.49273895868785544, 0.7255875680471927, 0.2019762279790769, 0.06631772984403136, 0.44322688647433667], \"type\": \"scatter3d\"}, {\"mode\": \"lines\", \"name\": \"Original\", \"x\": [0.600049614906311, -0.7809175252914429, null, 0.600049614906311, 0.875862717628479, null, 0.600049614906311, 0.3285384774208069, null, -0.7809175252914429, -1.0524287223815918, null, 0.875862717628479, 0.6043525338172913, null, 0.3285384774208069, -1.0524287223815918, null, 0.3285384774208069, 0.6043525338172913, null, -1.0524287223815918, -0.5754570960998535, null, -0.5754570960998535, 0.6043525338172913, null], \"y\": [0.9439568845138133, 0.4303398902020037, null, 0.9439568845138133, -0.5690662777996375, null, 0.9439568845138133, 0.7197922791130082, null, 0.4303398902020037, 0.20617466512457797, null, -0.5690662777996375, -0.79323210951175, null, 0.7197922791130082, 0.20617466512457797, null, 0.7197922791130082, -0.79323210951175, null, 0.20617466512457797, -0.9379634119486848, null, -0.9379634119486848, -0.79323210951175, null], \"z\": [-0.2103783549859866, -0.7339889604069475, null, -0.2103783549859866, -0.49273895868785544, null, -0.2103783549859866, 0.7255875680471927, null, -0.7339889604069475, 0.2019762279790769, null, -0.49273895868785544, 0.44322688647433667, null, 0.7255875680471927, 0.2019762279790769, null, 0.7255875680471927, 0.44322688647433667, null, 0.2019762279790769, 0.06631772984403136, null, 0.06631772984403136, 0.44322688647433667, null], \"type\": \"scatter3d\"}, {\"mode\": \"markers\", \"name\": \"Reconstructed\", \"x\": [0.600049614906311, -0.7809175252914429, 0.875862717628479, 0.3285384774208069, -1.0524287223815918, -0.5754570960998535, 0.6043525338172913], \"y\": [0.9947730577345179, 0.5977376069233447, -0.5552827352926214, 0.6628609505646118, 0.2595045396646212, -1.0848908084342908, -0.8747027849408874], \"z\": [-0.16344173511509744, -0.5793711980091472, -0.48000771872777, 0.673002653492233, 0.25123464100787113, -0.0693925159376103, 0.3679760779053048], \"type\": \"scatter3d\"}, {\"mode\": \"lines\", \"name\": \"Reconstructed\", \"x\": [0.600049614906311, -0.7809175252914429, null, 0.600049614906311, 0.875862717628479, null, 0.600049614906311, 0.3285384774208069, null, -0.7809175252914429, -1.0524287223815918, null, 0.875862717628479, 0.6043525338172913, null, 0.3285384774208069, -1.0524287223815918, null, 0.3285384774208069, 0.6043525338172913, null, -1.0524287223815918, -0.5754570960998535, null, -0.5754570960998535, 0.6043525338172913, null], \"y\": [0.9947730577345179, 0.5977376069233447, null, 0.9947730577345179, -0.5552827352926214, null, 0.9947730577345179, 0.6628609505646118, null, 0.5977376069233447, 0.2595045396646212, null, -0.5552827352926214, -0.8747027849408874, null, 0.6628609505646118, 0.2595045396646212, null, 0.6628609505646118, -0.8747027849408874, null, 0.2595045396646212, -1.0848908084342908, null, -1.0848908084342908, -0.8747027849408874, null], \"z\": [-0.16344173511509744, -0.5793711980091472, null, -0.16344173511509744, -0.48000771872777, null, -0.16344173511509744, 0.673002653492233, null, -0.5793711980091472, 0.25123464100787113, null, -0.48000771872777, 0.3679760779053048, null, 0.673002653492233, 0.25123464100787113, null, 0.673002653492233, 0.3679760779053048, null, 0.25123464100787113, -0.0693925159376103, null, -0.0693925159376103, 0.3679760779053048, null], \"type\": \"scatter3d\"}], \"traces\": [0, 1, 2, 3]}, {\"data\": [{\"mode\": \"markers\", \"name\": \"Original\", \"x\": [0.600049614906311, -0.7809175252914429, 0.875862717628479, 0.3285384774208069, -1.0524287223815918, -0.5754570960998535, 0.6043525338172913], \"y\": [0.9553994137928062, 0.47602593362962864, -0.5366691271460086, 0.672323496762487, 0.19294944476450038, -0.9402811185123305, -0.8197462630797907], \"z\": [-0.15008534969142226, -0.7052173605423965, -0.5278393296315343, 0.7697787732046137, 0.21464598988324687, 0.006694894717974859, 0.3920246377728242], \"type\": \"scatter3d\"}, {\"mode\": \"lines\", \"name\": \"Original\", \"x\": [0.600049614906311, -0.7809175252914429, null, 0.600049614906311, 0.875862717628479, null, 0.600049614906311, 0.3285384774208069, null, -0.7809175252914429, -1.0524287223815918, null, 0.875862717628479, 0.6043525338172913, null, 0.3285384774208069, -1.0524287223815918, null, 0.3285384774208069, 0.6043525338172913, null, -1.0524287223815918, -0.5754570960998535, null, -0.5754570960998535, 0.6043525338172913, null], \"y\": [0.9553994137928062, 0.47602593362962864, null, 0.9553994137928062, -0.5366691271460086, null, 0.9553994137928062, 0.672323496762487, null, 0.47602593362962864, 0.19294944476450038, null, -0.5366691271460086, -0.8197462630797907, null, 0.672323496762487, 0.19294944476450038, null, 0.672323496762487, -0.8197462630797907, null, 0.19294944476450038, -0.9402811185123305, null, -0.9402811185123305, -0.8197462630797907, null], \"z\": [-0.15008534969142226, -0.7052173605423965, null, -0.15008534969142226, -0.5278393296315343, null, -0.15008534969142226, 0.7697787732046137, null, -0.7052173605423965, 0.21464598988324687, null, -0.5278393296315343, 0.3920246377728242, null, 0.7697787732046137, 0.21464598988324687, null, 0.7697787732046137, 0.3920246377728242, null, 0.21464598988324687, 0.006694894717974859, null, 0.006694894717974859, 0.3920246377728242, null], \"type\": \"scatter3d\"}, {\"mode\": \"markers\", \"name\": \"Reconstructed\", \"x\": [0.600049614906311, -0.7809175252914429, 0.875862717628479, 0.3285384774208069, -1.0524287223815918, -0.5754570960998535, 0.6043525338172913], \"y\": [1.0031363732087148, 0.6332801600495459, -0.5237208005097795, 0.6188419307932249, 0.2430477873830326, -1.0783054268886398, -0.8962802104444613], \"z\": [-0.10002026753404536, -0.5402938743874697, -0.5142595154838547, 0.7136889210875565, 0.2671876194682549, -0.1380608338228795, 0.3117581438544105], \"type\": \"scatter3d\"}, {\"mode\": \"lines\", \"name\": \"Reconstructed\", \"x\": [0.600049614906311, -0.7809175252914429, null, 0.600049614906311, 0.875862717628479, null, 0.600049614906311, 0.3285384774208069, null, -0.7809175252914429, -1.0524287223815918, null, 0.875862717628479, 0.6043525338172913, null, 0.3285384774208069, -1.0524287223815918, null, 0.3285384774208069, 0.6043525338172913, null, -1.0524287223815918, -0.5754570960998535, null, -0.5754570960998535, 0.6043525338172913, null], \"y\": [1.0031363732087148, 0.6332801600495459, null, 1.0031363732087148, -0.5237208005097795, null, 1.0031363732087148, 0.6188419307932249, null, 0.6332801600495459, 0.2430477873830326, null, -0.5237208005097795, -0.8962802104444613, null, 0.6188419307932249, 0.2430477873830326, null, 0.6188419307932249, -0.8962802104444613, null, 0.2430477873830326, -1.0783054268886398, null, -1.0783054268886398, -0.8962802104444613, null], \"z\": [-0.10002026753404536, -0.5402938743874697, null, -0.10002026753404536, -0.5142595154838547, null, -0.10002026753404536, 0.7136889210875565, null, -0.5402938743874697, 0.2671876194682549, null, -0.5142595154838547, 0.3117581438544105, null, 0.7136889210875565, 0.2671876194682549, null, 0.7136889210875565, 0.3117581438544105, null, 0.2671876194682549, -0.1380608338228795, null, -0.1380608338228795, 0.3117581438544105, null], \"type\": \"scatter3d\"}], \"traces\": [0, 1, 2, 3]}, {\"data\": [{\"mode\": \"markers\", \"name\": \"Original\", \"x\": [0.600049614906311, -0.7809175252914429, 0.875862717628479, 0.3285384774208069, -1.0524287223815918, -0.5754570960998535, 0.6043525338172913], \"y\": [0.9629948868347254, 0.5197951886329142, -0.5021109993313871, 0.6221475049828922, 0.17894728509066044, -0.9388126448780888, -0.8429595877707446], \"z\": [-0.08918800366533954, -0.6736060992690144, -0.5608142778923892, 0.8108703509309613, 0.2264514481441216, -0.052954898386189476, 0.33924384421765374], \"type\": \"scatter3d\"}, {\"mode\": \"lines\", \"name\": \"Original\", \"x\": [0.600049614906311, -0.7809175252914429, null, 0.600049614906311, 0.875862717628479, null, 0.600049614906311, 0.3285384774208069, null, -0.7809175252914429, -1.0524287223815918, null, 0.875862717628479, 0.6043525338172913, null, 0.3285384774208069, -1.0524287223815918, null, 0.3285384774208069, 0.6043525338172913, null, -1.0524287223815918, -0.5754570960998535, null, -0.5754570960998535, 0.6043525338172913, null], \"y\": [0.9629948868347254, 0.5197951886329142, null, 0.9629948868347254, -0.5021109993313871, null, 0.9629948868347254, 0.6221475049828922, null, 0.5197951886329142, 0.17894728509066044, null, -0.5021109993313871, -0.8429595877707446, null, 0.6221475049828922, 0.17894728509066044, null, 0.6221475049828922, -0.8429595877707446, null, 0.17894728509066044, -0.9388126448780888, null, -0.9388126448780888, -0.8429595877707446, null], \"z\": [-0.08918800366533954, -0.6736060992690144, null, -0.08918800366533954, -0.5608142778923892, null, -0.08918800366533954, 0.8108703509309613, null, -0.6736060992690144, 0.2264514481441216, null, -0.5608142778923892, 0.33924384421765374, null, 0.8108703509309613, 0.2264514481441216, null, 0.8108703509309613, 0.33924384421765374, null, 0.2264514481441216, -0.052954898386189476, null, -0.052954898386189476, 0.33924384421765374, null], \"type\": \"scatter3d\"}, {\"mode\": \"markers\", \"name\": \"Reconstructed\", \"x\": [0.600049614906311, -0.7809175252914429, 0.875862717628479, 0.3285384774208069, -1.0524287223815918, -0.5754570960998535, 0.6043525338172913], \"y\": [1.0074604125587325, 0.666272717483514, -0.490050026907278, 0.5723310529829373, 0.22561236744385466, -1.0673780899700895, -0.9142486318770907], \"z\": [-0.036196053637163855, -0.4990409780269901, -0.5464405706757776, 0.7515014152897181, 0.28206472768724544, -0.2061732294580549, 0.2542848697913087], \"type\": \"scatter3d\"}, {\"mode\": \"lines\", \"name\": \"Reconstructed\", \"x\": [0.600049614906311, -0.7809175252914429, null, 0.600049614906311, 0.875862717628479, null, 0.600049614906311, 0.3285384774208069, null, -0.7809175252914429, -1.0524287223815918, null, 0.875862717628479, 0.6043525338172913, null, 0.3285384774208069, -1.0524287223815918, null, 0.3285384774208069, 0.6043525338172913, null, -1.0524287223815918, -0.5754570960998535, null, -0.5754570960998535, 0.6043525338172913, null], \"y\": [1.0074604125587325, 0.666272717483514, null, 1.0074604125587325, -0.490050026907278, null, 1.0074604125587325, 0.5723310529829373, null, 0.666272717483514, 0.22561236744385466, null, -0.490050026907278, -0.9142486318770907, null, 0.5723310529829373, 0.22561236744385466, null, 0.5723310529829373, -0.9142486318770907, null, 0.22561236744385466, -1.0673780899700895, null, -1.0673780899700895, -0.9142486318770907, null], \"z\": [-0.036196053637163855, -0.4990409780269901, null, -0.036196053637163855, -0.5464405706757776, null, -0.036196053637163855, 0.7515014152897181, null, -0.4990409780269901, 0.28206472768724544, null, -0.5464405706757776, 0.2542848697913087, null, 0.7515014152897181, 0.28206472768724544, null, 0.7515014152897181, 0.2542848697913087, null, 0.28206472768724544, -0.2061732294580549, null, -0.2061732294580549, 0.2542848697913087, null], \"type\": \"scatter3d\"}], \"traces\": [0, 1, 2, 3]}, {\"data\": [{\"mode\": \"markers\", \"name\": \"Original\", \"x\": [0.600049614906311, -0.7809175252914429, 0.875862717628479, 0.3285384774208069, -1.0524287223815918, -0.5754570960998535, 0.6043525338172913], \"y\": [0.9667127193504059, 0.5614714118700485, -0.46553104773940607, 0.5694663447838155, 0.16422456785808937, -0.933563904070996, -0.8627786117190799], \"z\": [-0.027931529026845713, -0.6392824639789507, -0.5915310249920769, 0.848696839945748, 0.2373450663479477, -0.11239146080465498, 0.2850970354358189], \"type\": \"scatter3d\"}, {\"mode\": \"lines\", \"name\": \"Original\", \"x\": [0.600049614906311, -0.7809175252914429, null, 0.600049614906311, 0.875862717628479, null, 0.600049614906311, 0.3285384774208069, null, -0.7809175252914429, -1.0524287223815918, null, 0.875862717628479, 0.6043525338172913, null, 0.3285384774208069, -1.0524287223815918, null, 0.3285384774208069, 0.6043525338172913, null, -1.0524287223815918, -0.5754570960998535, null, -0.5754570960998535, 0.6043525338172913, null], \"y\": [0.9667127193504059, 0.5614714118700485, null, 0.9667127193504059, -0.46553104773940607, null, 0.9667127193504059, 0.5694663447838155, null, 0.5614714118700485, 0.16422456785808937, null, -0.46553104773940607, -0.8627786117190799, null, 0.5694663447838155, 0.16422456785808937, null, 0.5694663447838155, -0.8627786117190799, null, 0.16422456785808937, -0.933563904070996, null, -0.933563904070996, -0.8627786117190799, null], \"z\": [-0.027931529026845713, -0.6392824639789507, null, -0.027931529026845713, -0.5915310249920769, null, -0.027931529026845713, 0.848696839945748, null, -0.6392824639789507, 0.2373450663479477, null, -0.5915310249920769, 0.2850970354358189, null, 0.848696839945748, 0.2373450663479477, null, 0.848696839945748, 0.2850970354358189, null, 0.2373450663479477, -0.11239146080465498, null, -0.11239146080465498, 0.2850970354358189, null], \"type\": \"scatter3d\"}, {\"mode\": \"markers\", \"name\": \"Reconstructed\", \"x\": [0.600049614906311, -0.7809175252914429, 0.875862717628479, 0.3285384774208069, -1.0524287223815918, -0.5754570960998535, 0.6043525338172913], \"y\": [1.007727764404251, 0.6965824298409804, -0.4544059948065237, 0.5235156000229654, 0.20726848612945928, -1.0521527982076755, -0.9285356967475091], \"z\": [0.02777390899254387, -0.4557786197813987, -0.5764213025523839, 0.7862878785302503, 0.29580606080082766, -0.2734554382657604, 0.1957876803058168], \"type\": \"scatter3d\"}, {\"mode\": \"lines\", \"name\": \"Reconstructed\", \"x\": [0.600049614906311, -0.7809175252914429, null, 0.600049614906311, 0.875862717628479, null, 0.600049614906311, 0.3285384774208069, null, -0.7809175252914429, -1.0524287223815918, null, 0.875862717628479, 0.6043525338172913, null, 0.3285384774208069, -1.0524287223815918, null, 0.3285384774208069, 0.6043525338172913, null, -1.0524287223815918, -0.5754570960998535, null, -0.5754570960998535, 0.6043525338172913, null], \"y\": [1.007727764404251, 0.6965824298409804, null, 1.007727764404251, -0.4544059948065237, null, 1.007727764404251, 0.5235156000229654, null, 0.6965824298409804, 0.20726848612945928, null, -0.4544059948065237, -0.9285356967475091, null, 0.5235156000229654, 0.20726848612945928, null, 0.5235156000229654, -0.9285356967475091, null, 0.20726848612945928, -1.0521527982076755, null, -1.0521527982076755, -0.9285356967475091, null], \"z\": [0.02777390899254387, -0.4557786197813987, null, 0.02777390899254387, -0.5764213025523839, null, 0.02777390899254387, 0.7862878785302503, null, -0.4557786197813987, 0.29580606080082766, null, -0.5764213025523839, 0.1957876803058168, null, 0.7862878785302503, 0.29580606080082766, null, 0.7862878785302503, 0.1957876803058168, null, 0.29580606080082766, -0.2734554382657604, null, -0.2734554382657604, 0.1957876803058168, null], \"type\": \"scatter3d\"}], \"traces\": [0, 1, 2, 3]}, {\"data\": [{\"mode\": \"markers\", \"name\": \"Original\", \"x\": [0.600049614906311, -0.7809175252914429, 0.875862717628479, 0.3285384774208069, -1.0524287223815918, -0.5754570960998535, 0.6043525338172913], \"y\": [0.966537940940493, 0.6008867878994177, -0.4270765669244614, 0.5144921446038931, 0.1488405762527919, -0.9245560309177722, -0.8791235307103571], \"z\": [0.03343741602077926, -0.6023846638372065, -0.6198658854313103, 0.883105926328334, 0.24728297973905267, -0.17137546247832505, 0.22980224151550696], \"type\": \"scatter3d\"}, {\"mode\": \"lines\", \"name\": \"Original\", \"x\": [0.600049614906311, -0.7809175252914429, null, 0.600049614906311, 0.875862717628479, null, 0.600049614906311, 0.3285384774208069, null, -0.7809175252914429, -1.0524287223815918, null, 0.875862717628479, 0.6043525338172913, null, 0.3285384774208069, -1.0524287223815918, null, 0.3285384774208069, 0.6043525338172913, null, -1.0524287223815918, -0.5754570960998535, null, -0.5754570960998535, 0.6043525338172913, null], \"y\": [0.966537940940493, 0.6008867878994177, null, 0.966537940940493, -0.4270765669244614, null, 0.966537940940493, 0.5144921446038931, null, 0.6008867878994177, 0.1488405762527919, null, -0.4270765669244614, -0.8791235307103571, null, 0.5144921446038931, 0.1488405762527919, null, 0.5144921446038931, -0.8791235307103571, null, 0.1488405762527919, -0.9245560309177722, null, -0.9245560309177722, -0.8791235307103571, null], \"z\": [0.03343741602077926, -0.6023846638372065, null, 0.03343741602077926, -0.6198658854313103, null, 0.03343741602077926, 0.883105926328334, null, -0.6023846638372065, 0.24728297973905267, null, -0.6198658854313103, 0.22980224151550696, null, 0.883105926328334, 0.24728297973905267, null, 0.883105926328334, 0.22980224151550696, null, 0.24728297973905267, -0.17137546247832505, null, -0.17137546247832505, 0.22980224151550696, null], \"type\": \"scatter3d\"}, {\"mode\": \"markers\", \"name\": \"Reconstructed\", \"x\": [0.600049614906311, -0.7809175252914429, 0.875862717628479, 0.3285384774208069, -1.0524287223815918, -0.5754570960998535, 0.6043525338172913], \"y\": [1.003937352213749, 0.7240872506079049, -0.4169322301444484, 0.4725921345132706, 0.18809000777554144, -1.032690858477653, -0.9390838760880135], \"z\": [0.09163203589336585, -0.4106810018981721, -0.6040809892879182, 0.8179082379993479, 0.3083562873104707, -0.3396365385379617, 0.13650212293377595], \"type\": \"scatter3d\"}, {\"mode\": \"lines\", \"name\": \"Reconstructed\", \"x\": [0.600049614906311, -0.7809175252914429, null, 0.600049614906311, 0.875862717628479, null, 0.600049614906311, 0.3285384774208069, null, -0.7809175252914429, -1.0524287223815918, null, 0.875862717628479, 0.6043525338172913, null, 0.3285384774208069, -1.0524287223815918, null, 0.3285384774208069, 0.6043525338172913, null, -1.0524287223815918, -0.5754570960998535, null, -0.5754570960998535, 0.6043525338172913, null], \"y\": [1.003937352213749, 0.7240872506079049, null, 1.003937352213749, -0.4169322301444484, null, 1.003937352213749, 0.4725921345132706, null, 0.7240872506079049, 0.18809000777554144, null, -0.4169322301444484, -0.9390838760880135, null, 0.4725921345132706, 0.18809000777554144, null, 0.4725921345132706, -0.9390838760880135, null, 0.18809000777554144, -1.032690858477653, null, -1.032690858477653, -0.9390838760880135, null], \"z\": [0.09163203589336585, -0.4106810018981721, null, 0.09163203589336585, -0.6040809892879182, null, 0.09163203589336585, 0.8179082379993479, null, -0.4106810018981721, 0.3083562873104707, null, -0.6040809892879182, 0.13650212293377595, null, 0.8179082379993479, 0.3083562873104707, null, 0.8179082379993479, 0.13650212293377595, null, 0.3083562873104707, -0.3396365385379617, null, -0.3396365385379617, 0.13650212293377595, null], \"type\": \"scatter3d\"}], \"traces\": [0, 1, 2, 3]}, {\"data\": [{\"mode\": \"markers\", \"name\": \"Original\", \"x\": [0.600049614906311, -0.7809175252914429, 0.875862717628479, 0.3285384774208069, -1.0524287223815918, -0.5754570960998535, 0.6043525338172913], \"y\": [0.9624712553759561, 0.6378826049131634, -0.38690239950852506, 0.4574462661444475, 0.1328572561792784, -0.9118252969443323, -0.8919285295246357], \"z\": [0.0946717203956161, -0.5630612732621034, -0.6457047647277137, 0.9139590568323297, 0.25622517184773536, -0.2296693956504965, 0.1735821150758813], \"type\": \"scatter3d\"}, {\"mode\": \"lines\", \"name\": \"Original\", \"x\": [0.600049614906311, -0.7809175252914429, null, 0.600049614906311, 0.875862717628479, null, 0.600049614906311, 0.3285384774208069, null, -0.7809175252914429, -1.0524287223815918, null, 0.875862717628479, 0.6043525338172913, null, 0.3285384774208069, -1.0524287223815918, null, 0.3285384774208069, 0.6043525338172913, null, -1.0524287223815918, -0.5754570960998535, null, -0.5754570960998535, 0.6043525338172913, null], \"y\": [0.9624712553759561, 0.6378826049131634, null, 0.9624712553759561, -0.38690239950852506, null, 0.9624712553759561, 0.4574462661444475, null, 0.6378826049131634, 0.1328572561792784, null, -0.38690239950852506, -0.8919285295246357, null, 0.4574462661444475, 0.1328572561792784, null, 0.4574462661444475, -0.8919285295246357, null, 0.1328572561792784, -0.9118252969443323, null, -0.9118252969443323, -0.8919285295246357, null], \"z\": [0.0946717203956161, -0.5630612732621034, null, 0.0946717203956161, -0.6457047647277137, null, 0.0946717203956161, 0.9139590568323297, null, -0.5630612732621034, 0.25622517184773536, null, -0.6457047647277137, 0.1735821150758813, null, 0.9139590568323297, 0.25622517184773536, null, 0.9139590568323297, 0.1735821150758813, null, 0.25622517184773536, -0.2296693956504965, null, -0.2296693956504965, 0.1735821150758813, null], \"type\": \"scatter3d\"}, {\"mode\": \"markers\", \"name\": \"Reconstructed\", \"x\": [0.600049614906311, -0.7809175252914429, 0.875862717628479, 0.3285384774208069, -1.0524287223815918, -0.5754570960998535, 0.6043525338172913], \"y\": [0.9961044386393149, 0.7486764275787144, -0.37777962654521413, 0.41976570727634005, 0.1681541573455078, -1.0090706371423448, -0.9458506961033137], \"z\": [0.1551211929266013, -0.3639297165676022, -0.6293082550862112, 0.8462351696696382, 0.3196648718835447, -0.40445004234207055, 0.07666691969025456], \"type\": \"scatter3d\"}, {\"mode\": \"lines\", \"name\": \"Reconstructed\", \"x\": [0.600049614906311, -0.7809175252914429, null, 0.600049614906311, 0.875862717628479, null, 0.600049614906311, 0.3285384774208069, null, -0.7809175252914429, -1.0524287223815918, null, 0.875862717628479, 0.6043525338172913, null, 0.3285384774208069, -1.0524287223815918, null, 0.3285384774208069, 0.6043525338172913, null, -1.0524287223815918, -0.5754570960998535, null, -0.5754570960998535, 0.6043525338172913, null], \"y\": [0.9961044386393149, 0.7486764275787144, null, 0.9961044386393149, -0.37777962654521413, null, 0.9961044386393149, 0.41976570727634005, null, 0.7486764275787144, 0.1681541573455078, null, -0.37777962654521413, -0.9458506961033137, null, 0.41976570727634005, 0.1681541573455078, null, 0.41976570727634005, -0.9458506961033137, null, 0.1681541573455078, -1.0090706371423448, null, -1.0090706371423448, -0.9458506961033137, null], \"z\": [0.1551211929266013, -0.3639297165676022, null, 0.1551211929266013, -0.6293082550862112, null, 0.1551211929266013, 0.8462351696696382, null, -0.3639297165676022, 0.3196648718835447, null, -0.6293082550862112, 0.07666691969025456, null, 0.8462351696696382, 0.3196648718835447, null, 0.8462351696696382, 0.07666691969025456, null, 0.3196648718835447, -0.40445004234207055, null, -0.40445004234207055, 0.07666691969025456, null], \"type\": \"scatter3d\"}], \"traces\": [0, 1, 2, 3]}, {\"data\": [{\"mode\": \"markers\", \"name\": \"Original\", \"x\": [0.600049614906311, -0.7809175252914429, 0.875862717628479, 0.3285384774208069, -1.0524287223815918, -0.5754570960998535, 0.6043525338172913], \"y\": [0.9545290377642524, 0.6723098938136146, -0.34517031268455894, 0.39855841302404726, 0.11633896682627164, -0.8954229643231546, -0.9011420469511354], \"z\": [0.1555248151662136, -0.5214706336685416, -0.6689436188340316, 0.9411319967906155, 0.26413563562246495, -0.2870385312267655, 0.11666303472357095], \"type\": \"scatter3d\"}, {\"mode\": \"lines\", \"name\": \"Original\", \"x\": [0.600049614906311, -0.7809175252914429, null, 0.600049614906311, 0.875862717628479, null, 0.600049614906311, 0.3285384774208069, null, -0.7809175252914429, -1.0524287223815918, null, 0.875862717628479, 0.6043525338172913, null, 0.3285384774208069, -1.0524287223815918, null, 0.3285384774208069, 0.6043525338172913, null, -1.0524287223815918, -0.5754570960998535, null, -0.5754570960998535, 0.6043525338172913, null], \"y\": [0.9545290377642524, 0.6723098938136146, null, 0.9545290377642524, -0.34517031268455894, null, 0.9545290377642524, 0.39855841302404726, null, 0.6723098938136146, 0.11633896682627164, null, -0.34517031268455894, -0.9011420469511354, null, 0.39855841302404726, 0.11633896682627164, null, 0.39855841302404726, -0.9011420469511354, null, 0.11633896682627164, -0.8954229643231546, null, -0.8954229643231546, -0.9011420469511354, null], \"z\": [0.1555248151662136, -0.5214706336685416, null, 0.1555248151662136, -0.6689436188340316, null, 0.1555248151662136, 0.9411319967906155, null, -0.5214706336685416, 0.26413563562246495, null, -0.6689436188340316, 0.11666303472357095, null, 0.9411319967906155, 0.26413563562246495, null, 0.9411319967906155, 0.11666303472357095, null, 0.26413563562246495, -0.2870385312267655, null, -0.2870385312267655, 0.11666303472357095, null], \"type\": \"scatter3d\"}, {\"mode\": \"markers\", \"name\": \"Reconstructed\", \"x\": [0.600049614906311, -0.7809175252914429, 0.875862717628479, 0.3285384774208069, -1.0524287223815918, -0.5754570960998535, 0.6043525338172913], \"y\": [0.9842605640593347, 0.7702509488163445, -0.3371058377248474, 0.3652490316898983, 0.14754120947280577, -0.9813872444964581, -0.9488089091975154], \"z\": [0.21798573166497975, -0.3157130147151402, -0.6520015186516993, 0.8711546109850988, 0.3296862788412682, -0.46763496857379017, 0.016523005820252047], \"type\": \"scatter3d\"}, {\"mode\": \"lines\", \"name\": \"Reconstructed\", \"x\": [0.600049614906311, -0.7809175252914429, null, 0.600049614906311, 0.875862717628479, null, 0.600049614906311, 0.3285384774208069, null, -0.7809175252914429, -1.0524287223815918, null, 0.875862717628479, 0.6043525338172913, null, 0.3285384774208069, -1.0524287223815918, null, 0.3285384774208069, 0.6043525338172913, null, -1.0524287223815918, -0.5754570960998535, null, -0.5754570960998535, 0.6043525338172913, null], \"y\": [0.9842605640593347, 0.7702509488163445, null, 0.9842605640593347, -0.3371058377248474, null, 0.9842605640593347, 0.3652490316898983, null, 0.7702509488163445, 0.14754120947280577, null, -0.3371058377248474, -0.9488089091975154, null, 0.3652490316898983, 0.14754120947280577, null, 0.3652490316898983, -0.9488089091975154, null, 0.14754120947280577, -0.9813872444964581, null, -0.9813872444964581, -0.9488089091975154, null], \"z\": [0.21798573166497975, -0.3157130147151402, null, 0.21798573166497975, -0.6520015186516993, null, 0.21798573166497975, 0.8711546109850988, null, -0.3157130147151402, 0.3296862788412682, null, -0.6520015186516993, 0.016523005820252047, null, 0.8711546109850988, 0.3296862788412682, null, 0.8711546109850988, 0.016523005820252047, null, 0.3296862788412682, -0.46763496857379017, null, -0.46763496857379017, 0.016523005820252047, null], \"type\": \"scatter3d\"}], \"traces\": [0, 1, 2, 3]}, {\"data\": [{\"mode\": \"markers\", \"name\": \"Original\", \"x\": [0.600049614906311, -0.7809175252914429, 0.875862717628479, 0.3285384774208069, -1.0524287223815918, -0.5754570960998535, 0.6043525338172913], \"y\": [0.942743268612548, 0.7040300280592663, -0.3020483468371225, 0.3380657058431068, 0.09935222151496866, -0.8754150794586029, -0.9067269834070332], \"z\": [0.21575166639765198, -0.47778021588300684, -0.6894888730867871, 0.9645153303644998, 0.2709825184175697, -0.34325186394624596, 0.05927419350591916], \"type\": \"scatter3d\"}, {\"mode\": \"lines\", \"name\": \"Original\", \"x\": [0.600049614906311, -0.7809175252914429, null, 0.600049614906311, 0.875862717628479, null, 0.600049614906311, 0.3285384774208069, null, -0.7809175252914429, -1.0524287223815918, null, 0.875862717628479, 0.6043525338172913, null, 0.3285384774208069, -1.0524287223815918, null, 0.3285384774208069, 0.6043525338172913, null, -1.0524287223815918, -0.5754570960998535, null, -0.5754570960998535, 0.6043525338172913, null], \"y\": [0.942743268612548, 0.7040300280592663, null, 0.942743268612548, -0.3020483468371225, null, 0.942743268612548, 0.3380657058431068, null, 0.7040300280592663, 0.09935222151496866, null, -0.3020483468371225, -0.9067269834070332, null, 0.3380657058431068, 0.09935222151496866, null, 0.3380657058431068, -0.9067269834070332, null, 0.09935222151496866, -0.8754150794586029, null, -0.8754150794586029, -0.9067269834070332, null], \"z\": [0.21575166639765198, -0.47778021588300684, null, 0.21575166639765198, -0.6894888730867871, null, 0.21575166639765198, 0.9645153303644998, null, -0.47778021588300684, 0.2709825184175697, null, -0.6894888730867871, 0.05927419350591916, null, 0.9645153303644998, 0.2709825184175697, null, 0.9645153303644998, 0.05927419350591916, null, 0.2709825184175697, -0.34325186394624596, null, -0.34325186394624596, 0.05927419350591916, null], \"type\": \"scatter3d\"}, {\"mode\": \"markers\", \"name\": \"Reconstructed\", \"x\": [0.600049614906311, -0.7809175252914429, 0.875862717628479, 0.3285384774208069, -1.0524287223815918, -0.5754570960998535, 0.6043525338172913], \"y\": [0.9684534195765204, 0.7887239413383641, -0.295074642675367, 0.3092616271652104, 0.12633416522330698, -0.9497521517914963, -0.9479466036905708], \"z\": [0.2799725187986498, -0.266225047981361, -0.6720694022214505, 0.8925662201507144, 0.3383801555148159, -0.528936893835912, -0.04368744036249747], \"type\": \"scatter3d\"}, {\"mode\": \"lines\", \"name\": \"Reconstructed\", \"x\": [0.600049614906311, -0.7809175252914429, null, 0.600049614906311, 0.875862717628479, null, 0.600049614906311, 0.3285384774208069, null, -0.7809175252914429, -1.0524287223815918, null, 0.875862717628479, 0.6043525338172913, null, 0.3285384774208069, -1.0524287223815918, null, 0.3285384774208069, 0.6043525338172913, null, -1.0524287223815918, -0.5754570960998535, null, -0.5754570960998535, 0.6043525338172913, null], \"y\": [0.9684534195765204, 0.7887239413383641, null, 0.9684534195765204, -0.295074642675367, null, 0.9684534195765204, 0.3092616271652104, null, 0.7887239413383641, 0.12633416522330698, null, -0.295074642675367, -0.9479466036905708, null, 0.3092616271652104, 0.12633416522330698, null, 0.3092616271652104, -0.9479466036905708, null, 0.12633416522330698, -0.9497521517914963, null, -0.9497521517914963, -0.9479466036905708, null], \"z\": [0.2799725187986498, -0.266225047981361, null, 0.2799725187986498, -0.6720694022214505, null, 0.2799725187986498, 0.8925662201507144, null, -0.266225047981361, 0.3383801555148159, null, -0.6720694022214505, -0.04368744036249747, null, 0.8925662201507144, 0.3383801555148159, null, 0.8925662201507144, -0.04368744036249747, null, 0.3383801555148159, -0.528936893835912, null, -0.528936893835912, -0.04368744036249747, null], \"type\": \"scatter3d\"}], \"traces\": [0, 1, 2, 3]}, {\"data\": [{\"mode\": \"markers\", \"name\": \"Original\", \"x\": [0.600049614906311, -0.7809175252914429, 0.875862717628479, 0.3285384774208069, -1.0524287223815918, -0.5754570960998535, 0.6043525338172913], \"y\": [0.9271614050535032, 0.7329152818649346, -0.2577101389030555, 0.2762117273829213, 0.08196541987337262, -0.8518822070413691, -0.9086608503243897], \"z\": [0.2751097618167125, -0.43216594579766193, -0.7072577989984233, 0.9840149011226816, 0.2767382502525982, -0.3980830425582208, 0.0016466760314770013], \"type\": \"scatter3d\"}, {\"mode\": \"lines\", \"name\": \"Original\", \"x\": [0.600049614906311, -0.7809175252914429, null, 0.600049614906311, 0.875862717628479, null, 0.600049614906311, 0.3285384774208069, null, -0.7809175252914429, -1.0524287223815918, null, 0.875862717628479, 0.6043525338172913, null, 0.3285384774208069, -1.0524287223815918, null, 0.3285384774208069, 0.6043525338172913, null, -1.0524287223815918, -0.5754570960998535, null, -0.5754570960998535, 0.6043525338172913, null], \"y\": [0.9271614050535032, 0.7329152818649346, null, 0.9271614050535032, -0.2577101389030555, null, 0.9271614050535032, 0.2762117273829213, null, 0.7329152818649346, 0.08196541987337262, null, -0.2577101389030555, -0.9086608503243897, null, 0.2762117273829213, 0.08196541987337262, null, 0.2762117273829213, -0.9086608503243897, null, 0.08196541987337262, -0.8518822070413691, null, -0.8518822070413691, -0.9086608503243897, null], \"z\": [0.2751097618167125, -0.43216594579766193, null, 0.2751097618167125, -0.7072577989984233, null, 0.2751097618167125, 0.9840149011226816, null, -0.43216594579766193, 0.2767382502525982, null, -0.7072577989984233, 0.0016466760314770013, null, 0.9840149011226816, 0.2767382502525982, null, 0.9840149011226816, 0.0016466760314770013, null, 0.2767382502525982, -0.3980830425582208, null, -0.3980830425582208, 0.0016466760314770013, null], \"type\": \"scatter3d\"}, {\"mode\": \"markers\", \"name\": \"Reconstructed\", \"x\": [0.600049614906311, -0.7809175252914429, 0.875862717628479, 0.3285384774208069, -1.0524287223815918, -0.5754570960998535, 0.6043525338172913], \"y\": [0.9487466549826715, 0.8040210209238144, -0.2518552861845899, 0.2520289352198932, 0.10461841787931066, -0.9142927423803746, -0.9432672517824114], \"z\": [0.34083195541367295, -0.2156650869418333, -0.6894310995111634, 0.9103837801734684, 0.34571149473127266, -0.5881089769115369, -0.10372197264211631], \"type\": \"scatter3d\"}, {\"mode\": \"lines\", \"name\": \"Reconstructed\", \"x\": [0.600049614906311, -0.7809175252914429, null, 0.600049614906311, 0.875862717628479, null, 0.600049614906311, 0.3285384774208069, null, -0.7809175252914429, -1.0524287223815918, null, 0.875862717628479, 0.6043525338172913, null, 0.3285384774208069, -1.0524287223815918, null, 0.3285384774208069, 0.6043525338172913, null, -1.0524287223815918, -0.5754570960998535, null, -0.5754570960998535, 0.6043525338172913, null], \"y\": [0.9487466549826715, 0.8040210209238144, null, 0.9487466549826715, -0.2518552861845899, null, 0.9487466549826715, 0.2520289352198932, null, 0.8040210209238144, 0.10461841787931066, null, -0.2518552861845899, -0.9432672517824114, null, 0.2520289352198932, 0.10461841787931066, null, 0.2520289352198932, -0.9432672517824114, null, 0.10461841787931066, -0.9142927423803746, null, -0.9142927423803746, -0.9432672517824114, null], \"z\": [0.34083195541367295, -0.2156650869418333, null, 0.34083195541367295, -0.6894310995111634, null, 0.34083195541367295, 0.9103837801734684, null, -0.2156650869418333, 0.34571149473127266, null, -0.6894310995111634, -0.10372197264211631, null, 0.9103837801734684, 0.34571149473127266, null, 0.9103837801734684, -0.10372197264211631, null, 0.34571149473127266, -0.5881089769115369, null, -0.5881089769115369, -0.10372197264211631, null], \"type\": \"scatter3d\"}], \"traces\": [0, 1, 2, 3]}, {\"data\": [{\"mode\": \"markers\", \"name\": \"Original\", \"x\": [0.600049614906311, -0.7809175252914429, 0.875862717628479, 0.3285384774208069, -1.0524287223815918, -0.5754570960998535, 0.6043525338172913], \"y\": [0.9078461897521486, 0.7588493445084143, -0.21233422319681355, 0.2132455417837728, 0.06424857241513073, -0.8249191056428964, -0.9069358607036748], \"z\": [0.33336008732321326, -0.3848114959788674, -0.722178847375726, 0.9995521911759703, 0.2813796548269004, -0.45131128125874287, -0.055987472026159786], \"type\": \"scatter3d\"}, {\"mode\": \"lines\", \"name\": \"Original\", \"x\": [0.600049614906311, -0.7809175252914429, null, 0.600049614906311, 0.875862717628479, null, 0.600049614906311, 0.3285384774208069, null, -0.7809175252914429, -1.0524287223815918, null, 0.875862717628479, 0.6043525338172913, null, 0.3285384774208069, -1.0524287223815918, null, 0.3285384774208069, 0.6043525338172913, null, -1.0524287223815918, -0.5754570960998535, null, -0.5754570960998535, 0.6043525338172913, null], \"y\": [0.9078461897521486, 0.7588493445084143, null, 0.9078461897521486, -0.21233422319681355, null, 0.9078461897521486, 0.2132455417837728, null, 0.7588493445084143, 0.06424857241513073, null, -0.21233422319681355, -0.9069358607036748, null, 0.2132455417837728, 0.06424857241513073, null, 0.2132455417837728, -0.9069358607036748, null, 0.06424857241513073, -0.8249191056428964, null, -0.8249191056428964, -0.9069358607036748, null], \"z\": [0.33336008732321326, -0.3848114959788674, null, 0.33336008732321326, -0.722178847375726, null, 0.33336008732321326, 0.9995521911759703, null, -0.3848114959788674, 0.2813796548269004, null, -0.722178847375726, -0.055987472026159786, null, 0.9995521911759703, 0.2813796548269004, null, 0.9995521911759703, -0.055987472026159786, null, 0.2813796548269004, -0.45131128125874287, null, -0.45131128125874287, -0.055987472026159786, null], \"type\": \"scatter3d\"}, {\"mode\": \"markers\", \"name\": \"Reconstructed\", \"x\": [0.600049614906311, -0.7809175252914429, 0.875862717628479, 0.3285384774208069, -1.0524287223815918, -0.5754570960998535, 0.6043525338172913], \"y\": [0.9252196224634275, 0.8160805916322138, -0.20762179734710143, 0.19378141170448776, 0.08248140909093303, -0.8751517987896134, -0.9347896955716231], \"z\": [0.40031898203876, -0.1642367187148394, -0.7040167010935554, 0.9245355460277463, 0.35165077577516446, -0.6449129527065375, -0.1633388531459292], \"type\": \"scatter3d\"}, {\"mode\": \"lines\", \"name\": \"Reconstructed\", \"x\": [0.600049614906311, -0.7809175252914429, null, 0.600049614906311, 0.875862717628479, null, 0.600049614906311, 0.3285384774208069, null, -0.7809175252914429, -1.0524287223815918, null, 0.875862717628479, 0.6043525338172913, null, 0.3285384774208069, -1.0524287223815918, null, 0.3285384774208069, 0.6043525338172913, null, -1.0524287223815918, -0.5754570960998535, null, -0.5754570960998535, 0.6043525338172913, null], \"y\": [0.9252196224634275, 0.8160805916322138, null, 0.9252196224634275, -0.20762179734710143, null, 0.9252196224634275, 0.19378141170448776, null, 0.8160805916322138, 0.08248140909093303, null, -0.20762179734710143, -0.9347896955716231, null, 0.19378141170448776, 0.08248140909093303, null, 0.19378141170448776, -0.9347896955716231, null, 0.08248140909093303, -0.8751517987896134, null, -0.8751517987896134, -0.9347896955716231, null], \"z\": [0.40031898203876, -0.1642367187148394, null, 0.40031898203876, -0.7040167010935554, null, 0.40031898203876, 0.9245355460277463, null, -0.1642367187148394, 0.35165077577516446, null, -0.7040167010935554, -0.1633388531459292, null, 0.9245355460277463, 0.35165077577516446, null, 0.9245355460277463, -0.1633388531459292, null, 0.35165077577516446, -0.6449129527065375, null, -0.6449129527065375, -0.1633388531459292, null], \"type\": \"scatter3d\"}], \"traces\": [0, 1, 2, 3]}, {\"data\": [{\"mode\": \"markers\", \"name\": \"Original\", \"x\": [0.600049614906311, -0.7809175252914429, 0.875862717628479, 0.3285384774208069, -1.0524287223815918, -0.5754570960998535, 0.6043525338172913], \"y\": [0.8848753982633174, 0.7817277886727069, -0.16610331251579835, 0.14942069165154537, 0.04627301863190613, -0.7946343461560575, -0.9015589604692669], \"z\": [0.39026808941542984, -0.3359075460825849, -0.7341919364231708, 1.011064637341111, 0.2848880428424106, -0.5027222487171413, -0.11339617829437745], \"type\": \"scatter3d\"}, {\"mode\": \"lines\", \"name\": \"Original\", \"x\": [0.600049614906311, -0.7809175252914429, null, 0.600049614906311, 0.875862717628479, null, 0.600049614906311, 0.3285384774208069, null, -0.7809175252914429, -1.0524287223815918, null, 0.875862717628479, 0.6043525338172913, null, 0.3285384774208069, -1.0524287223815918, null, 0.3285384774208069, 0.6043525338172913, null, -1.0524287223815918, -0.5754570960998535, null, -0.5754570960998535, 0.6043525338172913, null], \"y\": [0.8848753982633174, 0.7817277886727069, null, 0.8848753982633174, -0.16610331251579835, null, 0.8848753982633174, 0.14942069165154537, null, 0.7817277886727069, 0.04627301863190613, null, -0.16610331251579835, -0.9015589604692669, null, 0.14942069165154537, 0.04627301863190613, null, 0.14942069165154537, -0.9015589604692669, null, 0.04627301863190613, -0.7946343461560575, null, -0.7946343461560575, -0.9015589604692669, null], \"z\": [0.39026808941542984, -0.3359075460825849, null, 0.39026808941542984, -0.7341919364231708, null, 0.39026808941542984, 1.011064637341111, null, -0.3359075460825849, 0.2848880428424106, null, -0.7341919364231708, -0.11339617829437745, null, 1.011064637341111, 0.2848880428424106, null, 1.011064637341111, -0.11339617829437745, null, 0.2848880428424106, -0.5027222487171413, null, -0.5027222487171413, -0.11339617829437745, null], \"type\": \"scatter3d\"}, {\"mode\": \"markers\", \"name\": \"Reconstructed\", \"x\": [0.600049614906311, -0.7809175252914429, 0.875862717628479, 0.3285384774208069, -1.0524287223815918, -0.5754570960998535, 0.6043525338172913], \"y\": [0.8979670570750233, 0.82485409382867, -0.16255228881051512, 0.13475359883808927, 0.06001227677944528, -0.8324869277844998, -0.9225480711849656], \"z\": [0.458194065413268, -0.1121470271879066, -0.7157674758989516, 0.9349645335472306, 0.3561740832579598, -0.6991200916589978, -0.2222980257375547], \"type\": \"scatter3d\"}, {\"mode\": \"lines\", \"name\": \"Reconstructed\", \"x\": [0.600049614906311, -0.7809175252914429, null, 0.600049614906311, 0.875862717628479, null, 0.600049614906311, 0.3285384774208069, null, -0.7809175252914429, -1.0524287223815918, null, 0.875862717628479, 0.6043525338172913, null, 0.3285384774208069, -1.0524287223815918, null, 0.3285384774208069, 0.6043525338172913, null, -1.0524287223815918, -0.5754570960998535, null, -0.5754570960998535, 0.6043525338172913, null], \"y\": [0.8979670570750233, 0.82485409382867, null, 0.8979670570750233, -0.16255228881051512, null, 0.8979670570750233, 0.13475359883808927, null, 0.82485409382867, 0.06001227677944528, null, -0.16255228881051512, -0.9225480711849656, null, 0.13475359883808927, 0.06001227677944528, null, 0.13475359883808927, -0.9225480711849656, null, 0.06001227677944528, -0.8324869277844998, null, -0.8324869277844998, -0.9225480711849656, null], \"z\": [0.458194065413268, -0.1121470271879066, null, 0.458194065413268, -0.7157674758989516, null, 0.458194065413268, 0.9349645335472306, null, -0.1121470271879066, 0.3561740832579598, null, -0.7157674758989516, -0.2222980257375547, null, 0.9349645335472306, 0.3561740832579598, null, 0.9349645335472306, -0.2222980257375547, null, 0.3561740832579598, -0.6991200916589978, null, -0.6991200916589978, -0.2222980257375547, null], \"type\": \"scatter3d\"}], \"traces\": [0, 1, 2, 3]}, {\"data\": [{\"mode\": \"markers\", \"name\": \"Original\", \"x\": [0.600049614906311, -0.7809175252914429, 0.875862717628479, 0.3285384774208069, -1.0524287223815918, -0.5754570960998535, 0.6043525338172913], \"y\": [0.858341525856938, 0.8014584909379658, -0.11920356242041183, 0.0849941771311401, 0.0281111397344247, -0.7611498746184894, -0.8925518005006667], \"z\": [0.44560461965425996, -0.28565101505470386, -0.7432486936711086, 1.0185058830606422, 0.2872492872588539, -0.5521089311126401, -0.1703482781750774], \"type\": \"scatter3d\"}, {\"mode\": \"lines\", \"name\": \"Original\", \"x\": [0.600049614906311, -0.7809175252914429, null, 0.600049614906311, 0.875862717628479, null, 0.600049614906311, 0.3285384774208069, null, -0.7809175252914429, -1.0524287223815918, null, 0.875862717628479, 0.6043525338172913, null, 0.3285384774208069, -1.0524287223815918, null, 0.3285384774208069, 0.6043525338172913, null, -1.0524287223815918, -0.5754570960998535, null, -0.5754570960998535, 0.6043525338172913, null], \"y\": [0.858341525856938, 0.8014584909379658, null, 0.858341525856938, -0.11920356242041183, null, 0.858341525856938, 0.0849941771311401, null, 0.8014584909379658, 0.0281111397344247, null, -0.11920356242041183, -0.8925518005006667, null, 0.0849941771311401, 0.0281111397344247, null, 0.0849941771311401, -0.8925518005006667, null, 0.0281111397344247, -0.7611498746184894, null, -0.7611498746184894, -0.8925518005006667, null], \"z\": [0.44560461965425996, -0.28565101505470386, null, 0.44560461965425996, -0.7432486936711086, null, 0.44560461965425996, 1.0185058830606422, null, -0.28565101505470386, 0.2872492872588539, null, -0.7432486936711086, -0.1703482781750774, null, 1.0185058830606422, 0.2872492872588539, null, 1.0185058830606422, -0.1703482781750774, null, 0.2872492872588539, -0.5521089311126401, null, -0.5521089311126401, -0.1703482781750774, null], \"type\": \"scatter3d\"}, {\"mode\": \"markers\", \"name\": \"Reconstructed\", \"x\": [0.600049614906311, -0.7809175252914429, 0.875862717628479, 0.3285384774208069, -1.0524287223815918, -0.5754570960998535, 0.6043525338172913], \"y\": [0.8670986952796557, 0.8303061997163906, -0.11682823957870697, 0.07518318078961364, 0.03730149621032617, -0.7864699257422725, -0.9065916713232398], \"z\": [0.5142241630030963, -0.059605759164083304, -0.7246361077045731, 0.9416287488800262, 0.3592632034168986, -0.7505121207524266, -0.2803620826382372], \"type\": \"scatter3d\"}, {\"mode\": \"lines\", \"name\": \"Reconstructed\", \"x\": [0.600049614906311, -0.7809175252914429, null, 0.600049614906311, 0.875862717628479, null, 0.600049614906311, 0.3285384774208069, null, -0.7809175252914429, -1.0524287223815918, null, 0.875862717628479, 0.6043525338172913, null, 0.3285384774208069, -1.0524287223815918, null, 0.3285384774208069, 0.6043525338172913, null, -1.0524287223815918, -0.5754570960998535, null, -0.5754570960998535, 0.6043525338172913, null], \"y\": [0.8670986952796557, 0.8303061997163906, null, 0.8670986952796557, -0.11682823957870697, null, 0.8670986952796557, 0.07518318078961364, null, 0.8303061997163906, 0.03730149621032617, null, -0.11682823957870697, -0.9065916713232398, null, 0.07518318078961364, 0.03730149621032617, null, 0.07518318078961364, -0.9065916713232398, null, 0.03730149621032617, -0.7864699257422725, null, -0.7864699257422725, -0.9065916713232398, null], \"z\": [0.5142241630030963, -0.059605759164083304, null, 0.5142241630030963, -0.7246361077045731, null, 0.5142241630030963, 0.9416287488800262, null, -0.059605759164083304, 0.3592632034168986, null, -0.7246361077045731, -0.2803620826382372, null, 0.9416287488800262, 0.3592632034168986, null, 0.9416287488800262, -0.2803620826382372, null, 0.3592632034168986, -0.7505121207524266, null, -0.7505121207524266, -0.2803620826382372, null], \"type\": \"scatter3d\"}], \"traces\": [0, 1, 2, 3]}, {\"data\": [{\"mode\": \"markers\", \"name\": \"Original\", \"x\": [0.600049614906311, -0.7809175252914429, 0.875862717628479, 0.3285384774208069, -1.0524287223815918, -0.5754570960998535, 0.6043525338172913], \"y\": [0.828351415072226, 0.817962002729998, -0.07182382165131289, 0.020225421057592945, 0.009836067198884337, -0.7246005211789381, -0.8799506494520466], \"z\": [0.4991468573631163, -0.23424426820794333, -0.7493126507546278, 1.0218459650643934, 0.28845388017835183, -0.5992724657059554, -0.2266144456629296], \"type\": \"scatter3d\"}, {\"mode\": \"lines\", \"name\": \"Original\", \"x\": [0.600049614906311, -0.7809175252914429, null, 0.600049614906311, 0.875862717628479, null, 0.600049614906311, 0.3285384774208069, null, -0.7809175252914429, -1.0524287223815918, null, 0.875862717628479, 0.6043525338172913, null, 0.3285384774208069, -1.0524287223815918, null, 0.3285384774208069, 0.6043525338172913, null, -1.0524287223815918, -0.5754570960998535, null, -0.5754570960998535, 0.6043525338172913, null], \"y\": [0.828351415072226, 0.817962002729998, null, 0.828351415072226, -0.07182382165131289, null, 0.828351415072226, 0.020225421057592945, null, 0.817962002729998, 0.009836067198884337, null, -0.07182382165131289, -0.8799506494520466, null, 0.020225421057592945, 0.009836067198884337, null, 0.020225421057592945, -0.8799506494520466, null, 0.009836067198884337, -0.7246005211789381, null, -0.7246005211789381, -0.8799506494520466, null], \"z\": [0.4991468573631163, -0.23424426820794333, null, 0.4991468573631163, -0.7493126507546278, null, 0.4991468573631163, 1.0218459650643934, null, -0.23424426820794333, 0.28845388017835183, null, -0.7493126507546278, -0.2266144456629296, null, 1.0218459650643934, 0.28845388017835183, null, 1.0218459650643934, -0.2266144456629296, null, 0.28845388017835183, -0.5992724657059554, null, -0.5992724657059554, -0.2266144456629296, null], \"type\": \"scatter3d\"}, {\"mode\": \"markers\", \"name\": \"Reconstructed\", \"x\": [0.600049614906311, -0.7809175252914429, 0.875862717628479, 0.3285384774208069, -1.0524287223815918, -0.5754570960998535, 0.6043525338172913], \"y\": [0.8327388330754785, 0.8324149555892526, -0.07063376425991454, 0.015310026607533429, 0.01444051568129872, -0.7372860868887408, -0.8869847467769765], \"z\": [0.5681836613807252, -0.006824479785587496, -0.7305868856602671, 0.9445013575830814, 0.36090569745538653, -0.7988821024241618, -0.3372972203841857], \"type\": \"scatter3d\"}, {\"mode\": \"lines\", \"name\": \"Reconstructed\", \"x\": [0.600049614906311, -0.7809175252914429, null, 0.600049614906311, 0.875862717628479, null, 0.600049614906311, 0.3285384774208069, null, -0.7809175252914429, -1.0524287223815918, null, 0.875862717628479, 0.6043525338172913, null, 0.3285384774208069, -1.0524287223815918, null, 0.3285384774208069, 0.6043525338172913, null, -1.0524287223815918, -0.5754570960998535, null, -0.5754570960998535, 0.6043525338172913, null], \"y\": [0.8327388330754785, 0.8324149555892526, null, 0.8327388330754785, -0.07063376425991454, null, 0.8327388330754785, 0.015310026607533429, null, 0.8324149555892526, 0.01444051568129872, null, -0.07063376425991454, -0.8869847467769765, null, 0.015310026607533429, 0.01444051568129872, null, 0.015310026607533429, -0.8869847467769765, null, 0.01444051568129872, -0.7372860868887408, null, -0.7372860868887408, -0.8869847467769765, null], \"z\": [0.5681836613807252, -0.006824479785587496, null, 0.5681836613807252, -0.7305868856602671, null, 0.5681836613807252, 0.9445013575830814, null, -0.006824479785587496, 0.36090569745538653, null, -0.7305868856602671, -0.3372972203841857, null, 0.9445013575830814, 0.36090569745538653, null, 0.9445013575830814, -0.3372972203841857, null, 0.36090569745538653, -0.7988821024241618, null, -0.7988821024241618, -0.3372972203841857, null], \"type\": \"scatter3d\"}], \"traces\": [0, 1, 2, 3]}, {\"data\": [{\"mode\": \"markers\", \"name\": \"Original\", \"x\": [0.600049614906311, -0.7809175252914429, 0.875862717628479, 0.3285384774208069, -1.0524287223815918, -0.5754570960998535, 0.6043525338172913], \"y\": [0.7950258255004884, 0.8311718702316284, -0.024154871702194398, -0.044624775648116816, -0.008478611707687307, -0.685133457183838, -0.8638062477111818], \"z\": [0.5506792068481443, -0.18189430236816426, -0.7523593902587891, 1.021071434020996, 0.2884969711303711, -0.6440229415893552, -0.2819681167602537], \"type\": \"scatter3d\"}, {\"mode\": \"lines\", \"name\": \"Original\", \"x\": [0.600049614906311, -0.7809175252914429, null, 0.600049614906311, 0.875862717628479, null, 0.600049614906311, 0.3285384774208069, null, -0.7809175252914429, -1.0524287223815918, null, 0.875862717628479, 0.6043525338172913, null, 0.3285384774208069, -1.0524287223815918, null, 0.3285384774208069, 0.6043525338172913, null, -1.0524287223815918, -0.5754570960998535, null, -0.5754570960998535, 0.6043525338172913, null], \"y\": [0.7950258255004884, 0.8311718702316284, null, 0.7950258255004884, -0.024154871702194398, null, 0.7950258255004884, -0.044624775648116816, null, 0.8311718702316284, -0.008478611707687307, null, -0.024154871702194398, -0.8638062477111818, null, -0.044624775648116816, -0.008478611707687307, null, -0.044624775648116816, -0.8638062477111818, null, -0.008478611707687307, -0.685133457183838, null, -0.685133457183838, -0.8638062477111818, null], \"z\": [0.5506792068481443, -0.18189430236816426, null, 0.5506792068481443, -0.7523593902587891, null, 0.5506792068481443, 1.021071434020996, null, -0.18189430236816426, 0.2884969711303711, null, -0.7523593902587891, -0.2819681167602537, null, 1.021071434020996, 0.2884969711303711, null, 1.021071434020996, -0.2819681167602537, null, 0.2884969711303711, -0.6440229415893552, null, -0.6440229415893552, -0.2819681167602537, null], \"type\": \"scatter3d\"}, {\"mode\": \"markers\", \"name\": \"Reconstructed\", \"x\": [0.600049614906311, -0.7809175252914429, 0.875862717628479, 0.3285384774208069, -1.0524287223815918, -0.5754570960998535, 0.6043525338172913], \"y\": [0.7950258255004884, 0.8311718702316284, -0.024154871702194394, -0.044624775648116836, -0.00847861170768729, -0.6851334571838381, -0.8638062477111818], \"z\": [0.6198552846908567, 0.04598427936434726, -0.7335958480834961, 0.9435707926750183, 0.36109495162963867, -0.8440352678298948, -0.39287418127059914], \"type\": \"scatter3d\"}, {\"mode\": \"lines\", \"name\": \"Reconstructed\", \"x\": [0.600049614906311, -0.7809175252914429, null, 0.600049614906311, 0.875862717628479, null, 0.600049614906311, 0.3285384774208069, null, -0.7809175252914429, -1.0524287223815918, null, 0.875862717628479, 0.6043525338172913, null, 0.3285384774208069, -1.0524287223815918, null, 0.3285384774208069, 0.6043525338172913, null, -1.0524287223815918, -0.5754570960998535, null, -0.5754570960998535, 0.6043525338172913, null], \"y\": [0.7950258255004884, 0.8311718702316284, null, 0.7950258255004884, -0.024154871702194394, null, 0.7950258255004884, -0.044624775648116836, null, 0.8311718702316284, -0.00847861170768729, null, -0.024154871702194394, -0.8638062477111818, null, -0.044624775648116836, -0.00847861170768729, null, -0.044624775648116836, -0.8638062477111818, null, -0.00847861170768729, -0.6851334571838381, null, -0.6851334571838381, -0.8638062477111818, null], \"z\": [0.6198552846908567, 0.04598427936434726, null, 0.6198552846908567, -0.7335958480834961, null, 0.6198552846908567, 0.9435707926750183, null, 0.04598427936434726, 0.36109495162963867, null, -0.7335958480834961, -0.39287418127059914, null, 0.9435707926750183, 0.36109495162963867, null, 0.9435707926750183, -0.39287418127059914, null, 0.36109495162963867, -0.8440352678298948, null, -0.8440352678298948, -0.39287418127059914, null], \"type\": \"scatter3d\"}], \"traces\": [0, 1, 2, 3]}]);\n",
       "                        }).then(function(){\n",
       "                            \n",
       "var gd = document.getElementById('25cabbf6-29df-4d90-b203-a0a799c591f7');\n",
       "var x = new MutationObserver(function (mutations, observer) {{\n",
       "        var display = window.getComputedStyle(gd).display;\n",
       "        if (!display || display === 'none') {{\n",
       "            console.log([gd, 'removed!']);\n",
       "            Plotly.purge(gd);\n",
       "            observer.disconnect();\n",
       "        }}\n",
       "}});\n",
       "\n",
       "// Listen for the removal of the full notebook cells\n",
       "var notebookContainer = gd.closest('#notebook-container');\n",
       "if (notebookContainer) {{\n",
       "    x.observe(notebookContainer, {childList: true});\n",
       "}}\n",
       "\n",
       "// Listen for the clearing of the current output cell\n",
       "var outputEl = gd.closest('.output');\n",
       "if (outputEl) {{\n",
       "    x.observe(outputEl, {childList: true});\n",
       "}}\n",
       "\n",
       "                        })\n",
       "                };\n",
       "                \n",
       "            </script>\n",
       "        </div>\n",
       "</body>\n",
       "</html>"
      ]
     },
     "metadata": {
      "tags": []
     },
     "output_type": "display_data"
    }
   ],
   "source": [
    "compare3D(xyz_original, xyz_new, conn, center_at_origin=True, am='cube', nframes=100, tp360=6)"
   ]
  },
  {
   "cell_type": "code",
   "execution_count": 171,
   "metadata": {
    "colab": {
     "base_uri": "https://localhost:8080/",
     "height": 617
    },
    "id": "pqbPEmtFnodH",
    "outputId": "0b269b72-45b2-4a49-b43d-9510a066f585"
   },
   "outputs": [
    {
     "data": {
      "text/html": [
       "<html>\n",
       "<head><meta charset=\"utf-8\" /></head>\n",
       "<body>\n",
       "    <div>\n",
       "            <script src=\"https://cdnjs.cloudflare.com/ajax/libs/mathjax/2.7.5/MathJax.js?config=TeX-AMS-MML_SVG\"></script><script type=\"text/javascript\">if (window.MathJax) {MathJax.Hub.Config({SVG: {font: \"STIX-Web\"}});}</script>\n",
       "                <script type=\"text/javascript\">window.PlotlyConfig = {MathJaxConfig: 'local'};</script>\n",
       "        <script src=\"https://cdn.plot.ly/plotly-latest.min.js\"></script>    \n",
       "            <div id=\"651a31a5-0321-4f4c-a460-f6d6e00321bd\" class=\"plotly-graph-div\" style=\"height:600px; width:600px;\"></div>\n",
       "            <script type=\"text/javascript\">\n",
       "                \n",
       "                    window.PLOTLYENV=window.PLOTLYENV || {};\n",
       "                    \n",
       "                if (document.getElementById(\"651a31a5-0321-4f4c-a460-f6d6e00321bd\")) {\n",
       "                    Plotly.newPlot(\n",
       "                        '651a31a5-0321-4f4c-a460-f6d6e00321bd',\n",
       "                        [{\"mode\": \"markers+text\", \"name\": \"Vertices\", \"text\": [\"0\", \"1\", \"2\", \"3\", \"4\", \"5\", \"6\"], \"type\": \"scatter3d\", \"x\": [0.31581348180770874, -0.9045482277870178, 0.9082769751548767, -0.08009488135576248, -1.3004566431045532, -0.9564786553382874, 0.5123681426048279], \"y\": [0.58154296875, 0.49177002906799316, -0.1883234977722168, -0.10161113739013672, -0.19138407707214355, -0.979529619216919, -0.8714768886566162], \"z\": [-10.466708183288574, -11.354000091552734, -10.941537857055664, -9.853065490722656, -10.740357398986816, -11.395853042602539, -10.327895164489746]}, {\"mode\": \"lines\", \"name\": \"Edges\", \"type\": \"scatter3d\", \"x\": [0.31581348180770874, -0.9045482277870178, null, 0.31581348180770874, 0.9082769751548767, null, 0.31581348180770874, -0.08009488135576248, null, -0.9045482277870178, -1.3004566431045532, null, 0.9082769751548767, 0.5123681426048279, null, -0.08009488135576248, -1.3004566431045532, null, -0.08009488135576248, 0.5123681426048279, null, -1.3004566431045532, -0.9564786553382874, null, -0.9564786553382874, 0.5123681426048279, null], \"y\": [0.58154296875, 0.49177002906799316, null, 0.58154296875, -0.1883234977722168, null, 0.58154296875, -0.10161113739013672, null, 0.49177002906799316, -0.19138407707214355, null, -0.1883234977722168, -0.8714768886566162, null, -0.10161113739013672, -0.19138407707214355, null, -0.10161113739013672, -0.8714768886566162, null, -0.19138407707214355, -0.979529619216919, null, -0.979529619216919, -0.8714768886566162, null], \"z\": [-10.466708183288574, -11.354000091552734, null, -10.466708183288574, -10.941537857055664, null, -10.466708183288574, -9.853065490722656, null, -11.354000091552734, -10.740357398986816, null, -10.941537857055664, -10.327895164489746, null, -9.853065490722656, -10.740357398986816, null, -9.853065490722656, -10.327895164489746, null, -10.740357398986816, -11.395853042602539, null, -11.395853042602539, -10.327895164489746, null]}],\n",
       "                        {\"height\": 600, \"scene\": {\"aspectmode\": \"data\", \"aspectratio\": {\"x\": 1, \"y\": 1, \"z\": 1}}, \"template\": {\"data\": {\"bar\": [{\"error_x\": {\"color\": \"#2a3f5f\"}, \"error_y\": {\"color\": \"#2a3f5f\"}, \"marker\": {\"line\": {\"color\": \"#E5ECF6\", \"width\": 0.5}}, \"type\": \"bar\"}], \"barpolar\": [{\"marker\": {\"line\": {\"color\": \"#E5ECF6\", \"width\": 0.5}}, \"type\": \"barpolar\"}], \"carpet\": [{\"aaxis\": {\"endlinecolor\": \"#2a3f5f\", \"gridcolor\": \"white\", \"linecolor\": \"white\", \"minorgridcolor\": \"white\", \"startlinecolor\": \"#2a3f5f\"}, \"baxis\": {\"endlinecolor\": \"#2a3f5f\", \"gridcolor\": \"white\", \"linecolor\": \"white\", \"minorgridcolor\": \"white\", \"startlinecolor\": \"#2a3f5f\"}, \"type\": \"carpet\"}], \"choropleth\": [{\"colorbar\": {\"outlinewidth\": 0, \"ticks\": \"\"}, \"type\": \"choropleth\"}], \"contour\": [{\"colorbar\": {\"outlinewidth\": 0, \"ticks\": \"\"}, \"colorscale\": [[0.0, \"#0d0887\"], [0.1111111111111111, \"#46039f\"], [0.2222222222222222, \"#7201a8\"], [0.3333333333333333, \"#9c179e\"], [0.4444444444444444, \"#bd3786\"], [0.5555555555555556, \"#d8576b\"], [0.6666666666666666, \"#ed7953\"], [0.7777777777777778, \"#fb9f3a\"], [0.8888888888888888, \"#fdca26\"], [1.0, \"#f0f921\"]], \"type\": \"contour\"}], \"contourcarpet\": [{\"colorbar\": {\"outlinewidth\": 0, \"ticks\": \"\"}, \"type\": \"contourcarpet\"}], \"heatmap\": [{\"colorbar\": {\"outlinewidth\": 0, \"ticks\": \"\"}, \"colorscale\": [[0.0, \"#0d0887\"], [0.1111111111111111, \"#46039f\"], [0.2222222222222222, \"#7201a8\"], [0.3333333333333333, \"#9c179e\"], [0.4444444444444444, \"#bd3786\"], [0.5555555555555556, \"#d8576b\"], [0.6666666666666666, \"#ed7953\"], [0.7777777777777778, \"#fb9f3a\"], [0.8888888888888888, \"#fdca26\"], [1.0, \"#f0f921\"]], \"type\": \"heatmap\"}], \"heatmapgl\": [{\"colorbar\": {\"outlinewidth\": 0, \"ticks\": \"\"}, \"colorscale\": [[0.0, \"#0d0887\"], [0.1111111111111111, \"#46039f\"], [0.2222222222222222, \"#7201a8\"], [0.3333333333333333, \"#9c179e\"], [0.4444444444444444, \"#bd3786\"], [0.5555555555555556, \"#d8576b\"], [0.6666666666666666, \"#ed7953\"], [0.7777777777777778, \"#fb9f3a\"], [0.8888888888888888, \"#fdca26\"], [1.0, \"#f0f921\"]], \"type\": \"heatmapgl\"}], \"histogram\": [{\"marker\": {\"colorbar\": {\"outlinewidth\": 0, \"ticks\": \"\"}}, \"type\": \"histogram\"}], \"histogram2d\": [{\"colorbar\": {\"outlinewidth\": 0, \"ticks\": \"\"}, \"colorscale\": [[0.0, \"#0d0887\"], [0.1111111111111111, \"#46039f\"], [0.2222222222222222, \"#7201a8\"], [0.3333333333333333, \"#9c179e\"], [0.4444444444444444, \"#bd3786\"], [0.5555555555555556, \"#d8576b\"], [0.6666666666666666, \"#ed7953\"], [0.7777777777777778, \"#fb9f3a\"], [0.8888888888888888, \"#fdca26\"], [1.0, \"#f0f921\"]], \"type\": \"histogram2d\"}], \"histogram2dcontour\": [{\"colorbar\": {\"outlinewidth\": 0, \"ticks\": \"\"}, \"colorscale\": [[0.0, \"#0d0887\"], [0.1111111111111111, \"#46039f\"], [0.2222222222222222, \"#7201a8\"], [0.3333333333333333, \"#9c179e\"], [0.4444444444444444, \"#bd3786\"], [0.5555555555555556, \"#d8576b\"], [0.6666666666666666, \"#ed7953\"], [0.7777777777777778, \"#fb9f3a\"], [0.8888888888888888, \"#fdca26\"], [1.0, \"#f0f921\"]], \"type\": \"histogram2dcontour\"}], \"mesh3d\": [{\"colorbar\": {\"outlinewidth\": 0, \"ticks\": \"\"}, \"type\": \"mesh3d\"}], \"parcoords\": [{\"line\": {\"colorbar\": {\"outlinewidth\": 0, \"ticks\": \"\"}}, \"type\": \"parcoords\"}], \"pie\": [{\"automargin\": true, \"type\": \"pie\"}], \"scatter\": [{\"marker\": {\"colorbar\": {\"outlinewidth\": 0, \"ticks\": \"\"}}, \"type\": \"scatter\"}], \"scatter3d\": [{\"line\": {\"colorbar\": {\"outlinewidth\": 0, \"ticks\": \"\"}}, \"marker\": {\"colorbar\": {\"outlinewidth\": 0, \"ticks\": \"\"}}, \"type\": \"scatter3d\"}], \"scattercarpet\": [{\"marker\": {\"colorbar\": {\"outlinewidth\": 0, \"ticks\": \"\"}}, \"type\": \"scattercarpet\"}], \"scattergeo\": [{\"marker\": {\"colorbar\": {\"outlinewidth\": 0, \"ticks\": \"\"}}, \"type\": \"scattergeo\"}], \"scattergl\": [{\"marker\": {\"colorbar\": {\"outlinewidth\": 0, \"ticks\": \"\"}}, \"type\": \"scattergl\"}], \"scattermapbox\": [{\"marker\": {\"colorbar\": {\"outlinewidth\": 0, \"ticks\": \"\"}}, \"type\": \"scattermapbox\"}], \"scatterpolar\": [{\"marker\": {\"colorbar\": {\"outlinewidth\": 0, \"ticks\": \"\"}}, \"type\": \"scatterpolar\"}], \"scatterpolargl\": [{\"marker\": {\"colorbar\": {\"outlinewidth\": 0, \"ticks\": \"\"}}, \"type\": \"scatterpolargl\"}], \"scatterternary\": [{\"marker\": {\"colorbar\": {\"outlinewidth\": 0, \"ticks\": \"\"}}, \"type\": \"scatterternary\"}], \"surface\": [{\"colorbar\": {\"outlinewidth\": 0, \"ticks\": \"\"}, \"colorscale\": [[0.0, \"#0d0887\"], [0.1111111111111111, \"#46039f\"], [0.2222222222222222, \"#7201a8\"], [0.3333333333333333, \"#9c179e\"], [0.4444444444444444, \"#bd3786\"], [0.5555555555555556, \"#d8576b\"], [0.6666666666666666, \"#ed7953\"], [0.7777777777777778, \"#fb9f3a\"], [0.8888888888888888, \"#fdca26\"], [1.0, \"#f0f921\"]], \"type\": \"surface\"}], \"table\": [{\"cells\": {\"fill\": {\"color\": \"#EBF0F8\"}, \"line\": {\"color\": \"white\"}}, \"header\": {\"fill\": {\"color\": \"#C8D4E3\"}, \"line\": {\"color\": \"white\"}}, \"type\": \"table\"}]}, \"layout\": {\"annotationdefaults\": {\"arrowcolor\": \"#2a3f5f\", \"arrowhead\": 0, \"arrowwidth\": 1}, \"coloraxis\": {\"colorbar\": {\"outlinewidth\": 0, \"ticks\": \"\"}}, \"colorscale\": {\"diverging\": [[0, \"#8e0152\"], [0.1, \"#c51b7d\"], [0.2, \"#de77ae\"], [0.3, \"#f1b6da\"], [0.4, \"#fde0ef\"], [0.5, \"#f7f7f7\"], [0.6, \"#e6f5d0\"], [0.7, \"#b8e186\"], [0.8, \"#7fbc41\"], [0.9, \"#4d9221\"], [1, \"#276419\"]], \"sequential\": [[0.0, \"#0d0887\"], [0.1111111111111111, \"#46039f\"], [0.2222222222222222, \"#7201a8\"], [0.3333333333333333, \"#9c179e\"], [0.4444444444444444, \"#bd3786\"], [0.5555555555555556, \"#d8576b\"], [0.6666666666666666, \"#ed7953\"], [0.7777777777777778, \"#fb9f3a\"], [0.8888888888888888, \"#fdca26\"], [1.0, \"#f0f921\"]], \"sequentialminus\": [[0.0, \"#0d0887\"], [0.1111111111111111, \"#46039f\"], [0.2222222222222222, \"#7201a8\"], [0.3333333333333333, \"#9c179e\"], [0.4444444444444444, \"#bd3786\"], [0.5555555555555556, \"#d8576b\"], [0.6666666666666666, \"#ed7953\"], [0.7777777777777778, \"#fb9f3a\"], [0.8888888888888888, \"#fdca26\"], [1.0, \"#f0f921\"]]}, \"colorway\": [\"#636efa\", \"#EF553B\", \"#00cc96\", \"#ab63fa\", \"#FFA15A\", \"#19d3f3\", \"#FF6692\", \"#B6E880\", \"#FF97FF\", \"#FECB52\"], \"font\": {\"color\": \"#2a3f5f\"}, \"geo\": {\"bgcolor\": \"white\", \"lakecolor\": \"white\", \"landcolor\": \"#E5ECF6\", \"showlakes\": true, \"showland\": true, \"subunitcolor\": \"white\"}, \"hoverlabel\": {\"align\": \"left\"}, \"hovermode\": \"closest\", \"mapbox\": {\"style\": \"light\"}, \"paper_bgcolor\": \"white\", \"plot_bgcolor\": \"#E5ECF6\", \"polar\": {\"angularaxis\": {\"gridcolor\": \"white\", \"linecolor\": \"white\", \"ticks\": \"\"}, \"bgcolor\": \"#E5ECF6\", \"radialaxis\": {\"gridcolor\": \"white\", \"linecolor\": \"white\", \"ticks\": \"\"}}, \"scene\": {\"xaxis\": {\"backgroundcolor\": \"#E5ECF6\", \"gridcolor\": \"white\", \"gridwidth\": 2, \"linecolor\": \"white\", \"showbackground\": true, \"ticks\": \"\", \"zerolinecolor\": \"white\"}, \"yaxis\": {\"backgroundcolor\": \"#E5ECF6\", \"gridcolor\": \"white\", \"gridwidth\": 2, \"linecolor\": \"white\", \"showbackground\": true, \"ticks\": \"\", \"zerolinecolor\": \"white\"}, \"zaxis\": {\"backgroundcolor\": \"#E5ECF6\", \"gridcolor\": \"white\", \"gridwidth\": 2, \"linecolor\": \"white\", \"showbackground\": true, \"ticks\": \"\", \"zerolinecolor\": \"white\"}}, \"shapedefaults\": {\"line\": {\"color\": \"#2a3f5f\"}}, \"ternary\": {\"aaxis\": {\"gridcolor\": \"white\", \"linecolor\": \"white\", \"ticks\": \"\"}, \"baxis\": {\"gridcolor\": \"white\", \"linecolor\": \"white\", \"ticks\": \"\"}, \"bgcolor\": \"#E5ECF6\", \"caxis\": {\"gridcolor\": \"white\", \"linecolor\": \"white\", \"ticks\": \"\"}}, \"title\": {\"x\": 0.05}, \"xaxis\": {\"automargin\": true, \"gridcolor\": \"white\", \"linecolor\": \"white\", \"ticks\": \"\", \"title\": {\"standoff\": 15}, \"zerolinecolor\": \"white\", \"zerolinewidth\": 2}, \"yaxis\": {\"automargin\": true, \"gridcolor\": \"white\", \"linecolor\": \"white\", \"ticks\": \"\", \"title\": {\"standoff\": 15}, \"zerolinecolor\": \"white\", \"zerolinewidth\": 2}}}, \"width\": 600},\n",
       "                        {\"responsive\": true}\n",
       "                    ).then(function(){\n",
       "                            \n",
       "var gd = document.getElementById('651a31a5-0321-4f4c-a460-f6d6e00321bd');\n",
       "var x = new MutationObserver(function (mutations, observer) {{\n",
       "        var display = window.getComputedStyle(gd).display;\n",
       "        if (!display || display === 'none') {{\n",
       "            console.log([gd, 'removed!']);\n",
       "            Plotly.purge(gd);\n",
       "            observer.disconnect();\n",
       "        }}\n",
       "}});\n",
       "\n",
       "// Listen for the removal of the full notebook cells\n",
       "var notebookContainer = gd.closest('#notebook-container');\n",
       "if (notebookContainer) {{\n",
       "    x.observe(notebookContainer, {childList: true});\n",
       "}}\n",
       "\n",
       "// Listen for the clearing of the current output cell\n",
       "var outputEl = gd.closest('.output');\n",
       "if (outputEl) {{\n",
       "    x.observe(outputEl, {childList: true});\n",
       "}}\n",
       "\n",
       "                        })\n",
       "                };\n",
       "                \n",
       "            </script>\n",
       "        </div>\n",
       "</body>\n",
       "</html>"
      ]
     },
     "metadata": {
      "tags": []
     },
     "output_type": "display_data"
    }
   ],
   "source": [
    "show3D(xyz_original, conn, am = 'data') "
   ]
  },
  {
   "cell_type": "code",
   "execution_count": 155,
   "metadata": {
    "id": "7Tg4sr_eIInr"
   },
   "outputs": [],
   "source": []
  },
  {
   "cell_type": "markdown",
   "metadata": {
    "id": "3LjAE96mCtVz"
   },
   "source": [
    "## Save Model\n",
    "\n",
    "[Save and Load Model](https://pytorch.org/tutorials/beginner/saving_loading_models.html)"
   ]
  },
  {
   "cell_type": "code",
   "execution_count": 131,
   "metadata": {
    "colab": {
     "base_uri": "https://localhost:8080/"
    },
    "id": "_PeIqlJhDVSp",
    "outputId": "6500c366-629b-4254-b15f-cebe33b6e3df"
   },
   "outputs": [
    {
     "data": {
      "text/plain": [
       "Arch4B(\n",
       "  (conv1): Conv2d(3, 32, kernel_size=(3, 3), stride=(1, 1), padding=(1, 1))\n",
       "  (conv2): Conv2d(32, 64, kernel_size=(3, 3), stride=(1, 1), padding=(1, 1))\n",
       "  (pool2): MaxPool2d(kernel_size=2, stride=2, padding=0, dilation=1, ceil_mode=False)\n",
       "  (fc0): Linear(in_features=1600, out_features=800, bias=True)\n",
       "  (fc1): Linear(in_features=800, out_features=400, bias=True)\n",
       "  (fc2): Linear(in_features=400, out_features=20, bias=True)\n",
       ")"
      ]
     },
     "execution_count": 131,
     "metadata": {
      "tags": []
     },
     "output_type": "execute_result"
    }
   ],
   "source": [
    "net"
   ]
  },
  {
   "cell_type": "code",
   "execution_count": 138,
   "metadata": {
    "id": "5Q2fuDksH8T6"
   },
   "outputs": [],
   "source": [
    "torch.save({'epoch': 150,\n",
    "            'model_state_dict': net.state_dict(),\n",
    "            'optimizer_state_dict': opt.state_dict(),\n",
    "            'loss': loss_hist_train[-1]}, \n",
    "            '/content/drive/MyDrive/239 Project /model_12_14_2020_Arch4B.pickle')"
   ]
  },
  {
   "cell_type": "code",
   "execution_count": 2,
   "metadata": {
    "id": "eWRe4Dr7_508"
   },
   "outputs": [],
   "source": []
  },
  {
   "cell_type": "code",
   "execution_count": null,
   "metadata": {
    "id": "G4lMXQpF0gVC"
   },
   "outputs": [],
   "source": []
  }
 ],
 "metadata": {
  "colab": {
   "authorship_tag": "ABX9TyNIW3p6yDE4gJRIAtbZ8Tml",
   "collapsed_sections": [],
   "include_colab_link": true,
   "name": "Arch_4.ipynb",
   "provenance": [],
   "toc_visible": true
  },
  "kernelspec": {
   "display_name": "Python 3",
   "language": "python",
   "name": "python3"
  },
  "language_info": {
   "codemirror_mode": {
    "name": "ipython",
    "version": 3
   },
   "file_extension": ".py",
   "mimetype": "text/x-python",
   "name": "python",
   "nbconvert_exporter": "python",
   "pygments_lexer": "ipython3",
   "version": "3.7.9"
  }
 },
 "nbformat": 4,
 "nbformat_minor": 4
}
